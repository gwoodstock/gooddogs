{
 "cells": [
  {
   "cell_type": "markdown",
   "metadata": {},
   "source": [
    "# Import Libraries"
   ]
  },
  {
   "cell_type": "code",
   "execution_count": 1,
   "metadata": {},
   "outputs": [],
   "source": [
    "import pandas as pd\n",
    "import missingno as mn\n",
    "import difflib"
   ]
  },
  {
   "cell_type": "markdown",
   "metadata": {},
   "source": [
    "# Import Data"
   ]
  },
  {
   "cell_type": "code",
   "execution_count": 2,
   "metadata": {},
   "outputs": [],
   "source": [
    "# reads in data and merges them into 1 dataframe\n",
    "intel = pd.read_csv('./datasets/raw_data/dog_intelligence.csv')\n",
    "info = pd.read_csv('./datasets/raw_data/akc_breed_info.csv', encoding=\"ISO-8859-1\")"
   ]
  },
  {
   "cell_type": "markdown",
   "metadata": {},
   "source": [
    "# Inspect Data"
   ]
  },
  {
   "cell_type": "code",
   "execution_count": 3,
   "metadata": {},
   "outputs": [
    {
     "data": {
      "text/html": [
       "<div>\n",
       "<style scoped>\n",
       "    .dataframe tbody tr th:only-of-type {\n",
       "        vertical-align: middle;\n",
       "    }\n",
       "\n",
       "    .dataframe tbody tr th {\n",
       "        vertical-align: top;\n",
       "    }\n",
       "\n",
       "    .dataframe thead th {\n",
       "        text-align: right;\n",
       "    }\n",
       "</style>\n",
       "<table border=\"1\" class=\"dataframe\">\n",
       "  <thead>\n",
       "    <tr style=\"text-align: right;\">\n",
       "      <th></th>\n",
       "      <th>Breed</th>\n",
       "      <th>Classification</th>\n",
       "      <th>obey</th>\n",
       "      <th>reps_lower</th>\n",
       "      <th>reps_upper</th>\n",
       "    </tr>\n",
       "  </thead>\n",
       "  <tbody>\n",
       "    <tr>\n",
       "      <th>0</th>\n",
       "      <td>Border Collie</td>\n",
       "      <td>Brightest Dogs</td>\n",
       "      <td>95%</td>\n",
       "      <td>1</td>\n",
       "      <td>4</td>\n",
       "    </tr>\n",
       "    <tr>\n",
       "      <th>1</th>\n",
       "      <td>Poodle</td>\n",
       "      <td>Brightest Dogs</td>\n",
       "      <td>95%</td>\n",
       "      <td>1</td>\n",
       "      <td>4</td>\n",
       "    </tr>\n",
       "  </tbody>\n",
       "</table>\n",
       "</div>"
      ],
      "text/plain": [
       "           Breed  Classification obey  reps_lower  reps_upper\n",
       "0  Border Collie  Brightest Dogs  95%           1           4\n",
       "1         Poodle  Brightest Dogs  95%           1           4"
      ]
     },
     "execution_count": 3,
     "metadata": {},
     "output_type": "execute_result"
    }
   ],
   "source": [
    "intel.head(2)"
   ]
  },
  {
   "cell_type": "code",
   "execution_count": 4,
   "metadata": {},
   "outputs": [
    {
     "data": {
      "text/html": [
       "<div>\n",
       "<style scoped>\n",
       "    .dataframe tbody tr th:only-of-type {\n",
       "        vertical-align: middle;\n",
       "    }\n",
       "\n",
       "    .dataframe tbody tr th {\n",
       "        vertical-align: top;\n",
       "    }\n",
       "\n",
       "    .dataframe thead th {\n",
       "        text-align: right;\n",
       "    }\n",
       "</style>\n",
       "<table border=\"1\" class=\"dataframe\">\n",
       "  <thead>\n",
       "    <tr style=\"text-align: right;\">\n",
       "      <th></th>\n",
       "      <th>Breed</th>\n",
       "      <th>height_low_inches</th>\n",
       "      <th>height_high_inches</th>\n",
       "      <th>weight_low_lbs</th>\n",
       "      <th>weight_high_lbs</th>\n",
       "    </tr>\n",
       "  </thead>\n",
       "  <tbody>\n",
       "    <tr>\n",
       "      <th>0</th>\n",
       "      <td>Akita</td>\n",
       "      <td>26.0</td>\n",
       "      <td>28.0</td>\n",
       "      <td>80</td>\n",
       "      <td>120</td>\n",
       "    </tr>\n",
       "    <tr>\n",
       "      <th>1</th>\n",
       "      <td>Anatolian Sheepdog</td>\n",
       "      <td>27.0</td>\n",
       "      <td>29.0</td>\n",
       "      <td>100</td>\n",
       "      <td>150</td>\n",
       "    </tr>\n",
       "  </tbody>\n",
       "</table>\n",
       "</div>"
      ],
      "text/plain": [
       "                Breed  height_low_inches  height_high_inches  weight_low_lbs  \\\n",
       "0               Akita               26.0                28.0              80   \n",
       "1  Anatolian Sheepdog               27.0                29.0             100   \n",
       "\n",
       "   weight_high_lbs  \n",
       "0              120  \n",
       "1              150  "
      ]
     },
     "execution_count": 4,
     "metadata": {},
     "output_type": "execute_result"
    }
   ],
   "source": [
    "info.head(2)"
   ]
  },
  {
   "cell_type": "code",
   "execution_count": 5,
   "metadata": {},
   "outputs": [],
   "source": [
    "# lowercase column names\n",
    "intel.columns = intel.columns.str.lower()\n",
    "info.columns = info.columns.str.lower()"
   ]
  },
  {
   "cell_type": "code",
   "execution_count": 6,
   "metadata": {},
   "outputs": [],
   "source": [
    "# lowercase all text in dataframe\n",
    "intel['breed'] = intel['breed'].str.lower()\n",
    "info['breed'] = info['breed'].str.lower()\n",
    "\n",
    "intel['classification'] = intel['classification'].str.lower()"
   ]
  },
  {
   "cell_type": "code",
   "execution_count": 7,
   "metadata": {},
   "outputs": [
    {
     "name": "stdout",
     "output_type": "stream",
     "text": [
      "<class 'pandas.core.frame.DataFrame'>\n",
      "RangeIndex: 141 entries, 0 to 140\n",
      "Data columns (total 5 columns):\n",
      " #   Column          Non-Null Count  Dtype \n",
      "---  ------          --------------  ----- \n",
      " 0   breed           141 non-null    object\n",
      " 1   classification  141 non-null    object\n",
      " 2   obey            130 non-null    object\n",
      " 3   reps_lower      141 non-null    int64 \n",
      " 4   reps_upper      141 non-null    int64 \n",
      "dtypes: int64(2), object(3)\n",
      "memory usage: 5.6+ KB\n"
     ]
    }
   ],
   "source": [
    "intel.info()"
   ]
  },
  {
   "cell_type": "code",
   "execution_count": 8,
   "metadata": {},
   "outputs": [
    {
     "name": "stdout",
     "output_type": "stream",
     "text": [
      "<class 'pandas.core.frame.DataFrame'>\n",
      "RangeIndex: 153 entries, 0 to 152\n",
      "Data columns (total 5 columns):\n",
      " #   Column              Non-Null Count  Dtype  \n",
      "---  ------              --------------  -----  \n",
      " 0   breed               153 non-null    object \n",
      " 1   height_low_inches   153 non-null    float64\n",
      " 2   height_high_inches  153 non-null    float64\n",
      " 3   weight_low_lbs      153 non-null    int64  \n",
      " 4   weight_high_lbs     153 non-null    int64  \n",
      "dtypes: float64(2), int64(2), object(1)\n",
      "memory usage: 6.1+ KB\n"
     ]
    }
   ],
   "source": [
    "info.info()"
   ]
  },
  {
   "cell_type": "code",
   "execution_count": 9,
   "metadata": {},
   "outputs": [],
   "source": [
    "# strips any extra whitespace in breed names\n",
    "intel['breed'] = intel['breed'].str.strip()\n",
    "info['breed'] = info['breed'].str.strip()"
   ]
  },
  {
   "cell_type": "code",
   "execution_count": 10,
   "metadata": {},
   "outputs": [],
   "source": [
    "# fills null values with 10%\n",
    "intel.fillna('10%', inplace=True)\n",
    "# converts % into a float\n",
    "intel['obey'] = intel['obey'].map(lambda x: float(x.split('%')[0])/100)"
   ]
  },
  {
   "cell_type": "code",
   "execution_count": 11,
   "metadata": {},
   "outputs": [],
   "source": [
    "# function to check similarity of breed names\n",
    "def check_sim(dog_breed):\n",
    "    \"\"\"checks dog breeds in one data frame with dog breeds in another.\n",
    "    Returns similarity score via difflib.SequenceMatcher and dog breed target resembles\"\"\"\n",
    "    max_similarity = (0, \"\")\n",
    "    for breed in list(info['breed']):\n",
    "        sim_test = difflib.SequenceMatcher(None, dog_breed, breed).ratio()                  # scores similarity between all dog breeds in two lists\n",
    "        if sim_test > max_similarity[0]:\n",
    "            max_similarity = (sim_test, breed)\n",
    "    return max_similarity[0], max_similarity[1]\n",
    "\n",
    "# similarity test adapted from stack overflow user: duhaime\n",
    "# Gene's code, adapted for dogs"
   ]
  },
  {
   "cell_type": "code",
   "execution_count": 12,
   "metadata": {},
   "outputs": [
    {
     "data": {
      "text/html": [
       "<div>\n",
       "<style scoped>\n",
       "    .dataframe tbody tr th:only-of-type {\n",
       "        vertical-align: middle;\n",
       "    }\n",
       "\n",
       "    .dataframe tbody tr th {\n",
       "        vertical-align: top;\n",
       "    }\n",
       "\n",
       "    .dataframe thead th {\n",
       "        text-align: right;\n",
       "    }\n",
       "</style>\n",
       "<table border=\"1\" class=\"dataframe\">\n",
       "  <thead>\n",
       "    <tr style=\"text-align: right;\">\n",
       "      <th></th>\n",
       "      <th>score</th>\n",
       "      <th>breed</th>\n",
       "    </tr>\n",
       "  </thead>\n",
       "  <tbody>\n",
       "    <tr>\n",
       "      <th>0</th>\n",
       "      <td>1.00</td>\n",
       "      <td>border collie</td>\n",
       "    </tr>\n",
       "    <tr>\n",
       "      <th>1</th>\n",
       "      <td>0.75</td>\n",
       "      <td>toy poodle</td>\n",
       "    </tr>\n",
       "    <tr>\n",
       "      <th>2</th>\n",
       "      <td>1.00</td>\n",
       "      <td>german shepherd</td>\n",
       "    </tr>\n",
       "    <tr>\n",
       "      <th>3</th>\n",
       "      <td>1.00</td>\n",
       "      <td>golden retriever</td>\n",
       "    </tr>\n",
       "    <tr>\n",
       "      <th>4</th>\n",
       "      <td>1.00</td>\n",
       "      <td>doberman pinscher</td>\n",
       "    </tr>\n",
       "  </tbody>\n",
       "</table>\n",
       "</div>"
      ],
      "text/plain": [
       "   score              breed\n",
       "0   1.00      border collie\n",
       "1   0.75         toy poodle\n",
       "2   1.00    german shepherd\n",
       "3   1.00   golden retriever\n",
       "4   1.00  doberman pinscher"
      ]
     },
     "execution_count": 12,
     "metadata": {},
     "output_type": "execute_result"
    }
   ],
   "source": [
    "# create dataframe of breed name similarity scores\n",
    "scores = intel['breed'].map(check_sim)\n",
    "scores_df = pd.DataFrame(list(scores), columns=['score', 'breed'])\n",
    "scores_df.head()"
   ]
  },
  {
   "cell_type": "code",
   "execution_count": 13,
   "metadata": {},
   "outputs": [
    {
     "data": {
      "text/html": [
       "<div>\n",
       "<style scoped>\n",
       "    .dataframe tbody tr th:only-of-type {\n",
       "        vertical-align: middle;\n",
       "    }\n",
       "\n",
       "    .dataframe tbody tr th {\n",
       "        vertical-align: top;\n",
       "    }\n",
       "\n",
       "    .dataframe thead th {\n",
       "        text-align: right;\n",
       "    }\n",
       "</style>\n",
       "<table border=\"1\" class=\"dataframe\">\n",
       "  <thead>\n",
       "    <tr style=\"text-align: right;\">\n",
       "      <th></th>\n",
       "      <th>score</th>\n",
       "      <th>breed</th>\n",
       "    </tr>\n",
       "  </thead>\n",
       "  <tbody>\n",
       "    <tr>\n",
       "      <th>101</th>\n",
       "      <td>0.888889</td>\n",
       "      <td>wirehair fox terrier</td>\n",
       "    </tr>\n",
       "    <tr>\n",
       "      <th>58</th>\n",
       "      <td>0.857143</td>\n",
       "      <td>australian terrier</td>\n",
       "    </tr>\n",
       "    <tr>\n",
       "      <th>82</th>\n",
       "      <td>0.816327</td>\n",
       "      <td>cavalier king charles spaniel</td>\n",
       "    </tr>\n",
       "    <tr>\n",
       "      <th>5</th>\n",
       "      <td>0.787879</td>\n",
       "      <td>belgian sheepdog</td>\n",
       "    </tr>\n",
       "    <tr>\n",
       "      <th>63</th>\n",
       "      <td>0.785714</td>\n",
       "      <td>irish terrier</td>\n",
       "    </tr>\n",
       "    <tr>\n",
       "      <th>86</th>\n",
       "      <td>0.780488</td>\n",
       "      <td>black russian terrier</td>\n",
       "    </tr>\n",
       "    <tr>\n",
       "      <th>109</th>\n",
       "      <td>0.769231</td>\n",
       "      <td>fox terrier</td>\n",
       "    </tr>\n",
       "    <tr>\n",
       "      <th>11</th>\n",
       "      <td>0.764706</td>\n",
       "      <td>giant schnauzer</td>\n",
       "    </tr>\n",
       "    <tr>\n",
       "      <th>1</th>\n",
       "      <td>0.750000</td>\n",
       "      <td>toy poodle</td>\n",
       "    </tr>\n",
       "    <tr>\n",
       "      <th>59</th>\n",
       "      <td>0.705882</td>\n",
       "      <td>miniature poodle</td>\n",
       "    </tr>\n",
       "    <tr>\n",
       "      <th>10</th>\n",
       "      <td>0.650000</td>\n",
       "      <td>cardigan welsh corgi</td>\n",
       "    </tr>\n",
       "    <tr>\n",
       "      <th>91</th>\n",
       "      <td>0.571429</td>\n",
       "      <td>japanese chin</td>\n",
       "    </tr>\n",
       "    <tr>\n",
       "      <th>113</th>\n",
       "      <td>0.500000</td>\n",
       "      <td>french bulldog</td>\n",
       "    </tr>\n",
       "    <tr>\n",
       "      <th>134</th>\n",
       "      <td>0.500000</td>\n",
       "      <td>pointer</td>\n",
       "    </tr>\n",
       "    <tr>\n",
       "      <th>128</th>\n",
       "      <td>0.461538</td>\n",
       "      <td>alaskan malamute</td>\n",
       "    </tr>\n",
       "  </tbody>\n",
       "</table>\n",
       "</div>"
      ],
      "text/plain": [
       "        score                          breed\n",
       "101  0.888889           wirehair fox terrier\n",
       "58   0.857143             australian terrier\n",
       "82   0.816327  cavalier king charles spaniel\n",
       "5    0.787879               belgian sheepdog\n",
       "63   0.785714                  irish terrier\n",
       "86   0.780488          black russian terrier\n",
       "109  0.769231                    fox terrier\n",
       "11   0.764706                giant schnauzer\n",
       "1    0.750000                     toy poodle\n",
       "59   0.705882               miniature poodle\n",
       "10   0.650000           cardigan welsh corgi\n",
       "91   0.571429                  japanese chin\n",
       "113  0.500000                 french bulldog\n",
       "134  0.500000                        pointer\n",
       "128  0.461538               alaskan malamute"
      ]
     },
     "execution_count": 13,
     "metadata": {},
     "output_type": "execute_result"
    }
   ],
   "source": [
    "# removed scores that are a perfect match, sorted the rest for reference\n",
    "# breed names fixed in csv files\n",
    "scores_df[scores_df['score'] != 1].sort_values(by='score', ascending=False)"
   ]
  },
  {
   "cell_type": "code",
   "execution_count": 14,
   "metadata": {},
   "outputs": [
    {
     "name": "stdout",
     "output_type": "stream",
     "text": [
      "<class 'pandas.core.frame.DataFrame'>\n",
      "RangeIndex: 168 entries, 0 to 167\n",
      "Data columns (total 9 columns):\n",
      " #   Column              Non-Null Count  Dtype  \n",
      "---  ------              --------------  -----  \n",
      " 0   breed               168 non-null    object \n",
      " 1   classification      141 non-null    object \n",
      " 2   obey                141 non-null    float64\n",
      " 3   reps_lower          141 non-null    float64\n",
      " 4   reps_upper          141 non-null    float64\n",
      " 5   height_low_inches   153 non-null    float64\n",
      " 6   height_high_inches  153 non-null    float64\n",
      " 7   weight_low_lbs      153 non-null    float64\n",
      " 8   weight_high_lbs     153 non-null    float64\n",
      "dtypes: float64(7), object(2)\n",
      "memory usage: 11.9+ KB\n"
     ]
    }
   ],
   "source": [
    "# merge intel and info data frames\n",
    "breeds = pd.merge(intel, info, on='breed', how='outer')\n",
    "breeds.reset_index(drop=True, inplace=True)\n",
    "breeds.info()"
   ]
  },
  {
   "cell_type": "code",
   "execution_count": 15,
   "metadata": {},
   "outputs": [
    {
     "data": {
      "text/plain": [
       "<AxesSubplot:>"
      ]
     },
     "execution_count": 15,
     "metadata": {},
     "output_type": "execute_result"
    },
    {
     "data": {
      "image/png": "[encoded data removed]",
      "text/plain": [
       "<Figure size 1800x720 with 2 Axes>"
      ]
     },
     "metadata": {
      "needs_background": "light"
     },
     "output_type": "display_data"
    }
   ],
   "source": [
    "mn.matrix(breeds)"
   ]
  },
  {
   "cell_type": "code",
   "execution_count": 16,
   "metadata": {},
   "outputs": [
    {
     "data": {
      "text/html": [
       "<div>\n",
       "<style scoped>\n",
       "    .dataframe tbody tr th:only-of-type {\n",
       "        vertical-align: middle;\n",
       "    }\n",
       "\n",
       "    .dataframe tbody tr th {\n",
       "        vertical-align: top;\n",
       "    }\n",
       "\n",
       "    .dataframe thead th {\n",
       "        text-align: right;\n",
       "    }\n",
       "</style>\n",
       "<table border=\"1\" class=\"dataframe\">\n",
       "  <thead>\n",
       "    <tr style=\"text-align: right;\">\n",
       "      <th></th>\n",
       "      <th>breed</th>\n",
       "      <th>classification</th>\n",
       "      <th>obey</th>\n",
       "      <th>reps_lower</th>\n",
       "      <th>reps_upper</th>\n",
       "      <th>height_low_inches</th>\n",
       "      <th>height_high_inches</th>\n",
       "      <th>weight_low_lbs</th>\n",
       "      <th>weight_high_lbs</th>\n",
       "    </tr>\n",
       "  </thead>\n",
       "  <tbody>\n",
       "    <tr>\n",
       "      <th>0</th>\n",
       "      <td>border collie</td>\n",
       "      <td>brightest dogs</td>\n",
       "      <td>0.95</td>\n",
       "      <td>1.0</td>\n",
       "      <td>4.0</td>\n",
       "      <td>19.0</td>\n",
       "      <td>21.0</td>\n",
       "      <td>40.0</td>\n",
       "      <td>40.0</td>\n",
       "    </tr>\n",
       "    <tr>\n",
       "      <th>1</th>\n",
       "      <td>poodle</td>\n",
       "      <td>brightest dogs</td>\n",
       "      <td>0.95</td>\n",
       "      <td>1.0</td>\n",
       "      <td>4.0</td>\n",
       "      <td>NaN</td>\n",
       "      <td>NaN</td>\n",
       "      <td>NaN</td>\n",
       "      <td>NaN</td>\n",
       "    </tr>\n",
       "  </tbody>\n",
       "</table>\n",
       "</div>"
      ],
      "text/plain": [
       "           breed  classification  obey  reps_lower  reps_upper  \\\n",
       "0  border collie  brightest dogs  0.95         1.0         4.0   \n",
       "1         poodle  brightest dogs  0.95         1.0         4.0   \n",
       "\n",
       "   height_low_inches  height_high_inches  weight_low_lbs  weight_high_lbs  \n",
       "0               19.0                21.0            40.0             40.0  \n",
       "1                NaN                 NaN             NaN              NaN  "
      ]
     },
     "execution_count": 16,
     "metadata": {},
     "output_type": "execute_result"
    }
   ],
   "source": [
    "breeds.head(2)"
   ]
  },
  {
   "cell_type": "markdown",
   "metadata": {},
   "source": [
    "Aggregate missing dog stats"
   ]
  },
  {
   "cell_type": "code",
   "execution_count": 17,
   "metadata": {},
   "outputs": [
    {
     "data": {
      "text/html": [
       "<div>\n",
       "<style scoped>\n",
       "    .dataframe tbody tr th:only-of-type {\n",
       "        vertical-align: middle;\n",
       "    }\n",
       "\n",
       "    .dataframe tbody tr th {\n",
       "        vertical-align: top;\n",
       "    }\n",
       "\n",
       "    .dataframe thead th {\n",
       "        text-align: right;\n",
       "    }\n",
       "</style>\n",
       "<table border=\"1\" class=\"dataframe\">\n",
       "  <thead>\n",
       "    <tr style=\"text-align: right;\">\n",
       "      <th></th>\n",
       "      <th>obey</th>\n",
       "      <th>reps_lower</th>\n",
       "      <th>reps_upper</th>\n",
       "      <th>height_low_inches</th>\n",
       "      <th>height_high_inches</th>\n",
       "      <th>weight_low_lbs</th>\n",
       "      <th>weight_high_lbs</th>\n",
       "    </tr>\n",
       "  </thead>\n",
       "  <tbody>\n",
       "    <tr>\n",
       "      <th>1</th>\n",
       "      <td>0.569858</td>\n",
       "      <td>25.319149</td>\n",
       "      <td>41.028369</td>\n",
       "      <td>17.941176</td>\n",
       "      <td>20.908497</td>\n",
       "      <td>42.934641</td>\n",
       "      <td>57.522876</td>\n",
       "    </tr>\n",
       "  </tbody>\n",
       "</table>\n",
       "</div>"
      ],
      "text/plain": [
       "0      obey reps_lower reps_upper height_low_inches height_high_inches  \\\n",
       "1  0.569858  25.319149  41.028369         17.941176          20.908497   \n",
       "\n",
       "0 weight_low_lbs weight_high_lbs  \n",
       "1      42.934641       57.522876  "
      ]
     },
     "execution_count": 17,
     "metadata": {},
     "output_type": "execute_result"
    }
   ],
   "source": [
    "mix = []                                                                        # storage\n",
    "for c in breeds.drop(columns=['breed', 'classification']).columns:\n",
    "    mix.append(breeds[c].mean())                                                # get mean stat\n",
    "mix = zip(breeds.drop(columns=['breed', 'classification']).columns, mix)        # convert to df\n",
    "mix = pd.DataFrame(mix).T\n",
    "mix.columns = mix.iloc[0]                                                       # rename cols\n",
    "mix = mix[1:].copy()                                                            # drop row containing column names\n",
    "mix = mix                                                                       # add col name suffix\n",
    "mix                                                                             # inspect"
   ]
  },
  {
   "cell_type": "code",
   "execution_count": 18,
   "metadata": {},
   "outputs": [],
   "source": [
    "mix = mix.squeeze()"
   ]
  },
  {
   "cell_type": "markdown",
   "metadata": {},
   "source": [
    "Fill missing dog characteristics with aggregate value"
   ]
  },
  {
   "cell_type": "code",
   "execution_count": 19,
   "metadata": {},
   "outputs": [],
   "source": [
    "for i, col in enumerate(breeds.columns[2:]):\n",
    "    breeds[col].fillna(mix[i], inplace=True)"
   ]
  },
  {
   "cell_type": "code",
   "execution_count": 20,
   "metadata": {},
   "outputs": [
    {
     "data": {
      "text/html": [
       "<div>\n",
       "<style scoped>\n",
       "    .dataframe tbody tr th:only-of-type {\n",
       "        vertical-align: middle;\n",
       "    }\n",
       "\n",
       "    .dataframe tbody tr th {\n",
       "        vertical-align: top;\n",
       "    }\n",
       "\n",
       "    .dataframe thead th {\n",
       "        text-align: right;\n",
       "    }\n",
       "</style>\n",
       "<table border=\"1\" class=\"dataframe\">\n",
       "  <thead>\n",
       "    <tr style=\"text-align: right;\">\n",
       "      <th></th>\n",
       "      <th>breed</th>\n",
       "      <th>classification</th>\n",
       "      <th>obey</th>\n",
       "      <th>reps_lower</th>\n",
       "      <th>reps_upper</th>\n",
       "      <th>height_low_inches</th>\n",
       "      <th>height_high_inches</th>\n",
       "      <th>weight_low_lbs</th>\n",
       "      <th>weight_high_lbs</th>\n",
       "    </tr>\n",
       "  </thead>\n",
       "  <tbody>\n",
       "    <tr>\n",
       "      <th>0</th>\n",
       "      <td>border collie</td>\n",
       "      <td>brightest dogs</td>\n",
       "      <td>0.95</td>\n",
       "      <td>1.0</td>\n",
       "      <td>4.0</td>\n",
       "      <td>19.000000</td>\n",
       "      <td>21.000000</td>\n",
       "      <td>40.000000</td>\n",
       "      <td>40.000000</td>\n",
       "    </tr>\n",
       "    <tr>\n",
       "      <th>1</th>\n",
       "      <td>poodle</td>\n",
       "      <td>brightest dogs</td>\n",
       "      <td>0.95</td>\n",
       "      <td>1.0</td>\n",
       "      <td>4.0</td>\n",
       "      <td>17.941176</td>\n",
       "      <td>20.908497</td>\n",
       "      <td>42.934641</td>\n",
       "      <td>57.522876</td>\n",
       "    </tr>\n",
       "  </tbody>\n",
       "</table>\n",
       "</div>"
      ],
      "text/plain": [
       "           breed  classification  obey  reps_lower  reps_upper  \\\n",
       "0  border collie  brightest dogs  0.95         1.0         4.0   \n",
       "1         poodle  brightest dogs  0.95         1.0         4.0   \n",
       "\n",
       "   height_low_inches  height_high_inches  weight_low_lbs  weight_high_lbs  \n",
       "0          19.000000           21.000000       40.000000        40.000000  \n",
       "1          17.941176           20.908497       42.934641        57.522876  "
      ]
     },
     "execution_count": 20,
     "metadata": {},
     "output_type": "execute_result"
    }
   ],
   "source": [
    "breeds.head(2)"
   ]
  },
  {
   "cell_type": "markdown",
   "metadata": {},
   "source": [
    "# Export Data"
   ]
  },
  {
   "cell_type": "code",
   "execution_count": 21,
   "metadata": {},
   "outputs": [],
   "source": [
    "breeds.to_csv('./datasets/working_data/breeds_info.csv', index=False)"
   ]
  },
  {
   "cell_type": "markdown",
   "metadata": {},
   "source": [
    "[Run Next](https://github.com/gwoodstock/project4/blob/main/scrapers/breeds_scrape.ipynb): Breeds Scraper\\\n",
    "\\\n",
    "***Collects breed data from [DogBreedInfo.com](https://www.dogbreedinfo.com/hybriddogs.htm)***"
   ]
  }
 ],
 "metadata": {
  "interpreter": {
   "hash": "b3ba2566441a7c06988d0923437866b63cedc61552a5af99d1f4fb67d367b25f"
  },
  "kernelspec": {
   "display_name": "Python 3.9.7 ('base')",
   "language": "python",
   "name": "python3"
  },
  "language_info": {
   "codemirror_mode": {
    "name": "ipython",
    "version": 3
   },
   "file_extension": ".py",
   "mimetype": "text/x-python",
   "name": "python",
   "nbconvert_exporter": "python",
   "pygments_lexer": "ipython3",
   "version": "3.9.7"
  },
  "orig_nbformat": 4
 },
 "nbformat": 4,
 "nbformat_minor": 2
}
