{
 "cells": [
  {
   "cell_type": "markdown",
   "metadata": {},
   "source": [
    "# Import Libraries"
   ]
  },
  {
   "cell_type": "code",
   "execution_count": 1,
   "metadata": {},
   "outputs": [],
   "source": [
    "import pandas as pd\n",
    "import numpy as np\n",
    "import seaborn as sns\n",
    "import matplotlib.pyplot as plt"
   ]
  },
  {
   "cell_type": "markdown",
   "metadata": {},
   "source": [
    "# Import Data"
   ]
  },
  {
   "cell_type": "code",
   "execution_count": 2,
   "metadata": {},
   "outputs": [],
   "source": [
    "data = pd.read_csv('./datasets/raw_data/petfinder_raw.csv', compression='zip')\n",
    "austin = pd.read_csv('./datasets/cleaned_data/austin.csv')"
   ]
  },
  {
   "cell_type": "markdown",
   "metadata": {},
   "source": [
    "# Helper Functions"
   ]
  },
  {
   "cell_type": "code",
   "execution_count": 3,
   "metadata": {},
   "outputs": [],
   "source": [
    "def quick_view(col):\n",
    "    print(data[col].value_counts())\n",
    "    print('')\n",
    "    print(f'Missing Values: {data[col].isna().sum()}')\n",
    "    print(f'Unique Entries: {len(data[col].value_counts())}')"
   ]
  },
  {
   "cell_type": "markdown",
   "metadata": {},
   "source": [
    "# Inspect Data"
   ]
  },
  {
   "cell_type": "code",
   "execution_count": 4,
   "metadata": {},
   "outputs": [
    {
     "data": {
      "text/plain": [
       "(74100, 50)"
      ]
     },
     "execution_count": 4,
     "metadata": {},
     "output_type": "execute_result"
    }
   ],
   "source": [
    "data.shape"
   ]
  },
  {
   "cell_type": "code",
   "execution_count": 5,
   "metadata": {},
   "outputs": [
    {
     "data": {
      "text/plain": [
       "Index(['id', 'organization_id', 'url', 'type', 'species', 'age', 'gender',\n",
       "       'size', 'coat', 'tags', 'name', 'description', 'organization_animal_id',\n",
       "       'photos', 'videos', 'status', 'status_changed_at', 'published_at',\n",
       "       'distance', 'breeds.primary', 'breeds.secondary', 'breeds.mixed',\n",
       "       'breeds.unknown', 'colors.primary', 'colors.secondary',\n",
       "       'colors.tertiary', 'attributes.spayed_neutered',\n",
       "       'attributes.house_trained', 'attributes.declawed',\n",
       "       'attributes.special_needs', 'attributes.shots_current',\n",
       "       'environment.children', 'environment.dogs', 'environment.cats',\n",
       "       'primary_photo_cropped.small', 'primary_photo_cropped.medium',\n",
       "       'primary_photo_cropped.large', 'primary_photo_cropped.full',\n",
       "       'contact.email', 'contact.phone', 'contact.address.address1',\n",
       "       'contact.address.address2', 'contact.address.city',\n",
       "       'contact.address.state', 'contact.address.postcode',\n",
       "       'contact.address.country', 'animal_id', 'animal_type',\n",
       "       'organization_id.1', 'primary_photo_cropped'],\n",
       "      dtype='object')"
      ]
     },
     "execution_count": 5,
     "metadata": {},
     "output_type": "execute_result"
    }
   ],
   "source": [
    "data.columns"
   ]
  },
  {
   "cell_type": "markdown",
   "metadata": {},
   "source": [
    "## Feature Selection"
   ]
  },
  {
   "cell_type": "markdown",
   "metadata": {},
   "source": [
    "Quick view of all the columns. Choose what columns to drop or keep"
   ]
  },
  {
   "cell_type": "code",
   "execution_count": 6,
   "metadata": {},
   "outputs": [
    {
     "name": "stdout",
     "output_type": "stream",
     "text": [
      "Medium         35421\n",
      "Large          26542\n",
      "Small          11015\n",
      "Extra Large     1122\n",
      "Name: size, dtype: int64\n",
      "\n",
      "Missing Values: 0\n",
      "Unique Entries: 4\n"
     ]
    }
   ],
   "source": [
    "col = 'size'\n",
    "quick_view(col)"
   ]
  },
  {
   "cell_type": "markdown",
   "metadata": {},
   "source": [
    "Drop data points that are not in Dallas / Austin datasets"
   ]
  },
  {
   "cell_type": "code",
   "execution_count": 7,
   "metadata": {},
   "outputs": [],
   "source": [
    "# drop unused\n",
    "data.drop(columns=['id', 'url', 'photos', 'type', 'species', 'coat', 'organization_id', 'organization_animal_id', 'status', 'status_changed_at',\n",
    "                   'published_at', 'distance', 'breeds.unknown', 'colors.secondary', 'colors.tertiary',\n",
    "                   'attributes.house_trained', 'attributes.declawed', 'attributes.shots_current',\n",
    "                   'environment.children', 'environment.dogs', 'environment.cats', 'primary_photo_cropped.small', \n",
    "                   'primary_photo_cropped.medium', 'primary_photo_cropped.large', 'primary_photo_cropped.full',\n",
    "                   'contact.email', 'contact.phone', 'contact.address.address1','contact.address.address2', \n",
    "                   'contact.address.city', 'contact.address.state', 'contact.address.postcode', 'contact.address.country',\n",
    "                   'animal_id', 'animal_type', 'organization_id.1', 'primary_photo_cropped', 'videos'\n",
    "                   ], inplace=True)"
   ]
  },
  {
   "cell_type": "code",
   "execution_count": 8,
   "metadata": {},
   "outputs": [
    {
     "data": {
      "text/html": [
       "<div>\n",
       "<style scoped>\n",
       "    .dataframe tbody tr th:only-of-type {\n",
       "        vertical-align: middle;\n",
       "    }\n",
       "\n",
       "    .dataframe tbody tr th {\n",
       "        vertical-align: top;\n",
       "    }\n",
       "\n",
       "    .dataframe thead th {\n",
       "        text-align: right;\n",
       "    }\n",
       "</style>\n",
       "<table border=\"1\" class=\"dataframe\">\n",
       "  <thead>\n",
       "    <tr style=\"text-align: right;\">\n",
       "      <th></th>\n",
       "      <th>age</th>\n",
       "      <th>gender</th>\n",
       "      <th>size</th>\n",
       "      <th>tags</th>\n",
       "      <th>name</th>\n",
       "      <th>description</th>\n",
       "      <th>breeds.primary</th>\n",
       "      <th>breeds.secondary</th>\n",
       "      <th>breeds.mixed</th>\n",
       "      <th>colors.primary</th>\n",
       "      <th>attributes.spayed_neutered</th>\n",
       "      <th>attributes.special_needs</th>\n",
       "    </tr>\n",
       "  </thead>\n",
       "  <tbody>\n",
       "    <tr>\n",
       "      <th>0</th>\n",
       "      <td>Adult</td>\n",
       "      <td>Male</td>\n",
       "      <td>Medium</td>\n",
       "      <td>['Friendly', 'Smart', 'Funny', 'Playful']</td>\n",
       "      <td>Chip</td>\n",
       "      <td>Hi, I&amp;#039;m Chip! I traveled all the way from...</td>\n",
       "      <td>Labrador Retriever</td>\n",
       "      <td>NaN</td>\n",
       "      <td>True</td>\n",
       "      <td>Black</td>\n",
       "      <td>True</td>\n",
       "      <td>False</td>\n",
       "    </tr>\n",
       "    <tr>\n",
       "      <th>1</th>\n",
       "      <td>Baby</td>\n",
       "      <td>Female</td>\n",
       "      <td>Small</td>\n",
       "      <td>[]</td>\n",
       "      <td>Clover D220199</td>\n",
       "      <td>You can fill out an adoption application onlin...</td>\n",
       "      <td>Terrier</td>\n",
       "      <td>NaN</td>\n",
       "      <td>True</td>\n",
       "      <td>NaN</td>\n",
       "      <td>True</td>\n",
       "      <td>False</td>\n",
       "    </tr>\n",
       "    <tr>\n",
       "      <th>2</th>\n",
       "      <td>Senior</td>\n",
       "      <td>Female</td>\n",
       "      <td>Small</td>\n",
       "      <td>[]</td>\n",
       "      <td>Willow</td>\n",
       "      <td>This sweet 8-yr old, 12 lb girl is such a litt...</td>\n",
       "      <td>Chihuahua</td>\n",
       "      <td>NaN</td>\n",
       "      <td>False</td>\n",
       "      <td>NaN</td>\n",
       "      <td>True</td>\n",
       "      <td>False</td>\n",
       "    </tr>\n",
       "  </tbody>\n",
       "</table>\n",
       "</div>"
      ],
      "text/plain": [
       "      age  gender    size                                       tags  \\\n",
       "0   Adult    Male  Medium  ['Friendly', 'Smart', 'Funny', 'Playful']   \n",
       "1    Baby  Female   Small                                         []   \n",
       "2  Senior  Female   Small                                         []   \n",
       "\n",
       "             name                                        description  \\\n",
       "0            Chip  Hi, I&#039;m Chip! I traveled all the way from...   \n",
       "1  Clover D220199  You can fill out an adoption application onlin...   \n",
       "2          Willow  This sweet 8-yr old, 12 lb girl is such a litt...   \n",
       "\n",
       "       breeds.primary breeds.secondary  breeds.mixed colors.primary  \\\n",
       "0  Labrador Retriever              NaN          True          Black   \n",
       "1             Terrier              NaN          True            NaN   \n",
       "2           Chihuahua              NaN         False            NaN   \n",
       "\n",
       "   attributes.spayed_neutered  attributes.special_needs  \n",
       "0                        True                     False  \n",
       "1                        True                     False  \n",
       "2                        True                     False  "
      ]
     },
     "execution_count": 8,
     "metadata": {},
     "output_type": "execute_result"
    }
   ],
   "source": [
    "data.head(3)"
   ]
  },
  {
   "cell_type": "code",
   "execution_count": 9,
   "metadata": {},
   "outputs": [
    {
     "data": {
      "text/plain": [
       "(74100, 12)"
      ]
     },
     "execution_count": 9,
     "metadata": {},
     "output_type": "execute_result"
    }
   ],
   "source": [
    "data.shape"
   ]
  },
  {
   "cell_type": "markdown",
   "metadata": {},
   "source": [
    "## Feature cleaning"
   ]
  },
  {
   "cell_type": "markdown",
   "metadata": {},
   "source": [
    "Impute ages"
   ]
  },
  {
   "cell_type": "code",
   "execution_count": 10,
   "metadata": {},
   "outputs": [
    {
     "data": {
      "image/png": "[encoded data removed]",
      "text/plain": [
       "<Figure size 576x432 with 1 Axes>"
      ]
     },
     "metadata": {
      "needs_background": "light"
     },
     "output_type": "display_data"
    }
   ],
   "source": [
    "plt.figure(figsize=(8, 6))\n",
    "plt.title('Dog Ages')\n",
    "plt.xlabel('Age')\n",
    "sns.histplot(data=austin[austin['age_out'] < 10], x='age_out', bins=10)\n",
    "sns.despine()"
   ]
  },
  {
   "cell_type": "markdown",
   "metadata": {},
   "source": [
    "Categorize the austin data age column according to the proportion of age categories in the petfinder data set"
   ]
  },
  {
   "cell_type": "code",
   "execution_count": 11,
   "metadata": {},
   "outputs": [
    {
     "data": {
      "text/plain": [
       "0.0     0.186607\n",
       "1.0     0.462298\n",
       "2.0     0.656952\n",
       "3.0     0.750102\n",
       "4.0     0.806422\n",
       "5.0     0.856098\n",
       "6.0     0.887984\n",
       "7.0     0.914899\n",
       "8.0     0.939787\n",
       "9.0     0.954589\n",
       "10.0    0.971618\n",
       "11.0    0.979431\n",
       "12.0    0.987117\n",
       "13.0    0.992142\n",
       "14.0    0.995410\n",
       "15.0    0.997818\n",
       "16.0    0.998977\n",
       "17.0    0.999475\n",
       "18.0    0.999756\n",
       "19.0    0.999937\n",
       "20.0    0.999982\n",
       "23.0    0.999991\n",
       "24.0    1.000000\n",
       "Name: age_out, dtype: float64"
      ]
     },
     "execution_count": 11,
     "metadata": {},
     "output_type": "execute_result"
    }
   ],
   "source": [
    "round(austin['age_out'], 0).value_counts(normalize=True).sort_index().cumsum()"
   ]
  },
  {
   "cell_type": "markdown",
   "metadata": {},
   "source": [
    "Proportions of dog ages from texas shelters dataset above\\\n",
    "\\\n",
    "Proportions of dog categories from petfinder dataset below"
   ]
  },
  {
   "cell_type": "code",
   "execution_count": 12,
   "metadata": {},
   "outputs": [
    {
     "data": {
      "text/plain": [
       "Baby      0.203657\n",
       "Young     0.489865\n",
       "Adult     0.936613\n",
       "Senior    1.000000\n",
       "Name: age, dtype: float64"
      ]
     },
     "execution_count": 12,
     "metadata": {},
     "output_type": "execute_result"
    }
   ],
   "source": [
    "data['age'].value_counts(normalize=True).reindex(['Baby', 'Young', 'Adult', 'Senior']).cumsum()"
   ]
  },
  {
   "cell_type": "markdown",
   "metadata": {},
   "source": [
    "Dog age distributions line up nicely between the two data sets and pass the smell test. Texas shelter dogs between the ages of 0 & 0.5 years consisted of roughly 19% of the total dogs in the dataset. Petfinder dog age distribution has 20% of the dogs categorized as 'Baby'. This lines up nicely.\\\n",
    "\\\n",
    "Similarly with Young in petfinder at ~ 28% vs 27.6% of dogs age 1 in the Texas shelter data.\\\n",
    "\\\n",
    "Adult & Senior dogs will need a little more creativity to impute, but the below solution should also pass the smell test. Dog classifed as Adult in Petfinder consist of 45% of the population. Dogs age 2 - 8 in the Texas shelter data also consist of 45% of the population. A weighted average gives us an estimated age for petfinder dogs with the classification 'Adult' of 3.6 years. The same process is applied to Senior dogs, which the distributions suggest are ages 9 and up (passing the smell test). The dogs classified as Senior have a weighted average (from the Texas data ages) of 11 years of age."
   ]
  },
  {
   "cell_type": "code",
   "execution_count": 13,
   "metadata": {},
   "outputs": [],
   "source": [
    "# adult\n",
    "ages_a = np.array(round(austin['age_out'], 0).value_counts(normalize=True).sort_index().loc[2:8].index) # get ages from index of dogs age 2-8\n",
    "weights_a = np.array(round(austin['age_out'], 0).value_counts(normalize=True).sort_index().loc[2:8])    # get the percentage of dogs at each age\n",
    "wei_sum_a = np.sum(weights_a)                                                                           # sum weights\n",
    "wei_avg_a = round((np.sum(ages_a * weights_a)) / wei_sum_a, 2)                                          # calc weighted avg\n",
    "\n",
    "# senior\n",
    "ages_s = np.array(round(austin['age_out'], 0).value_counts(normalize=True).sort_index().loc[9:].index)  # get ages from index of dogs age 9 and above\n",
    "weights_s = np.array(round(austin['age_out'], 0).value_counts(normalize=True).sort_index().loc[9:])     # get the percentage of dogs at each age\n",
    "wei_sum_s = np.sum(weights_s)                                                                           # sum weights\n",
    "wei_avg_s = round((np.sum(ages_s * weights_s)) / wei_sum_s, 2)                                          # calc weighted avg\n",
    "\n",
    "mapper = {\n",
    "            'Baby': 0,\n",
    "            'Young': 1,\n",
    "            'Adult': wei_avg_a,\n",
    "            'Senior': wei_avg_s\n",
    "            }\n",
    "data['age_out'] = data['age'].map(mapper)                                                               # impute age in same format as austin & dallas shelter data"
   ]
  },
  {
   "cell_type": "code",
   "execution_count": 14,
   "metadata": {},
   "outputs": [
    {
     "name": "stdout",
     "output_type": "stream",
     "text": [
      "Male      40142\n",
      "Female    33958\n",
      "Name: gender, dtype: int64\n",
      "\n",
      "Missing Values: 0\n",
      "Unique Entries: 2\n"
     ]
    }
   ],
   "source": [
    "quick_view('gender')"
   ]
  },
  {
   "cell_type": "code",
   "execution_count": 15,
   "metadata": {},
   "outputs": [],
   "source": [
    "# modify columns\n",
    "data['gender'] = data['gender'].map({\n",
    "    'Male': 1,\n",
    "    'Female': 0\n",
    "    })"
   ]
  },
  {
   "cell_type": "code",
   "execution_count": 16,
   "metadata": {},
   "outputs": [],
   "source": [
    "# impute dog size from breed frame (WIP)"
   ]
  },
  {
   "cell_type": "code",
   "execution_count": 17,
   "metadata": {},
   "outputs": [
    {
     "name": "stdout",
     "output_type": "stream",
     "text": [
      "[]                                                                                                                        51625\n",
      "['Friendly', 'Affectionate', 'Playful']                                                                                     525\n",
      "['Friendly', 'Playful']                                                                                                     334\n",
      "['Friendly', 'Affectionate']                                                                                                247\n",
      "['Friendly']                                                                                                                219\n",
      "                                                                                                                          ...  \n",
      "['Friendly', 'Affectionate', 'Playful', 'Smart', 'Brave', 'Curious', 'Loves kisses', 'Athletic', 'Funny']                     1\n",
      "['Adventurous', 'Food Motivated', 'High Energy']                                                                              1\n",
      "['Friendly', 'Playful', 'Funny', 'Couch potato']                                                                              1\n",
      "['Friendly', 'Affectionate', 'Playful', 'Smart', 'Curious', 'Quiet', 'Couch potato', 'Loves kisses']                          1\n",
      "['Friendly', 'Affectionate', 'Loyal', 'Gentle', 'Playful', 'Independent', 'Curious', 'Smart', 'Funny', 'Loves kisses']        1\n",
      "Name: tags, Length: 10628, dtype: int64\n",
      "\n",
      "Missing Values: 0\n",
      "Unique Entries: 10628\n"
     ]
    }
   ],
   "source": [
    "# will drop tags and description temporarily. Might revisit in the future if time permits. Too many missing values to easily extract signal from. But could be something there.\n",
    "quick_view('tags')\n",
    "data.drop(columns=['tags', 'description'], inplace=True)"
   ]
  },
  {
   "cell_type": "code",
   "execution_count": 18,
   "metadata": {},
   "outputs": [
    {
     "name": "stdout",
     "output_type": "stream",
     "text": [
      "0    51308\n",
      "1    22792\n",
      "Name: breeds.mixed, dtype: int64\n",
      "\n",
      "Missing Values: 0\n",
      "Unique Entries: 2\n"
     ]
    }
   ],
   "source": [
    "data['breeds.mixed'] = data['breeds.mixed'].map({\n",
    "    True: 0,    # not a purebreed\n",
    "    False: 1    # is a purebreed, not mixed\n",
    "})\n",
    "quick_view('breeds.mixed')"
   ]
  },
  {
   "cell_type": "code",
   "execution_count": 19,
   "metadata": {},
   "outputs": [
    {
     "name": "stdout",
     "output_type": "stream",
     "text": [
      "Black                               10469\n",
      "White / Cream                        5737\n",
      "Brown / Chocolate                    4314\n",
      "Yellow / Tan / Blond / Fawn          4161\n",
      "Tricolor (Brown, Black, & White)     3379\n",
      "Brindle                              2393\n",
      "Gray / Blue / Silver                 1953\n",
      "Red / Chestnut / Orange              1730\n",
      "Bicolor                              1431\n",
      "Apricot / Beige                      1194\n",
      "Golden                                749\n",
      "Merle (Blue)                          236\n",
      "Sable                                 182\n",
      "Merle (Red)                           115\n",
      "Harlequin                              26\n",
      "Name: colors.primary, dtype: int64\n",
      "\n",
      "Missing Values: 36031\n",
      "Unique Entries: 15\n"
     ]
    }
   ],
   "source": [
    "# half of the dogs are missing a color value, but we might be able to impute dallas shelter dog color based on breed information from this list. \n",
    "quick_view('colors.primary')"
   ]
  },
  {
   "cell_type": "code",
   "execution_count": 20,
   "metadata": {},
   "outputs": [
    {
     "name": "stdout",
     "output_type": "stream",
     "text": [
      "True     54287\n",
      "False    19813\n",
      "Name: attributes.spayed_neutered, dtype: int64\n",
      "\n",
      "Missing Values: 0\n",
      "Unique Entries: 2\n"
     ]
    }
   ],
   "source": [
    "quick_view('attributes.spayed_neutered')\n",
    "data['attributes.spayed_neutered'] = data['attributes.spayed_neutered'].map({\n",
    "    True: 1,\n",
    "    False: 0\n",
    "    })"
   ]
  },
  {
   "cell_type": "code",
   "execution_count": 21,
   "metadata": {},
   "outputs": [
    {
     "name": "stdout",
     "output_type": "stream",
     "text": [
      "False    72017\n",
      "True      2083\n",
      "Name: attributes.special_needs, dtype: int64\n",
      "\n",
      "Missing Values: 0\n",
      "Unique Entries: 2\n"
     ]
    }
   ],
   "source": [
    "quick_view('attributes.special_needs')\n",
    "data['attributes.special_needs'] = data['attributes.special_needs'].map({\n",
    "    True: 1,\n",
    "    False: 0\n",
    "    })"
   ]
  },
  {
   "cell_type": "code",
   "execution_count": 22,
   "metadata": {},
   "outputs": [
    {
     "data": {
      "text/plain": [
       "Index(['age', 'gender', 'size', 'name', 'breeds.primary', 'breeds.secondary',\n",
       "       'breeds.mixed', 'colors.primary', 'attributes.spayed_neutered',\n",
       "       'attributes.special_needs', 'age_out'],\n",
       "      dtype='object')"
      ]
     },
     "execution_count": 22,
     "metadata": {},
     "output_type": "execute_result"
    }
   ],
   "source": [
    "data.columns"
   ]
  },
  {
   "cell_type": "markdown",
   "metadata": {},
   "source": [
    "Rename columns"
   ]
  },
  {
   "cell_type": "code",
   "execution_count": 25,
   "metadata": {},
   "outputs": [],
   "source": [
    "col_map = {\n",
    "    'age': 'age',\n",
    "    'gender': 'gender',\n",
    "    'size': 'size',\n",
    "    'name': 'name',\n",
    "    'breeds.primary': 'breed_1',\n",
    "    'breeds.secondary': 'breed_2',\n",
    "    'breeds.mixed': 'purebreed',\n",
    "    'breeds.unknown': 'mutt',\n",
    "    'colors.primary': 'color',\n",
    "    'attributes.spayed_neutered': 'intact_out',\n",
    "    'attributes.special_needs': 'injured',\n",
    "}\n",
    "data.rename(columns=col_map, inplace=True)"
   ]
  },
  {
   "cell_type": "code",
   "execution_count": 26,
   "metadata": {},
   "outputs": [
    {
     "data": {
      "text/html": [
       "<div>\n",
       "<style scoped>\n",
       "    .dataframe tbody tr th:only-of-type {\n",
       "        vertical-align: middle;\n",
       "    }\n",
       "\n",
       "    .dataframe tbody tr th {\n",
       "        vertical-align: top;\n",
       "    }\n",
       "\n",
       "    .dataframe thead th {\n",
       "        text-align: right;\n",
       "    }\n",
       "</style>\n",
       "<table border=\"1\" class=\"dataframe\">\n",
       "  <thead>\n",
       "    <tr style=\"text-align: right;\">\n",
       "      <th></th>\n",
       "      <th>age</th>\n",
       "      <th>gender</th>\n",
       "      <th>size</th>\n",
       "      <th>name</th>\n",
       "      <th>breed_1</th>\n",
       "      <th>breed_2</th>\n",
       "      <th>purebreed</th>\n",
       "      <th>color</th>\n",
       "      <th>intact_out</th>\n",
       "      <th>injured</th>\n",
       "      <th>age_out</th>\n",
       "    </tr>\n",
       "  </thead>\n",
       "  <tbody>\n",
       "    <tr>\n",
       "      <th>0</th>\n",
       "      <td>Adult</td>\n",
       "      <td>1</td>\n",
       "      <td>Medium</td>\n",
       "      <td>Chip</td>\n",
       "      <td>Labrador Retriever</td>\n",
       "      <td>NaN</td>\n",
       "      <td>0</td>\n",
       "      <td>Black</td>\n",
       "      <td>1</td>\n",
       "      <td>0</td>\n",
       "      <td>3.60</td>\n",
       "    </tr>\n",
       "    <tr>\n",
       "      <th>1</th>\n",
       "      <td>Baby</td>\n",
       "      <td>0</td>\n",
       "      <td>Small</td>\n",
       "      <td>Clover D220199</td>\n",
       "      <td>Terrier</td>\n",
       "      <td>NaN</td>\n",
       "      <td>0</td>\n",
       "      <td>NaN</td>\n",
       "      <td>1</td>\n",
       "      <td>0</td>\n",
       "      <td>0.00</td>\n",
       "    </tr>\n",
       "    <tr>\n",
       "      <th>2</th>\n",
       "      <td>Senior</td>\n",
       "      <td>0</td>\n",
       "      <td>Small</td>\n",
       "      <td>Willow</td>\n",
       "      <td>Chihuahua</td>\n",
       "      <td>NaN</td>\n",
       "      <td>1</td>\n",
       "      <td>NaN</td>\n",
       "      <td>1</td>\n",
       "      <td>0</td>\n",
       "      <td>11.06</td>\n",
       "    </tr>\n",
       "    <tr>\n",
       "      <th>3</th>\n",
       "      <td>Adult</td>\n",
       "      <td>0</td>\n",
       "      <td>Small</td>\n",
       "      <td>Dolly</td>\n",
       "      <td>Yorkshire Terrier</td>\n",
       "      <td>Poodle</td>\n",
       "      <td>0</td>\n",
       "      <td>NaN</td>\n",
       "      <td>1</td>\n",
       "      <td>0</td>\n",
       "      <td>3.60</td>\n",
       "    </tr>\n",
       "    <tr>\n",
       "      <th>4</th>\n",
       "      <td>Young</td>\n",
       "      <td>0</td>\n",
       "      <td>Medium</td>\n",
       "      <td>Cheyenne</td>\n",
       "      <td>Terrier</td>\n",
       "      <td>NaN</td>\n",
       "      <td>0</td>\n",
       "      <td>Brown / Chocolate</td>\n",
       "      <td>1</td>\n",
       "      <td>0</td>\n",
       "      <td>1.00</td>\n",
       "    </tr>\n",
       "  </tbody>\n",
       "</table>\n",
       "</div>"
      ],
      "text/plain": [
       "      age  gender    size            name             breed_1 breed_2  \\\n",
       "0   Adult       1  Medium            Chip  Labrador Retriever     NaN   \n",
       "1    Baby       0   Small  Clover D220199             Terrier     NaN   \n",
       "2  Senior       0   Small          Willow           Chihuahua     NaN   \n",
       "3   Adult       0   Small           Dolly   Yorkshire Terrier  Poodle   \n",
       "4   Young       0  Medium        Cheyenne             Terrier     NaN   \n",
       "\n",
       "   purebreed              color  intact_out  injured  age_out  \n",
       "0          0              Black           1        0     3.60  \n",
       "1          0                NaN           1        0     0.00  \n",
       "2          1                NaN           1        0    11.06  \n",
       "3          0                NaN           1        0     3.60  \n",
       "4          0  Brown / Chocolate           1        0     1.00  "
      ]
     },
     "execution_count": 26,
     "metadata": {},
     "output_type": "execute_result"
    }
   ],
   "source": [
    "data.head()"
   ]
  },
  {
   "cell_type": "markdown",
   "metadata": {},
   "source": [
    "# Data Export"
   ]
  },
  {
   "cell_type": "code",
   "execution_count": 28,
   "metadata": {},
   "outputs": [],
   "source": [
    "data.to_csv('./datasets/cleaned_data/petfinder.csv', index=False)"
   ]
  }
 ],
 "metadata": {
  "interpreter": {
   "hash": "6aaf12f00e2accd7ab3a69f0361120d5b81b11b109d190d2913220c8ee37ccf8"
  },
  "kernelspec": {
   "display_name": "Python 3.9.7 ('base')",
   "language": "python",
   "name": "python3"
  },
  "language_info": {
   "codemirror_mode": {
    "name": "ipython",
    "version": 3
   },
   "file_extension": ".py",
   "mimetype": "text/x-python",
   "name": "python",
   "nbconvert_exporter": "python",
   "pygments_lexer": "ipython3",
   "version": "3.9.7"
  },
  "orig_nbformat": 4
 },
 "nbformat": 4,
 "nbformat_minor": 2
}
