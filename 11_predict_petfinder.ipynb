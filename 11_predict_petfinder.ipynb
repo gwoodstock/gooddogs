{
 "cells": [
  {
   "cell_type": "code",
   "execution_count": 52,
   "metadata": {},
   "outputs": [],
   "source": [
    "import pandas as pd\n",
    "import numpy as np\n",
    "import pickle\n",
    "\n",
    "from sklearn.ensemble import RandomForestClassifier\n",
    "from sklearn.preprocessing import OneHotEncoder"
   ]
  },
  {
   "cell_type": "code",
   "execution_count": 53,
   "metadata": {},
   "outputs": [],
   "source": [
    "data = pd.read_csv('./datasets/cleaned_data/petfinder.csv')"
   ]
  },
  {
   "cell_type": "code",
   "execution_count": 54,
   "metadata": {},
   "outputs": [
    {
     "data": {
      "text/html": [
       "<div>\n",
       "<style scoped>\n",
       "    .dataframe tbody tr th:only-of-type {\n",
       "        vertical-align: middle;\n",
       "    }\n",
       "\n",
       "    .dataframe tbody tr th {\n",
       "        vertical-align: top;\n",
       "    }\n",
       "\n",
       "    .dataframe thead th {\n",
       "        text-align: right;\n",
       "    }\n",
       "</style>\n",
       "<table border=\"1\" class=\"dataframe\">\n",
       "  <thead>\n",
       "    <tr style=\"text-align: right;\">\n",
       "      <th></th>\n",
       "      <th>age</th>\n",
       "      <th>gender</th>\n",
       "      <th>size</th>\n",
       "      <th>name</th>\n",
       "      <th>breed_1</th>\n",
       "      <th>breed_2</th>\n",
       "      <th>purebreed</th>\n",
       "      <th>color</th>\n",
       "      <th>intact_out</th>\n",
       "      <th>injured</th>\n",
       "      <th>age_out</th>\n",
       "      <th>primary_color</th>\n",
       "      <th>secondary_color</th>\n",
       "    </tr>\n",
       "  </thead>\n",
       "  <tbody>\n",
       "    <tr>\n",
       "      <th>0</th>\n",
       "      <td>Adult</td>\n",
       "      <td>1</td>\n",
       "      <td>Medium</td>\n",
       "      <td>Chip</td>\n",
       "      <td>Labrador Retriever</td>\n",
       "      <td>NaN</td>\n",
       "      <td>0</td>\n",
       "      <td>['black', 'black']</td>\n",
       "      <td>1</td>\n",
       "      <td>0</td>\n",
       "      <td>3.58</td>\n",
       "      <td>black</td>\n",
       "      <td>black</td>\n",
       "    </tr>\n",
       "    <tr>\n",
       "      <th>1</th>\n",
       "      <td>Baby</td>\n",
       "      <td>0</td>\n",
       "      <td>Small</td>\n",
       "      <td>Clover D220199</td>\n",
       "      <td>Terrier</td>\n",
       "      <td>NaN</td>\n",
       "      <td>0</td>\n",
       "      <td>NaN</td>\n",
       "      <td>1</td>\n",
       "      <td>0</td>\n",
       "      <td>0.00</td>\n",
       "      <td>NaN</td>\n",
       "      <td>NaN</td>\n",
       "    </tr>\n",
       "    <tr>\n",
       "      <th>2</th>\n",
       "      <td>Senior</td>\n",
       "      <td>0</td>\n",
       "      <td>Small</td>\n",
       "      <td>Willow</td>\n",
       "      <td>Chihuahua</td>\n",
       "      <td>NaN</td>\n",
       "      <td>1</td>\n",
       "      <td>NaN</td>\n",
       "      <td>1</td>\n",
       "      <td>0</td>\n",
       "      <td>11.34</td>\n",
       "      <td>NaN</td>\n",
       "      <td>NaN</td>\n",
       "    </tr>\n",
       "    <tr>\n",
       "      <th>3</th>\n",
       "      <td>Adult</td>\n",
       "      <td>0</td>\n",
       "      <td>Small</td>\n",
       "      <td>Dolly</td>\n",
       "      <td>Yorkshire Terrier</td>\n",
       "      <td>Poodle</td>\n",
       "      <td>0</td>\n",
       "      <td>NaN</td>\n",
       "      <td>1</td>\n",
       "      <td>0</td>\n",
       "      <td>3.58</td>\n",
       "      <td>NaN</td>\n",
       "      <td>NaN</td>\n",
       "    </tr>\n",
       "    <tr>\n",
       "      <th>4</th>\n",
       "      <td>Young</td>\n",
       "      <td>0</td>\n",
       "      <td>Medium</td>\n",
       "      <td>Cheyenne</td>\n",
       "      <td>Terrier</td>\n",
       "      <td>NaN</td>\n",
       "      <td>0</td>\n",
       "      <td>['brown', 'chocolate']</td>\n",
       "      <td>1</td>\n",
       "      <td>0</td>\n",
       "      <td>1.00</td>\n",
       "      <td>brown</td>\n",
       "      <td>chocolate</td>\n",
       "    </tr>\n",
       "  </tbody>\n",
       "</table>\n",
       "</div>"
      ],
      "text/plain": [
       "      age  gender    size            name             breed_1 breed_2  \\\n",
       "0   Adult       1  Medium            Chip  Labrador Retriever     NaN   \n",
       "1    Baby       0   Small  Clover D220199             Terrier     NaN   \n",
       "2  Senior       0   Small          Willow           Chihuahua     NaN   \n",
       "3   Adult       0   Small           Dolly   Yorkshire Terrier  Poodle   \n",
       "4   Young       0  Medium        Cheyenne             Terrier     NaN   \n",
       "\n",
       "   purebreed                   color  intact_out  injured  age_out  \\\n",
       "0          0      ['black', 'black']           1        0     3.58   \n",
       "1          0                     NaN           1        0     0.00   \n",
       "2          1                     NaN           1        0    11.34   \n",
       "3          0                     NaN           1        0     3.58   \n",
       "4          0  ['brown', 'chocolate']           1        0     1.00   \n",
       "\n",
       "  primary_color secondary_color  \n",
       "0         black           black  \n",
       "1           NaN             NaN  \n",
       "2           NaN             NaN  \n",
       "3           NaN             NaN  \n",
       "4         brown       chocolate  "
      ]
     },
     "execution_count": 54,
     "metadata": {},
     "output_type": "execute_result"
    }
   ],
   "source": [
    "data.head()"
   ]
  },
  {
   "cell_type": "code",
   "execution_count": 55,
   "metadata": {},
   "outputs": [],
   "source": [
    "data['cond'] = data['injured'].map(lambda x: np.where(x == 1, 0, 1))\n",
    "data['age'] = data['age'].str.lower()\n",
    "data['breed'] = data['breed_1'].str.lower()"
   ]
  },
  {
   "cell_type": "code",
   "execution_count": 56,
   "metadata": {},
   "outputs": [],
   "source": [
    "# load model\n",
    "with open('./models/model_rfc.pkl', 'rb') as f:\n",
    "    model = pickle.load(f)\n",
    "\n",
    "# load transformer\n",
    "with open('./models/encode_data.pkl', 'rb') as f:\n",
    "    encoder = pickle.load(f)"
   ]
  },
  {
   "cell_type": "code",
   "execution_count": 57,
   "metadata": {},
   "outputs": [],
   "source": [
    "X = np.array(data[['age', 'breed', 'cond']])\n",
    "X = encoder.transform(X)"
   ]
  },
  {
   "cell_type": "code",
   "execution_count": 58,
   "metadata": {},
   "outputs": [],
   "source": [
    "preds = model.predict_proba(X)"
   ]
  },
  {
   "cell_type": "code",
   "execution_count": 59,
   "metadata": {},
   "outputs": [
    {
     "data": {
      "text/plain": [
       "array([0.59688652, 0.48763947, 0.70268982, 0.22858582, 0.34322031,\n",
       "       0.72911922, 0.48763947, 0.48763947, 0.48763947, 0.48763947])"
      ]
     },
     "execution_count": 59,
     "metadata": {},
     "output_type": "execute_result"
    }
   ],
   "source": [
    "preds[:10, 1]"
   ]
  },
  {
   "cell_type": "code",
   "execution_count": 60,
   "metadata": {},
   "outputs": [],
   "source": [
    "data['pred_at_risk'] = preds[:,1]"
   ]
  },
  {
   "cell_type": "code",
   "execution_count": 61,
   "metadata": {},
   "outputs": [],
   "source": [
    "data.to_csv('./datasets/cleaned_data/petfinder.csv', index=False)"
   ]
  }
 ],
 "metadata": {
  "interpreter": {
   "hash": "6aaf12f00e2accd7ab3a69f0361120d5b81b11b109d190d2913220c8ee37ccf8"
  },
  "kernelspec": {
   "display_name": "Python 3.9.7 ('base')",
   "language": "python",
   "name": "python3"
  },
  "language_info": {
   "codemirror_mode": {
    "name": "ipython",
    "version": 3
   },
   "file_extension": ".py",
   "mimetype": "text/x-python",
   "name": "python",
   "nbconvert_exporter": "python",
   "pygments_lexer": "ipython3",
   "version": "3.9.7"
  },
  "orig_nbformat": 4
 },
 "nbformat": 4,
 "nbformat_minor": 2
}
