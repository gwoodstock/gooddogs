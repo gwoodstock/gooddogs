{
 "cells": [
  {
   "cell_type": "markdown",
   "metadata": {},
   "source": [
    "# Import Libraries"
   ]
  },
  {
   "cell_type": "code",
   "execution_count": 253,
   "metadata": {},
   "outputs": [],
   "source": [
    "import pandas as pd\n",
    "import numpy as np\n",
    "import re"
   ]
  },
  {
   "cell_type": "markdown",
   "metadata": {},
   "source": [
    "# Import Data"
   ]
  },
  {
   "cell_type": "code",
   "execution_count": 141,
   "metadata": {},
   "outputs": [],
   "source": [
    "austin_intakes = pd.read_csv('./datasets/raw_data/austin_animal_center_intakes.csv')"
   ]
  },
  {
   "cell_type": "code",
   "execution_count": 142,
   "metadata": {},
   "outputs": [
    {
     "data": {
      "text/html": [
       "<div>\n",
       "<style scoped>\n",
       "    .dataframe tbody tr th:only-of-type {\n",
       "        vertical-align: middle;\n",
       "    }\n",
       "\n",
       "    .dataframe tbody tr th {\n",
       "        vertical-align: top;\n",
       "    }\n",
       "\n",
       "    .dataframe thead th {\n",
       "        text-align: right;\n",
       "    }\n",
       "</style>\n",
       "<table border=\"1\" class=\"dataframe\">\n",
       "  <thead>\n",
       "    <tr style=\"text-align: right;\">\n",
       "      <th></th>\n",
       "      <th>Animal ID</th>\n",
       "      <th>Name</th>\n",
       "      <th>DateTime</th>\n",
       "      <th>MonthYear</th>\n",
       "      <th>Found Location</th>\n",
       "      <th>Intake Type</th>\n",
       "      <th>Intake Condition</th>\n",
       "      <th>Animal Type</th>\n",
       "      <th>Sex upon Intake</th>\n",
       "      <th>Age upon Intake</th>\n",
       "      <th>Breed</th>\n",
       "      <th>Color</th>\n",
       "    </tr>\n",
       "  </thead>\n",
       "  <tbody>\n",
       "    <tr>\n",
       "      <th>0</th>\n",
       "      <td>A786884</td>\n",
       "      <td>*Brock</td>\n",
       "      <td>01/03/2019 04:19:00 PM</td>\n",
       "      <td>January 2019</td>\n",
       "      <td>2501 Magin Meadow Dr in Austin (TX)</td>\n",
       "      <td>Stray</td>\n",
       "      <td>Normal</td>\n",
       "      <td>Dog</td>\n",
       "      <td>Neutered Male</td>\n",
       "      <td>2 years</td>\n",
       "      <td>Beagle Mix</td>\n",
       "      <td>Tricolor</td>\n",
       "    </tr>\n",
       "    <tr>\n",
       "      <th>1</th>\n",
       "      <td>A706918</td>\n",
       "      <td>Belle</td>\n",
       "      <td>07/05/2015 12:59:00 PM</td>\n",
       "      <td>July 2015</td>\n",
       "      <td>9409 Bluegrass Dr in Austin (TX)</td>\n",
       "      <td>Stray</td>\n",
       "      <td>Normal</td>\n",
       "      <td>Dog</td>\n",
       "      <td>Spayed Female</td>\n",
       "      <td>8 years</td>\n",
       "      <td>English Springer Spaniel</td>\n",
       "      <td>White/Liver</td>\n",
       "    </tr>\n",
       "  </tbody>\n",
       "</table>\n",
       "</div>"
      ],
      "text/plain": [
       "  Animal ID    Name                DateTime     MonthYear  \\\n",
       "0   A786884  *Brock  01/03/2019 04:19:00 PM  January 2019   \n",
       "1   A706918   Belle  07/05/2015 12:59:00 PM     July 2015   \n",
       "\n",
       "                        Found Location Intake Type Intake Condition  \\\n",
       "0  2501 Magin Meadow Dr in Austin (TX)       Stray           Normal   \n",
       "1     9409 Bluegrass Dr in Austin (TX)       Stray           Normal   \n",
       "\n",
       "  Animal Type Sex upon Intake Age upon Intake                     Breed  \\\n",
       "0         Dog   Neutered Male         2 years                Beagle Mix   \n",
       "1         Dog   Spayed Female         8 years  English Springer Spaniel   \n",
       "\n",
       "         Color  \n",
       "0     Tricolor  \n",
       "1  White/Liver  "
      ]
     },
     "execution_count": 142,
     "metadata": {},
     "output_type": "execute_result"
    }
   ],
   "source": [
    "austin_intakes.head(2)"
   ]
  },
  {
   "cell_type": "code",
   "execution_count": 143,
   "metadata": {},
   "outputs": [],
   "source": [
    "austin_outcomes = pd.read_csv('./datasets/raw_data/austin_animal_center_outcomes.csv')"
   ]
  },
  {
   "cell_type": "code",
   "execution_count": 144,
   "metadata": {},
   "outputs": [
    {
     "data": {
      "text/html": [
       "<div>\n",
       "<style scoped>\n",
       "    .dataframe tbody tr th:only-of-type {\n",
       "        vertical-align: middle;\n",
       "    }\n",
       "\n",
       "    .dataframe tbody tr th {\n",
       "        vertical-align: top;\n",
       "    }\n",
       "\n",
       "    .dataframe thead th {\n",
       "        text-align: right;\n",
       "    }\n",
       "</style>\n",
       "<table border=\"1\" class=\"dataframe\">\n",
       "  <thead>\n",
       "    <tr style=\"text-align: right;\">\n",
       "      <th></th>\n",
       "      <th>Animal ID</th>\n",
       "      <th>Name</th>\n",
       "      <th>DateTime</th>\n",
       "      <th>MonthYear</th>\n",
       "      <th>Date of Birth</th>\n",
       "      <th>Outcome Type</th>\n",
       "      <th>Outcome Subtype</th>\n",
       "      <th>Animal Type</th>\n",
       "      <th>Sex upon Outcome</th>\n",
       "      <th>Age upon Outcome</th>\n",
       "      <th>Breed</th>\n",
       "      <th>Color</th>\n",
       "    </tr>\n",
       "  </thead>\n",
       "  <tbody>\n",
       "    <tr>\n",
       "      <th>0</th>\n",
       "      <td>A794011</td>\n",
       "      <td>Chunk</td>\n",
       "      <td>05/08/2019 06:20:00 PM</td>\n",
       "      <td>May 2019</td>\n",
       "      <td>05/02/2017</td>\n",
       "      <td>Rto-Adopt</td>\n",
       "      <td>NaN</td>\n",
       "      <td>Cat</td>\n",
       "      <td>Neutered Male</td>\n",
       "      <td>2 years</td>\n",
       "      <td>Domestic Shorthair Mix</td>\n",
       "      <td>Brown Tabby/White</td>\n",
       "    </tr>\n",
       "    <tr>\n",
       "      <th>1</th>\n",
       "      <td>A776359</td>\n",
       "      <td>Gizmo</td>\n",
       "      <td>07/18/2018 04:02:00 PM</td>\n",
       "      <td>Jul 2018</td>\n",
       "      <td>07/12/2017</td>\n",
       "      <td>Adoption</td>\n",
       "      <td>NaN</td>\n",
       "      <td>Dog</td>\n",
       "      <td>Neutered Male</td>\n",
       "      <td>1 year</td>\n",
       "      <td>Chihuahua Shorthair Mix</td>\n",
       "      <td>White/Brown</td>\n",
       "    </tr>\n",
       "  </tbody>\n",
       "</table>\n",
       "</div>"
      ],
      "text/plain": [
       "  Animal ID   Name                DateTime MonthYear Date of Birth  \\\n",
       "0   A794011  Chunk  05/08/2019 06:20:00 PM  May 2019    05/02/2017   \n",
       "1   A776359  Gizmo  07/18/2018 04:02:00 PM  Jul 2018    07/12/2017   \n",
       "\n",
       "  Outcome Type Outcome Subtype Animal Type Sex upon Outcome Age upon Outcome  \\\n",
       "0    Rto-Adopt             NaN         Cat    Neutered Male          2 years   \n",
       "1     Adoption             NaN         Dog    Neutered Male           1 year   \n",
       "\n",
       "                     Breed              Color  \n",
       "0   Domestic Shorthair Mix  Brown Tabby/White  \n",
       "1  Chihuahua Shorthair Mix        White/Brown  "
      ]
     },
     "execution_count": 144,
     "metadata": {},
     "output_type": "execute_result"
    }
   ],
   "source": [
    "austin_outcomes.head(2)"
   ]
  },
  {
   "cell_type": "code",
   "execution_count": 145,
   "metadata": {},
   "outputs": [],
   "source": [
    "austin_outcomes_2 = pd.read_csv('./datasets/raw_data/austin_animal_center_outcomes_2.csv')"
   ]
  },
  {
   "cell_type": "code",
   "execution_count": 146,
   "metadata": {},
   "outputs": [
    {
     "data": {
      "text/html": [
       "<div>\n",
       "<style scoped>\n",
       "    .dataframe tbody tr th:only-of-type {\n",
       "        vertical-align: middle;\n",
       "    }\n",
       "\n",
       "    .dataframe tbody tr th {\n",
       "        vertical-align: top;\n",
       "    }\n",
       "\n",
       "    .dataframe thead th {\n",
       "        text-align: right;\n",
       "    }\n",
       "</style>\n",
       "<table border=\"1\" class=\"dataframe\">\n",
       "  <thead>\n",
       "    <tr style=\"text-align: right;\">\n",
       "      <th></th>\n",
       "      <th>Animal ID</th>\n",
       "      <th>Name</th>\n",
       "      <th>DateTime</th>\n",
       "      <th>MonthYear</th>\n",
       "      <th>Date of Birth</th>\n",
       "      <th>Outcome Type</th>\n",
       "      <th>Outcome Subtype</th>\n",
       "      <th>Animal Type</th>\n",
       "      <th>Sex upon Outcome</th>\n",
       "      <th>Age upon Outcome</th>\n",
       "      <th>Breed</th>\n",
       "      <th>Color</th>\n",
       "    </tr>\n",
       "  </thead>\n",
       "  <tbody>\n",
       "    <tr>\n",
       "      <th>0</th>\n",
       "      <td>A794011</td>\n",
       "      <td>Chunk</td>\n",
       "      <td>05/08/2019 06:20:00 PM</td>\n",
       "      <td>May 2019</td>\n",
       "      <td>05/02/2017</td>\n",
       "      <td>Rto-Adopt</td>\n",
       "      <td>NaN</td>\n",
       "      <td>Cat</td>\n",
       "      <td>Neutered Male</td>\n",
       "      <td>2 years</td>\n",
       "      <td>Domestic Shorthair Mix</td>\n",
       "      <td>Brown Tabby/White</td>\n",
       "    </tr>\n",
       "    <tr>\n",
       "      <th>1</th>\n",
       "      <td>A776359</td>\n",
       "      <td>Gizmo</td>\n",
       "      <td>07/18/2018 04:02:00 PM</td>\n",
       "      <td>Jul 2018</td>\n",
       "      <td>07/12/2017</td>\n",
       "      <td>Adoption</td>\n",
       "      <td>NaN</td>\n",
       "      <td>Dog</td>\n",
       "      <td>Neutered Male</td>\n",
       "      <td>1 year</td>\n",
       "      <td>Chihuahua Shorthair Mix</td>\n",
       "      <td>White/Brown</td>\n",
       "    </tr>\n",
       "  </tbody>\n",
       "</table>\n",
       "</div>"
      ],
      "text/plain": [
       "  Animal ID   Name                DateTime MonthYear Date of Birth  \\\n",
       "0   A794011  Chunk  05/08/2019 06:20:00 PM  May 2019    05/02/2017   \n",
       "1   A776359  Gizmo  07/18/2018 04:02:00 PM  Jul 2018    07/12/2017   \n",
       "\n",
       "  Outcome Type Outcome Subtype Animal Type Sex upon Outcome Age upon Outcome  \\\n",
       "0    Rto-Adopt             NaN         Cat    Neutered Male          2 years   \n",
       "1     Adoption             NaN         Dog    Neutered Male           1 year   \n",
       "\n",
       "                     Breed              Color  \n",
       "0   Domestic Shorthair Mix  Brown Tabby/White  \n",
       "1  Chihuahua Shorthair Mix        White/Brown  "
      ]
     },
     "execution_count": 146,
     "metadata": {},
     "output_type": "execute_result"
    }
   ],
   "source": [
    "austin_outcomes_2.head(2)"
   ]
  },
  {
   "cell_type": "markdown",
   "metadata": {},
   "source": [
    "# Clean Data"
   ]
  },
  {
   "cell_type": "markdown",
   "metadata": {},
   "source": [
    "## Austin Intakes"
   ]
  },
  {
   "cell_type": "code",
   "execution_count": 147,
   "metadata": {},
   "outputs": [
    {
     "data": {
      "text/plain": [
       "Dog    76769\n",
       "Name: Animal Type, dtype: int64"
      ]
     },
     "execution_count": 147,
     "metadata": {},
     "output_type": "execute_result"
    }
   ],
   "source": [
    "# Alternative animals\n",
    "austin_intakes[austin_intakes['Animal Type']=='Dog']['Animal Type'].value_counts()"
   ]
  },
  {
   "cell_type": "code",
   "execution_count": 148,
   "metadata": {},
   "outputs": [
    {
     "data": {
      "text/plain": [
       "(136288, 12)"
      ]
     },
     "execution_count": 148,
     "metadata": {},
     "output_type": "execute_result"
    }
   ],
   "source": [
    "austin_intakes.shape"
   ]
  },
  {
   "cell_type": "code",
   "execution_count": 149,
   "metadata": {},
   "outputs": [
    {
     "data": {
      "text/html": [
       "<div>\n",
       "<style scoped>\n",
       "    .dataframe tbody tr th:only-of-type {\n",
       "        vertical-align: middle;\n",
       "    }\n",
       "\n",
       "    .dataframe tbody tr th {\n",
       "        vertical-align: top;\n",
       "    }\n",
       "\n",
       "    .dataframe thead th {\n",
       "        text-align: right;\n",
       "    }\n",
       "</style>\n",
       "<table border=\"1\" class=\"dataframe\">\n",
       "  <thead>\n",
       "    <tr style=\"text-align: right;\">\n",
       "      <th></th>\n",
       "      <th>Animal ID</th>\n",
       "      <th>Name</th>\n",
       "      <th>DateTime</th>\n",
       "      <th>MonthYear</th>\n",
       "      <th>Found Location</th>\n",
       "      <th>Intake Type</th>\n",
       "      <th>Intake Condition</th>\n",
       "      <th>Animal Type</th>\n",
       "      <th>Sex upon Intake</th>\n",
       "      <th>Age upon Intake</th>\n",
       "      <th>Breed</th>\n",
       "      <th>Color</th>\n",
       "    </tr>\n",
       "  </thead>\n",
       "  <tbody>\n",
       "    <tr>\n",
       "      <th>0</th>\n",
       "      <td>A786884</td>\n",
       "      <td>*Brock</td>\n",
       "      <td>01/03/2019 04:19:00 PM</td>\n",
       "      <td>January 2019</td>\n",
       "      <td>2501 Magin Meadow Dr in Austin (TX)</td>\n",
       "      <td>Stray</td>\n",
       "      <td>Normal</td>\n",
       "      <td>Dog</td>\n",
       "      <td>Neutered Male</td>\n",
       "      <td>2 years</td>\n",
       "      <td>Beagle Mix</td>\n",
       "      <td>Tricolor</td>\n",
       "    </tr>\n",
       "    <tr>\n",
       "      <th>1</th>\n",
       "      <td>A706918</td>\n",
       "      <td>Belle</td>\n",
       "      <td>07/05/2015 12:59:00 PM</td>\n",
       "      <td>July 2015</td>\n",
       "      <td>9409 Bluegrass Dr in Austin (TX)</td>\n",
       "      <td>Stray</td>\n",
       "      <td>Normal</td>\n",
       "      <td>Dog</td>\n",
       "      <td>Spayed Female</td>\n",
       "      <td>8 years</td>\n",
       "      <td>English Springer Spaniel</td>\n",
       "      <td>White/Liver</td>\n",
       "    </tr>\n",
       "    <tr>\n",
       "      <th>2</th>\n",
       "      <td>A724273</td>\n",
       "      <td>Runster</td>\n",
       "      <td>04/14/2016 06:43:00 PM</td>\n",
       "      <td>April 2016</td>\n",
       "      <td>2818 Palomino Trail in Austin (TX)</td>\n",
       "      <td>Stray</td>\n",
       "      <td>Normal</td>\n",
       "      <td>Dog</td>\n",
       "      <td>Intact Male</td>\n",
       "      <td>11 months</td>\n",
       "      <td>Basenji Mix</td>\n",
       "      <td>Sable/White</td>\n",
       "    </tr>\n",
       "  </tbody>\n",
       "</table>\n",
       "</div>"
      ],
      "text/plain": [
       "  Animal ID     Name                DateTime     MonthYear  \\\n",
       "0   A786884   *Brock  01/03/2019 04:19:00 PM  January 2019   \n",
       "1   A706918    Belle  07/05/2015 12:59:00 PM     July 2015   \n",
       "2   A724273  Runster  04/14/2016 06:43:00 PM    April 2016   \n",
       "\n",
       "                        Found Location Intake Type Intake Condition  \\\n",
       "0  2501 Magin Meadow Dr in Austin (TX)       Stray           Normal   \n",
       "1     9409 Bluegrass Dr in Austin (TX)       Stray           Normal   \n",
       "2   2818 Palomino Trail in Austin (TX)       Stray           Normal   \n",
       "\n",
       "  Animal Type Sex upon Intake Age upon Intake                     Breed  \\\n",
       "0         Dog   Neutered Male         2 years                Beagle Mix   \n",
       "1         Dog   Spayed Female         8 years  English Springer Spaniel   \n",
       "2         Dog     Intact Male       11 months               Basenji Mix   \n",
       "\n",
       "         Color  \n",
       "0     Tricolor  \n",
       "1  White/Liver  \n",
       "2  Sable/White  "
      ]
     },
     "execution_count": 149,
     "metadata": {},
     "output_type": "execute_result"
    }
   ],
   "source": [
    "austin_intakes[austin_intakes['Animal Type']=='Dog'].head(3)"
   ]
  },
  {
   "cell_type": "code",
   "execution_count": 150,
   "metadata": {},
   "outputs": [],
   "source": [
    "# Drop non-dogs\n",
    "austin_intakes = austin_intakes[austin_intakes['Animal Type']=='Dog'].copy()"
   ]
  },
  {
   "cell_type": "code",
   "execution_count": 151,
   "metadata": {},
   "outputs": [
    {
     "data": {
      "text/plain": [
       "(76769, 12)"
      ]
     },
     "execution_count": 151,
     "metadata": {},
     "output_type": "execute_result"
    }
   ],
   "source": [
    "austin_intakes.shape"
   ]
  },
  {
   "cell_type": "markdown",
   "metadata": {},
   "source": [
    "## Austin Outcomes"
   ]
  },
  {
   "cell_type": "markdown",
   "metadata": {},
   "source": [
    "### Merge outcomes .csv"
   ]
  },
  {
   "cell_type": "code",
   "execution_count": 152,
   "metadata": {},
   "outputs": [],
   "source": [
    "# merge austin outcomes data sets\n",
    "austin_outcomes = pd.concat([austin_outcomes, austin_outcomes_2])"
   ]
  },
  {
   "cell_type": "code",
   "execution_count": 153,
   "metadata": {},
   "outputs": [],
   "source": [
    "# drop duplicated rows\n",
    "austin_outcomes.drop_duplicates(keep='first', inplace=True)"
   ]
  },
  {
   "cell_type": "code",
   "execution_count": 154,
   "metadata": {},
   "outputs": [
    {
     "data": {
      "text/plain": [
       "(136564, 12)"
      ]
     },
     "execution_count": 154,
     "metadata": {},
     "output_type": "execute_result"
    }
   ],
   "source": [
    "austin_outcomes.shape"
   ]
  },
  {
   "cell_type": "code",
   "execution_count": 155,
   "metadata": {},
   "outputs": [
    {
     "data": {
      "text/plain": [
       "Cat          51950\n",
       "Other         7221\n",
       "Bird           636\n",
       "Livestock       25\n",
       "Name: Animal Type, dtype: int64"
      ]
     },
     "execution_count": 155,
     "metadata": {},
     "output_type": "execute_result"
    }
   ],
   "source": [
    "austin_outcomes[austin_outcomes['Animal Type']!='Dog']['Animal Type'].value_counts()"
   ]
  },
  {
   "cell_type": "code",
   "execution_count": 156,
   "metadata": {},
   "outputs": [],
   "source": [
    "# drop non-dogs\n",
    "austin_outcomes = austin_outcomes[austin_outcomes['Animal Type']=='Dog'].copy()"
   ]
  },
  {
   "cell_type": "markdown",
   "metadata": {},
   "source": [
    "## Merge Intakes & Outcomes"
   ]
  },
  {
   "cell_type": "code",
   "execution_count": 157,
   "metadata": {},
   "outputs": [
    {
     "data": {
      "text/plain": [
       "(76769, 12)"
      ]
     },
     "execution_count": 157,
     "metadata": {},
     "output_type": "execute_result"
    }
   ],
   "source": [
    "austin_intakes.shape"
   ]
  },
  {
   "cell_type": "code",
   "execution_count": 158,
   "metadata": {},
   "outputs": [
    {
     "data": {
      "text/plain": [
       "(76732, 12)"
      ]
     },
     "execution_count": 158,
     "metadata": {},
     "output_type": "execute_result"
    }
   ],
   "source": [
    "austin_outcomes.shape"
   ]
  },
  {
   "cell_type": "code",
   "execution_count": 159,
   "metadata": {},
   "outputs": [
    {
     "data": {
      "text/html": [
       "<div>\n",
       "<style scoped>\n",
       "    .dataframe tbody tr th:only-of-type {\n",
       "        vertical-align: middle;\n",
       "    }\n",
       "\n",
       "    .dataframe tbody tr th {\n",
       "        vertical-align: top;\n",
       "    }\n",
       "\n",
       "    .dataframe thead th {\n",
       "        text-align: right;\n",
       "    }\n",
       "</style>\n",
       "<table border=\"1\" class=\"dataframe\">\n",
       "  <thead>\n",
       "    <tr style=\"text-align: right;\">\n",
       "      <th></th>\n",
       "      <th>Animal ID</th>\n",
       "      <th>Name</th>\n",
       "      <th>DateTime</th>\n",
       "      <th>MonthYear</th>\n",
       "      <th>Found Location</th>\n",
       "      <th>Intake Type</th>\n",
       "      <th>Intake Condition</th>\n",
       "      <th>Animal Type</th>\n",
       "      <th>Sex upon Intake</th>\n",
       "      <th>Age upon Intake</th>\n",
       "      <th>Breed</th>\n",
       "      <th>Color</th>\n",
       "    </tr>\n",
       "  </thead>\n",
       "  <tbody>\n",
       "    <tr>\n",
       "      <th>91423</th>\n",
       "      <td>A006100</td>\n",
       "      <td>Scamp</td>\n",
       "      <td>03/07/2014 02:26:00 PM</td>\n",
       "      <td>March 2014</td>\n",
       "      <td>8700 Research in Austin (TX)</td>\n",
       "      <td>Public Assist</td>\n",
       "      <td>Normal</td>\n",
       "      <td>Dog</td>\n",
       "      <td>Neutered Male</td>\n",
       "      <td>6 years</td>\n",
       "      <td>Spinone Italiano Mix</td>\n",
       "      <td>Yellow/White</td>\n",
       "    </tr>\n",
       "    <tr>\n",
       "      <th>20233</th>\n",
       "      <td>A006100</td>\n",
       "      <td>Scamp</td>\n",
       "      <td>12/07/2017 02:07:00 PM</td>\n",
       "      <td>December 2017</td>\n",
       "      <td>Colony Creek And Hunters Trace in Austin (TX)</td>\n",
       "      <td>Stray</td>\n",
       "      <td>Normal</td>\n",
       "      <td>Dog</td>\n",
       "      <td>Neutered Male</td>\n",
       "      <td>10 years</td>\n",
       "      <td>Spinone Italiano Mix</td>\n",
       "      <td>Yellow/White</td>\n",
       "    </tr>\n",
       "    <tr>\n",
       "      <th>4344</th>\n",
       "      <td>A006100</td>\n",
       "      <td>Scamp</td>\n",
       "      <td>12/19/2014 10:21:00 AM</td>\n",
       "      <td>December 2014</td>\n",
       "      <td>8700 Research Blvd in Austin (TX)</td>\n",
       "      <td>Public Assist</td>\n",
       "      <td>Normal</td>\n",
       "      <td>Dog</td>\n",
       "      <td>Neutered Male</td>\n",
       "      <td>7 years</td>\n",
       "      <td>Spinone Italiano Mix</td>\n",
       "      <td>Yellow/White</td>\n",
       "    </tr>\n",
       "    <tr>\n",
       "      <th>99487</th>\n",
       "      <td>A245945</td>\n",
       "      <td>Boomer</td>\n",
       "      <td>07/03/2014 05:55:00 PM</td>\n",
       "      <td>July 2014</td>\n",
       "      <td>Garden And Mildred in Austin (TX)</td>\n",
       "      <td>Stray</td>\n",
       "      <td>Normal</td>\n",
       "      <td>Dog</td>\n",
       "      <td>Neutered Male</td>\n",
       "      <td>14 years</td>\n",
       "      <td>Labrador Retriever Mix</td>\n",
       "      <td>Tan</td>\n",
       "    </tr>\n",
       "    <tr>\n",
       "      <th>122656</th>\n",
       "      <td>A245945</td>\n",
       "      <td>Boomer</td>\n",
       "      <td>05/20/2015 10:34:00 PM</td>\n",
       "      <td>May 2015</td>\n",
       "      <td>7403 Blessing Ave in Austin (TX)</td>\n",
       "      <td>Stray</td>\n",
       "      <td>Normal</td>\n",
       "      <td>Dog</td>\n",
       "      <td>Neutered Male</td>\n",
       "      <td>15 years</td>\n",
       "      <td>Labrador Retriever Mix</td>\n",
       "      <td>Tan</td>\n",
       "    </tr>\n",
       "  </tbody>\n",
       "</table>\n",
       "</div>"
      ],
      "text/plain": [
       "       Animal ID    Name                DateTime      MonthYear  \\\n",
       "91423    A006100   Scamp  03/07/2014 02:26:00 PM     March 2014   \n",
       "20233    A006100   Scamp  12/07/2017 02:07:00 PM  December 2017   \n",
       "4344     A006100   Scamp  12/19/2014 10:21:00 AM  December 2014   \n",
       "99487    A245945  Boomer  07/03/2014 05:55:00 PM      July 2014   \n",
       "122656   A245945  Boomer  05/20/2015 10:34:00 PM       May 2015   \n",
       "\n",
       "                                       Found Location    Intake Type  \\\n",
       "91423                    8700 Research in Austin (TX)  Public Assist   \n",
       "20233   Colony Creek And Hunters Trace in Austin (TX)          Stray   \n",
       "4344                8700 Research Blvd in Austin (TX)  Public Assist   \n",
       "99487               Garden And Mildred in Austin (TX)          Stray   \n",
       "122656               7403 Blessing Ave in Austin (TX)          Stray   \n",
       "\n",
       "       Intake Condition Animal Type Sex upon Intake Age upon Intake  \\\n",
       "91423            Normal         Dog   Neutered Male         6 years   \n",
       "20233            Normal         Dog   Neutered Male        10 years   \n",
       "4344             Normal         Dog   Neutered Male         7 years   \n",
       "99487            Normal         Dog   Neutered Male        14 years   \n",
       "122656           Normal         Dog   Neutered Male        15 years   \n",
       "\n",
       "                         Breed         Color  \n",
       "91423     Spinone Italiano Mix  Yellow/White  \n",
       "20233     Spinone Italiano Mix  Yellow/White  \n",
       "4344      Spinone Italiano Mix  Yellow/White  \n",
       "99487   Labrador Retriever Mix           Tan  \n",
       "122656  Labrador Retriever Mix           Tan  "
      ]
     },
     "execution_count": 159,
     "metadata": {},
     "output_type": "execute_result"
    }
   ],
   "source": [
    "# View duplicate intake Animal IDs\n",
    "austin_intakes[austin_intakes['Animal ID'].duplicated(keep=False)==True].sort_values(by='Animal ID').head()"
   ]
  },
  {
   "cell_type": "markdown",
   "metadata": {},
   "source": [
    "Duplciates appear to be same animal that has gone through intake at the shelter multiple times"
   ]
  },
  {
   "cell_type": "code",
   "execution_count": 160,
   "metadata": {},
   "outputs": [
    {
     "data": {
      "text/html": [
       "<div>\n",
       "<style scoped>\n",
       "    .dataframe tbody tr th:only-of-type {\n",
       "        vertical-align: middle;\n",
       "    }\n",
       "\n",
       "    .dataframe tbody tr th {\n",
       "        vertical-align: top;\n",
       "    }\n",
       "\n",
       "    .dataframe thead th {\n",
       "        text-align: right;\n",
       "    }\n",
       "</style>\n",
       "<table border=\"1\" class=\"dataframe\">\n",
       "  <thead>\n",
       "    <tr style=\"text-align: right;\">\n",
       "      <th></th>\n",
       "      <th>Animal ID</th>\n",
       "      <th>Name</th>\n",
       "      <th>DateTime</th>\n",
       "      <th>MonthYear</th>\n",
       "      <th>Date of Birth</th>\n",
       "      <th>Outcome Type</th>\n",
       "      <th>Outcome Subtype</th>\n",
       "      <th>Animal Type</th>\n",
       "      <th>Sex upon Outcome</th>\n",
       "      <th>Age upon Outcome</th>\n",
       "      <th>Breed</th>\n",
       "      <th>Color</th>\n",
       "    </tr>\n",
       "  </thead>\n",
       "  <tbody>\n",
       "    <tr>\n",
       "      <th>101494</th>\n",
       "      <td>A006100</td>\n",
       "      <td>Scamp</td>\n",
       "      <td>12/07/2017 12:00:00 AM</td>\n",
       "      <td>Dec 2017</td>\n",
       "      <td>07/09/2007</td>\n",
       "      <td>Return to Owner</td>\n",
       "      <td>NaN</td>\n",
       "      <td>Dog</td>\n",
       "      <td>Neutered Male</td>\n",
       "      <td>10 years</td>\n",
       "      <td>Spinone Italiano Mix</td>\n",
       "      <td>Yellow/White</td>\n",
       "    </tr>\n",
       "    <tr>\n",
       "      <th>56686</th>\n",
       "      <td>A006100</td>\n",
       "      <td>Scamp</td>\n",
       "      <td>12/20/2014 04:35:00 PM</td>\n",
       "      <td>Dec 2014</td>\n",
       "      <td>07/09/2007</td>\n",
       "      <td>Return to Owner</td>\n",
       "      <td>NaN</td>\n",
       "      <td>Dog</td>\n",
       "      <td>Neutered Male</td>\n",
       "      <td>7 years</td>\n",
       "      <td>Spinone Italiano Mix</td>\n",
       "      <td>Yellow/White</td>\n",
       "    </tr>\n",
       "    <tr>\n",
       "      <th>115237</th>\n",
       "      <td>A006100</td>\n",
       "      <td>Scamp</td>\n",
       "      <td>03/08/2014 05:10:00 PM</td>\n",
       "      <td>Mar 2014</td>\n",
       "      <td>07/09/2007</td>\n",
       "      <td>Return to Owner</td>\n",
       "      <td>NaN</td>\n",
       "      <td>Dog</td>\n",
       "      <td>Neutered Male</td>\n",
       "      <td>6 years</td>\n",
       "      <td>Spinone Italiano Mix</td>\n",
       "      <td>Yellow/White</td>\n",
       "    </tr>\n",
       "    <tr>\n",
       "      <th>69529</th>\n",
       "      <td>A245945</td>\n",
       "      <td>Boomer</td>\n",
       "      <td>05/25/2015 11:49:00 AM</td>\n",
       "      <td>May 2015</td>\n",
       "      <td>05/23/2000</td>\n",
       "      <td>Transfer</td>\n",
       "      <td>Partner</td>\n",
       "      <td>Dog</td>\n",
       "      <td>Neutered Male</td>\n",
       "      <td>15 years</td>\n",
       "      <td>Labrador Retriever Mix</td>\n",
       "      <td>Tan</td>\n",
       "    </tr>\n",
       "    <tr>\n",
       "      <th>90697</th>\n",
       "      <td>A245945</td>\n",
       "      <td>Boomer</td>\n",
       "      <td>07/04/2014 03:26:00 PM</td>\n",
       "      <td>Jul 2014</td>\n",
       "      <td>05/23/2000</td>\n",
       "      <td>Return to Owner</td>\n",
       "      <td>NaN</td>\n",
       "      <td>Dog</td>\n",
       "      <td>Neutered Male</td>\n",
       "      <td>14 years</td>\n",
       "      <td>Labrador Retriever Mix</td>\n",
       "      <td>Tan</td>\n",
       "    </tr>\n",
       "  </tbody>\n",
       "</table>\n",
       "</div>"
      ],
      "text/plain": [
       "       Animal ID    Name                DateTime MonthYear Date of Birth  \\\n",
       "101494   A006100   Scamp  12/07/2017 12:00:00 AM  Dec 2017    07/09/2007   \n",
       "56686    A006100   Scamp  12/20/2014 04:35:00 PM  Dec 2014    07/09/2007   \n",
       "115237   A006100   Scamp  03/08/2014 05:10:00 PM  Mar 2014    07/09/2007   \n",
       "69529    A245945  Boomer  05/25/2015 11:49:00 AM  May 2015    05/23/2000   \n",
       "90697    A245945  Boomer  07/04/2014 03:26:00 PM  Jul 2014    05/23/2000   \n",
       "\n",
       "           Outcome Type Outcome Subtype Animal Type Sex upon Outcome  \\\n",
       "101494  Return to Owner             NaN         Dog    Neutered Male   \n",
       "56686   Return to Owner             NaN         Dog    Neutered Male   \n",
       "115237  Return to Owner             NaN         Dog    Neutered Male   \n",
       "69529          Transfer         Partner         Dog    Neutered Male   \n",
       "90697   Return to Owner             NaN         Dog    Neutered Male   \n",
       "\n",
       "       Age upon Outcome                   Breed         Color  \n",
       "101494         10 years    Spinone Italiano Mix  Yellow/White  \n",
       "56686           7 years    Spinone Italiano Mix  Yellow/White  \n",
       "115237          6 years    Spinone Italiano Mix  Yellow/White  \n",
       "69529          15 years  Labrador Retriever Mix           Tan  \n",
       "90697          14 years  Labrador Retriever Mix           Tan  "
      ]
     },
     "execution_count": 160,
     "metadata": {},
     "output_type": "execute_result"
    }
   ],
   "source": [
    "# View duplicate outcome Animal IDs\n",
    "austin_outcomes[austin_outcomes['Animal ID'].duplicated(keep=False)==True].sort_values(by='Animal ID').head()"
   ]
  },
  {
   "cell_type": "markdown",
   "metadata": {},
   "source": [
    "Duplciates appear to be same animal that has had recorded outcome at the shelter multiple times"
   ]
  },
  {
   "cell_type": "code",
   "execution_count": 161,
   "metadata": {},
   "outputs": [
    {
     "data": {
      "text/plain": [
       "(76769, 12)"
      ]
     },
     "execution_count": 161,
     "metadata": {},
     "output_type": "execute_result"
    }
   ],
   "source": [
    "austin_intakes.shape"
   ]
  },
  {
   "cell_type": "code",
   "execution_count": 162,
   "metadata": {},
   "outputs": [
    {
     "data": {
      "text/plain": [
       "(76732, 12)"
      ]
     },
     "execution_count": 162,
     "metadata": {},
     "output_type": "execute_result"
    }
   ],
   "source": [
    "austin_outcomes.shape\n"
   ]
  },
  {
   "cell_type": "markdown",
   "metadata": {},
   "source": [
    "Rows of austin intakes and austin outcomes appear to largely line up, however dates for each animal are not necessarily listed in the same order and intakes has ~40 more rows"
   ]
  },
  {
   "cell_type": "code",
   "execution_count": 163,
   "metadata": {},
   "outputs": [
    {
     "data": {
      "text/html": [
       "<div>\n",
       "<style scoped>\n",
       "    .dataframe tbody tr th:only-of-type {\n",
       "        vertical-align: middle;\n",
       "    }\n",
       "\n",
       "    .dataframe tbody tr th {\n",
       "        vertical-align: top;\n",
       "    }\n",
       "\n",
       "    .dataframe thead th {\n",
       "        text-align: right;\n",
       "    }\n",
       "</style>\n",
       "<table border=\"1\" class=\"dataframe\">\n",
       "  <thead>\n",
       "    <tr style=\"text-align: right;\">\n",
       "      <th></th>\n",
       "      <th>Animal ID</th>\n",
       "      <th>Name</th>\n",
       "      <th>DateTime</th>\n",
       "      <th>MonthYear</th>\n",
       "      <th>Date of Birth</th>\n",
       "      <th>Outcome Type</th>\n",
       "      <th>Outcome Subtype</th>\n",
       "      <th>Animal Type</th>\n",
       "      <th>Sex upon Outcome</th>\n",
       "      <th>Age upon Outcome</th>\n",
       "      <th>Breed</th>\n",
       "      <th>Color</th>\n",
       "    </tr>\n",
       "  </thead>\n",
       "  <tbody>\n",
       "    <tr>\n",
       "      <th>101494</th>\n",
       "      <td>A006100</td>\n",
       "      <td>Scamp</td>\n",
       "      <td>12/07/2017 12:00:00 AM</td>\n",
       "      <td>Dec 2017</td>\n",
       "      <td>07/09/2007</td>\n",
       "      <td>Return to Owner</td>\n",
       "      <td>NaN</td>\n",
       "      <td>Dog</td>\n",
       "      <td>Neutered Male</td>\n",
       "      <td>10 years</td>\n",
       "      <td>Spinone Italiano Mix</td>\n",
       "      <td>Yellow/White</td>\n",
       "    </tr>\n",
       "    <tr>\n",
       "      <th>115237</th>\n",
       "      <td>A006100</td>\n",
       "      <td>Scamp</td>\n",
       "      <td>03/08/2014 05:10:00 PM</td>\n",
       "      <td>Mar 2014</td>\n",
       "      <td>07/09/2007</td>\n",
       "      <td>Return to Owner</td>\n",
       "      <td>NaN</td>\n",
       "      <td>Dog</td>\n",
       "      <td>Neutered Male</td>\n",
       "      <td>6 years</td>\n",
       "      <td>Spinone Italiano Mix</td>\n",
       "      <td>Yellow/White</td>\n",
       "    </tr>\n",
       "    <tr>\n",
       "      <th>56686</th>\n",
       "      <td>A006100</td>\n",
       "      <td>Scamp</td>\n",
       "      <td>12/20/2014 04:35:00 PM</td>\n",
       "      <td>Dec 2014</td>\n",
       "      <td>07/09/2007</td>\n",
       "      <td>Return to Owner</td>\n",
       "      <td>NaN</td>\n",
       "      <td>Dog</td>\n",
       "      <td>Neutered Male</td>\n",
       "      <td>7 years</td>\n",
       "      <td>Spinone Italiano Mix</td>\n",
       "      <td>Yellow/White</td>\n",
       "    </tr>\n",
       "    <tr>\n",
       "      <th>39142</th>\n",
       "      <td>A047759</td>\n",
       "      <td>Oreo</td>\n",
       "      <td>04/07/2014 03:12:00 PM</td>\n",
       "      <td>Apr 2014</td>\n",
       "      <td>04/02/2004</td>\n",
       "      <td>Transfer</td>\n",
       "      <td>Partner</td>\n",
       "      <td>Dog</td>\n",
       "      <td>Neutered Male</td>\n",
       "      <td>10 years</td>\n",
       "      <td>Dachshund</td>\n",
       "      <td>Tricolor</td>\n",
       "    </tr>\n",
       "    <tr>\n",
       "      <th>81491</th>\n",
       "      <td>A134067</td>\n",
       "      <td>Bandit</td>\n",
       "      <td>11/16/2013 11:54:00 AM</td>\n",
       "      <td>Nov 2013</td>\n",
       "      <td>10/16/1997</td>\n",
       "      <td>Return to Owner</td>\n",
       "      <td>NaN</td>\n",
       "      <td>Dog</td>\n",
       "      <td>Neutered Male</td>\n",
       "      <td>16 years</td>\n",
       "      <td>Shetland Sheepdog</td>\n",
       "      <td>Brown/White</td>\n",
       "    </tr>\n",
       "  </tbody>\n",
       "</table>\n",
       "</div>"
      ],
      "text/plain": [
       "       Animal ID    Name                DateTime MonthYear Date of Birth  \\\n",
       "101494   A006100   Scamp  12/07/2017 12:00:00 AM  Dec 2017    07/09/2007   \n",
       "115237   A006100   Scamp  03/08/2014 05:10:00 PM  Mar 2014    07/09/2007   \n",
       "56686    A006100   Scamp  12/20/2014 04:35:00 PM  Dec 2014    07/09/2007   \n",
       "39142    A047759    Oreo  04/07/2014 03:12:00 PM  Apr 2014    04/02/2004   \n",
       "81491    A134067  Bandit  11/16/2013 11:54:00 AM  Nov 2013    10/16/1997   \n",
       "\n",
       "           Outcome Type Outcome Subtype Animal Type Sex upon Outcome  \\\n",
       "101494  Return to Owner             NaN         Dog    Neutered Male   \n",
       "115237  Return to Owner             NaN         Dog    Neutered Male   \n",
       "56686   Return to Owner             NaN         Dog    Neutered Male   \n",
       "39142          Transfer         Partner         Dog    Neutered Male   \n",
       "81491   Return to Owner             NaN         Dog    Neutered Male   \n",
       "\n",
       "       Age upon Outcome                 Breed         Color  \n",
       "101494         10 years  Spinone Italiano Mix  Yellow/White  \n",
       "115237          6 years  Spinone Italiano Mix  Yellow/White  \n",
       "56686           7 years  Spinone Italiano Mix  Yellow/White  \n",
       "39142          10 years             Dachshund      Tricolor  \n",
       "81491          16 years     Shetland Sheepdog   Brown/White  "
      ]
     },
     "execution_count": 163,
     "metadata": {},
     "output_type": "execute_result"
    }
   ],
   "source": [
    "austin_outcomes.sort_values(by='Animal ID').head()"
   ]
  },
  {
   "cell_type": "code",
   "execution_count": 164,
   "metadata": {},
   "outputs": [
    {
     "data": {
      "text/html": [
       "<div>\n",
       "<style scoped>\n",
       "    .dataframe tbody tr th:only-of-type {\n",
       "        vertical-align: middle;\n",
       "    }\n",
       "\n",
       "    .dataframe tbody tr th {\n",
       "        vertical-align: top;\n",
       "    }\n",
       "\n",
       "    .dataframe thead th {\n",
       "        text-align: right;\n",
       "    }\n",
       "</style>\n",
       "<table border=\"1\" class=\"dataframe\">\n",
       "  <thead>\n",
       "    <tr style=\"text-align: right;\">\n",
       "      <th></th>\n",
       "      <th>Animal ID</th>\n",
       "      <th>Name</th>\n",
       "      <th>DateTime</th>\n",
       "      <th>MonthYear</th>\n",
       "      <th>Found Location</th>\n",
       "      <th>Intake Type</th>\n",
       "      <th>Intake Condition</th>\n",
       "      <th>Animal Type</th>\n",
       "      <th>Sex upon Intake</th>\n",
       "      <th>Age upon Intake</th>\n",
       "      <th>Breed</th>\n",
       "      <th>Color</th>\n",
       "    </tr>\n",
       "  </thead>\n",
       "  <tbody>\n",
       "    <tr>\n",
       "      <th>20233</th>\n",
       "      <td>A006100</td>\n",
       "      <td>Scamp</td>\n",
       "      <td>12/07/2017 02:07:00 PM</td>\n",
       "      <td>December 2017</td>\n",
       "      <td>Colony Creek And Hunters Trace in Austin (TX)</td>\n",
       "      <td>Stray</td>\n",
       "      <td>Normal</td>\n",
       "      <td>Dog</td>\n",
       "      <td>Neutered Male</td>\n",
       "      <td>10 years</td>\n",
       "      <td>Spinone Italiano Mix</td>\n",
       "      <td>Yellow/White</td>\n",
       "    </tr>\n",
       "    <tr>\n",
       "      <th>91423</th>\n",
       "      <td>A006100</td>\n",
       "      <td>Scamp</td>\n",
       "      <td>03/07/2014 02:26:00 PM</td>\n",
       "      <td>March 2014</td>\n",
       "      <td>8700 Research in Austin (TX)</td>\n",
       "      <td>Public Assist</td>\n",
       "      <td>Normal</td>\n",
       "      <td>Dog</td>\n",
       "      <td>Neutered Male</td>\n",
       "      <td>6 years</td>\n",
       "      <td>Spinone Italiano Mix</td>\n",
       "      <td>Yellow/White</td>\n",
       "    </tr>\n",
       "    <tr>\n",
       "      <th>4344</th>\n",
       "      <td>A006100</td>\n",
       "      <td>Scamp</td>\n",
       "      <td>12/19/2014 10:21:00 AM</td>\n",
       "      <td>December 2014</td>\n",
       "      <td>8700 Research Blvd in Austin (TX)</td>\n",
       "      <td>Public Assist</td>\n",
       "      <td>Normal</td>\n",
       "      <td>Dog</td>\n",
       "      <td>Neutered Male</td>\n",
       "      <td>7 years</td>\n",
       "      <td>Spinone Italiano Mix</td>\n",
       "      <td>Yellow/White</td>\n",
       "    </tr>\n",
       "    <tr>\n",
       "      <th>71055</th>\n",
       "      <td>A047759</td>\n",
       "      <td>Oreo</td>\n",
       "      <td>04/02/2014 03:55:00 PM</td>\n",
       "      <td>April 2014</td>\n",
       "      <td>Austin (TX)</td>\n",
       "      <td>Owner Surrender</td>\n",
       "      <td>Normal</td>\n",
       "      <td>Dog</td>\n",
       "      <td>Neutered Male</td>\n",
       "      <td>10 years</td>\n",
       "      <td>Dachshund</td>\n",
       "      <td>Tricolor</td>\n",
       "    </tr>\n",
       "    <tr>\n",
       "      <th>96671</th>\n",
       "      <td>A134067</td>\n",
       "      <td>Bandit</td>\n",
       "      <td>11/16/2013 09:02:00 AM</td>\n",
       "      <td>November 2013</td>\n",
       "      <td>12034 Research Blvd in Austin (TX)</td>\n",
       "      <td>Public Assist</td>\n",
       "      <td>Injured</td>\n",
       "      <td>Dog</td>\n",
       "      <td>Neutered Male</td>\n",
       "      <td>16 years</td>\n",
       "      <td>Shetland Sheepdog</td>\n",
       "      <td>Brown/White</td>\n",
       "    </tr>\n",
       "  </tbody>\n",
       "</table>\n",
       "</div>"
      ],
      "text/plain": [
       "      Animal ID    Name                DateTime      MonthYear  \\\n",
       "20233   A006100   Scamp  12/07/2017 02:07:00 PM  December 2017   \n",
       "91423   A006100   Scamp  03/07/2014 02:26:00 PM     March 2014   \n",
       "4344    A006100   Scamp  12/19/2014 10:21:00 AM  December 2014   \n",
       "71055   A047759    Oreo  04/02/2014 03:55:00 PM     April 2014   \n",
       "96671   A134067  Bandit  11/16/2013 09:02:00 AM  November 2013   \n",
       "\n",
       "                                      Found Location      Intake Type  \\\n",
       "20233  Colony Creek And Hunters Trace in Austin (TX)            Stray   \n",
       "91423                   8700 Research in Austin (TX)    Public Assist   \n",
       "4344               8700 Research Blvd in Austin (TX)    Public Assist   \n",
       "71055                                    Austin (TX)  Owner Surrender   \n",
       "96671             12034 Research Blvd in Austin (TX)    Public Assist   \n",
       "\n",
       "      Intake Condition Animal Type Sex upon Intake Age upon Intake  \\\n",
       "20233           Normal         Dog   Neutered Male        10 years   \n",
       "91423           Normal         Dog   Neutered Male         6 years   \n",
       "4344            Normal         Dog   Neutered Male         7 years   \n",
       "71055           Normal         Dog   Neutered Male        10 years   \n",
       "96671          Injured         Dog   Neutered Male        16 years   \n",
       "\n",
       "                      Breed         Color  \n",
       "20233  Spinone Italiano Mix  Yellow/White  \n",
       "91423  Spinone Italiano Mix  Yellow/White  \n",
       "4344   Spinone Italiano Mix  Yellow/White  \n",
       "71055             Dachshund      Tricolor  \n",
       "96671     Shetland Sheepdog   Brown/White  "
      ]
     },
     "execution_count": 164,
     "metadata": {},
     "output_type": "execute_result"
    }
   ],
   "source": [
    "austin_intakes.sort_values(by='Animal ID').head()"
   ]
  },
  {
   "cell_type": "code",
   "execution_count": 165,
   "metadata": {},
   "outputs": [
    {
     "data": {
      "text/plain": [
       "381"
      ]
     },
     "execution_count": 165,
     "metadata": {},
     "output_type": "execute_result"
    }
   ],
   "source": [
    "# Identify missing outcome Animal IDs\n",
    "in_id = set(austin_intakes['Animal ID'])\n",
    "out_id = set(austin_outcomes['Animal ID'])\n",
    "\n",
    "len(list(out_id.difference(in_id)))"
   ]
  },
  {
   "cell_type": "markdown",
   "metadata": {},
   "source": [
    "Missing intake data on 381 Animal IDs from outcomes"
   ]
  },
  {
   "cell_type": "code",
   "execution_count": 166,
   "metadata": {},
   "outputs": [],
   "source": [
    "#List of all Animal IDs in austin outcomes and intakes\n",
    "austin_in_out_ids = list(in_id.union(out_id))"
   ]
  },
  {
   "cell_type": "code",
   "execution_count": 167,
   "metadata": {},
   "outputs": [
    {
     "data": {
      "text/plain": [
       "A721033    33\n",
       "A718223    14\n",
       "A718877    12\n",
       "A706536    11\n",
       "A761266     9\n",
       "A737814     9\n",
       "A717053     9\n",
       "A700407     9\n",
       "A716018     9\n",
       "A616444     9\n",
       "Name: Animal ID, dtype: int64"
      ]
     },
     "execution_count": 167,
     "metadata": {},
     "output_type": "execute_result"
    }
   ],
   "source": [
    "# A few dogs are in the system a lot\n",
    "austin_intakes['Animal ID'].value_counts().sort_values(ascending=False).head(10)"
   ]
  },
  {
   "cell_type": "markdown",
   "metadata": {},
   "source": [
    "### Convert DateTimes"
   ]
  },
  {
   "cell_type": "code",
   "execution_count": 170,
   "metadata": {},
   "outputs": [],
   "source": [
    "austin_intakes['DateTime'] = pd.to_datetime(austin_intakes['DateTime'])"
   ]
  },
  {
   "cell_type": "code",
   "execution_count": 172,
   "metadata": {},
   "outputs": [
    {
     "data": {
      "text/html": [
       "<div>\n",
       "<style scoped>\n",
       "    .dataframe tbody tr th:only-of-type {\n",
       "        vertical-align: middle;\n",
       "    }\n",
       "\n",
       "    .dataframe tbody tr th {\n",
       "        vertical-align: top;\n",
       "    }\n",
       "\n",
       "    .dataframe thead th {\n",
       "        text-align: right;\n",
       "    }\n",
       "</style>\n",
       "<table border=\"1\" class=\"dataframe\">\n",
       "  <thead>\n",
       "    <tr style=\"text-align: right;\">\n",
       "      <th></th>\n",
       "      <th>Animal ID</th>\n",
       "      <th>Name</th>\n",
       "      <th>DateTime</th>\n",
       "      <th>MonthYear</th>\n",
       "      <th>Found Location</th>\n",
       "      <th>Intake Type</th>\n",
       "      <th>Intake Condition</th>\n",
       "      <th>Animal Type</th>\n",
       "      <th>Sex upon Intake</th>\n",
       "      <th>Age upon Intake</th>\n",
       "      <th>Breed</th>\n",
       "      <th>Color</th>\n",
       "    </tr>\n",
       "  </thead>\n",
       "  <tbody>\n",
       "    <tr>\n",
       "      <th>72982</th>\n",
       "      <td>A521520</td>\n",
       "      <td>Nina</td>\n",
       "      <td>2013-10-01 07:51:00</td>\n",
       "      <td>October 2013</td>\n",
       "      <td>Norht Ec in Austin (TX)</td>\n",
       "      <td>Stray</td>\n",
       "      <td>Normal</td>\n",
       "      <td>Dog</td>\n",
       "      <td>Spayed Female</td>\n",
       "      <td>7 years</td>\n",
       "      <td>Border Terrier/Border Collie</td>\n",
       "      <td>White/Tan</td>\n",
       "    </tr>\n",
       "    <tr>\n",
       "      <th>117677</th>\n",
       "      <td>A664233</td>\n",
       "      <td>Stevie</td>\n",
       "      <td>2013-10-01 08:53:00</td>\n",
       "      <td>October 2013</td>\n",
       "      <td>7405 Springtime in Austin (TX)</td>\n",
       "      <td>Stray</td>\n",
       "      <td>Injured</td>\n",
       "      <td>Dog</td>\n",
       "      <td>Intact Female</td>\n",
       "      <td>3 years</td>\n",
       "      <td>Pit Bull Mix</td>\n",
       "      <td>Blue/White</td>\n",
       "    </tr>\n",
       "    <tr>\n",
       "      <th>4788</th>\n",
       "      <td>A664234</td>\n",
       "      <td>NaN</td>\n",
       "      <td>2013-10-01 10:37:00</td>\n",
       "      <td>October 2013</td>\n",
       "      <td>5400 Jimmy Clay in Austin (TX)</td>\n",
       "      <td>Stray</td>\n",
       "      <td>Injured</td>\n",
       "      <td>Dog</td>\n",
       "      <td>Intact Male</td>\n",
       "      <td>8 years</td>\n",
       "      <td>Border Collie Mix</td>\n",
       "      <td>Black/White</td>\n",
       "    </tr>\n",
       "  </tbody>\n",
       "</table>\n",
       "</div>"
      ],
      "text/plain": [
       "       Animal ID    Name            DateTime     MonthYear  \\\n",
       "72982    A521520    Nina 2013-10-01 07:51:00  October 2013   \n",
       "117677   A664233  Stevie 2013-10-01 08:53:00  October 2013   \n",
       "4788     A664234     NaN 2013-10-01 10:37:00  October 2013   \n",
       "\n",
       "                        Found Location Intake Type Intake Condition  \\\n",
       "72982          Norht Ec in Austin (TX)       Stray           Normal   \n",
       "117677  7405 Springtime in Austin (TX)       Stray          Injured   \n",
       "4788    5400 Jimmy Clay in Austin (TX)       Stray          Injured   \n",
       "\n",
       "       Animal Type Sex upon Intake Age upon Intake  \\\n",
       "72982          Dog   Spayed Female         7 years   \n",
       "117677         Dog   Intact Female         3 years   \n",
       "4788           Dog     Intact Male         8 years   \n",
       "\n",
       "                               Breed        Color  \n",
       "72982   Border Terrier/Border Collie    White/Tan  \n",
       "117677                  Pit Bull Mix   Blue/White  \n",
       "4788               Border Collie Mix  Black/White  "
      ]
     },
     "execution_count": 172,
     "metadata": {},
     "output_type": "execute_result"
    }
   ],
   "source": [
    "austin_intakes.sort_values(by='DateTime').head(3)"
   ]
  },
  {
   "cell_type": "code",
   "execution_count": 173,
   "metadata": {},
   "outputs": [],
   "source": [
    "austin_outcomes['DateTime'] = pd.to_datetime(austin_outcomes['DateTime'])"
   ]
  },
  {
   "cell_type": "code",
   "execution_count": 174,
   "metadata": {},
   "outputs": [
    {
     "data": {
      "text/html": [
       "<div>\n",
       "<style scoped>\n",
       "    .dataframe tbody tr th:only-of-type {\n",
       "        vertical-align: middle;\n",
       "    }\n",
       "\n",
       "    .dataframe tbody tr th {\n",
       "        vertical-align: top;\n",
       "    }\n",
       "\n",
       "    .dataframe thead th {\n",
       "        text-align: right;\n",
       "    }\n",
       "</style>\n",
       "<table border=\"1\" class=\"dataframe\">\n",
       "  <thead>\n",
       "    <tr style=\"text-align: right;\">\n",
       "      <th></th>\n",
       "      <th>Animal ID</th>\n",
       "      <th>Name</th>\n",
       "      <th>DateTime</th>\n",
       "      <th>MonthYear</th>\n",
       "      <th>Date of Birth</th>\n",
       "      <th>Outcome Type</th>\n",
       "      <th>Outcome Subtype</th>\n",
       "      <th>Animal Type</th>\n",
       "      <th>Sex upon Outcome</th>\n",
       "      <th>Age upon Outcome</th>\n",
       "      <th>Breed</th>\n",
       "      <th>Color</th>\n",
       "    </tr>\n",
       "  </thead>\n",
       "  <tbody>\n",
       "    <tr>\n",
       "      <th>1</th>\n",
       "      <td>A776359</td>\n",
       "      <td>Gizmo</td>\n",
       "      <td>2018-07-18 16:02:00</td>\n",
       "      <td>Jul 2018</td>\n",
       "      <td>07/12/2017</td>\n",
       "      <td>Adoption</td>\n",
       "      <td>NaN</td>\n",
       "      <td>Dog</td>\n",
       "      <td>Neutered Male</td>\n",
       "      <td>1 year</td>\n",
       "      <td>Chihuahua Shorthair Mix</td>\n",
       "      <td>White/Brown</td>\n",
       "    </tr>\n",
       "    <tr>\n",
       "      <th>3</th>\n",
       "      <td>A720371</td>\n",
       "      <td>Moose</td>\n",
       "      <td>2016-02-13 17:59:00</td>\n",
       "      <td>Feb 2016</td>\n",
       "      <td>10/08/2015</td>\n",
       "      <td>Adoption</td>\n",
       "      <td>NaN</td>\n",
       "      <td>Dog</td>\n",
       "      <td>Neutered Male</td>\n",
       "      <td>4 months</td>\n",
       "      <td>Anatol Shepherd/Labrador Retriever</td>\n",
       "      <td>Buff</td>\n",
       "    </tr>\n",
       "    <tr>\n",
       "      <th>5</th>\n",
       "      <td>A659412</td>\n",
       "      <td>Princess</td>\n",
       "      <td>2020-10-05 14:37:00</td>\n",
       "      <td>Oct 2020</td>\n",
       "      <td>03/24/2013</td>\n",
       "      <td>Adoption</td>\n",
       "      <td>NaN</td>\n",
       "      <td>Dog</td>\n",
       "      <td>Spayed Female</td>\n",
       "      <td>7 years</td>\n",
       "      <td>Chihuahua Shorthair Mix</td>\n",
       "      <td>Brown</td>\n",
       "    </tr>\n",
       "  </tbody>\n",
       "</table>\n",
       "</div>"
      ],
      "text/plain": [
       "  Animal ID      Name            DateTime MonthYear Date of Birth  \\\n",
       "1   A776359     Gizmo 2018-07-18 16:02:00  Jul 2018    07/12/2017   \n",
       "3   A720371     Moose 2016-02-13 17:59:00  Feb 2016    10/08/2015   \n",
       "5   A659412  Princess 2020-10-05 14:37:00  Oct 2020    03/24/2013   \n",
       "\n",
       "  Outcome Type Outcome Subtype Animal Type Sex upon Outcome Age upon Outcome  \\\n",
       "1     Adoption             NaN         Dog    Neutered Male           1 year   \n",
       "3     Adoption             NaN         Dog    Neutered Male         4 months   \n",
       "5     Adoption             NaN         Dog    Spayed Female          7 years   \n",
       "\n",
       "                                Breed        Color  \n",
       "1             Chihuahua Shorthair Mix  White/Brown  \n",
       "3  Anatol Shepherd/Labrador Retriever         Buff  \n",
       "5             Chihuahua Shorthair Mix        Brown  "
      ]
     },
     "execution_count": 174,
     "metadata": {},
     "output_type": "execute_result"
    }
   ],
   "source": [
    "austin_outcomes.head(3)"
   ]
  },
  {
   "cell_type": "markdown",
   "metadata": {},
   "source": [
    "## Merge Intake & Outcome Frames"
   ]
  },
  {
   "cell_type": "code",
   "execution_count": 175,
   "metadata": {},
   "outputs": [
    {
     "data": {
      "text/html": [
       "<div>\n",
       "<style scoped>\n",
       "    .dataframe tbody tr th:only-of-type {\n",
       "        vertical-align: middle;\n",
       "    }\n",
       "\n",
       "    .dataframe tbody tr th {\n",
       "        vertical-align: top;\n",
       "    }\n",
       "\n",
       "    .dataframe thead th {\n",
       "        text-align: right;\n",
       "    }\n",
       "</style>\n",
       "<table border=\"1\" class=\"dataframe\">\n",
       "  <thead>\n",
       "    <tr style=\"text-align: right;\">\n",
       "      <th></th>\n",
       "      <th>Animal ID</th>\n",
       "      <th>Name</th>\n",
       "      <th>DateTime</th>\n",
       "      <th>MonthYear</th>\n",
       "      <th>Found Location</th>\n",
       "      <th>Intake Type</th>\n",
       "      <th>Intake Condition</th>\n",
       "      <th>Animal Type</th>\n",
       "      <th>Sex upon Intake</th>\n",
       "      <th>Age upon Intake</th>\n",
       "      <th>Breed</th>\n",
       "      <th>Color</th>\n",
       "    </tr>\n",
       "  </thead>\n",
       "  <tbody>\n",
       "    <tr>\n",
       "      <th>0</th>\n",
       "      <td>A786884</td>\n",
       "      <td>*Brock</td>\n",
       "      <td>2019-01-03 16:19:00</td>\n",
       "      <td>January 2019</td>\n",
       "      <td>2501 Magin Meadow Dr in Austin (TX)</td>\n",
       "      <td>Stray</td>\n",
       "      <td>Normal</td>\n",
       "      <td>Dog</td>\n",
       "      <td>Neutered Male</td>\n",
       "      <td>2 years</td>\n",
       "      <td>Beagle Mix</td>\n",
       "      <td>Tricolor</td>\n",
       "    </tr>\n",
       "    <tr>\n",
       "      <th>1</th>\n",
       "      <td>A706918</td>\n",
       "      <td>Belle</td>\n",
       "      <td>2015-07-05 12:59:00</td>\n",
       "      <td>July 2015</td>\n",
       "      <td>9409 Bluegrass Dr in Austin (TX)</td>\n",
       "      <td>Stray</td>\n",
       "      <td>Normal</td>\n",
       "      <td>Dog</td>\n",
       "      <td>Spayed Female</td>\n",
       "      <td>8 years</td>\n",
       "      <td>English Springer Spaniel</td>\n",
       "      <td>White/Liver</td>\n",
       "    </tr>\n",
       "    <tr>\n",
       "      <th>2</th>\n",
       "      <td>A724273</td>\n",
       "      <td>Runster</td>\n",
       "      <td>2016-04-14 18:43:00</td>\n",
       "      <td>April 2016</td>\n",
       "      <td>2818 Palomino Trail in Austin (TX)</td>\n",
       "      <td>Stray</td>\n",
       "      <td>Normal</td>\n",
       "      <td>Dog</td>\n",
       "      <td>Intact Male</td>\n",
       "      <td>11 months</td>\n",
       "      <td>Basenji Mix</td>\n",
       "      <td>Sable/White</td>\n",
       "    </tr>\n",
       "  </tbody>\n",
       "</table>\n",
       "</div>"
      ],
      "text/plain": [
       "  Animal ID     Name            DateTime     MonthYear  \\\n",
       "0   A786884   *Brock 2019-01-03 16:19:00  January 2019   \n",
       "1   A706918    Belle 2015-07-05 12:59:00     July 2015   \n",
       "2   A724273  Runster 2016-04-14 18:43:00    April 2016   \n",
       "\n",
       "                        Found Location Intake Type Intake Condition  \\\n",
       "0  2501 Magin Meadow Dr in Austin (TX)       Stray           Normal   \n",
       "1     9409 Bluegrass Dr in Austin (TX)       Stray           Normal   \n",
       "2   2818 Palomino Trail in Austin (TX)       Stray           Normal   \n",
       "\n",
       "  Animal Type Sex upon Intake Age upon Intake                     Breed  \\\n",
       "0         Dog   Neutered Male         2 years                Beagle Mix   \n",
       "1         Dog   Spayed Female         8 years  English Springer Spaniel   \n",
       "2         Dog     Intact Male       11 months               Basenji Mix   \n",
       "\n",
       "         Color  \n",
       "0     Tricolor  \n",
       "1  White/Liver  \n",
       "2  Sable/White  "
      ]
     },
     "execution_count": 175,
     "metadata": {},
     "output_type": "execute_result"
    }
   ],
   "source": [
    "austin_intakes.head(3)"
   ]
  },
  {
   "cell_type": "code",
   "execution_count": 176,
   "metadata": {},
   "outputs": [],
   "source": [
    "austin_intakes.drop(columns=['MonthYear', 'Animal Type'], inplace=True)\n",
    "austin_outcomes.drop(columns=['MonthYear', 'Animal Type'], inplace=True)"
   ]
  },
  {
   "cell_type": "markdown",
   "metadata": {},
   "source": [
    "Sort intakes & outcomes"
   ]
  },
  {
   "cell_type": "code",
   "execution_count": 179,
   "metadata": {},
   "outputs": [],
   "source": [
    "austin_intakes.sort_values(by=['Animal ID', 'DateTime'], inplace=True)\n",
    "austin_intakes.reset_index(drop=True, inplace=True)"
   ]
  },
  {
   "cell_type": "code",
   "execution_count": 180,
   "metadata": {},
   "outputs": [],
   "source": [
    "austin_outcomes.sort_values(by=['Animal ID', 'DateTime'], inplace=True)\n",
    "austin_outcomes.reset_index(drop=True, inplace=True)"
   ]
  },
  {
   "cell_type": "code",
   "execution_count": 181,
   "metadata": {},
   "outputs": [
    {
     "data": {
      "text/html": [
       "<div>\n",
       "<style scoped>\n",
       "    .dataframe tbody tr th:only-of-type {\n",
       "        vertical-align: middle;\n",
       "    }\n",
       "\n",
       "    .dataframe tbody tr th {\n",
       "        vertical-align: top;\n",
       "    }\n",
       "\n",
       "    .dataframe thead th {\n",
       "        text-align: right;\n",
       "    }\n",
       "</style>\n",
       "<table border=\"1\" class=\"dataframe\">\n",
       "  <thead>\n",
       "    <tr style=\"text-align: right;\">\n",
       "      <th></th>\n",
       "      <th>Animal ID</th>\n",
       "      <th>Name</th>\n",
       "      <th>DateTime</th>\n",
       "      <th>Found Location</th>\n",
       "      <th>Intake Type</th>\n",
       "      <th>Intake Condition</th>\n",
       "      <th>Sex upon Intake</th>\n",
       "      <th>Age upon Intake</th>\n",
       "      <th>Breed</th>\n",
       "      <th>Color</th>\n",
       "    </tr>\n",
       "  </thead>\n",
       "  <tbody>\n",
       "    <tr>\n",
       "      <th>0</th>\n",
       "      <td>A006100</td>\n",
       "      <td>Scamp</td>\n",
       "      <td>2014-03-07 14:26:00</td>\n",
       "      <td>8700 Research in Austin (TX)</td>\n",
       "      <td>Public Assist</td>\n",
       "      <td>Normal</td>\n",
       "      <td>Neutered Male</td>\n",
       "      <td>6 years</td>\n",
       "      <td>Spinone Italiano Mix</td>\n",
       "      <td>Yellow/White</td>\n",
       "    </tr>\n",
       "    <tr>\n",
       "      <th>1</th>\n",
       "      <td>A006100</td>\n",
       "      <td>Scamp</td>\n",
       "      <td>2014-12-19 10:21:00</td>\n",
       "      <td>8700 Research Blvd in Austin (TX)</td>\n",
       "      <td>Public Assist</td>\n",
       "      <td>Normal</td>\n",
       "      <td>Neutered Male</td>\n",
       "      <td>7 years</td>\n",
       "      <td>Spinone Italiano Mix</td>\n",
       "      <td>Yellow/White</td>\n",
       "    </tr>\n",
       "    <tr>\n",
       "      <th>2</th>\n",
       "      <td>A006100</td>\n",
       "      <td>Scamp</td>\n",
       "      <td>2017-12-07 14:07:00</td>\n",
       "      <td>Colony Creek And Hunters Trace in Austin (TX)</td>\n",
       "      <td>Stray</td>\n",
       "      <td>Normal</td>\n",
       "      <td>Neutered Male</td>\n",
       "      <td>10 years</td>\n",
       "      <td>Spinone Italiano Mix</td>\n",
       "      <td>Yellow/White</td>\n",
       "    </tr>\n",
       "  </tbody>\n",
       "</table>\n",
       "</div>"
      ],
      "text/plain": [
       "  Animal ID   Name            DateTime  \\\n",
       "0   A006100  Scamp 2014-03-07 14:26:00   \n",
       "1   A006100  Scamp 2014-12-19 10:21:00   \n",
       "2   A006100  Scamp 2017-12-07 14:07:00   \n",
       "\n",
       "                                  Found Location    Intake Type  \\\n",
       "0                   8700 Research in Austin (TX)  Public Assist   \n",
       "1              8700 Research Blvd in Austin (TX)  Public Assist   \n",
       "2  Colony Creek And Hunters Trace in Austin (TX)          Stray   \n",
       "\n",
       "  Intake Condition Sex upon Intake Age upon Intake                 Breed  \\\n",
       "0           Normal   Neutered Male         6 years  Spinone Italiano Mix   \n",
       "1           Normal   Neutered Male         7 years  Spinone Italiano Mix   \n",
       "2           Normal   Neutered Male        10 years  Spinone Italiano Mix   \n",
       "\n",
       "          Color  \n",
       "0  Yellow/White  \n",
       "1  Yellow/White  \n",
       "2  Yellow/White  "
      ]
     },
     "execution_count": 181,
     "metadata": {},
     "output_type": "execute_result"
    }
   ],
   "source": [
    "austin_intakes.head(3)"
   ]
  },
  {
   "cell_type": "code",
   "execution_count": 182,
   "metadata": {},
   "outputs": [
    {
     "data": {
      "text/html": [
       "<div>\n",
       "<style scoped>\n",
       "    .dataframe tbody tr th:only-of-type {\n",
       "        vertical-align: middle;\n",
       "    }\n",
       "\n",
       "    .dataframe tbody tr th {\n",
       "        vertical-align: top;\n",
       "    }\n",
       "\n",
       "    .dataframe thead th {\n",
       "        text-align: right;\n",
       "    }\n",
       "</style>\n",
       "<table border=\"1\" class=\"dataframe\">\n",
       "  <thead>\n",
       "    <tr style=\"text-align: right;\">\n",
       "      <th></th>\n",
       "      <th>Animal ID</th>\n",
       "      <th>Name</th>\n",
       "      <th>DateTime</th>\n",
       "      <th>Date of Birth</th>\n",
       "      <th>Outcome Type</th>\n",
       "      <th>Outcome Subtype</th>\n",
       "      <th>Sex upon Outcome</th>\n",
       "      <th>Age upon Outcome</th>\n",
       "      <th>Breed</th>\n",
       "      <th>Color</th>\n",
       "    </tr>\n",
       "  </thead>\n",
       "  <tbody>\n",
       "    <tr>\n",
       "      <th>0</th>\n",
       "      <td>A006100</td>\n",
       "      <td>Scamp</td>\n",
       "      <td>2014-03-08 17:10:00</td>\n",
       "      <td>07/09/2007</td>\n",
       "      <td>Return to Owner</td>\n",
       "      <td>NaN</td>\n",
       "      <td>Neutered Male</td>\n",
       "      <td>6 years</td>\n",
       "      <td>Spinone Italiano Mix</td>\n",
       "      <td>Yellow/White</td>\n",
       "    </tr>\n",
       "    <tr>\n",
       "      <th>1</th>\n",
       "      <td>A006100</td>\n",
       "      <td>Scamp</td>\n",
       "      <td>2014-12-20 16:35:00</td>\n",
       "      <td>07/09/2007</td>\n",
       "      <td>Return to Owner</td>\n",
       "      <td>NaN</td>\n",
       "      <td>Neutered Male</td>\n",
       "      <td>7 years</td>\n",
       "      <td>Spinone Italiano Mix</td>\n",
       "      <td>Yellow/White</td>\n",
       "    </tr>\n",
       "    <tr>\n",
       "      <th>2</th>\n",
       "      <td>A006100</td>\n",
       "      <td>Scamp</td>\n",
       "      <td>2017-12-07 00:00:00</td>\n",
       "      <td>07/09/2007</td>\n",
       "      <td>Return to Owner</td>\n",
       "      <td>NaN</td>\n",
       "      <td>Neutered Male</td>\n",
       "      <td>10 years</td>\n",
       "      <td>Spinone Italiano Mix</td>\n",
       "      <td>Yellow/White</td>\n",
       "    </tr>\n",
       "  </tbody>\n",
       "</table>\n",
       "</div>"
      ],
      "text/plain": [
       "  Animal ID   Name            DateTime Date of Birth     Outcome Type  \\\n",
       "0   A006100  Scamp 2014-03-08 17:10:00    07/09/2007  Return to Owner   \n",
       "1   A006100  Scamp 2014-12-20 16:35:00    07/09/2007  Return to Owner   \n",
       "2   A006100  Scamp 2017-12-07 00:00:00    07/09/2007  Return to Owner   \n",
       "\n",
       "  Outcome Subtype Sex upon Outcome Age upon Outcome                 Breed  \\\n",
       "0             NaN    Neutered Male          6 years  Spinone Italiano Mix   \n",
       "1             NaN    Neutered Male          7 years  Spinone Italiano Mix   \n",
       "2             NaN    Neutered Male         10 years  Spinone Italiano Mix   \n",
       "\n",
       "          Color  \n",
       "0  Yellow/White  \n",
       "1  Yellow/White  \n",
       "2  Yellow/White  "
      ]
     },
     "execution_count": 182,
     "metadata": {},
     "output_type": "execute_result"
    }
   ],
   "source": [
    "austin_outcomes.head(3)"
   ]
  },
  {
   "cell_type": "code",
   "execution_count": 183,
   "metadata": {},
   "outputs": [],
   "source": [
    "# count ins and outs\n",
    "in_count = austin_intakes['Animal ID'].value_counts()\n",
    "out_count = austin_outcomes['Animal ID'].value_counts()\n",
    "repeat_in = in_count[in_count > 1]\n",
    "repeat_out = out_count[out_count > 1]"
   ]
  },
  {
   "cell_type": "code",
   "execution_count": 184,
   "metadata": {},
   "outputs": [],
   "source": [
    "# separate ins\n",
    "repeat_in = austin_intakes[austin_intakes['Animal ID'].isin(list(repeat_in.index))].copy(deep=True)\n",
    "solo_in = austin_intakes[~austin_intakes['Animal ID'].isin(repeat_in['Animal ID'].unique())].copy(deep=True)"
   ]
  },
  {
   "cell_type": "code",
   "execution_count": 185,
   "metadata": {},
   "outputs": [],
   "source": [
    "# separate outs\n",
    "repeat_out = austin_outcomes[austin_outcomes['Animal ID'].isin(list(repeat_out.index))].copy(deep=True)\n",
    "solo_out = austin_outcomes[~austin_outcomes['Animal ID'].isin(repeat_out['Animal ID'].unique())].copy(deep=True)"
   ]
  },
  {
   "cell_type": "code",
   "execution_count": 186,
   "metadata": {},
   "outputs": [
    {
     "data": {
      "text/plain": [
       "440"
      ]
     },
     "execution_count": 186,
     "metadata": {},
     "output_type": "execute_result"
    }
   ],
   "source": [
    "solo_in.shape[0] - solo_in['Animal ID'].isin(solo_out['Animal ID']).sum()"
   ]
  },
  {
   "cell_type": "markdown",
   "metadata": {},
   "source": [
    "Missing outcome data on only 440 dogs that appeared once in the sets"
   ]
  },
  {
   "cell_type": "markdown",
   "metadata": {},
   "source": [
    "### Merge Repeats"
   ]
  },
  {
   "cell_type": "code",
   "execution_count": 187,
   "metadata": {},
   "outputs": [
    {
     "data": {
      "text/plain": [
       "62"
      ]
     },
     "execution_count": 187,
     "metadata": {},
     "output_type": "execute_result"
    }
   ],
   "source": [
    "repeat_in.shape[0] - repeat_out.shape[0]    # probably only missing a few observations"
   ]
  },
  {
   "cell_type": "markdown",
   "metadata": {},
   "source": [
    "Drop redundant cols"
   ]
  },
  {
   "cell_type": "code",
   "execution_count": 188,
   "metadata": {},
   "outputs": [],
   "source": [
    "repeat_out.drop(columns=['Name', 'Breed', 'Color'], inplace=True)"
   ]
  },
  {
   "cell_type": "code",
   "execution_count": 189,
   "metadata": {},
   "outputs": [],
   "source": [
    "repeat_out.rename(columns={\n",
    "    'Animal ID': 'Animal ID',\n",
    "    'DateTime': 'date_out',\n",
    "    'Date of Birth': 'dob',\n",
    "    'Outcome Type': 'outcome',\n",
    "    'Outcome Subtype': 'outcome_sub',\n",
    "    'Sex upon Outcome': 'sex_out',\n",
    "    'Age upon Outcome': 'age_out'\n",
    "}, inplace=True)"
   ]
  },
  {
   "cell_type": "code",
   "execution_count": 190,
   "metadata": {},
   "outputs": [],
   "source": [
    "# storage\n",
    "in_hold = repeat_in.copy()\n",
    "in_hold.set_index('Animal ID', inplace=True)\n",
    "out_hold = repeat_out.copy()                                                                \n",
    "out_hold.set_index('Animal ID', inplace=True)\n",
    "\n",
    "# drop missing IDs\n",
    "in_hold.drop(list(set(in_hold.index).difference(set(out_hold.index))), inplace=True)\n",
    "out_hold.drop(list(set(out_hold.index).difference(set(in_hold.index))), inplace=True)\n",
    "\n",
    "# iterate\n",
    "for i in repeat_in['Animal ID'].unique():                                                   # select ids of intake animals\n",
    "    if i in set(repeat_out['Animal ID']):\n",
    "        ins = repeat_in[repeat_in['Animal ID'] == i]                                        # grab intake rows\n",
    "        outs = repeat_out[repeat_out['Animal ID'] == i]                                     # grab outcome rows\n",
    "\n",
    "        if ins.shape[0] != outs.shape[0]:                                                   # check if ins & outs match up\n",
    "            if i in set(in_hold.index):\n",
    "                in_hold.drop(i, inplace=True)\n",
    "            if i in set(out_hold.index):\n",
    "                out_hold.drop(i, inplace=True)"
   ]
  },
  {
   "cell_type": "markdown",
   "metadata": {},
   "source": [
    "Merge repeat visitors"
   ]
  },
  {
   "cell_type": "code",
   "execution_count": 191,
   "metadata": {},
   "outputs": [],
   "source": [
    "repeat = pd.merge(left=in_hold, right=out_hold, how='left', on='Animal ID')\n",
    "repeat.reset_index(drop=False, inplace=True)"
   ]
  },
  {
   "cell_type": "markdown",
   "metadata": {},
   "source": [
    "Inspect repeat visitors"
   ]
  },
  {
   "cell_type": "code",
   "execution_count": 194,
   "metadata": {},
   "outputs": [
    {
     "data": {
      "text/html": [
       "<div>\n",
       "<style scoped>\n",
       "    .dataframe tbody tr th:only-of-type {\n",
       "        vertical-align: middle;\n",
       "    }\n",
       "\n",
       "    .dataframe tbody tr th {\n",
       "        vertical-align: top;\n",
       "    }\n",
       "\n",
       "    .dataframe thead th {\n",
       "        text-align: right;\n",
       "    }\n",
       "</style>\n",
       "<table border=\"1\" class=\"dataframe\">\n",
       "  <thead>\n",
       "    <tr style=\"text-align: right;\">\n",
       "      <th></th>\n",
       "      <th>Animal ID</th>\n",
       "      <th>Name</th>\n",
       "      <th>DateTime</th>\n",
       "      <th>Found Location</th>\n",
       "      <th>Intake Type</th>\n",
       "      <th>Intake Condition</th>\n",
       "      <th>Sex upon Intake</th>\n",
       "      <th>Age upon Intake</th>\n",
       "      <th>Breed</th>\n",
       "      <th>Color</th>\n",
       "      <th>date_out</th>\n",
       "      <th>dob</th>\n",
       "      <th>outcome</th>\n",
       "      <th>outcome_sub</th>\n",
       "      <th>sex_out</th>\n",
       "      <th>age_out</th>\n",
       "    </tr>\n",
       "  </thead>\n",
       "  <tbody>\n",
       "    <tr>\n",
       "      <th>3</th>\n",
       "      <td>A006100</td>\n",
       "      <td>Scamp</td>\n",
       "      <td>2014-12-19 10:21:00</td>\n",
       "      <td>8700 Research Blvd in Austin (TX)</td>\n",
       "      <td>Public Assist</td>\n",
       "      <td>Normal</td>\n",
       "      <td>Neutered Male</td>\n",
       "      <td>7 years</td>\n",
       "      <td>Spinone Italiano Mix</td>\n",
       "      <td>Yellow/White</td>\n",
       "      <td>2014-03-08 17:10:00</td>\n",
       "      <td>07/09/2007</td>\n",
       "      <td>Return to Owner</td>\n",
       "      <td>NaN</td>\n",
       "      <td>Neutered Male</td>\n",
       "      <td>6 years</td>\n",
       "    </tr>\n",
       "    <tr>\n",
       "      <th>6</th>\n",
       "      <td>A006100</td>\n",
       "      <td>Scamp</td>\n",
       "      <td>2017-12-07 14:07:00</td>\n",
       "      <td>Colony Creek And Hunters Trace in Austin (TX)</td>\n",
       "      <td>Stray</td>\n",
       "      <td>Normal</td>\n",
       "      <td>Neutered Male</td>\n",
       "      <td>10 years</td>\n",
       "      <td>Spinone Italiano Mix</td>\n",
       "      <td>Yellow/White</td>\n",
       "      <td>2014-03-08 17:10:00</td>\n",
       "      <td>07/09/2007</td>\n",
       "      <td>Return to Owner</td>\n",
       "      <td>NaN</td>\n",
       "      <td>Neutered Male</td>\n",
       "      <td>6 years</td>\n",
       "    </tr>\n",
       "    <tr>\n",
       "      <th>7</th>\n",
       "      <td>A006100</td>\n",
       "      <td>Scamp</td>\n",
       "      <td>2017-12-07 14:07:00</td>\n",
       "      <td>Colony Creek And Hunters Trace in Austin (TX)</td>\n",
       "      <td>Stray</td>\n",
       "      <td>Normal</td>\n",
       "      <td>Neutered Male</td>\n",
       "      <td>10 years</td>\n",
       "      <td>Spinone Italiano Mix</td>\n",
       "      <td>Yellow/White</td>\n",
       "      <td>2014-12-20 16:35:00</td>\n",
       "      <td>07/09/2007</td>\n",
       "      <td>Return to Owner</td>\n",
       "      <td>NaN</td>\n",
       "      <td>Neutered Male</td>\n",
       "      <td>7 years</td>\n",
       "    </tr>\n",
       "    <tr>\n",
       "      <th>8</th>\n",
       "      <td>A006100</td>\n",
       "      <td>Scamp</td>\n",
       "      <td>2017-12-07 14:07:00</td>\n",
       "      <td>Colony Creek And Hunters Trace in Austin (TX)</td>\n",
       "      <td>Stray</td>\n",
       "      <td>Normal</td>\n",
       "      <td>Neutered Male</td>\n",
       "      <td>10 years</td>\n",
       "      <td>Spinone Italiano Mix</td>\n",
       "      <td>Yellow/White</td>\n",
       "      <td>2017-12-07 00:00:00</td>\n",
       "      <td>07/09/2007</td>\n",
       "      <td>Return to Owner</td>\n",
       "      <td>NaN</td>\n",
       "      <td>Neutered Male</td>\n",
       "      <td>10 years</td>\n",
       "    </tr>\n",
       "    <tr>\n",
       "      <th>11</th>\n",
       "      <td>A245945</td>\n",
       "      <td>Boomer</td>\n",
       "      <td>2015-05-20 22:34:00</td>\n",
       "      <td>7403 Blessing Ave in Austin (TX)</td>\n",
       "      <td>Stray</td>\n",
       "      <td>Normal</td>\n",
       "      <td>Neutered Male</td>\n",
       "      <td>15 years</td>\n",
       "      <td>Labrador Retriever Mix</td>\n",
       "      <td>Tan</td>\n",
       "      <td>2014-07-04 15:26:00</td>\n",
       "      <td>05/23/2000</td>\n",
       "      <td>Return to Owner</td>\n",
       "      <td>NaN</td>\n",
       "      <td>Neutered Male</td>\n",
       "      <td>14 years</td>\n",
       "    </tr>\n",
       "    <tr>\n",
       "      <th>15</th>\n",
       "      <td>A287017</td>\n",
       "      <td>Stitch</td>\n",
       "      <td>2015-08-16 12:19:00</td>\n",
       "      <td>6620 Deatonhill Dr in Austin (TX)</td>\n",
       "      <td>Stray</td>\n",
       "      <td>Normal</td>\n",
       "      <td>Spayed Female</td>\n",
       "      <td>14 years</td>\n",
       "      <td>Chihuahua Shorthair Mix</td>\n",
       "      <td>Black/White</td>\n",
       "      <td>2014-12-12 16:49:00</td>\n",
       "      <td>05/13/2001</td>\n",
       "      <td>Return to Owner</td>\n",
       "      <td>NaN</td>\n",
       "      <td>Spayed Female</td>\n",
       "      <td>13 years</td>\n",
       "    </tr>\n",
       "    <tr>\n",
       "      <th>19</th>\n",
       "      <td>A307010</td>\n",
       "      <td>Cooper</td>\n",
       "      <td>2017-06-01 11:47:00</td>\n",
       "      <td>806 Castle Ridge in Austin (TX)</td>\n",
       "      <td>Owner Surrender</td>\n",
       "      <td>Normal</td>\n",
       "      <td>Neutered Male</td>\n",
       "      <td>14 years</td>\n",
       "      <td>Beagle Mix</td>\n",
       "      <td>Tricolor</td>\n",
       "      <td>2016-09-28 09:36:00</td>\n",
       "      <td>03/04/2003</td>\n",
       "      <td>Return to Owner</td>\n",
       "      <td>NaN</td>\n",
       "      <td>Neutered Male</td>\n",
       "      <td>13 years</td>\n",
       "    </tr>\n",
       "  </tbody>\n",
       "</table>\n",
       "</div>"
      ],
      "text/plain": [
       "   Animal ID    Name            DateTime  \\\n",
       "3    A006100   Scamp 2014-12-19 10:21:00   \n",
       "6    A006100   Scamp 2017-12-07 14:07:00   \n",
       "7    A006100   Scamp 2017-12-07 14:07:00   \n",
       "8    A006100   Scamp 2017-12-07 14:07:00   \n",
       "11   A245945  Boomer 2015-05-20 22:34:00   \n",
       "15   A287017  Stitch 2015-08-16 12:19:00   \n",
       "19   A307010  Cooper 2017-06-01 11:47:00   \n",
       "\n",
       "                                   Found Location      Intake Type  \\\n",
       "3               8700 Research Blvd in Austin (TX)    Public Assist   \n",
       "6   Colony Creek And Hunters Trace in Austin (TX)            Stray   \n",
       "7   Colony Creek And Hunters Trace in Austin (TX)            Stray   \n",
       "8   Colony Creek And Hunters Trace in Austin (TX)            Stray   \n",
       "11               7403 Blessing Ave in Austin (TX)            Stray   \n",
       "15              6620 Deatonhill Dr in Austin (TX)            Stray   \n",
       "19                806 Castle Ridge in Austin (TX)  Owner Surrender   \n",
       "\n",
       "   Intake Condition Sex upon Intake Age upon Intake                    Breed  \\\n",
       "3            Normal   Neutered Male         7 years     Spinone Italiano Mix   \n",
       "6            Normal   Neutered Male        10 years     Spinone Italiano Mix   \n",
       "7            Normal   Neutered Male        10 years     Spinone Italiano Mix   \n",
       "8            Normal   Neutered Male        10 years     Spinone Italiano Mix   \n",
       "11           Normal   Neutered Male        15 years   Labrador Retriever Mix   \n",
       "15           Normal   Spayed Female        14 years  Chihuahua Shorthair Mix   \n",
       "19           Normal   Neutered Male        14 years               Beagle Mix   \n",
       "\n",
       "           Color            date_out         dob          outcome outcome_sub  \\\n",
       "3   Yellow/White 2014-03-08 17:10:00  07/09/2007  Return to Owner         NaN   \n",
       "6   Yellow/White 2014-03-08 17:10:00  07/09/2007  Return to Owner         NaN   \n",
       "7   Yellow/White 2014-12-20 16:35:00  07/09/2007  Return to Owner         NaN   \n",
       "8   Yellow/White 2017-12-07 00:00:00  07/09/2007  Return to Owner         NaN   \n",
       "11           Tan 2014-07-04 15:26:00  05/23/2000  Return to Owner         NaN   \n",
       "15   Black/White 2014-12-12 16:49:00  05/13/2001  Return to Owner         NaN   \n",
       "19      Tricolor 2016-09-28 09:36:00  03/04/2003  Return to Owner         NaN   \n",
       "\n",
       "          sex_out   age_out  \n",
       "3   Neutered Male   6 years  \n",
       "6   Neutered Male   6 years  \n",
       "7   Neutered Male   7 years  \n",
       "8   Neutered Male  10 years  \n",
       "11  Neutered Male  14 years  \n",
       "15  Spayed Female  13 years  \n",
       "19  Neutered Male  13 years  "
      ]
     },
     "execution_count": 194,
     "metadata": {},
     "output_type": "execute_result"
    }
   ],
   "source": [
    "repeat[(repeat['date_out'] - repeat['DateTime']) < pd.Timedelta(0, units='minute')].head(7)"
   ]
  },
  {
   "cell_type": "markdown",
   "metadata": {},
   "source": [
    "Looks like we have ~17,000 observations of repeat animal IDs that show up in system and do not have a clear intake date vs outcome date. Will drop these observations so they do not muddy our predictions."
   ]
  },
  {
   "cell_type": "code",
   "execution_count": 195,
   "metadata": {},
   "outputs": [
    {
     "data": {
      "text/plain": [
       "Timedelta('171 days 19:01:19.788549982')"
      ]
     },
     "execution_count": 195,
     "metadata": {},
     "output_type": "execute_result"
    }
   ],
   "source": [
    "(repeat[(repeat['date_out'] - repeat['DateTime']) > pd.Timedelta(0, units='minute')]['date_out'] - repeat[(repeat['date_out'] - repeat['DateTime']) > pd.Timedelta(0, units='minute')]['DateTime']).mean()"
   ]
  },
  {
   "cell_type": "markdown",
   "metadata": {},
   "source": [
    "Average time for a repeat animal ID is 171 days. We will see later that the average time a dog is in the system that has only been in the system once is only 17 days. We're clearly having merging issues. If the original data had unique visit IDs, we could resolve this easily, but because time is a valuable resource, we will sadly have to drop the observations."
   ]
  },
  {
   "cell_type": "markdown",
   "metadata": {},
   "source": [
    "### Merge Solos"
   ]
  },
  {
   "cell_type": "markdown",
   "metadata": {},
   "source": [
    "Drop missing outcomes for one time visitors"
   ]
  },
  {
   "cell_type": "code",
   "execution_count": 196,
   "metadata": {},
   "outputs": [],
   "source": [
    "solo_in = solo_in[solo_in['Animal ID'].isin(solo_out['Animal ID'])].copy(deep=True)"
   ]
  },
  {
   "cell_type": "markdown",
   "metadata": {},
   "source": [
    "Drop redundant columns"
   ]
  },
  {
   "cell_type": "code",
   "execution_count": 197,
   "metadata": {},
   "outputs": [],
   "source": [
    "solo_out.drop(columns=['Name', 'Breed', 'Color'], inplace=True)"
   ]
  },
  {
   "cell_type": "code",
   "execution_count": 198,
   "metadata": {},
   "outputs": [],
   "source": [
    "solo_out.rename(columns={\n",
    "    'Animal ID': 'Animal ID',\n",
    "    'DateTime': 'date_out',\n",
    "    'Date of Birth': 'dob',\n",
    "    'Outcome Type': 'outcome',\n",
    "    'Outcome Subtype': 'outcome_sub',\n",
    "    'Sex upon Outcome': 'sex_out',\n",
    "    'Age upon Outcome': 'age_out'\n",
    "}, inplace=True)"
   ]
  },
  {
   "cell_type": "code",
   "execution_count": 199,
   "metadata": {},
   "outputs": [],
   "source": [
    "solo = pd.merge(left=solo_in, right=solo_out, how='left', on='Animal ID')"
   ]
  },
  {
   "cell_type": "code",
   "execution_count": 200,
   "metadata": {},
   "outputs": [
    {
     "data": {
      "text/html": [
       "<div>\n",
       "<style scoped>\n",
       "    .dataframe tbody tr th:only-of-type {\n",
       "        vertical-align: middle;\n",
       "    }\n",
       "\n",
       "    .dataframe tbody tr th {\n",
       "        vertical-align: top;\n",
       "    }\n",
       "\n",
       "    .dataframe thead th {\n",
       "        text-align: right;\n",
       "    }\n",
       "</style>\n",
       "<table border=\"1\" class=\"dataframe\">\n",
       "  <thead>\n",
       "    <tr style=\"text-align: right;\">\n",
       "      <th></th>\n",
       "      <th>Animal ID</th>\n",
       "      <th>Name</th>\n",
       "      <th>DateTime</th>\n",
       "      <th>Found Location</th>\n",
       "      <th>Intake Type</th>\n",
       "      <th>Intake Condition</th>\n",
       "      <th>Sex upon Intake</th>\n",
       "      <th>Age upon Intake</th>\n",
       "      <th>Breed</th>\n",
       "      <th>Color</th>\n",
       "      <th>date_out</th>\n",
       "      <th>dob</th>\n",
       "      <th>outcome</th>\n",
       "      <th>outcome_sub</th>\n",
       "      <th>sex_out</th>\n",
       "      <th>age_out</th>\n",
       "    </tr>\n",
       "  </thead>\n",
       "  <tbody>\n",
       "    <tr>\n",
       "      <th>578</th>\n",
       "      <td>A531969</td>\n",
       "      <td>Black</td>\n",
       "      <td>2015-11-13 12:18:00</td>\n",
       "      <td>Outside Jurisdiction</td>\n",
       "      <td>Owner Surrender</td>\n",
       "      <td>Normal</td>\n",
       "      <td>Neutered Male</td>\n",
       "      <td>7 years</td>\n",
       "      <td>Pit Bull Mix</td>\n",
       "      <td>Black/White</td>\n",
       "      <td>2015-11-13 00:00:00</td>\n",
       "      <td>03/06/2008</td>\n",
       "      <td>Return to Owner</td>\n",
       "      <td>NaN</td>\n",
       "      <td>Neutered Male</td>\n",
       "      <td>7 years</td>\n",
       "    </tr>\n",
       "    <tr>\n",
       "      <th>1619</th>\n",
       "      <td>A624094</td>\n",
       "      <td>Bootz</td>\n",
       "      <td>2021-04-19 08:27:00</td>\n",
       "      <td>5901 East Stassney in Austin (TX)</td>\n",
       "      <td>Owner Surrender</td>\n",
       "      <td>Sick</td>\n",
       "      <td>Intact Female</td>\n",
       "      <td>10 years</td>\n",
       "      <td>Pit Bull Mix</td>\n",
       "      <td>Brown Brindle/White</td>\n",
       "      <td>2021-04-19 00:00:00</td>\n",
       "      <td>10/10/2010</td>\n",
       "      <td>Euthanasia</td>\n",
       "      <td>Suffering</td>\n",
       "      <td>Intact Female</td>\n",
       "      <td>10 years</td>\n",
       "    </tr>\n",
       "    <tr>\n",
       "      <th>2360</th>\n",
       "      <td>A657016</td>\n",
       "      <td>Trap</td>\n",
       "      <td>2016-05-19 14:25:00</td>\n",
       "      <td>2600 Scofield Ridge Pkwy in Travis (TX)</td>\n",
       "      <td>Stray</td>\n",
       "      <td>Injured</td>\n",
       "      <td>Intact Male</td>\n",
       "      <td>3 years</td>\n",
       "      <td>Pit Bull Mix</td>\n",
       "      <td>Black/White</td>\n",
       "      <td>2016-05-19 00:00:00</td>\n",
       "      <td>12/22/2012</td>\n",
       "      <td>Died</td>\n",
       "      <td>Enroute</td>\n",
       "      <td>Intact Male</td>\n",
       "      <td>3 years</td>\n",
       "    </tr>\n",
       "    <tr>\n",
       "      <th>5407</th>\n",
       "      <td>A672696</td>\n",
       "      <td>Oreo</td>\n",
       "      <td>2014-02-15 12:30:00</td>\n",
       "      <td>2 Brett Cove in Rollingwood (TX)</td>\n",
       "      <td>Stray</td>\n",
       "      <td>Normal</td>\n",
       "      <td>Neutered Male</td>\n",
       "      <td>12 years</td>\n",
       "      <td>Rat Terrier Mix</td>\n",
       "      <td>Tricolor</td>\n",
       "      <td>2014-02-15 11:12:00</td>\n",
       "      <td>02/15/2002</td>\n",
       "      <td>Return to Owner</td>\n",
       "      <td>NaN</td>\n",
       "      <td>Neutered Male</td>\n",
       "      <td>12 years</td>\n",
       "    </tr>\n",
       "    <tr>\n",
       "      <th>6047</th>\n",
       "      <td>A674638</td>\n",
       "      <td>Sam</td>\n",
       "      <td>2014-03-16 11:46:00</td>\n",
       "      <td>Rollingwood &amp; Bee Cave Rd in Austin (TX)</td>\n",
       "      <td>Stray</td>\n",
       "      <td>Normal</td>\n",
       "      <td>Neutered Male</td>\n",
       "      <td>7 years</td>\n",
       "      <td>Labrador Retriever Mix</td>\n",
       "      <td>Chocolate</td>\n",
       "      <td>2014-03-16 10:48:00</td>\n",
       "      <td>03/16/2007</td>\n",
       "      <td>Return to Owner</td>\n",
       "      <td>NaN</td>\n",
       "      <td>Neutered Male</td>\n",
       "      <td>7 years</td>\n",
       "    </tr>\n",
       "  </tbody>\n",
       "</table>\n",
       "</div>"
      ],
      "text/plain": [
       "     Animal ID   Name            DateTime  \\\n",
       "578    A531969  Black 2015-11-13 12:18:00   \n",
       "1619   A624094  Bootz 2021-04-19 08:27:00   \n",
       "2360   A657016   Trap 2016-05-19 14:25:00   \n",
       "5407   A672696   Oreo 2014-02-15 12:30:00   \n",
       "6047   A674638    Sam 2014-03-16 11:46:00   \n",
       "\n",
       "                                Found Location      Intake Type  \\\n",
       "578                       Outside Jurisdiction  Owner Surrender   \n",
       "1619         5901 East Stassney in Austin (TX)  Owner Surrender   \n",
       "2360   2600 Scofield Ridge Pkwy in Travis (TX)            Stray   \n",
       "5407          2 Brett Cove in Rollingwood (TX)            Stray   \n",
       "6047  Rollingwood & Bee Cave Rd in Austin (TX)            Stray   \n",
       "\n",
       "     Intake Condition Sex upon Intake Age upon Intake                   Breed  \\\n",
       "578            Normal   Neutered Male         7 years            Pit Bull Mix   \n",
       "1619             Sick   Intact Female        10 years            Pit Bull Mix   \n",
       "2360          Injured     Intact Male         3 years            Pit Bull Mix   \n",
       "5407           Normal   Neutered Male        12 years         Rat Terrier Mix   \n",
       "6047           Normal   Neutered Male         7 years  Labrador Retriever Mix   \n",
       "\n",
       "                    Color            date_out         dob          outcome  \\\n",
       "578           Black/White 2015-11-13 00:00:00  03/06/2008  Return to Owner   \n",
       "1619  Brown Brindle/White 2021-04-19 00:00:00  10/10/2010       Euthanasia   \n",
       "2360          Black/White 2016-05-19 00:00:00  12/22/2012             Died   \n",
       "5407             Tricolor 2014-02-15 11:12:00  02/15/2002  Return to Owner   \n",
       "6047            Chocolate 2014-03-16 10:48:00  03/16/2007  Return to Owner   \n",
       "\n",
       "     outcome_sub        sex_out   age_out  \n",
       "578          NaN  Neutered Male   7 years  \n",
       "1619   Suffering  Intact Female  10 years  \n",
       "2360     Enroute    Intact Male   3 years  \n",
       "5407         NaN  Neutered Male  12 years  \n",
       "6047         NaN  Neutered Male   7 years  "
      ]
     },
     "execution_count": 200,
     "metadata": {},
     "output_type": "execute_result"
    }
   ],
   "source": [
    "solo[(solo['DateTime'] > solo['date_out'])].head()"
   ]
  },
  {
   "cell_type": "markdown",
   "metadata": {},
   "source": [
    "None of the animals returned the same day were in the system for longer than 1 day."
   ]
  },
  {
   "cell_type": "code",
   "execution_count": 201,
   "metadata": {},
   "outputs": [
    {
     "data": {
      "text/plain": [
       "0"
      ]
     },
     "execution_count": 201,
     "metadata": {},
     "output_type": "execute_result"
    }
   ],
   "source": [
    "((solo[(solo['DateTime'] > solo['date_out'])])['date_out'] - (solo[(solo['DateTime'] > solo['date_out'])]['DateTime']) > pd.Timedelta(-1, units='days')).sum()"
   ]
  },
  {
   "cell_type": "code",
   "execution_count": 202,
   "metadata": {},
   "outputs": [
    {
     "data": {
      "text/plain": [
       "578     -1 days +11:42:00\n",
       "1619    -1 days +15:33:00\n",
       "2360    -1 days +09:35:00\n",
       "5407    -1 days +22:42:00\n",
       "6047    -1 days +23:02:00\n",
       "               ...       \n",
       "51541   -1 days +12:31:00\n",
       "52162   -1 days +19:52:00\n",
       "52163   -1 days +20:02:00\n",
       "52670   -1 days +10:54:00\n",
       "55129   -1 days +20:43:00\n",
       "Length: 169, dtype: timedelta64[ns]"
      ]
     },
     "execution_count": 202,
     "metadata": {},
     "output_type": "execute_result"
    }
   ],
   "source": [
    "(solo[(solo['DateTime'] > solo['date_out'])])['date_out'] - (solo[(solo['DateTime'] > solo['date_out'])])['DateTime']"
   ]
  },
  {
   "cell_type": "markdown",
   "metadata": {},
   "source": [
    "Check for correct time syncing"
   ]
  },
  {
   "cell_type": "code",
   "execution_count": 266,
   "metadata": {},
   "outputs": [
    {
     "data": {
      "text/html": [
       "<div>\n",
       "<style scoped>\n",
       "    .dataframe tbody tr th:only-of-type {\n",
       "        vertical-align: middle;\n",
       "    }\n",
       "\n",
       "    .dataframe tbody tr th {\n",
       "        vertical-align: top;\n",
       "    }\n",
       "\n",
       "    .dataframe thead th {\n",
       "        text-align: right;\n",
       "    }\n",
       "</style>\n",
       "<table border=\"1\" class=\"dataframe\">\n",
       "  <thead>\n",
       "    <tr style=\"text-align: right;\">\n",
       "      <th></th>\n",
       "      <th>Animal ID</th>\n",
       "      <th>Name</th>\n",
       "      <th>DateTime</th>\n",
       "      <th>Found Location</th>\n",
       "      <th>Intake Type</th>\n",
       "      <th>Intake Condition</th>\n",
       "      <th>Sex upon Intake</th>\n",
       "      <th>Age upon Intake</th>\n",
       "      <th>Breed</th>\n",
       "      <th>Color</th>\n",
       "      <th>date_out</th>\n",
       "      <th>dob</th>\n",
       "      <th>outcome</th>\n",
       "      <th>outcome_sub</th>\n",
       "      <th>sex_out</th>\n",
       "      <th>age_out</th>\n",
       "    </tr>\n",
       "  </thead>\n",
       "  <tbody>\n",
       "    <tr>\n",
       "      <th>0</th>\n",
       "      <td>A047759</td>\n",
       "      <td>Oreo</td>\n",
       "      <td>2014-04-02 15:55:00</td>\n",
       "      <td>Austin (TX)</td>\n",
       "      <td>Owner Surrender</td>\n",
       "      <td>Normal</td>\n",
       "      <td>Neutered Male</td>\n",
       "      <td>10 years</td>\n",
       "      <td>Dachshund</td>\n",
       "      <td>Tricolor</td>\n",
       "      <td>2014-04-07 15:12:00</td>\n",
       "      <td>04/02/2004</td>\n",
       "      <td>Transfer</td>\n",
       "      <td>Partner</td>\n",
       "      <td>Neutered Male</td>\n",
       "      <td>10 years</td>\n",
       "    </tr>\n",
       "    <tr>\n",
       "      <th>1</th>\n",
       "      <td>A134067</td>\n",
       "      <td>Bandit</td>\n",
       "      <td>2013-11-16 09:02:00</td>\n",
       "      <td>12034 Research Blvd in Austin (TX)</td>\n",
       "      <td>Public Assist</td>\n",
       "      <td>Injured</td>\n",
       "      <td>Neutered Male</td>\n",
       "      <td>16 years</td>\n",
       "      <td>Shetland Sheepdog</td>\n",
       "      <td>Brown/White</td>\n",
       "      <td>2013-11-16 11:54:00</td>\n",
       "      <td>10/16/1997</td>\n",
       "      <td>Return to Owner</td>\n",
       "      <td>NaN</td>\n",
       "      <td>Neutered Male</td>\n",
       "      <td>16 years</td>\n",
       "    </tr>\n",
       "    <tr>\n",
       "      <th>2</th>\n",
       "      <td>A141142</td>\n",
       "      <td>Bettie</td>\n",
       "      <td>2013-11-16 14:46:00</td>\n",
       "      <td>Austin (TX)</td>\n",
       "      <td>Stray</td>\n",
       "      <td>Aged</td>\n",
       "      <td>Spayed Female</td>\n",
       "      <td>15 years</td>\n",
       "      <td>Labrador Retriever/Pit Bull</td>\n",
       "      <td>Black/White</td>\n",
       "      <td>2013-11-17 11:40:00</td>\n",
       "      <td>06/01/1998</td>\n",
       "      <td>Return to Owner</td>\n",
       "      <td>NaN</td>\n",
       "      <td>Spayed Female</td>\n",
       "      <td>15 years</td>\n",
       "    </tr>\n",
       "    <tr>\n",
       "      <th>3</th>\n",
       "      <td>A163459</td>\n",
       "      <td>Sasha</td>\n",
       "      <td>2014-11-14 15:11:00</td>\n",
       "      <td>Ih 35 And 41St St in Austin (TX)</td>\n",
       "      <td>Stray</td>\n",
       "      <td>Normal</td>\n",
       "      <td>Intact Female</td>\n",
       "      <td>15 years</td>\n",
       "      <td>Miniature Schnauzer Mix</td>\n",
       "      <td>Black/Gray</td>\n",
       "      <td>2014-11-14 19:28:00</td>\n",
       "      <td>10/19/1999</td>\n",
       "      <td>Return to Owner</td>\n",
       "      <td>NaN</td>\n",
       "      <td>Intact Female</td>\n",
       "      <td>15 years</td>\n",
       "    </tr>\n",
       "    <tr>\n",
       "      <th>4</th>\n",
       "      <td>A165752</td>\n",
       "      <td>Pep</td>\n",
       "      <td>2014-09-15 11:28:00</td>\n",
       "      <td>Gatlin Gun Rd And Brodie in Austin (TX)</td>\n",
       "      <td>Stray</td>\n",
       "      <td>Normal</td>\n",
       "      <td>Neutered Male</td>\n",
       "      <td>15 years</td>\n",
       "      <td>Lhasa Apso Mix</td>\n",
       "      <td>Brown/White</td>\n",
       "      <td>2014-09-15 16:35:00</td>\n",
       "      <td>08/18/1999</td>\n",
       "      <td>Return to Owner</td>\n",
       "      <td>NaN</td>\n",
       "      <td>Neutered Male</td>\n",
       "      <td>15 years</td>\n",
       "    </tr>\n",
       "    <tr>\n",
       "      <th>...</th>\n",
       "      <td>...</td>\n",
       "      <td>...</td>\n",
       "      <td>...</td>\n",
       "      <td>...</td>\n",
       "      <td>...</td>\n",
       "      <td>...</td>\n",
       "      <td>...</td>\n",
       "      <td>...</td>\n",
       "      <td>...</td>\n",
       "      <td>...</td>\n",
       "      <td>...</td>\n",
       "      <td>...</td>\n",
       "      <td>...</td>\n",
       "      <td>...</td>\n",
       "      <td>...</td>\n",
       "      <td>...</td>\n",
       "    </tr>\n",
       "    <tr>\n",
       "      <th>55385</th>\n",
       "      <td>A851186</td>\n",
       "      <td>Face</td>\n",
       "      <td>2022-02-08 11:06:00</td>\n",
       "      <td>6812 Hillcroft Dr in Austin (TX)</td>\n",
       "      <td>Public Assist</td>\n",
       "      <td>Injured</td>\n",
       "      <td>Intact Male</td>\n",
       "      <td>2 years</td>\n",
       "      <td>Pit Bull</td>\n",
       "      <td>Brown</td>\n",
       "      <td>2022-02-08 18:16:00</td>\n",
       "      <td>02/08/2020</td>\n",
       "      <td>Return to Owner</td>\n",
       "      <td>NaN</td>\n",
       "      <td>Intact Male</td>\n",
       "      <td>2 years</td>\n",
       "    </tr>\n",
       "    <tr>\n",
       "      <th>55386</th>\n",
       "      <td>A851188</td>\n",
       "      <td>Static</td>\n",
       "      <td>2022-02-08 11:06:00</td>\n",
       "      <td>6812 Hillcroft Dr in Austin (TX)</td>\n",
       "      <td>Public Assist</td>\n",
       "      <td>Normal</td>\n",
       "      <td>Intact Female</td>\n",
       "      <td>5 months</td>\n",
       "      <td>Pit Bull</td>\n",
       "      <td>Blue/White</td>\n",
       "      <td>2022-02-08 18:19:00</td>\n",
       "      <td>09/08/2021</td>\n",
       "      <td>Return to Owner</td>\n",
       "      <td>NaN</td>\n",
       "      <td>Intact Female</td>\n",
       "      <td>5 months</td>\n",
       "    </tr>\n",
       "    <tr>\n",
       "      <th>55387</th>\n",
       "      <td>A851191</td>\n",
       "      <td>Rose</td>\n",
       "      <td>2022-02-08 11:54:00</td>\n",
       "      <td>Austin (TX)</td>\n",
       "      <td>Owner Surrender</td>\n",
       "      <td>Sick</td>\n",
       "      <td>Spayed Female</td>\n",
       "      <td>2 years</td>\n",
       "      <td>Doberman Pinsch Mix</td>\n",
       "      <td>Black</td>\n",
       "      <td>2022-02-08 14:32:00</td>\n",
       "      <td>04/08/2019</td>\n",
       "      <td>Euthanasia</td>\n",
       "      <td>Suffering</td>\n",
       "      <td>Spayed Female</td>\n",
       "      <td>2 years</td>\n",
       "    </tr>\n",
       "    <tr>\n",
       "      <th>55388</th>\n",
       "      <td>A851204</td>\n",
       "      <td>A851204</td>\n",
       "      <td>2022-02-08 14:11:00</td>\n",
       "      <td>8400 Jamestown Drive in Austin (TX)</td>\n",
       "      <td>Stray</td>\n",
       "      <td>Normal</td>\n",
       "      <td>Intact Male</td>\n",
       "      <td>3 years</td>\n",
       "      <td>Dachshund Mix</td>\n",
       "      <td>Brown Brindle/White</td>\n",
       "      <td>2022-02-10 12:39:00</td>\n",
       "      <td>09/08/2018</td>\n",
       "      <td>Return to Owner</td>\n",
       "      <td>NaN</td>\n",
       "      <td>Intact Male</td>\n",
       "      <td>3 years</td>\n",
       "    </tr>\n",
       "    <tr>\n",
       "      <th>55389</th>\n",
       "      <td>A851209</td>\n",
       "      <td>A851209</td>\n",
       "      <td>2022-02-08 15:36:00</td>\n",
       "      <td>Travis (TX)</td>\n",
       "      <td>Owner Surrender</td>\n",
       "      <td>Normal</td>\n",
       "      <td>Intact Female</td>\n",
       "      <td>2 months</td>\n",
       "      <td>Pit Bull Mix</td>\n",
       "      <td>Brown Brindle/White</td>\n",
       "      <td>2022-02-09 17:00:00</td>\n",
       "      <td>12/08/2021</td>\n",
       "      <td>Adoption</td>\n",
       "      <td>NaN</td>\n",
       "      <td>Spayed Female</td>\n",
       "      <td>2 months</td>\n",
       "    </tr>\n",
       "  </tbody>\n",
       "</table>\n",
       "<p>55220 rows × 16 columns</p>\n",
       "</div>"
      ],
      "text/plain": [
       "      Animal ID     Name            DateTime  \\\n",
       "0       A047759     Oreo 2014-04-02 15:55:00   \n",
       "1       A134067   Bandit 2013-11-16 09:02:00   \n",
       "2       A141142   Bettie 2013-11-16 14:46:00   \n",
       "3       A163459    Sasha 2014-11-14 15:11:00   \n",
       "4       A165752      Pep 2014-09-15 11:28:00   \n",
       "...         ...      ...                 ...   \n",
       "55385   A851186     Face 2022-02-08 11:06:00   \n",
       "55386   A851188   Static 2022-02-08 11:06:00   \n",
       "55387   A851191     Rose 2022-02-08 11:54:00   \n",
       "55388   A851204  A851204 2022-02-08 14:11:00   \n",
       "55389   A851209  A851209 2022-02-08 15:36:00   \n",
       "\n",
       "                                Found Location      Intake Type  \\\n",
       "0                                  Austin (TX)  Owner Surrender   \n",
       "1           12034 Research Blvd in Austin (TX)    Public Assist   \n",
       "2                                  Austin (TX)            Stray   \n",
       "3             Ih 35 And 41St St in Austin (TX)            Stray   \n",
       "4      Gatlin Gun Rd And Brodie in Austin (TX)            Stray   \n",
       "...                                        ...              ...   \n",
       "55385         6812 Hillcroft Dr in Austin (TX)    Public Assist   \n",
       "55386         6812 Hillcroft Dr in Austin (TX)    Public Assist   \n",
       "55387                              Austin (TX)  Owner Surrender   \n",
       "55388      8400 Jamestown Drive in Austin (TX)            Stray   \n",
       "55389                              Travis (TX)  Owner Surrender   \n",
       "\n",
       "      Intake Condition Sex upon Intake Age upon Intake  \\\n",
       "0               Normal   Neutered Male        10 years   \n",
       "1              Injured   Neutered Male        16 years   \n",
       "2                 Aged   Spayed Female        15 years   \n",
       "3               Normal   Intact Female        15 years   \n",
       "4               Normal   Neutered Male        15 years   \n",
       "...                ...             ...             ...   \n",
       "55385          Injured     Intact Male         2 years   \n",
       "55386           Normal   Intact Female        5 months   \n",
       "55387             Sick   Spayed Female         2 years   \n",
       "55388           Normal     Intact Male         3 years   \n",
       "55389           Normal   Intact Female        2 months   \n",
       "\n",
       "                             Breed                Color            date_out  \\\n",
       "0                        Dachshund             Tricolor 2014-04-07 15:12:00   \n",
       "1                Shetland Sheepdog          Brown/White 2013-11-16 11:54:00   \n",
       "2      Labrador Retriever/Pit Bull          Black/White 2013-11-17 11:40:00   \n",
       "3          Miniature Schnauzer Mix           Black/Gray 2014-11-14 19:28:00   \n",
       "4                   Lhasa Apso Mix          Brown/White 2014-09-15 16:35:00   \n",
       "...                            ...                  ...                 ...   \n",
       "55385                     Pit Bull                Brown 2022-02-08 18:16:00   \n",
       "55386                     Pit Bull           Blue/White 2022-02-08 18:19:00   \n",
       "55387          Doberman Pinsch Mix                Black 2022-02-08 14:32:00   \n",
       "55388                Dachshund Mix  Brown Brindle/White 2022-02-10 12:39:00   \n",
       "55389                 Pit Bull Mix  Brown Brindle/White 2022-02-09 17:00:00   \n",
       "\n",
       "              dob          outcome outcome_sub        sex_out   age_out  \n",
       "0      04/02/2004         Transfer     Partner  Neutered Male  10 years  \n",
       "1      10/16/1997  Return to Owner         NaN  Neutered Male  16 years  \n",
       "2      06/01/1998  Return to Owner         NaN  Spayed Female  15 years  \n",
       "3      10/19/1999  Return to Owner         NaN  Intact Female  15 years  \n",
       "4      08/18/1999  Return to Owner         NaN  Neutered Male  15 years  \n",
       "...           ...              ...         ...            ...       ...  \n",
       "55385  02/08/2020  Return to Owner         NaN    Intact Male   2 years  \n",
       "55386  09/08/2021  Return to Owner         NaN  Intact Female  5 months  \n",
       "55387  04/08/2019       Euthanasia   Suffering  Spayed Female   2 years  \n",
       "55388  09/08/2018  Return to Owner         NaN    Intact Male   3 years  \n",
       "55389  12/08/2021         Adoption         NaN  Spayed Female  2 months  \n",
       "\n",
       "[55220 rows x 16 columns]"
      ]
     },
     "execution_count": 266,
     "metadata": {},
     "output_type": "execute_result"
    }
   ],
   "source": [
    "solo[solo['DateTime'] < solo['date_out']]"
   ]
  },
  {
   "cell_type": "markdown",
   "metadata": {},
   "source": [
    "~55,000 observations"
   ]
  },
  {
   "cell_type": "code",
   "execution_count": 267,
   "metadata": {},
   "outputs": [
    {
     "data": {
      "text/plain": [
       "Timedelta('16 days 23:12:55.407098877')"
      ]
     },
     "execution_count": 267,
     "metadata": {},
     "output_type": "execute_result"
    }
   ],
   "source": [
    "(solo[(solo['date_out'] - solo['DateTime']) > pd.Timedelta(0, units='minute')]['date_out'] - solo[(solo['date_out']   -   solo['DateTime']) > pd.Timedelta(0, units='minute')]['DateTime']).mean()"
   ]
  },
  {
   "cell_type": "markdown",
   "metadata": {},
   "source": [
    "### Drop Repeats"
   ]
  },
  {
   "cell_type": "code",
   "execution_count": 203,
   "metadata": {},
   "outputs": [],
   "source": [
    "solo_in = set(austin_intakes['Animal ID'].value_counts()[austin_intakes['Animal ID'].value_counts() == 1].index)\n",
    "solo_out = set(austin_outcomes['Animal ID'].value_counts()[austin_outcomes['Animal ID'].value_counts() == 1].index)"
   ]
  },
  {
   "cell_type": "code",
   "execution_count": 204,
   "metadata": {},
   "outputs": [],
   "source": [
    "solo_ids = solo_in.intersection(solo_out)"
   ]
  },
  {
   "cell_type": "code",
   "execution_count": 205,
   "metadata": {},
   "outputs": [],
   "source": [
    "austin_intakes = austin_intakes[austin_intakes['Animal ID'].isin(solo_ids)]\n",
    "austin_intakes.set_index('Animal ID', inplace=True)\n",
    "austin_outcomes = austin_outcomes[austin_outcomes['Animal ID'].isin(solo_ids)]\n",
    "austin_outcomes.set_index('Animal ID', inplace=True)"
   ]
  },
  {
   "cell_type": "code",
   "execution_count": 206,
   "metadata": {},
   "outputs": [
    {
     "data": {
      "text/plain": [
       "(55394, 9)"
      ]
     },
     "execution_count": 206,
     "metadata": {},
     "output_type": "execute_result"
    }
   ],
   "source": [
    "austin_intakes.shape"
   ]
  },
  {
   "cell_type": "code",
   "execution_count": 207,
   "metadata": {},
   "outputs": [
    {
     "data": {
      "text/plain": [
       "(55394, 9)"
      ]
     },
     "execution_count": 207,
     "metadata": {},
     "output_type": "execute_result"
    }
   ],
   "source": [
    "austin_outcomes.shape"
   ]
  },
  {
   "cell_type": "code",
   "execution_count": 209,
   "metadata": {},
   "outputs": [],
   "source": [
    "austin_intakes.rename(columns={\n",
    "    'Name': 'name',\n",
    "    'DateTime': 'date_in',\n",
    "    'Found Location': 'location',\n",
    "    'Intake Type': 'intake_type',\n",
    "    'Intake Condition': 'condition',\n",
    "    'Sex upon Intake': 'sex_in',\n",
    "    'Age upon Intake': 'age_in',\n",
    "    'Breed': 'breed',\n",
    "    'Color': 'color'\n",
    "}, inplace=True)\n",
    "\n",
    "austin_outcomes.rename(columns={\n",
    "    'Name': 'name',\n",
    "    'DateTime': 'date_out',\n",
    "    'Date of Birth': 'dob',\n",
    "    'Outcome Type': 'outcome',\n",
    "    'Outcome Subtype': 'outcome_sub',\n",
    "    'Sex upon Outcome': 'sex_out',\n",
    "    'Age upon Outcome': 'age_out',\n",
    "    'Breed': 'breed',\n",
    "    'Color': 'color'\n",
    "}, inplace=True)\n",
    "\n",
    "austin_outcomes.drop(columns=['name', 'breed', 'color'], inplace=True)"
   ]
  },
  {
   "cell_type": "markdown",
   "metadata": {},
   "source": [
    "Final Merge"
   ]
  },
  {
   "cell_type": "code",
   "execution_count": 210,
   "metadata": {},
   "outputs": [],
   "source": [
    "austin = pd.merge(left=austin_intakes, right=austin_outcomes, how='left', left_on='Animal ID', right_on='Animal ID')"
   ]
  },
  {
   "cell_type": "code",
   "execution_count": 211,
   "metadata": {},
   "outputs": [],
   "source": [
    "austin.reset_index(drop=False, inplace=True)"
   ]
  },
  {
   "cell_type": "code",
   "execution_count": 212,
   "metadata": {},
   "outputs": [],
   "source": [
    "austin.rename(columns={'Animal ID':'id'}, inplace=True)"
   ]
  },
  {
   "cell_type": "markdown",
   "metadata": {},
   "source": [
    "### Drop NA"
   ]
  },
  {
   "cell_type": "code",
   "execution_count": 213,
   "metadata": {},
   "outputs": [],
   "source": [
    "austin = austin[austin['outcome'].notna()].copy(deep=True)"
   ]
  },
  {
   "cell_type": "markdown",
   "metadata": {},
   "source": [
    "### Impute Missing"
   ]
  },
  {
   "cell_type": "code",
   "execution_count": 214,
   "metadata": {},
   "outputs": [
    {
     "data": {
      "text/plain": [
       "Intact Male      21083\n",
       "Intact Female    19420\n",
       "Neutered Male     7706\n",
       "Spayed Female     6679\n",
       "Unknown            497\n",
       "Name: sex_in, dtype: int64"
      ]
     },
     "execution_count": 214,
     "metadata": {},
     "output_type": "execute_result"
    }
   ],
   "source": [
    "austin['sex_in'].value_counts()"
   ]
  },
  {
   "cell_type": "code",
   "execution_count": 215,
   "metadata": {},
   "outputs": [],
   "source": [
    "austin['sex_in'].fillna('Intact Male', inplace=True)"
   ]
  },
  {
   "cell_type": "markdown",
   "metadata": {},
   "source": [
    "Filling with most frequent"
   ]
  },
  {
   "cell_type": "code",
   "execution_count": 216,
   "metadata": {},
   "outputs": [
    {
     "data": {
      "text/plain": [
       "Neutered Male    21271\n",
       "Spayed Female    19124\n",
       "Intact Male       7518\n",
       "Intact Female     6975\n",
       "Unknown            497\n",
       "Name: sex_out, dtype: int64"
      ]
     },
     "execution_count": 216,
     "metadata": {},
     "output_type": "execute_result"
    }
   ],
   "source": [
    "austin['sex_out'].value_counts()"
   ]
  },
  {
   "cell_type": "code",
   "execution_count": 217,
   "metadata": {},
   "outputs": [],
   "source": [
    "austin['sex_out'].fillna('Neutered Male', inplace=True)"
   ]
  },
  {
   "cell_type": "markdown",
   "metadata": {},
   "source": [
    "Filling with most frequent"
   ]
  },
  {
   "cell_type": "code",
   "execution_count": 218,
   "metadata": {},
   "outputs": [
    {
     "data": {
      "text/plain": [
       "2 years     10072\n",
       "1 year       9837\n",
       "2 months     5527\n",
       "3 years      3924\n",
       "4 years      2297\n",
       "Name: age_out, dtype: int64"
      ]
     },
     "execution_count": 218,
     "metadata": {},
     "output_type": "execute_result"
    }
   ],
   "source": [
    "austin['age_out'].value_counts()[:5]"
   ]
  },
  {
   "cell_type": "code",
   "execution_count": 219,
   "metadata": {},
   "outputs": [],
   "source": [
    "austin['age_out'].fillna('1 year', inplace=True)"
   ]
  },
  {
   "cell_type": "code",
   "execution_count": 220,
   "metadata": {},
   "outputs": [],
   "source": [
    "austin.reset_index(drop=True, inplace=True)"
   ]
  },
  {
   "cell_type": "code",
   "execution_count": 221,
   "metadata": {},
   "outputs": [],
   "source": [
    "# convert month to decimil\n",
    "austin.loc[austin[austin['age_out'].str.contains('month')].index.values, 'age_out'] = austin['age_out'][austin['age_out'].str.contains('month')].apply(lambda x: str(int(x.split()[0])/12))\n",
    "austin.loc[austin[austin['age_in'].str.contains('month')].index.values, 'age_in'] = austin['age_in'][austin['age_in'].str.contains('month')].apply(lambda x: str(int(x.split()[0])/12))"
   ]
  },
  {
   "cell_type": "code",
   "execution_count": 222,
   "metadata": {},
   "outputs": [],
   "source": [
    "# convert week to decimil\n",
    "austin.loc[austin[austin['age_out'].str.contains('week')].index.values, 'age_out'] = austin['age_out'][austin['age_out'].str.contains('week')].apply(lambda x: str(int(x.split()[0])/52))\n",
    "austin.loc[austin[austin['age_in'].str.contains('week')].index.values, 'age_in'] = austin['age_in'][austin['age_in'].str.contains('week')].apply(lambda x: str(int(x.split()[0])/52))"
   ]
  },
  {
   "cell_type": "code",
   "execution_count": 223,
   "metadata": {},
   "outputs": [],
   "source": [
    "# convert day to decimil\n",
    "austin.loc[austin[austin['age_out'].str.contains('day')].index.values, 'age_out'] = austin['age_out'][austin['age_out'].str.contains('day')].apply(lambda x: str(int(x.split()[0])/365))\n",
    "austin.loc[austin[austin['age_in'].str.contains('day')].index.values, 'age_in'] = austin['age_in'][austin['age_in'].str.contains('day')].apply(lambda x: str(int(x.split()[0])/365))"
   ]
  },
  {
   "cell_type": "code",
   "execution_count": 224,
   "metadata": {},
   "outputs": [],
   "source": [
    "# drop 'years'\n",
    "austin.loc[austin[austin['age_out'].str.contains('year')].index.values, 'age_out'] = austin['age_out'][austin['age_out'].str.contains('year')].apply(lambda x: str(x.split()[0]))\n",
    "austin.loc[austin[austin['age_in'].str.contains('year')].index.values, 'age_in'] = austin['age_in'][austin['age_in'].str.contains('year')].apply(lambda x: str(x.split()[0]))"
   ]
  },
  {
   "cell_type": "code",
   "execution_count": 225,
   "metadata": {},
   "outputs": [],
   "source": [
    "# fix negative numbers\n",
    "austin['age_out'] = austin['age_out'].str.replace('-', '')\n",
    "austin['age_in'] = austin['age_in'].str.replace('-', '')"
   ]
  },
  {
   "cell_type": "code",
   "execution_count": 226,
   "metadata": {},
   "outputs": [],
   "source": [
    "austin['age_out'] = round(austin['age_out'].astype(float), 2)\n",
    "austin['age_in'] = round(austin['age_in'].astype(float), 2)"
   ]
  },
  {
   "cell_type": "code",
   "execution_count": 227,
   "metadata": {},
   "outputs": [
    {
     "data": {
      "text/plain": [
       "Intact Male      21084\n",
       "Intact Female    19420\n",
       "Neutered Male     7706\n",
       "Spayed Female     6679\n",
       "Unknown            497\n",
       "Name: sex_in, dtype: int64"
      ]
     },
     "execution_count": 227,
     "metadata": {},
     "output_type": "execute_result"
    }
   ],
   "source": [
    "austin['sex_in'].value_counts()"
   ]
  },
  {
   "cell_type": "code",
   "execution_count": 228,
   "metadata": {},
   "outputs": [],
   "source": [
    "austin['sex'] = austin['sex_in'].map({\n",
    "    'Intact Male': 1,\n",
    "    'Neutered Male': 1,\n",
    "    'Intact Female': 0,\n",
    "    'Spayed Female': 0,\n",
    "    'Unknown': 1\n",
    "})"
   ]
  },
  {
   "cell_type": "code",
   "execution_count": 229,
   "metadata": {},
   "outputs": [],
   "source": [
    "austin['intact_in'] = austin['sex_in'].map({\n",
    "    'Intact Male': 1,\n",
    "    'Neutered Male': 0,\n",
    "    'Intact Female': 1,\n",
    "    'Spayed Female': 0,\n",
    "    'Unknown': 1\n",
    "})"
   ]
  },
  {
   "cell_type": "code",
   "execution_count": 230,
   "metadata": {},
   "outputs": [],
   "source": [
    "austin['intact_out'] = austin['sex_out'].map({\n",
    "    'Intact Male': 1,\n",
    "    'Neutered Male': 0,\n",
    "    'Intact Female': 1,\n",
    "    'Spayed Female': 0,\n",
    "    'Unknown': 1\n",
    "})"
   ]
  },
  {
   "cell_type": "code",
   "execution_count": 231,
   "metadata": {},
   "outputs": [],
   "source": [
    "austin['dob'] = pd.to_datetime(austin['dob'])"
   ]
  },
  {
   "cell_type": "code",
   "execution_count": 232,
   "metadata": {},
   "outputs": [],
   "source": [
    "austin.drop(columns=['sex_in', 'sex_out'], inplace=True)"
   ]
  },
  {
   "cell_type": "code",
   "execution_count": 233,
   "metadata": {},
   "outputs": [
    {
     "data": {
      "text/html": [
       "<div>\n",
       "<style scoped>\n",
       "    .dataframe tbody tr th:only-of-type {\n",
       "        vertical-align: middle;\n",
       "    }\n",
       "\n",
       "    .dataframe tbody tr th {\n",
       "        vertical-align: top;\n",
       "    }\n",
       "\n",
       "    .dataframe thead th {\n",
       "        text-align: right;\n",
       "    }\n",
       "</style>\n",
       "<table border=\"1\" class=\"dataframe\">\n",
       "  <thead>\n",
       "    <tr style=\"text-align: right;\">\n",
       "      <th></th>\n",
       "      <th>id</th>\n",
       "      <th>name</th>\n",
       "      <th>date_in</th>\n",
       "      <th>location</th>\n",
       "      <th>intake_type</th>\n",
       "      <th>condition</th>\n",
       "      <th>age_in</th>\n",
       "      <th>breed</th>\n",
       "      <th>color</th>\n",
       "      <th>date_out</th>\n",
       "      <th>dob</th>\n",
       "      <th>outcome</th>\n",
       "      <th>outcome_sub</th>\n",
       "      <th>age_out</th>\n",
       "      <th>sex</th>\n",
       "      <th>intact_in</th>\n",
       "      <th>intact_out</th>\n",
       "    </tr>\n",
       "  </thead>\n",
       "  <tbody>\n",
       "    <tr>\n",
       "      <th>0</th>\n",
       "      <td>A047759</td>\n",
       "      <td>Oreo</td>\n",
       "      <td>2014-04-02 15:55:00</td>\n",
       "      <td>Austin (TX)</td>\n",
       "      <td>Owner Surrender</td>\n",
       "      <td>Normal</td>\n",
       "      <td>10.0</td>\n",
       "      <td>Dachshund</td>\n",
       "      <td>Tricolor</td>\n",
       "      <td>2014-04-07 15:12:00</td>\n",
       "      <td>2004-04-02</td>\n",
       "      <td>Transfer</td>\n",
       "      <td>Partner</td>\n",
       "      <td>10.0</td>\n",
       "      <td>1</td>\n",
       "      <td>0</td>\n",
       "      <td>0</td>\n",
       "    </tr>\n",
       "    <tr>\n",
       "      <th>1</th>\n",
       "      <td>A134067</td>\n",
       "      <td>Bandit</td>\n",
       "      <td>2013-11-16 09:02:00</td>\n",
       "      <td>12034 Research Blvd in Austin (TX)</td>\n",
       "      <td>Public Assist</td>\n",
       "      <td>Injured</td>\n",
       "      <td>16.0</td>\n",
       "      <td>Shetland Sheepdog</td>\n",
       "      <td>Brown/White</td>\n",
       "      <td>2013-11-16 11:54:00</td>\n",
       "      <td>1997-10-16</td>\n",
       "      <td>Return to Owner</td>\n",
       "      <td>NaN</td>\n",
       "      <td>16.0</td>\n",
       "      <td>1</td>\n",
       "      <td>0</td>\n",
       "      <td>0</td>\n",
       "    </tr>\n",
       "    <tr>\n",
       "      <th>2</th>\n",
       "      <td>A141142</td>\n",
       "      <td>Bettie</td>\n",
       "      <td>2013-11-16 14:46:00</td>\n",
       "      <td>Austin (TX)</td>\n",
       "      <td>Stray</td>\n",
       "      <td>Aged</td>\n",
       "      <td>15.0</td>\n",
       "      <td>Labrador Retriever/Pit Bull</td>\n",
       "      <td>Black/White</td>\n",
       "      <td>2013-11-17 11:40:00</td>\n",
       "      <td>1998-06-01</td>\n",
       "      <td>Return to Owner</td>\n",
       "      <td>NaN</td>\n",
       "      <td>15.0</td>\n",
       "      <td>0</td>\n",
       "      <td>0</td>\n",
       "      <td>0</td>\n",
       "    </tr>\n",
       "  </tbody>\n",
       "</table>\n",
       "</div>"
      ],
      "text/plain": [
       "        id    name             date_in                            location  \\\n",
       "0  A047759    Oreo 2014-04-02 15:55:00                         Austin (TX)   \n",
       "1  A134067  Bandit 2013-11-16 09:02:00  12034 Research Blvd in Austin (TX)   \n",
       "2  A141142  Bettie 2013-11-16 14:46:00                         Austin (TX)   \n",
       "\n",
       "       intake_type condition  age_in                        breed  \\\n",
       "0  Owner Surrender    Normal    10.0                    Dachshund   \n",
       "1    Public Assist   Injured    16.0            Shetland Sheepdog   \n",
       "2            Stray      Aged    15.0  Labrador Retriever/Pit Bull   \n",
       "\n",
       "         color            date_out        dob          outcome outcome_sub  \\\n",
       "0     Tricolor 2014-04-07 15:12:00 2004-04-02         Transfer     Partner   \n",
       "1  Brown/White 2013-11-16 11:54:00 1997-10-16  Return to Owner         NaN   \n",
       "2  Black/White 2013-11-17 11:40:00 1998-06-01  Return to Owner         NaN   \n",
       "\n",
       "   age_out  sex  intact_in  intact_out  \n",
       "0     10.0    1          0           0  \n",
       "1     16.0    1          0           0  \n",
       "2     15.0    0          0           0  "
      ]
     },
     "execution_count": 233,
     "metadata": {},
     "output_type": "execute_result"
    }
   ],
   "source": [
    "austin.head(3)"
   ]
  },
  {
   "cell_type": "code",
   "execution_count": 300,
   "metadata": {},
   "outputs": [
    {
     "name": "stdout",
     "output_type": "stream",
     "text": [
      "<class 'pandas.core.frame.DataFrame'>\n",
      "RangeIndex: 55382 entries, 0 to 55381\n",
      "Data columns (total 17 columns):\n",
      " #   Column       Non-Null Count  Dtype         \n",
      "---  ------       --------------  -----         \n",
      " 0   id           55382 non-null  object        \n",
      " 1   name         43230 non-null  object        \n",
      " 2   date_in      55382 non-null  datetime64[ns]\n",
      " 3   location     55382 non-null  object        \n",
      " 4   intake_type  55382 non-null  object        \n",
      " 5   condition    55382 non-null  object        \n",
      " 6   age_in       55382 non-null  float64       \n",
      " 7   breed        55382 non-null  object        \n",
      " 8   color        55382 non-null  object        \n",
      " 9   date_out     55382 non-null  datetime64[ns]\n",
      " 10  dob          55382 non-null  datetime64[ns]\n",
      " 11  outcome      55382 non-null  object        \n",
      " 12  outcome_sub  20689 non-null  object        \n",
      " 13  age_out      55382 non-null  float64       \n",
      " 14  sex          55382 non-null  int64         \n",
      " 15  intact_in    55382 non-null  int64         \n",
      " 16  intact_out   55382 non-null  int64         \n",
      "dtypes: datetime64[ns](3), float64(2), int64(3), object(9)\n",
      "memory usage: 7.2+ MB\n"
     ]
    }
   ],
   "source": [
    "austin.info()"
   ]
  },
  {
   "cell_type": "markdown",
   "metadata": {},
   "source": [
    "## Intake, Outcome, and Condition Classes"
   ]
  },
  {
   "cell_type": "markdown",
   "metadata": {},
   "source": [
    "### Intake_subtype"
   ]
  },
  {
   "cell_type": "code",
   "execution_count": 236,
   "metadata": {},
   "outputs": [
    {
     "data": {
      "text/plain": [
       "Stray                 40953\n",
       "Owner Surrender        9582\n",
       "Public Assist          4422\n",
       "Abandoned               258\n",
       "Euthanasia Request      170\n",
       "Wildlife                  1\n",
       "Name: intake_type, dtype: int64"
      ]
     },
     "execution_count": 236,
     "metadata": {},
     "output_type": "execute_result"
    }
   ],
   "source": [
    "austin['intake_type'].value_counts()"
   ]
  },
  {
   "cell_type": "code",
   "execution_count": 237,
   "metadata": {},
   "outputs": [],
   "source": [
    "austin['intake_type'] = austin['intake_type'].map(\n",
    "    {\n",
    "        'Owner Surrender':'surrender', \n",
    "        'Public Assist':'public_assist', \n",
    "        'Stray':'stray', \n",
    "        'Euthanasia Request':'euth_request',\n",
    "        'Abandoned':'abandoned',\n",
    "        'wildlife':'wildlife',\n",
    "        }\n",
    "    )"
   ]
  },
  {
   "cell_type": "markdown",
   "metadata": {},
   "source": [
    "### Outcome_sub"
   ]
  },
  {
   "cell_type": "code",
   "execution_count": 238,
   "metadata": {},
   "outputs": [
    {
     "data": {
      "text/plain": [
       "34695"
      ]
     },
     "execution_count": 238,
     "metadata": {},
     "output_type": "execute_result"
    }
   ],
   "source": [
    "austin['outcome_sub'].isna().sum()"
   ]
  },
  {
   "cell_type": "code",
   "execution_count": 239,
   "metadata": {},
   "outputs": [],
   "source": [
    "austin.drop(columns=['outcome_sub'], inplace=True)"
   ]
  },
  {
   "cell_type": "markdown",
   "metadata": {},
   "source": [
    "### Condition"
   ]
  },
  {
   "cell_type": "code",
   "execution_count": 240,
   "metadata": {},
   "outputs": [
    {
     "data": {
      "text/plain": [
       "Normal        48941\n",
       "Injured        2862\n",
       "Sick           1717\n",
       "Nursing        1179\n",
       "Aged            333\n",
       "Other           112\n",
       "Medical          93\n",
       "Pregnant         63\n",
       "Neonatal         49\n",
       "Behavior         24\n",
       "Feral             9\n",
       "Med Urgent        2\n",
       "Med Attn          2\n",
       "Name: condition, dtype: int64"
      ]
     },
     "execution_count": 240,
     "metadata": {},
     "output_type": "execute_result"
    }
   ],
   "source": [
    "austin['condition'].value_counts()"
   ]
  },
  {
   "cell_type": "code",
   "execution_count": 241,
   "metadata": {},
   "outputs": [],
   "source": [
    "austin['condition'] = austin['condition'].map(\n",
    "    {\n",
    "        'Normal':'normal', \n",
    "        'Injured':'injured', \n",
    "        'Sick':'sick', \n",
    "        'Nursing':'nursing',\n",
    "        'Aged': 'aged',\n",
    "        'Other': 'other',\n",
    "        'Medical': 'medical',\n",
    "        'Pregnant': 'pregnant',\n",
    "        'Neonatal': 'neonatal',\n",
    "        'Behavior': 'behavior',\n",
    "        'Med Urgent':'injured',\n",
    "        'Med Attn ':'injured',\n",
    "        }\n",
    "    )"
   ]
  },
  {
   "cell_type": "markdown",
   "metadata": {},
   "source": [
    "### Outcome"
   ]
  },
  {
   "cell_type": "code",
   "execution_count": 242,
   "metadata": {},
   "outputs": [
    {
     "data": {
      "text/plain": [
       "Adoption           25609\n",
       "Transfer           14581\n",
       "Return to Owner    12922\n",
       "Euthanasia          1588\n",
       "Rto-Adopt            348\n",
       "Died                 275\n",
       "Disposal              44\n",
       "Missing               19\n",
       "Name: outcome, dtype: int64"
      ]
     },
     "execution_count": 242,
     "metadata": {},
     "output_type": "execute_result"
    }
   ],
   "source": [
    "austin['outcome'].value_counts()"
   ]
  },
  {
   "cell_type": "code",
   "execution_count": 243,
   "metadata": {},
   "outputs": [],
   "source": [
    "austin['outcome'] = austin['outcome'].map(\n",
    "    {\n",
    "        'Adoption': 'adoption', \n",
    "        'Transfer': 'transfer', \n",
    "        'Return to Owner': 'return_owner', \n",
    "        'Euthanasia': 'euthanasia',\n",
    "        'Rto-Adopt': 'return_owner',\n",
    "        'Died': 'died',\n",
    "        'Disposal': 'disposal',\n",
    "        'Missing': 'missing',\n",
    "        }\n",
    "    )"
   ]
  },
  {
   "cell_type": "markdown",
   "metadata": {},
   "source": [
    "## Age corrections"
   ]
  },
  {
   "cell_type": "code",
   "execution_count": 244,
   "metadata": {},
   "outputs": [],
   "source": [
    "austin['age_in'] = np.round(austin['age_in'])"
   ]
  },
  {
   "cell_type": "code",
   "execution_count": 245,
   "metadata": {},
   "outputs": [
    {
     "data": {
      "text/plain": [
       "0.0     15365\n",
       "1.0     13617\n",
       "2.0     10062\n",
       "3.0      3862\n",
       "4.0      2329\n",
       "5.0      2231\n",
       "6.0      1492\n",
       "7.0      1315\n",
       "8.0      1283\n",
       "10.0     1138\n",
       "9.0       753\n",
       "12.0      522\n",
       "11.0      432\n",
       "13.0      342\n",
       "14.0      259\n",
       "15.0      201\n",
       "16.0       96\n",
       "17.0       45\n",
       "18.0       23\n",
       "19.0       14\n",
       "20.0        3\n",
       "23.0        1\n",
       "24.0        1\n",
       "Name: age_in, dtype: int64"
      ]
     },
     "execution_count": 245,
     "metadata": {},
     "output_type": "execute_result"
    }
   ],
   "source": [
    "austin['age_in'].value_counts()"
   ]
  },
  {
   "cell_type": "code",
   "execution_count": 246,
   "metadata": {},
   "outputs": [
    {
     "data": {
      "text/plain": [
       "0.0     14873\n",
       "1.0     13918\n",
       "2.0     10072\n",
       "3.0      3924\n",
       "4.0      2297\n",
       "5.0      2259\n",
       "6.0      1495\n",
       "8.0      1341\n",
       "7.0      1315\n",
       "10.0     1160\n",
       "9.0       732\n",
       "12.0      543\n",
       "11.0      445\n",
       "13.0      360\n",
       "14.0      262\n",
       "15.0      204\n",
       "16.0       99\n",
       "17.0       45\n",
       "18.0       23\n",
       "19.0       14\n",
       "20.0        3\n",
       "23.0        1\n",
       "24.0        1\n",
       "Name: age_out, dtype: int64"
      ]
     },
     "execution_count": 246,
     "metadata": {},
     "output_type": "execute_result"
    }
   ],
   "source": [
    "austin['age_out'] = np.round(austin['age_out'])\n",
    "austin['age_out'].value_counts()"
   ]
  },
  {
   "cell_type": "markdown",
   "metadata": {},
   "source": [
    "### Add age column"
   ]
  },
  {
   "cell_type": "code",
   "execution_count": 247,
   "metadata": {},
   "outputs": [],
   "source": [
    "age_cats = {\n",
    "    0: 'Baby',\n",
    "    1: 'Young',\n",
    "    2: 'Adult', 3: 'Adult', 4: 'Adult', 5: 'Adult', 6: 'Adult', 7: 'Adult', 8: 'Adult',\n",
    "    9: 'Senior', 10: 'Senior', 11: 'Senior', 12: 'Senior', 13: 'Senior', 14: 'Senior', 15: 'Senior', 16: 'Senior', \n",
    "    17: 'Senior', 18: 'Senior', 19: 'Senior', 20: 'Senior', 21: 'Senior', 22: 'Senior', 23: 'Senior', 24: 'Senior', \n",
    "    25: 'Senior', 26: 'Senior', 27: 'Senior', 28: 'Senior', 29: 'Senior', 30: 'Senior',\n",
    "    np.nan: 'Adult' \n",
    "}"
   ]
  },
  {
   "cell_type": "code",
   "execution_count": 248,
   "metadata": {},
   "outputs": [],
   "source": [
    "austin['age'] = austin['age_out'].map(age_cats)"
   ]
  },
  {
   "cell_type": "code",
   "execution_count": 249,
   "metadata": {},
   "outputs": [
    {
     "data": {
      "text/plain": [
       "Adult     22703\n",
       "Baby      14873\n",
       "Young     13918\n",
       "Senior     3892\n",
       "Name: age, dtype: int64"
      ]
     },
     "execution_count": 249,
     "metadata": {},
     "output_type": "execute_result"
    }
   ],
   "source": [
    "austin['age'].value_counts()"
   ]
  },
  {
   "cell_type": "markdown",
   "metadata": {},
   "source": [
    "## Clean Color Columns"
   ]
  },
  {
   "cell_type": "code",
   "execution_count": 250,
   "metadata": {},
   "outputs": [
    {
     "data": {
      "text/plain": [
       "Black/White              6301\n",
       "White                    3108\n",
       "Brown/White              3102\n",
       "Black                    3089\n",
       "Tan/White                2831\n",
       "                         ... \n",
       "Yellow Brindle/Blue         1\n",
       "Red Merle/Tan               1\n",
       "Chocolate/Red Tick          1\n",
       "Chocolate/Brown Merle       1\n",
       "Liver Tick/Brown            1\n",
       "Name: color, Length: 368, dtype: int64"
      ]
     },
     "execution_count": 250,
     "metadata": {},
     "output_type": "execute_result"
    }
   ],
   "source": [
    "austin['color'].value_counts()"
   ]
  },
  {
   "cell_type": "markdown",
   "metadata": {},
   "source": [
    "Unique list of dog colors"
   ]
  },
  {
   "cell_type": "code",
   "execution_count": 251,
   "metadata": {},
   "outputs": [],
   "source": [
    "colors = list(set(austin['color']))"
   ]
  },
  {
   "cell_type": "markdown",
   "metadata": {},
   "source": [
    "Build primary color & secondary color combos"
   ]
  },
  {
   "cell_type": "code",
   "execution_count": 254,
   "metadata": {},
   "outputs": [],
   "source": [
    "primary_colors = []\n",
    "secondary_colors = []\n",
    "\n",
    "for i in range(len(austin['color'])):\n",
    "    if str(austin['color'][i])!='nan':\n",
    "        color_list = re.split(' |/', austin['color'][i])\n",
    "        if len(color_list)==1:\n",
    "            primary_colors.append(color_list[0])\n",
    "            secondary_colors.append(color_list[0])\n",
    "        else:\n",
    "            primary_colors.append(color_list[0])\n",
    "            secondary_colors.append(color_list[1])\n",
    "    else:\n",
    "        primary_colors.append(np.nan)\n",
    "        secondary_colors.append(np.nan)   "
   ]
  },
  {
   "cell_type": "code",
   "execution_count": 255,
   "metadata": {},
   "outputs": [],
   "source": [
    "austin['primary_color'] = primary_colors"
   ]
  },
  {
   "cell_type": "code",
   "execution_count": 256,
   "metadata": {},
   "outputs": [],
   "source": [
    "austin['secondary_color'] = secondary_colors"
   ]
  },
  {
   "cell_type": "code",
   "execution_count": 260,
   "metadata": {},
   "outputs": [
    {
     "data": {
      "text/html": [
       "<div>\n",
       "<style scoped>\n",
       "    .dataframe tbody tr th:only-of-type {\n",
       "        vertical-align: middle;\n",
       "    }\n",
       "\n",
       "    .dataframe tbody tr th {\n",
       "        vertical-align: top;\n",
       "    }\n",
       "\n",
       "    .dataframe thead th {\n",
       "        text-align: right;\n",
       "    }\n",
       "</style>\n",
       "<table border=\"1\" class=\"dataframe\">\n",
       "  <thead>\n",
       "    <tr style=\"text-align: right;\">\n",
       "      <th></th>\n",
       "      <th>id</th>\n",
       "      <th>name</th>\n",
       "      <th>date_in</th>\n",
       "      <th>location</th>\n",
       "      <th>intake_type</th>\n",
       "      <th>condition</th>\n",
       "      <th>age_in</th>\n",
       "      <th>breed</th>\n",
       "      <th>color</th>\n",
       "      <th>date_out</th>\n",
       "      <th>dob</th>\n",
       "      <th>outcome</th>\n",
       "      <th>age_out</th>\n",
       "      <th>sex</th>\n",
       "      <th>intact_in</th>\n",
       "      <th>intact_out</th>\n",
       "      <th>age</th>\n",
       "      <th>primary_color</th>\n",
       "      <th>secondary_color</th>\n",
       "    </tr>\n",
       "  </thead>\n",
       "  <tbody>\n",
       "    <tr>\n",
       "      <th>0</th>\n",
       "      <td>A047759</td>\n",
       "      <td>Oreo</td>\n",
       "      <td>2014-04-02 15:55:00</td>\n",
       "      <td>Austin (TX)</td>\n",
       "      <td>surrender</td>\n",
       "      <td>normal</td>\n",
       "      <td>10.0</td>\n",
       "      <td>Dachshund</td>\n",
       "      <td>Tricolor</td>\n",
       "      <td>2014-04-07 15:12:00</td>\n",
       "      <td>2004-04-02</td>\n",
       "      <td>transfer</td>\n",
       "      <td>10.0</td>\n",
       "      <td>1</td>\n",
       "      <td>0</td>\n",
       "      <td>0</td>\n",
       "      <td>Senior</td>\n",
       "      <td>Tricolor</td>\n",
       "      <td>Tricolor</td>\n",
       "    </tr>\n",
       "    <tr>\n",
       "      <th>1</th>\n",
       "      <td>A134067</td>\n",
       "      <td>Bandit</td>\n",
       "      <td>2013-11-16 09:02:00</td>\n",
       "      <td>12034 Research Blvd in Austin (TX)</td>\n",
       "      <td>public_assist</td>\n",
       "      <td>injured</td>\n",
       "      <td>16.0</td>\n",
       "      <td>Shetland Sheepdog</td>\n",
       "      <td>Brown/White</td>\n",
       "      <td>2013-11-16 11:54:00</td>\n",
       "      <td>1997-10-16</td>\n",
       "      <td>return_owner</td>\n",
       "      <td>16.0</td>\n",
       "      <td>1</td>\n",
       "      <td>0</td>\n",
       "      <td>0</td>\n",
       "      <td>Senior</td>\n",
       "      <td>Brown</td>\n",
       "      <td>White</td>\n",
       "    </tr>\n",
       "    <tr>\n",
       "      <th>2</th>\n",
       "      <td>A141142</td>\n",
       "      <td>Bettie</td>\n",
       "      <td>2013-11-16 14:46:00</td>\n",
       "      <td>Austin (TX)</td>\n",
       "      <td>stray</td>\n",
       "      <td>aged</td>\n",
       "      <td>15.0</td>\n",
       "      <td>Labrador Retriever/Pit Bull</td>\n",
       "      <td>Black/White</td>\n",
       "      <td>2013-11-17 11:40:00</td>\n",
       "      <td>1998-06-01</td>\n",
       "      <td>return_owner</td>\n",
       "      <td>15.0</td>\n",
       "      <td>0</td>\n",
       "      <td>0</td>\n",
       "      <td>0</td>\n",
       "      <td>Senior</td>\n",
       "      <td>Black</td>\n",
       "      <td>White</td>\n",
       "    </tr>\n",
       "  </tbody>\n",
       "</table>\n",
       "</div>"
      ],
      "text/plain": [
       "        id    name             date_in                            location  \\\n",
       "0  A047759    Oreo 2014-04-02 15:55:00                         Austin (TX)   \n",
       "1  A134067  Bandit 2013-11-16 09:02:00  12034 Research Blvd in Austin (TX)   \n",
       "2  A141142  Bettie 2013-11-16 14:46:00                         Austin (TX)   \n",
       "\n",
       "     intake_type condition  age_in                        breed        color  \\\n",
       "0      surrender    normal    10.0                    Dachshund     Tricolor   \n",
       "1  public_assist   injured    16.0            Shetland Sheepdog  Brown/White   \n",
       "2          stray      aged    15.0  Labrador Retriever/Pit Bull  Black/White   \n",
       "\n",
       "             date_out        dob       outcome  age_out  sex  intact_in  \\\n",
       "0 2014-04-07 15:12:00 2004-04-02      transfer     10.0    1          0   \n",
       "1 2013-11-16 11:54:00 1997-10-16  return_owner     16.0    1          0   \n",
       "2 2013-11-17 11:40:00 1998-06-01  return_owner     15.0    0          0   \n",
       "\n",
       "   intact_out     age primary_color secondary_color  \n",
       "0           0  Senior      Tricolor        Tricolor  \n",
       "1           0  Senior         Brown           White  \n",
       "2           0  Senior         Black           White  "
      ]
     },
     "execution_count": 260,
     "metadata": {},
     "output_type": "execute_result"
    }
   ],
   "source": [
    "austin.head(3)"
   ]
  },
  {
   "cell_type": "markdown",
   "metadata": {},
   "source": [
    "Lowercase color columns"
   ]
  },
  {
   "cell_type": "code",
   "execution_count": 261,
   "metadata": {},
   "outputs": [],
   "source": [
    "austin['primary_color'] = austin['primary_color'].str.lower()"
   ]
  },
  {
   "cell_type": "code",
   "execution_count": 262,
   "metadata": {},
   "outputs": [
    {
     "data": {
      "text/plain": [
       "0"
      ]
     },
     "execution_count": 262,
     "metadata": {},
     "output_type": "execute_result"
    }
   ],
   "source": [
    "austin['primary_color'].isna().sum()"
   ]
  },
  {
   "cell_type": "code",
   "execution_count": 268,
   "metadata": {},
   "outputs": [
    {
     "data": {
      "text/plain": [
       "black        14932\n",
       "brown        10295\n",
       "white         9971\n",
       "tan           6619\n",
       "red           2624\n",
       "blue          2510\n",
       "tricolor      2427\n",
       "chocolate     1307\n",
       "cream          858\n",
       "sable          754\n",
       "Name: primary_color, dtype: int64"
      ]
     },
     "execution_count": 268,
     "metadata": {},
     "output_type": "execute_result"
    }
   ],
   "source": [
    "austin['primary_color'].value_counts()[:10]"
   ]
  },
  {
   "cell_type": "code",
   "execution_count": 264,
   "metadata": {},
   "outputs": [],
   "source": [
    "austin['secondary_color'] = austin['secondary_color'].str.lower()"
   ]
  },
  {
   "cell_type": "code",
   "execution_count": 265,
   "metadata": {},
   "outputs": [
    {
     "data": {
      "text/plain": [
       "0"
      ]
     },
     "execution_count": 265,
     "metadata": {},
     "output_type": "execute_result"
    }
   ],
   "source": [
    "austin['secondary_color'].isna().sum()"
   ]
  },
  {
   "cell_type": "code",
   "execution_count": 267,
   "metadata": {},
   "outputs": [
    {
     "data": {
      "text/plain": [
       "white       19881\n",
       "black        8124\n",
       "tan          7139\n",
       "brown        7037\n",
       "tricolor     2972\n",
       "brindle      2734\n",
       "red          1387\n",
       "cream         854\n",
       "merle         787\n",
       "gray          715\n",
       "Name: secondary_color, dtype: int64"
      ]
     },
     "execution_count": 267,
     "metadata": {},
     "output_type": "execute_result"
    }
   ],
   "source": [
    "austin['secondary_color'].value_counts()[:10]"
   ]
  },
  {
   "cell_type": "markdown",
   "metadata": {},
   "source": [
    "# Export data"
   ]
  },
  {
   "cell_type": "code",
   "execution_count": 269,
   "metadata": {},
   "outputs": [],
   "source": [
    "austin.to_csv('./datasets/working_data/austin.csv', index=False)"
   ]
  }
 ],
 "metadata": {
  "interpreter": {
   "hash": "c90bd41498bd2909e03bc4813e3fc894d3d64fd4c32b3cf57272642761dbfb5b"
  },
  "kernelspec": {
   "display_name": "Python 3.9.7 ('base')",
   "language": "python",
   "name": "python3"
  },
  "language_info": {
   "codemirror_mode": {
    "name": "ipython",
    "version": 3
   },
   "file_extension": ".py",
   "mimetype": "text/x-python",
   "name": "python",
   "nbconvert_exporter": "python",
   "pygments_lexer": "ipython3",
   "version": "3.9.7"
  },
  "orig_nbformat": 4
 },
 "nbformat": 4,
 "nbformat_minor": 2
}
