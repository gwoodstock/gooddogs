{
 "cells": [
  {
   "cell_type": "markdown",
   "metadata": {},
   "source": [
    "# Import Libraries"
   ]
  },
  {
   "cell_type": "code",
   "execution_count": 1,
   "metadata": {},
   "outputs": [],
   "source": [
    "import pandas as pd\n",
    "import numpy as np\n",
    "import re"
   ]
  },
  {
   "cell_type": "markdown",
   "metadata": {},
   "source": [
    "# Import Data"
   ]
  },
  {
   "cell_type": "code",
   "execution_count": 2,
   "metadata": {},
   "outputs": [],
   "source": [
    "df = pd.read_csv('./datasets/working_data/austin.csv')"
   ]
  },
  {
   "cell_type": "markdown",
   "metadata": {},
   "source": [
    "# Inspect Data"
   ]
  },
  {
   "cell_type": "code",
   "execution_count": 3,
   "metadata": {},
   "outputs": [
    {
     "data": {
      "text/html": [
       "<div>\n",
       "<style scoped>\n",
       "    .dataframe tbody tr th:only-of-type {\n",
       "        vertical-align: middle;\n",
       "    }\n",
       "\n",
       "    .dataframe tbody tr th {\n",
       "        vertical-align: top;\n",
       "    }\n",
       "\n",
       "    .dataframe thead th {\n",
       "        text-align: right;\n",
       "    }\n",
       "</style>\n",
       "<table border=\"1\" class=\"dataframe\">\n",
       "  <thead>\n",
       "    <tr style=\"text-align: right;\">\n",
       "      <th></th>\n",
       "      <th>id</th>\n",
       "      <th>name</th>\n",
       "      <th>date_in</th>\n",
       "      <th>location</th>\n",
       "      <th>intake_type</th>\n",
       "      <th>condition</th>\n",
       "      <th>age_in</th>\n",
       "      <th>breed</th>\n",
       "      <th>color</th>\n",
       "      <th>date_out</th>\n",
       "      <th>dob</th>\n",
       "      <th>outcome</th>\n",
       "      <th>age_out</th>\n",
       "      <th>sex</th>\n",
       "      <th>intact_in</th>\n",
       "      <th>intact_out</th>\n",
       "      <th>age</th>\n",
       "      <th>primary_color</th>\n",
       "      <th>secondary_color</th>\n",
       "    </tr>\n",
       "  </thead>\n",
       "  <tbody>\n",
       "    <tr>\n",
       "      <th>0</th>\n",
       "      <td>A047759</td>\n",
       "      <td>Oreo</td>\n",
       "      <td>2014-04-02 15:55:00</td>\n",
       "      <td>Austin (TX)</td>\n",
       "      <td>surrender</td>\n",
       "      <td>normal</td>\n",
       "      <td>10.0</td>\n",
       "      <td>Dachshund</td>\n",
       "      <td>Tricolor</td>\n",
       "      <td>2014-04-07 15:12:00</td>\n",
       "      <td>2004-04-02 00:00:00</td>\n",
       "      <td>transfer</td>\n",
       "      <td>10.0</td>\n",
       "      <td>1</td>\n",
       "      <td>0</td>\n",
       "      <td>0</td>\n",
       "      <td>Senior</td>\n",
       "      <td>tricolor</td>\n",
       "      <td>tricolor</td>\n",
       "    </tr>\n",
       "    <tr>\n",
       "      <th>1</th>\n",
       "      <td>A134067</td>\n",
       "      <td>Bandit</td>\n",
       "      <td>2013-11-16 09:02:00</td>\n",
       "      <td>12034 Research Blvd in Austin (TX)</td>\n",
       "      <td>public_assist</td>\n",
       "      <td>injured</td>\n",
       "      <td>16.0</td>\n",
       "      <td>Shetland Sheepdog</td>\n",
       "      <td>Brown/White</td>\n",
       "      <td>2013-11-16 11:54:00</td>\n",
       "      <td>1997-10-16 00:00:00</td>\n",
       "      <td>return_owner</td>\n",
       "      <td>16.0</td>\n",
       "      <td>1</td>\n",
       "      <td>0</td>\n",
       "      <td>0</td>\n",
       "      <td>Senior</td>\n",
       "      <td>brown</td>\n",
       "      <td>white</td>\n",
       "    </tr>\n",
       "    <tr>\n",
       "      <th>2</th>\n",
       "      <td>A141142</td>\n",
       "      <td>Bettie</td>\n",
       "      <td>2013-11-16 14:46:00</td>\n",
       "      <td>Austin (TX)</td>\n",
       "      <td>stray</td>\n",
       "      <td>aged</td>\n",
       "      <td>15.0</td>\n",
       "      <td>Labrador Retriever/Pit Bull</td>\n",
       "      <td>Black/White</td>\n",
       "      <td>2013-11-17 11:40:00</td>\n",
       "      <td>1998-06-01 00:00:00</td>\n",
       "      <td>return_owner</td>\n",
       "      <td>15.0</td>\n",
       "      <td>0</td>\n",
       "      <td>0</td>\n",
       "      <td>0</td>\n",
       "      <td>Senior</td>\n",
       "      <td>black</td>\n",
       "      <td>white</td>\n",
       "    </tr>\n",
       "  </tbody>\n",
       "</table>\n",
       "</div>"
      ],
      "text/plain": [
       "        id    name              date_in                            location  \\\n",
       "0  A047759    Oreo  2014-04-02 15:55:00                         Austin (TX)   \n",
       "1  A134067  Bandit  2013-11-16 09:02:00  12034 Research Blvd in Austin (TX)   \n",
       "2  A141142  Bettie  2013-11-16 14:46:00                         Austin (TX)   \n",
       "\n",
       "     intake_type condition  age_in                        breed        color  \\\n",
       "0      surrender    normal    10.0                    Dachshund     Tricolor   \n",
       "1  public_assist   injured    16.0            Shetland Sheepdog  Brown/White   \n",
       "2          stray      aged    15.0  Labrador Retriever/Pit Bull  Black/White   \n",
       "\n",
       "              date_out                  dob       outcome  age_out  sex  \\\n",
       "0  2014-04-07 15:12:00  2004-04-02 00:00:00      transfer     10.0    1   \n",
       "1  2013-11-16 11:54:00  1997-10-16 00:00:00  return_owner     16.0    1   \n",
       "2  2013-11-17 11:40:00  1998-06-01 00:00:00  return_owner     15.0    0   \n",
       "\n",
       "   intact_in  intact_out     age primary_color secondary_color  \n",
       "0          0           0  Senior      tricolor        tricolor  \n",
       "1          0           0  Senior         brown           white  \n",
       "2          0           0  Senior         black           white  "
      ]
     },
     "execution_count": 3,
     "metadata": {},
     "output_type": "execute_result"
    }
   ],
   "source": [
    "df.head(3)"
   ]
  },
  {
   "cell_type": "code",
   "execution_count": 4,
   "metadata": {},
   "outputs": [
    {
     "data": {
      "text/plain": [
       "2219"
      ]
     },
     "execution_count": 4,
     "metadata": {},
     "output_type": "execute_result"
    }
   ],
   "source": [
    "df['breed'].nunique()"
   ]
  },
  {
   "cell_type": "markdown",
   "metadata": {},
   "source": [
    "# Clean Breeds"
   ]
  },
  {
   "cell_type": "markdown",
   "metadata": {},
   "source": [
    "2219 unique breeds!! That is far too many. Will need to reduce for modeling."
   ]
  },
  {
   "cell_type": "code",
   "execution_count": 4,
   "metadata": {},
   "outputs": [],
   "source": [
    "# lowercase and strip extra white space for breed names\n",
    "df['breed'] = df['breed'].str.lower().str.strip()\n",
    "\n",
    "# remove 'mix' at the end of the breed name\n",
    "df['breed'] = df['breed'].str.replace(' mix', '')\n",
    "\n",
    "# expand pitbull to pit bull for consistency\n",
    "df['breed'].replace('pitbull', 'pit bull', inplace=True)"
   ]
  },
  {
   "cell_type": "markdown",
   "metadata": {},
   "source": [
    "Identify unique singular breed observations"
   ]
  },
  {
   "cell_type": "code",
   "execution_count": 6,
   "metadata": {},
   "outputs": [
    {
     "data": {
      "text/plain": [
       "202"
      ]
     },
     "execution_count": 6,
     "metadata": {},
     "output_type": "execute_result"
    }
   ],
   "source": [
    "df[df['breed'].str.contains('/') == False]['breed'].nunique()"
   ]
  },
  {
   "cell_type": "markdown",
   "metadata": {},
   "source": [
    "202 unique combo breeds. Will want to separate these into their own column and reduce wherever possible."
   ]
  },
  {
   "cell_type": "code",
   "execution_count": 7,
   "metadata": {},
   "outputs": [
    {
     "data": {
      "text/html": [
       "<div>\n",
       "<style scoped>\n",
       "    .dataframe tbody tr th:only-of-type {\n",
       "        vertical-align: middle;\n",
       "    }\n",
       "\n",
       "    .dataframe tbody tr th {\n",
       "        vertical-align: top;\n",
       "    }\n",
       "\n",
       "    .dataframe thead th {\n",
       "        text-align: right;\n",
       "    }\n",
       "</style>\n",
       "<table border=\"1\" class=\"dataframe\">\n",
       "  <thead>\n",
       "    <tr style=\"text-align: right;\">\n",
       "      <th></th>\n",
       "      <th>id</th>\n",
       "      <th>name</th>\n",
       "      <th>date_in</th>\n",
       "      <th>location</th>\n",
       "      <th>intake_type</th>\n",
       "      <th>condition</th>\n",
       "      <th>age_in</th>\n",
       "      <th>breed</th>\n",
       "      <th>color</th>\n",
       "      <th>date_out</th>\n",
       "      <th>dob</th>\n",
       "      <th>outcome</th>\n",
       "      <th>age_out</th>\n",
       "      <th>sex</th>\n",
       "      <th>intact_in</th>\n",
       "      <th>intact_out</th>\n",
       "      <th>age</th>\n",
       "      <th>primary_color</th>\n",
       "      <th>secondary_color</th>\n",
       "    </tr>\n",
       "  </thead>\n",
       "  <tbody>\n",
       "    <tr>\n",
       "      <th>2</th>\n",
       "      <td>A141142</td>\n",
       "      <td>Bettie</td>\n",
       "      <td>2013-11-16 14:46:00</td>\n",
       "      <td>Austin (TX)</td>\n",
       "      <td>stray</td>\n",
       "      <td>aged</td>\n",
       "      <td>15.0</td>\n",
       "      <td>labrador retriever/pit bull</td>\n",
       "      <td>Black/White</td>\n",
       "      <td>2013-11-17 11:40:00</td>\n",
       "      <td>1998-06-01 00:00:00</td>\n",
       "      <td>return_owner</td>\n",
       "      <td>15.0</td>\n",
       "      <td>0</td>\n",
       "      <td>0</td>\n",
       "      <td>0</td>\n",
       "      <td>Senior</td>\n",
       "      <td>black</td>\n",
       "      <td>white</td>\n",
       "    </tr>\n",
       "    <tr>\n",
       "      <th>10</th>\n",
       "      <td>A212672</td>\n",
       "      <td>Cujo</td>\n",
       "      <td>2013-11-25 17:18:00</td>\n",
       "      <td>14611  Wells Port Dr in Austin (TX)</td>\n",
       "      <td>stray</td>\n",
       "      <td>normal</td>\n",
       "      <td>13.0</td>\n",
       "      <td>german shepherd/labrador retriever</td>\n",
       "      <td>Tan/Black</td>\n",
       "      <td>2013-12-06 14:34:00</td>\n",
       "      <td>2000-03-05 00:00:00</td>\n",
       "      <td>return_owner</td>\n",
       "      <td>13.0</td>\n",
       "      <td>0</td>\n",
       "      <td>1</td>\n",
       "      <td>1</td>\n",
       "      <td>Senior</td>\n",
       "      <td>tan</td>\n",
       "      <td>black</td>\n",
       "    </tr>\n",
       "    <tr>\n",
       "      <th>16</th>\n",
       "      <td>A226069</td>\n",
       "      <td>Cedar</td>\n",
       "      <td>2015-10-06 12:29:00</td>\n",
       "      <td>Wheless Ln And Berkman Dr in Austin (TX)</td>\n",
       "      <td>stray</td>\n",
       "      <td>normal</td>\n",
       "      <td>15.0</td>\n",
       "      <td>labrador retriever/beagle</td>\n",
       "      <td>Sable/White</td>\n",
       "      <td>2015-10-29 15:00:00</td>\n",
       "      <td>2000-06-17 00:00:00</td>\n",
       "      <td>adoption</td>\n",
       "      <td>15.0</td>\n",
       "      <td>1</td>\n",
       "      <td>0</td>\n",
       "      <td>0</td>\n",
       "      <td>Senior</td>\n",
       "      <td>sable</td>\n",
       "      <td>white</td>\n",
       "    </tr>\n",
       "  </tbody>\n",
       "</table>\n",
       "</div>"
      ],
      "text/plain": [
       "         id    name              date_in  \\\n",
       "2   A141142  Bettie  2013-11-16 14:46:00   \n",
       "10  A212672    Cujo  2013-11-25 17:18:00   \n",
       "16  A226069   Cedar  2015-10-06 12:29:00   \n",
       "\n",
       "                                    location intake_type condition  age_in  \\\n",
       "2                                Austin (TX)       stray      aged    15.0   \n",
       "10       14611  Wells Port Dr in Austin (TX)       stray    normal    13.0   \n",
       "16  Wheless Ln And Berkman Dr in Austin (TX)       stray    normal    15.0   \n",
       "\n",
       "                                 breed        color             date_out  \\\n",
       "2          labrador retriever/pit bull  Black/White  2013-11-17 11:40:00   \n",
       "10  german shepherd/labrador retriever    Tan/Black  2013-12-06 14:34:00   \n",
       "16           labrador retriever/beagle  Sable/White  2015-10-29 15:00:00   \n",
       "\n",
       "                    dob       outcome  age_out  sex  intact_in  intact_out  \\\n",
       "2   1998-06-01 00:00:00  return_owner     15.0    0          0           0   \n",
       "10  2000-03-05 00:00:00  return_owner     13.0    0          1           1   \n",
       "16  2000-06-17 00:00:00      adoption     15.0    1          0           0   \n",
       "\n",
       "       age primary_color secondary_color  \n",
       "2   Senior         black           white  \n",
       "10  Senior           tan           black  \n",
       "16  Senior         sable           white  "
      ]
     },
     "execution_count": 7,
     "metadata": {},
     "output_type": "execute_result"
    }
   ],
   "source": [
    "df[df['breed'].str.contains('/')].head(3)"
   ]
  },
  {
   "cell_type": "markdown",
   "metadata": {},
   "source": [
    "Identify unique combo breed observations"
   ]
  },
  {
   "cell_type": "code",
   "execution_count": 8,
   "metadata": {},
   "outputs": [
    {
     "data": {
      "text/plain": [
       "1843"
      ]
     },
     "execution_count": 8,
     "metadata": {},
     "output_type": "execute_result"
    }
   ],
   "source": [
    "df[df['breed'].str.contains('/')]['breed'].nunique()"
   ]
  },
  {
   "cell_type": "markdown",
   "metadata": {},
   "source": [
    "Was able to reduce the total number of unique breeds by about 400. Still a lot of work to be done."
   ]
  },
  {
   "cell_type": "code",
   "execution_count": 8,
   "metadata": {},
   "outputs": [
    {
     "data": {
      "text/plain": [
       "akita/great pyrenees                    1\n",
       "beagle/treeing walker coonhound         1\n",
       "queensland heeler/great dane            1\n",
       "pit bull/american foxhound              1\n",
       "pit bull/dogue de bordeaux              1\n",
       "                                       ..\n",
       "american bulldog/blue lacy              1\n",
       "siberian husky/great pyrenees           1\n",
       "shetland sheepdog/chihuahua longhair    1\n",
       "queensland heeler/basset hound          1\n",
       "border collie/shetland sheepdog         1\n",
       "Name: breed, Length: 997, dtype: int64"
      ]
     },
     "execution_count": 8,
     "metadata": {},
     "output_type": "execute_result"
    }
   ],
   "source": [
    "df['breed'].value_counts(ascending=True)[df['breed'].value_counts(ascending=True) == 1]"
   ]
  },
  {
   "cell_type": "markdown",
   "metadata": {},
   "source": [
    "## Initial breed name cleaning"
   ]
  },
  {
   "cell_type": "markdown",
   "metadata": {},
   "source": [
    "Regex to replace breed names to remain consistent"
   ]
  },
  {
   "cell_type": "code",
   "execution_count": 9,
   "metadata": {},
   "outputs": [],
   "source": [
    "df['breed'] = df['breed'].map(lambda x: re.sub('labrador retr\\Z', 'labrador retriever', x))\n",
    "df['breed'] = df['breed'].map(lambda x: re.sub('germ\\sshepherd', 'german shepherd', x))\n",
    "df['breed'] = df['breed'].map(lambda x: re.sub('^staffordshire$', 'american staffordshire terrier', x))\n",
    "df['breed'] = df['breed'].map(lambda x: re.sub('chihuahua shorthair', 'chihuahua', x))\n",
    "df['breed'] = df['breed'].map(lambda x: re.sub('chihuahua longhair', 'chihuahua', x))\n",
    "df['breed'] = df['breed'].map(lambda x: re.sub('chihuahua sh', 'chihuahua', x))\n",
    "df['breed'] = df['breed'].map(lambda x: re.sub('chihuahua lh', 'chihuahua', x))\n",
    "df['breed'] = df['breed'].map(lambda x: re.sub('airedale terr\\Z', 'airedale terrier', x))\n",
    "df['breed'] = df['breed'].map(lambda x: re.sub('amer ', 'american', x))\n",
    "df['breed'] = df['breed'].map(lambda x: re.sub('alask ', 'alaskan', x))\n",
    "df['breed'] = df['breed'].map(lambda x: re.sub('am pit bull ter', 'pit bull', x))\n",
    "df['breed'] = df['breed'].map(lambda x: re.sub('aust ', 'australian', x))\n",
    "df['breed'] = df['breed'].map(lambda x: re.sub('american bulldog', 'bulldog', x))\n",
    "df['breed'] = df['breed'].map(lambda x: re.sub('english bulldog', 'bulldog', x))\n",
    "df['breed'] = df['breed'].map(lambda x: re.sub('black/tan hound', 'black and tan coonhound', x))\n",
    "df['breed'] = df['breed'].map(lambda x: re.sub('yorkshire terr\\Z', 'yorkshire terrier', x))\n",
    "df['breed'] = df['breed'].map(lambda x: re.sub('australiancattle dog', 'australian cattle dog', x))\n",
    "df['breed'] = df['breed'].map(lambda x: re.sub('anatol shepherd', 'anatolian sheepdog', x))\n",
    "df['breed'] = df['breed'].map(lambda x: re.sub('doberman pinsch\\Z', 'doberman pinscher', x))\n",
    "df['breed'] = df['breed'].map(lambda x: re.sub('poodle min\\Z', 'miniature poodle', x))\n",
    "df['breed'] = df['breed'].map(lambda x: re.sub('alaskan husky', 'siberian husky', x))\n",
    "df['breed'] = df['breed'].map(lambda x: re.sub('rat terrier', 'fox terrier', x))\n",
    "df['breed'] = df['breed'].map(lambda x: re.sub('wire hair fox terrier', 'fox terrier', x))\n",
    "df['breed'] = df['breed'].map(lambda x: re.sub('americanbulldog', 'bulldog', x))\n",
    "df['breed'] = df['breed'].map(lambda x: re.sub('australianshepherd', 'australian shepherd', x))\n",
    "df['breed'] = df['breed'].map(lambda x: re.sub('dachshund wirehair', 'dachshund', x))\n",
    "df['breed'] = df['breed'].map(lambda x: re.sub('american staff\\Z', 'pit bull', x))\n",
    "df['breed'] = df['breed'].map(lambda x: re.sub('american staffordshire terrier', 'pit bull', x))\n",
    "df['breed'] = df['breed'].map(lambda x: re.sub('dachshund longhair', 'dachshund', x))\n",
    "df['breed'] = df['breed'].map(lambda x: re.sub('schnauzer min\\Z', 'miniature schnauzer', x))\n",
    "df['breed'] = df['breed'].map(lambda x: re.sub('flat coat retriever', 'flat-coated retriever', x))\n",
    "df['breed'] = df['breed'].map(lambda x: re.sub('collie smooth', 'collie', x))\n",
    "df['breed'] = df['breed'].map(lambda x: re.sub('chinese sharpei', 'chinese shar pei', x))\n",
    "df['breed'] = df['breed'].map(lambda x: re.sub('queensland heeler', 'australian cattle dog', x))\n",
    "df['breed'] = df['breed'].map(lambda x: re.sub('rhod ridgeback', 'rhodesian ridgeback', x))\n",
    "df['breed'] = df['breed'].map(lambda x: re.sub('german shorthair pointer', 'german shorthaired pointer', x))\n",
    "df['breed'] = df['breed'].map(lambda x: re.sub('manchester terrier', 'standard manchester terrier', x))\n",
    "df['breed'] = df['breed'].map(lambda x: re.sub('collie rough', 'collie', x))\n",
    "df['breed'] = df['breed'].map(lambda x: re.sub('golden retr\\Z', 'golden retriever', x))\n",
    "df['breed'] = df['breed'].map(lambda x: re.sub('soft coated wheaten terrier', 'soft-coated wheaten terrier', x))\n",
    "df['breed'] = df['breed'].map(lambda x: re.sub('west highland\\Z', 'west highland white terrier', x))\n",
    "df['breed'] = df['breed'].map(lambda x: re.sub('australian kelpie', 'australian cattle dog', x))\n",
    "df['breed'] = df['breed'].map(lambda x: re.sub('redbone hound', 'redbone coonhound', x))\n",
    "df['breed'] = df['breed'].map(lambda x: re.sub('eng bulldog', 'bulldog', x))"
   ]
  },
  {
   "cell_type": "markdown",
   "metadata": {},
   "source": [
    "Import breed info for all dogs, convert it to a dictionary for more filtering."
   ]
  },
  {
   "cell_type": "code",
   "execution_count": 10,
   "metadata": {},
   "outputs": [],
   "source": [
    "all_dogs = pd.read_csv('./datasets/working_data/all_breeds_info.csv')\n",
    "pure_dogs = pd.read_csv('./datasets/raw_data/dog_intelligence.csv')\n",
    "master_list = set(list(all_dogs['breed']) + list(pure_dogs['Breed'].str.lower()))\n",
    "all_dogs = all_dogs.to_dict(orient='records')"
   ]
  },
  {
   "cell_type": "code",
   "execution_count": 11,
   "metadata": {},
   "outputs": [
    {
     "data": {
      "text/html": [
       "<div>\n",
       "<style scoped>\n",
       "    .dataframe tbody tr th:only-of-type {\n",
       "        vertical-align: middle;\n",
       "    }\n",
       "\n",
       "    .dataframe tbody tr th {\n",
       "        vertical-align: top;\n",
       "    }\n",
       "\n",
       "    .dataframe thead th {\n",
       "        text-align: right;\n",
       "    }\n",
       "</style>\n",
       "<table border=\"1\" class=\"dataframe\">\n",
       "  <thead>\n",
       "    <tr style=\"text-align: right;\">\n",
       "      <th></th>\n",
       "      <th>id</th>\n",
       "      <th>name</th>\n",
       "      <th>date_in</th>\n",
       "      <th>location</th>\n",
       "      <th>intake_type</th>\n",
       "      <th>condition</th>\n",
       "      <th>age_in</th>\n",
       "      <th>breed</th>\n",
       "      <th>color</th>\n",
       "      <th>date_out</th>\n",
       "      <th>dob</th>\n",
       "      <th>outcome</th>\n",
       "      <th>age_out</th>\n",
       "      <th>sex</th>\n",
       "      <th>intact_in</th>\n",
       "      <th>intact_out</th>\n",
       "      <th>age</th>\n",
       "      <th>primary_color</th>\n",
       "      <th>secondary_color</th>\n",
       "    </tr>\n",
       "  </thead>\n",
       "  <tbody>\n",
       "    <tr>\n",
       "      <th>0</th>\n",
       "      <td>A047759</td>\n",
       "      <td>Oreo</td>\n",
       "      <td>2014-04-02 15:55:00</td>\n",
       "      <td>Austin (TX)</td>\n",
       "      <td>surrender</td>\n",
       "      <td>normal</td>\n",
       "      <td>10.0</td>\n",
       "      <td>dachshund</td>\n",
       "      <td>Tricolor</td>\n",
       "      <td>2014-04-07 15:12:00</td>\n",
       "      <td>2004-04-02 00:00:00</td>\n",
       "      <td>transfer</td>\n",
       "      <td>10.0</td>\n",
       "      <td>1</td>\n",
       "      <td>0</td>\n",
       "      <td>0</td>\n",
       "      <td>Senior</td>\n",
       "      <td>tricolor</td>\n",
       "      <td>tricolor</td>\n",
       "    </tr>\n",
       "    <tr>\n",
       "      <th>1</th>\n",
       "      <td>A134067</td>\n",
       "      <td>Bandit</td>\n",
       "      <td>2013-11-16 09:02:00</td>\n",
       "      <td>12034 Research Blvd in Austin (TX)</td>\n",
       "      <td>public_assist</td>\n",
       "      <td>injured</td>\n",
       "      <td>16.0</td>\n",
       "      <td>shetland sheepdog</td>\n",
       "      <td>Brown/White</td>\n",
       "      <td>2013-11-16 11:54:00</td>\n",
       "      <td>1997-10-16 00:00:00</td>\n",
       "      <td>return_owner</td>\n",
       "      <td>16.0</td>\n",
       "      <td>1</td>\n",
       "      <td>0</td>\n",
       "      <td>0</td>\n",
       "      <td>Senior</td>\n",
       "      <td>brown</td>\n",
       "      <td>white</td>\n",
       "    </tr>\n",
       "    <tr>\n",
       "      <th>2</th>\n",
       "      <td>A141142</td>\n",
       "      <td>Bettie</td>\n",
       "      <td>2013-11-16 14:46:00</td>\n",
       "      <td>Austin (TX)</td>\n",
       "      <td>stray</td>\n",
       "      <td>aged</td>\n",
       "      <td>15.0</td>\n",
       "      <td>labrador retriever/pit bull</td>\n",
       "      <td>Black/White</td>\n",
       "      <td>2013-11-17 11:40:00</td>\n",
       "      <td>1998-06-01 00:00:00</td>\n",
       "      <td>return_owner</td>\n",
       "      <td>15.0</td>\n",
       "      <td>0</td>\n",
       "      <td>0</td>\n",
       "      <td>0</td>\n",
       "      <td>Senior</td>\n",
       "      <td>black</td>\n",
       "      <td>white</td>\n",
       "    </tr>\n",
       "  </tbody>\n",
       "</table>\n",
       "</div>"
      ],
      "text/plain": [
       "        id    name              date_in                            location  \\\n",
       "0  A047759    Oreo  2014-04-02 15:55:00                         Austin (TX)   \n",
       "1  A134067  Bandit  2013-11-16 09:02:00  12034 Research Blvd in Austin (TX)   \n",
       "2  A141142  Bettie  2013-11-16 14:46:00                         Austin (TX)   \n",
       "\n",
       "     intake_type condition  age_in                        breed        color  \\\n",
       "0      surrender    normal    10.0                    dachshund     Tricolor   \n",
       "1  public_assist   injured    16.0            shetland sheepdog  Brown/White   \n",
       "2          stray      aged    15.0  labrador retriever/pit bull  Black/White   \n",
       "\n",
       "              date_out                  dob       outcome  age_out  sex  \\\n",
       "0  2014-04-07 15:12:00  2004-04-02 00:00:00      transfer     10.0    1   \n",
       "1  2013-11-16 11:54:00  1997-10-16 00:00:00  return_owner     16.0    1   \n",
       "2  2013-11-17 11:40:00  1998-06-01 00:00:00  return_owner     15.0    0   \n",
       "\n",
       "   intact_in  intact_out     age primary_color secondary_color  \n",
       "0          0           0  Senior      tricolor        tricolor  \n",
       "1          0           0  Senior         brown           white  \n",
       "2          0           0  Senior         black           white  "
      ]
     },
     "execution_count": 11,
     "metadata": {},
     "output_type": "execute_result"
    }
   ],
   "source": [
    "df.head(3)"
   ]
  },
  {
   "cell_type": "markdown",
   "metadata": {},
   "source": [
    "New breed columns"
   ]
  },
  {
   "cell_type": "code",
   "execution_count": 12,
   "metadata": {},
   "outputs": [],
   "source": [
    "df['breed_1'] = np.nan\n",
    "df['breed_2'] = np.nan\n",
    "df['pure'] = np.nan"
   ]
  },
  {
   "cell_type": "markdown",
   "metadata": {},
   "source": [
    "Collect all the known breeds and compile in a new column."
   ]
  },
  {
   "cell_type": "code",
   "execution_count": 13,
   "metadata": {},
   "outputs": [],
   "source": [
    "def breed_check(x):\n",
    "    if x in master_list:\n",
    "        return x\n",
    "\n",
    "df['breed_1'] = df['breed'].apply(breed_check)\n",
    "df['breed_2'] = df['breed'].apply(breed_check)\n",
    "df['pure'] = np.where(df['breed_1'] == df['breed_2'], 1, np.nan)"
   ]
  },
  {
   "cell_type": "markdown",
   "metadata": {},
   "source": [
    "Observations with breed not missing from breed library."
   ]
  },
  {
   "cell_type": "code",
   "execution_count": 15,
   "metadata": {},
   "outputs": [
    {
     "data": {
      "text/plain": [
       "10805"
      ]
     },
     "execution_count": 15,
     "metadata": {},
     "output_type": "execute_result"
    }
   ],
   "source": [
    "df['breed_1'].isna().sum()"
   ]
  },
  {
   "cell_type": "markdown",
   "metadata": {},
   "source": [
    "Most common observation breed names not in main breed library."
   ]
  },
  {
   "cell_type": "code",
   "execution_count": 18,
   "metadata": {},
   "outputs": [
    {
     "data": {
      "text/plain": [
       "catahoula                                   575\n",
       "chihuahua/dachshund                         334\n",
       "black mouth cur                             305\n",
       "dachshund/chihuahua                         292\n",
       "labrador retriever/pit bull                 289\n",
       "german shepherd/labrador retriever          215\n",
       "labrador retriever/german shepherd          198\n",
       "blue lacy                                   152\n",
       "pit bull/labrador retriever                 136\n",
       "labrador retriever/australian cattle dog    118\n",
       "Name: breed, dtype: int64"
      ]
     },
     "execution_count": 18,
     "metadata": {},
     "output_type": "execute_result"
    }
   ],
   "source": [
    "df[df['breed_1'].isna()]['breed'].value_counts()[:10]"
   ]
  },
  {
   "cell_type": "markdown",
   "metadata": {},
   "source": [
    "Parse breed names if they contain a '/' and attempt to catch all known breed names in our new split breed columns."
   ]
  },
  {
   "cell_type": "code",
   "execution_count": 19,
   "metadata": {},
   "outputs": [],
   "source": [
    "# loops over all breeds in dataframe\n",
    "df_mini = df[(df['breed_1'].isna()) & (df['breed'].str.contains('/'))].copy()\n",
    "for i, dog in df_mini['breed'].items():\n",
    "\n",
    "    # splits the dogs on the '/'\n",
    "    breeds = dog.split('/')\n",
    "\n",
    "    # checks if any items of breeds is in the master list of dog breeds\n",
    "    if not set(breeds).isdisjoint(master_list):\n",
    "        \n",
    "        # checks both position combinations\n",
    "        if (breeds[0] in master_list) and (breeds[1] in master_list):\n",
    "            df.loc[i, 'breed_1'] = breeds[0]\n",
    "            df.loc[i, 'breed_2'] = breeds[1]"
   ]
  },
  {
   "cell_type": "markdown",
   "metadata": {},
   "source": [
    "Missing breeds have been reduced from just under 11,000 down to only 2,500!! Almost there."
   ]
  },
  {
   "cell_type": "code",
   "execution_count": 19,
   "metadata": {},
   "outputs": [
    {
     "data": {
      "text/plain": [
       "2579"
      ]
     },
     "execution_count": 19,
     "metadata": {},
     "output_type": "execute_result"
    }
   ],
   "source": [
    "df['breed_1'].isna().sum()"
   ]
  },
  {
   "cell_type": "markdown",
   "metadata": {},
   "source": [
    "Make classifier for 'mixed' breeds"
   ]
  },
  {
   "cell_type": "code",
   "execution_count": 20,
   "metadata": {},
   "outputs": [],
   "source": [
    "for i, v in df[df['breed'].str.contains('/')]['breed'].items():\n",
    "    v = v.split('/')\n",
    "    if v[0] in master_list and not v[1] in master_list:\n",
    "        df.loc[i, 'breed_1'] = v[0]\n",
    "        df.loc[i, 'breed_2'] = 'mix'\n",
    "    elif not v[0] in master_list and v[1] in master_list:\n",
    "        df.loc[i, 'breed_1'] = v[1]\n",
    "        df.loc[i, 'breed_2'] = 'mix'"
   ]
  },
  {
   "cell_type": "code",
   "execution_count": 21,
   "metadata": {},
   "outputs": [
    {
     "data": {
      "text/plain": [
       "1869"
      ]
     },
     "execution_count": 21,
     "metadata": {},
     "output_type": "execute_result"
    }
   ],
   "source": [
    "df['breed_1'].isna().sum()"
   ]
  },
  {
   "cell_type": "markdown",
   "metadata": {},
   "source": [
    "Reduced missing breeds by 700"
   ]
  },
  {
   "cell_type": "markdown",
   "metadata": {},
   "source": [
    "List remaining missing breeds. Probably best to drop these values."
   ]
  },
  {
   "cell_type": "code",
   "execution_count": 23,
   "metadata": {},
   "outputs": [
    {
     "data": {
      "text/plain": [
       "{'akbash',\n",
       " 'alaskan klee kai',\n",
       " 'bedlington terr',\n",
       " 'black mouth cur',\n",
       " 'black mouth cur/blue lacy',\n",
       " 'black mouth cur/catahoula',\n",
       " 'black mouth cur/staffordshire',\n",
       " 'blue lacy',\n",
       " 'blue lacy/staffordshire',\n",
       " 'bluetick hound',\n",
       " 'bluetick hound/treeing walker coonhound',\n",
       " 'boerboel',\n",
       " 'boykin span',\n",
       " 'bruss griffon',\n",
       " 'bull terrier miniature',\n",
       " 'cane corso',\n",
       " 'carolina dog',\n",
       " 'carolina dog/catahoula',\n",
       " 'catahoula',\n",
       " 'catahoula/black mouth cur',\n",
       " 'catahoula/carolina dog',\n",
       " 'catahoula/english coonhound',\n",
       " 'catahoula/staffordshire',\n",
       " 'cavalier span',\n",
       " 'chesa bay retr',\n",
       " 'coton de tulear',\n",
       " 'dachshund stan',\n",
       " 'dandie dinmont',\n",
       " 'doberman pinsch/black mouth cur',\n",
       " 'doberman pinsch/catahoula',\n",
       " 'dogo argentino',\n",
       " 'dogue de bordeaux',\n",
       " 'dutch sheepdog',\n",
       " 'dutch shepherd',\n",
       " 'eng toy spaniel',\n",
       " 'english coonhound',\n",
       " 'english pointer',\n",
       " 'english shepherd',\n",
       " 'entlebucher',\n",
       " 'feist',\n",
       " 'glen of imaal',\n",
       " 'grand basset griffon vendeen',\n",
       " 'greater swiss mountain dog',\n",
       " 'hovawart',\n",
       " 'jindo',\n",
       " 'landseer',\n",
       " 'leonberger',\n",
       " 'lowchen',\n",
       " 'mexican hairless',\n",
       " 'neapolitan mastiff',\n",
       " 'old bulldog',\n",
       " 'parson russell terrier',\n",
       " 'patterdale terr',\n",
       " 'pbgv',\n",
       " 'picardy sheepdog',\n",
       " 'podengo pequeno',\n",
       " 'port water dog',\n",
       " 'presa canario',\n",
       " 'schnauzer giant',\n",
       " 'sealyham terr',\n",
       " 'spanish mastiff',\n",
       " 'spanish water dog',\n",
       " 'st. bernard rough coat',\n",
       " 'st. bernard smooth coat',\n",
       " 'sussex span',\n",
       " 'swedish vallhund',\n",
       " 'swiss hound',\n",
       " 'treeing cur',\n",
       " 'treeing tennesse brindle',\n",
       " 'treeing walker coonhound',\n",
       " 'unknown',\n",
       " 'wirehaired vizsla',\n",
       " 'wolf hybrid'}"
      ]
     },
     "execution_count": 23,
     "metadata": {},
     "output_type": "execute_result"
    }
   ],
   "source": [
    "set(df[df['breed_1'].isna()]['breed']).difference(master_list)"
   ]
  },
  {
   "cell_type": "markdown",
   "metadata": {},
   "source": [
    "List most common"
   ]
  },
  {
   "cell_type": "code",
   "execution_count": 24,
   "metadata": {},
   "outputs": [
    {
     "data": {
      "text/plain": [
       "catahoula                   575\n",
       "black mouth cur             305\n",
       "blue lacy                   152\n",
       "carolina dog                 80\n",
       "bruss griffon                57\n",
       "pbgv                         55\n",
       "parson russell terrier       45\n",
       "cavalier span                42\n",
       "dutch shepherd               37\n",
       "english coonhound            32\n",
       "treeing walker coonhound     31\n",
       "english pointer              27\n",
       "st. bernard rough coat       27\n",
       "st. bernard smooth coat      26\n",
       "dogo argentino               24\n",
       "bluetick hound               22\n",
       "chesa bay retr               22\n",
       "schnauzer giant              21\n",
       "leonberger                   21\n",
       "old bulldog                  15\n",
       "Name: breed, dtype: int64"
      ]
     },
     "execution_count": 24,
     "metadata": {},
     "output_type": "execute_result"
    }
   ],
   "source": [
    "df[df['breed_1'].isna()]['breed'].value_counts()[:20]"
   ]
  },
  {
   "cell_type": "markdown",
   "metadata": {},
   "source": [
    "# Export Data"
   ]
  },
  {
   "cell_type": "code",
   "execution_count": 25,
   "metadata": {},
   "outputs": [],
   "source": [
    "df.to_csv('./datasets/working_data/austin_clean_breed.csv', index=False)"
   ]
  },
  {
   "cell_type": "markdown",
   "metadata": {},
   "source": [
    "[Run Next](https://github.com/gwoodstock/gooddogs/blob/main/3_data_clean_petfinder.ipynb): PetFinder API data cleaning"
   ]
  }
 ],
 "metadata": {
  "interpreter": {
   "hash": "b3ba2566441a7c06988d0923437866b63cedc61552a5af99d1f4fb67d367b25f"
  },
  "kernelspec": {
   "display_name": "Python 3.9.7 ('base')",
   "language": "python",
   "name": "python3"
  },
  "language_info": {
   "codemirror_mode": {
    "name": "ipython",
    "version": 3
   },
   "file_extension": ".py",
   "mimetype": "text/x-python",
   "name": "python",
   "nbconvert_exporter": "python",
   "pygments_lexer": "ipython3",
   "version": "3.9.7"
  },
  "orig_nbformat": 4
 },
 "nbformat": 4,
 "nbformat_minor": 2
}
