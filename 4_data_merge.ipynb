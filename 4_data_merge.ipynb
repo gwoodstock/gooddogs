{
 "cells": [
  {
   "cell_type": "markdown",
   "metadata": {},
   "source": [
    "# Import Libraries"
   ]
  },
  {
   "cell_type": "code",
   "execution_count": 26,
   "metadata": {},
   "outputs": [],
   "source": [
    "import pandas as pd\n",
    "import numpy as np\n",
    "import missingno as mn"
   ]
  },
  {
   "cell_type": "markdown",
   "metadata": {},
   "source": [
    "# Load Data"
   ]
  },
  {
   "cell_type": "code",
   "execution_count": 27,
   "metadata": {},
   "outputs": [],
   "source": [
    "breed_stats = pd.read_csv('./datasets/working_data/breeds_info.csv')"
   ]
  },
  {
   "cell_type": "code",
   "execution_count": 28,
   "metadata": {},
   "outputs": [
    {
     "data": {
      "text/html": [
       "<div>\n",
       "<style scoped>\n",
       "    .dataframe tbody tr th:only-of-type {\n",
       "        vertical-align: middle;\n",
       "    }\n",
       "\n",
       "    .dataframe tbody tr th {\n",
       "        vertical-align: top;\n",
       "    }\n",
       "\n",
       "    .dataframe thead th {\n",
       "        text-align: right;\n",
       "    }\n",
       "</style>\n",
       "<table border=\"1\" class=\"dataframe\">\n",
       "  <thead>\n",
       "    <tr style=\"text-align: right;\">\n",
       "      <th></th>\n",
       "      <th>breed</th>\n",
       "      <th>classification</th>\n",
       "      <th>obey</th>\n",
       "      <th>reps_lower</th>\n",
       "      <th>reps_upper</th>\n",
       "      <th>height_low_inches</th>\n",
       "      <th>height_high_inches</th>\n",
       "      <th>weight_low_lbs</th>\n",
       "      <th>weight_high_lbs</th>\n",
       "    </tr>\n",
       "  </thead>\n",
       "  <tbody>\n",
       "    <tr>\n",
       "      <th>0</th>\n",
       "      <td>border collie</td>\n",
       "      <td>brightest dogs</td>\n",
       "      <td>0.95</td>\n",
       "      <td>1.0</td>\n",
       "      <td>4.0</td>\n",
       "      <td>19.000000</td>\n",
       "      <td>21.000000</td>\n",
       "      <td>40.000000</td>\n",
       "      <td>40.000000</td>\n",
       "    </tr>\n",
       "    <tr>\n",
       "      <th>1</th>\n",
       "      <td>poodle</td>\n",
       "      <td>brightest dogs</td>\n",
       "      <td>0.95</td>\n",
       "      <td>1.0</td>\n",
       "      <td>4.0</td>\n",
       "      <td>17.941176</td>\n",
       "      <td>20.908497</td>\n",
       "      <td>42.934641</td>\n",
       "      <td>57.522876</td>\n",
       "    </tr>\n",
       "    <tr>\n",
       "      <th>2</th>\n",
       "      <td>german shepherd</td>\n",
       "      <td>brightest dogs</td>\n",
       "      <td>0.95</td>\n",
       "      <td>1.0</td>\n",
       "      <td>4.0</td>\n",
       "      <td>22.000000</td>\n",
       "      <td>26.000000</td>\n",
       "      <td>75.000000</td>\n",
       "      <td>90.000000</td>\n",
       "    </tr>\n",
       "  </tbody>\n",
       "</table>\n",
       "</div>"
      ],
      "text/plain": [
       "             breed  classification  obey  reps_lower  reps_upper  \\\n",
       "0    border collie  brightest dogs  0.95         1.0         4.0   \n",
       "1           poodle  brightest dogs  0.95         1.0         4.0   \n",
       "2  german shepherd  brightest dogs  0.95         1.0         4.0   \n",
       "\n",
       "   height_low_inches  height_high_inches  weight_low_lbs  weight_high_lbs  \n",
       "0          19.000000           21.000000       40.000000        40.000000  \n",
       "1          17.941176           20.908497       42.934641        57.522876  \n",
       "2          22.000000           26.000000       75.000000        90.000000  "
      ]
     },
     "execution_count": 28,
     "metadata": {},
     "output_type": "execute_result"
    }
   ],
   "source": [
    "breed_stats.head(3)"
   ]
  },
  {
   "cell_type": "markdown",
   "metadata": {},
   "source": [
    "List of all breeds"
   ]
  },
  {
   "cell_type": "code",
   "execution_count": 29,
   "metadata": {},
   "outputs": [],
   "source": [
    "breeds = set(breed_stats['breed'])"
   ]
  },
  {
   "cell_type": "code",
   "execution_count": 30,
   "metadata": {},
   "outputs": [],
   "source": [
    "shelter = pd.read_csv('./datasets/working_data/austin_clean_breed.csv')"
   ]
  },
  {
   "cell_type": "code",
   "execution_count": 31,
   "metadata": {},
   "outputs": [
    {
     "data": {
      "text/html": [
       "<div>\n",
       "<style scoped>\n",
       "    .dataframe tbody tr th:only-of-type {\n",
       "        vertical-align: middle;\n",
       "    }\n",
       "\n",
       "    .dataframe tbody tr th {\n",
       "        vertical-align: top;\n",
       "    }\n",
       "\n",
       "    .dataframe thead th {\n",
       "        text-align: right;\n",
       "    }\n",
       "</style>\n",
       "<table border=\"1\" class=\"dataframe\">\n",
       "  <thead>\n",
       "    <tr style=\"text-align: right;\">\n",
       "      <th></th>\n",
       "      <th>id</th>\n",
       "      <th>name</th>\n",
       "      <th>date_in</th>\n",
       "      <th>location</th>\n",
       "      <th>intake_type</th>\n",
       "      <th>condition</th>\n",
       "      <th>age_in</th>\n",
       "      <th>breed</th>\n",
       "      <th>color</th>\n",
       "      <th>date_out</th>\n",
       "      <th>...</th>\n",
       "      <th>age_out</th>\n",
       "      <th>sex</th>\n",
       "      <th>intact_in</th>\n",
       "      <th>intact_out</th>\n",
       "      <th>age</th>\n",
       "      <th>primary_color</th>\n",
       "      <th>secondary_color</th>\n",
       "      <th>breed_1</th>\n",
       "      <th>breed_2</th>\n",
       "      <th>pure</th>\n",
       "    </tr>\n",
       "  </thead>\n",
       "  <tbody>\n",
       "    <tr>\n",
       "      <th>0</th>\n",
       "      <td>A047759</td>\n",
       "      <td>Oreo</td>\n",
       "      <td>2014-04-02 15:55:00</td>\n",
       "      <td>Austin (TX)</td>\n",
       "      <td>surrender</td>\n",
       "      <td>normal</td>\n",
       "      <td>10.0</td>\n",
       "      <td>dachshund</td>\n",
       "      <td>Tricolor</td>\n",
       "      <td>2014-04-07 15:12:00</td>\n",
       "      <td>...</td>\n",
       "      <td>10.0</td>\n",
       "      <td>1</td>\n",
       "      <td>0</td>\n",
       "      <td>0</td>\n",
       "      <td>Senior</td>\n",
       "      <td>tricolor</td>\n",
       "      <td>tricolor</td>\n",
       "      <td>dachshund</td>\n",
       "      <td>dachshund</td>\n",
       "      <td>1.0</td>\n",
       "    </tr>\n",
       "    <tr>\n",
       "      <th>1</th>\n",
       "      <td>A134067</td>\n",
       "      <td>Bandit</td>\n",
       "      <td>2013-11-16 09:02:00</td>\n",
       "      <td>12034 Research Blvd in Austin (TX)</td>\n",
       "      <td>public_assist</td>\n",
       "      <td>injured</td>\n",
       "      <td>16.0</td>\n",
       "      <td>shetland sheepdog</td>\n",
       "      <td>Brown/White</td>\n",
       "      <td>2013-11-16 11:54:00</td>\n",
       "      <td>...</td>\n",
       "      <td>16.0</td>\n",
       "      <td>1</td>\n",
       "      <td>0</td>\n",
       "      <td>0</td>\n",
       "      <td>Senior</td>\n",
       "      <td>brown</td>\n",
       "      <td>white</td>\n",
       "      <td>shetland sheepdog</td>\n",
       "      <td>shetland sheepdog</td>\n",
       "      <td>1.0</td>\n",
       "    </tr>\n",
       "    <tr>\n",
       "      <th>2</th>\n",
       "      <td>A141142</td>\n",
       "      <td>Bettie</td>\n",
       "      <td>2013-11-16 14:46:00</td>\n",
       "      <td>Austin (TX)</td>\n",
       "      <td>stray</td>\n",
       "      <td>aged</td>\n",
       "      <td>15.0</td>\n",
       "      <td>labrador retriever/pit bull</td>\n",
       "      <td>Black/White</td>\n",
       "      <td>2013-11-17 11:40:00</td>\n",
       "      <td>...</td>\n",
       "      <td>15.0</td>\n",
       "      <td>0</td>\n",
       "      <td>0</td>\n",
       "      <td>0</td>\n",
       "      <td>Senior</td>\n",
       "      <td>black</td>\n",
       "      <td>white</td>\n",
       "      <td>labrador retriever</td>\n",
       "      <td>pit bull</td>\n",
       "      <td>NaN</td>\n",
       "    </tr>\n",
       "  </tbody>\n",
       "</table>\n",
       "<p>3 rows × 22 columns</p>\n",
       "</div>"
      ],
      "text/plain": [
       "        id    name              date_in                            location  \\\n",
       "0  A047759    Oreo  2014-04-02 15:55:00                         Austin (TX)   \n",
       "1  A134067  Bandit  2013-11-16 09:02:00  12034 Research Blvd in Austin (TX)   \n",
       "2  A141142  Bettie  2013-11-16 14:46:00                         Austin (TX)   \n",
       "\n",
       "     intake_type condition  age_in                        breed        color  \\\n",
       "0      surrender    normal    10.0                    dachshund     Tricolor   \n",
       "1  public_assist   injured    16.0            shetland sheepdog  Brown/White   \n",
       "2          stray      aged    15.0  labrador retriever/pit bull  Black/White   \n",
       "\n",
       "              date_out  ... age_out sex  intact_in  intact_out     age  \\\n",
       "0  2014-04-07 15:12:00  ...    10.0   1          0           0  Senior   \n",
       "1  2013-11-16 11:54:00  ...    16.0   1          0           0  Senior   \n",
       "2  2013-11-17 11:40:00  ...    15.0   0          0           0  Senior   \n",
       "\n",
       "   primary_color secondary_color             breed_1            breed_2 pure  \n",
       "0       tricolor        tricolor           dachshund          dachshund  1.0  \n",
       "1          brown           white   shetland sheepdog  shetland sheepdog  1.0  \n",
       "2          black           white  labrador retriever           pit bull  NaN  \n",
       "\n",
       "[3 rows x 22 columns]"
      ]
     },
     "execution_count": 31,
     "metadata": {},
     "output_type": "execute_result"
    }
   ],
   "source": [
    "shelter.head(3)"
   ]
  },
  {
   "cell_type": "markdown",
   "metadata": {},
   "source": [
    "Check missing values"
   ]
  },
  {
   "cell_type": "code",
   "execution_count": 32,
   "metadata": {},
   "outputs": [
    {
     "data": {
      "image/png": "[encoded data removed]",
      "text/plain": [
       "<Figure size 1800x720 with 2 Axes>"
      ]
     },
     "metadata": {
      "needs_background": "light"
     },
     "output_type": "display_data"
    }
   ],
   "source": [
    "mn.matrix(shelter);"
   ]
  },
  {
   "cell_type": "markdown",
   "metadata": {},
   "source": [
    "Lots of names missing, but names probably wont affect the model."
   ]
  },
  {
   "cell_type": "code",
   "execution_count": 33,
   "metadata": {},
   "outputs": [],
   "source": [
    "shelter['name'].fillna('unknown', inplace=True)\n",
    "shelter['pure'].fillna(0, inplace=True)"
   ]
  },
  {
   "cell_type": "markdown",
   "metadata": {},
   "source": [
    "Check missing remaining values."
   ]
  },
  {
   "cell_type": "code",
   "execution_count": 34,
   "metadata": {},
   "outputs": [
    {
     "data": {
      "image/png": "[encoded data removed]",
      "text/plain": [
       "<Figure size 1800x720 with 2 Axes>"
      ]
     },
     "metadata": {
      "needs_background": "light"
     },
     "output_type": "display_data"
    }
   ],
   "source": [
    "mn.matrix(shelter);"
   ]
  },
  {
   "cell_type": "markdown",
   "metadata": {},
   "source": [
    "Drop missing values. Not missing too many."
   ]
  },
  {
   "cell_type": "code",
   "execution_count": 38,
   "metadata": {},
   "outputs": [
    {
     "data": {
      "text/plain": [
       "intake_type       1\n",
       "condition        11\n",
       "breed_1        1869\n",
       "breed_2        1869\n",
       "dtype: int64"
      ]
     },
     "execution_count": 38,
     "metadata": {},
     "output_type": "execute_result"
    }
   ],
   "source": [
    "shelter.isna().sum()[shelter.isna().sum() > 0]"
   ]
  },
  {
   "cell_type": "code",
   "execution_count": 36,
   "metadata": {},
   "outputs": [
    {
     "data": {
      "text/plain": [
       "(55386, 22)"
      ]
     },
     "execution_count": 36,
     "metadata": {},
     "output_type": "execute_result"
    }
   ],
   "source": [
    "shelter.shape"
   ]
  },
  {
   "cell_type": "code",
   "execution_count": 39,
   "metadata": {},
   "outputs": [],
   "source": [
    "shelter.dropna(inplace=True)"
   ]
  },
  {
   "cell_type": "markdown",
   "metadata": {},
   "source": [
    "## Merge Breed Stats into Shelter Data"
   ]
  },
  {
   "cell_type": "markdown",
   "metadata": {},
   "source": [
    "Average stats to fill unknown mixed breed characteristics"
   ]
  },
  {
   "cell_type": "code",
   "execution_count": 40,
   "metadata": {},
   "outputs": [
    {
     "data": {
      "text/html": [
       "<div>\n",
       "<style scoped>\n",
       "    .dataframe tbody tr th:only-of-type {\n",
       "        vertical-align: middle;\n",
       "    }\n",
       "\n",
       "    .dataframe tbody tr th {\n",
       "        vertical-align: top;\n",
       "    }\n",
       "\n",
       "    .dataframe thead th {\n",
       "        text-align: right;\n",
       "    }\n",
       "</style>\n",
       "<table border=\"1\" class=\"dataframe\">\n",
       "  <thead>\n",
       "    <tr style=\"text-align: right;\">\n",
       "      <th></th>\n",
       "      <th>obey_b2</th>\n",
       "      <th>reps_lower_b2</th>\n",
       "      <th>reps_upper_b2</th>\n",
       "      <th>height_low_inches_b2</th>\n",
       "      <th>height_high_inches_b2</th>\n",
       "      <th>weight_low_lbs_b2</th>\n",
       "      <th>weight_high_lbs_b2</th>\n",
       "    </tr>\n",
       "  </thead>\n",
       "  <tbody>\n",
       "    <tr>\n",
       "      <th>1</th>\n",
       "      <td>0.569858</td>\n",
       "      <td>25.319149</td>\n",
       "      <td>41.028369</td>\n",
       "      <td>17.941176</td>\n",
       "      <td>20.908497</td>\n",
       "      <td>42.934641</td>\n",
       "      <td>57.522876</td>\n",
       "    </tr>\n",
       "  </tbody>\n",
       "</table>\n",
       "</div>"
      ],
      "text/plain": [
       "0   obey_b2 reps_lower_b2 reps_upper_b2 height_low_inches_b2  \\\n",
       "1  0.569858     25.319149     41.028369            17.941176   \n",
       "\n",
       "0 height_high_inches_b2 weight_low_lbs_b2 weight_high_lbs_b2  \n",
       "1             20.908497         42.934641          57.522876  "
      ]
     },
     "execution_count": 40,
     "metadata": {},
     "output_type": "execute_result"
    }
   ],
   "source": [
    "mix = []                                                                        # storage\n",
    "for c in breed_stats.drop(columns=['breed', 'classification']).columns:\n",
    "    mix.append(breed_stats[c].mean())                                           # get mean stat\n",
    "mix = zip(breed_stats.drop(columns=['breed', 'classification']).columns, mix)   # convert to df\n",
    "mix = pd.DataFrame(mix).T\n",
    "mix.columns = mix.iloc[0]                                                       # rename cols\n",
    "mix = mix[1:].copy()                                                            # drop row containing column names\n",
    "mix = mix.add_suffix('_b2')                                                     # add col name suffix\n",
    "mix                                                                             # inspect aggregate mix stats"
   ]
  },
  {
   "cell_type": "code",
   "execution_count": 41,
   "metadata": {},
   "outputs": [],
   "source": [
    "def gen_breed_stats(x):\n",
    "    \n",
    "    d1 = breed_stats.drop(columns='classification').set_index('breed').loc[x['breed_1'],:]\n",
    "    d1['breed_class'] = x['breed_1']\n",
    "    \n",
    "    if x['breed_2'] != 'mix':\n",
    "        d2 = breed_stats.drop(columns='classification').set_index('breed').loc[x['breed_2'],:]\n",
    "        d2['breed_class'] = x['breed_2']\n",
    "    else:\n",
    "        d2 = mix.squeeze()\n",
    "\n",
    "    d1 = d1.add_suffix('_b1')   # data frame of breed_1\n",
    "    d2 = d2.add_suffix('_b2')   # data frame of breed_2\n",
    "\n",
    "    out = pd.concat([d1, d2])   # this line not working\n",
    "\n",
    "    return out"
   ]
  },
  {
   "cell_type": "code",
   "execution_count": 42,
   "metadata": {},
   "outputs": [],
   "source": [
    "# Lots of for loops... Can take a little while to run.\n",
    "compile = shelter.apply(gen_breed_stats, axis=1)"
   ]
  },
  {
   "cell_type": "code",
   "execution_count": 43,
   "metadata": {},
   "outputs": [
    {
     "data": {
      "text/html": [
       "<div>\n",
       "<style scoped>\n",
       "    .dataframe tbody tr th:only-of-type {\n",
       "        vertical-align: middle;\n",
       "    }\n",
       "\n",
       "    .dataframe tbody tr th {\n",
       "        vertical-align: top;\n",
       "    }\n",
       "\n",
       "    .dataframe thead th {\n",
       "        text-align: right;\n",
       "    }\n",
       "</style>\n",
       "<table border=\"1\" class=\"dataframe\">\n",
       "  <thead>\n",
       "    <tr style=\"text-align: right;\">\n",
       "      <th></th>\n",
       "      <th>breed_class_b1</th>\n",
       "      <th>breed_class_b2</th>\n",
       "      <th>height_high_inches_b1</th>\n",
       "      <th>height_high_inches_b2</th>\n",
       "      <th>height_high_inches_b2_b2</th>\n",
       "      <th>height_low_inches_b1</th>\n",
       "      <th>height_low_inches_b2</th>\n",
       "      <th>height_low_inches_b2_b2</th>\n",
       "      <th>obey_b1</th>\n",
       "      <th>obey_b2</th>\n",
       "      <th>...</th>\n",
       "      <th>reps_lower_b2_b2</th>\n",
       "      <th>reps_upper_b1</th>\n",
       "      <th>reps_upper_b2</th>\n",
       "      <th>reps_upper_b2_b2</th>\n",
       "      <th>weight_high_lbs_b1</th>\n",
       "      <th>weight_high_lbs_b2</th>\n",
       "      <th>weight_high_lbs_b2_b2</th>\n",
       "      <th>weight_low_lbs_b1</th>\n",
       "      <th>weight_low_lbs_b2</th>\n",
       "      <th>weight_low_lbs_b2_b2</th>\n",
       "    </tr>\n",
       "  </thead>\n",
       "  <tbody>\n",
       "    <tr>\n",
       "      <th>0</th>\n",
       "      <td>dachshund</td>\n",
       "      <td>dachshund</td>\n",
       "      <td>10.000000</td>\n",
       "      <td>10.000000</td>\n",
       "      <td>NaN</td>\n",
       "      <td>7.000000</td>\n",
       "      <td>7.000000</td>\n",
       "      <td>NaN</td>\n",
       "      <td>0.50</td>\n",
       "      <td>0.50</td>\n",
       "      <td>...</td>\n",
       "      <td>NaN</td>\n",
       "      <td>40.0</td>\n",
       "      <td>40.0</td>\n",
       "      <td>NaN</td>\n",
       "      <td>32.000000</td>\n",
       "      <td>32.000000</td>\n",
       "      <td>NaN</td>\n",
       "      <td>16.000000</td>\n",
       "      <td>16.000000</td>\n",
       "      <td>NaN</td>\n",
       "    </tr>\n",
       "    <tr>\n",
       "      <th>1</th>\n",
       "      <td>shetland sheepdog</td>\n",
       "      <td>shetland sheepdog</td>\n",
       "      <td>20.908497</td>\n",
       "      <td>20.908497</td>\n",
       "      <td>NaN</td>\n",
       "      <td>17.941176</td>\n",
       "      <td>17.941176</td>\n",
       "      <td>NaN</td>\n",
       "      <td>0.95</td>\n",
       "      <td>0.95</td>\n",
       "      <td>...</td>\n",
       "      <td>NaN</td>\n",
       "      <td>4.0</td>\n",
       "      <td>4.0</td>\n",
       "      <td>NaN</td>\n",
       "      <td>57.522876</td>\n",
       "      <td>57.522876</td>\n",
       "      <td>NaN</td>\n",
       "      <td>42.934641</td>\n",
       "      <td>42.934641</td>\n",
       "      <td>NaN</td>\n",
       "    </tr>\n",
       "    <tr>\n",
       "      <th>2</th>\n",
       "      <td>labrador retriever</td>\n",
       "      <td>pit bull</td>\n",
       "      <td>24.000000</td>\n",
       "      <td>19.000000</td>\n",
       "      <td>NaN</td>\n",
       "      <td>21.000000</td>\n",
       "      <td>17.000000</td>\n",
       "      <td>NaN</td>\n",
       "      <td>0.95</td>\n",
       "      <td>0.70</td>\n",
       "      <td>...</td>\n",
       "      <td>NaN</td>\n",
       "      <td>4.0</td>\n",
       "      <td>25.0</td>\n",
       "      <td>NaN</td>\n",
       "      <td>80.000000</td>\n",
       "      <td>50.000000</td>\n",
       "      <td>NaN</td>\n",
       "      <td>55.000000</td>\n",
       "      <td>40.000000</td>\n",
       "      <td>NaN</td>\n",
       "    </tr>\n",
       "  </tbody>\n",
       "</table>\n",
       "<p>3 rows × 23 columns</p>\n",
       "</div>"
      ],
      "text/plain": [
       "       breed_class_b1     breed_class_b2  height_high_inches_b1  \\\n",
       "0           dachshund          dachshund              10.000000   \n",
       "1   shetland sheepdog  shetland sheepdog              20.908497   \n",
       "2  labrador retriever           pit bull              24.000000   \n",
       "\n",
       "   height_high_inches_b2  height_high_inches_b2_b2  height_low_inches_b1  \\\n",
       "0              10.000000                       NaN              7.000000   \n",
       "1              20.908497                       NaN             17.941176   \n",
       "2              19.000000                       NaN             21.000000   \n",
       "\n",
       "   height_low_inches_b2  height_low_inches_b2_b2  obey_b1  obey_b2  ...  \\\n",
       "0              7.000000                      NaN     0.50     0.50  ...   \n",
       "1             17.941176                      NaN     0.95     0.95  ...   \n",
       "2             17.000000                      NaN     0.95     0.70  ...   \n",
       "\n",
       "   reps_lower_b2_b2  reps_upper_b1  reps_upper_b2  reps_upper_b2_b2  \\\n",
       "0               NaN           40.0           40.0               NaN   \n",
       "1               NaN            4.0            4.0               NaN   \n",
       "2               NaN            4.0           25.0               NaN   \n",
       "\n",
       "   weight_high_lbs_b1  weight_high_lbs_b2  weight_high_lbs_b2_b2  \\\n",
       "0           32.000000           32.000000                    NaN   \n",
       "1           57.522876           57.522876                    NaN   \n",
       "2           80.000000           50.000000                    NaN   \n",
       "\n",
       "   weight_low_lbs_b1  weight_low_lbs_b2  weight_low_lbs_b2_b2  \n",
       "0          16.000000          16.000000                   NaN  \n",
       "1          42.934641          42.934641                   NaN  \n",
       "2          55.000000          40.000000                   NaN  \n",
       "\n",
       "[3 rows x 23 columns]"
      ]
     },
     "execution_count": 43,
     "metadata": {},
     "output_type": "execute_result"
    }
   ],
   "source": [
    "compile.head(3)"
   ]
  },
  {
   "cell_type": "markdown",
   "metadata": {},
   "source": [
    "Average the stats of the two breeds. Will return original value for purebreed and an average value of the primary and secondary breed for mixed dogs."
   ]
  },
  {
   "cell_type": "code",
   "execution_count": 45,
   "metadata": {},
   "outputs": [],
   "source": [
    "# take average of breed 1 & breed 2 stats\n",
    "def avg_breed_stats(df):\n",
    "    # create empty dataframe\n",
    "    new_df = pd.DataFrame()\n",
    "\n",
    "    new_df['obey'] = (df['obey_b1'] + df['obey_b2']) / 2\n",
    "    new_df['reps_lower'] = (df['reps_lower_b1'] + df['reps_lower_b2']) / 2\n",
    "    new_df['reps_upper'] = (df['reps_upper_b1'] + df['reps_upper_b2']) / 2\n",
    "    new_df['height_low_inches'] = (df['height_low_inches_b1'] + df['height_low_inches_b2']) / 2\n",
    "    new_df['height_high_inches'] = (df['height_high_inches_b1'] + df['height_high_inches_b2']) / 2\n",
    "    new_df['weight_low_lbs'] = (df['weight_low_lbs_b1'] + df['weight_low_lbs_b2']) / 2\n",
    "    new_df['weight_high_lbs'] = (df['weight_high_lbs_b1'] + df['weight_high_lbs_b2']) / 2\n",
    "\n",
    "    # returns averaged stats between the two breeds\n",
    "    return new_df\n",
    "    \n",
    "all_stats = avg_breed_stats(compile)"
   ]
  },
  {
   "cell_type": "code",
   "execution_count": 46,
   "metadata": {},
   "outputs": [
    {
     "data": {
      "text/html": [
       "<div>\n",
       "<style scoped>\n",
       "    .dataframe tbody tr th:only-of-type {\n",
       "        vertical-align: middle;\n",
       "    }\n",
       "\n",
       "    .dataframe tbody tr th {\n",
       "        vertical-align: top;\n",
       "    }\n",
       "\n",
       "    .dataframe thead th {\n",
       "        text-align: right;\n",
       "    }\n",
       "</style>\n",
       "<table border=\"1\" class=\"dataframe\">\n",
       "  <thead>\n",
       "    <tr style=\"text-align: right;\">\n",
       "      <th></th>\n",
       "      <th>obey</th>\n",
       "      <th>reps_lower</th>\n",
       "      <th>reps_upper</th>\n",
       "      <th>height_low_inches</th>\n",
       "      <th>height_high_inches</th>\n",
       "      <th>weight_low_lbs</th>\n",
       "      <th>weight_high_lbs</th>\n",
       "    </tr>\n",
       "  </thead>\n",
       "  <tbody>\n",
       "    <tr>\n",
       "      <th>0</th>\n",
       "      <td>0.500</td>\n",
       "      <td>26.0</td>\n",
       "      <td>40.0</td>\n",
       "      <td>7.000000</td>\n",
       "      <td>10.000000</td>\n",
       "      <td>16.000000</td>\n",
       "      <td>32.000000</td>\n",
       "    </tr>\n",
       "    <tr>\n",
       "      <th>1</th>\n",
       "      <td>0.950</td>\n",
       "      <td>1.0</td>\n",
       "      <td>4.0</td>\n",
       "      <td>17.941176</td>\n",
       "      <td>20.908497</td>\n",
       "      <td>42.934641</td>\n",
       "      <td>57.522876</td>\n",
       "    </tr>\n",
       "    <tr>\n",
       "      <th>2</th>\n",
       "      <td>0.825</td>\n",
       "      <td>8.5</td>\n",
       "      <td>14.5</td>\n",
       "      <td>19.000000</td>\n",
       "      <td>21.500000</td>\n",
       "      <td>47.500000</td>\n",
       "      <td>65.000000</td>\n",
       "    </tr>\n",
       "  </tbody>\n",
       "</table>\n",
       "</div>"
      ],
      "text/plain": [
       "    obey  reps_lower  reps_upper  height_low_inches  height_high_inches  \\\n",
       "0  0.500        26.0        40.0           7.000000           10.000000   \n",
       "1  0.950         1.0         4.0          17.941176           20.908497   \n",
       "2  0.825         8.5        14.5          19.000000           21.500000   \n",
       "\n",
       "   weight_low_lbs  weight_high_lbs  \n",
       "0       16.000000        32.000000  \n",
       "1       42.934641        57.522876  \n",
       "2       47.500000        65.000000  "
      ]
     },
     "execution_count": 46,
     "metadata": {},
     "output_type": "execute_result"
    }
   ],
   "source": [
    "all_stats.head(3)"
   ]
  },
  {
   "cell_type": "markdown",
   "metadata": {},
   "source": [
    "710 observations with missing breed stats"
   ]
  },
  {
   "cell_type": "code",
   "execution_count": 48,
   "metadata": {},
   "outputs": [
    {
     "data": {
      "text/plain": [
       "obey                  710\n",
       "reps_lower            710\n",
       "reps_upper            710\n",
       "height_low_inches     710\n",
       "height_high_inches    710\n",
       "weight_low_lbs        710\n",
       "weight_high_lbs       710\n",
       "dtype: int64"
      ]
     },
     "execution_count": 48,
     "metadata": {},
     "output_type": "execute_result"
    }
   ],
   "source": [
    "all_stats.isna().sum()"
   ]
  },
  {
   "cell_type": "markdown",
   "metadata": {},
   "source": [
    "Merge shelter dataframe with their respective intelligence statistics."
   ]
  },
  {
   "cell_type": "code",
   "execution_count": 49,
   "metadata": {},
   "outputs": [
    {
     "data": {
      "text/html": [
       "<div>\n",
       "<style scoped>\n",
       "    .dataframe tbody tr th:only-of-type {\n",
       "        vertical-align: middle;\n",
       "    }\n",
       "\n",
       "    .dataframe tbody tr th {\n",
       "        vertical-align: top;\n",
       "    }\n",
       "\n",
       "    .dataframe thead th {\n",
       "        text-align: right;\n",
       "    }\n",
       "</style>\n",
       "<table border=\"1\" class=\"dataframe\">\n",
       "  <thead>\n",
       "    <tr style=\"text-align: right;\">\n",
       "      <th></th>\n",
       "      <th>id</th>\n",
       "      <th>name</th>\n",
       "      <th>date_in</th>\n",
       "      <th>location</th>\n",
       "      <th>intake_type</th>\n",
       "      <th>condition</th>\n",
       "      <th>age_in</th>\n",
       "      <th>breed</th>\n",
       "      <th>color</th>\n",
       "      <th>date_out</th>\n",
       "      <th>...</th>\n",
       "      <th>breed_1</th>\n",
       "      <th>breed_2</th>\n",
       "      <th>pure</th>\n",
       "      <th>obey</th>\n",
       "      <th>reps_lower</th>\n",
       "      <th>reps_upper</th>\n",
       "      <th>height_low_inches</th>\n",
       "      <th>height_high_inches</th>\n",
       "      <th>weight_low_lbs</th>\n",
       "      <th>weight_high_lbs</th>\n",
       "    </tr>\n",
       "  </thead>\n",
       "  <tbody>\n",
       "    <tr>\n",
       "      <th>0</th>\n",
       "      <td>A047759</td>\n",
       "      <td>Oreo</td>\n",
       "      <td>2014-04-02 15:55:00</td>\n",
       "      <td>Austin (TX)</td>\n",
       "      <td>surrender</td>\n",
       "      <td>normal</td>\n",
       "      <td>10.0</td>\n",
       "      <td>dachshund</td>\n",
       "      <td>Tricolor</td>\n",
       "      <td>2014-04-07 15:12:00</td>\n",
       "      <td>...</td>\n",
       "      <td>dachshund</td>\n",
       "      <td>dachshund</td>\n",
       "      <td>1.0</td>\n",
       "      <td>0.50</td>\n",
       "      <td>26.0</td>\n",
       "      <td>40.0</td>\n",
       "      <td>7.000000</td>\n",
       "      <td>10.000000</td>\n",
       "      <td>16.000000</td>\n",
       "      <td>32.000000</td>\n",
       "    </tr>\n",
       "    <tr>\n",
       "      <th>1</th>\n",
       "      <td>A134067</td>\n",
       "      <td>Bandit</td>\n",
       "      <td>2013-11-16 09:02:00</td>\n",
       "      <td>12034 Research Blvd in Austin (TX)</td>\n",
       "      <td>public_assist</td>\n",
       "      <td>injured</td>\n",
       "      <td>16.0</td>\n",
       "      <td>shetland sheepdog</td>\n",
       "      <td>Brown/White</td>\n",
       "      <td>2013-11-16 11:54:00</td>\n",
       "      <td>...</td>\n",
       "      <td>shetland sheepdog</td>\n",
       "      <td>shetland sheepdog</td>\n",
       "      <td>1.0</td>\n",
       "      <td>0.95</td>\n",
       "      <td>1.0</td>\n",
       "      <td>4.0</td>\n",
       "      <td>17.941176</td>\n",
       "      <td>20.908497</td>\n",
       "      <td>42.934641</td>\n",
       "      <td>57.522876</td>\n",
       "    </tr>\n",
       "  </tbody>\n",
       "</table>\n",
       "<p>2 rows × 29 columns</p>\n",
       "</div>"
      ],
      "text/plain": [
       "        id    name              date_in                            location  \\\n",
       "0  A047759    Oreo  2014-04-02 15:55:00                         Austin (TX)   \n",
       "1  A134067  Bandit  2013-11-16 09:02:00  12034 Research Blvd in Austin (TX)   \n",
       "\n",
       "     intake_type condition  age_in              breed        color  \\\n",
       "0      surrender    normal    10.0          dachshund     Tricolor   \n",
       "1  public_assist   injured    16.0  shetland sheepdog  Brown/White   \n",
       "\n",
       "              date_out  ...            breed_1            breed_2  pure  obey  \\\n",
       "0  2014-04-07 15:12:00  ...          dachshund          dachshund   1.0  0.50   \n",
       "1  2013-11-16 11:54:00  ...  shetland sheepdog  shetland sheepdog   1.0  0.95   \n",
       "\n",
       "   reps_lower  reps_upper height_low_inches height_high_inches weight_low_lbs  \\\n",
       "0        26.0        40.0          7.000000          10.000000      16.000000   \n",
       "1         1.0         4.0         17.941176          20.908497      42.934641   \n",
       "\n",
       "  weight_high_lbs  \n",
       "0       32.000000  \n",
       "1       57.522876  \n",
       "\n",
       "[2 rows x 29 columns]"
      ]
     },
     "execution_count": 49,
     "metadata": {},
     "output_type": "execute_result"
    }
   ],
   "source": [
    "shelter_with_stats = pd.concat([shelter, all_stats], axis=1)\n",
    "shelter_with_stats.head(2)"
   ]
  },
  {
   "cell_type": "markdown",
   "metadata": {},
   "source": [
    "Convert dates to datetime"
   ]
  },
  {
   "cell_type": "code",
   "execution_count": 51,
   "metadata": {},
   "outputs": [],
   "source": [
    "shelter_with_stats['date_in'] = pd.to_datetime(shelter_with_stats['date_in'])\n",
    "shelter_with_stats['date_out'] = pd.to_datetime(shelter_with_stats['date_out'])"
   ]
  },
  {
   "cell_type": "markdown",
   "metadata": {},
   "source": [
    "Calculate time spent in shelter."
   ]
  },
  {
   "cell_type": "code",
   "execution_count": 52,
   "metadata": {},
   "outputs": [],
   "source": [
    "shelter_with_stats['time_in_shelter'] = shelter_with_stats['date_out'] - shelter_with_stats['date_in']"
   ]
  },
  {
   "cell_type": "markdown",
   "metadata": {},
   "source": [
    "Drop observations missing stats. Missing a very small percentage of total observations."
   ]
  },
  {
   "cell_type": "code",
   "execution_count": 55,
   "metadata": {},
   "outputs": [
    {
     "data": {
      "text/plain": [
       "(53507, 30)"
      ]
     },
     "execution_count": 55,
     "metadata": {},
     "output_type": "execute_result"
    }
   ],
   "source": [
    "shelter_with_stats.shape"
   ]
  },
  {
   "cell_type": "code",
   "execution_count": 60,
   "metadata": {},
   "outputs": [
    {
     "data": {
      "text/plain": [
       "obey                  710\n",
       "reps_lower            710\n",
       "reps_upper            710\n",
       "height_low_inches     710\n",
       "height_high_inches    710\n",
       "weight_low_lbs        710\n",
       "weight_high_lbs       710\n",
       "dtype: int64"
      ]
     },
     "execution_count": 60,
     "metadata": {},
     "output_type": "execute_result"
    }
   ],
   "source": [
    "shelter_with_stats.isna().sum()[shelter_with_stats.isna().sum() > 0]"
   ]
  },
  {
   "cell_type": "code",
   "execution_count": 61,
   "metadata": {},
   "outputs": [],
   "source": [
    "shelter_with_stats.dropna(inplace=True)"
   ]
  },
  {
   "cell_type": "code",
   "execution_count": 62,
   "metadata": {},
   "outputs": [
    {
     "data": {
      "text/plain": [
       "<AxesSubplot:>"
      ]
     },
     "execution_count": 62,
     "metadata": {},
     "output_type": "execute_result"
    },
    {
     "data": {
      "image/png": "[encoded data removed]",
      "text/plain": [
       "<Figure size 1800x720 with 2 Axes>"
      ]
     },
     "metadata": {
      "needs_background": "light"
     },
     "output_type": "display_data"
    }
   ],
   "source": [
    "mn.matrix(shelter_with_stats);"
   ]
  },
  {
   "cell_type": "markdown",
   "metadata": {},
   "source": [
    "# Export Data"
   ]
  },
  {
   "cell_type": "code",
   "execution_count": 63,
   "metadata": {},
   "outputs": [],
   "source": [
    "shelter_with_stats.to_csv('./datasets/working_data/austin_clean_breed_stats.csv', index=False)"
   ]
  },
  {
   "cell_type": "markdown",
   "metadata": {},
   "source": [
    "[Run Next](https://github.com/gwoodstock/gooddogs/blob/main/5_eda_1.ipynb): Exploratory Data Analysis."
   ]
  }
 ],
 "metadata": {
  "interpreter": {
   "hash": "6aaf12f00e2accd7ab3a69f0361120d5b81b11b109d190d2913220c8ee37ccf8"
  },
  "kernelspec": {
   "display_name": "Python 3.9.7 ('base')",
   "language": "python",
   "name": "python3"
  },
  "language_info": {
   "codemirror_mode": {
    "name": "ipython",
    "version": 3
   },
   "file_extension": ".py",
   "mimetype": "text/x-python",
   "name": "python",
   "nbconvert_exporter": "python",
   "pygments_lexer": "ipython3",
   "version": "3.9.7"
  },
  "orig_nbformat": 4
 },
 "nbformat": 4,
 "nbformat_minor": 2
}
