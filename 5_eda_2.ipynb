{
 "cells": [
  {
   "cell_type": "markdown",
   "metadata": {},
   "source": [
    "# Import Libraries"
   ]
  },
  {
   "cell_type": "code",
   "execution_count": 1,
   "metadata": {},
   "outputs": [],
   "source": [
    "# Import our libraries.\n",
    "import pandas as pd\n",
    "import numpy as np\n",
    "import matplotlib.pyplot as plt\n",
    "import seaborn as sns\n",
    "\n",
    "# Import from sklearn.\n",
    "from sklearn.model_selection import train_test_split\n",
    "from sklearn.linear_model import LinearRegression\n",
    "from sklearn.preprocessing import PolynomialFeatures, StandardScaler\n",
    "\n",
    "# PCA\n",
    "from sklearn.decomposition import PCA\n"
   ]
  },
  {
   "cell_type": "markdown",
   "metadata": {},
   "source": [
    "# Helper Functions"
   ]
  },
  {
   "cell_type": "code",
   "execution_count": 2,
   "metadata": {},
   "outputs": [],
   "source": [
    "def quick_look(x):\n",
    "    print(data[x].value_counts())\n",
    "    print(f'\\nMissing Values: {data[x].isna().sum()}')"
   ]
  },
  {
   "cell_type": "markdown",
   "metadata": {},
   "source": [
    "# Import Data"
   ]
  },
  {
   "cell_type": "code",
   "execution_count": 3,
   "metadata": {},
   "outputs": [],
   "source": [
    "data = pd.read_csv('./datasets/working_data/austin_clean_breed_stats.csv')"
   ]
  },
  {
   "cell_type": "code",
   "execution_count": 4,
   "metadata": {},
   "outputs": [
    {
     "data": {
      "text/html": [
       "<div>\n",
       "<style scoped>\n",
       "    .dataframe tbody tr th:only-of-type {\n",
       "        vertical-align: middle;\n",
       "    }\n",
       "\n",
       "    .dataframe tbody tr th {\n",
       "        vertical-align: top;\n",
       "    }\n",
       "\n",
       "    .dataframe thead th {\n",
       "        text-align: right;\n",
       "    }\n",
       "</style>\n",
       "<table border=\"1\" class=\"dataframe\">\n",
       "  <thead>\n",
       "    <tr style=\"text-align: right;\">\n",
       "      <th></th>\n",
       "      <th>id</th>\n",
       "      <th>name</th>\n",
       "      <th>date_in</th>\n",
       "      <th>location</th>\n",
       "      <th>intake_type</th>\n",
       "      <th>condition</th>\n",
       "      <th>age_in</th>\n",
       "      <th>breed</th>\n",
       "      <th>color</th>\n",
       "      <th>date_out</th>\n",
       "      <th>...</th>\n",
       "      <th>breed_2</th>\n",
       "      <th>pure</th>\n",
       "      <th>obey</th>\n",
       "      <th>reps_lower</th>\n",
       "      <th>reps_upper</th>\n",
       "      <th>height_low_inches</th>\n",
       "      <th>height_high_inches</th>\n",
       "      <th>weight_low_lbs</th>\n",
       "      <th>weight_high_lbs</th>\n",
       "      <th>time_in_shelter</th>\n",
       "    </tr>\n",
       "  </thead>\n",
       "  <tbody>\n",
       "    <tr>\n",
       "      <th>0</th>\n",
       "      <td>A047759</td>\n",
       "      <td>Oreo</td>\n",
       "      <td>2014-04-02 15:55:00</td>\n",
       "      <td>Austin (TX)</td>\n",
       "      <td>surrender</td>\n",
       "      <td>normal</td>\n",
       "      <td>10.0</td>\n",
       "      <td>dachshund</td>\n",
       "      <td>Tricolor</td>\n",
       "      <td>2014-04-07 15:12:00</td>\n",
       "      <td>...</td>\n",
       "      <td>dachshund</td>\n",
       "      <td>1.0</td>\n",
       "      <td>0.500</td>\n",
       "      <td>26.0</td>\n",
       "      <td>40.0</td>\n",
       "      <td>7.000000</td>\n",
       "      <td>10.000000</td>\n",
       "      <td>16.000000</td>\n",
       "      <td>32.000000</td>\n",
       "      <td>4 days 23:17:00</td>\n",
       "    </tr>\n",
       "    <tr>\n",
       "      <th>1</th>\n",
       "      <td>A134067</td>\n",
       "      <td>Bandit</td>\n",
       "      <td>2013-11-16 09:02:00</td>\n",
       "      <td>12034 Research Blvd in Austin (TX)</td>\n",
       "      <td>public_assist</td>\n",
       "      <td>injured</td>\n",
       "      <td>16.0</td>\n",
       "      <td>shetland sheepdog</td>\n",
       "      <td>Brown/White</td>\n",
       "      <td>2013-11-16 11:54:00</td>\n",
       "      <td>...</td>\n",
       "      <td>shetland sheepdog</td>\n",
       "      <td>1.0</td>\n",
       "      <td>0.950</td>\n",
       "      <td>1.0</td>\n",
       "      <td>4.0</td>\n",
       "      <td>17.941176</td>\n",
       "      <td>20.908497</td>\n",
       "      <td>42.934641</td>\n",
       "      <td>57.522876</td>\n",
       "      <td>0 days 02:52:00</td>\n",
       "    </tr>\n",
       "    <tr>\n",
       "      <th>2</th>\n",
       "      <td>A141142</td>\n",
       "      <td>Bettie</td>\n",
       "      <td>2013-11-16 14:46:00</td>\n",
       "      <td>Austin (TX)</td>\n",
       "      <td>stray</td>\n",
       "      <td>aged</td>\n",
       "      <td>15.0</td>\n",
       "      <td>labrador retriever/pit bull</td>\n",
       "      <td>Black/White</td>\n",
       "      <td>2013-11-17 11:40:00</td>\n",
       "      <td>...</td>\n",
       "      <td>pit bull</td>\n",
       "      <td>0.0</td>\n",
       "      <td>0.825</td>\n",
       "      <td>8.5</td>\n",
       "      <td>14.5</td>\n",
       "      <td>19.000000</td>\n",
       "      <td>21.500000</td>\n",
       "      <td>47.500000</td>\n",
       "      <td>65.000000</td>\n",
       "      <td>0 days 20:54:00</td>\n",
       "    </tr>\n",
       "    <tr>\n",
       "      <th>3</th>\n",
       "      <td>A163459</td>\n",
       "      <td>Sasha</td>\n",
       "      <td>2014-11-14 15:11:00</td>\n",
       "      <td>Ih 35 And 41St St in Austin (TX)</td>\n",
       "      <td>stray</td>\n",
       "      <td>normal</td>\n",
       "      <td>15.0</td>\n",
       "      <td>miniature schnauzer</td>\n",
       "      <td>Black/Gray</td>\n",
       "      <td>2014-11-14 19:28:00</td>\n",
       "      <td>...</td>\n",
       "      <td>miniature schnauzer</td>\n",
       "      <td>1.0</td>\n",
       "      <td>0.850</td>\n",
       "      <td>5.0</td>\n",
       "      <td>15.0</td>\n",
       "      <td>17.941176</td>\n",
       "      <td>20.908497</td>\n",
       "      <td>42.934641</td>\n",
       "      <td>57.522876</td>\n",
       "      <td>0 days 04:17:00</td>\n",
       "    </tr>\n",
       "    <tr>\n",
       "      <th>4</th>\n",
       "      <td>A165752</td>\n",
       "      <td>Pep</td>\n",
       "      <td>2014-09-15 11:28:00</td>\n",
       "      <td>Gatlin Gun Rd And Brodie in Austin (TX)</td>\n",
       "      <td>stray</td>\n",
       "      <td>normal</td>\n",
       "      <td>15.0</td>\n",
       "      <td>lhasa apso</td>\n",
       "      <td>Brown/White</td>\n",
       "      <td>2014-09-15 16:35:00</td>\n",
       "      <td>...</td>\n",
       "      <td>lhasa apso</td>\n",
       "      <td>1.0</td>\n",
       "      <td>0.300</td>\n",
       "      <td>41.0</td>\n",
       "      <td>80.0</td>\n",
       "      <td>17.941176</td>\n",
       "      <td>20.908497</td>\n",
       "      <td>42.934641</td>\n",
       "      <td>57.522876</td>\n",
       "      <td>0 days 05:07:00</td>\n",
       "    </tr>\n",
       "  </tbody>\n",
       "</table>\n",
       "<p>5 rows × 30 columns</p>\n",
       "</div>"
      ],
      "text/plain": [
       "        id    name              date_in  \\\n",
       "0  A047759    Oreo  2014-04-02 15:55:00   \n",
       "1  A134067  Bandit  2013-11-16 09:02:00   \n",
       "2  A141142  Bettie  2013-11-16 14:46:00   \n",
       "3  A163459   Sasha  2014-11-14 15:11:00   \n",
       "4  A165752     Pep  2014-09-15 11:28:00   \n",
       "\n",
       "                                  location    intake_type condition  age_in  \\\n",
       "0                              Austin (TX)      surrender    normal    10.0   \n",
       "1       12034 Research Blvd in Austin (TX)  public_assist   injured    16.0   \n",
       "2                              Austin (TX)          stray      aged    15.0   \n",
       "3         Ih 35 And 41St St in Austin (TX)          stray    normal    15.0   \n",
       "4  Gatlin Gun Rd And Brodie in Austin (TX)          stray    normal    15.0   \n",
       "\n",
       "                         breed        color             date_out  ...  \\\n",
       "0                    dachshund     Tricolor  2014-04-07 15:12:00  ...   \n",
       "1            shetland sheepdog  Brown/White  2013-11-16 11:54:00  ...   \n",
       "2  labrador retriever/pit bull  Black/White  2013-11-17 11:40:00  ...   \n",
       "3          miniature schnauzer   Black/Gray  2014-11-14 19:28:00  ...   \n",
       "4                   lhasa apso  Brown/White  2014-09-15 16:35:00  ...   \n",
       "\n",
       "               breed_2 pure   obey  reps_lower  reps_upper  height_low_inches  \\\n",
       "0            dachshund  1.0  0.500        26.0        40.0           7.000000   \n",
       "1    shetland sheepdog  1.0  0.950         1.0         4.0          17.941176   \n",
       "2             pit bull  0.0  0.825         8.5        14.5          19.000000   \n",
       "3  miniature schnauzer  1.0  0.850         5.0        15.0          17.941176   \n",
       "4           lhasa apso  1.0  0.300        41.0        80.0          17.941176   \n",
       "\n",
       "  height_high_inches weight_low_lbs weight_high_lbs  time_in_shelter  \n",
       "0          10.000000      16.000000       32.000000  4 days 23:17:00  \n",
       "1          20.908497      42.934641       57.522876  0 days 02:52:00  \n",
       "2          21.500000      47.500000       65.000000  0 days 20:54:00  \n",
       "3          20.908497      42.934641       57.522876  0 days 04:17:00  \n",
       "4          20.908497      42.934641       57.522876  0 days 05:07:00  \n",
       "\n",
       "[5 rows x 30 columns]"
      ]
     },
     "execution_count": 4,
     "metadata": {},
     "output_type": "execute_result"
    }
   ],
   "source": [
    "data.head()"
   ]
  },
  {
   "cell_type": "code",
   "execution_count": 5,
   "metadata": {},
   "outputs": [
    {
     "data": {
      "text/plain": [
       "Index(['id', 'name', 'date_in', 'location', 'intake_type', 'condition',\n",
       "       'age_in', 'breed', 'color', 'date_out', 'dob', 'outcome', 'age_out',\n",
       "       'sex', 'intact_in', 'intact_out', 'age', 'primary_color',\n",
       "       'secondary_color', 'breed_1', 'breed_2', 'pure', 'obey', 'reps_lower',\n",
       "       'reps_upper', 'height_low_inches', 'height_high_inches',\n",
       "       'weight_low_lbs', 'weight_high_lbs', 'time_in_shelter'],\n",
       "      dtype='object')"
      ]
     },
     "execution_count": 5,
     "metadata": {},
     "output_type": "execute_result"
    }
   ],
   "source": [
    "data.columns"
   ]
  },
  {
   "cell_type": "markdown",
   "metadata": {},
   "source": [
    "Convert datetimes."
   ]
  },
  {
   "cell_type": "code",
   "execution_count": 6,
   "metadata": {},
   "outputs": [],
   "source": [
    "data['date_in'] = pd.to_datetime(data['date_in'])\n",
    "data['date_out'] = pd.to_datetime(data['date_out'])\n",
    "\n",
    "data['time_in_shelter'] = pd.to_timedelta(data['time_in_shelter'])\n",
    "data['time_in_shelter'] = data['time_in_shelter'].dt.days"
   ]
  },
  {
   "cell_type": "code",
   "execution_count": 7,
   "metadata": {},
   "outputs": [
    {
     "data": {
      "image/png": "[encoded data removed]",
      "text/plain": [
       "<Figure size 432x288 with 1 Axes>"
      ]
     },
     "metadata": {
      "needs_background": "light"
     },
     "output_type": "display_data"
    }
   ],
   "source": [
    "plt.title(\"Distribution of Arrivals by Date\")\n",
    "data['date_in'].apply(lambda x: x.date()).hist();"
   ]
  },
  {
   "cell_type": "markdown",
   "metadata": {},
   "source": [
    "Convert index to date for exploration purposes."
   ]
  },
  {
   "cell_type": "code",
   "execution_count": 8,
   "metadata": {},
   "outputs": [],
   "source": [
    "data.index = data['date_in']\n",
    "data['date'] = data['date_in'].apply(lambda x: x.date())"
   ]
  },
  {
   "cell_type": "code",
   "execution_count": 9,
   "metadata": {},
   "outputs": [],
   "source": [
    "data['month'] = data['date'].apply(lambda x: x.month)"
   ]
  },
  {
   "cell_type": "code",
   "execution_count": 10,
   "metadata": {},
   "outputs": [
    {
     "data": {
      "text/html": [
       "<div>\n",
       "<style scoped>\n",
       "    .dataframe tbody tr th:only-of-type {\n",
       "        vertical-align: middle;\n",
       "    }\n",
       "\n",
       "    .dataframe tbody tr th {\n",
       "        vertical-align: top;\n",
       "    }\n",
       "\n",
       "    .dataframe thead th {\n",
       "        text-align: right;\n",
       "    }\n",
       "</style>\n",
       "<table border=\"1\" class=\"dataframe\">\n",
       "  <thead>\n",
       "    <tr style=\"text-align: right;\">\n",
       "      <th></th>\n",
       "      <th>id</th>\n",
       "      <th>name</th>\n",
       "      <th>date_in</th>\n",
       "      <th>location</th>\n",
       "      <th>intake_type</th>\n",
       "      <th>condition</th>\n",
       "      <th>age_in</th>\n",
       "      <th>breed</th>\n",
       "      <th>color</th>\n",
       "      <th>date_out</th>\n",
       "      <th>...</th>\n",
       "      <th>obey</th>\n",
       "      <th>reps_lower</th>\n",
       "      <th>reps_upper</th>\n",
       "      <th>height_low_inches</th>\n",
       "      <th>height_high_inches</th>\n",
       "      <th>weight_low_lbs</th>\n",
       "      <th>weight_high_lbs</th>\n",
       "      <th>time_in_shelter</th>\n",
       "      <th>date</th>\n",
       "      <th>month</th>\n",
       "    </tr>\n",
       "    <tr>\n",
       "      <th>date_in</th>\n",
       "      <th></th>\n",
       "      <th></th>\n",
       "      <th></th>\n",
       "      <th></th>\n",
       "      <th></th>\n",
       "      <th></th>\n",
       "      <th></th>\n",
       "      <th></th>\n",
       "      <th></th>\n",
       "      <th></th>\n",
       "      <th></th>\n",
       "      <th></th>\n",
       "      <th></th>\n",
       "      <th></th>\n",
       "      <th></th>\n",
       "      <th></th>\n",
       "      <th></th>\n",
       "      <th></th>\n",
       "      <th></th>\n",
       "      <th></th>\n",
       "      <th></th>\n",
       "    </tr>\n",
       "  </thead>\n",
       "  <tbody>\n",
       "    <tr>\n",
       "      <th>2021-08-28 03:59:00</th>\n",
       "      <td>A362851</td>\n",
       "      <td>Mr. Leo</td>\n",
       "      <td>2021-08-28 03:59:00</td>\n",
       "      <td>4201 Monterey Oaks Boulevard in Austin (TX)</td>\n",
       "      <td>public_assist</td>\n",
       "      <td>aged</td>\n",
       "      <td>17.0</td>\n",
       "      <td>dachshund</td>\n",
       "      <td>Brown/White</td>\n",
       "      <td>2021-08-28 11:48:00</td>\n",
       "      <td>...</td>\n",
       "      <td>0.50</td>\n",
       "      <td>26.0</td>\n",
       "      <td>40.0</td>\n",
       "      <td>7.000000</td>\n",
       "      <td>10.000000</td>\n",
       "      <td>16.000000</td>\n",
       "      <td>32.000000</td>\n",
       "      <td>0</td>\n",
       "      <td>2021-08-28</td>\n",
       "      <td>8</td>\n",
       "    </tr>\n",
       "    <tr>\n",
       "      <th>2021-10-29 15:03:00</th>\n",
       "      <td>A491338</td>\n",
       "      <td>Honey</td>\n",
       "      <td>2021-10-29 15:03:00</td>\n",
       "      <td>2630 Exposition Boulevard in Austin (TX)</td>\n",
       "      <td>stray</td>\n",
       "      <td>injured</td>\n",
       "      <td>15.0</td>\n",
       "      <td>labrador retriever</td>\n",
       "      <td>Yellow</td>\n",
       "      <td>2021-10-29 17:27:00</td>\n",
       "      <td>...</td>\n",
       "      <td>0.95</td>\n",
       "      <td>1.0</td>\n",
       "      <td>4.0</td>\n",
       "      <td>21.000000</td>\n",
       "      <td>24.000000</td>\n",
       "      <td>55.000000</td>\n",
       "      <td>80.000000</td>\n",
       "      <td>0</td>\n",
       "      <td>2021-10-29</td>\n",
       "      <td>10</td>\n",
       "    </tr>\n",
       "    <tr>\n",
       "      <th>2021-05-22 14:56:00</th>\n",
       "      <td>A500324</td>\n",
       "      <td>Alan</td>\n",
       "      <td>2021-05-22 14:56:00</td>\n",
       "      <td>4717 Highland Terrace in Austin (TX)</td>\n",
       "      <td>stray</td>\n",
       "      <td>normal</td>\n",
       "      <td>13.0</td>\n",
       "      <td>australian shepherd</td>\n",
       "      <td>Blue Merle/Brown</td>\n",
       "      <td>2021-06-01 13:06:00</td>\n",
       "      <td>...</td>\n",
       "      <td>0.50</td>\n",
       "      <td>26.0</td>\n",
       "      <td>40.0</td>\n",
       "      <td>18.000000</td>\n",
       "      <td>23.000000</td>\n",
       "      <td>40.000000</td>\n",
       "      <td>60.000000</td>\n",
       "      <td>9</td>\n",
       "      <td>2021-05-22</td>\n",
       "      <td>5</td>\n",
       "    </tr>\n",
       "    <tr>\n",
       "      <th>2021-08-09 12:40:00</th>\n",
       "      <td>A501697</td>\n",
       "      <td>Lucy</td>\n",
       "      <td>2021-08-09 12:40:00</td>\n",
       "      <td>4404 Marlin Cove in Austin (TX)</td>\n",
       "      <td>public_assist</td>\n",
       "      <td>normal</td>\n",
       "      <td>14.0</td>\n",
       "      <td>border collie</td>\n",
       "      <td>Black</td>\n",
       "      <td>2021-08-14 18:08:00</td>\n",
       "      <td>...</td>\n",
       "      <td>0.95</td>\n",
       "      <td>1.0</td>\n",
       "      <td>4.0</td>\n",
       "      <td>19.000000</td>\n",
       "      <td>21.000000</td>\n",
       "      <td>40.000000</td>\n",
       "      <td>40.000000</td>\n",
       "      <td>5</td>\n",
       "      <td>2021-08-09</td>\n",
       "      <td>8</td>\n",
       "    </tr>\n",
       "    <tr>\n",
       "      <th>2021-12-31 13:29:00</th>\n",
       "      <td>A523389</td>\n",
       "      <td>Nicco</td>\n",
       "      <td>2021-12-31 13:29:00</td>\n",
       "      <td>Gattling Gun in Austin (TX)</td>\n",
       "      <td>stray</td>\n",
       "      <td>normal</td>\n",
       "      <td>14.0</td>\n",
       "      <td>pekingese</td>\n",
       "      <td>Brown/White</td>\n",
       "      <td>2022-01-02 12:32:00</td>\n",
       "      <td>...</td>\n",
       "      <td>0.10</td>\n",
       "      <td>81.0</td>\n",
       "      <td>100.0</td>\n",
       "      <td>17.941176</td>\n",
       "      <td>20.908497</td>\n",
       "      <td>42.934641</td>\n",
       "      <td>57.522876</td>\n",
       "      <td>1</td>\n",
       "      <td>2021-12-31</td>\n",
       "      <td>12</td>\n",
       "    </tr>\n",
       "    <tr>\n",
       "      <th>...</th>\n",
       "      <td>...</td>\n",
       "      <td>...</td>\n",
       "      <td>...</td>\n",
       "      <td>...</td>\n",
       "      <td>...</td>\n",
       "      <td>...</td>\n",
       "      <td>...</td>\n",
       "      <td>...</td>\n",
       "      <td>...</td>\n",
       "      <td>...</td>\n",
       "      <td>...</td>\n",
       "      <td>...</td>\n",
       "      <td>...</td>\n",
       "      <td>...</td>\n",
       "      <td>...</td>\n",
       "      <td>...</td>\n",
       "      <td>...</td>\n",
       "      <td>...</td>\n",
       "      <td>...</td>\n",
       "      <td>...</td>\n",
       "      <td>...</td>\n",
       "    </tr>\n",
       "    <tr>\n",
       "      <th>2022-02-08 11:06:00</th>\n",
       "      <td>A851188</td>\n",
       "      <td>Static</td>\n",
       "      <td>2022-02-08 11:06:00</td>\n",
       "      <td>6812 Hillcroft Dr in Austin (TX)</td>\n",
       "      <td>public_assist</td>\n",
       "      <td>normal</td>\n",
       "      <td>0.0</td>\n",
       "      <td>pit bull</td>\n",
       "      <td>Blue/White</td>\n",
       "      <td>2022-02-08 18:19:00</td>\n",
       "      <td>...</td>\n",
       "      <td>0.70</td>\n",
       "      <td>16.0</td>\n",
       "      <td>25.0</td>\n",
       "      <td>17.000000</td>\n",
       "      <td>19.000000</td>\n",
       "      <td>40.000000</td>\n",
       "      <td>50.000000</td>\n",
       "      <td>0</td>\n",
       "      <td>2022-02-08</td>\n",
       "      <td>2</td>\n",
       "    </tr>\n",
       "    <tr>\n",
       "      <th>2022-02-08 11:54:00</th>\n",
       "      <td>A851191</td>\n",
       "      <td>Rose</td>\n",
       "      <td>2022-02-08 11:54:00</td>\n",
       "      <td>Austin (TX)</td>\n",
       "      <td>surrender</td>\n",
       "      <td>sick</td>\n",
       "      <td>2.0</td>\n",
       "      <td>doberman pinscher</td>\n",
       "      <td>Black</td>\n",
       "      <td>2022-02-08 14:32:00</td>\n",
       "      <td>...</td>\n",
       "      <td>0.95</td>\n",
       "      <td>1.0</td>\n",
       "      <td>4.0</td>\n",
       "      <td>26.000000</td>\n",
       "      <td>28.000000</td>\n",
       "      <td>60.000000</td>\n",
       "      <td>100.000000</td>\n",
       "      <td>0</td>\n",
       "      <td>2022-02-08</td>\n",
       "      <td>2</td>\n",
       "    </tr>\n",
       "    <tr>\n",
       "      <th>2022-02-08 14:11:00</th>\n",
       "      <td>A851204</td>\n",
       "      <td>A851204</td>\n",
       "      <td>2022-02-08 14:11:00</td>\n",
       "      <td>8400 Jamestown Drive in Austin (TX)</td>\n",
       "      <td>stray</td>\n",
       "      <td>normal</td>\n",
       "      <td>3.0</td>\n",
       "      <td>dachshund</td>\n",
       "      <td>Brown Brindle/White</td>\n",
       "      <td>2022-02-10 12:39:00</td>\n",
       "      <td>...</td>\n",
       "      <td>0.50</td>\n",
       "      <td>26.0</td>\n",
       "      <td>40.0</td>\n",
       "      <td>7.000000</td>\n",
       "      <td>10.000000</td>\n",
       "      <td>16.000000</td>\n",
       "      <td>32.000000</td>\n",
       "      <td>1</td>\n",
       "      <td>2022-02-08</td>\n",
       "      <td>2</td>\n",
       "    </tr>\n",
       "    <tr>\n",
       "      <th>2022-02-08 15:36:00</th>\n",
       "      <td>A851209</td>\n",
       "      <td>A851209</td>\n",
       "      <td>2022-02-08 15:36:00</td>\n",
       "      <td>Travis (TX)</td>\n",
       "      <td>surrender</td>\n",
       "      <td>normal</td>\n",
       "      <td>0.0</td>\n",
       "      <td>pit bull</td>\n",
       "      <td>Brown Brindle/White</td>\n",
       "      <td>2022-02-09 17:00:00</td>\n",
       "      <td>...</td>\n",
       "      <td>0.70</td>\n",
       "      <td>16.0</td>\n",
       "      <td>25.0</td>\n",
       "      <td>17.000000</td>\n",
       "      <td>19.000000</td>\n",
       "      <td>40.000000</td>\n",
       "      <td>50.000000</td>\n",
       "      <td>1</td>\n",
       "      <td>2022-02-08</td>\n",
       "      <td>2</td>\n",
       "    </tr>\n",
       "    <tr>\n",
       "      <th>2022-02-08 16:37:00</th>\n",
       "      <td>A851218</td>\n",
       "      <td>Suzy</td>\n",
       "      <td>2022-02-08 16:37:00</td>\n",
       "      <td>13900 Charles Abraham Way in Manor (TX)</td>\n",
       "      <td>public_assist</td>\n",
       "      <td>normal</td>\n",
       "      <td>5.0</td>\n",
       "      <td>fox terrier</td>\n",
       "      <td>Gray/Black</td>\n",
       "      <td>2022-02-09 16:25:00</td>\n",
       "      <td>...</td>\n",
       "      <td>0.50</td>\n",
       "      <td>26.0</td>\n",
       "      <td>40.0</td>\n",
       "      <td>13.000000</td>\n",
       "      <td>16.000000</td>\n",
       "      <td>15.000000</td>\n",
       "      <td>20.000000</td>\n",
       "      <td>0</td>\n",
       "      <td>2022-02-08</td>\n",
       "      <td>2</td>\n",
       "    </tr>\n",
       "  </tbody>\n",
       "</table>\n",
       "<p>4799 rows × 32 columns</p>\n",
       "</div>"
      ],
      "text/plain": [
       "                          id     name             date_in  \\\n",
       "date_in                                                     \n",
       "2021-08-28 03:59:00  A362851  Mr. Leo 2021-08-28 03:59:00   \n",
       "2021-10-29 15:03:00  A491338    Honey 2021-10-29 15:03:00   \n",
       "2021-05-22 14:56:00  A500324     Alan 2021-05-22 14:56:00   \n",
       "2021-08-09 12:40:00  A501697     Lucy 2021-08-09 12:40:00   \n",
       "2021-12-31 13:29:00  A523389    Nicco 2021-12-31 13:29:00   \n",
       "...                      ...      ...                 ...   \n",
       "2022-02-08 11:06:00  A851188   Static 2022-02-08 11:06:00   \n",
       "2022-02-08 11:54:00  A851191     Rose 2022-02-08 11:54:00   \n",
       "2022-02-08 14:11:00  A851204  A851204 2022-02-08 14:11:00   \n",
       "2022-02-08 15:36:00  A851209  A851209 2022-02-08 15:36:00   \n",
       "2022-02-08 16:37:00  A851218     Suzy 2022-02-08 16:37:00   \n",
       "\n",
       "                                                        location  \\\n",
       "date_in                                                            \n",
       "2021-08-28 03:59:00  4201 Monterey Oaks Boulevard in Austin (TX)   \n",
       "2021-10-29 15:03:00     2630 Exposition Boulevard in Austin (TX)   \n",
       "2021-05-22 14:56:00         4717 Highland Terrace in Austin (TX)   \n",
       "2021-08-09 12:40:00              4404 Marlin Cove in Austin (TX)   \n",
       "2021-12-31 13:29:00                  Gattling Gun in Austin (TX)   \n",
       "...                                                          ...   \n",
       "2022-02-08 11:06:00             6812 Hillcroft Dr in Austin (TX)   \n",
       "2022-02-08 11:54:00                                  Austin (TX)   \n",
       "2022-02-08 14:11:00          8400 Jamestown Drive in Austin (TX)   \n",
       "2022-02-08 15:36:00                                  Travis (TX)   \n",
       "2022-02-08 16:37:00      13900 Charles Abraham Way in Manor (TX)   \n",
       "\n",
       "                       intake_type condition  age_in                breed  \\\n",
       "date_in                                                                     \n",
       "2021-08-28 03:59:00  public_assist      aged    17.0            dachshund   \n",
       "2021-10-29 15:03:00          stray   injured    15.0   labrador retriever   \n",
       "2021-05-22 14:56:00          stray    normal    13.0  australian shepherd   \n",
       "2021-08-09 12:40:00  public_assist    normal    14.0        border collie   \n",
       "2021-12-31 13:29:00          stray    normal    14.0            pekingese   \n",
       "...                            ...       ...     ...                  ...   \n",
       "2022-02-08 11:06:00  public_assist    normal     0.0             pit bull   \n",
       "2022-02-08 11:54:00      surrender      sick     2.0    doberman pinscher   \n",
       "2022-02-08 14:11:00          stray    normal     3.0            dachshund   \n",
       "2022-02-08 15:36:00      surrender    normal     0.0             pit bull   \n",
       "2022-02-08 16:37:00  public_assist    normal     5.0          fox terrier   \n",
       "\n",
       "                                   color            date_out  ...  obey  \\\n",
       "date_in                                                       ...         \n",
       "2021-08-28 03:59:00          Brown/White 2021-08-28 11:48:00  ...  0.50   \n",
       "2021-10-29 15:03:00               Yellow 2021-10-29 17:27:00  ...  0.95   \n",
       "2021-05-22 14:56:00     Blue Merle/Brown 2021-06-01 13:06:00  ...  0.50   \n",
       "2021-08-09 12:40:00                Black 2021-08-14 18:08:00  ...  0.95   \n",
       "2021-12-31 13:29:00          Brown/White 2022-01-02 12:32:00  ...  0.10   \n",
       "...                                  ...                 ...  ...   ...   \n",
       "2022-02-08 11:06:00           Blue/White 2022-02-08 18:19:00  ...  0.70   \n",
       "2022-02-08 11:54:00                Black 2022-02-08 14:32:00  ...  0.95   \n",
       "2022-02-08 14:11:00  Brown Brindle/White 2022-02-10 12:39:00  ...  0.50   \n",
       "2022-02-08 15:36:00  Brown Brindle/White 2022-02-09 17:00:00  ...  0.70   \n",
       "2022-02-08 16:37:00           Gray/Black 2022-02-09 16:25:00  ...  0.50   \n",
       "\n",
       "                    reps_lower  reps_upper  height_low_inches  \\\n",
       "date_in                                                         \n",
       "2021-08-28 03:59:00       26.0        40.0           7.000000   \n",
       "2021-10-29 15:03:00        1.0         4.0          21.000000   \n",
       "2021-05-22 14:56:00       26.0        40.0          18.000000   \n",
       "2021-08-09 12:40:00        1.0         4.0          19.000000   \n",
       "2021-12-31 13:29:00       81.0       100.0          17.941176   \n",
       "...                        ...         ...                ...   \n",
       "2022-02-08 11:06:00       16.0        25.0          17.000000   \n",
       "2022-02-08 11:54:00        1.0         4.0          26.000000   \n",
       "2022-02-08 14:11:00       26.0        40.0           7.000000   \n",
       "2022-02-08 15:36:00       16.0        25.0          17.000000   \n",
       "2022-02-08 16:37:00       26.0        40.0          13.000000   \n",
       "\n",
       "                     height_high_inches  weight_low_lbs weight_high_lbs  \\\n",
       "date_in                                                                   \n",
       "2021-08-28 03:59:00           10.000000       16.000000       32.000000   \n",
       "2021-10-29 15:03:00           24.000000       55.000000       80.000000   \n",
       "2021-05-22 14:56:00           23.000000       40.000000       60.000000   \n",
       "2021-08-09 12:40:00           21.000000       40.000000       40.000000   \n",
       "2021-12-31 13:29:00           20.908497       42.934641       57.522876   \n",
       "...                                 ...             ...             ...   \n",
       "2022-02-08 11:06:00           19.000000       40.000000       50.000000   \n",
       "2022-02-08 11:54:00           28.000000       60.000000      100.000000   \n",
       "2022-02-08 14:11:00           10.000000       16.000000       32.000000   \n",
       "2022-02-08 15:36:00           19.000000       40.000000       50.000000   \n",
       "2022-02-08 16:37:00           16.000000       15.000000       20.000000   \n",
       "\n",
       "                    time_in_shelter        date month  \n",
       "date_in                                                \n",
       "2021-08-28 03:59:00               0  2021-08-28     8  \n",
       "2021-10-29 15:03:00               0  2021-10-29    10  \n",
       "2021-05-22 14:56:00               9  2021-05-22     5  \n",
       "2021-08-09 12:40:00               5  2021-08-09     8  \n",
       "2021-12-31 13:29:00               1  2021-12-31    12  \n",
       "...                             ...         ...   ...  \n",
       "2022-02-08 11:06:00               0  2022-02-08     2  \n",
       "2022-02-08 11:54:00               0  2022-02-08     2  \n",
       "2022-02-08 14:11:00               1  2022-02-08     2  \n",
       "2022-02-08 15:36:00               1  2022-02-08     2  \n",
       "2022-02-08 16:37:00               0  2022-02-08     2  \n",
       "\n",
       "[4799 rows x 32 columns]"
      ]
     },
     "execution_count": 10,
     "metadata": {},
     "output_type": "execute_result"
    }
   ],
   "source": [
    "data[(data.index > pd.to_datetime('2021-1-01'))]"
   ]
  },
  {
   "cell_type": "markdown",
   "metadata": {},
   "source": [
    "Rolling 2 week average of dogs arriving at the shelter per day that are eventually adepted from 2020 until Jan 1, 2022."
   ]
  },
  {
   "cell_type": "code",
   "execution_count": 16,
   "metadata": {},
   "outputs": [
    {
     "name": "stderr",
     "output_type": "stream",
     "text": [
      "/var/folders/3y/cshc407d2zv7031zkk2k4r1r0000gn/T/ipykernel_19998/2601702798.py:11: UserWarning: FixedFormatter should only be used together with FixedLocator\n",
      "  ax.set_xticklabels(['Jan 2020', 'Apr 2020', 'Jul 2020', 'Oct 2020', 'Jan 2021', 'Apr 2021', 'Jul 2021', 'Oct 2021', 'Jan 2022'])\n"
     ]
    },
    {
     "data": {
      "image/png": "[encoded data removed]",
      "text/plain": [
       "<Figure size 2160x1080 with 1 Axes>"
      ]
     },
     "metadata": {},
     "output_type": "display_data"
    }
   ],
   "source": [
    "plot_data = data[(data.index > pd.to_datetime('2020-01-01')) & (data.index < pd.to_datetime('2022-01-15')) & (data['outcome'] == 'adoption')].groupby('date').size().rolling(14).sum()\n",
    "\n",
    "fig, ax = plt.subplots(figsize=(30,15))\n",
    "plt.plot(plot_data,\n",
    "            linewidth=4,\n",
    "            color='#b9641f')\n",
    "plt.ylabel(r'New Dogs / Day', fontsize=24)\n",
    "plt.xticks(rotation=0, size=24)\n",
    "plt.yticks(size=24)\n",
    "\n",
    "ax.set_xticklabels(['Jan 2020', 'Apr 2020', 'Jul 2020', 'Oct 2020', 'Jan 2021', 'Apr 2021', 'Jul 2021', 'Oct 2021', 'Jan 2022'])\n",
    "plt.title(\"Shelter Arrivals (2 week rolling avg)\", size=24)\n",
    "fig.patch.set_facecolor('xkcd:white')\n",
    "sns.despine()\n",
    "fig.savefig('./presentation_images/rolling_avg.png', transparent=False)\n"
   ]
  },
  {
   "cell_type": "markdown",
   "metadata": {},
   "source": [
    "Drop unused columns."
   ]
  },
  {
   "cell_type": "code",
   "execution_count": 335,
   "metadata": {},
   "outputs": [],
   "source": [
    "data.drop(columns=['id', 'name', 'date_in', 'location', 'color', 'date_out', 'dob', 'intact_in'], inplace=True)"
   ]
  },
  {
   "cell_type": "markdown",
   "metadata": {},
   "source": [
    "Average time spent in shelter."
   ]
  },
  {
   "cell_type": "code",
   "execution_count": 336,
   "metadata": {},
   "outputs": [
    {
     "data": {
      "text/plain": [
       "16.30482792582912"
      ]
     },
     "execution_count": 336,
     "metadata": {},
     "output_type": "execute_result"
    }
   ],
   "source": [
    "data['time_in_shelter'].mean()"
   ]
  },
  {
   "cell_type": "code",
   "execution_count": 337,
   "metadata": {},
   "outputs": [
    {
     "data": {
      "text/html": [
       "<div>\n",
       "<style scoped>\n",
       "    .dataframe tbody tr th:only-of-type {\n",
       "        vertical-align: middle;\n",
       "    }\n",
       "\n",
       "    .dataframe tbody tr th {\n",
       "        vertical-align: top;\n",
       "    }\n",
       "\n",
       "    .dataframe thead th {\n",
       "        text-align: right;\n",
       "    }\n",
       "</style>\n",
       "<table border=\"1\" class=\"dataframe\">\n",
       "  <thead>\n",
       "    <tr style=\"text-align: right;\">\n",
       "      <th></th>\n",
       "      <th>intake_type</th>\n",
       "      <th>condition</th>\n",
       "      <th>age_in</th>\n",
       "      <th>breed</th>\n",
       "      <th>outcome</th>\n",
       "      <th>age_out</th>\n",
       "      <th>sex</th>\n",
       "      <th>intact_out</th>\n",
       "      <th>age</th>\n",
       "      <th>primary_color</th>\n",
       "      <th>...</th>\n",
       "      <th>obey</th>\n",
       "      <th>reps_lower</th>\n",
       "      <th>reps_upper</th>\n",
       "      <th>height_low_inches</th>\n",
       "      <th>height_high_inches</th>\n",
       "      <th>weight_low_lbs</th>\n",
       "      <th>weight_high_lbs</th>\n",
       "      <th>time_in_shelter</th>\n",
       "      <th>date</th>\n",
       "      <th>month</th>\n",
       "    </tr>\n",
       "    <tr>\n",
       "      <th>date_in</th>\n",
       "      <th></th>\n",
       "      <th></th>\n",
       "      <th></th>\n",
       "      <th></th>\n",
       "      <th></th>\n",
       "      <th></th>\n",
       "      <th></th>\n",
       "      <th></th>\n",
       "      <th></th>\n",
       "      <th></th>\n",
       "      <th></th>\n",
       "      <th></th>\n",
       "      <th></th>\n",
       "      <th></th>\n",
       "      <th></th>\n",
       "      <th></th>\n",
       "      <th></th>\n",
       "      <th></th>\n",
       "      <th></th>\n",
       "      <th></th>\n",
       "      <th></th>\n",
       "    </tr>\n",
       "  </thead>\n",
       "  <tbody>\n",
       "    <tr>\n",
       "      <th>2014-04-02 15:55:00</th>\n",
       "      <td>surrender</td>\n",
       "      <td>normal</td>\n",
       "      <td>10.0</td>\n",
       "      <td>dachshund</td>\n",
       "      <td>transfer</td>\n",
       "      <td>10.0</td>\n",
       "      <td>1</td>\n",
       "      <td>0</td>\n",
       "      <td>Senior</td>\n",
       "      <td>tricolor</td>\n",
       "      <td>...</td>\n",
       "      <td>0.500</td>\n",
       "      <td>26.0</td>\n",
       "      <td>40.0</td>\n",
       "      <td>7.000000</td>\n",
       "      <td>10.000000</td>\n",
       "      <td>16.000000</td>\n",
       "      <td>32.000000</td>\n",
       "      <td>4</td>\n",
       "      <td>2014-04-02</td>\n",
       "      <td>4</td>\n",
       "    </tr>\n",
       "    <tr>\n",
       "      <th>2013-11-16 09:02:00</th>\n",
       "      <td>public_assist</td>\n",
       "      <td>injured</td>\n",
       "      <td>16.0</td>\n",
       "      <td>shetland sheepdog</td>\n",
       "      <td>return_owner</td>\n",
       "      <td>16.0</td>\n",
       "      <td>1</td>\n",
       "      <td>0</td>\n",
       "      <td>Senior</td>\n",
       "      <td>brown</td>\n",
       "      <td>...</td>\n",
       "      <td>0.950</td>\n",
       "      <td>1.0</td>\n",
       "      <td>4.0</td>\n",
       "      <td>17.941176</td>\n",
       "      <td>20.908497</td>\n",
       "      <td>42.934641</td>\n",
       "      <td>57.522876</td>\n",
       "      <td>0</td>\n",
       "      <td>2013-11-16</td>\n",
       "      <td>11</td>\n",
       "    </tr>\n",
       "    <tr>\n",
       "      <th>2013-11-16 14:46:00</th>\n",
       "      <td>stray</td>\n",
       "      <td>aged</td>\n",
       "      <td>15.0</td>\n",
       "      <td>labrador retriever/pit bull</td>\n",
       "      <td>return_owner</td>\n",
       "      <td>15.0</td>\n",
       "      <td>0</td>\n",
       "      <td>0</td>\n",
       "      <td>Senior</td>\n",
       "      <td>black</td>\n",
       "      <td>...</td>\n",
       "      <td>0.825</td>\n",
       "      <td>8.5</td>\n",
       "      <td>14.5</td>\n",
       "      <td>19.000000</td>\n",
       "      <td>21.500000</td>\n",
       "      <td>47.500000</td>\n",
       "      <td>65.000000</td>\n",
       "      <td>0</td>\n",
       "      <td>2013-11-16</td>\n",
       "      <td>11</td>\n",
       "    </tr>\n",
       "    <tr>\n",
       "      <th>2014-11-14 15:11:00</th>\n",
       "      <td>stray</td>\n",
       "      <td>normal</td>\n",
       "      <td>15.0</td>\n",
       "      <td>miniature schnauzer</td>\n",
       "      <td>return_owner</td>\n",
       "      <td>15.0</td>\n",
       "      <td>0</td>\n",
       "      <td>1</td>\n",
       "      <td>Senior</td>\n",
       "      <td>black</td>\n",
       "      <td>...</td>\n",
       "      <td>0.850</td>\n",
       "      <td>5.0</td>\n",
       "      <td>15.0</td>\n",
       "      <td>17.941176</td>\n",
       "      <td>20.908497</td>\n",
       "      <td>42.934641</td>\n",
       "      <td>57.522876</td>\n",
       "      <td>0</td>\n",
       "      <td>2014-11-14</td>\n",
       "      <td>11</td>\n",
       "    </tr>\n",
       "    <tr>\n",
       "      <th>2014-09-15 11:28:00</th>\n",
       "      <td>stray</td>\n",
       "      <td>normal</td>\n",
       "      <td>15.0</td>\n",
       "      <td>lhasa apso</td>\n",
       "      <td>return_owner</td>\n",
       "      <td>15.0</td>\n",
       "      <td>1</td>\n",
       "      <td>0</td>\n",
       "      <td>Senior</td>\n",
       "      <td>brown</td>\n",
       "      <td>...</td>\n",
       "      <td>0.300</td>\n",
       "      <td>41.0</td>\n",
       "      <td>80.0</td>\n",
       "      <td>17.941176</td>\n",
       "      <td>20.908497</td>\n",
       "      <td>42.934641</td>\n",
       "      <td>57.522876</td>\n",
       "      <td>0</td>\n",
       "      <td>2014-09-15</td>\n",
       "      <td>9</td>\n",
       "    </tr>\n",
       "  </tbody>\n",
       "</table>\n",
       "<p>5 rows × 24 columns</p>\n",
       "</div>"
      ],
      "text/plain": [
       "                       intake_type condition  age_in  \\\n",
       "date_in                                                \n",
       "2014-04-02 15:55:00      surrender    normal    10.0   \n",
       "2013-11-16 09:02:00  public_assist   injured    16.0   \n",
       "2013-11-16 14:46:00          stray      aged    15.0   \n",
       "2014-11-14 15:11:00          stray    normal    15.0   \n",
       "2014-09-15 11:28:00          stray    normal    15.0   \n",
       "\n",
       "                                           breed       outcome  age_out  sex  \\\n",
       "date_in                                                                        \n",
       "2014-04-02 15:55:00                    dachshund      transfer     10.0    1   \n",
       "2013-11-16 09:02:00            shetland sheepdog  return_owner     16.0    1   \n",
       "2013-11-16 14:46:00  labrador retriever/pit bull  return_owner     15.0    0   \n",
       "2014-11-14 15:11:00          miniature schnauzer  return_owner     15.0    0   \n",
       "2014-09-15 11:28:00                   lhasa apso  return_owner     15.0    1   \n",
       "\n",
       "                     intact_out     age primary_color  ...   obey reps_lower  \\\n",
       "date_in                                                ...                     \n",
       "2014-04-02 15:55:00           0  Senior      tricolor  ...  0.500       26.0   \n",
       "2013-11-16 09:02:00           0  Senior         brown  ...  0.950        1.0   \n",
       "2013-11-16 14:46:00           0  Senior         black  ...  0.825        8.5   \n",
       "2014-11-14 15:11:00           1  Senior         black  ...  0.850        5.0   \n",
       "2014-09-15 11:28:00           0  Senior         brown  ...  0.300       41.0   \n",
       "\n",
       "                    reps_upper  height_low_inches  height_high_inches  \\\n",
       "date_in                                                                 \n",
       "2014-04-02 15:55:00       40.0           7.000000           10.000000   \n",
       "2013-11-16 09:02:00        4.0          17.941176           20.908497   \n",
       "2013-11-16 14:46:00       14.5          19.000000           21.500000   \n",
       "2014-11-14 15:11:00       15.0          17.941176           20.908497   \n",
       "2014-09-15 11:28:00       80.0          17.941176           20.908497   \n",
       "\n",
       "                     weight_low_lbs  weight_high_lbs  time_in_shelter  \\\n",
       "date_in                                                                 \n",
       "2014-04-02 15:55:00       16.000000        32.000000                4   \n",
       "2013-11-16 09:02:00       42.934641        57.522876                0   \n",
       "2013-11-16 14:46:00       47.500000        65.000000                0   \n",
       "2014-11-14 15:11:00       42.934641        57.522876                0   \n",
       "2014-09-15 11:28:00       42.934641        57.522876                0   \n",
       "\n",
       "                           date  month  \n",
       "date_in                                 \n",
       "2014-04-02 15:55:00  2014-04-02      4  \n",
       "2013-11-16 09:02:00  2013-11-16     11  \n",
       "2013-11-16 14:46:00  2013-11-16     11  \n",
       "2014-11-14 15:11:00  2014-11-14     11  \n",
       "2014-09-15 11:28:00  2014-09-15      9  \n",
       "\n",
       "[5 rows x 24 columns]"
      ]
     },
     "execution_count": 337,
     "metadata": {},
     "output_type": "execute_result"
    }
   ],
   "source": [
    "data.head()"
   ]
  },
  {
   "cell_type": "markdown",
   "metadata": {},
   "source": [
    "Doubtful dogs will have been in the system for multiple years. Will drop these observations from the data as they are going to cloud the results."
   ]
  },
  {
   "cell_type": "code",
   "execution_count": 338,
   "metadata": {},
   "outputs": [
    {
     "data": {
      "text/plain": [
       "<AxesSubplot:>"
      ]
     },
     "execution_count": 338,
     "metadata": {},
     "output_type": "execute_result"
    },
    {
     "data": {
      "image/png": "[encoded data removed]",
      "text/plain": [
       "<Figure size 432x288 with 1 Axes>"
      ]
     },
     "metadata": {
      "needs_background": "light"
     },
     "output_type": "display_data"
    }
   ],
   "source": [
    "plt.title(\"Distribution of Time Spent in Shelter\")\n",
    "data['time_in_shelter'].hist(bins=5);"
   ]
  },
  {
   "cell_type": "code",
   "execution_count": 339,
   "metadata": {},
   "outputs": [
    {
     "data": {
      "image/png": "[encoded data removed]",
      "text/plain": [
       "<Figure size 432x288 with 1 Axes>"
      ]
     },
     "metadata": {
      "needs_background": "light"
     },
     "output_type": "display_data"
    }
   ],
   "source": [
    "plt.title(\"Distribution of Time Spent in Shelter (Outliers)\")\n",
    "plt.boxplot(x=data['time_in_shelter']);"
   ]
  },
  {
   "cell_type": "markdown",
   "metadata": {},
   "source": [
    "Data capped at 100 days in shelter. Starting to come into focus."
   ]
  },
  {
   "cell_type": "code",
   "execution_count": 340,
   "metadata": {},
   "outputs": [
    {
     "data": {
      "text/plain": [
       "<AxesSubplot:>"
      ]
     },
     "execution_count": 340,
     "metadata": {},
     "output_type": "execute_result"
    },
    {
     "data": {
      "image/png": "[encoded data removed]",
      "text/plain": [
       "<Figure size 432x288 with 1 Axes>"
      ]
     },
     "metadata": {
      "needs_background": "light"
     },
     "output_type": "display_data"
    }
   ],
   "source": [
    "plt.title('Distribution of Time Spent in Shelter Capped at')\n",
    "data[data['time_in_shelter'] < 100]['time_in_shelter'].hist()\n",
    "plt.show()"
   ]
  },
  {
   "cell_type": "markdown",
   "metadata": {},
   "source": [
    "Number of observations in the data with a time spent above 200. Only 500, so best to drop them from. Unlikely to be legit."
   ]
  },
  {
   "cell_type": "code",
   "execution_count": 341,
   "metadata": {},
   "outputs": [
    {
     "data": {
      "text/html": [
       "<div>\n",
       "<style scoped>\n",
       "    .dataframe tbody tr th:only-of-type {\n",
       "        vertical-align: middle;\n",
       "    }\n",
       "\n",
       "    .dataframe tbody tr th {\n",
       "        vertical-align: top;\n",
       "    }\n",
       "\n",
       "    .dataframe thead th {\n",
       "        text-align: right;\n",
       "    }\n",
       "</style>\n",
       "<table border=\"1\" class=\"dataframe\">\n",
       "  <thead>\n",
       "    <tr style=\"text-align: right;\">\n",
       "      <th></th>\n",
       "      <th>intake_type</th>\n",
       "      <th>condition</th>\n",
       "      <th>breed</th>\n",
       "      <th>outcome</th>\n",
       "      <th>age_out</th>\n",
       "      <th>age</th>\n",
       "      <th>time_in_shelter</th>\n",
       "    </tr>\n",
       "    <tr>\n",
       "      <th>date_in</th>\n",
       "      <th></th>\n",
       "      <th></th>\n",
       "      <th></th>\n",
       "      <th></th>\n",
       "      <th></th>\n",
       "      <th></th>\n",
       "      <th></th>\n",
       "    </tr>\n",
       "  </thead>\n",
       "  <tbody>\n",
       "    <tr>\n",
       "      <th>2016-01-05 11:37:00</th>\n",
       "      <td>stray</td>\n",
       "      <td>injured</td>\n",
       "      <td>pit bull</td>\n",
       "      <td>adoption</td>\n",
       "      <td>11.0</td>\n",
       "      <td>Senior</td>\n",
       "      <td>1912</td>\n",
       "    </tr>\n",
       "    <tr>\n",
       "      <th>2016-03-24 16:59:00</th>\n",
       "      <td>surrender</td>\n",
       "      <td>normal</td>\n",
       "      <td>pit bull</td>\n",
       "      <td>adoption</td>\n",
       "      <td>5.0</td>\n",
       "      <td>Adult</td>\n",
       "      <td>1521</td>\n",
       "    </tr>\n",
       "    <tr>\n",
       "      <th>2016-11-02 20:15:00</th>\n",
       "      <td>stray</td>\n",
       "      <td>normal</td>\n",
       "      <td>labrador retriever</td>\n",
       "      <td>transfer</td>\n",
       "      <td>6.0</td>\n",
       "      <td>Adult</td>\n",
       "      <td>1351</td>\n",
       "    </tr>\n",
       "    <tr>\n",
       "      <th>2018-08-17 14:37:00</th>\n",
       "      <td>surrender</td>\n",
       "      <td>normal</td>\n",
       "      <td>pit bull</td>\n",
       "      <td>adoption</td>\n",
       "      <td>11.0</td>\n",
       "      <td>Senior</td>\n",
       "      <td>1195</td>\n",
       "    </tr>\n",
       "    <tr>\n",
       "      <th>2018-04-05 14:39:00</th>\n",
       "      <td>stray</td>\n",
       "      <td>normal</td>\n",
       "      <td>boxer</td>\n",
       "      <td>adoption</td>\n",
       "      <td>13.0</td>\n",
       "      <td>Senior</td>\n",
       "      <td>1167</td>\n",
       "    </tr>\n",
       "    <tr>\n",
       "      <th>...</th>\n",
       "      <td>...</td>\n",
       "      <td>...</td>\n",
       "      <td>...</td>\n",
       "      <td>...</td>\n",
       "      <td>...</td>\n",
       "      <td>...</td>\n",
       "      <td>...</td>\n",
       "    </tr>\n",
       "    <tr>\n",
       "      <th>2017-10-11 17:50:00</th>\n",
       "      <td>surrender</td>\n",
       "      <td>normal</td>\n",
       "      <td>labrador retriever</td>\n",
       "      <td>adoption</td>\n",
       "      <td>8.0</td>\n",
       "      <td>Adult</td>\n",
       "      <td>202</td>\n",
       "    </tr>\n",
       "    <tr>\n",
       "      <th>2014-06-04 13:58:00</th>\n",
       "      <td>stray</td>\n",
       "      <td>normal</td>\n",
       "      <td>chihuahua</td>\n",
       "      <td>adoption</td>\n",
       "      <td>5.0</td>\n",
       "      <td>Adult</td>\n",
       "      <td>202</td>\n",
       "    </tr>\n",
       "    <tr>\n",
       "      <th>2017-09-29 12:22:00</th>\n",
       "      <td>stray</td>\n",
       "      <td>normal</td>\n",
       "      <td>boxer</td>\n",
       "      <td>adoption</td>\n",
       "      <td>10.0</td>\n",
       "      <td>Senior</td>\n",
       "      <td>201</td>\n",
       "    </tr>\n",
       "    <tr>\n",
       "      <th>2016-05-26 07:33:00</th>\n",
       "      <td>stray</td>\n",
       "      <td>injured</td>\n",
       "      <td>dachshund</td>\n",
       "      <td>adoption</td>\n",
       "      <td>2.0</td>\n",
       "      <td>Adult</td>\n",
       "      <td>201</td>\n",
       "    </tr>\n",
       "    <tr>\n",
       "      <th>2017-08-04 16:45:00</th>\n",
       "      <td>stray</td>\n",
       "      <td>normal</td>\n",
       "      <td>labrador retriever</td>\n",
       "      <td>adoption</td>\n",
       "      <td>13.0</td>\n",
       "      <td>Senior</td>\n",
       "      <td>201</td>\n",
       "    </tr>\n",
       "  </tbody>\n",
       "</table>\n",
       "<p>520 rows × 7 columns</p>\n",
       "</div>"
      ],
      "text/plain": [
       "                    intake_type condition               breed   outcome  \\\n",
       "date_in                                                                   \n",
       "2016-01-05 11:37:00       stray   injured            pit bull  adoption   \n",
       "2016-03-24 16:59:00   surrender    normal            pit bull  adoption   \n",
       "2016-11-02 20:15:00       stray    normal  labrador retriever  transfer   \n",
       "2018-08-17 14:37:00   surrender    normal            pit bull  adoption   \n",
       "2018-04-05 14:39:00       stray    normal               boxer  adoption   \n",
       "...                         ...       ...                 ...       ...   \n",
       "2017-10-11 17:50:00   surrender    normal  labrador retriever  adoption   \n",
       "2014-06-04 13:58:00       stray    normal           chihuahua  adoption   \n",
       "2017-09-29 12:22:00       stray    normal               boxer  adoption   \n",
       "2016-05-26 07:33:00       stray   injured           dachshund  adoption   \n",
       "2017-08-04 16:45:00       stray    normal  labrador retriever  adoption   \n",
       "\n",
       "                     age_out     age  time_in_shelter  \n",
       "date_in                                                \n",
       "2016-01-05 11:37:00     11.0  Senior             1912  \n",
       "2016-03-24 16:59:00      5.0   Adult             1521  \n",
       "2016-11-02 20:15:00      6.0   Adult             1351  \n",
       "2018-08-17 14:37:00     11.0  Senior             1195  \n",
       "2018-04-05 14:39:00     13.0  Senior             1167  \n",
       "...                      ...     ...              ...  \n",
       "2017-10-11 17:50:00      8.0   Adult              202  \n",
       "2014-06-04 13:58:00      5.0   Adult              202  \n",
       "2017-09-29 12:22:00     10.0  Senior              201  \n",
       "2016-05-26 07:33:00      2.0   Adult              201  \n",
       "2017-08-04 16:45:00     13.0  Senior              201  \n",
       "\n",
       "[520 rows x 7 columns]"
      ]
     },
     "execution_count": 341,
     "metadata": {},
     "output_type": "execute_result"
    }
   ],
   "source": [
    "data[data['time_in_shelter'] > 200].sort_values(by=['time_in_shelter'], ascending=False)[['intake_type', 'condition', 'breed', 'outcome', 'age_out', 'age', 'time_in_shelter']]"
   ]
  },
  {
   "cell_type": "code",
   "execution_count": 342,
   "metadata": {},
   "outputs": [
    {
     "data": {
      "text/plain": [
       "breed                                   \n",
       "pit bull                                    205\n",
       "labrador retriever                           60\n",
       "chihuahua                                    28\n",
       "australian cattle dog                        23\n",
       "bulldog                                      17\n",
       "                                           ... \n",
       "harrier                                       1\n",
       "jack russell terrier                          1\n",
       "labrador retriever/australian cattle dog      1\n",
       "labrador retriever/boxer                      1\n",
       "yorkshire terrier                             1\n",
       "Length: 85, dtype: int64"
      ]
     },
     "execution_count": 342,
     "metadata": {},
     "output_type": "execute_result"
    }
   ],
   "source": [
    "data[data['time_in_shelter'] > 200].sort_values(by=['time_in_shelter'], ascending=False)[['breed']].value_counts()"
   ]
  },
  {
   "cell_type": "code",
   "execution_count": 343,
   "metadata": {},
   "outputs": [
    {
     "data": {
      "text/plain": [
       "condition\n",
       "normal       435\n",
       "injured       52\n",
       "sick          18\n",
       "aged           8\n",
       "other          4\n",
       "behavior       1\n",
       "medical        1\n",
       "nursing        1\n",
       "dtype: int64"
      ]
     },
     "execution_count": 343,
     "metadata": {},
     "output_type": "execute_result"
    }
   ],
   "source": [
    "data[data['time_in_shelter'] > 200].sort_values(by=['time_in_shelter'], ascending=False)[['condition']].value_counts()"
   ]
  },
  {
   "cell_type": "markdown",
   "metadata": {},
   "source": [
    "These are likely incorrect exit dates due to a bad data merge or incorrectly labeled. Shelter has a max capacity of only 350 dogs per their website. Will explore pit bull time in shelter more closely to confirm we still see the extended time in shelter relationship. Considering the proportion of our data that is above 60 days in shelter (aveage being only 15 days), it is highly unlikely dogs will remain in the shelter for 200 days or more. Especially considering their condition upon entry is 'normal'."
   ]
  },
  {
   "cell_type": "code",
   "execution_count": 344,
   "metadata": {},
   "outputs": [],
   "source": [
    "data = data[data['time_in_shelter'] < 200].copy()"
   ]
  },
  {
   "cell_type": "markdown",
   "metadata": {},
   "source": [
    "Dropping dogs in the shelter with extended stay."
   ]
  },
  {
   "cell_type": "code",
   "execution_count": 345,
   "metadata": {},
   "outputs": [
    {
     "name": "stdout",
     "output_type": "stream",
     "text": [
      "stray            38654\n",
      "surrender         8968\n",
      "public_assist     4239\n",
      "abandoned          246\n",
      "euth_request       164\n",
      "Name: intake_type, dtype: int64\n",
      "\n",
      "Missing Values: 0\n"
     ]
    }
   ],
   "source": [
    "quick_look('intake_type')"
   ]
  },
  {
   "cell_type": "code",
   "execution_count": 346,
   "metadata": {},
   "outputs": [
    {
     "name": "stdout",
     "output_type": "stream",
     "text": [
      "normal      46097\n",
      "injured      2742\n",
      "sick         1646\n",
      "nursing      1153\n",
      "aged          318\n",
      "other         101\n",
      "medical        88\n",
      "pregnant       63\n",
      "neonatal       44\n",
      "behavior       19\n",
      "Name: condition, dtype: int64\n",
      "\n",
      "Missing Values: 0\n"
     ]
    }
   ],
   "source": [
    "quick_look('condition')"
   ]
  },
  {
   "cell_type": "code",
   "execution_count": 347,
   "metadata": {},
   "outputs": [
    {
     "data": {
      "text/plain": [
       "intake_type\n",
       "abandoned        15.308943\n",
       "euth_request      3.274390\n",
       "public_assist    11.221515\n",
       "stray            12.550887\n",
       "surrender        15.095897\n",
       "Name: time_in_shelter, dtype: float64"
      ]
     },
     "execution_count": 347,
     "metadata": {},
     "output_type": "execute_result"
    }
   ],
   "source": [
    "data.groupby('intake_type').mean()['time_in_shelter']"
   ]
  },
  {
   "cell_type": "code",
   "execution_count": 348,
   "metadata": {},
   "outputs": [
    {
     "data": {
      "text/plain": [
       "stray            0.739492\n",
       "surrender        0.171567\n",
       "public_assist    0.081097\n",
       "abandoned        0.004706\n",
       "euth_request     0.003137\n",
       "Name: intake_type, dtype: float64"
      ]
     },
     "execution_count": 348,
     "metadata": {},
     "output_type": "execute_result"
    }
   ],
   "source": [
    "data['intake_type'].value_counts(normalize=True)"
   ]
  },
  {
   "cell_type": "code",
   "execution_count": 349,
   "metadata": {},
   "outputs": [
    {
     "data": {
      "text/html": [
       "<div>\n",
       "<style scoped>\n",
       "    .dataframe tbody tr th:only-of-type {\n",
       "        vertical-align: middle;\n",
       "    }\n",
       "\n",
       "    .dataframe tbody tr th {\n",
       "        vertical-align: top;\n",
       "    }\n",
       "\n",
       "    .dataframe thead th {\n",
       "        text-align: right;\n",
       "    }\n",
       "</style>\n",
       "<table border=\"1\" class=\"dataframe\">\n",
       "  <thead>\n",
       "    <tr style=\"text-align: right;\">\n",
       "      <th></th>\n",
       "      <th>age_in</th>\n",
       "      <th>age_out</th>\n",
       "      <th>sex</th>\n",
       "      <th>intact_out</th>\n",
       "      <th>pure</th>\n",
       "      <th>obey</th>\n",
       "      <th>reps_lower</th>\n",
       "      <th>reps_upper</th>\n",
       "      <th>height_low_inches</th>\n",
       "      <th>height_high_inches</th>\n",
       "      <th>weight_low_lbs</th>\n",
       "      <th>weight_high_lbs</th>\n",
       "      <th>time_in_shelter</th>\n",
       "      <th>month</th>\n",
       "    </tr>\n",
       "    <tr>\n",
       "      <th>intake_type</th>\n",
       "      <th></th>\n",
       "      <th></th>\n",
       "      <th></th>\n",
       "      <th></th>\n",
       "      <th></th>\n",
       "      <th></th>\n",
       "      <th></th>\n",
       "      <th></th>\n",
       "      <th></th>\n",
       "      <th></th>\n",
       "      <th></th>\n",
       "      <th></th>\n",
       "      <th></th>\n",
       "      <th></th>\n",
       "    </tr>\n",
       "  </thead>\n",
       "  <tbody>\n",
       "    <tr>\n",
       "      <th>abandoned</th>\n",
       "      <td>1.284553</td>\n",
       "      <td>1.321138</td>\n",
       "      <td>0.491870</td>\n",
       "      <td>0.345528</td>\n",
       "      <td>0.796748</td>\n",
       "      <td>0.676520</td>\n",
       "      <td>17.822738</td>\n",
       "      <td>30.880946</td>\n",
       "      <td>17.434601</td>\n",
       "      <td>20.380427</td>\n",
       "      <td>43.202628</td>\n",
       "      <td>57.326133</td>\n",
       "      <td>15.308943</td>\n",
       "      <td>6.382114</td>\n",
       "    </tr>\n",
       "    <tr>\n",
       "      <th>euth_request</th>\n",
       "      <td>8.286585</td>\n",
       "      <td>8.286585</td>\n",
       "      <td>0.567073</td>\n",
       "      <td>0.402439</td>\n",
       "      <td>0.859756</td>\n",
       "      <td>0.687796</td>\n",
       "      <td>18.242021</td>\n",
       "      <td>30.306608</td>\n",
       "      <td>16.786765</td>\n",
       "      <td>19.809561</td>\n",
       "      <td>42.255958</td>\n",
       "      <td>54.903555</td>\n",
       "      <td>3.274390</td>\n",
       "      <td>7.146341</td>\n",
       "    </tr>\n",
       "    <tr>\n",
       "      <th>public_assist</th>\n",
       "      <td>3.518283</td>\n",
       "      <td>3.542109</td>\n",
       "      <td>0.582921</td>\n",
       "      <td>0.347488</td>\n",
       "      <td>0.864355</td>\n",
       "      <td>0.632681</td>\n",
       "      <td>21.551548</td>\n",
       "      <td>35.766921</td>\n",
       "      <td>15.958727</td>\n",
       "      <td>18.740488</td>\n",
       "      <td>38.495228</td>\n",
       "      <td>50.449358</td>\n",
       "      <td>11.221515</td>\n",
       "      <td>6.521821</td>\n",
       "    </tr>\n",
       "    <tr>\n",
       "      <th>stray</th>\n",
       "      <td>2.318285</td>\n",
       "      <td>2.345915</td>\n",
       "      <td>0.530476</td>\n",
       "      <td>0.275470</td>\n",
       "      <td>0.851995</td>\n",
       "      <td>0.636430</td>\n",
       "      <td>21.208318</td>\n",
       "      <td>35.788596</td>\n",
       "      <td>16.026496</td>\n",
       "      <td>18.941262</td>\n",
       "      <td>38.447295</td>\n",
       "      <td>51.173035</td>\n",
       "      <td>12.550887</td>\n",
       "      <td>6.623092</td>\n",
       "    </tr>\n",
       "    <tr>\n",
       "      <th>surrender</th>\n",
       "      <td>2.675401</td>\n",
       "      <td>2.698372</td>\n",
       "      <td>0.495317</td>\n",
       "      <td>0.241414</td>\n",
       "      <td>0.801070</td>\n",
       "      <td>0.625875</td>\n",
       "      <td>22.014101</td>\n",
       "      <td>37.007499</td>\n",
       "      <td>15.658726</td>\n",
       "      <td>18.536105</td>\n",
       "      <td>37.384999</td>\n",
       "      <td>50.045452</td>\n",
       "      <td>15.095897</td>\n",
       "      <td>6.569804</td>\n",
       "    </tr>\n",
       "  </tbody>\n",
       "</table>\n",
       "</div>"
      ],
      "text/plain": [
       "                 age_in   age_out       sex  intact_out      pure      obey  \\\n",
       "intake_type                                                                   \n",
       "abandoned      1.284553  1.321138  0.491870    0.345528  0.796748  0.676520   \n",
       "euth_request   8.286585  8.286585  0.567073    0.402439  0.859756  0.687796   \n",
       "public_assist  3.518283  3.542109  0.582921    0.347488  0.864355  0.632681   \n",
       "stray          2.318285  2.345915  0.530476    0.275470  0.851995  0.636430   \n",
       "surrender      2.675401  2.698372  0.495317    0.241414  0.801070  0.625875   \n",
       "\n",
       "               reps_lower  reps_upper  height_low_inches  height_high_inches  \\\n",
       "intake_type                                                                    \n",
       "abandoned       17.822738   30.880946          17.434601           20.380427   \n",
       "euth_request    18.242021   30.306608          16.786765           19.809561   \n",
       "public_assist   21.551548   35.766921          15.958727           18.740488   \n",
       "stray           21.208318   35.788596          16.026496           18.941262   \n",
       "surrender       22.014101   37.007499          15.658726           18.536105   \n",
       "\n",
       "               weight_low_lbs  weight_high_lbs  time_in_shelter     month  \n",
       "intake_type                                                                \n",
       "abandoned           43.202628        57.326133        15.308943  6.382114  \n",
       "euth_request        42.255958        54.903555         3.274390  7.146341  \n",
       "public_assist       38.495228        50.449358        11.221515  6.521821  \n",
       "stray               38.447295        51.173035        12.550887  6.623092  \n",
       "surrender           37.384999        50.045452        15.095897  6.569804  "
      ]
     },
     "execution_count": 349,
     "metadata": {},
     "output_type": "execute_result"
    }
   ],
   "source": [
    "data.groupby(by='intake_type').mean()"
   ]
  },
  {
   "cell_type": "code",
   "execution_count": 350,
   "metadata": {},
   "outputs": [
    {
     "name": "stdout",
     "output_type": "stream",
     "text": [
      "adoption        23732\n",
      "transfer        13924\n",
      "return_owner    12771\n",
      "euthanasia       1522\n",
      "died              263\n",
      "disposal           41\n",
      "missing            18\n",
      "Name: outcome, dtype: int64\n",
      "\n",
      "Missing Values: 0\n"
     ]
    }
   ],
   "source": [
    "quick_look('outcome')"
   ]
  },
  {
   "cell_type": "markdown",
   "metadata": {},
   "source": [
    "Distribution of outcomes as sorted by intake type"
   ]
  },
  {
   "cell_type": "code",
   "execution_count": 351,
   "metadata": {},
   "outputs": [
    {
     "data": {
      "image/png": "[encoded data removed]",
      "text/plain": [
       "<Figure size 1440x864 with 6 Axes>"
      ]
     },
     "metadata": {
      "needs_background": "light"
     },
     "output_type": "display_data"
    }
   ],
   "source": [
    "data['outcome'].hist(by=data['intake_type'], figsize=(20,12), bins=7);"
   ]
  },
  {
   "cell_type": "markdown",
   "metadata": {},
   "source": [
    "Most strays and surrendered dogs get adopted or transfered to another rescue organization. You love to see it."
   ]
  },
  {
   "cell_type": "code",
   "execution_count": 352,
   "metadata": {},
   "outputs": [],
   "source": [
    "data = data[data['intake_type'] != 'euth_request'].copy()"
   ]
  },
  {
   "cell_type": "markdown",
   "metadata": {},
   "source": [
    "Will drop euth requests from the set. Dogs are likely sick."
   ]
  },
  {
   "cell_type": "code",
   "execution_count": 353,
   "metadata": {},
   "outputs": [
    {
     "name": "stdout",
     "output_type": "stream",
     "text": [
      "1    27539\n",
      "0    24568\n",
      "Name: sex, dtype: int64\n",
      "\n",
      "Missing Values: 0\n"
     ]
    }
   ],
   "source": [
    "quick_look('sex')"
   ]
  },
  {
   "cell_type": "markdown",
   "metadata": {},
   "source": [
    "No gender differences. (1 is male)"
   ]
  },
  {
   "cell_type": "code",
   "execution_count": 354,
   "metadata": {},
   "outputs": [
    {
     "data": {
      "text/plain": [
       "sex\n",
       "0    12.924332\n",
       "1    12.866517\n",
       "Name: time_in_shelter, dtype: float64"
      ]
     },
     "execution_count": 354,
     "metadata": {},
     "output_type": "execute_result"
    }
   ],
   "source": [
    "data.groupby('sex').mean()['time_in_shelter']"
   ]
  },
  {
   "cell_type": "code",
   "execution_count": 355,
   "metadata": {},
   "outputs": [
    {
     "data": {
      "image/png": "[encoded data removed]",
      "text/plain": [
       "<Figure size 1008x288 with 2 Axes>"
      ]
     },
     "metadata": {
      "needs_background": "light"
     },
     "output_type": "display_data"
    }
   ],
   "source": [
    "data['outcome'].hist(by=data['sex'], figsize=(14,4), bins=2);"
   ]
  },
  {
   "cell_type": "code",
   "execution_count": 356,
   "metadata": {},
   "outputs": [
    {
     "data": {
      "text/plain": [
       "age\n",
       "Senior    10.433380\n",
       "Baby      10.518893\n",
       "Young     13.306043\n",
       "Adult     14.617946\n",
       "Name: time_in_shelter, dtype: float64"
      ]
     },
     "execution_count": 356,
     "metadata": {},
     "output_type": "execute_result"
    }
   ],
   "source": [
    "data.groupby('age').mean()['time_in_shelter'].sort_values()"
   ]
  },
  {
   "cell_type": "markdown",
   "metadata": {},
   "source": [
    "Time spent in the shelter appears to have a relationship with age. Younger dogs tend to spend less time, on average, in the system than older dogs. Will need to dig into the Senior dogs a little more."
   ]
  },
  {
   "cell_type": "code",
   "execution_count": 357,
   "metadata": {},
   "outputs": [
    {
     "data": {
      "text/plain": [
       "<matplotlib.collections.PathCollection at 0x7f803b5e1430>"
      ]
     },
     "execution_count": 357,
     "metadata": {},
     "output_type": "execute_result"
    },
    {
     "data": {
      "image/png": "[encoded data removed]",
      "text/plain": [
       "<Figure size 720x432 with 1 Axes>"
      ]
     },
     "metadata": {
      "needs_background": "light"
     },
     "output_type": "display_data"
    }
   ],
   "source": [
    "plt.figure(figsize=(10, 6))\n",
    "plt.scatter(x=data['age_out'], y=data['time_in_shelter'], alpha=.1);"
   ]
  },
  {
   "cell_type": "code",
   "execution_count": 358,
   "metadata": {},
   "outputs": [
    {
     "data": {
      "text/html": [
       "<div>\n",
       "<style scoped>\n",
       "    .dataframe tbody tr th:only-of-type {\n",
       "        vertical-align: middle;\n",
       "    }\n",
       "\n",
       "    .dataframe tbody tr th {\n",
       "        vertical-align: top;\n",
       "    }\n",
       "\n",
       "    .dataframe thead th {\n",
       "        text-align: right;\n",
       "    }\n",
       "</style>\n",
       "<table border=\"1\" class=\"dataframe\">\n",
       "  <thead>\n",
       "    <tr style=\"text-align: right;\">\n",
       "      <th></th>\n",
       "      <th>age_in</th>\n",
       "      <th>age_out</th>\n",
       "      <th>sex</th>\n",
       "      <th>intact_out</th>\n",
       "      <th>pure</th>\n",
       "      <th>obey</th>\n",
       "      <th>reps_lower</th>\n",
       "      <th>reps_upper</th>\n",
       "      <th>height_low_inches</th>\n",
       "      <th>height_high_inches</th>\n",
       "      <th>weight_low_lbs</th>\n",
       "      <th>weight_high_lbs</th>\n",
       "      <th>time_in_shelter</th>\n",
       "      <th>month</th>\n",
       "    </tr>\n",
       "  </thead>\n",
       "  <tbody>\n",
       "    <tr>\n",
       "      <th>count</th>\n",
       "      <td>52107.000000</td>\n",
       "      <td>52107.000000</td>\n",
       "      <td>52107.000000</td>\n",
       "      <td>52107.000000</td>\n",
       "      <td>52107.000000</td>\n",
       "      <td>52107.000000</td>\n",
       "      <td>52107.000000</td>\n",
       "      <td>52107.000000</td>\n",
       "      <td>52107.000000</td>\n",
       "      <td>52107.000000</td>\n",
       "      <td>52107.000000</td>\n",
       "      <td>52107.000000</td>\n",
       "      <td>52107.000000</td>\n",
       "      <td>52107.000000</td>\n",
       "    </tr>\n",
       "    <tr>\n",
       "      <th>mean</th>\n",
       "      <td>2.472489</td>\n",
       "      <td>2.499050</td>\n",
       "      <td>0.528509</td>\n",
       "      <td>0.275798</td>\n",
       "      <td>0.843975</td>\n",
       "      <td>0.634498</td>\n",
       "      <td>21.358938</td>\n",
       "      <td>35.973446</td>\n",
       "      <td>15.964335</td>\n",
       "      <td>18.861993</td>\n",
       "      <td>38.290816</td>\n",
       "      <td>50.949146</td>\n",
       "      <td>12.893776</td>\n",
       "      <td>6.604544</td>\n",
       "    </tr>\n",
       "    <tr>\n",
       "      <th>std</th>\n",
       "      <td>3.132268</td>\n",
       "      <td>3.144789</td>\n",
       "      <td>0.499191</td>\n",
       "      <td>0.446920</td>\n",
       "      <td>0.362883</td>\n",
       "      <td>0.260839</td>\n",
       "      <td>19.539076</td>\n",
       "      <td>29.716115</td>\n",
       "      <td>6.136908</td>\n",
       "      <td>6.518874</td>\n",
       "      <td>25.613502</td>\n",
       "      <td>32.492967</td>\n",
       "      <td>23.916978</td>\n",
       "      <td>3.495744</td>\n",
       "    </tr>\n",
       "    <tr>\n",
       "      <th>min</th>\n",
       "      <td>0.000000</td>\n",
       "      <td>0.000000</td>\n",
       "      <td>0.000000</td>\n",
       "      <td>0.000000</td>\n",
       "      <td>0.000000</td>\n",
       "      <td>0.100000</td>\n",
       "      <td>1.000000</td>\n",
       "      <td>4.000000</td>\n",
       "      <td>6.000000</td>\n",
       "      <td>8.000000</td>\n",
       "      <td>2.000000</td>\n",
       "      <td>5.000000</td>\n",
       "      <td>-1.000000</td>\n",
       "      <td>1.000000</td>\n",
       "    </tr>\n",
       "    <tr>\n",
       "      <th>25%</th>\n",
       "      <td>0.000000</td>\n",
       "      <td>0.000000</td>\n",
       "      <td>0.000000</td>\n",
       "      <td>0.000000</td>\n",
       "      <td>1.000000</td>\n",
       "      <td>0.475000</td>\n",
       "      <td>1.000000</td>\n",
       "      <td>4.000000</td>\n",
       "      <td>10.000000</td>\n",
       "      <td>12.500000</td>\n",
       "      <td>16.000000</td>\n",
       "      <td>20.000000</td>\n",
       "      <td>2.000000</td>\n",
       "      <td>4.000000</td>\n",
       "    </tr>\n",
       "    <tr>\n",
       "      <th>50%</th>\n",
       "      <td>1.000000</td>\n",
       "      <td>1.000000</td>\n",
       "      <td>1.000000</td>\n",
       "      <td>0.000000</td>\n",
       "      <td>1.000000</td>\n",
       "      <td>0.700000</td>\n",
       "      <td>16.000000</td>\n",
       "      <td>25.000000</td>\n",
       "      <td>17.000000</td>\n",
       "      <td>20.000000</td>\n",
       "      <td>40.000000</td>\n",
       "      <td>50.000000</td>\n",
       "      <td>5.000000</td>\n",
       "      <td>7.000000</td>\n",
       "    </tr>\n",
       "    <tr>\n",
       "      <th>75%</th>\n",
       "      <td>3.000000</td>\n",
       "      <td>3.000000</td>\n",
       "      <td>1.000000</td>\n",
       "      <td>1.000000</td>\n",
       "      <td>1.000000</td>\n",
       "      <td>0.950000</td>\n",
       "      <td>33.500000</td>\n",
       "      <td>57.500000</td>\n",
       "      <td>21.000000</td>\n",
       "      <td>24.000000</td>\n",
       "      <td>55.000000</td>\n",
       "      <td>80.000000</td>\n",
       "      <td>11.000000</td>\n",
       "      <td>10.000000</td>\n",
       "    </tr>\n",
       "    <tr>\n",
       "      <th>max</th>\n",
       "      <td>24.000000</td>\n",
       "      <td>24.000000</td>\n",
       "      <td>1.000000</td>\n",
       "      <td>1.000000</td>\n",
       "      <td>1.000000</td>\n",
       "      <td>0.950000</td>\n",
       "      <td>81.000000</td>\n",
       "      <td>100.000000</td>\n",
       "      <td>48.000000</td>\n",
       "      <td>66.000000</td>\n",
       "      <td>175.000000</td>\n",
       "      <td>190.000000</td>\n",
       "      <td>199.000000</td>\n",
       "      <td>12.000000</td>\n",
       "    </tr>\n",
       "  </tbody>\n",
       "</table>\n",
       "</div>"
      ],
      "text/plain": [
       "             age_in       age_out           sex    intact_out          pure  \\\n",
       "count  52107.000000  52107.000000  52107.000000  52107.000000  52107.000000   \n",
       "mean       2.472489      2.499050      0.528509      0.275798      0.843975   \n",
       "std        3.132268      3.144789      0.499191      0.446920      0.362883   \n",
       "min        0.000000      0.000000      0.000000      0.000000      0.000000   \n",
       "25%        0.000000      0.000000      0.000000      0.000000      1.000000   \n",
       "50%        1.000000      1.000000      1.000000      0.000000      1.000000   \n",
       "75%        3.000000      3.000000      1.000000      1.000000      1.000000   \n",
       "max       24.000000     24.000000      1.000000      1.000000      1.000000   \n",
       "\n",
       "               obey    reps_lower    reps_upper  height_low_inches  \\\n",
       "count  52107.000000  52107.000000  52107.000000       52107.000000   \n",
       "mean       0.634498     21.358938     35.973446          15.964335   \n",
       "std        0.260839     19.539076     29.716115           6.136908   \n",
       "min        0.100000      1.000000      4.000000           6.000000   \n",
       "25%        0.475000      1.000000      4.000000          10.000000   \n",
       "50%        0.700000     16.000000     25.000000          17.000000   \n",
       "75%        0.950000     33.500000     57.500000          21.000000   \n",
       "max        0.950000     81.000000    100.000000          48.000000   \n",
       "\n",
       "       height_high_inches  weight_low_lbs  weight_high_lbs  time_in_shelter  \\\n",
       "count        52107.000000    52107.000000     52107.000000     52107.000000   \n",
       "mean            18.861993       38.290816        50.949146        12.893776   \n",
       "std              6.518874       25.613502        32.492967        23.916978   \n",
       "min              8.000000        2.000000         5.000000        -1.000000   \n",
       "25%             12.500000       16.000000        20.000000         2.000000   \n",
       "50%             20.000000       40.000000        50.000000         5.000000   \n",
       "75%             24.000000       55.000000        80.000000        11.000000   \n",
       "max             66.000000      175.000000       190.000000       199.000000   \n",
       "\n",
       "              month  \n",
       "count  52107.000000  \n",
       "mean       6.604544  \n",
       "std        3.495744  \n",
       "min        1.000000  \n",
       "25%        4.000000  \n",
       "50%        7.000000  \n",
       "75%       10.000000  \n",
       "max       12.000000  "
      ]
     },
     "execution_count": 358,
     "metadata": {},
     "output_type": "execute_result"
    }
   ],
   "source": [
    "data.describe()"
   ]
  },
  {
   "cell_type": "markdown",
   "metadata": {},
   "source": [
    "Inspect the change in shelter outcomes based on the number of dats spent in the shelter."
   ]
  },
  {
   "cell_type": "code",
   "execution_count": 359,
   "metadata": {},
   "outputs": [
    {
     "data": {
      "text/plain": [
       "return_owner    0.621997\n",
       "transfer        0.259981\n",
       "adoption        0.055473\n",
       "euthanasia      0.051979\n",
       "died            0.009260\n",
       "disposal        0.001223\n",
       "missing         0.000087\n",
       "Name: outcome, dtype: float64"
      ]
     },
     "execution_count": 359,
     "metadata": {},
     "output_type": "execute_result"
    }
   ],
   "source": [
    "data[data['time_in_shelter'] <= 1]['outcome'].value_counts(normalize=True)"
   ]
  },
  {
   "cell_type": "code",
   "execution_count": 360,
   "metadata": {},
   "outputs": [
    {
     "data": {
      "text/plain": [
       "return_owner    0.595115\n",
       "transfer        0.258549\n",
       "adoption        0.089274\n",
       "euthanasia      0.047150\n",
       "died            0.008637\n",
       "disposal        0.001062\n",
       "missing         0.000212\n",
       "Name: outcome, dtype: float64"
      ]
     },
     "execution_count": 360,
     "metadata": {},
     "output_type": "execute_result"
    }
   ],
   "source": [
    "data[data['time_in_shelter'] <= 2]['outcome'].value_counts(normalize=True)"
   ]
  },
  {
   "cell_type": "code",
   "execution_count": 361,
   "metadata": {},
   "outputs": [
    {
     "data": {
      "text/plain": [
       "return_owner    0.524736\n",
       "transfer        0.284431\n",
       "adoption        0.136700\n",
       "euthanasia      0.043557\n",
       "died            0.009155\n",
       "disposal        0.001194\n",
       "missing         0.000227\n",
       "Name: outcome, dtype: float64"
      ]
     },
     "execution_count": 361,
     "metadata": {},
     "output_type": "execute_result"
    }
   ],
   "source": [
    "data[data['time_in_shelter'] <= 3]['outcome'].value_counts(normalize=True)"
   ]
  },
  {
   "cell_type": "code",
   "execution_count": 362,
   "metadata": {},
   "outputs": [],
   "source": [
    "time_in = {}\n",
    "_ = {\n",
    "'return_owner': 'Return to Owner',\n",
    "'transfer': 'Transfer',\n",
    "'adoption': 'Adoption',\n",
    "'euthanasia': 'Other',\n",
    "'died': 'Other',\n",
    "'disposal': 'Other',\n",
    "'missing': 'Other',\n",
    "}\n",
    "for day in range(1, 31):\n",
    "    time_in[day] = data[data['time_in_shelter'] <= day]['outcome'].map(_).value_counts(normalize=True)\n"
   ]
  },
  {
   "cell_type": "markdown",
   "metadata": {},
   "source": [
    "Very few dogs that spend less than a week in the shelter are adopted. They are typically collected by their owner, because they were lost, or transfered to a different rescue organization."
   ]
  },
  {
   "cell_type": "markdown",
   "metadata": {},
   "source": [
    "The following cell will generate pie charts representing the proportion of outcomes relative to the time spent in the shelter. Fairly large output, so consider skipping. Display purposes only."
   ]
  },
  {
   "cell_type": "code",
   "execution_count": null,
   "metadata": {},
   "outputs": [],
   "source": [
    "#define data\n",
    "time_in = time_in[['Adoption', 'Return to Owner', 'Transfer', 'Other']]\n",
    "labels = time_in.columns\n",
    "explode = pie_chart_exploded = (0.02, 0, 0, 0)\n",
    "colors = ['#b9641f', '#5a2519', '#eae1c7', '#ffffff']\n",
    "\n",
    "for i in range(1, (time_in.shape[0] + 1)):\n",
    "        plt.figure(figsize=(10,10))\n",
    "        plt.pie(time_in.loc[i,], \n",
    "                # labels = labels, \n",
    "                colors = colors, \n",
    "                autopct='%.0f%%',\n",
    "                explode=explode,\n",
    "                wedgeprops={\"edgecolor\": \"k\",'linewidth': 2, 'antialiased': True},\n",
    "                textprops={'fontsize': 20, 'color': 'black'}\n",
    "                )\n",
    "\n",
    "        # legend = plt.legend(loc=\"upper right\", edgecolor=\"#5a2519\", prop={'size': 12}, fontsize=24)\n",
    "        # legend.get_frame().set_alpha(None)\n",
    "        # legend.get_frame().set_facecolor((0, 0, 0, 0))\n",
    "        plt.savefig(f'./presentation_images/outcome_{i}.png', bbox_inches='tight')\n",
    "        plt.show()"
   ]
  },
  {
   "cell_type": "code",
   "execution_count": 366,
   "metadata": {},
   "outputs": [
    {
     "data": {
      "image/png": "[encoded data removed]",
      "text/plain": [
       "<Figure size 432x288 with 1 Axes>"
      ]
     },
     "metadata": {
      "needs_background": "light"
     },
     "output_type": "display_data"
    }
   ],
   "source": [
    "plt.title(\"Distribution of Dogs Returned to Owner\")\n",
    "data[(data['outcome'] == 'return_owner') & (data['time_in_shelter'] < 20)]['time_in_shelter'].hist();"
   ]
  },
  {
   "cell_type": "markdown",
   "metadata": {},
   "source": [
    "Going to exclude dogs that are returned to the owner or transfered out. A large portion happen very quickly and will add noise to the predictions. Our goal is to predict adoption timeframes, first and foremost."
   ]
  },
  {
   "cell_type": "code",
   "execution_count": 367,
   "metadata": {},
   "outputs": [],
   "source": [
    "data = data[data['outcome'] != 'return_owner'].copy()"
   ]
  },
  {
   "cell_type": "code",
   "execution_count": 368,
   "metadata": {},
   "outputs": [
    {
     "data": {
      "image/png": "[encoded data removed]",
      "text/plain": [
       "<Figure size 432x288 with 1 Axes>"
      ]
     },
     "metadata": {
      "needs_background": "light"
     },
     "output_type": "display_data"
    }
   ],
   "source": [
    "plt.title(\"Distribution of Dogs Transfered\")\n",
    "data[(data['outcome'] == 'transfer') & (data['time_in_shelter'] < 20)]['time_in_shelter'].hist();"
   ]
  },
  {
   "cell_type": "markdown",
   "metadata": {},
   "source": [
    "Large drop off in transfers after 1 week. Figure the shelter comes up with a plan on how to best handle the animal and organizes with their partners."
   ]
  },
  {
   "cell_type": "code",
   "execution_count": 369,
   "metadata": {},
   "outputs": [
    {
     "data": {
      "text/plain": [
       "condition\n",
       "behavior        3\n",
       "neonatal       27\n",
       "pregnant       34\n",
       "medical        40\n",
       "other          41\n",
       "aged           62\n",
       "nursing       586\n",
       "injured       857\n",
       "sick          862\n",
       "normal      11395\n",
       "dtype: int64"
      ]
     },
     "execution_count": 369,
     "metadata": {},
     "output_type": "execute_result"
    }
   ],
   "source": [
    "data[data['outcome'] == 'transfer'].groupby('condition').size().sort_values()"
   ]
  },
  {
   "cell_type": "markdown",
   "metadata": {},
   "source": [
    "Take a look at outcomes."
   ]
  },
  {
   "cell_type": "code",
   "execution_count": 370,
   "metadata": {},
   "outputs": [
    {
     "data": {
      "text/plain": [
       "outcome\n",
       "disposal       4.00\n",
       "died           8.55\n",
       "euthanasia     9.16\n",
       "transfer      10.12\n",
       "adoption      20.07\n",
       "missing       37.67\n",
       "Name: time_in_shelter, dtype: float64"
      ]
     },
     "execution_count": 370,
     "metadata": {},
     "output_type": "execute_result"
    }
   ],
   "source": [
    "np.round(data.groupby('outcome').mean()['time_in_shelter'].sort_values(), 2)"
   ]
  },
  {
   "cell_type": "code",
   "execution_count": 371,
   "metadata": {},
   "outputs": [
    {
     "data": {
      "text/plain": [
       "outcome\n",
       "missing          18\n",
       "disposal         41\n",
       "died            260\n",
       "euthanasia     1385\n",
       "transfer      13907\n",
       "adoption      23728\n",
       "dtype: int64"
      ]
     },
     "execution_count": 371,
     "metadata": {},
     "output_type": "execute_result"
    }
   ],
   "source": [
    "data.groupby('outcome').size().sort_values()"
   ]
  },
  {
   "cell_type": "code",
   "execution_count": 372,
   "metadata": {},
   "outputs": [],
   "source": [
    "data = data[~data['outcome'].isin(['missing', 'disposal', 'transfer'])].copy()"
   ]
  },
  {
   "cell_type": "markdown",
   "metadata": {},
   "source": [
    "Can drop missing & disposal as they are a tiny sample size and likely only going to add noise. Dogs that are transfered are transferred quickly, typically"
   ]
  },
  {
   "cell_type": "code",
   "execution_count": 373,
   "metadata": {},
   "outputs": [
    {
     "data": {
      "text/plain": [
       "condition\n",
       "normal      17.905378\n",
       "sick        19.595318\n",
       "aged        20.950617\n",
       "medical     28.146341\n",
       "injured     29.472903\n",
       "other       42.324324\n",
       "nursing     51.485030\n",
       "neonatal    55.181818\n",
       "behavior    58.555556\n",
       "pregnant    59.115385\n",
       "Name: time_in_shelter, dtype: float64"
      ]
     },
     "execution_count": 373,
     "metadata": {},
     "output_type": "execute_result"
    }
   ],
   "source": [
    "data.groupby('condition').mean()['time_in_shelter'].sort_values()"
   ]
  },
  {
   "cell_type": "code",
   "execution_count": 374,
   "metadata": {},
   "outputs": [
    {
     "data": {
      "text/plain": [
       "condition\n",
       "behavior        9\n",
       "neonatal       11\n",
       "pregnant       26\n",
       "other          37\n",
       "medical        41\n",
       "aged           81\n",
       "nursing       501\n",
       "sick          598\n",
       "injured      1347\n",
       "normal      22722\n",
       "dtype: int64"
      ]
     },
     "execution_count": 374,
     "metadata": {},
     "output_type": "execute_result"
    }
   ],
   "source": [
    "data.groupby('condition').size().sort_values()"
   ]
  },
  {
   "cell_type": "markdown",
   "metadata": {},
   "source": [
    "Combine pregnant & nursing along with medical, sick & injured. Will drop neonatal as the dogs are too young to be released from the shelter within a specific time period and the dogs we are attempting to classify will all be older than a couple weeks."
   ]
  },
  {
   "cell_type": "code",
   "execution_count": 375,
   "metadata": {},
   "outputs": [],
   "source": [
    "data = data[data['condition'] != 'neonatal'].copy()"
   ]
  },
  {
   "cell_type": "code",
   "execution_count": 376,
   "metadata": {},
   "outputs": [],
   "source": [
    "data.loc[data['condition'] == 'pregnant', 'condition'] = 'nursing'\n",
    "data.loc[data['condition'] == 'medical', 'condition'] = 'injured'\n",
    "data.loc[data['condition'] == 'sick', 'condition'] = 'injured'"
   ]
  },
  {
   "cell_type": "code",
   "execution_count": 377,
   "metadata": {},
   "outputs": [
    {
     "data": {
      "text/plain": [
       "condition\n",
       "normal      17.905378\n",
       "aged        20.950617\n",
       "injured     26.471299\n",
       "other       42.324324\n",
       "nursing     51.861480\n",
       "behavior    58.555556\n",
       "Name: time_in_shelter, dtype: float64"
      ]
     },
     "execution_count": 377,
     "metadata": {},
     "output_type": "execute_result"
    }
   ],
   "source": [
    "data.groupby('condition').mean()['time_in_shelter'].sort_values()"
   ]
  },
  {
   "cell_type": "code",
   "execution_count": 378,
   "metadata": {},
   "outputs": [
    {
     "data": {
      "image/png": "[encoded data removed]",
      "text/plain": [
       "<Figure size 432x288 with 1 Axes>"
      ]
     },
     "metadata": {
      "needs_background": "light"
     },
     "output_type": "display_data"
    }
   ],
   "source": [
    "plt.title(\"Distribution of Intake Condition when Outcome is Euthanasia\")\n",
    "data[data['outcome']=='euthanasia']['condition'].hist(bins=7);"
   ]
  },
  {
   "cell_type": "code",
   "execution_count": 379,
   "metadata": {},
   "outputs": [
    {
     "data": {
      "text/plain": [
       "<AxesSubplot:>"
      ]
     },
     "execution_count": 379,
     "metadata": {},
     "output_type": "execute_result"
    },
    {
     "data": {
      "image/png": "[encoded data removed]",
      "text/plain": [
       "<Figure size 432x288 with 1 Axes>"
      ]
     },
     "metadata": {
      "needs_background": "light"
     },
     "output_type": "display_data"
    }
   ],
   "source": [
    "plt.title(\"Distribution of Intake Type when Outcome is Euthanasia\")\n",
    "data[data['outcome']=='euthanasia']['intake_type'].hist(bins=4);"
   ]
  },
  {
   "cell_type": "markdown",
   "metadata": {},
   "source": [
    "Not too surprising to see most of the dogs that were put down came in as injured strays or surrendered by their owners."
   ]
  },
  {
   "cell_type": "code",
   "execution_count": 380,
   "metadata": {},
   "outputs": [
    {
     "data": {
      "text/plain": [
       "outcome\n",
       "adoption      20.055064\n",
       "died           8.550000\n",
       "euthanasia     9.140173\n",
       "Name: time_in_shelter, dtype: float64"
      ]
     },
     "execution_count": 380,
     "metadata": {},
     "output_type": "execute_result"
    }
   ],
   "source": [
    "data.groupby('outcome').mean()['time_in_shelter']"
   ]
  },
  {
   "cell_type": "code",
   "execution_count": 381,
   "metadata": {},
   "outputs": [
    {
     "data": {
      "text/plain": [
       "condition\n",
       "behavior        9\n",
       "other          37\n",
       "aged           81\n",
       "nursing       527\n",
       "injured      1986\n",
       "normal      22722\n",
       "dtype: int64"
      ]
     },
     "execution_count": 381,
     "metadata": {},
     "output_type": "execute_result"
    }
   ],
   "source": [
    "data.groupby('condition').size().sort_values()"
   ]
  },
  {
   "cell_type": "code",
   "execution_count": 382,
   "metadata": {},
   "outputs": [
    {
     "data": {
      "text/plain": [
       "<matplotlib.collections.PathCollection at 0x7f803e03da00>"
      ]
     },
     "execution_count": 382,
     "metadata": {},
     "output_type": "execute_result"
    },
    {
     "data": {
      "image/png": "[encoded data removed]",
      "text/plain": [
       "<Figure size 720x432 with 1 Axes>"
      ]
     },
     "metadata": {
      "needs_background": "light"
     },
     "output_type": "display_data"
    }
   ],
   "source": [
    "plt.title(\"Distribution of Ages by Time in Shelter\")\n",
    "plt.figure(figsize=(10, 6))\n",
    "plt.scatter(x=data['age_out'], y=data['time_in_shelter'], alpha=.1);"
   ]
  },
  {
   "cell_type": "markdown",
   "metadata": {},
   "source": [
    "Starting to see the relationship between age and time in shelter come into focus. The proportion of senior dogs with longer wait times is developing. Older stray dogs are more likely to be put down than younger stray dogs, so when we remove those from the dataset, the averages time in shelter begins to fall in line with our assumption."
   ]
  },
  {
   "cell_type": "code",
   "execution_count": 493,
   "metadata": {},
   "outputs": [
    {
     "data": {
      "image/png": "[encoded data removed]",
      "text/plain": [
       "<Figure size 1008x504 with 1 Axes>"
      ]
     },
     "metadata": {
      "needs_background": "light"
     },
     "output_type": "display_data"
    }
   ],
   "source": [
    "data[(data['time_in_shelter'] > 7) & (data['outcome']=='Adoption')].groupby(by=['age_in']).mean()['time_in_shelter'].index\n",
    "plot_data = data[data['time_in_shelter'] > 7].copy()\n",
    "plot_data = plot_data.groupby(by='age').mean()['time_in_shelter'].sort_values()\n",
    "\n",
    "plt.figure(figsize=(14,7))\n",
    "plt.ylabel('Avg Days in Shelter')\n",
    "ax = sns.barplot(x=['Baby', 'Young', 'Adult', 'Senior'], y = [14.52, 17.66, 24.35, 29.92], palette=['#b9641f', '#ffffff', '#eae1c7', '#5a2519'], edgecolor=\"black\", linewidth=.5)\n",
    "plt.rcParams.update({\n",
    "    \"figure.facecolor\":  (0.0, 0.0, 0.0, 0.0),  # red   with alpha = 30%\n",
    "    \"axes.facecolor\":    (0.0, 0.0, 0.0, 0.0),  # green with alpha = 50%\n",
    "    \"savefig.facecolor\": (0.0, 0.0, 0.0, 0.0),  # blue  with alpha = 20%\n",
    "})\n",
    "# transparant background adapted: https://stackoverflow.com/a/62466259\n",
    "sns.despine()"
   ]
  },
  {
   "cell_type": "code",
   "execution_count": 249,
   "metadata": {},
   "outputs": [
    {
     "data": {
      "text/plain": [
       "age\n",
       "Baby      14.521703\n",
       "Young     17.660171\n",
       "Adult     24.357340\n",
       "Senior    28.926425\n",
       "Name: time_in_shelter, dtype: float64"
      ]
     },
     "execution_count": 249,
     "metadata": {},
     "output_type": "execute_result"
    }
   ],
   "source": [
    "data.groupby('age').mean()['time_in_shelter'].sort_values()"
   ]
  },
  {
   "cell_type": "markdown",
   "metadata": {},
   "source": [
    "Younger dogs get adopted sooner."
   ]
  },
  {
   "cell_type": "code",
   "execution_count": 250,
   "metadata": {},
   "outputs": [
    {
     "data": {
      "text/plain": [
       "intake_type\n",
       "stray            18.827863\n",
       "abandoned        19.130769\n",
       "surrender        20.311115\n",
       "public_assist    27.478191\n",
       "Name: time_in_shelter, dtype: float64"
      ]
     },
     "execution_count": 250,
     "metadata": {},
     "output_type": "execute_result"
    }
   ],
   "source": [
    "data.groupby('intake_type').mean()['time_in_shelter'].sort_values()"
   ]
  },
  {
   "cell_type": "code",
   "execution_count": 251,
   "metadata": {},
   "outputs": [
    {
     "data": {
      "text/plain": [
       "condition\n",
       "normal      17.905378\n",
       "aged        20.950617\n",
       "injured     26.471299\n",
       "other       42.324324\n",
       "nursing     51.861480\n",
       "behavior    58.555556\n",
       "Name: time_in_shelter, dtype: float64"
      ]
     },
     "execution_count": 251,
     "metadata": {},
     "output_type": "execute_result"
    }
   ],
   "source": [
    "data.groupby('condition').mean()['time_in_shelter'].sort_values()"
   ]
  },
  {
   "cell_type": "code",
   "execution_count": 252,
   "metadata": {},
   "outputs": [
    {
     "data": {
      "text/plain": [
       "outcome\n",
       "died           8.550000\n",
       "euthanasia     9.140173\n",
       "adoption      20.055064\n",
       "Name: time_in_shelter, dtype: float64"
      ]
     },
     "execution_count": 252,
     "metadata": {},
     "output_type": "execute_result"
    }
   ],
   "source": [
    "data.groupby('outcome').mean()['time_in_shelter'].sort_values()"
   ]
  },
  {
   "cell_type": "markdown",
   "metadata": {},
   "source": [
    "Most common breeds"
   ]
  },
  {
   "cell_type": "code",
   "execution_count": 253,
   "metadata": {},
   "outputs": [
    {
     "data": {
      "text/plain": [
       "labrador retriever       4066\n",
       "chihuahua                3890\n",
       "pit bull                 3456\n",
       "german shepherd          1997\n",
       "australian cattle dog    1323\n",
       "dachshund                 945\n",
       "border collie             610\n",
       "siberian husky            548\n",
       "boxer                     481\n",
       "australian shepherd       431\n",
       "fox terrier               386\n",
       "great pyrenees            382\n",
       "jack russell terrier      380\n",
       "miniature poodle          379\n",
       "beagle                    347\n",
       "cairn terrier             342\n",
       "yorkshire terrier         338\n",
       "pointer                   331\n",
       "miniature schnauzer       301\n",
       "anatolian sheepdog        289\n",
       "Name: breed_1, dtype: int64"
      ]
     },
     "execution_count": 253,
     "metadata": {},
     "output_type": "execute_result"
    }
   ],
   "source": [
    "data['breed_1'].value_counts()[:20]"
   ]
  },
  {
   "cell_type": "code",
   "execution_count": 254,
   "metadata": {},
   "outputs": [],
   "source": [
    "common_breeds = list(data['breed_1'].value_counts()[:20].index)"
   ]
  },
  {
   "cell_type": "code",
   "execution_count": 255,
   "metadata": {},
   "outputs": [
    {
     "data": {
      "text/plain": [
       "pure\n",
       "0.0    19.920321\n",
       "1.0    19.899961\n",
       "Name: time_in_shelter, dtype: float64"
      ]
     },
     "execution_count": 255,
     "metadata": {},
     "output_type": "execute_result"
    }
   ],
   "source": [
    "data[data['breed_1'].isin(common_breeds)].groupby('pure').mean()['time_in_shelter']"
   ]
  },
  {
   "cell_type": "markdown",
   "metadata": {},
   "source": [
    "No relationship to pure breed vs mutt"
   ]
  },
  {
   "cell_type": "code",
   "execution_count": 256,
   "metadata": {},
   "outputs": [
    {
     "data": {
      "text/html": [
       "<div>\n",
       "<style scoped>\n",
       "    .dataframe tbody tr th:only-of-type {\n",
       "        vertical-align: middle;\n",
       "    }\n",
       "\n",
       "    .dataframe tbody tr th {\n",
       "        vertical-align: top;\n",
       "    }\n",
       "\n",
       "    .dataframe thead th {\n",
       "        text-align: right;\n",
       "    }\n",
       "</style>\n",
       "<table border=\"1\" class=\"dataframe\">\n",
       "  <thead>\n",
       "    <tr style=\"text-align: right;\">\n",
       "      <th></th>\n",
       "      <th>intake_type</th>\n",
       "      <th>condition</th>\n",
       "      <th>age_in</th>\n",
       "      <th>breed</th>\n",
       "      <th>outcome</th>\n",
       "      <th>age_out</th>\n",
       "      <th>sex</th>\n",
       "      <th>intact_out</th>\n",
       "      <th>age</th>\n",
       "      <th>primary_color</th>\n",
       "      <th>...</th>\n",
       "      <th>obey</th>\n",
       "      <th>reps_lower</th>\n",
       "      <th>reps_upper</th>\n",
       "      <th>height_low_inches</th>\n",
       "      <th>height_high_inches</th>\n",
       "      <th>weight_low_lbs</th>\n",
       "      <th>weight_high_lbs</th>\n",
       "      <th>time_in_shelter</th>\n",
       "      <th>date</th>\n",
       "      <th>month</th>\n",
       "    </tr>\n",
       "    <tr>\n",
       "      <th>date_in</th>\n",
       "      <th></th>\n",
       "      <th></th>\n",
       "      <th></th>\n",
       "      <th></th>\n",
       "      <th></th>\n",
       "      <th></th>\n",
       "      <th></th>\n",
       "      <th></th>\n",
       "      <th></th>\n",
       "      <th></th>\n",
       "      <th></th>\n",
       "      <th></th>\n",
       "      <th></th>\n",
       "      <th></th>\n",
       "      <th></th>\n",
       "      <th></th>\n",
       "      <th></th>\n",
       "      <th></th>\n",
       "      <th></th>\n",
       "      <th></th>\n",
       "      <th></th>\n",
       "    </tr>\n",
       "  </thead>\n",
       "  <tbody>\n",
       "    <tr>\n",
       "      <th>2013-10-03 15:47:00</th>\n",
       "      <td>surrender</td>\n",
       "      <td>normal</td>\n",
       "      <td>16.0</td>\n",
       "      <td>dachshund</td>\n",
       "      <td>adoption</td>\n",
       "      <td>16.0</td>\n",
       "      <td>1</td>\n",
       "      <td>0</td>\n",
       "      <td>Senior</td>\n",
       "      <td>black</td>\n",
       "      <td>...</td>\n",
       "      <td>0.500</td>\n",
       "      <td>26.0</td>\n",
       "      <td>40.0</td>\n",
       "      <td>7.0</td>\n",
       "      <td>10.0</td>\n",
       "      <td>16.0</td>\n",
       "      <td>32.0</td>\n",
       "      <td>49</td>\n",
       "      <td>2013-10-03</td>\n",
       "      <td>10</td>\n",
       "    </tr>\n",
       "    <tr>\n",
       "      <th>2015-02-17 13:17:00</th>\n",
       "      <td>surrender</td>\n",
       "      <td>injured</td>\n",
       "      <td>14.0</td>\n",
       "      <td>border collie</td>\n",
       "      <td>euthanasia</td>\n",
       "      <td>14.0</td>\n",
       "      <td>1</td>\n",
       "      <td>0</td>\n",
       "      <td>Senior</td>\n",
       "      <td>black</td>\n",
       "      <td>...</td>\n",
       "      <td>0.950</td>\n",
       "      <td>1.0</td>\n",
       "      <td>4.0</td>\n",
       "      <td>19.0</td>\n",
       "      <td>21.0</td>\n",
       "      <td>40.0</td>\n",
       "      <td>40.0</td>\n",
       "      <td>0</td>\n",
       "      <td>2015-02-17</td>\n",
       "      <td>2</td>\n",
       "    </tr>\n",
       "    <tr>\n",
       "      <th>2016-09-28 12:05:00</th>\n",
       "      <td>public_assist</td>\n",
       "      <td>aged</td>\n",
       "      <td>17.0</td>\n",
       "      <td>chihuahua</td>\n",
       "      <td>adoption</td>\n",
       "      <td>17.0</td>\n",
       "      <td>1</td>\n",
       "      <td>0</td>\n",
       "      <td>Senior</td>\n",
       "      <td>tan</td>\n",
       "      <td>...</td>\n",
       "      <td>0.300</td>\n",
       "      <td>41.0</td>\n",
       "      <td>80.0</td>\n",
       "      <td>6.0</td>\n",
       "      <td>9.0</td>\n",
       "      <td>2.0</td>\n",
       "      <td>5.0</td>\n",
       "      <td>9</td>\n",
       "      <td>2016-09-28</td>\n",
       "      <td>9</td>\n",
       "    </tr>\n",
       "    <tr>\n",
       "      <th>2015-04-28 15:08:00</th>\n",
       "      <td>stray</td>\n",
       "      <td>injured</td>\n",
       "      <td>16.0</td>\n",
       "      <td>pit bull</td>\n",
       "      <td>euthanasia</td>\n",
       "      <td>16.0</td>\n",
       "      <td>0</td>\n",
       "      <td>0</td>\n",
       "      <td>Senior</td>\n",
       "      <td>brown</td>\n",
       "      <td>...</td>\n",
       "      <td>0.700</td>\n",
       "      <td>16.0</td>\n",
       "      <td>25.0</td>\n",
       "      <td>17.0</td>\n",
       "      <td>19.0</td>\n",
       "      <td>40.0</td>\n",
       "      <td>50.0</td>\n",
       "      <td>0</td>\n",
       "      <td>2015-04-28</td>\n",
       "      <td>4</td>\n",
       "    </tr>\n",
       "    <tr>\n",
       "      <th>2015-10-06 12:29:00</th>\n",
       "      <td>stray</td>\n",
       "      <td>normal</td>\n",
       "      <td>15.0</td>\n",
       "      <td>labrador retriever/beagle</td>\n",
       "      <td>adoption</td>\n",
       "      <td>15.0</td>\n",
       "      <td>1</td>\n",
       "      <td>0</td>\n",
       "      <td>Senior</td>\n",
       "      <td>sable</td>\n",
       "      <td>...</td>\n",
       "      <td>0.525</td>\n",
       "      <td>41.0</td>\n",
       "      <td>52.0</td>\n",
       "      <td>17.0</td>\n",
       "      <td>20.0</td>\n",
       "      <td>36.5</td>\n",
       "      <td>55.0</td>\n",
       "      <td>23</td>\n",
       "      <td>2015-10-06</td>\n",
       "      <td>10</td>\n",
       "    </tr>\n",
       "    <tr>\n",
       "      <th>...</th>\n",
       "      <td>...</td>\n",
       "      <td>...</td>\n",
       "      <td>...</td>\n",
       "      <td>...</td>\n",
       "      <td>...</td>\n",
       "      <td>...</td>\n",
       "      <td>...</td>\n",
       "      <td>...</td>\n",
       "      <td>...</td>\n",
       "      <td>...</td>\n",
       "      <td>...</td>\n",
       "      <td>...</td>\n",
       "      <td>...</td>\n",
       "      <td>...</td>\n",
       "      <td>...</td>\n",
       "      <td>...</td>\n",
       "      <td>...</td>\n",
       "      <td>...</td>\n",
       "      <td>...</td>\n",
       "      <td>...</td>\n",
       "      <td>...</td>\n",
       "    </tr>\n",
       "    <tr>\n",
       "      <th>2022-02-02 06:59:00</th>\n",
       "      <td>abandoned</td>\n",
       "      <td>normal</td>\n",
       "      <td>0.0</td>\n",
       "      <td>siberian husky</td>\n",
       "      <td>adoption</td>\n",
       "      <td>0.0</td>\n",
       "      <td>0</td>\n",
       "      <td>0</td>\n",
       "      <td>Baby</td>\n",
       "      <td>black</td>\n",
       "      <td>...</td>\n",
       "      <td>0.500</td>\n",
       "      <td>26.0</td>\n",
       "      <td>40.0</td>\n",
       "      <td>20.0</td>\n",
       "      <td>23.0</td>\n",
       "      <td>40.0</td>\n",
       "      <td>60.0</td>\n",
       "      <td>7</td>\n",
       "      <td>2022-02-02</td>\n",
       "      <td>2</td>\n",
       "    </tr>\n",
       "    <tr>\n",
       "      <th>2022-02-02 15:49:00</th>\n",
       "      <td>abandoned</td>\n",
       "      <td>normal</td>\n",
       "      <td>0.0</td>\n",
       "      <td>australian cattle dog</td>\n",
       "      <td>adoption</td>\n",
       "      <td>0.0</td>\n",
       "      <td>0</td>\n",
       "      <td>0</td>\n",
       "      <td>Baby</td>\n",
       "      <td>brown</td>\n",
       "      <td>...</td>\n",
       "      <td>0.950</td>\n",
       "      <td>1.0</td>\n",
       "      <td>4.0</td>\n",
       "      <td>17.0</td>\n",
       "      <td>20.0</td>\n",
       "      <td>35.0</td>\n",
       "      <td>45.0</td>\n",
       "      <td>6</td>\n",
       "      <td>2022-02-02</td>\n",
       "      <td>2</td>\n",
       "    </tr>\n",
       "    <tr>\n",
       "      <th>2022-02-02 15:49:00</th>\n",
       "      <td>abandoned</td>\n",
       "      <td>normal</td>\n",
       "      <td>0.0</td>\n",
       "      <td>australian cattle dog</td>\n",
       "      <td>adoption</td>\n",
       "      <td>0.0</td>\n",
       "      <td>0</td>\n",
       "      <td>0</td>\n",
       "      <td>Baby</td>\n",
       "      <td>brown</td>\n",
       "      <td>...</td>\n",
       "      <td>0.950</td>\n",
       "      <td>1.0</td>\n",
       "      <td>4.0</td>\n",
       "      <td>17.0</td>\n",
       "      <td>20.0</td>\n",
       "      <td>35.0</td>\n",
       "      <td>45.0</td>\n",
       "      <td>7</td>\n",
       "      <td>2022-02-02</td>\n",
       "      <td>2</td>\n",
       "    </tr>\n",
       "    <tr>\n",
       "      <th>2022-02-02 15:49:00</th>\n",
       "      <td>abandoned</td>\n",
       "      <td>normal</td>\n",
       "      <td>0.0</td>\n",
       "      <td>pit bull</td>\n",
       "      <td>adoption</td>\n",
       "      <td>0.0</td>\n",
       "      <td>0</td>\n",
       "      <td>0</td>\n",
       "      <td>Baby</td>\n",
       "      <td>white</td>\n",
       "      <td>...</td>\n",
       "      <td>0.700</td>\n",
       "      <td>16.0</td>\n",
       "      <td>25.0</td>\n",
       "      <td>17.0</td>\n",
       "      <td>19.0</td>\n",
       "      <td>40.0</td>\n",
       "      <td>50.0</td>\n",
       "      <td>7</td>\n",
       "      <td>2022-02-02</td>\n",
       "      <td>2</td>\n",
       "    </tr>\n",
       "    <tr>\n",
       "      <th>2022-02-08 15:36:00</th>\n",
       "      <td>surrender</td>\n",
       "      <td>normal</td>\n",
       "      <td>0.0</td>\n",
       "      <td>pit bull</td>\n",
       "      <td>adoption</td>\n",
       "      <td>0.0</td>\n",
       "      <td>0</td>\n",
       "      <td>0</td>\n",
       "      <td>Baby</td>\n",
       "      <td>brown</td>\n",
       "      <td>...</td>\n",
       "      <td>0.700</td>\n",
       "      <td>16.0</td>\n",
       "      <td>25.0</td>\n",
       "      <td>17.0</td>\n",
       "      <td>19.0</td>\n",
       "      <td>40.0</td>\n",
       "      <td>50.0</td>\n",
       "      <td>1</td>\n",
       "      <td>2022-02-08</td>\n",
       "      <td>2</td>\n",
       "    </tr>\n",
       "  </tbody>\n",
       "</table>\n",
       "<p>21222 rows × 24 columns</p>\n",
       "</div>"
      ],
      "text/plain": [
       "                       intake_type condition  age_in  \\\n",
       "date_in                                                \n",
       "2013-10-03 15:47:00      surrender    normal    16.0   \n",
       "2015-02-17 13:17:00      surrender   injured    14.0   \n",
       "2016-09-28 12:05:00  public_assist      aged    17.0   \n",
       "2015-04-28 15:08:00          stray   injured    16.0   \n",
       "2015-10-06 12:29:00          stray    normal    15.0   \n",
       "...                            ...       ...     ...   \n",
       "2022-02-02 06:59:00      abandoned    normal     0.0   \n",
       "2022-02-02 15:49:00      abandoned    normal     0.0   \n",
       "2022-02-02 15:49:00      abandoned    normal     0.0   \n",
       "2022-02-02 15:49:00      abandoned    normal     0.0   \n",
       "2022-02-08 15:36:00      surrender    normal     0.0   \n",
       "\n",
       "                                         breed     outcome  age_out  sex  \\\n",
       "date_in                                                                    \n",
       "2013-10-03 15:47:00                  dachshund    adoption     16.0    1   \n",
       "2015-02-17 13:17:00              border collie  euthanasia     14.0    1   \n",
       "2016-09-28 12:05:00                  chihuahua    adoption     17.0    1   \n",
       "2015-04-28 15:08:00                   pit bull  euthanasia     16.0    0   \n",
       "2015-10-06 12:29:00  labrador retriever/beagle    adoption     15.0    1   \n",
       "...                                        ...         ...      ...  ...   \n",
       "2022-02-02 06:59:00             siberian husky    adoption      0.0    0   \n",
       "2022-02-02 15:49:00      australian cattle dog    adoption      0.0    0   \n",
       "2022-02-02 15:49:00      australian cattle dog    adoption      0.0    0   \n",
       "2022-02-02 15:49:00                   pit bull    adoption      0.0    0   \n",
       "2022-02-08 15:36:00                   pit bull    adoption      0.0    0   \n",
       "\n",
       "                     intact_out     age primary_color  ...   obey reps_lower  \\\n",
       "date_in                                                ...                     \n",
       "2013-10-03 15:47:00           0  Senior         black  ...  0.500       26.0   \n",
       "2015-02-17 13:17:00           0  Senior         black  ...  0.950        1.0   \n",
       "2016-09-28 12:05:00           0  Senior           tan  ...  0.300       41.0   \n",
       "2015-04-28 15:08:00           0  Senior         brown  ...  0.700       16.0   \n",
       "2015-10-06 12:29:00           0  Senior         sable  ...  0.525       41.0   \n",
       "...                         ...     ...           ...  ...    ...        ...   \n",
       "2022-02-02 06:59:00           0    Baby         black  ...  0.500       26.0   \n",
       "2022-02-02 15:49:00           0    Baby         brown  ...  0.950        1.0   \n",
       "2022-02-02 15:49:00           0    Baby         brown  ...  0.950        1.0   \n",
       "2022-02-02 15:49:00           0    Baby         white  ...  0.700       16.0   \n",
       "2022-02-08 15:36:00           0    Baby         brown  ...  0.700       16.0   \n",
       "\n",
       "                    reps_upper  height_low_inches  height_high_inches  \\\n",
       "date_in                                                                 \n",
       "2013-10-03 15:47:00       40.0                7.0                10.0   \n",
       "2015-02-17 13:17:00        4.0               19.0                21.0   \n",
       "2016-09-28 12:05:00       80.0                6.0                 9.0   \n",
       "2015-04-28 15:08:00       25.0               17.0                19.0   \n",
       "2015-10-06 12:29:00       52.0               17.0                20.0   \n",
       "...                        ...                ...                 ...   \n",
       "2022-02-02 06:59:00       40.0               20.0                23.0   \n",
       "2022-02-02 15:49:00        4.0               17.0                20.0   \n",
       "2022-02-02 15:49:00        4.0               17.0                20.0   \n",
       "2022-02-02 15:49:00       25.0               17.0                19.0   \n",
       "2022-02-08 15:36:00       25.0               17.0                19.0   \n",
       "\n",
       "                     weight_low_lbs  weight_high_lbs  time_in_shelter  \\\n",
       "date_in                                                                 \n",
       "2013-10-03 15:47:00            16.0             32.0               49   \n",
       "2015-02-17 13:17:00            40.0             40.0                0   \n",
       "2016-09-28 12:05:00             2.0              5.0                9   \n",
       "2015-04-28 15:08:00            40.0             50.0                0   \n",
       "2015-10-06 12:29:00            36.5             55.0               23   \n",
       "...                             ...              ...              ...   \n",
       "2022-02-02 06:59:00            40.0             60.0                7   \n",
       "2022-02-02 15:49:00            35.0             45.0                6   \n",
       "2022-02-02 15:49:00            35.0             45.0                7   \n",
       "2022-02-02 15:49:00            40.0             50.0                7   \n",
       "2022-02-08 15:36:00            40.0             50.0                1   \n",
       "\n",
       "                           date  month  \n",
       "date_in                                 \n",
       "2013-10-03 15:47:00  2013-10-03     10  \n",
       "2015-02-17 13:17:00  2015-02-17      2  \n",
       "2016-09-28 12:05:00  2016-09-28      9  \n",
       "2015-04-28 15:08:00  2015-04-28      4  \n",
       "2015-10-06 12:29:00  2015-10-06     10  \n",
       "...                         ...    ...  \n",
       "2022-02-02 06:59:00  2022-02-02      2  \n",
       "2022-02-02 15:49:00  2022-02-02      2  \n",
       "2022-02-02 15:49:00  2022-02-02      2  \n",
       "2022-02-02 15:49:00  2022-02-02      2  \n",
       "2022-02-08 15:36:00  2022-02-08      2  \n",
       "\n",
       "[21222 rows x 24 columns]"
      ]
     },
     "execution_count": 256,
     "metadata": {},
     "output_type": "execute_result"
    }
   ],
   "source": [
    "data[data['breed_1'].isin(common_breeds)]"
   ]
  },
  {
   "cell_type": "markdown",
   "metadata": {},
   "source": [
    "Least common breeds"
   ]
  },
  {
   "cell_type": "code",
   "execution_count": 257,
   "metadata": {},
   "outputs": [
    {
     "data": {
      "text/plain": [
       "ibizan hound                   6\n",
       "chinese crested                5\n",
       "field spaniel                  5\n",
       "keeshond                       4\n",
       "irish wolfhound                4\n",
       "samoyed                        3\n",
       "clumber spaniel                3\n",
       "kuvasz                         3\n",
       "german pinscher                3\n",
       "wirehaired pointing griffon    3\n",
       "skye terrier                   3\n",
       "belgian sheepdog               3\n",
       "welsh springer spaniel         3\n",
       "english setter                 3\n",
       "saluki                         2\n",
       "borzoi                         2\n",
       "gordon setter                  2\n",
       "lakeland terrier               2\n",
       "irish setter                   2\n",
       "english springer spaniel       1\n",
       "japanese chin                  1\n",
       "belgian tervuren               1\n",
       "norwegian elkhound             1\n",
       "otterhound                     1\n",
       "old english sheepdog           1\n",
       "Name: breed_2, dtype: int64"
      ]
     },
     "execution_count": 257,
     "metadata": {},
     "output_type": "execute_result"
    }
   ],
   "source": [
    "data['breed_2'].value_counts().tail(25)"
   ]
  },
  {
   "cell_type": "code",
   "execution_count": 258,
   "metadata": {},
   "outputs": [
    {
     "data": {
      "text/plain": [
       "19.341495150224745"
      ]
     },
     "execution_count": 258,
     "metadata": {},
     "output_type": "execute_result"
    }
   ],
   "source": [
    "data['time_in_shelter'].mean()"
   ]
  },
  {
   "cell_type": "markdown",
   "metadata": {},
   "source": [
    "Set time cutoffs"
   ]
  },
  {
   "cell_type": "code",
   "execution_count": 259,
   "metadata": {},
   "outputs": [],
   "source": [
    "data['at_risk'] = np.where(data['time_in_shelter'] > 20, 1, 0)"
   ]
  },
  {
   "cell_type": "code",
   "execution_count": 260,
   "metadata": {},
   "outputs": [
    {
     "data": {
      "text/plain": [
       "0    0.752583\n",
       "1    0.247417\n",
       "Name: at_risk, dtype: float64"
      ]
     },
     "execution_count": 260,
     "metadata": {},
     "output_type": "execute_result"
    }
   ],
   "source": [
    "data['at_risk'].value_counts(normalize=True)"
   ]
  },
  {
   "cell_type": "code",
   "execution_count": 261,
   "metadata": {},
   "outputs": [
    {
     "data": {
      "text/plain": [
       "1    0.540995\n",
       "0    0.459005\n",
       "Name: at_risk, dtype: float64"
      ]
     },
     "execution_count": 261,
     "metadata": {},
     "output_type": "execute_result"
    }
   ],
   "source": [
    "data[data['time_in_shelter'] > 7]['at_risk'].value_counts(normalize=True)"
   ]
  },
  {
   "cell_type": "markdown",
   "metadata": {},
   "source": [
    "We get a pretty clean balanced dataset to model by setting our cutoff above 7 days in the shelter and under 20. Minumum time is to allow for transfers and return to owner dogs to get processed. Hopefully we can bring exposure to the top 50% of dogs expected to spend the most amount of time in the shelter to help reduce the strain on shelters."
   ]
  },
  {
   "cell_type": "markdown",
   "metadata": {},
   "source": [
    "## Final Clean for export"
   ]
  },
  {
   "cell_type": "code",
   "execution_count": 262,
   "metadata": {},
   "outputs": [],
   "source": [
    "data = data[data['time_in_shelter'] > 7].copy()"
   ]
  },
  {
   "cell_type": "code",
   "execution_count": 263,
   "metadata": {},
   "outputs": [],
   "source": [
    "data = data[\n",
    "        (data['intake_type'] != 'euth_request')                                         &\n",
    "        (~data['outcome'].isin(['return_owner', 'missing', 'disposal', 'transfer']))    &\n",
    "        (data['condition'] != 'neonatal')\n",
    "]"
   ]
  },
  {
   "cell_type": "code",
   "execution_count": 264,
   "metadata": {},
   "outputs": [],
   "source": [
    "data.loc[data['condition'] == 'pregnant', 'cond'] = 'nursing'\n",
    "data.loc[data['condition'] == 'medical', 'cond'] = 'injured'\n",
    "data.loc[data['condition'] == 'sick', 'cond'] = 'injured'\n",
    "data['age'] = data['age'].str.lower()"
   ]
  },
  {
   "cell_type": "markdown",
   "metadata": {},
   "source": [
    "# Export Model Data"
   ]
  },
  {
   "cell_type": "code",
   "execution_count": 267,
   "metadata": {},
   "outputs": [],
   "source": [
    "data.to_csv('./datasets/working_data/model_data_full.csv', index=False)"
   ]
  },
  {
   "cell_type": "markdown",
   "metadata": {},
   "source": [
    "[Run Next](https://github.com/gwoodstock/gooddogs/blob/main/6_models_regression.ipynb): Regression Models."
   ]
  }
 ],
 "metadata": {
  "interpreter": {
   "hash": "6aaf12f00e2accd7ab3a69f0361120d5b81b11b109d190d2913220c8ee37ccf8"
  },
  "kernelspec": {
   "display_name": "Python 3.9.7 ('base')",
   "language": "python",
   "name": "python3"
  },
  "language_info": {
   "codemirror_mode": {
    "name": "ipython",
    "version": 3
   },
   "file_extension": ".py",
   "mimetype": "text/x-python",
   "name": "python",
   "nbconvert_exporter": "python",
   "pygments_lexer": "ipython3",
   "version": "3.9.7"
  },
  "orig_nbformat": 4
 },
 "nbformat": 4,
 "nbformat_minor": 2
}
