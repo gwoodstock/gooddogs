{
 "cells": [
  {
   "cell_type": "markdown",
   "metadata": {},
   "source": [
    "# Import Libraries"
   ]
  },
  {
   "cell_type": "code",
   "execution_count": 138,
   "metadata": {},
   "outputs": [],
   "source": [
    "# Import our libraries.\n",
    "import pandas as pd\n",
    "import numpy as np\n",
    "import matplotlib.pyplot as plt\n",
    "import seaborn as sns\n",
    "\n",
    "# Import from sklearn.\n",
    "from sklearn.model_selection import train_test_split\n",
    "from sklearn.linear_model import LinearRegression\n",
    "from sklearn.preprocessing import PolynomialFeatures, StandardScaler\n",
    "\n",
    "# PCA\n",
    "from sklearn.decomposition import PCA\n"
   ]
  },
  {
   "cell_type": "markdown",
   "metadata": {},
   "source": [
    "# Helper Functions"
   ]
  },
  {
   "cell_type": "code",
   "execution_count": 139,
   "metadata": {},
   "outputs": [],
   "source": [
    "def quick_look(x):\n",
    "    print(data[x].value_counts())\n",
    "    print(f'\\nMissing Values: {data[x].isna().sum()}')"
   ]
  },
  {
   "cell_type": "markdown",
   "metadata": {},
   "source": [
    "# Import Data"
   ]
  },
  {
   "cell_type": "code",
   "execution_count": 140,
   "metadata": {},
   "outputs": [],
   "source": [
    "data = pd.read_csv('./datasets/working_data/austin_clean_breed_stats.csv')"
   ]
  },
  {
   "cell_type": "code",
   "execution_count": 141,
   "metadata": {},
   "outputs": [
    {
     "data": {
      "text/html": [
       "<div>\n",
       "<style scoped>\n",
       "    .dataframe tbody tr th:only-of-type {\n",
       "        vertical-align: middle;\n",
       "    }\n",
       "\n",
       "    .dataframe tbody tr th {\n",
       "        vertical-align: top;\n",
       "    }\n",
       "\n",
       "    .dataframe thead th {\n",
       "        text-align: right;\n",
       "    }\n",
       "</style>\n",
       "<table border=\"1\" class=\"dataframe\">\n",
       "  <thead>\n",
       "    <tr style=\"text-align: right;\">\n",
       "      <th></th>\n",
       "      <th>id</th>\n",
       "      <th>name</th>\n",
       "      <th>date_in</th>\n",
       "      <th>location</th>\n",
       "      <th>intake_type</th>\n",
       "      <th>condition</th>\n",
       "      <th>age_in</th>\n",
       "      <th>breed</th>\n",
       "      <th>color</th>\n",
       "      <th>date_out</th>\n",
       "      <th>...</th>\n",
       "      <th>breed_2</th>\n",
       "      <th>pure</th>\n",
       "      <th>obey</th>\n",
       "      <th>reps_lower</th>\n",
       "      <th>reps_upper</th>\n",
       "      <th>height_low_inches</th>\n",
       "      <th>height_high_inches</th>\n",
       "      <th>weight_low_lbs</th>\n",
       "      <th>weight_high_lbs</th>\n",
       "      <th>time_in_shelter</th>\n",
       "    </tr>\n",
       "  </thead>\n",
       "  <tbody>\n",
       "    <tr>\n",
       "      <th>0</th>\n",
       "      <td>A047759</td>\n",
       "      <td>Oreo</td>\n",
       "      <td>2014-04-02 15:55:00</td>\n",
       "      <td>Austin (TX)</td>\n",
       "      <td>surrender</td>\n",
       "      <td>normal</td>\n",
       "      <td>10.0</td>\n",
       "      <td>dachshund</td>\n",
       "      <td>Tricolor</td>\n",
       "      <td>2014-04-07 15:12:00</td>\n",
       "      <td>...</td>\n",
       "      <td>dachshund</td>\n",
       "      <td>1.0</td>\n",
       "      <td>0.500</td>\n",
       "      <td>26.0</td>\n",
       "      <td>40.0</td>\n",
       "      <td>7.000000</td>\n",
       "      <td>10.000000</td>\n",
       "      <td>16.000000</td>\n",
       "      <td>32.000000</td>\n",
       "      <td>4 days 23:17:00</td>\n",
       "    </tr>\n",
       "    <tr>\n",
       "      <th>1</th>\n",
       "      <td>A134067</td>\n",
       "      <td>Bandit</td>\n",
       "      <td>2013-11-16 09:02:00</td>\n",
       "      <td>12034 Research Blvd in Austin (TX)</td>\n",
       "      <td>public_assist</td>\n",
       "      <td>injured</td>\n",
       "      <td>16.0</td>\n",
       "      <td>shetland sheepdog</td>\n",
       "      <td>Brown/White</td>\n",
       "      <td>2013-11-16 11:54:00</td>\n",
       "      <td>...</td>\n",
       "      <td>shetland sheepdog</td>\n",
       "      <td>1.0</td>\n",
       "      <td>0.950</td>\n",
       "      <td>1.0</td>\n",
       "      <td>4.0</td>\n",
       "      <td>17.941176</td>\n",
       "      <td>20.908497</td>\n",
       "      <td>42.934641</td>\n",
       "      <td>57.522876</td>\n",
       "      <td>0 days 02:52:00</td>\n",
       "    </tr>\n",
       "    <tr>\n",
       "      <th>2</th>\n",
       "      <td>A141142</td>\n",
       "      <td>Bettie</td>\n",
       "      <td>2013-11-16 14:46:00</td>\n",
       "      <td>Austin (TX)</td>\n",
       "      <td>stray</td>\n",
       "      <td>aged</td>\n",
       "      <td>15.0</td>\n",
       "      <td>labrador retriever/pit bull</td>\n",
       "      <td>Black/White</td>\n",
       "      <td>2013-11-17 11:40:00</td>\n",
       "      <td>...</td>\n",
       "      <td>pit bull</td>\n",
       "      <td>0.0</td>\n",
       "      <td>0.825</td>\n",
       "      <td>8.5</td>\n",
       "      <td>14.5</td>\n",
       "      <td>19.000000</td>\n",
       "      <td>21.500000</td>\n",
       "      <td>47.500000</td>\n",
       "      <td>65.000000</td>\n",
       "      <td>0 days 20:54:00</td>\n",
       "    </tr>\n",
       "    <tr>\n",
       "      <th>3</th>\n",
       "      <td>A163459</td>\n",
       "      <td>Sasha</td>\n",
       "      <td>2014-11-14 15:11:00</td>\n",
       "      <td>Ih 35 And 41St St in Austin (TX)</td>\n",
       "      <td>stray</td>\n",
       "      <td>normal</td>\n",
       "      <td>15.0</td>\n",
       "      <td>miniature schnauzer</td>\n",
       "      <td>Black/Gray</td>\n",
       "      <td>2014-11-14 19:28:00</td>\n",
       "      <td>...</td>\n",
       "      <td>miniature schnauzer</td>\n",
       "      <td>1.0</td>\n",
       "      <td>0.850</td>\n",
       "      <td>5.0</td>\n",
       "      <td>15.0</td>\n",
       "      <td>17.941176</td>\n",
       "      <td>20.908497</td>\n",
       "      <td>42.934641</td>\n",
       "      <td>57.522876</td>\n",
       "      <td>0 days 04:17:00</td>\n",
       "    </tr>\n",
       "    <tr>\n",
       "      <th>4</th>\n",
       "      <td>A165752</td>\n",
       "      <td>Pep</td>\n",
       "      <td>2014-09-15 11:28:00</td>\n",
       "      <td>Gatlin Gun Rd And Brodie in Austin (TX)</td>\n",
       "      <td>stray</td>\n",
       "      <td>normal</td>\n",
       "      <td>15.0</td>\n",
       "      <td>lhasa apso</td>\n",
       "      <td>Brown/White</td>\n",
       "      <td>2014-09-15 16:35:00</td>\n",
       "      <td>...</td>\n",
       "      <td>lhasa apso</td>\n",
       "      <td>1.0</td>\n",
       "      <td>0.300</td>\n",
       "      <td>41.0</td>\n",
       "      <td>80.0</td>\n",
       "      <td>17.941176</td>\n",
       "      <td>20.908497</td>\n",
       "      <td>42.934641</td>\n",
       "      <td>57.522876</td>\n",
       "      <td>0 days 05:07:00</td>\n",
       "    </tr>\n",
       "  </tbody>\n",
       "</table>\n",
       "<p>5 rows × 30 columns</p>\n",
       "</div>"
      ],
      "text/plain": [
       "        id    name              date_in  \\\n",
       "0  A047759    Oreo  2014-04-02 15:55:00   \n",
       "1  A134067  Bandit  2013-11-16 09:02:00   \n",
       "2  A141142  Bettie  2013-11-16 14:46:00   \n",
       "3  A163459   Sasha  2014-11-14 15:11:00   \n",
       "4  A165752     Pep  2014-09-15 11:28:00   \n",
       "\n",
       "                                  location    intake_type condition  age_in  \\\n",
       "0                              Austin (TX)      surrender    normal    10.0   \n",
       "1       12034 Research Blvd in Austin (TX)  public_assist   injured    16.0   \n",
       "2                              Austin (TX)          stray      aged    15.0   \n",
       "3         Ih 35 And 41St St in Austin (TX)          stray    normal    15.0   \n",
       "4  Gatlin Gun Rd And Brodie in Austin (TX)          stray    normal    15.0   \n",
       "\n",
       "                         breed        color             date_out  ...  \\\n",
       "0                    dachshund     Tricolor  2014-04-07 15:12:00  ...   \n",
       "1            shetland sheepdog  Brown/White  2013-11-16 11:54:00  ...   \n",
       "2  labrador retriever/pit bull  Black/White  2013-11-17 11:40:00  ...   \n",
       "3          miniature schnauzer   Black/Gray  2014-11-14 19:28:00  ...   \n",
       "4                   lhasa apso  Brown/White  2014-09-15 16:35:00  ...   \n",
       "\n",
       "               breed_2 pure   obey  reps_lower  reps_upper  height_low_inches  \\\n",
       "0            dachshund  1.0  0.500        26.0        40.0           7.000000   \n",
       "1    shetland sheepdog  1.0  0.950         1.0         4.0          17.941176   \n",
       "2             pit bull  0.0  0.825         8.5        14.5          19.000000   \n",
       "3  miniature schnauzer  1.0  0.850         5.0        15.0          17.941176   \n",
       "4           lhasa apso  1.0  0.300        41.0        80.0          17.941176   \n",
       "\n",
       "  height_high_inches weight_low_lbs weight_high_lbs  time_in_shelter  \n",
       "0          10.000000      16.000000       32.000000  4 days 23:17:00  \n",
       "1          20.908497      42.934641       57.522876  0 days 02:52:00  \n",
       "2          21.500000      47.500000       65.000000  0 days 20:54:00  \n",
       "3          20.908497      42.934641       57.522876  0 days 04:17:00  \n",
       "4          20.908497      42.934641       57.522876  0 days 05:07:00  \n",
       "\n",
       "[5 rows x 30 columns]"
      ]
     },
     "execution_count": 141,
     "metadata": {},
     "output_type": "execute_result"
    }
   ],
   "source": [
    "data.head()"
   ]
  },
  {
   "cell_type": "code",
   "execution_count": 142,
   "metadata": {},
   "outputs": [
    {
     "data": {
      "text/plain": [
       "Index(['id', 'name', 'date_in', 'location', 'intake_type', 'condition',\n",
       "       'age_in', 'breed', 'color', 'date_out', 'dob', 'outcome', 'age_out',\n",
       "       'sex', 'intact_in', 'intact_out', 'age', 'primary_color',\n",
       "       'secondary_color', 'breed_1', 'breed_2', 'pure', 'obey', 'reps_lower',\n",
       "       'reps_upper', 'height_low_inches', 'height_high_inches',\n",
       "       'weight_low_lbs', 'weight_high_lbs', 'time_in_shelter'],\n",
       "      dtype='object')"
      ]
     },
     "execution_count": 142,
     "metadata": {},
     "output_type": "execute_result"
    }
   ],
   "source": [
    "data.columns"
   ]
  },
  {
   "cell_type": "code",
   "execution_count": 143,
   "metadata": {},
   "outputs": [],
   "source": [
    "data.drop(columns=['id', 'name', 'date_in', 'location', 'color', 'date_out', 'dob', 'intact_in'], inplace=True)"
   ]
  },
  {
   "cell_type": "code",
   "execution_count": 144,
   "metadata": {},
   "outputs": [],
   "source": [
    "data['time_in_shelter'] = pd.to_timedelta(data['time_in_shelter'])\n",
    "data['time_in_shelter'] = data['time_in_shelter'].dt.days"
   ]
  },
  {
   "cell_type": "code",
   "execution_count": 145,
   "metadata": {},
   "outputs": [
    {
     "data": {
      "text/plain": [
       "16.30482792582912"
      ]
     },
     "execution_count": 145,
     "metadata": {},
     "output_type": "execute_result"
    }
   ],
   "source": [
    "data['time_in_shelter'].mean()"
   ]
  },
  {
   "cell_type": "code",
   "execution_count": 146,
   "metadata": {},
   "outputs": [
    {
     "data": {
      "text/html": [
       "<div>\n",
       "<style scoped>\n",
       "    .dataframe tbody tr th:only-of-type {\n",
       "        vertical-align: middle;\n",
       "    }\n",
       "\n",
       "    .dataframe tbody tr th {\n",
       "        vertical-align: top;\n",
       "    }\n",
       "\n",
       "    .dataframe thead th {\n",
       "        text-align: right;\n",
       "    }\n",
       "</style>\n",
       "<table border=\"1\" class=\"dataframe\">\n",
       "  <thead>\n",
       "    <tr style=\"text-align: right;\">\n",
       "      <th></th>\n",
       "      <th>intake_type</th>\n",
       "      <th>condition</th>\n",
       "      <th>age_in</th>\n",
       "      <th>breed</th>\n",
       "      <th>outcome</th>\n",
       "      <th>age_out</th>\n",
       "      <th>sex</th>\n",
       "      <th>intact_out</th>\n",
       "      <th>age</th>\n",
       "      <th>primary_color</th>\n",
       "      <th>...</th>\n",
       "      <th>breed_2</th>\n",
       "      <th>pure</th>\n",
       "      <th>obey</th>\n",
       "      <th>reps_lower</th>\n",
       "      <th>reps_upper</th>\n",
       "      <th>height_low_inches</th>\n",
       "      <th>height_high_inches</th>\n",
       "      <th>weight_low_lbs</th>\n",
       "      <th>weight_high_lbs</th>\n",
       "      <th>time_in_shelter</th>\n",
       "    </tr>\n",
       "  </thead>\n",
       "  <tbody>\n",
       "    <tr>\n",
       "      <th>0</th>\n",
       "      <td>surrender</td>\n",
       "      <td>normal</td>\n",
       "      <td>10.0</td>\n",
       "      <td>dachshund</td>\n",
       "      <td>transfer</td>\n",
       "      <td>10.0</td>\n",
       "      <td>1</td>\n",
       "      <td>0</td>\n",
       "      <td>Senior</td>\n",
       "      <td>tricolor</td>\n",
       "      <td>...</td>\n",
       "      <td>dachshund</td>\n",
       "      <td>1.0</td>\n",
       "      <td>0.500</td>\n",
       "      <td>26.0</td>\n",
       "      <td>40.0</td>\n",
       "      <td>7.000000</td>\n",
       "      <td>10.000000</td>\n",
       "      <td>16.000000</td>\n",
       "      <td>32.000000</td>\n",
       "      <td>4</td>\n",
       "    </tr>\n",
       "    <tr>\n",
       "      <th>1</th>\n",
       "      <td>public_assist</td>\n",
       "      <td>injured</td>\n",
       "      <td>16.0</td>\n",
       "      <td>shetland sheepdog</td>\n",
       "      <td>return_owner</td>\n",
       "      <td>16.0</td>\n",
       "      <td>1</td>\n",
       "      <td>0</td>\n",
       "      <td>Senior</td>\n",
       "      <td>brown</td>\n",
       "      <td>...</td>\n",
       "      <td>shetland sheepdog</td>\n",
       "      <td>1.0</td>\n",
       "      <td>0.950</td>\n",
       "      <td>1.0</td>\n",
       "      <td>4.0</td>\n",
       "      <td>17.941176</td>\n",
       "      <td>20.908497</td>\n",
       "      <td>42.934641</td>\n",
       "      <td>57.522876</td>\n",
       "      <td>0</td>\n",
       "    </tr>\n",
       "    <tr>\n",
       "      <th>2</th>\n",
       "      <td>stray</td>\n",
       "      <td>aged</td>\n",
       "      <td>15.0</td>\n",
       "      <td>labrador retriever/pit bull</td>\n",
       "      <td>return_owner</td>\n",
       "      <td>15.0</td>\n",
       "      <td>0</td>\n",
       "      <td>0</td>\n",
       "      <td>Senior</td>\n",
       "      <td>black</td>\n",
       "      <td>...</td>\n",
       "      <td>pit bull</td>\n",
       "      <td>0.0</td>\n",
       "      <td>0.825</td>\n",
       "      <td>8.5</td>\n",
       "      <td>14.5</td>\n",
       "      <td>19.000000</td>\n",
       "      <td>21.500000</td>\n",
       "      <td>47.500000</td>\n",
       "      <td>65.000000</td>\n",
       "      <td>0</td>\n",
       "    </tr>\n",
       "    <tr>\n",
       "      <th>3</th>\n",
       "      <td>stray</td>\n",
       "      <td>normal</td>\n",
       "      <td>15.0</td>\n",
       "      <td>miniature schnauzer</td>\n",
       "      <td>return_owner</td>\n",
       "      <td>15.0</td>\n",
       "      <td>0</td>\n",
       "      <td>1</td>\n",
       "      <td>Senior</td>\n",
       "      <td>black</td>\n",
       "      <td>...</td>\n",
       "      <td>miniature schnauzer</td>\n",
       "      <td>1.0</td>\n",
       "      <td>0.850</td>\n",
       "      <td>5.0</td>\n",
       "      <td>15.0</td>\n",
       "      <td>17.941176</td>\n",
       "      <td>20.908497</td>\n",
       "      <td>42.934641</td>\n",
       "      <td>57.522876</td>\n",
       "      <td>0</td>\n",
       "    </tr>\n",
       "    <tr>\n",
       "      <th>4</th>\n",
       "      <td>stray</td>\n",
       "      <td>normal</td>\n",
       "      <td>15.0</td>\n",
       "      <td>lhasa apso</td>\n",
       "      <td>return_owner</td>\n",
       "      <td>15.0</td>\n",
       "      <td>1</td>\n",
       "      <td>0</td>\n",
       "      <td>Senior</td>\n",
       "      <td>brown</td>\n",
       "      <td>...</td>\n",
       "      <td>lhasa apso</td>\n",
       "      <td>1.0</td>\n",
       "      <td>0.300</td>\n",
       "      <td>41.0</td>\n",
       "      <td>80.0</td>\n",
       "      <td>17.941176</td>\n",
       "      <td>20.908497</td>\n",
       "      <td>42.934641</td>\n",
       "      <td>57.522876</td>\n",
       "      <td>0</td>\n",
       "    </tr>\n",
       "  </tbody>\n",
       "</table>\n",
       "<p>5 rows × 22 columns</p>\n",
       "</div>"
      ],
      "text/plain": [
       "     intake_type condition  age_in                        breed       outcome  \\\n",
       "0      surrender    normal    10.0                    dachshund      transfer   \n",
       "1  public_assist   injured    16.0            shetland sheepdog  return_owner   \n",
       "2          stray      aged    15.0  labrador retriever/pit bull  return_owner   \n",
       "3          stray    normal    15.0          miniature schnauzer  return_owner   \n",
       "4          stray    normal    15.0                   lhasa apso  return_owner   \n",
       "\n",
       "   age_out  sex  intact_out     age primary_color  ...              breed_2  \\\n",
       "0     10.0    1           0  Senior      tricolor  ...            dachshund   \n",
       "1     16.0    1           0  Senior         brown  ...    shetland sheepdog   \n",
       "2     15.0    0           0  Senior         black  ...             pit bull   \n",
       "3     15.0    0           1  Senior         black  ...  miniature schnauzer   \n",
       "4     15.0    1           0  Senior         brown  ...           lhasa apso   \n",
       "\n",
       "  pure   obey  reps_lower  reps_upper  height_low_inches  height_high_inches  \\\n",
       "0  1.0  0.500        26.0        40.0           7.000000           10.000000   \n",
       "1  1.0  0.950         1.0         4.0          17.941176           20.908497   \n",
       "2  0.0  0.825         8.5        14.5          19.000000           21.500000   \n",
       "3  1.0  0.850         5.0        15.0          17.941176           20.908497   \n",
       "4  1.0  0.300        41.0        80.0          17.941176           20.908497   \n",
       "\n",
       "   weight_low_lbs  weight_high_lbs  time_in_shelter  \n",
       "0       16.000000        32.000000                4  \n",
       "1       42.934641        57.522876                0  \n",
       "2       47.500000        65.000000                0  \n",
       "3       42.934641        57.522876                0  \n",
       "4       42.934641        57.522876                0  \n",
       "\n",
       "[5 rows x 22 columns]"
      ]
     },
     "execution_count": 146,
     "metadata": {},
     "output_type": "execute_result"
    }
   ],
   "source": [
    "data.head()"
   ]
  },
  {
   "cell_type": "code",
   "execution_count": 147,
   "metadata": {},
   "outputs": [
    {
     "data": {
      "text/plain": [
       "<AxesSubplot:>"
      ]
     },
     "execution_count": 147,
     "metadata": {},
     "output_type": "execute_result"
    },
    {
     "data": {
      "image/png": "[encoded data removed]",
      "text/plain": [
       "<Figure size 432x288 with 1 Axes>"
      ]
     },
     "metadata": {
      "needs_background": "light"
     },
     "output_type": "display_data"
    }
   ],
   "source": [
    "data['time_in_shelter'].hist(bins=5)"
   ]
  },
  {
   "cell_type": "code",
   "execution_count": 148,
   "metadata": {},
   "outputs": [
    {
     "data": {
      "image/png": "[encoded data removed]",
      "text/plain": [
       "<Figure size 432x288 with 1 Axes>"
      ]
     },
     "metadata": {
      "needs_background": "light"
     },
     "output_type": "display_data"
    }
   ],
   "source": [
    "plt.boxplot(x=data['time_in_shelter']);"
   ]
  },
  {
   "cell_type": "code",
   "execution_count": 149,
   "metadata": {},
   "outputs": [
    {
     "data": {
      "text/plain": [
       "<AxesSubplot:>"
      ]
     },
     "execution_count": 149,
     "metadata": {},
     "output_type": "execute_result"
    },
    {
     "data": {
      "image/png": "[encoded data removed]",
      "text/plain": [
       "<Figure size 432x288 with 1 Axes>"
      ]
     },
     "metadata": {
      "needs_background": "light"
     },
     "output_type": "display_data"
    }
   ],
   "source": [
    "data[data['time_in_shelter'] < 100]['time_in_shelter'].hist()"
   ]
  },
  {
   "cell_type": "code",
   "execution_count": 150,
   "metadata": {},
   "outputs": [
    {
     "data": {
      "text/html": [
       "<div>\n",
       "<style scoped>\n",
       "    .dataframe tbody tr th:only-of-type {\n",
       "        vertical-align: middle;\n",
       "    }\n",
       "\n",
       "    .dataframe tbody tr th {\n",
       "        vertical-align: top;\n",
       "    }\n",
       "\n",
       "    .dataframe thead th {\n",
       "        text-align: right;\n",
       "    }\n",
       "</style>\n",
       "<table border=\"1\" class=\"dataframe\">\n",
       "  <thead>\n",
       "    <tr style=\"text-align: right;\">\n",
       "      <th></th>\n",
       "      <th>intake_type</th>\n",
       "      <th>condition</th>\n",
       "      <th>breed</th>\n",
       "      <th>outcome</th>\n",
       "      <th>age_out</th>\n",
       "      <th>age</th>\n",
       "      <th>time_in_shelter</th>\n",
       "    </tr>\n",
       "  </thead>\n",
       "  <tbody>\n",
       "    <tr>\n",
       "      <th>1833</th>\n",
       "      <td>stray</td>\n",
       "      <td>injured</td>\n",
       "      <td>pit bull</td>\n",
       "      <td>adoption</td>\n",
       "      <td>11.0</td>\n",
       "      <td>Senior</td>\n",
       "      <td>1912</td>\n",
       "    </tr>\n",
       "    <tr>\n",
       "      <th>19465</th>\n",
       "      <td>surrender</td>\n",
       "      <td>normal</td>\n",
       "      <td>pit bull</td>\n",
       "      <td>adoption</td>\n",
       "      <td>5.0</td>\n",
       "      <td>Adult</td>\n",
       "      <td>1521</td>\n",
       "    </tr>\n",
       "    <tr>\n",
       "      <th>23211</th>\n",
       "      <td>stray</td>\n",
       "      <td>normal</td>\n",
       "      <td>labrador retriever</td>\n",
       "      <td>transfer</td>\n",
       "      <td>6.0</td>\n",
       "      <td>Adult</td>\n",
       "      <td>1351</td>\n",
       "    </tr>\n",
       "    <tr>\n",
       "      <th>34528</th>\n",
       "      <td>surrender</td>\n",
       "      <td>normal</td>\n",
       "      <td>pit bull</td>\n",
       "      <td>adoption</td>\n",
       "      <td>11.0</td>\n",
       "      <td>Senior</td>\n",
       "      <td>1195</td>\n",
       "    </tr>\n",
       "    <tr>\n",
       "      <th>32171</th>\n",
       "      <td>stray</td>\n",
       "      <td>normal</td>\n",
       "      <td>boxer</td>\n",
       "      <td>adoption</td>\n",
       "      <td>13.0</td>\n",
       "      <td>Senior</td>\n",
       "      <td>1167</td>\n",
       "    </tr>\n",
       "    <tr>\n",
       "      <th>...</th>\n",
       "      <td>...</td>\n",
       "      <td>...</td>\n",
       "      <td>...</td>\n",
       "      <td>...</td>\n",
       "      <td>...</td>\n",
       "      <td>...</td>\n",
       "      <td>...</td>\n",
       "    </tr>\n",
       "    <tr>\n",
       "      <th>26711</th>\n",
       "      <td>surrender</td>\n",
       "      <td>normal</td>\n",
       "      <td>labrador retriever</td>\n",
       "      <td>adoption</td>\n",
       "      <td>8.0</td>\n",
       "      <td>Adult</td>\n",
       "      <td>202</td>\n",
       "    </tr>\n",
       "    <tr>\n",
       "      <th>1758</th>\n",
       "      <td>stray</td>\n",
       "      <td>normal</td>\n",
       "      <td>chihuahua</td>\n",
       "      <td>adoption</td>\n",
       "      <td>5.0</td>\n",
       "      <td>Adult</td>\n",
       "      <td>202</td>\n",
       "    </tr>\n",
       "    <tr>\n",
       "      <th>29112</th>\n",
       "      <td>stray</td>\n",
       "      <td>normal</td>\n",
       "      <td>boxer</td>\n",
       "      <td>adoption</td>\n",
       "      <td>10.0</td>\n",
       "      <td>Senior</td>\n",
       "      <td>201</td>\n",
       "    </tr>\n",
       "    <tr>\n",
       "      <th>11485</th>\n",
       "      <td>stray</td>\n",
       "      <td>injured</td>\n",
       "      <td>dachshund</td>\n",
       "      <td>adoption</td>\n",
       "      <td>2.0</td>\n",
       "      <td>Adult</td>\n",
       "      <td>201</td>\n",
       "    </tr>\n",
       "    <tr>\n",
       "      <th>133</th>\n",
       "      <td>stray</td>\n",
       "      <td>normal</td>\n",
       "      <td>labrador retriever</td>\n",
       "      <td>adoption</td>\n",
       "      <td>13.0</td>\n",
       "      <td>Senior</td>\n",
       "      <td>201</td>\n",
       "    </tr>\n",
       "  </tbody>\n",
       "</table>\n",
       "<p>520 rows × 7 columns</p>\n",
       "</div>"
      ],
      "text/plain": [
       "      intake_type condition               breed   outcome  age_out     age  \\\n",
       "1833        stray   injured            pit bull  adoption     11.0  Senior   \n",
       "19465   surrender    normal            pit bull  adoption      5.0   Adult   \n",
       "23211       stray    normal  labrador retriever  transfer      6.0   Adult   \n",
       "34528   surrender    normal            pit bull  adoption     11.0  Senior   \n",
       "32171       stray    normal               boxer  adoption     13.0  Senior   \n",
       "...           ...       ...                 ...       ...      ...     ...   \n",
       "26711   surrender    normal  labrador retriever  adoption      8.0   Adult   \n",
       "1758        stray    normal           chihuahua  adoption      5.0   Adult   \n",
       "29112       stray    normal               boxer  adoption     10.0  Senior   \n",
       "11485       stray   injured           dachshund  adoption      2.0   Adult   \n",
       "133         stray    normal  labrador retriever  adoption     13.0  Senior   \n",
       "\n",
       "       time_in_shelter  \n",
       "1833              1912  \n",
       "19465             1521  \n",
       "23211             1351  \n",
       "34528             1195  \n",
       "32171             1167  \n",
       "...                ...  \n",
       "26711              202  \n",
       "1758               202  \n",
       "29112              201  \n",
       "11485              201  \n",
       "133                201  \n",
       "\n",
       "[520 rows x 7 columns]"
      ]
     },
     "execution_count": 150,
     "metadata": {},
     "output_type": "execute_result"
    }
   ],
   "source": [
    "data[data['time_in_shelter'] > 200].sort_values(by=['time_in_shelter'], ascending=False)[['intake_type', 'condition', 'breed', 'outcome', 'age_out', 'age', 'time_in_shelter']]"
   ]
  },
  {
   "cell_type": "code",
   "execution_count": 151,
   "metadata": {},
   "outputs": [
    {
     "data": {
      "text/plain": [
       "breed                                   \n",
       "pit bull                                    205\n",
       "labrador retriever                           60\n",
       "chihuahua                                    28\n",
       "australian cattle dog                        23\n",
       "bulldog                                      17\n",
       "                                           ... \n",
       "harrier                                       1\n",
       "jack russell terrier                          1\n",
       "labrador retriever/australian cattle dog      1\n",
       "labrador retriever/boxer                      1\n",
       "yorkshire terrier                             1\n",
       "Length: 85, dtype: int64"
      ]
     },
     "execution_count": 151,
     "metadata": {},
     "output_type": "execute_result"
    }
   ],
   "source": [
    "data[data['time_in_shelter'] > 200].sort_values(by=['time_in_shelter'], ascending=False)[['breed']].value_counts()"
   ]
  },
  {
   "cell_type": "code",
   "execution_count": 152,
   "metadata": {},
   "outputs": [
    {
     "data": {
      "text/plain": [
       "condition\n",
       "normal       435\n",
       "injured       52\n",
       "sick          18\n",
       "aged           8\n",
       "other          4\n",
       "behavior       1\n",
       "medical        1\n",
       "nursing        1\n",
       "dtype: int64"
      ]
     },
     "execution_count": 152,
     "metadata": {},
     "output_type": "execute_result"
    }
   ],
   "source": [
    "data[data['time_in_shelter'] > 200].sort_values(by=['time_in_shelter'], ascending=False)[['condition']].value_counts()"
   ]
  },
  {
   "cell_type": "markdown",
   "metadata": {},
   "source": [
    "These are likely incorrect exit dates due to a bad data merge or incorrectly labeled. Shelter has a max capacity of only 350 dogs per their website. Will explore pit bull time in shelter more closely to confirm we still see the extended time in shelter relationship. Considering the proportion of our data that is above 60 days in shelter (aveage being only 15 days), it is highly unlikely dogs will remain in the shelter for 200 days or more. Especially considering their condition upon entry is 'normal'."
   ]
  },
  {
   "cell_type": "code",
   "execution_count": 153,
   "metadata": {},
   "outputs": [],
   "source": [
    "data = data[data['time_in_shelter'] < 200].copy()"
   ]
  },
  {
   "cell_type": "markdown",
   "metadata": {},
   "source": [
    "Dropping dogs in the shelter with extended stay."
   ]
  },
  {
   "cell_type": "code",
   "execution_count": 154,
   "metadata": {},
   "outputs": [
    {
     "name": "stdout",
     "output_type": "stream",
     "text": [
      "stray            38654\n",
      "surrender         8968\n",
      "public_assist     4239\n",
      "abandoned          246\n",
      "euth_request       164\n",
      "Name: intake_type, dtype: int64\n",
      "\n",
      "Missing Values: 0\n"
     ]
    }
   ],
   "source": [
    "quick_look('intake_type')"
   ]
  },
  {
   "cell_type": "code",
   "execution_count": 155,
   "metadata": {},
   "outputs": [
    {
     "name": "stdout",
     "output_type": "stream",
     "text": [
      "normal      46097\n",
      "injured      2742\n",
      "sick         1646\n",
      "nursing      1153\n",
      "aged          318\n",
      "other         101\n",
      "medical        88\n",
      "pregnant       63\n",
      "neonatal       44\n",
      "behavior       19\n",
      "Name: condition, dtype: int64\n",
      "\n",
      "Missing Values: 0\n"
     ]
    }
   ],
   "source": [
    "quick_look('condition')"
   ]
  },
  {
   "cell_type": "code",
   "execution_count": 156,
   "metadata": {},
   "outputs": [
    {
     "data": {
      "text/plain": [
       "intake_type\n",
       "abandoned        15.308943\n",
       "euth_request      3.274390\n",
       "public_assist    11.221515\n",
       "stray            12.550887\n",
       "surrender        15.095897\n",
       "Name: time_in_shelter, dtype: float64"
      ]
     },
     "execution_count": 156,
     "metadata": {},
     "output_type": "execute_result"
    }
   ],
   "source": [
    "data.groupby('intake_type').mean()['time_in_shelter']"
   ]
  },
  {
   "cell_type": "code",
   "execution_count": 157,
   "metadata": {},
   "outputs": [
    {
     "data": {
      "text/plain": [
       "stray            0.739492\n",
       "surrender        0.171567\n",
       "public_assist    0.081097\n",
       "abandoned        0.004706\n",
       "euth_request     0.003137\n",
       "Name: intake_type, dtype: float64"
      ]
     },
     "execution_count": 157,
     "metadata": {},
     "output_type": "execute_result"
    }
   ],
   "source": [
    "data['intake_type'].value_counts(normalize=True)"
   ]
  },
  {
   "cell_type": "code",
   "execution_count": 158,
   "metadata": {},
   "outputs": [
    {
     "data": {
      "text/html": [
       "<div>\n",
       "<style scoped>\n",
       "    .dataframe tbody tr th:only-of-type {\n",
       "        vertical-align: middle;\n",
       "    }\n",
       "\n",
       "    .dataframe tbody tr th {\n",
       "        vertical-align: top;\n",
       "    }\n",
       "\n",
       "    .dataframe thead th {\n",
       "        text-align: right;\n",
       "    }\n",
       "</style>\n",
       "<table border=\"1\" class=\"dataframe\">\n",
       "  <thead>\n",
       "    <tr style=\"text-align: right;\">\n",
       "      <th></th>\n",
       "      <th>age_in</th>\n",
       "      <th>age_out</th>\n",
       "      <th>sex</th>\n",
       "      <th>intact_out</th>\n",
       "      <th>pure</th>\n",
       "      <th>obey</th>\n",
       "      <th>reps_lower</th>\n",
       "      <th>reps_upper</th>\n",
       "      <th>height_low_inches</th>\n",
       "      <th>height_high_inches</th>\n",
       "      <th>weight_low_lbs</th>\n",
       "      <th>weight_high_lbs</th>\n",
       "      <th>time_in_shelter</th>\n",
       "    </tr>\n",
       "    <tr>\n",
       "      <th>intake_type</th>\n",
       "      <th></th>\n",
       "      <th></th>\n",
       "      <th></th>\n",
       "      <th></th>\n",
       "      <th></th>\n",
       "      <th></th>\n",
       "      <th></th>\n",
       "      <th></th>\n",
       "      <th></th>\n",
       "      <th></th>\n",
       "      <th></th>\n",
       "      <th></th>\n",
       "      <th></th>\n",
       "    </tr>\n",
       "  </thead>\n",
       "  <tbody>\n",
       "    <tr>\n",
       "      <th>abandoned</th>\n",
       "      <td>1.284553</td>\n",
       "      <td>1.321138</td>\n",
       "      <td>0.491870</td>\n",
       "      <td>0.345528</td>\n",
       "      <td>0.796748</td>\n",
       "      <td>0.676520</td>\n",
       "      <td>17.822738</td>\n",
       "      <td>30.880946</td>\n",
       "      <td>17.434601</td>\n",
       "      <td>20.380427</td>\n",
       "      <td>43.202628</td>\n",
       "      <td>57.326133</td>\n",
       "      <td>15.308943</td>\n",
       "    </tr>\n",
       "    <tr>\n",
       "      <th>euth_request</th>\n",
       "      <td>8.286585</td>\n",
       "      <td>8.286585</td>\n",
       "      <td>0.567073</td>\n",
       "      <td>0.402439</td>\n",
       "      <td>0.859756</td>\n",
       "      <td>0.687796</td>\n",
       "      <td>18.242021</td>\n",
       "      <td>30.306608</td>\n",
       "      <td>16.786765</td>\n",
       "      <td>19.809561</td>\n",
       "      <td>42.255958</td>\n",
       "      <td>54.903555</td>\n",
       "      <td>3.274390</td>\n",
       "    </tr>\n",
       "    <tr>\n",
       "      <th>public_assist</th>\n",
       "      <td>3.518283</td>\n",
       "      <td>3.542109</td>\n",
       "      <td>0.582921</td>\n",
       "      <td>0.347488</td>\n",
       "      <td>0.864355</td>\n",
       "      <td>0.632681</td>\n",
       "      <td>21.551548</td>\n",
       "      <td>35.766921</td>\n",
       "      <td>15.958727</td>\n",
       "      <td>18.740488</td>\n",
       "      <td>38.495228</td>\n",
       "      <td>50.449358</td>\n",
       "      <td>11.221515</td>\n",
       "    </tr>\n",
       "    <tr>\n",
       "      <th>stray</th>\n",
       "      <td>2.318285</td>\n",
       "      <td>2.345915</td>\n",
       "      <td>0.530476</td>\n",
       "      <td>0.275470</td>\n",
       "      <td>0.851995</td>\n",
       "      <td>0.636430</td>\n",
       "      <td>21.208318</td>\n",
       "      <td>35.788596</td>\n",
       "      <td>16.026496</td>\n",
       "      <td>18.941262</td>\n",
       "      <td>38.447295</td>\n",
       "      <td>51.173035</td>\n",
       "      <td>12.550887</td>\n",
       "    </tr>\n",
       "    <tr>\n",
       "      <th>surrender</th>\n",
       "      <td>2.675401</td>\n",
       "      <td>2.698372</td>\n",
       "      <td>0.495317</td>\n",
       "      <td>0.241414</td>\n",
       "      <td>0.801070</td>\n",
       "      <td>0.625875</td>\n",
       "      <td>22.014101</td>\n",
       "      <td>37.007499</td>\n",
       "      <td>15.658726</td>\n",
       "      <td>18.536105</td>\n",
       "      <td>37.384999</td>\n",
       "      <td>50.045452</td>\n",
       "      <td>15.095897</td>\n",
       "    </tr>\n",
       "  </tbody>\n",
       "</table>\n",
       "</div>"
      ],
      "text/plain": [
       "                 age_in   age_out       sex  intact_out      pure      obey  \\\n",
       "intake_type                                                                   \n",
       "abandoned      1.284553  1.321138  0.491870    0.345528  0.796748  0.676520   \n",
       "euth_request   8.286585  8.286585  0.567073    0.402439  0.859756  0.687796   \n",
       "public_assist  3.518283  3.542109  0.582921    0.347488  0.864355  0.632681   \n",
       "stray          2.318285  2.345915  0.530476    0.275470  0.851995  0.636430   \n",
       "surrender      2.675401  2.698372  0.495317    0.241414  0.801070  0.625875   \n",
       "\n",
       "               reps_lower  reps_upper  height_low_inches  height_high_inches  \\\n",
       "intake_type                                                                    \n",
       "abandoned       17.822738   30.880946          17.434601           20.380427   \n",
       "euth_request    18.242021   30.306608          16.786765           19.809561   \n",
       "public_assist   21.551548   35.766921          15.958727           18.740488   \n",
       "stray           21.208318   35.788596          16.026496           18.941262   \n",
       "surrender       22.014101   37.007499          15.658726           18.536105   \n",
       "\n",
       "               weight_low_lbs  weight_high_lbs  time_in_shelter  \n",
       "intake_type                                                      \n",
       "abandoned           43.202628        57.326133        15.308943  \n",
       "euth_request        42.255958        54.903555         3.274390  \n",
       "public_assist       38.495228        50.449358        11.221515  \n",
       "stray               38.447295        51.173035        12.550887  \n",
       "surrender           37.384999        50.045452        15.095897  "
      ]
     },
     "execution_count": 158,
     "metadata": {},
     "output_type": "execute_result"
    }
   ],
   "source": [
    "data.groupby(by='intake_type').mean()"
   ]
  },
  {
   "cell_type": "code",
   "execution_count": 159,
   "metadata": {},
   "outputs": [
    {
     "name": "stdout",
     "output_type": "stream",
     "text": [
      "adoption        23732\n",
      "transfer        13924\n",
      "return_owner    12771\n",
      "euthanasia       1522\n",
      "died              263\n",
      "disposal           41\n",
      "missing            18\n",
      "Name: outcome, dtype: int64\n",
      "\n",
      "Missing Values: 0\n"
     ]
    }
   ],
   "source": [
    "quick_look('outcome')"
   ]
  },
  {
   "cell_type": "code",
   "execution_count": 160,
   "metadata": {},
   "outputs": [
    {
     "data": {
      "image/png": "[encoded data removed]",
      "text/plain": [
       "<Figure size 1440x864 with 6 Axes>"
      ]
     },
     "metadata": {
      "needs_background": "light"
     },
     "output_type": "display_data"
    }
   ],
   "source": [
    "data['outcome'].hist(by=data['intake_type'], figsize=(20,12), bins=7);"
   ]
  },
  {
   "cell_type": "code",
   "execution_count": 161,
   "metadata": {},
   "outputs": [],
   "source": [
    "data = data[data['intake_type'] != 'euth_request'].copy()"
   ]
  },
  {
   "cell_type": "markdown",
   "metadata": {},
   "source": [
    "Will drop euth_requests from the set. "
   ]
  },
  {
   "cell_type": "code",
   "execution_count": 162,
   "metadata": {},
   "outputs": [
    {
     "name": "stdout",
     "output_type": "stream",
     "text": [
      "1    27539\n",
      "0    24568\n",
      "Name: sex, dtype: int64\n",
      "\n",
      "Missing Values: 0\n"
     ]
    }
   ],
   "source": [
    "quick_look('sex')"
   ]
  },
  {
   "cell_type": "code",
   "execution_count": 163,
   "metadata": {},
   "outputs": [
    {
     "data": {
      "text/plain": [
       "sex\n",
       "0    12.924332\n",
       "1    12.866517\n",
       "Name: time_in_shelter, dtype: float64"
      ]
     },
     "execution_count": 163,
     "metadata": {},
     "output_type": "execute_result"
    }
   ],
   "source": [
    "data.groupby('sex').mean()['time_in_shelter']"
   ]
  },
  {
   "cell_type": "code",
   "execution_count": 164,
   "metadata": {},
   "outputs": [
    {
     "data": {
      "image/png": "[encoded data removed]",
      "text/plain": [
       "<Figure size 1008x288 with 2 Axes>"
      ]
     },
     "metadata": {
      "needs_background": "light"
     },
     "output_type": "display_data"
    }
   ],
   "source": [
    "data['outcome'].hist(by=data['sex'], figsize=(14,4), bins=2);"
   ]
  },
  {
   "cell_type": "code",
   "execution_count": 165,
   "metadata": {},
   "outputs": [
    {
     "data": {
      "text/plain": [
       "age\n",
       "Senior    10.433380\n",
       "Baby      10.518893\n",
       "Young     13.306043\n",
       "Adult     14.617946\n",
       "Name: time_in_shelter, dtype: float64"
      ]
     },
     "execution_count": 165,
     "metadata": {},
     "output_type": "execute_result"
    }
   ],
   "source": [
    "data.groupby('age').mean()['time_in_shelter'].sort_values()"
   ]
  },
  {
   "cell_type": "code",
   "execution_count": 166,
   "metadata": {},
   "outputs": [
    {
     "data": {
      "text/plain": [
       "<matplotlib.collections.PathCollection at 0x7f9756fd5af0>"
      ]
     },
     "execution_count": 166,
     "metadata": {},
     "output_type": "execute_result"
    },
    {
     "data": {
      "image/png": "[encoded data removed]",
      "text/plain": [
       "<Figure size 720x432 with 1 Axes>"
      ]
     },
     "metadata": {
      "needs_background": "light"
     },
     "output_type": "display_data"
    }
   ],
   "source": [
    "plt.figure(figsize=(10, 6))\n",
    "plt.scatter(x=data['age_out'], y=data['time_in_shelter'], alpha=.1)"
   ]
  },
  {
   "cell_type": "code",
   "execution_count": 167,
   "metadata": {},
   "outputs": [
    {
     "data": {
      "text/html": [
       "<div>\n",
       "<style scoped>\n",
       "    .dataframe tbody tr th:only-of-type {\n",
       "        vertical-align: middle;\n",
       "    }\n",
       "\n",
       "    .dataframe tbody tr th {\n",
       "        vertical-align: top;\n",
       "    }\n",
       "\n",
       "    .dataframe thead th {\n",
       "        text-align: right;\n",
       "    }\n",
       "</style>\n",
       "<table border=\"1\" class=\"dataframe\">\n",
       "  <thead>\n",
       "    <tr style=\"text-align: right;\">\n",
       "      <th></th>\n",
       "      <th>age_in</th>\n",
       "      <th>age_out</th>\n",
       "      <th>sex</th>\n",
       "      <th>intact_out</th>\n",
       "      <th>pure</th>\n",
       "      <th>obey</th>\n",
       "      <th>reps_lower</th>\n",
       "      <th>reps_upper</th>\n",
       "      <th>height_low_inches</th>\n",
       "      <th>height_high_inches</th>\n",
       "      <th>weight_low_lbs</th>\n",
       "      <th>weight_high_lbs</th>\n",
       "      <th>time_in_shelter</th>\n",
       "    </tr>\n",
       "  </thead>\n",
       "  <tbody>\n",
       "    <tr>\n",
       "      <th>count</th>\n",
       "      <td>52107.000000</td>\n",
       "      <td>52107.000000</td>\n",
       "      <td>52107.000000</td>\n",
       "      <td>52107.000000</td>\n",
       "      <td>52107.000000</td>\n",
       "      <td>52107.000000</td>\n",
       "      <td>52107.000000</td>\n",
       "      <td>52107.000000</td>\n",
       "      <td>52107.000000</td>\n",
       "      <td>52107.000000</td>\n",
       "      <td>52107.000000</td>\n",
       "      <td>52107.000000</td>\n",
       "      <td>52107.000000</td>\n",
       "    </tr>\n",
       "    <tr>\n",
       "      <th>mean</th>\n",
       "      <td>2.472489</td>\n",
       "      <td>2.499050</td>\n",
       "      <td>0.528509</td>\n",
       "      <td>0.275798</td>\n",
       "      <td>0.843975</td>\n",
       "      <td>0.634498</td>\n",
       "      <td>21.358938</td>\n",
       "      <td>35.973446</td>\n",
       "      <td>15.964335</td>\n",
       "      <td>18.861993</td>\n",
       "      <td>38.290816</td>\n",
       "      <td>50.949146</td>\n",
       "      <td>12.893776</td>\n",
       "    </tr>\n",
       "    <tr>\n",
       "      <th>std</th>\n",
       "      <td>3.132268</td>\n",
       "      <td>3.144789</td>\n",
       "      <td>0.499191</td>\n",
       "      <td>0.446920</td>\n",
       "      <td>0.362883</td>\n",
       "      <td>0.260839</td>\n",
       "      <td>19.539076</td>\n",
       "      <td>29.716115</td>\n",
       "      <td>6.136908</td>\n",
       "      <td>6.518874</td>\n",
       "      <td>25.613502</td>\n",
       "      <td>32.492967</td>\n",
       "      <td>23.916978</td>\n",
       "    </tr>\n",
       "    <tr>\n",
       "      <th>min</th>\n",
       "      <td>0.000000</td>\n",
       "      <td>0.000000</td>\n",
       "      <td>0.000000</td>\n",
       "      <td>0.000000</td>\n",
       "      <td>0.000000</td>\n",
       "      <td>0.100000</td>\n",
       "      <td>1.000000</td>\n",
       "      <td>4.000000</td>\n",
       "      <td>6.000000</td>\n",
       "      <td>8.000000</td>\n",
       "      <td>2.000000</td>\n",
       "      <td>5.000000</td>\n",
       "      <td>-1.000000</td>\n",
       "    </tr>\n",
       "    <tr>\n",
       "      <th>25%</th>\n",
       "      <td>0.000000</td>\n",
       "      <td>0.000000</td>\n",
       "      <td>0.000000</td>\n",
       "      <td>0.000000</td>\n",
       "      <td>1.000000</td>\n",
       "      <td>0.475000</td>\n",
       "      <td>1.000000</td>\n",
       "      <td>4.000000</td>\n",
       "      <td>10.000000</td>\n",
       "      <td>12.500000</td>\n",
       "      <td>16.000000</td>\n",
       "      <td>20.000000</td>\n",
       "      <td>2.000000</td>\n",
       "    </tr>\n",
       "    <tr>\n",
       "      <th>50%</th>\n",
       "      <td>1.000000</td>\n",
       "      <td>1.000000</td>\n",
       "      <td>1.000000</td>\n",
       "      <td>0.000000</td>\n",
       "      <td>1.000000</td>\n",
       "      <td>0.700000</td>\n",
       "      <td>16.000000</td>\n",
       "      <td>25.000000</td>\n",
       "      <td>17.000000</td>\n",
       "      <td>20.000000</td>\n",
       "      <td>40.000000</td>\n",
       "      <td>50.000000</td>\n",
       "      <td>5.000000</td>\n",
       "    </tr>\n",
       "    <tr>\n",
       "      <th>75%</th>\n",
       "      <td>3.000000</td>\n",
       "      <td>3.000000</td>\n",
       "      <td>1.000000</td>\n",
       "      <td>1.000000</td>\n",
       "      <td>1.000000</td>\n",
       "      <td>0.950000</td>\n",
       "      <td>33.500000</td>\n",
       "      <td>57.500000</td>\n",
       "      <td>21.000000</td>\n",
       "      <td>24.000000</td>\n",
       "      <td>55.000000</td>\n",
       "      <td>80.000000</td>\n",
       "      <td>11.000000</td>\n",
       "    </tr>\n",
       "    <tr>\n",
       "      <th>max</th>\n",
       "      <td>24.000000</td>\n",
       "      <td>24.000000</td>\n",
       "      <td>1.000000</td>\n",
       "      <td>1.000000</td>\n",
       "      <td>1.000000</td>\n",
       "      <td>0.950000</td>\n",
       "      <td>81.000000</td>\n",
       "      <td>100.000000</td>\n",
       "      <td>48.000000</td>\n",
       "      <td>66.000000</td>\n",
       "      <td>175.000000</td>\n",
       "      <td>190.000000</td>\n",
       "      <td>199.000000</td>\n",
       "    </tr>\n",
       "  </tbody>\n",
       "</table>\n",
       "</div>"
      ],
      "text/plain": [
       "             age_in       age_out           sex    intact_out          pure  \\\n",
       "count  52107.000000  52107.000000  52107.000000  52107.000000  52107.000000   \n",
       "mean       2.472489      2.499050      0.528509      0.275798      0.843975   \n",
       "std        3.132268      3.144789      0.499191      0.446920      0.362883   \n",
       "min        0.000000      0.000000      0.000000      0.000000      0.000000   \n",
       "25%        0.000000      0.000000      0.000000      0.000000      1.000000   \n",
       "50%        1.000000      1.000000      1.000000      0.000000      1.000000   \n",
       "75%        3.000000      3.000000      1.000000      1.000000      1.000000   \n",
       "max       24.000000     24.000000      1.000000      1.000000      1.000000   \n",
       "\n",
       "               obey    reps_lower    reps_upper  height_low_inches  \\\n",
       "count  52107.000000  52107.000000  52107.000000       52107.000000   \n",
       "mean       0.634498     21.358938     35.973446          15.964335   \n",
       "std        0.260839     19.539076     29.716115           6.136908   \n",
       "min        0.100000      1.000000      4.000000           6.000000   \n",
       "25%        0.475000      1.000000      4.000000          10.000000   \n",
       "50%        0.700000     16.000000     25.000000          17.000000   \n",
       "75%        0.950000     33.500000     57.500000          21.000000   \n",
       "max        0.950000     81.000000    100.000000          48.000000   \n",
       "\n",
       "       height_high_inches  weight_low_lbs  weight_high_lbs  time_in_shelter  \n",
       "count        52107.000000    52107.000000     52107.000000     52107.000000  \n",
       "mean            18.861993       38.290816        50.949146        12.893776  \n",
       "std              6.518874       25.613502        32.492967        23.916978  \n",
       "min              8.000000        2.000000         5.000000        -1.000000  \n",
       "25%             12.500000       16.000000        20.000000         2.000000  \n",
       "50%             20.000000       40.000000        50.000000         5.000000  \n",
       "75%             24.000000       55.000000        80.000000        11.000000  \n",
       "max             66.000000      175.000000       190.000000       199.000000  "
      ]
     },
     "execution_count": 167,
     "metadata": {},
     "output_type": "execute_result"
    }
   ],
   "source": [
    "data.describe()"
   ]
  },
  {
   "cell_type": "code",
   "execution_count": 168,
   "metadata": {},
   "outputs": [
    {
     "data": {
      "text/plain": [
       "return_owner    0.621997\n",
       "transfer        0.259981\n",
       "adoption        0.055473\n",
       "euthanasia      0.051979\n",
       "died            0.009260\n",
       "disposal        0.001223\n",
       "missing         0.000087\n",
       "Name: outcome, dtype: float64"
      ]
     },
     "execution_count": 168,
     "metadata": {},
     "output_type": "execute_result"
    }
   ],
   "source": [
    "data[data['time_in_shelter'] <= 1]['outcome'].value_counts(normalize=True)"
   ]
  },
  {
   "cell_type": "code",
   "execution_count": 169,
   "metadata": {},
   "outputs": [
    {
     "data": {
      "text/plain": [
       "return_owner    0.595115\n",
       "transfer        0.258549\n",
       "adoption        0.089274\n",
       "euthanasia      0.047150\n",
       "died            0.008637\n",
       "disposal        0.001062\n",
       "missing         0.000212\n",
       "Name: outcome, dtype: float64"
      ]
     },
     "execution_count": 169,
     "metadata": {},
     "output_type": "execute_result"
    }
   ],
   "source": [
    "data[data['time_in_shelter'] <= 2]['outcome'].value_counts(normalize=True)"
   ]
  },
  {
   "cell_type": "code",
   "execution_count": 170,
   "metadata": {},
   "outputs": [
    {
     "data": {
      "text/plain": [
       "return_owner    0.524736\n",
       "transfer        0.284431\n",
       "adoption        0.136700\n",
       "euthanasia      0.043557\n",
       "died            0.009155\n",
       "disposal        0.001194\n",
       "missing         0.000227\n",
       "Name: outcome, dtype: float64"
      ]
     },
     "execution_count": 170,
     "metadata": {},
     "output_type": "execute_result"
    }
   ],
   "source": [
    "data[data['time_in_shelter'] <= 3]['outcome'].value_counts(normalize=True)"
   ]
  },
  {
   "cell_type": "code",
   "execution_count": 171,
   "metadata": {},
   "outputs": [
    {
     "data": {
      "image/png": "[encoded data removed]",
      "text/plain": [
       "<Figure size 432x288 with 1 Axes>"
      ]
     },
     "metadata": {
      "needs_background": "light"
     },
     "output_type": "display_data"
    }
   ],
   "source": [
    "data[(data['outcome'] == 'return_owner') & (data['time_in_shelter'] < 20)]['time_in_shelter'].hist();"
   ]
  },
  {
   "cell_type": "markdown",
   "metadata": {},
   "source": [
    "Going to exclude dogs that are returned to the owner or transfered out. A large portion happen very quickly and will add noise to the predictions."
   ]
  },
  {
   "cell_type": "code",
   "execution_count": 172,
   "metadata": {},
   "outputs": [],
   "source": [
    "data = data[data['outcome'] != 'return_owner'].copy()"
   ]
  },
  {
   "cell_type": "code",
   "execution_count": 173,
   "metadata": {},
   "outputs": [
    {
     "data": {
      "image/png": "[encoded data removed]",
      "text/plain": [
       "<Figure size 432x288 with 1 Axes>"
      ]
     },
     "metadata": {
      "needs_background": "light"
     },
     "output_type": "display_data"
    }
   ],
   "source": [
    "data[(data['outcome'] == 'transfer') & (data['time_in_shelter'] < 20)]['time_in_shelter'].hist();"
   ]
  },
  {
   "cell_type": "code",
   "execution_count": 174,
   "metadata": {},
   "outputs": [
    {
     "data": {
      "text/plain": [
       "condition\n",
       "behavior        3\n",
       "neonatal       27\n",
       "pregnant       34\n",
       "medical        40\n",
       "other          41\n",
       "aged           62\n",
       "nursing       586\n",
       "injured       857\n",
       "sick          862\n",
       "normal      11395\n",
       "dtype: int64"
      ]
     },
     "execution_count": 174,
     "metadata": {},
     "output_type": "execute_result"
    }
   ],
   "source": [
    "data[data['outcome'] == 'transfer'].groupby('condition').size().sort_values()"
   ]
  },
  {
   "cell_type": "markdown",
   "metadata": {},
   "source": [
    "Take a look at outcomes."
   ]
  },
  {
   "cell_type": "code",
   "execution_count": 175,
   "metadata": {},
   "outputs": [
    {
     "data": {
      "text/plain": [
       "outcome\n",
       "disposal       4.00\n",
       "died           8.55\n",
       "euthanasia     9.16\n",
       "transfer      10.12\n",
       "adoption      20.07\n",
       "missing       37.67\n",
       "Name: time_in_shelter, dtype: float64"
      ]
     },
     "execution_count": 175,
     "metadata": {},
     "output_type": "execute_result"
    }
   ],
   "source": [
    "np.round(data.groupby('outcome').mean()['time_in_shelter'].sort_values(), 2)"
   ]
  },
  {
   "cell_type": "code",
   "execution_count": 176,
   "metadata": {},
   "outputs": [
    {
     "data": {
      "text/plain": [
       "outcome\n",
       "missing          18\n",
       "disposal         41\n",
       "died            260\n",
       "euthanasia     1385\n",
       "transfer      13907\n",
       "adoption      23728\n",
       "dtype: int64"
      ]
     },
     "execution_count": 176,
     "metadata": {},
     "output_type": "execute_result"
    }
   ],
   "source": [
    "data.groupby('outcome').size().sort_values()"
   ]
  },
  {
   "cell_type": "code",
   "execution_count": 177,
   "metadata": {},
   "outputs": [],
   "source": [
    "data = data[~data['outcome'].isin(['missing', 'disposal', 'transfer'])].copy()"
   ]
  },
  {
   "cell_type": "markdown",
   "metadata": {},
   "source": [
    "Can drop missing & disposal as they are a tiny sample size and likely only going to add noise. Dogs that are transfered are transferred quickly, typically"
   ]
  },
  {
   "cell_type": "code",
   "execution_count": 178,
   "metadata": {},
   "outputs": [
    {
     "data": {
      "text/plain": [
       "condition\n",
       "normal      17.905378\n",
       "sick        19.595318\n",
       "aged        20.950617\n",
       "medical     28.146341\n",
       "injured     29.472903\n",
       "other       42.324324\n",
       "nursing     51.485030\n",
       "neonatal    55.181818\n",
       "behavior    58.555556\n",
       "pregnant    59.115385\n",
       "Name: time_in_shelter, dtype: float64"
      ]
     },
     "execution_count": 178,
     "metadata": {},
     "output_type": "execute_result"
    }
   ],
   "source": [
    "data.groupby('condition').mean()['time_in_shelter'].sort_values()"
   ]
  },
  {
   "cell_type": "code",
   "execution_count": 179,
   "metadata": {},
   "outputs": [
    {
     "data": {
      "text/plain": [
       "condition\n",
       "behavior        9\n",
       "neonatal       11\n",
       "pregnant       26\n",
       "other          37\n",
       "medical        41\n",
       "aged           81\n",
       "nursing       501\n",
       "sick          598\n",
       "injured      1347\n",
       "normal      22722\n",
       "dtype: int64"
      ]
     },
     "execution_count": 179,
     "metadata": {},
     "output_type": "execute_result"
    }
   ],
   "source": [
    "data.groupby('condition').size().sort_values()"
   ]
  },
  {
   "cell_type": "markdown",
   "metadata": {},
   "source": [
    "Combine pregnant & nursing along with medical, sick & injured. Will drop neonatal as the dogs are too young to be released from the shelter within a specific time period and the dogs we are attempting to classify will all be older than a couple weeks."
   ]
  },
  {
   "cell_type": "code",
   "execution_count": 180,
   "metadata": {},
   "outputs": [],
   "source": [
    "data = data[data['condition'] != 'neonatal'].copy()"
   ]
  },
  {
   "cell_type": "code",
   "execution_count": 181,
   "metadata": {},
   "outputs": [],
   "source": [
    "data.loc[data['condition'] == 'pregnant', 'condition'] = 'nursing'\n",
    "data.loc[data['condition'] == 'medical', 'condition'] = 'injured'\n",
    "data.loc[data['condition'] == 'sick', 'condition'] = 'injured'"
   ]
  },
  {
   "cell_type": "code",
   "execution_count": 182,
   "metadata": {},
   "outputs": [
    {
     "data": {
      "text/plain": [
       "condition\n",
       "normal      17.905378\n",
       "aged        20.950617\n",
       "injured     26.471299\n",
       "other       42.324324\n",
       "nursing     51.861480\n",
       "behavior    58.555556\n",
       "Name: time_in_shelter, dtype: float64"
      ]
     },
     "execution_count": 182,
     "metadata": {},
     "output_type": "execute_result"
    }
   ],
   "source": [
    "data.groupby('condition').mean()['time_in_shelter'].sort_values()"
   ]
  },
  {
   "cell_type": "code",
   "execution_count": 183,
   "metadata": {},
   "outputs": [
    {
     "data": {
      "image/png": "[encoded data removed]",
      "text/plain": [
       "<Figure size 432x288 with 1 Axes>"
      ]
     },
     "metadata": {
      "needs_background": "light"
     },
     "output_type": "display_data"
    }
   ],
   "source": [
    "data[data['outcome']=='euthanasia']['condition'].hist(bins=7);"
   ]
  },
  {
   "cell_type": "code",
   "execution_count": 184,
   "metadata": {},
   "outputs": [
    {
     "data": {
      "text/plain": [
       "<AxesSubplot:>"
      ]
     },
     "execution_count": 184,
     "metadata": {},
     "output_type": "execute_result"
    },
    {
     "data": {
      "image/png": "[encoded data removed]",
      "text/plain": [
       "<Figure size 432x288 with 1 Axes>"
      ]
     },
     "metadata": {
      "needs_background": "light"
     },
     "output_type": "display_data"
    }
   ],
   "source": [
    "data[data['outcome']=='euthanasia']['intake_type'].hist(bins=4)"
   ]
  },
  {
   "cell_type": "code",
   "execution_count": 185,
   "metadata": {},
   "outputs": [
    {
     "data": {
      "text/plain": [
       "outcome\n",
       "adoption      20.055064\n",
       "died           8.550000\n",
       "euthanasia     9.140173\n",
       "Name: time_in_shelter, dtype: float64"
      ]
     },
     "execution_count": 185,
     "metadata": {},
     "output_type": "execute_result"
    }
   ],
   "source": [
    "data.groupby('outcome').mean()['time_in_shelter']"
   ]
  },
  {
   "cell_type": "code",
   "execution_count": 186,
   "metadata": {},
   "outputs": [
    {
     "data": {
      "text/plain": [
       "condition\n",
       "behavior        9\n",
       "other          37\n",
       "aged           81\n",
       "nursing       527\n",
       "injured      1986\n",
       "normal      22722\n",
       "dtype: int64"
      ]
     },
     "execution_count": 186,
     "metadata": {},
     "output_type": "execute_result"
    }
   ],
   "source": [
    "data.groupby('condition').size().sort_values()"
   ]
  },
  {
   "cell_type": "code",
   "execution_count": 187,
   "metadata": {},
   "outputs": [
    {
     "data": {
      "text/plain": [
       "<matplotlib.collections.PathCollection at 0x7f97524ae910>"
      ]
     },
     "execution_count": 187,
     "metadata": {},
     "output_type": "execute_result"
    },
    {
     "data": {
      "image/png": "[encoded data removed]",
      "text/plain": [
       "<Figure size 720x432 with 1 Axes>"
      ]
     },
     "metadata": {
      "needs_background": "light"
     },
     "output_type": "display_data"
    }
   ],
   "source": [
    "plt.figure(figsize=(10, 6))\n",
    "plt.scatter(x=data['age_out'], y=data['time_in_shelter'], alpha=.1)"
   ]
  },
  {
   "cell_type": "code",
   "execution_count": 188,
   "metadata": {},
   "outputs": [
    {
     "data": {
      "image/png": "[encoded data removed]",
      "text/plain": [
       "<Figure size 720x432 with 1 Axes>"
      ]
     },
     "metadata": {
      "needs_background": "light"
     },
     "output_type": "display_data"
    }
   ],
   "source": [
    "plt.figure(figsize=(10, 6))\n",
    "plt.scatter(x=data[data['time_in_shelter'] > 7]['age_in'], y=data[data['time_in_shelter'] > 7]['time_in_shelter'], alpha=.1);\n"
   ]
  },
  {
   "cell_type": "code",
   "execution_count": 189,
   "metadata": {},
   "outputs": [
    {
     "data": {
      "text/plain": [
       "age\n",
       "Baby      14.521703\n",
       "Young     17.660171\n",
       "Adult     24.357340\n",
       "Senior    28.926425\n",
       "Name: time_in_shelter, dtype: float64"
      ]
     },
     "execution_count": 189,
     "metadata": {},
     "output_type": "execute_result"
    }
   ],
   "source": [
    "data.groupby('age').mean()['time_in_shelter'].sort_values()"
   ]
  },
  {
   "cell_type": "markdown",
   "metadata": {},
   "source": [
    "Some relationships between age and time in shelter are beginning to show."
   ]
  },
  {
   "cell_type": "markdown",
   "metadata": {},
   "source": [
    "Younger dogs get adopted sooner."
   ]
  },
  {
   "cell_type": "code",
   "execution_count": 190,
   "metadata": {},
   "outputs": [
    {
     "data": {
      "text/plain": [
       "intake_type\n",
       "stray            18.827863\n",
       "abandoned        19.130769\n",
       "surrender        20.311115\n",
       "public_assist    27.478191\n",
       "Name: time_in_shelter, dtype: float64"
      ]
     },
     "execution_count": 190,
     "metadata": {},
     "output_type": "execute_result"
    }
   ],
   "source": [
    "data.groupby('intake_type').mean()['time_in_shelter'].sort_values()"
   ]
  },
  {
   "cell_type": "code",
   "execution_count": 191,
   "metadata": {},
   "outputs": [
    {
     "data": {
      "text/plain": [
       "condition\n",
       "normal      17.905378\n",
       "aged        20.950617\n",
       "injured     26.471299\n",
       "other       42.324324\n",
       "nursing     51.861480\n",
       "behavior    58.555556\n",
       "Name: time_in_shelter, dtype: float64"
      ]
     },
     "execution_count": 191,
     "metadata": {},
     "output_type": "execute_result"
    }
   ],
   "source": [
    "data.groupby('condition').mean()['time_in_shelter'].sort_values()"
   ]
  },
  {
   "cell_type": "code",
   "execution_count": 192,
   "metadata": {},
   "outputs": [
    {
     "data": {
      "text/plain": [
       "outcome\n",
       "died           8.550000\n",
       "euthanasia     9.140173\n",
       "adoption      20.055064\n",
       "Name: time_in_shelter, dtype: float64"
      ]
     },
     "execution_count": 192,
     "metadata": {},
     "output_type": "execute_result"
    }
   ],
   "source": [
    "data.groupby('outcome').mean()['time_in_shelter'].sort_values()"
   ]
  },
  {
   "cell_type": "code",
   "execution_count": 193,
   "metadata": {},
   "outputs": [
    {
     "data": {
      "text/plain": [
       "labrador retriever       4066\n",
       "chihuahua                3890\n",
       "pit bull                 3456\n",
       "german shepherd          1997\n",
       "australian cattle dog    1323\n",
       "dachshund                 945\n",
       "border collie             610\n",
       "siberian husky            548\n",
       "boxer                     481\n",
       "australian shepherd       431\n",
       "fox terrier               386\n",
       "great pyrenees            382\n",
       "jack russell terrier      380\n",
       "miniature poodle          379\n",
       "beagle                    347\n",
       "cairn terrier             342\n",
       "yorkshire terrier         338\n",
       "pointer                   331\n",
       "miniature schnauzer       301\n",
       "anatolian sheepdog        289\n",
       "Name: breed_1, dtype: int64"
      ]
     },
     "execution_count": 193,
     "metadata": {},
     "output_type": "execute_result"
    }
   ],
   "source": [
    "data['breed_1'].value_counts()[:20]"
   ]
  },
  {
   "cell_type": "code",
   "execution_count": 194,
   "metadata": {},
   "outputs": [],
   "source": [
    "common_breeds = list(data['breed_1'].value_counts()[:20].index)"
   ]
  },
  {
   "cell_type": "code",
   "execution_count": 195,
   "metadata": {},
   "outputs": [
    {
     "data": {
      "text/plain": [
       "pure\n",
       "0.0    19.920321\n",
       "1.0    19.899961\n",
       "Name: time_in_shelter, dtype: float64"
      ]
     },
     "execution_count": 195,
     "metadata": {},
     "output_type": "execute_result"
    }
   ],
   "source": [
    "data[data['breed_1'].isin(common_breeds)].groupby('pure').mean()['time_in_shelter']"
   ]
  },
  {
   "cell_type": "markdown",
   "metadata": {},
   "source": [
    "No relationship to pure breed vs mutt"
   ]
  },
  {
   "cell_type": "code",
   "execution_count": 196,
   "metadata": {},
   "outputs": [
    {
     "data": {
      "text/html": [
       "<div>\n",
       "<style scoped>\n",
       "    .dataframe tbody tr th:only-of-type {\n",
       "        vertical-align: middle;\n",
       "    }\n",
       "\n",
       "    .dataframe tbody tr th {\n",
       "        vertical-align: top;\n",
       "    }\n",
       "\n",
       "    .dataframe thead th {\n",
       "        text-align: right;\n",
       "    }\n",
       "</style>\n",
       "<table border=\"1\" class=\"dataframe\">\n",
       "  <thead>\n",
       "    <tr style=\"text-align: right;\">\n",
       "      <th></th>\n",
       "      <th>intake_type</th>\n",
       "      <th>condition</th>\n",
       "      <th>age_in</th>\n",
       "      <th>breed</th>\n",
       "      <th>outcome</th>\n",
       "      <th>age_out</th>\n",
       "      <th>sex</th>\n",
       "      <th>intact_out</th>\n",
       "      <th>age</th>\n",
       "      <th>primary_color</th>\n",
       "      <th>...</th>\n",
       "      <th>breed_2</th>\n",
       "      <th>pure</th>\n",
       "      <th>obey</th>\n",
       "      <th>reps_lower</th>\n",
       "      <th>reps_upper</th>\n",
       "      <th>height_low_inches</th>\n",
       "      <th>height_high_inches</th>\n",
       "      <th>weight_low_lbs</th>\n",
       "      <th>weight_high_lbs</th>\n",
       "      <th>time_in_shelter</th>\n",
       "    </tr>\n",
       "  </thead>\n",
       "  <tbody>\n",
       "    <tr>\n",
       "      <th>7</th>\n",
       "      <td>surrender</td>\n",
       "      <td>normal</td>\n",
       "      <td>16.0</td>\n",
       "      <td>dachshund</td>\n",
       "      <td>adoption</td>\n",
       "      <td>16.0</td>\n",
       "      <td>1</td>\n",
       "      <td>0</td>\n",
       "      <td>Senior</td>\n",
       "      <td>black</td>\n",
       "      <td>...</td>\n",
       "      <td>dachshund</td>\n",
       "      <td>1.0</td>\n",
       "      <td>0.500</td>\n",
       "      <td>26.0</td>\n",
       "      <td>40.0</td>\n",
       "      <td>7.0</td>\n",
       "      <td>10.0</td>\n",
       "      <td>16.0</td>\n",
       "      <td>32.0</td>\n",
       "      <td>49</td>\n",
       "    </tr>\n",
       "    <tr>\n",
       "      <th>8</th>\n",
       "      <td>surrender</td>\n",
       "      <td>injured</td>\n",
       "      <td>14.0</td>\n",
       "      <td>border collie</td>\n",
       "      <td>euthanasia</td>\n",
       "      <td>14.0</td>\n",
       "      <td>1</td>\n",
       "      <td>0</td>\n",
       "      <td>Senior</td>\n",
       "      <td>black</td>\n",
       "      <td>...</td>\n",
       "      <td>border collie</td>\n",
       "      <td>1.0</td>\n",
       "      <td>0.950</td>\n",
       "      <td>1.0</td>\n",
       "      <td>4.0</td>\n",
       "      <td>19.0</td>\n",
       "      <td>21.0</td>\n",
       "      <td>40.0</td>\n",
       "      <td>40.0</td>\n",
       "      <td>0</td>\n",
       "    </tr>\n",
       "    <tr>\n",
       "      <th>9</th>\n",
       "      <td>public_assist</td>\n",
       "      <td>aged</td>\n",
       "      <td>17.0</td>\n",
       "      <td>chihuahua</td>\n",
       "      <td>adoption</td>\n",
       "      <td>17.0</td>\n",
       "      <td>1</td>\n",
       "      <td>0</td>\n",
       "      <td>Senior</td>\n",
       "      <td>tan</td>\n",
       "      <td>...</td>\n",
       "      <td>chihuahua</td>\n",
       "      <td>1.0</td>\n",
       "      <td>0.300</td>\n",
       "      <td>41.0</td>\n",
       "      <td>80.0</td>\n",
       "      <td>6.0</td>\n",
       "      <td>9.0</td>\n",
       "      <td>2.0</td>\n",
       "      <td>5.0</td>\n",
       "      <td>9</td>\n",
       "    </tr>\n",
       "    <tr>\n",
       "      <th>14</th>\n",
       "      <td>stray</td>\n",
       "      <td>injured</td>\n",
       "      <td>16.0</td>\n",
       "      <td>pit bull</td>\n",
       "      <td>euthanasia</td>\n",
       "      <td>16.0</td>\n",
       "      <td>0</td>\n",
       "      <td>0</td>\n",
       "      <td>Senior</td>\n",
       "      <td>brown</td>\n",
       "      <td>...</td>\n",
       "      <td>pit bull</td>\n",
       "      <td>1.0</td>\n",
       "      <td>0.700</td>\n",
       "      <td>16.0</td>\n",
       "      <td>25.0</td>\n",
       "      <td>17.0</td>\n",
       "      <td>19.0</td>\n",
       "      <td>40.0</td>\n",
       "      <td>50.0</td>\n",
       "      <td>0</td>\n",
       "    </tr>\n",
       "    <tr>\n",
       "      <th>16</th>\n",
       "      <td>stray</td>\n",
       "      <td>normal</td>\n",
       "      <td>15.0</td>\n",
       "      <td>labrador retriever/beagle</td>\n",
       "      <td>adoption</td>\n",
       "      <td>15.0</td>\n",
       "      <td>1</td>\n",
       "      <td>0</td>\n",
       "      <td>Senior</td>\n",
       "      <td>sable</td>\n",
       "      <td>...</td>\n",
       "      <td>beagle</td>\n",
       "      <td>0.0</td>\n",
       "      <td>0.525</td>\n",
       "      <td>41.0</td>\n",
       "      <td>52.0</td>\n",
       "      <td>17.0</td>\n",
       "      <td>20.0</td>\n",
       "      <td>36.5</td>\n",
       "      <td>55.0</td>\n",
       "      <td>23</td>\n",
       "    </tr>\n",
       "    <tr>\n",
       "      <th>...</th>\n",
       "      <td>...</td>\n",
       "      <td>...</td>\n",
       "      <td>...</td>\n",
       "      <td>...</td>\n",
       "      <td>...</td>\n",
       "      <td>...</td>\n",
       "      <td>...</td>\n",
       "      <td>...</td>\n",
       "      <td>...</td>\n",
       "      <td>...</td>\n",
       "      <td>...</td>\n",
       "      <td>...</td>\n",
       "      <td>...</td>\n",
       "      <td>...</td>\n",
       "      <td>...</td>\n",
       "      <td>...</td>\n",
       "      <td>...</td>\n",
       "      <td>...</td>\n",
       "      <td>...</td>\n",
       "      <td>...</td>\n",
       "      <td>...</td>\n",
       "    </tr>\n",
       "    <tr>\n",
       "      <th>52764</th>\n",
       "      <td>abandoned</td>\n",
       "      <td>normal</td>\n",
       "      <td>0.0</td>\n",
       "      <td>siberian husky</td>\n",
       "      <td>adoption</td>\n",
       "      <td>0.0</td>\n",
       "      <td>0</td>\n",
       "      <td>0</td>\n",
       "      <td>Baby</td>\n",
       "      <td>black</td>\n",
       "      <td>...</td>\n",
       "      <td>siberian husky</td>\n",
       "      <td>1.0</td>\n",
       "      <td>0.500</td>\n",
       "      <td>26.0</td>\n",
       "      <td>40.0</td>\n",
       "      <td>20.0</td>\n",
       "      <td>23.0</td>\n",
       "      <td>40.0</td>\n",
       "      <td>60.0</td>\n",
       "      <td>7</td>\n",
       "    </tr>\n",
       "    <tr>\n",
       "      <th>52776</th>\n",
       "      <td>abandoned</td>\n",
       "      <td>normal</td>\n",
       "      <td>0.0</td>\n",
       "      <td>australian cattle dog</td>\n",
       "      <td>adoption</td>\n",
       "      <td>0.0</td>\n",
       "      <td>0</td>\n",
       "      <td>0</td>\n",
       "      <td>Baby</td>\n",
       "      <td>brown</td>\n",
       "      <td>...</td>\n",
       "      <td>australian cattle dog</td>\n",
       "      <td>1.0</td>\n",
       "      <td>0.950</td>\n",
       "      <td>1.0</td>\n",
       "      <td>4.0</td>\n",
       "      <td>17.0</td>\n",
       "      <td>20.0</td>\n",
       "      <td>35.0</td>\n",
       "      <td>45.0</td>\n",
       "      <td>6</td>\n",
       "    </tr>\n",
       "    <tr>\n",
       "      <th>52777</th>\n",
       "      <td>abandoned</td>\n",
       "      <td>normal</td>\n",
       "      <td>0.0</td>\n",
       "      <td>australian cattle dog</td>\n",
       "      <td>adoption</td>\n",
       "      <td>0.0</td>\n",
       "      <td>0</td>\n",
       "      <td>0</td>\n",
       "      <td>Baby</td>\n",
       "      <td>brown</td>\n",
       "      <td>...</td>\n",
       "      <td>australian cattle dog</td>\n",
       "      <td>1.0</td>\n",
       "      <td>0.950</td>\n",
       "      <td>1.0</td>\n",
       "      <td>4.0</td>\n",
       "      <td>17.0</td>\n",
       "      <td>20.0</td>\n",
       "      <td>35.0</td>\n",
       "      <td>45.0</td>\n",
       "      <td>7</td>\n",
       "    </tr>\n",
       "    <tr>\n",
       "      <th>52779</th>\n",
       "      <td>abandoned</td>\n",
       "      <td>normal</td>\n",
       "      <td>0.0</td>\n",
       "      <td>pit bull</td>\n",
       "      <td>adoption</td>\n",
       "      <td>0.0</td>\n",
       "      <td>0</td>\n",
       "      <td>0</td>\n",
       "      <td>Baby</td>\n",
       "      <td>white</td>\n",
       "      <td>...</td>\n",
       "      <td>pit bull</td>\n",
       "      <td>1.0</td>\n",
       "      <td>0.700</td>\n",
       "      <td>16.0</td>\n",
       "      <td>25.0</td>\n",
       "      <td>17.0</td>\n",
       "      <td>19.0</td>\n",
       "      <td>40.0</td>\n",
       "      <td>50.0</td>\n",
       "      <td>7</td>\n",
       "    </tr>\n",
       "    <tr>\n",
       "      <th>52795</th>\n",
       "      <td>surrender</td>\n",
       "      <td>normal</td>\n",
       "      <td>0.0</td>\n",
       "      <td>pit bull</td>\n",
       "      <td>adoption</td>\n",
       "      <td>0.0</td>\n",
       "      <td>0</td>\n",
       "      <td>0</td>\n",
       "      <td>Baby</td>\n",
       "      <td>brown</td>\n",
       "      <td>...</td>\n",
       "      <td>pit bull</td>\n",
       "      <td>1.0</td>\n",
       "      <td>0.700</td>\n",
       "      <td>16.0</td>\n",
       "      <td>25.0</td>\n",
       "      <td>17.0</td>\n",
       "      <td>19.0</td>\n",
       "      <td>40.0</td>\n",
       "      <td>50.0</td>\n",
       "      <td>1</td>\n",
       "    </tr>\n",
       "  </tbody>\n",
       "</table>\n",
       "<p>21222 rows × 22 columns</p>\n",
       "</div>"
      ],
      "text/plain": [
       "         intake_type condition  age_in                      breed     outcome  \\\n",
       "7          surrender    normal    16.0                  dachshund    adoption   \n",
       "8          surrender   injured    14.0              border collie  euthanasia   \n",
       "9      public_assist      aged    17.0                  chihuahua    adoption   \n",
       "14             stray   injured    16.0                   pit bull  euthanasia   \n",
       "16             stray    normal    15.0  labrador retriever/beagle    adoption   \n",
       "...              ...       ...     ...                        ...         ...   \n",
       "52764      abandoned    normal     0.0             siberian husky    adoption   \n",
       "52776      abandoned    normal     0.0      australian cattle dog    adoption   \n",
       "52777      abandoned    normal     0.0      australian cattle dog    adoption   \n",
       "52779      abandoned    normal     0.0                   pit bull    adoption   \n",
       "52795      surrender    normal     0.0                   pit bull    adoption   \n",
       "\n",
       "       age_out  sex  intact_out     age primary_color  ...  \\\n",
       "7         16.0    1           0  Senior         black  ...   \n",
       "8         14.0    1           0  Senior         black  ...   \n",
       "9         17.0    1           0  Senior           tan  ...   \n",
       "14        16.0    0           0  Senior         brown  ...   \n",
       "16        15.0    1           0  Senior         sable  ...   \n",
       "...        ...  ...         ...     ...           ...  ...   \n",
       "52764      0.0    0           0    Baby         black  ...   \n",
       "52776      0.0    0           0    Baby         brown  ...   \n",
       "52777      0.0    0           0    Baby         brown  ...   \n",
       "52779      0.0    0           0    Baby         white  ...   \n",
       "52795      0.0    0           0    Baby         brown  ...   \n",
       "\n",
       "                     breed_2 pure   obey  reps_lower  reps_upper  \\\n",
       "7                  dachshund  1.0  0.500        26.0        40.0   \n",
       "8              border collie  1.0  0.950         1.0         4.0   \n",
       "9                  chihuahua  1.0  0.300        41.0        80.0   \n",
       "14                  pit bull  1.0  0.700        16.0        25.0   \n",
       "16                    beagle  0.0  0.525        41.0        52.0   \n",
       "...                      ...  ...    ...         ...         ...   \n",
       "52764         siberian husky  1.0  0.500        26.0        40.0   \n",
       "52776  australian cattle dog  1.0  0.950         1.0         4.0   \n",
       "52777  australian cattle dog  1.0  0.950         1.0         4.0   \n",
       "52779               pit bull  1.0  0.700        16.0        25.0   \n",
       "52795               pit bull  1.0  0.700        16.0        25.0   \n",
       "\n",
       "       height_low_inches  height_high_inches  weight_low_lbs  weight_high_lbs  \\\n",
       "7                    7.0                10.0            16.0             32.0   \n",
       "8                   19.0                21.0            40.0             40.0   \n",
       "9                    6.0                 9.0             2.0              5.0   \n",
       "14                  17.0                19.0            40.0             50.0   \n",
       "16                  17.0                20.0            36.5             55.0   \n",
       "...                  ...                 ...             ...              ...   \n",
       "52764               20.0                23.0            40.0             60.0   \n",
       "52776               17.0                20.0            35.0             45.0   \n",
       "52777               17.0                20.0            35.0             45.0   \n",
       "52779               17.0                19.0            40.0             50.0   \n",
       "52795               17.0                19.0            40.0             50.0   \n",
       "\n",
       "       time_in_shelter  \n",
       "7                   49  \n",
       "8                    0  \n",
       "9                    9  \n",
       "14                   0  \n",
       "16                  23  \n",
       "...                ...  \n",
       "52764                7  \n",
       "52776                6  \n",
       "52777                7  \n",
       "52779                7  \n",
       "52795                1  \n",
       "\n",
       "[21222 rows x 22 columns]"
      ]
     },
     "execution_count": 196,
     "metadata": {},
     "output_type": "execute_result"
    }
   ],
   "source": [
    "data[data['breed_1'].isin(common_breeds)]"
   ]
  },
  {
   "cell_type": "code",
   "execution_count": 197,
   "metadata": {},
   "outputs": [
    {
     "data": {
      "text/plain": [
       "ibizan hound                   6\n",
       "chinese crested                5\n",
       "field spaniel                  5\n",
       "keeshond                       4\n",
       "irish wolfhound                4\n",
       "samoyed                        3\n",
       "clumber spaniel                3\n",
       "kuvasz                         3\n",
       "german pinscher                3\n",
       "wirehaired pointing griffon    3\n",
       "skye terrier                   3\n",
       "belgian sheepdog               3\n",
       "welsh springer spaniel         3\n",
       "english setter                 3\n",
       "saluki                         2\n",
       "borzoi                         2\n",
       "gordon setter                  2\n",
       "lakeland terrier               2\n",
       "irish setter                   2\n",
       "english springer spaniel       1\n",
       "japanese chin                  1\n",
       "belgian tervuren               1\n",
       "norwegian elkhound             1\n",
       "otterhound                     1\n",
       "old english sheepdog           1\n",
       "Name: breed_2, dtype: int64"
      ]
     },
     "execution_count": 197,
     "metadata": {},
     "output_type": "execute_result"
    }
   ],
   "source": [
    "data['breed_2'].value_counts().tail(25)"
   ]
  },
  {
   "cell_type": "code",
   "execution_count": 198,
   "metadata": {},
   "outputs": [
    {
     "data": {
      "text/plain": [
       "19.341495150224745"
      ]
     },
     "execution_count": 198,
     "metadata": {},
     "output_type": "execute_result"
    }
   ],
   "source": [
    "data['time_in_shelter'].mean()"
   ]
  },
  {
   "cell_type": "markdown",
   "metadata": {},
   "source": [
    "Set time cutoffs"
   ]
  },
  {
   "cell_type": "code",
   "execution_count": 199,
   "metadata": {},
   "outputs": [],
   "source": [
    "data['at_risk'] = np.where(data['time_in_shelter'] > 20, 1, 0)"
   ]
  },
  {
   "cell_type": "code",
   "execution_count": 200,
   "metadata": {},
   "outputs": [
    {
     "data": {
      "text/plain": [
       "0    0.752583\n",
       "1    0.247417\n",
       "Name: at_risk, dtype: float64"
      ]
     },
     "execution_count": 200,
     "metadata": {},
     "output_type": "execute_result"
    }
   ],
   "source": [
    "data['at_risk'].value_counts(normalize=True)"
   ]
  },
  {
   "cell_type": "code",
   "execution_count": 201,
   "metadata": {},
   "outputs": [
    {
     "data": {
      "text/plain": [
       "1    0.540995\n",
       "0    0.459005\n",
       "Name: at_risk, dtype: float64"
      ]
     },
     "execution_count": 201,
     "metadata": {},
     "output_type": "execute_result"
    }
   ],
   "source": [
    "data[data['time_in_shelter'] > 7]['at_risk'].value_counts(normalize=True)"
   ]
  },
  {
   "cell_type": "markdown",
   "metadata": {},
   "source": [
    "Final Clean for export"
   ]
  },
  {
   "cell_type": "code",
   "execution_count": 202,
   "metadata": {},
   "outputs": [],
   "source": [
    "data = data[data['time_in_shelter'] > 7].copy()"
   ]
  },
  {
   "cell_type": "code",
   "execution_count": 203,
   "metadata": {},
   "outputs": [],
   "source": [
    "data = data[\n",
    "        (data['intake_type'] != 'euth_request')                                         &\n",
    "        (~data['outcome'].isin(['return_owner', 'missing', 'disposal', 'transfer']))    &\n",
    "        (data['condition'] != 'neonatal')\n",
    "]"
   ]
  },
  {
   "cell_type": "code",
   "execution_count": 204,
   "metadata": {},
   "outputs": [],
   "source": [
    "data.loc[data['condition'] == 'pregnant', 'cond'] = 'nursing'\n",
    "data.loc[data['condition'] == 'medical', 'cond'] = 'injured'\n",
    "data.loc[data['condition'] == 'sick', 'cond'] = 'injured'\n",
    "data['age'] = data['age'].str.lower()"
   ]
  },
  {
   "cell_type": "markdown",
   "metadata": {},
   "source": [
    "Creat classifier for dogs not in top 20 most common breeds."
   ]
  },
  {
   "cell_type": "code",
   "execution_count": 205,
   "metadata": {},
   "outputs": [],
   "source": [
    "data['breed_3'] = np.where(~data['breed_1'].isin(common_breeds), 'other', data['breed_1'])"
   ]
  },
  {
   "cell_type": "code",
   "execution_count": 206,
   "metadata": {},
   "outputs": [
    {
     "data": {
      "text/plain": [
       "pit bull                 2390\n",
       "labrador retriever       2088\n",
       "other                    1668\n",
       "chihuahua                1352\n",
       "german shepherd           984\n",
       "australian cattle dog     697\n",
       "border collie             291\n",
       "dachshund                 289\n",
       "boxer                     270\n",
       "siberian husky            244\n",
       "australian shepherd       198\n",
       "great pyrenees            172\n",
       "pointer                   164\n",
       "jack russell terrier      132\n",
       "beagle                    123\n",
       "fox terrier               112\n",
       "miniature poodle           98\n",
       "cairn terrier              96\n",
       "anatolian sheepdog         89\n",
       "miniature schnauzer        76\n",
       "yorkshire terrier          66\n",
       "Name: breed_3, dtype: int64"
      ]
     },
     "execution_count": 206,
     "metadata": {},
     "output_type": "execute_result"
    }
   ],
   "source": [
    "data['breed_3'].value_counts()"
   ]
  },
  {
   "cell_type": "markdown",
   "metadata": {},
   "source": [
    "# Export Model Data"
   ]
  },
  {
   "cell_type": "code",
   "execution_count": 207,
   "metadata": {},
   "outputs": [],
   "source": [
    "data.to_csv('./datasets/working_data/model_data_full.csv', index=False)"
   ]
  }
 ],
 "metadata": {
  "interpreter": {
   "hash": "6aaf12f00e2accd7ab3a69f0361120d5b81b11b109d190d2913220c8ee37ccf8"
  },
  "kernelspec": {
   "display_name": "Python 3.9.7 ('base')",
   "language": "python",
   "name": "python3"
  },
  "language_info": {
   "codemirror_mode": {
    "name": "ipython",
    "version": 3
   },
   "file_extension": ".py",
   "mimetype": "text/x-python",
   "name": "python",
   "nbconvert_exporter": "python",
   "pygments_lexer": "ipython3",
   "version": "3.9.7"
  },
  "orig_nbformat": 4
 },
 "nbformat": 4,
 "nbformat_minor": 2
}
