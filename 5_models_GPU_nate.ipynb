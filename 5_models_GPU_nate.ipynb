{
 "cells": [
  {
   "cell_type": "code",
   "execution_count": 37,
   "metadata": {},
   "outputs": [],
   "source": [
    "import pandas as pd\n",
    "import numpy as np\n",
    "import matplotlib.pyplot as plt\n",
    "\n",
    "from sklearn.model_selection import train_test_split, GridSearchCV\n",
    "from sklearn.preprocessing import StandardScaler, PolynomialFeatures\n",
    "from sklearn.pipeline import make_pipeline\n",
    "\n",
    "from xgboost import XGBClassifier\n",
    "\n",
    "import tensorflow as tf\n",
    "from tensorflow.keras.models import Sequential\n",
    "from tensorflow.keras.layers import Dense, Dropout\n",
    "from tensorflow.keras.callbacks import EarlyStopping\n",
    "from tensorflow.keras.regularizers import l2, l1"
   ]
  },
  {
   "cell_type": "code",
   "execution_count": 2,
   "metadata": {},
   "outputs": [],
   "source": [
    "df = pd.read_csv('./datasets/cleaned_data/shelters_with_stats.csv')"
   ]
  },
  {
   "cell_type": "markdown",
   "metadata": {},
   "source": [
    "# Info"
   ]
  },
  {
   "cell_type": "code",
   "execution_count": 3,
   "metadata": {},
   "outputs": [
    {
     "data": {
      "text/html": [
       "<div>\n",
       "<style scoped>\n",
       "    .dataframe tbody tr th:only-of-type {\n",
       "        vertical-align: middle;\n",
       "    }\n",
       "\n",
       "    .dataframe tbody tr th {\n",
       "        vertical-align: top;\n",
       "    }\n",
       "\n",
       "    .dataframe thead th {\n",
       "        text-align: right;\n",
       "    }\n",
       "</style>\n",
       "<table border=\"1\" class=\"dataframe\">\n",
       "  <thead>\n",
       "    <tr style=\"text-align: right;\">\n",
       "      <th></th>\n",
       "      <th>id</th>\n",
       "      <th>name</th>\n",
       "      <th>date_in</th>\n",
       "      <th>location</th>\n",
       "      <th>intake_type</th>\n",
       "      <th>condition</th>\n",
       "      <th>age_in</th>\n",
       "      <th>breed</th>\n",
       "      <th>color</th>\n",
       "      <th>date_out</th>\n",
       "      <th>...</th>\n",
       "      <th>breed_2</th>\n",
       "      <th>pure</th>\n",
       "      <th>obey</th>\n",
       "      <th>reps_lower</th>\n",
       "      <th>reps_upper</th>\n",
       "      <th>height_low_inches</th>\n",
       "      <th>height_high_inches</th>\n",
       "      <th>weight_low_lbs</th>\n",
       "      <th>weight_high_lbs</th>\n",
       "      <th>time_in_shelter</th>\n",
       "    </tr>\n",
       "  </thead>\n",
       "  <tbody>\n",
       "    <tr>\n",
       "      <th>0</th>\n",
       "      <td>A047759</td>\n",
       "      <td>Oreo</td>\n",
       "      <td>2014-04-02 15:55:00</td>\n",
       "      <td>Austin (TX)</td>\n",
       "      <td>surrender</td>\n",
       "      <td>normal</td>\n",
       "      <td>10.0</td>\n",
       "      <td>dachshund</td>\n",
       "      <td>Tricolor</td>\n",
       "      <td>2014-04-07 15:12:00</td>\n",
       "      <td>...</td>\n",
       "      <td>dachshund</td>\n",
       "      <td>1.0</td>\n",
       "      <td>0.500</td>\n",
       "      <td>26.0</td>\n",
       "      <td>40.0</td>\n",
       "      <td>7.000000</td>\n",
       "      <td>10.000000</td>\n",
       "      <td>16.000000</td>\n",
       "      <td>32.000000</td>\n",
       "      <td>4 days 23:17:00</td>\n",
       "    </tr>\n",
       "    <tr>\n",
       "      <th>1</th>\n",
       "      <td>A134067</td>\n",
       "      <td>Bandit</td>\n",
       "      <td>2013-11-16 09:02:00</td>\n",
       "      <td>12034 Research Blvd in Austin (TX)</td>\n",
       "      <td>public_assist</td>\n",
       "      <td>injured</td>\n",
       "      <td>16.0</td>\n",
       "      <td>shetland sheepdog</td>\n",
       "      <td>Brown/White</td>\n",
       "      <td>2013-11-16 11:54:00</td>\n",
       "      <td>...</td>\n",
       "      <td>shetland sheepdog</td>\n",
       "      <td>1.0</td>\n",
       "      <td>0.950</td>\n",
       "      <td>1.0</td>\n",
       "      <td>4.0</td>\n",
       "      <td>17.941176</td>\n",
       "      <td>20.908497</td>\n",
       "      <td>42.934641</td>\n",
       "      <td>57.522876</td>\n",
       "      <td>0 days 02:52:00</td>\n",
       "    </tr>\n",
       "    <tr>\n",
       "      <th>2</th>\n",
       "      <td>A141142</td>\n",
       "      <td>Bettie</td>\n",
       "      <td>2013-11-16 14:46:00</td>\n",
       "      <td>Austin (TX)</td>\n",
       "      <td>stray</td>\n",
       "      <td>aged</td>\n",
       "      <td>15.0</td>\n",
       "      <td>labrador retriever/pit bull</td>\n",
       "      <td>Black/White</td>\n",
       "      <td>2013-11-17 11:40:00</td>\n",
       "      <td>...</td>\n",
       "      <td>pit bull</td>\n",
       "      <td>0.0</td>\n",
       "      <td>0.825</td>\n",
       "      <td>8.5</td>\n",
       "      <td>14.5</td>\n",
       "      <td>19.000000</td>\n",
       "      <td>21.500000</td>\n",
       "      <td>47.500000</td>\n",
       "      <td>65.000000</td>\n",
       "      <td>0 days 20:54:00</td>\n",
       "    </tr>\n",
       "    <tr>\n",
       "      <th>3</th>\n",
       "      <td>A163459</td>\n",
       "      <td>Sasha</td>\n",
       "      <td>2014-11-14 15:11:00</td>\n",
       "      <td>Ih 35 And 41St St in Austin (TX)</td>\n",
       "      <td>stray</td>\n",
       "      <td>normal</td>\n",
       "      <td>15.0</td>\n",
       "      <td>miniature schnauzer</td>\n",
       "      <td>Black/Gray</td>\n",
       "      <td>2014-11-14 19:28:00</td>\n",
       "      <td>...</td>\n",
       "      <td>miniature schnauzer</td>\n",
       "      <td>1.0</td>\n",
       "      <td>0.850</td>\n",
       "      <td>5.0</td>\n",
       "      <td>15.0</td>\n",
       "      <td>17.941176</td>\n",
       "      <td>20.908497</td>\n",
       "      <td>42.934641</td>\n",
       "      <td>57.522876</td>\n",
       "      <td>0 days 04:17:00</td>\n",
       "    </tr>\n",
       "    <tr>\n",
       "      <th>4</th>\n",
       "      <td>A165752</td>\n",
       "      <td>Pep</td>\n",
       "      <td>2014-09-15 11:28:00</td>\n",
       "      <td>Gatlin Gun Rd And Brodie in Austin (TX)</td>\n",
       "      <td>stray</td>\n",
       "      <td>normal</td>\n",
       "      <td>15.0</td>\n",
       "      <td>lhasa apso</td>\n",
       "      <td>Brown/White</td>\n",
       "      <td>2014-09-15 16:35:00</td>\n",
       "      <td>...</td>\n",
       "      <td>lhasa apso</td>\n",
       "      <td>1.0</td>\n",
       "      <td>0.300</td>\n",
       "      <td>41.0</td>\n",
       "      <td>80.0</td>\n",
       "      <td>17.941176</td>\n",
       "      <td>20.908497</td>\n",
       "      <td>42.934641</td>\n",
       "      <td>57.522876</td>\n",
       "      <td>0 days 05:07:00</td>\n",
       "    </tr>\n",
       "  </tbody>\n",
       "</table>\n",
       "<p>5 rows × 30 columns</p>\n",
       "</div>"
      ],
      "text/plain": [
       "        id    name              date_in  \\\n",
       "0  A047759    Oreo  2014-04-02 15:55:00   \n",
       "1  A134067  Bandit  2013-11-16 09:02:00   \n",
       "2  A141142  Bettie  2013-11-16 14:46:00   \n",
       "3  A163459   Sasha  2014-11-14 15:11:00   \n",
       "4  A165752     Pep  2014-09-15 11:28:00   \n",
       "\n",
       "                                  location    intake_type condition  age_in  \\\n",
       "0                              Austin (TX)      surrender    normal    10.0   \n",
       "1       12034 Research Blvd in Austin (TX)  public_assist   injured    16.0   \n",
       "2                              Austin (TX)          stray      aged    15.0   \n",
       "3         Ih 35 And 41St St in Austin (TX)          stray    normal    15.0   \n",
       "4  Gatlin Gun Rd And Brodie in Austin (TX)          stray    normal    15.0   \n",
       "\n",
       "                         breed        color             date_out  ...  \\\n",
       "0                    dachshund     Tricolor  2014-04-07 15:12:00  ...   \n",
       "1            shetland sheepdog  Brown/White  2013-11-16 11:54:00  ...   \n",
       "2  labrador retriever/pit bull  Black/White  2013-11-17 11:40:00  ...   \n",
       "3          miniature schnauzer   Black/Gray  2014-11-14 19:28:00  ...   \n",
       "4                   lhasa apso  Brown/White  2014-09-15 16:35:00  ...   \n",
       "\n",
       "               breed_2 pure   obey  reps_lower  reps_upper  height_low_inches  \\\n",
       "0            dachshund  1.0  0.500        26.0        40.0           7.000000   \n",
       "1    shetland sheepdog  1.0  0.950         1.0         4.0          17.941176   \n",
       "2             pit bull  0.0  0.825         8.5        14.5          19.000000   \n",
       "3  miniature schnauzer  1.0  0.850         5.0        15.0          17.941176   \n",
       "4           lhasa apso  1.0  0.300        41.0        80.0          17.941176   \n",
       "\n",
       "  height_high_inches weight_low_lbs weight_high_lbs  time_in_shelter  \n",
       "0          10.000000      16.000000       32.000000  4 days 23:17:00  \n",
       "1          20.908497      42.934641       57.522876  0 days 02:52:00  \n",
       "2          21.500000      47.500000       65.000000  0 days 20:54:00  \n",
       "3          20.908497      42.934641       57.522876  0 days 04:17:00  \n",
       "4          20.908497      42.934641       57.522876  0 days 05:07:00  \n",
       "\n",
       "[5 rows x 30 columns]"
      ]
     },
     "execution_count": 3,
     "metadata": {},
     "output_type": "execute_result"
    }
   ],
   "source": [
    "df.head()"
   ]
  },
  {
   "cell_type": "code",
   "execution_count": 4,
   "metadata": {},
   "outputs": [
    {
     "name": "stdout",
     "output_type": "stream",
     "text": [
      "<class 'pandas.core.frame.DataFrame'>\n",
      "RangeIndex: 53513 entries, 0 to 53512\n",
      "Data columns (total 30 columns):\n",
      " #   Column              Non-Null Count  Dtype  \n",
      "---  ------              --------------  -----  \n",
      " 0   id                  53513 non-null  object \n",
      " 1   name                53513 non-null  object \n",
      " 2   date_in             53513 non-null  object \n",
      " 3   location            53513 non-null  object \n",
      " 4   intake_type         53512 non-null  object \n",
      " 5   condition           53504 non-null  object \n",
      " 6   age_in              53513 non-null  float64\n",
      " 7   breed               53513 non-null  object \n",
      " 8   color               53513 non-null  object \n",
      " 9   date_out            53513 non-null  object \n",
      " 10  dob                 53513 non-null  object \n",
      " 11  outcome             53513 non-null  object \n",
      " 12  age_out             53513 non-null  float64\n",
      " 13  sex                 53513 non-null  int64  \n",
      " 14  intact_in           53513 non-null  int64  \n",
      " 15  intact_out          53513 non-null  int64  \n",
      " 16  age                 53513 non-null  object \n",
      " 17  primary_color       53513 non-null  object \n",
      " 18  secondary_color     53513 non-null  object \n",
      " 19  breed_1             53513 non-null  object \n",
      " 20  breed_2             53513 non-null  object \n",
      " 21  pure                53513 non-null  float64\n",
      " 22  obey                52803 non-null  float64\n",
      " 23  reps_lower          52803 non-null  float64\n",
      " 24  reps_upper          52803 non-null  float64\n",
      " 25  height_low_inches   52803 non-null  float64\n",
      " 26  height_high_inches  52803 non-null  float64\n",
      " 27  weight_low_lbs      52803 non-null  float64\n",
      " 28  weight_high_lbs     52803 non-null  float64\n",
      " 29  time_in_shelter     53513 non-null  object \n",
      "dtypes: float64(10), int64(3), object(17)\n",
      "memory usage: 12.2+ MB\n"
     ]
    }
   ],
   "source": [
    "df.info()"
   ]
  },
  {
   "cell_type": "markdown",
   "metadata": {},
   "source": [
    "# Minor changes, might have to remove once Gene's cleaning is done"
   ]
  },
  {
   "cell_type": "code",
   "execution_count": 5,
   "metadata": {},
   "outputs": [],
   "source": [
    "# filter out deceased, missing, euthanasia, died, disposal, and missing outcomes\n",
    "df = df[(df['outcome'] == 'adoption') | (df['outcome'] == 'transfer') | (df['outcome'] == 'return_owner')]"
   ]
  },
  {
   "cell_type": "code",
   "execution_count": 6,
   "metadata": {},
   "outputs": [],
   "source": [
    "df.dropna(inplace=True)"
   ]
  },
  {
   "cell_type": "code",
   "execution_count": 7,
   "metadata": {},
   "outputs": [],
   "source": [
    "# create new column for adoption\n",
    "# 1 = adopted, 0 = owner_return or transfer\n",
    "df['adopted'] = df['outcome'].map({'adoption':1, 'return_owner':0, 'transfer':0})"
   ]
  },
  {
   "cell_type": "code",
   "execution_count": 8,
   "metadata": {},
   "outputs": [],
   "source": [
    "df['time_in_shelter'] = pd.to_timedelta(df['time_in_shelter'])\n",
    "df['time_in_shelter'] = df['time_in_shelter'].dt.days"
   ]
  },
  {
   "cell_type": "markdown",
   "metadata": {},
   "source": [
    "# Functions"
   ]
  },
  {
   "cell_type": "code",
   "execution_count": 9,
   "metadata": {},
   "outputs": [],
   "source": [
    "# Function taken from lesson, created by Jeff\n",
    "def plot_hist(hist):\n",
    "    \"\"\" plot the results from neural net training \n",
    "    \n",
    "    Args:\n",
    "        hist (TF history object): The history of the training\n",
    "    \n",
    "    Returns: \n",
    "        None\n",
    "    \"\"\"\n",
    "    \n",
    "    plt.figure(figsize=(12, 8))\n",
    "\n",
    "    plt.plot(hist.history['accuracy'], label='Train')\n",
    "    plt.plot(hist.history['val_accuracy'], label='Validation')\n",
    "\n",
    "    plt.title('NN Performance on Shelter Data', fontsize=25)\n",
    "    plt.xlabel('Epoch', fontsize=18)\n",
    "    plt.ylabel('Accuracy', fontsize=18)\n",
    "\n",
    "\n",
    "    plt.legend(fontsize=18);"
   ]
  },
  {
   "cell_type": "code",
   "execution_count": null,
   "metadata": {},
   "outputs": [],
   "source": []
  },
  {
   "cell_type": "markdown",
   "metadata": {},
   "source": [
    "# NN Model"
   ]
  },
  {
   "cell_type": "code",
   "execution_count": 10,
   "metadata": {},
   "outputs": [],
   "source": [
    "X = df[\n",
    "    [\n",
    "        \"pure\",\n",
    "        \"obey\",\n",
    "        \"reps_lower\",\n",
    "        \"reps_upper\",\n",
    "        \"height_low_inches\",\n",
    "        \"height_high_inches\",\n",
    "        \"weight_low_lbs\",\n",
    "        \"weight_high_lbs\",\n",
    "        \"age_in\",\n",
    "        \"sex\",\n",
    "        # \"intake_type\",\n",
    "        \"intact_in\",\n",
    "    ]\n",
    "]\n",
    "\n",
    "y = df[\"adopted\"]\n",
    "\n",
    "X_train, X_test, y_train, y_test = train_test_split(X, y, random_state=101, stratify=y)\n"
   ]
  },
  {
   "cell_type": "code",
   "execution_count": 11,
   "metadata": {},
   "outputs": [
    {
     "data": {
      "text/plain": [
       "0    0.525015\n",
       "1    0.474985\n",
       "Name: adopted, dtype: float64"
      ]
     },
     "execution_count": 11,
     "metadata": {},
     "output_type": "execute_result"
    }
   ],
   "source": [
    "y.value_counts(normalize=True)"
   ]
  },
  {
   "cell_type": "code",
   "execution_count": null,
   "metadata": {},
   "outputs": [],
   "source": []
  },
  {
   "cell_type": "code",
   "execution_count": 12,
   "metadata": {},
   "outputs": [
    {
     "name": "stdout",
     "output_type": "stream",
     "text": [
      "Epoch 1/20\n",
      "597/597 [==============================] - 4s 5ms/step - loss: 0.8602 - accuracy: 0.5154 - val_loss: 0.7714 - val_accuracy: 0.5250\n",
      "Epoch 2/20\n",
      "597/597 [==============================] - 3s 5ms/step - loss: 0.7596 - accuracy: 0.5243 - val_loss: 0.7478 - val_accuracy: 0.5250\n",
      "Epoch 3/20\n",
      "597/597 [==============================] - 4s 6ms/step - loss: 0.7394 - accuracy: 0.5239 - val_loss: 0.7294 - val_accuracy: 0.5250\n",
      "Epoch 4/20\n",
      "597/597 [==============================] - 4s 6ms/step - loss: 0.7238 - accuracy: 0.5347 - val_loss: 0.7114 - val_accuracy: 0.5710\n",
      "Epoch 5/20\n",
      "597/597 [==============================] - 4s 7ms/step - loss: 0.7057 - accuracy: 0.5629 - val_loss: 0.6929 - val_accuracy: 0.5763\n",
      "Epoch 6/20\n",
      "597/597 [==============================] - 4s 6ms/step - loss: 0.6953 - accuracy: 0.5772 - val_loss: 0.6892 - val_accuracy: 0.5895\n",
      "Epoch 7/20\n",
      "597/597 [==============================] - 4s 6ms/step - loss: 0.6861 - accuracy: 0.5842 - val_loss: 0.6788 - val_accuracy: 0.5863\n",
      "Epoch 8/20\n",
      "597/597 [==============================] - 4s 6ms/step - loss: 0.6800 - accuracy: 0.5897 - val_loss: 0.6772 - val_accuracy: 0.5900\n",
      "Epoch 9/20\n",
      "597/597 [==============================] - 4s 6ms/step - loss: 0.6766 - accuracy: 0.5922 - val_loss: 0.6701 - val_accuracy: 0.6009\n",
      "Epoch 10/20\n",
      "597/597 [==============================] - 4s 6ms/step - loss: 0.6736 - accuracy: 0.5911 - val_loss: 0.6674 - val_accuracy: 0.6013\n",
      "Epoch 11/20\n",
      "597/597 [==============================] - 4s 6ms/step - loss: 0.6723 - accuracy: 0.5911 - val_loss: 0.6666 - val_accuracy: 0.5981\n",
      "Epoch 12/20\n",
      "597/597 [==============================] - 4s 6ms/step - loss: 0.6704 - accuracy: 0.5930 - val_loss: 0.6660 - val_accuracy: 0.6034\n",
      "Epoch 13/20\n",
      "597/597 [==============================] - 4s 6ms/step - loss: 0.6688 - accuracy: 0.5952 - val_loss: 0.6632 - val_accuracy: 0.6042\n",
      "Epoch 14/20\n",
      "597/597 [==============================] - 4s 6ms/step - loss: 0.6679 - accuracy: 0.6011 - val_loss: 0.6641 - val_accuracy: 0.6019\n",
      "Epoch 15/20\n",
      "597/597 [==============================] - 4s 7ms/step - loss: 0.6682 - accuracy: 0.5961 - val_loss: 0.6630 - val_accuracy: 0.6044\n",
      "Epoch 16/20\n",
      "597/597 [==============================] - 4s 6ms/step - loss: 0.6684 - accuracy: 0.5969 - val_loss: 0.6621 - val_accuracy: 0.6039\n",
      "Epoch 17/20\n",
      "597/597 [==============================] - 4s 6ms/step - loss: 0.6666 - accuracy: 0.5999 - val_loss: 0.6643 - val_accuracy: 0.6025\n",
      "Epoch 18/20\n",
      "597/597 [==============================] - 4s 6ms/step - loss: 0.6676 - accuracy: 0.5989 - val_loss: 0.6637 - val_accuracy: 0.6021\n",
      "Epoch 19/20\n",
      "597/597 [==============================] - 4s 6ms/step - loss: 0.6668 - accuracy: 0.5984 - val_loss: 0.6650 - val_accuracy: 0.5977\n",
      "Epoch 20/20\n",
      "597/597 [==============================] - 4s 6ms/step - loss: 0.6672 - accuracy: 0.5989 - val_loss: 0.6621 - val_accuracy: 0.6064\n"
     ]
    }
   ],
   "source": [
    "model = Sequential()\n",
    "\n",
    "model.add(Dense(128, activation='relu', kernel_regularizer=l2(.001))),\n",
    "model.add(Dropout(.25))\n",
    "model.add(Dense(64, activation='relu', kernel_regularizer=l2(.001))),\n",
    "model.add(Dropout(.25))\n",
    "model.add(Dense(32, activation='relu', kernel_regularizer=l2(.001))),\n",
    "model.add(Dropout(.25))\n",
    "model.add(Dense(1, activation='sigmoid'))\n",
    "\n",
    "model.compile(optimizer='adam', loss='bce', metrics=['accuracy'])\n",
    "\n",
    "history = model.fit(\n",
    "    X_train,\n",
    "    y_train,\n",
    "    validation_data=(X_test, y_test),\n",
    "    batch_size=64,\n",
    "    epochs=20,\n",
    "    callbacks=EarlyStopping(patience=5)\n",
    ")"
   ]
  },
  {
   "cell_type": "code",
   "execution_count": 13,
   "metadata": {},
   "outputs": [
    {
     "data": {
      "image/png": "[encoded data removed]",
      "text/plain": [
       "<Figure size 864x576 with 1 Axes>"
      ]
     },
     "metadata": {
      "needs_background": "light"
     },
     "output_type": "display_data"
    }
   ],
   "source": [
    "plot_hist(history)"
   ]
  },
  {
   "cell_type": "code",
   "execution_count": null,
   "metadata": {},
   "outputs": [],
   "source": []
  },
  {
   "cell_type": "code",
   "execution_count": null,
   "metadata": {},
   "outputs": [],
   "source": []
  },
  {
   "cell_type": "markdown",
   "metadata": {},
   "source": [
    "# XGBClassifier"
   ]
  },
  {
   "cell_type": "code",
   "execution_count": 35,
   "metadata": {},
   "outputs": [
    {
     "data": {
      "text/plain": [
       "XGBClassifier(base_score=0.5, booster='gbtree', colsample_bylevel=1,\n",
       "              colsample_bynode=1, colsample_bytree=1, enable_categorical=False,\n",
       "              eval_metric='logloss', gamma=0, gpu_id=0, importance_type=None,\n",
       "              interaction_constraints='', learning_rate=0.500000012,\n",
       "              max_delta_step=0, max_depth=6, min_child_weight=1, missing=nan,\n",
       "              monotone_constraints='()', n_estimators=200, n_jobs=20,\n",
       "              num_parallel_tree=1, predictor='auto', random_state=0,\n",
       "              reg_alpha=0, reg_lambda=1, scale_pos_weight=1, subsample=1,\n",
       "              tree_method='gpu_hist', use_label_encoder=False,\n",
       "              validate_parameters=1, verbosity=None)"
      ]
     },
     "execution_count": 35,
     "metadata": {},
     "output_type": "execute_result"
    }
   ],
   "source": [
    "xgb = XGBClassifier(\n",
    "    n_estimators=200, \n",
    "    use_label_encoder=False,\n",
    "    eval_metric='logloss',      # what metric here?\n",
    "    tree_method='gpu_hist', \n",
    "    gpu_id=0\n",
    ")\n",
    "\n",
    "xgb.fit(X_train, y_train)"
   ]
  },
  {
   "cell_type": "code",
   "execution_count": 36,
   "metadata": {},
   "outputs": [
    {
     "name": "stdout",
     "output_type": "stream",
     "text": [
      "Train Score:  0.6620153415189675\n",
      "Train Score:  0.6108536872693002\n"
     ]
    }
   ],
   "source": [
    "print('Train Score: ', xgb.score(X_train, y_train))\n",
    "print('Train Score: ', xgb.score(X_test, y_test))"
   ]
  },
  {
   "cell_type": "code",
   "execution_count": null,
   "metadata": {},
   "outputs": [],
   "source": []
  }
 ],
 "metadata": {
  "interpreter": {
   "hash": "b3ba2566441a7c06988d0923437866b63cedc61552a5af99d1f4fb67d367b25f"
  },
  "kernelspec": {
   "display_name": "Python 3.9.7 ('base')",
   "language": "python",
   "name": "python3"
  },
  "language_info": {
   "codemirror_mode": {
    "name": "ipython",
    "version": 3
   },
   "file_extension": ".py",
   "mimetype": "text/x-python",
   "name": "python",
   "nbconvert_exporter": "python",
   "pygments_lexer": "ipython3",
   "version": "3.9.7"
  },
  "orig_nbformat": 4
 },
 "nbformat": 4,
 "nbformat_minor": 2
}
