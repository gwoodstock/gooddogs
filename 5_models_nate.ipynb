{
 "cells": [
  {
   "cell_type": "code",
   "execution_count": 2,
   "metadata": {},
   "outputs": [],
   "source": [
    "import pandas as pd\n",
    "import numpy as np\n",
    "\n",
    "from sklearn.linear_model import LinearRegression, Lasso, Ridge, LogisticRegression\n",
    "from sklearn.naive_bayes import MultinomialNB\n",
    "from sklearn.preprocessing import StandardScaler, PolynomialFeatures, OneHotEncoder\n",
    "from sklearn.model_selection import train_test_split, GridSearchCV, StratifiedKFold\n",
    "from sklearn.svm import LinearSVC, SVC\n",
    "from sklearn.pipeline import make_pipeline\n",
    "from sklearn.compose import make_column_selector, make_column_transformer\n",
    "from sklearn.metrics import mean_squared_error"
   ]
  },
  {
   "cell_type": "code",
   "execution_count": 3,
   "metadata": {},
   "outputs": [],
   "source": [
    "shelters = pd.read_csv('./datasets/cleaned_data/shelters_with_stats.csv')"
   ]
  },
  {
   "cell_type": "code",
   "execution_count": 4,
   "metadata": {},
   "outputs": [
    {
     "data": {
      "text/html": [
       "<div>\n",
       "<style scoped>\n",
       "    .dataframe tbody tr th:only-of-type {\n",
       "        vertical-align: middle;\n",
       "    }\n",
       "\n",
       "    .dataframe tbody tr th {\n",
       "        vertical-align: top;\n",
       "    }\n",
       "\n",
       "    .dataframe thead th {\n",
       "        text-align: right;\n",
       "    }\n",
       "</style>\n",
       "<table border=\"1\" class=\"dataframe\">\n",
       "  <thead>\n",
       "    <tr style=\"text-align: right;\">\n",
       "      <th></th>\n",
       "      <th>id</th>\n",
       "      <th>name</th>\n",
       "      <th>date_in</th>\n",
       "      <th>location</th>\n",
       "      <th>intake_type</th>\n",
       "      <th>condition</th>\n",
       "      <th>age_in</th>\n",
       "      <th>breed</th>\n",
       "      <th>color</th>\n",
       "      <th>date_out</th>\n",
       "      <th>...</th>\n",
       "      <th>breed_2</th>\n",
       "      <th>pure</th>\n",
       "      <th>obey</th>\n",
       "      <th>reps_lower</th>\n",
       "      <th>reps_upper</th>\n",
       "      <th>height_low_inches</th>\n",
       "      <th>height_high_inches</th>\n",
       "      <th>weight_low_lbs</th>\n",
       "      <th>weight_high_lbs</th>\n",
       "      <th>time_in_shelter</th>\n",
       "    </tr>\n",
       "  </thead>\n",
       "  <tbody>\n",
       "    <tr>\n",
       "      <th>0</th>\n",
       "      <td>A047759</td>\n",
       "      <td>Oreo</td>\n",
       "      <td>2014-04-02 15:55:00</td>\n",
       "      <td>Austin (TX)</td>\n",
       "      <td>surrender</td>\n",
       "      <td>normal</td>\n",
       "      <td>10.0</td>\n",
       "      <td>dachshund</td>\n",
       "      <td>Tricolor</td>\n",
       "      <td>2014-04-07 15:12:00</td>\n",
       "      <td>...</td>\n",
       "      <td>dachshund</td>\n",
       "      <td>1.0</td>\n",
       "      <td>0.50</td>\n",
       "      <td>26.0</td>\n",
       "      <td>40.0</td>\n",
       "      <td>7.000000</td>\n",
       "      <td>10.000000</td>\n",
       "      <td>16.000000</td>\n",
       "      <td>32.000000</td>\n",
       "      <td>4 days 23:17:00</td>\n",
       "    </tr>\n",
       "    <tr>\n",
       "      <th>1</th>\n",
       "      <td>A134067</td>\n",
       "      <td>Bandit</td>\n",
       "      <td>2013-11-16 09:02:00</td>\n",
       "      <td>12034 Research Blvd in Austin (TX)</td>\n",
       "      <td>public_assist</td>\n",
       "      <td>injured</td>\n",
       "      <td>16.0</td>\n",
       "      <td>shetland sheepdog</td>\n",
       "      <td>Brown/White</td>\n",
       "      <td>2013-11-16 11:54:00</td>\n",
       "      <td>...</td>\n",
       "      <td>shetland sheepdog</td>\n",
       "      <td>1.0</td>\n",
       "      <td>0.95</td>\n",
       "      <td>1.0</td>\n",
       "      <td>4.0</td>\n",
       "      <td>17.941176</td>\n",
       "      <td>20.908497</td>\n",
       "      <td>42.934641</td>\n",
       "      <td>57.522876</td>\n",
       "      <td>0 days 02:52:00</td>\n",
       "    </tr>\n",
       "  </tbody>\n",
       "</table>\n",
       "<p>2 rows × 30 columns</p>\n",
       "</div>"
      ],
      "text/plain": [
       "        id    name              date_in                            location  \\\n",
       "0  A047759    Oreo  2014-04-02 15:55:00                         Austin (TX)   \n",
       "1  A134067  Bandit  2013-11-16 09:02:00  12034 Research Blvd in Austin (TX)   \n",
       "\n",
       "     intake_type condition  age_in              breed        color  \\\n",
       "0      surrender    normal    10.0          dachshund     Tricolor   \n",
       "1  public_assist   injured    16.0  shetland sheepdog  Brown/White   \n",
       "\n",
       "              date_out  ...            breed_2 pure  obey  reps_lower  \\\n",
       "0  2014-04-07 15:12:00  ...          dachshund  1.0  0.50        26.0   \n",
       "1  2013-11-16 11:54:00  ...  shetland sheepdog  1.0  0.95         1.0   \n",
       "\n",
       "   reps_upper  height_low_inches height_high_inches weight_low_lbs  \\\n",
       "0        40.0           7.000000          10.000000      16.000000   \n",
       "1         4.0          17.941176          20.908497      42.934641   \n",
       "\n",
       "  weight_high_lbs  time_in_shelter  \n",
       "0       32.000000  4 days 23:17:00  \n",
       "1       57.522876  0 days 02:52:00  \n",
       "\n",
       "[2 rows x 30 columns]"
      ]
     },
     "execution_count": 4,
     "metadata": {},
     "output_type": "execute_result"
    }
   ],
   "source": [
    "shelters.head(2)"
   ]
  },
  {
   "cell_type": "code",
   "execution_count": 5,
   "metadata": {},
   "outputs": [
    {
     "name": "stdout",
     "output_type": "stream",
     "text": [
      "<class 'pandas.core.frame.DataFrame'>\n",
      "RangeIndex: 53513 entries, 0 to 53512\n",
      "Data columns (total 30 columns):\n",
      " #   Column              Non-Null Count  Dtype  \n",
      "---  ------              --------------  -----  \n",
      " 0   id                  53513 non-null  object \n",
      " 1   name                53513 non-null  object \n",
      " 2   date_in             53513 non-null  object \n",
      " 3   location            53513 non-null  object \n",
      " 4   intake_type         53512 non-null  object \n",
      " 5   condition           53504 non-null  object \n",
      " 6   age_in              53513 non-null  float64\n",
      " 7   breed               53513 non-null  object \n",
      " 8   color               53513 non-null  object \n",
      " 9   date_out            53513 non-null  object \n",
      " 10  dob                 53513 non-null  object \n",
      " 11  outcome             53513 non-null  object \n",
      " 12  age_out             53513 non-null  float64\n",
      " 13  sex                 53513 non-null  int64  \n",
      " 14  intact_in           53513 non-null  int64  \n",
      " 15  intact_out          53513 non-null  int64  \n",
      " 16  age                 53513 non-null  object \n",
      " 17  primary_color       53513 non-null  object \n",
      " 18  secondary_color     53513 non-null  object \n",
      " 19  breed_1             53513 non-null  object \n",
      " 20  breed_2             53513 non-null  object \n",
      " 21  pure                53513 non-null  float64\n",
      " 22  obey                52803 non-null  float64\n",
      " 23  reps_lower          52803 non-null  float64\n",
      " 24  reps_upper          52803 non-null  float64\n",
      " 25  height_low_inches   52803 non-null  float64\n",
      " 26  height_high_inches  52803 non-null  float64\n",
      " 27  weight_low_lbs      52803 non-null  float64\n",
      " 28  weight_high_lbs     52803 non-null  float64\n",
      " 29  time_in_shelter     53513 non-null  object \n",
      "dtypes: float64(10), int64(3), object(17)\n",
      "memory usage: 12.2+ MB\n"
     ]
    }
   ],
   "source": [
    "shelters.info()"
   ]
  },
  {
   "cell_type": "code",
   "execution_count": 6,
   "metadata": {},
   "outputs": [
    {
     "data": {
      "text/plain": [
       "Index(['id', 'name', 'date_in', 'location', 'intake_type', 'condition',\n",
       "       'age_in', 'breed', 'color', 'date_out', 'dob', 'outcome', 'age_out',\n",
       "       'sex', 'intact_in', 'intact_out', 'age', 'primary_color',\n",
       "       'secondary_color', 'breed_1', 'breed_2', 'pure', 'obey', 'reps_lower',\n",
       "       'reps_upper', 'height_low_inches', 'height_high_inches',\n",
       "       'weight_low_lbs', 'weight_high_lbs', 'time_in_shelter'],\n",
       "      dtype='object')"
      ]
     },
     "execution_count": 6,
     "metadata": {},
     "output_type": "execute_result"
    }
   ],
   "source": [
    "shelters.columns"
   ]
  },
  {
   "cell_type": "markdown",
   "metadata": {},
   "source": [
    "# Filtering and dropping missing values"
   ]
  },
  {
   "cell_type": "code",
   "execution_count": 7,
   "metadata": {},
   "outputs": [],
   "source": [
    "# filter out deceased, missing, euthanasia, died, disposal, and missing outcomes\n",
    "shelters = shelters[(shelters['outcome'] == 'adoption') | (shelters['outcome'] == 'transfer') | (shelters['outcome'] == 'return_owner')]"
   ]
  },
  {
   "cell_type": "code",
   "execution_count": 8,
   "metadata": {},
   "outputs": [],
   "source": [
    "shelters.dropna(inplace=True)"
   ]
  },
  {
   "cell_type": "code",
   "execution_count": 9,
   "metadata": {},
   "outputs": [],
   "source": [
    "# create new column for adoption\n",
    "# 1 = adopted, 0 = owner_return or transfer\n",
    "shelters['adopted'] = shelters['outcome'].map({'adoption':1, 'return_owner':0, 'transfer':0})"
   ]
  },
  {
   "cell_type": "code",
   "execution_count": 10,
   "metadata": {},
   "outputs": [],
   "source": [
    "shelters['time_in_shelter'] = pd.to_timedelta(shelters['time_in_shelter'])\n",
    "shelters['time_in_shelter'] = shelters['time_in_shelter'].dt.days"
   ]
  },
  {
   "cell_type": "code",
   "execution_count": 11,
   "metadata": {},
   "outputs": [],
   "source": [
    "shelters = shelters[shelters['time_in_shelter'] > 2]"
   ]
  },
  {
   "cell_type": "markdown",
   "metadata": {},
   "source": [
    "# Logistic Regression\n",
    "\n",
    "Target is 'adopted'\n",
    "\n",
    "1=adopted, 0=not adopted"
   ]
  },
  {
   "cell_type": "code",
   "execution_count": 12,
   "metadata": {},
   "outputs": [],
   "source": [
    "X = shelters[\n",
    "    [\n",
    "        \"pure\",\n",
    "        \"obey\",\n",
    "        \"reps_lower\",\n",
    "        \"reps_upper\",\n",
    "        \"height_low_inches\",\n",
    "        \"height_high_inches\",\n",
    "        \"weight_low_lbs\",\n",
    "        \"weight_high_lbs\",\n",
    "        \"age_in\",\n",
    "        \"sex\",\n",
    "        \"intake_type\",\n",
    "        \"intact_in\",\n",
    "    ]\n",
    "]\n",
    "\n",
    "y = shelters[\"adopted\"]\n",
    "\n",
    "X_train, X_test, y_train, y_test = train_test_split(X, y, random_state=101, stratify=y)\n"
   ]
  },
  {
   "cell_type": "code",
   "execution_count": 13,
   "metadata": {},
   "outputs": [
    {
     "data": {
      "text/plain": [
       "1    0.60984\n",
       "0    0.39016\n",
       "Name: adopted, dtype: float64"
      ]
     },
     "execution_count": 13,
     "metadata": {},
     "output_type": "execute_result"
    }
   ],
   "source": [
    "y.value_counts(normalize=True)"
   ]
  },
  {
   "cell_type": "code",
   "execution_count": 14,
   "metadata": {},
   "outputs": [],
   "source": [
    "ct = make_column_transformer(\n",
    "    (OneHotEncoder(handle_unknown='ignore', sparse=False), make_column_selector(dtype_include=object)),\n",
    "    remainder='passthrough',\n",
    "    verbose_feature_names_out=False\n",
    ")\n",
    "\n",
    "pipe = make_pipeline(ct, StandardScaler(), PolynomialFeatures(), LogisticRegression(max_iter=10_000))"
   ]
  },
  {
   "cell_type": "code",
   "execution_count": 15,
   "metadata": {},
   "outputs": [
    {
     "data": {
      "text/plain": [
       "dict_keys(['memory', 'steps', 'verbose', 'columntransformer', 'standardscaler', 'polynomialfeatures', 'logisticregression', 'columntransformer__n_jobs', 'columntransformer__remainder', 'columntransformer__sparse_threshold', 'columntransformer__transformer_weights', 'columntransformer__transformers', 'columntransformer__verbose', 'columntransformer__verbose_feature_names_out', 'columntransformer__onehotencoder', 'columntransformer__onehotencoder__categories', 'columntransformer__onehotencoder__drop', 'columntransformer__onehotencoder__dtype', 'columntransformer__onehotencoder__handle_unknown', 'columntransformer__onehotencoder__sparse', 'standardscaler__copy', 'standardscaler__with_mean', 'standardscaler__with_std', 'polynomialfeatures__degree', 'polynomialfeatures__include_bias', 'polynomialfeatures__interaction_only', 'polynomialfeatures__order', 'logisticregression__C', 'logisticregression__class_weight', 'logisticregression__dual', 'logisticregression__fit_intercept', 'logisticregression__intercept_scaling', 'logisticregression__l1_ratio', 'logisticregression__max_iter', 'logisticregression__multi_class', 'logisticregression__n_jobs', 'logisticregression__penalty', 'logisticregression__random_state', 'logisticregression__solver', 'logisticregression__tol', 'logisticregression__verbose', 'logisticregression__warm_start'])"
      ]
     },
     "execution_count": 15,
     "metadata": {},
     "output_type": "execute_result"
    }
   ],
   "source": [
    "pipe.get_params().keys()"
   ]
  },
  {
   "cell_type": "code",
   "execution_count": 16,
   "metadata": {},
   "outputs": [
    {
     "data": {
      "text/plain": [
       "{}"
      ]
     },
     "execution_count": 16,
     "metadata": {},
     "output_type": "execute_result"
    }
   ],
   "source": [
    "params = {\n",
    "    # 'logisticregression__C': [.1, 1],\n",
    "    # 'polynomialfeatures__degree': [2, 3],\n",
    "    # 'polynomialfeatures__interaction_only': [True, False]\n",
    "}\n",
    "\n",
    "gs_logreg = GridSearchCV(pipe, params)\n",
    "gs_logreg.fit(X_train, y_train)\n",
    "gs_logreg.best_params_"
   ]
  },
  {
   "cell_type": "code",
   "execution_count": 17,
   "metadata": {},
   "outputs": [
    {
     "name": "stdout",
     "output_type": "stream",
     "text": [
      "Train Accuracy:  0.6829787234042554\n",
      " Test Accuracy:  0.6698936170212766\n"
     ]
    }
   ],
   "source": [
    "preds = gs_logreg.predict(X_test)\n",
    "\n",
    "print('Train Accuracy: ', gs_logreg.score(X_train, y_train))\n",
    "print(' Test Accuracy: ', gs_logreg.score(X_test, y_test))"
   ]
  },
  {
   "cell_type": "markdown",
   "metadata": {},
   "source": [
    "#### Features used:\n",
    "\n",
    "\"pure\",\n",
    "\"obey\",\n",
    "\"reps_lower\",\n",
    "\"reps_upper\",\n",
    "\"height_low_inches\",\n",
    "\"height_high_inches\",\n",
    "\"weight_low_lbs\",\n",
    "\"weight_high_lbs\",\n",
    "\"age_in\",\n",
    "\"sex\",\n",
    "\"intake_type\",\n",
    "\"intact_in\"\n",
    "\n",
    "#### Results:\n",
    "\n",
    "These features + default params resulted in the score below for LogisticRegression.\n",
    "\n",
    "Train Accuracy: 0.6709062626632332\n",
    "\n",
    "Test Accuracy: 0.6692678718481628\n",
    "\n",
    "Baseline: 0.518431\n"
   ]
  },
  {
   "cell_type": "code",
   "execution_count": 18,
   "metadata": {},
   "outputs": [
    {
     "data": {
      "text/html": [
       "<div>\n",
       "<style scoped>\n",
       "    .dataframe tbody tr th:only-of-type {\n",
       "        vertical-align: middle;\n",
       "    }\n",
       "\n",
       "    .dataframe tbody tr th {\n",
       "        vertical-align: top;\n",
       "    }\n",
       "\n",
       "    .dataframe thead th {\n",
       "        text-align: right;\n",
       "    }\n",
       "</style>\n",
       "<table border=\"1\" class=\"dataframe\">\n",
       "  <thead>\n",
       "    <tr style=\"text-align: right;\">\n",
       "      <th></th>\n",
       "      <th>0</th>\n",
       "      <th>1</th>\n",
       "    </tr>\n",
       "  </thead>\n",
       "  <tbody>\n",
       "    <tr>\n",
       "      <th>9</th>\n",
       "      <td>height_low_inches</td>\n",
       "      <td>-0.991202</td>\n",
       "    </tr>\n",
       "    <tr>\n",
       "      <th>10</th>\n",
       "      <td>height_high_inches</td>\n",
       "      <td>-0.665854</td>\n",
       "    </tr>\n",
       "    <tr>\n",
       "      <th>14</th>\n",
       "      <td>sex</td>\n",
       "      <td>-0.468534</td>\n",
       "    </tr>\n",
       "    <tr>\n",
       "      <th>3</th>\n",
       "      <td>intake_type_stray</td>\n",
       "      <td>-0.068425</td>\n",
       "    </tr>\n",
       "    <tr>\n",
       "      <th>15</th>\n",
       "      <td>intact_in</td>\n",
       "      <td>-0.067613</td>\n",
       "    </tr>\n",
       "    <tr>\n",
       "      <th>7</th>\n",
       "      <td>reps_lower</td>\n",
       "      <td>-0.052393</td>\n",
       "    </tr>\n",
       "    <tr>\n",
       "      <th>5</th>\n",
       "      <td>pure</td>\n",
       "      <td>-0.026444</td>\n",
       "    </tr>\n",
       "    <tr>\n",
       "      <th>1</th>\n",
       "      <td>intake_type_euth_request</td>\n",
       "      <td>-0.005330</td>\n",
       "    </tr>\n",
       "    <tr>\n",
       "      <th>2</th>\n",
       "      <td>intake_type_public_assist</td>\n",
       "      <td>-0.001514</td>\n",
       "    </tr>\n",
       "    <tr>\n",
       "      <th>13</th>\n",
       "      <td>age_in</td>\n",
       "      <td>0.001998</td>\n",
       "    </tr>\n",
       "    <tr>\n",
       "      <th>6</th>\n",
       "      <td>obey</td>\n",
       "      <td>0.017547</td>\n",
       "    </tr>\n",
       "    <tr>\n",
       "      <th>4</th>\n",
       "      <td>intake_type_surrender</td>\n",
       "      <td>0.067728</td>\n",
       "    </tr>\n",
       "    <tr>\n",
       "      <th>0</th>\n",
       "      <td>intake_type_abandoned</td>\n",
       "      <td>0.076077</td>\n",
       "    </tr>\n",
       "    <tr>\n",
       "      <th>12</th>\n",
       "      <td>weight_high_lbs</td>\n",
       "      <td>0.154816</td>\n",
       "    </tr>\n",
       "    <tr>\n",
       "      <th>11</th>\n",
       "      <td>weight_low_lbs</td>\n",
       "      <td>0.495514</td>\n",
       "    </tr>\n",
       "    <tr>\n",
       "      <th>8</th>\n",
       "      <td>reps_upper</td>\n",
       "      <td>0.799703</td>\n",
       "    </tr>\n",
       "  </tbody>\n",
       "</table>\n",
       "</div>"
      ],
      "text/plain": [
       "                            0         1\n",
       "9           height_low_inches -0.991202\n",
       "10         height_high_inches -0.665854\n",
       "14                        sex -0.468534\n",
       "3           intake_type_stray -0.068425\n",
       "15                  intact_in -0.067613\n",
       "7                  reps_lower -0.052393\n",
       "5                        pure -0.026444\n",
       "1    intake_type_euth_request -0.005330\n",
       "2   intake_type_public_assist -0.001514\n",
       "13                     age_in  0.001998\n",
       "6                        obey  0.017547\n",
       "4       intake_type_surrender  0.067728\n",
       "0       intake_type_abandoned  0.076077\n",
       "12            weight_high_lbs  0.154816\n",
       "11             weight_low_lbs  0.495514\n",
       "8                  reps_upper  0.799703"
      ]
     },
     "execution_count": 18,
     "metadata": {},
     "output_type": "execute_result"
    }
   ],
   "source": [
    "coefs = gs_logreg.best_estimator_.named_steps['logisticregression'].coef_.squeeze()\n",
    "cols = gs_logreg.best_estimator_.named_steps['columntransformer'].get_feature_names_out()\n",
    "# cols = X_test.columns\n",
    "pd.DataFrame(zip(cols, coefs)).sort_values(1)"
   ]
  },
  {
   "cell_type": "code",
   "execution_count": null,
   "metadata": {},
   "outputs": [],
   "source": []
  },
  {
   "cell_type": "markdown",
   "metadata": {},
   "source": [
    "# Linear Regression\n",
    "\n",
    "Target is 'time_in_shelter'"
   ]
  },
  {
   "cell_type": "code",
   "execution_count": 19,
   "metadata": {},
   "outputs": [],
   "source": [
    "X = shelters[\n",
    "    [\n",
    "        \"pure\",\n",
    "        \"obey\",\n",
    "        \"reps_lower\",\n",
    "        \"reps_upper\",\n",
    "        \"height_low_inches\",\n",
    "        \"height_high_inches\",\n",
    "        \"weight_low_lbs\",\n",
    "        \"weight_high_lbs\",\n",
    "        'age_in',\n",
    "        \"sex\",\n",
    "        # \"intake_type\"\n",
    "    ]\n",
    "]\n",
    "\n",
    "y = shelters['time_in_shelter']\n",
    "\n",
    "X_train, X_test, y_train, y_test = train_test_split(X, y, random_state=101)"
   ]
  },
  {
   "cell_type": "code",
   "execution_count": 20,
   "metadata": {},
   "outputs": [
    {
     "data": {
      "text/plain": [
       "22.025425531914895"
      ]
     },
     "execution_count": 20,
     "metadata": {},
     "output_type": "execute_result"
    }
   ],
   "source": [
    "y.mean()"
   ]
  },
  {
   "cell_type": "code",
   "execution_count": 21,
   "metadata": {},
   "outputs": [],
   "source": [
    "# ct = make_column_transformer(\n",
    "#     (OneHotEncoder(handle_unknown='ignore', sparse=False), make_column_selector(dtype_include=object)),\n",
    "#     remainder='passthrough',\n",
    "#     verbose_feature_names_out=False\n",
    "# )\n",
    "\n",
    "pipe = make_pipeline(StandardScaler(), PolynomialFeatures(), LinearRegression())"
   ]
  },
  {
   "cell_type": "code",
   "execution_count": 22,
   "metadata": {},
   "outputs": [
    {
     "data": {
      "text/plain": [
       "dict_keys(['memory', 'steps', 'verbose', 'standardscaler', 'polynomialfeatures', 'linearregression', 'standardscaler__copy', 'standardscaler__with_mean', 'standardscaler__with_std', 'polynomialfeatures__degree', 'polynomialfeatures__include_bias', 'polynomialfeatures__interaction_only', 'polynomialfeatures__order', 'linearregression__copy_X', 'linearregression__fit_intercept', 'linearregression__n_jobs', 'linearregression__normalize', 'linearregression__positive'])"
      ]
     },
     "execution_count": 22,
     "metadata": {},
     "output_type": "execute_result"
    }
   ],
   "source": [
    "pipe.get_params().keys()"
   ]
  },
  {
   "cell_type": "code",
   "execution_count": 23,
   "metadata": {},
   "outputs": [
    {
     "data": {
      "text/plain": [
       "{}"
      ]
     },
     "execution_count": 23,
     "metadata": {},
     "output_type": "execute_result"
    }
   ],
   "source": [
    "params = {\n",
    "    # 'polynomialfeatures__degree': [2, 3],\n",
    "    # 'polynomialfeatures__interaction_only': [True, False]\n",
    "}\n",
    "\n",
    "gs_linreg = GridSearchCV(pipe, params)\n",
    "gs_linreg.fit(X_train, y_train)\n",
    "gs_linreg.best_params_"
   ]
  },
  {
   "cell_type": "code",
   "execution_count": 24,
   "metadata": {},
   "outputs": [
    {
     "name": "stdout",
     "output_type": "stream",
     "text": [
      "Train R2:  0.05129548225997593\n",
      " Test R2:  0.057241284721451735\n",
      "    RMSE:  47.52068583536394\n"
     ]
    }
   ],
   "source": [
    "preds = gs_linreg.predict(X_test)\n",
    "\n",
    "print('Train R2: ', gs_linreg.score(X_train, y_train))\n",
    "print(' Test R2: ', gs_linreg.score(X_test, y_test))\n",
    "print('    RMSE: ', mean_squared_error(y_test, preds, squared=False))"
   ]
  },
  {
   "cell_type": "code",
   "execution_count": 25,
   "metadata": {},
   "outputs": [
    {
     "data": {
      "text/html": [
       "<div>\n",
       "<style scoped>\n",
       "    .dataframe tbody tr th:only-of-type {\n",
       "        vertical-align: middle;\n",
       "    }\n",
       "\n",
       "    .dataframe tbody tr th {\n",
       "        vertical-align: top;\n",
       "    }\n",
       "\n",
       "    .dataframe thead th {\n",
       "        text-align: right;\n",
       "    }\n",
       "</style>\n",
       "<table border=\"1\" class=\"dataframe\">\n",
       "  <thead>\n",
       "    <tr style=\"text-align: right;\">\n",
       "      <th></th>\n",
       "      <th>0</th>\n",
       "      <th>1</th>\n",
       "    </tr>\n",
       "  </thead>\n",
       "  <tbody>\n",
       "    <tr>\n",
       "      <th>1</th>\n",
       "      <td>obey</td>\n",
       "      <td>-2.484784e+10</td>\n",
       "    </tr>\n",
       "    <tr>\n",
       "      <th>0</th>\n",
       "      <td>pure</td>\n",
       "      <td>-3.922369e+03</td>\n",
       "    </tr>\n",
       "    <tr>\n",
       "      <th>4</th>\n",
       "      <td>height_low_inches</td>\n",
       "      <td>-6.888133e+01</td>\n",
       "    </tr>\n",
       "    <tr>\n",
       "      <th>2</th>\n",
       "      <td>reps_lower</td>\n",
       "      <td>-2.320741e+01</td>\n",
       "    </tr>\n",
       "    <tr>\n",
       "      <th>6</th>\n",
       "      <td>weight_low_lbs</td>\n",
       "      <td>-6.365602e+00</td>\n",
       "    </tr>\n",
       "    <tr>\n",
       "      <th>5</th>\n",
       "      <td>height_high_inches</td>\n",
       "      <td>-2.896269e-01</td>\n",
       "    </tr>\n",
       "    <tr>\n",
       "      <th>7</th>\n",
       "      <td>weight_high_lbs</td>\n",
       "      <td>5.231083e+00</td>\n",
       "    </tr>\n",
       "    <tr>\n",
       "      <th>9</th>\n",
       "      <td>sex</td>\n",
       "      <td>9.154865e+00</td>\n",
       "    </tr>\n",
       "    <tr>\n",
       "      <th>8</th>\n",
       "      <td>age_in</td>\n",
       "      <td>1.018127e+01</td>\n",
       "    </tr>\n",
       "    <tr>\n",
       "      <th>3</th>\n",
       "      <td>reps_upper</td>\n",
       "      <td>4.677105e+01</td>\n",
       "    </tr>\n",
       "  </tbody>\n",
       "</table>\n",
       "</div>"
      ],
      "text/plain": [
       "                    0             1\n",
       "1                obey -2.484784e+10\n",
       "0                pure -3.922369e+03\n",
       "4   height_low_inches -6.888133e+01\n",
       "2          reps_lower -2.320741e+01\n",
       "6      weight_low_lbs -6.365602e+00\n",
       "5  height_high_inches -2.896269e-01\n",
       "7     weight_high_lbs  5.231083e+00\n",
       "9                 sex  9.154865e+00\n",
       "8              age_in  1.018127e+01\n",
       "3          reps_upper  4.677105e+01"
      ]
     },
     "execution_count": 25,
     "metadata": {},
     "output_type": "execute_result"
    }
   ],
   "source": [
    "coefs = gs_linreg.best_estimator_.named_steps['linearregression'].coef_\n",
    "cols = X_test.columns\n",
    "pd.DataFrame(zip(cols, coefs)).sort_values(1)"
   ]
  },
  {
   "cell_type": "code",
   "execution_count": null,
   "metadata": {},
   "outputs": [],
   "source": []
  },
  {
   "cell_type": "code",
   "execution_count": null,
   "metadata": {},
   "outputs": [],
   "source": []
  },
  {
   "cell_type": "markdown",
   "metadata": {},
   "source": [
    "# SVM"
   ]
  },
  {
   "cell_type": "code",
   "execution_count": 29,
   "metadata": {},
   "outputs": [],
   "source": [
    "X = shelters[\n",
    "    [\n",
    "        \"pure\",\n",
    "        \"obey\",\n",
    "        \"reps_lower\",\n",
    "        \"reps_upper\",\n",
    "        \"height_low_inches\",\n",
    "        \"height_high_inches\",\n",
    "        \"weight_low_lbs\",\n",
    "        \"weight_high_lbs\",\n",
    "        \"age_in\",\n",
    "        \"sex\",\n",
    "        # \"intake_type\",\n",
    "        \"intact_in\",\n",
    "    ]\n",
    "]\n",
    "\n",
    "y = shelters[\"adopted\"]\n",
    "\n",
    "X_train, X_test, y_train, y_test = train_test_split(X, y, random_state=101, stratify=y)\n"
   ]
  },
  {
   "cell_type": "code",
   "execution_count": 35,
   "metadata": {},
   "outputs": [],
   "source": [
    "pipe = make_pipeline(StandardScaler(), PolynomialFeatures(), LinearSVC())"
   ]
  },
  {
   "cell_type": "code",
   "execution_count": 36,
   "metadata": {},
   "outputs": [
    {
     "data": {
      "text/plain": [
       "dict_keys(['memory', 'steps', 'verbose', 'standardscaler', 'polynomialfeatures', 'linearsvc', 'standardscaler__copy', 'standardscaler__with_mean', 'standardscaler__with_std', 'polynomialfeatures__degree', 'polynomialfeatures__include_bias', 'polynomialfeatures__interaction_only', 'polynomialfeatures__order', 'linearsvc__C', 'linearsvc__class_weight', 'linearsvc__dual', 'linearsvc__fit_intercept', 'linearsvc__intercept_scaling', 'linearsvc__loss', 'linearsvc__max_iter', 'linearsvc__multi_class', 'linearsvc__penalty', 'linearsvc__random_state', 'linearsvc__tol', 'linearsvc__verbose'])"
      ]
     },
     "execution_count": 36,
     "metadata": {},
     "output_type": "execute_result"
    }
   ],
   "source": [
    "pipe.get_params().keys()"
   ]
  },
  {
   "cell_type": "code",
   "execution_count": 37,
   "metadata": {},
   "outputs": [
    {
     "name": "stderr",
     "output_type": "stream",
     "text": [
      "C:\\ProgramData\\Anaconda3\\lib\\site-packages\\sklearn\\svm\\_base.py:1206: ConvergenceWarning: Liblinear failed to converge, increase the number of iterations.\n",
      "  warnings.warn(\n",
      "C:\\ProgramData\\Anaconda3\\lib\\site-packages\\sklearn\\svm\\_base.py:1206: ConvergenceWarning: Liblinear failed to converge, increase the number of iterations.\n",
      "  warnings.warn(\n",
      "C:\\ProgramData\\Anaconda3\\lib\\site-packages\\sklearn\\svm\\_base.py:1206: ConvergenceWarning: Liblinear failed to converge, increase the number of iterations.\n",
      "  warnings.warn(\n",
      "C:\\ProgramData\\Anaconda3\\lib\\site-packages\\sklearn\\svm\\_base.py:1206: ConvergenceWarning: Liblinear failed to converge, increase the number of iterations.\n",
      "  warnings.warn(\n",
      "C:\\ProgramData\\Anaconda3\\lib\\site-packages\\sklearn\\svm\\_base.py:1206: ConvergenceWarning: Liblinear failed to converge, increase the number of iterations.\n",
      "  warnings.warn(\n",
      "C:\\ProgramData\\Anaconda3\\lib\\site-packages\\sklearn\\svm\\_base.py:1206: ConvergenceWarning: Liblinear failed to converge, increase the number of iterations.\n",
      "  warnings.warn(\n"
     ]
    },
    {
     "data": {
      "text/plain": [
       "{'linearsvc__max_iter': 10000}"
      ]
     },
     "execution_count": 37,
     "metadata": {},
     "output_type": "execute_result"
    }
   ],
   "source": [
    "params = {\n",
    "    'linearsvc__max_iter': [10_000],\n",
    "    # 'linearsvc__C': [.01, 1, 10]\n",
    "}\n",
    "\n",
    "gs_svc = GridSearchCV(pipe, params)\n",
    "gs_svc.fit(X_train, y_train)\n",
    "gs_svc.best_params_"
   ]
  },
  {
   "cell_type": "code",
   "execution_count": 38,
   "metadata": {},
   "outputs": [
    {
     "name": "stdout",
     "output_type": "stream",
     "text": [
      "Train Accuracy:  0.6416666666666667\n",
      " Test Accuracy:  0.6309574468085106\n"
     ]
    }
   ],
   "source": [
    "preds = gs_svc.predict(X_test)\n",
    "\n",
    "print('Train Accuracy: ', gs_svc.score(X_train, y_train))\n",
    "print(' Test Accuracy: ', gs_svc.score(X_test, y_test))"
   ]
  },
  {
   "cell_type": "code",
   "execution_count": null,
   "metadata": {},
   "outputs": [],
   "source": []
  }
 ],
 "metadata": {
  "interpreter": {
   "hash": "b3ba2566441a7c06988d0923437866b63cedc61552a5af99d1f4fb67d367b25f"
  },
  "kernelspec": {
   "display_name": "Python 3.9.7 ('base')",
   "language": "python",
   "name": "python3"
  },
  "language_info": {
   "codemirror_mode": {
    "name": "ipython",
    "version": 3
   },
   "file_extension": ".py",
   "mimetype": "text/x-python",
   "name": "python",
   "nbconvert_exporter": "python",
   "pygments_lexer": "ipython3",
   "version": "3.9.7"
  },
  "orig_nbformat": 4
 },
 "nbformat": 4,
 "nbformat_minor": 2
}
