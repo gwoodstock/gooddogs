{
 "cells": [
  {
   "cell_type": "code",
   "execution_count": 1,
   "metadata": {},
   "outputs": [],
   "source": [
    "import pandas as pd\n",
    "import numpy as np\n",
    "\n",
    "from sklearn.linear_model import LinearRegression, Lasso, Ridge, LogisticRegression\n",
    "from sklearn.naive_bayes import MultinomialNB\n",
    "from sklearn.preprocessing import StandardScaler, PolynomialFeatures, OneHotEncoder\n",
    "from sklearn.model_selection import train_test_split, GridSearchCV\n",
    "from sklearn.pipeline import make_pipeline\n",
    "from sklearn.compose import make_column_selector, make_column_transformer\n",
    "from sklearn.metrics import mean_squared_error"
   ]
  },
  {
   "cell_type": "code",
   "execution_count": 2,
   "metadata": {},
   "outputs": [],
   "source": [
    "shelters = pd.read_csv('./datasets/cleaned_data/shelters_with_stats.csv')"
   ]
  },
  {
   "cell_type": "code",
   "execution_count": 3,
   "metadata": {},
   "outputs": [
    {
     "data": {
      "text/html": [
       "<div>\n",
       "<style scoped>\n",
       "    .dataframe tbody tr th:only-of-type {\n",
       "        vertical-align: middle;\n",
       "    }\n",
       "\n",
       "    .dataframe tbody tr th {\n",
       "        vertical-align: top;\n",
       "    }\n",
       "\n",
       "    .dataframe thead th {\n",
       "        text-align: right;\n",
       "    }\n",
       "</style>\n",
       "<table border=\"1\" class=\"dataframe\">\n",
       "  <thead>\n",
       "    <tr style=\"text-align: right;\">\n",
       "      <th></th>\n",
       "      <th>id</th>\n",
       "      <th>breed</th>\n",
       "      <th>color</th>\n",
       "      <th>dob</th>\n",
       "      <th>sex</th>\n",
       "      <th>date_in</th>\n",
       "      <th>age_in</th>\n",
       "      <th>intact_in</th>\n",
       "      <th>location</th>\n",
       "      <th>intake_type</th>\n",
       "      <th>...</th>\n",
       "      <th>breed_2</th>\n",
       "      <th>pure</th>\n",
       "      <th>obey</th>\n",
       "      <th>reps_lower</th>\n",
       "      <th>reps_upper</th>\n",
       "      <th>height_low_inches</th>\n",
       "      <th>height_high_inches</th>\n",
       "      <th>weight_low_lbs</th>\n",
       "      <th>weight_high_lbs</th>\n",
       "      <th>time_in_shelter</th>\n",
       "    </tr>\n",
       "  </thead>\n",
       "  <tbody>\n",
       "    <tr>\n",
       "      <th>0</th>\n",
       "      <td>A047759</td>\n",
       "      <td>dachshund</td>\n",
       "      <td>Tricolor</td>\n",
       "      <td>1.080864e+09</td>\n",
       "      <td>1.0</td>\n",
       "      <td>1.396454e+09</td>\n",
       "      <td>10.0</td>\n",
       "      <td>0.0</td>\n",
       "      <td>Austin (TX)</td>\n",
       "      <td>surrender</td>\n",
       "      <td>...</td>\n",
       "      <td>dachshund</td>\n",
       "      <td>1.0</td>\n",
       "      <td>0.50</td>\n",
       "      <td>26.0</td>\n",
       "      <td>40.0</td>\n",
       "      <td>7.000000</td>\n",
       "      <td>10.000000</td>\n",
       "      <td>16.000000</td>\n",
       "      <td>32.000000</td>\n",
       "      <td>429420.0</td>\n",
       "    </tr>\n",
       "    <tr>\n",
       "      <th>1</th>\n",
       "      <td>A134067</td>\n",
       "      <td>shetland sheepdog</td>\n",
       "      <td>Brown/White</td>\n",
       "      <td>8.769600e+08</td>\n",
       "      <td>1.0</td>\n",
       "      <td>1.384593e+09</td>\n",
       "      <td>16.0</td>\n",
       "      <td>0.0</td>\n",
       "      <td>12034 Research Blvd in Austin (TX)</td>\n",
       "      <td>public_assist</td>\n",
       "      <td>...</td>\n",
       "      <td>shetland sheepdog</td>\n",
       "      <td>1.0</td>\n",
       "      <td>0.95</td>\n",
       "      <td>1.0</td>\n",
       "      <td>4.0</td>\n",
       "      <td>17.941176</td>\n",
       "      <td>20.908497</td>\n",
       "      <td>42.934641</td>\n",
       "      <td>57.522876</td>\n",
       "      <td>10320.0</td>\n",
       "    </tr>\n",
       "  </tbody>\n",
       "</table>\n",
       "<p>2 rows × 29 columns</p>\n",
       "</div>"
      ],
      "text/plain": [
       "        id              breed        color           dob  sex       date_in  \\\n",
       "0  A047759          dachshund     Tricolor  1.080864e+09  1.0  1.396454e+09   \n",
       "1  A134067  shetland sheepdog  Brown/White  8.769600e+08  1.0  1.384593e+09   \n",
       "\n",
       "   age_in  intact_in                            location    intake_type  ...  \\\n",
       "0    10.0        0.0                         Austin (TX)      surrender  ...   \n",
       "1    16.0        0.0  12034 Research Blvd in Austin (TX)  public_assist  ...   \n",
       "\n",
       "             breed_2  pure  obey  reps_lower reps_upper height_low_inches  \\\n",
       "0          dachshund   1.0  0.50        26.0       40.0          7.000000   \n",
       "1  shetland sheepdog   1.0  0.95         1.0        4.0         17.941176   \n",
       "\n",
       "  height_high_inches weight_low_lbs weight_high_lbs time_in_shelter  \n",
       "0          10.000000      16.000000       32.000000        429420.0  \n",
       "1          20.908497      42.934641       57.522876         10320.0  \n",
       "\n",
       "[2 rows x 29 columns]"
      ]
     },
     "execution_count": 3,
     "metadata": {},
     "output_type": "execute_result"
    }
   ],
   "source": [
    "shelters.head(2)"
   ]
  },
  {
   "cell_type": "code",
   "execution_count": 4,
   "metadata": {},
   "outputs": [
    {
     "data": {
      "text/plain": [
       "Index(['id', 'breed', 'color', 'dob', 'sex', 'date_in', 'age_in', 'intact_in',\n",
       "       'location', 'intake_type', 'condition', 'date_out', 'age_out',\n",
       "       'intact_out', 'outcome', 'age', 'primary_color', 'secondary_color',\n",
       "       'breed_1', 'breed_2', 'pure', 'obey', 'reps_lower', 'reps_upper',\n",
       "       'height_low_inches', 'height_high_inches', 'weight_low_lbs',\n",
       "       'weight_high_lbs', 'time_in_shelter'],\n",
       "      dtype='object')"
      ]
     },
     "execution_count": 4,
     "metadata": {},
     "output_type": "execute_result"
    }
   ],
   "source": [
    "shelters.columns"
   ]
  },
  {
   "cell_type": "code",
   "execution_count": 5,
   "metadata": {},
   "outputs": [
    {
     "data": {
      "text/plain": [
       "stray            67928\n",
       "surrender        25501\n",
       "public_assist    10538\n",
       "abandoned          339\n",
       "euth_request       188\n",
       "Name: intake_type, dtype: int64"
      ]
     },
     "execution_count": 5,
     "metadata": {},
     "output_type": "execute_result"
    }
   ],
   "source": [
    "shelters['intake_type'].value_counts()"
   ]
  },
  {
   "cell_type": "markdown",
   "metadata": {},
   "source": [
    "# Remove these two lines after they've been added to an earlier file?"
   ]
  },
  {
   "cell_type": "code",
   "execution_count": 6,
   "metadata": {},
   "outputs": [],
   "source": [
    "# filter out deceased and missing outcomes\n",
    "shelters = shelters[(shelters['outcome'] != 'deceased') & (shelters['outcome'] != 'missing')]"
   ]
  },
  {
   "cell_type": "code",
   "execution_count": 7,
   "metadata": {},
   "outputs": [],
   "source": [
    "# create new column for adoption\n",
    "# 1 = adopted, 0 = owner_return or transfer\n",
    "shelters['adopted'] = shelters['outcome'].map({'adopted':1, 'owner_return':0, 'transfer':0})"
   ]
  },
  {
   "cell_type": "markdown",
   "metadata": {},
   "source": [
    "# Logistic Regression\n",
    "\n",
    "Target is 'adopted'\n",
    "\n",
    "1=adopted, 0=not adopted"
   ]
  },
  {
   "cell_type": "code",
   "execution_count": 8,
   "metadata": {},
   "outputs": [],
   "source": [
    "X = shelters[\n",
    "    [\n",
    "        \"pure\",\n",
    "        \"obey\",\n",
    "        \"reps_lower\",\n",
    "        \"reps_upper\",\n",
    "        \"height_low_inches\",\n",
    "        \"height_high_inches\",\n",
    "        \"weight_low_lbs\",\n",
    "        \"weight_high_lbs\",\n",
    "        \"age_in\",\n",
    "        # 'age_out',\n",
    "        \"sex\",\n",
    "        \"intake_type\",\n",
    "        \"intact_in\",\n",
    "    ]\n",
    "]\n",
    "\n",
    "y = shelters[\"adopted\"]\n",
    "\n",
    "X_train, X_test, y_train, y_test = train_test_split(X, y, random_state=101, stratify=y)\n"
   ]
  },
  {
   "cell_type": "code",
   "execution_count": 9,
   "metadata": {},
   "outputs": [
    {
     "data": {
      "text/plain": [
       "0    0.518431\n",
       "1    0.481569\n",
       "Name: adopted, dtype: float64"
      ]
     },
     "execution_count": 9,
     "metadata": {},
     "output_type": "execute_result"
    }
   ],
   "source": [
    "y.value_counts(normalize=True)"
   ]
  },
  {
   "cell_type": "code",
   "execution_count": 10,
   "metadata": {},
   "outputs": [],
   "source": [
    "ct = make_column_transformer(\n",
    "    (OneHotEncoder(handle_unknown='ignore', sparse=False), make_column_selector(dtype_include=object)),\n",
    "    remainder='passthrough',\n",
    "    verbose_feature_names_out=False\n",
    ")\n",
    "\n",
    "pipe = make_pipeline(ct, StandardScaler(), PolynomialFeatures(), LogisticRegression(max_iter=10_000))"
   ]
  },
  {
   "cell_type": "code",
   "execution_count": 11,
   "metadata": {},
   "outputs": [
    {
     "data": {
      "text/plain": [
       "dict_keys(['memory', 'steps', 'verbose', 'columntransformer', 'standardscaler', 'polynomialfeatures', 'logisticregression', 'columntransformer__n_jobs', 'columntransformer__remainder', 'columntransformer__sparse_threshold', 'columntransformer__transformer_weights', 'columntransformer__transformers', 'columntransformer__verbose', 'columntransformer__verbose_feature_names_out', 'columntransformer__onehotencoder', 'columntransformer__onehotencoder__categories', 'columntransformer__onehotencoder__drop', 'columntransformer__onehotencoder__dtype', 'columntransformer__onehotencoder__handle_unknown', 'columntransformer__onehotencoder__sparse', 'standardscaler__copy', 'standardscaler__with_mean', 'standardscaler__with_std', 'polynomialfeatures__degree', 'polynomialfeatures__include_bias', 'polynomialfeatures__interaction_only', 'polynomialfeatures__order', 'logisticregression__C', 'logisticregression__class_weight', 'logisticregression__dual', 'logisticregression__fit_intercept', 'logisticregression__intercept_scaling', 'logisticregression__l1_ratio', 'logisticregression__max_iter', 'logisticregression__multi_class', 'logisticregression__n_jobs', 'logisticregression__penalty', 'logisticregression__random_state', 'logisticregression__solver', 'logisticregression__tol', 'logisticregression__verbose', 'logisticregression__warm_start'])"
      ]
     },
     "execution_count": 11,
     "metadata": {},
     "output_type": "execute_result"
    }
   ],
   "source": [
    "pipe.get_params().keys()"
   ]
  },
  {
   "cell_type": "code",
   "execution_count": 12,
   "metadata": {},
   "outputs": [
    {
     "data": {
      "text/plain": [
       "{}"
      ]
     },
     "execution_count": 12,
     "metadata": {},
     "output_type": "execute_result"
    }
   ],
   "source": [
    "params = {\n",
    "    # 'logisticregression__C': [.1, 1],\n",
    "    # 'polynomialfeatures__degree': [2, 3],\n",
    "    # 'polynomialfeatures__interaction_only': [True, False]\n",
    "}\n",
    "\n",
    "gs_logreg = GridSearchCV(pipe, params)\n",
    "gs_logreg.fit(X_train, y_train)\n",
    "gs_logreg.best_params_"
   ]
  },
  {
   "cell_type": "code",
   "execution_count": 13,
   "metadata": {},
   "outputs": [
    {
     "name": "stdout",
     "output_type": "stream",
     "text": [
      "Train Accuracy:  0.6709062626632332\n",
      " Test Accuracy:  0.6692678718481628\n"
     ]
    }
   ],
   "source": [
    "preds = gs_logreg.predict(X_test)\n",
    "\n",
    "print('Train Accuracy: ', gs_logreg.score(X_train, y_train))\n",
    "print(' Test Accuracy: ', gs_logreg.score(X_test, y_test))"
   ]
  },
  {
   "cell_type": "markdown",
   "metadata": {},
   "source": [
    "#### Features used:\n",
    "\n",
    "\"pure\",\n",
    "\"obey\",\n",
    "\"reps_lower\",\n",
    "\"reps_upper\",\n",
    "\"height_low_inches\",\n",
    "\"height_high_inches\",\n",
    "\"weight_low_lbs\",\n",
    "\"weight_high_lbs\",\n",
    "\"age_in\",\n",
    "\"sex\",\n",
    "\"intake_type\",\n",
    "\"intact_in\"\n",
    "\n",
    "#### Results:\n",
    "\n",
    "These features + default params resulted in the score below for LogisticRegression.\n",
    "\n",
    "Train Accuracy: 0.6709062626632332\n",
    "\n",
    "Test Accuracy: 0.6692678718481628\n",
    "\n",
    "Baseline: 0.518431\n"
   ]
  },
  {
   "cell_type": "code",
   "execution_count": 14,
   "metadata": {},
   "outputs": [
    {
     "data": {
      "text/html": [
       "<div>\n",
       "<style scoped>\n",
       "    .dataframe tbody tr th:only-of-type {\n",
       "        vertical-align: middle;\n",
       "    }\n",
       "\n",
       "    .dataframe tbody tr th {\n",
       "        vertical-align: top;\n",
       "    }\n",
       "\n",
       "    .dataframe thead th {\n",
       "        text-align: right;\n",
       "    }\n",
       "</style>\n",
       "<table border=\"1\" class=\"dataframe\">\n",
       "  <thead>\n",
       "    <tr style=\"text-align: right;\">\n",
       "      <th></th>\n",
       "      <th>0</th>\n",
       "      <th>1</th>\n",
       "    </tr>\n",
       "  </thead>\n",
       "  <tbody>\n",
       "    <tr>\n",
       "      <th>10</th>\n",
       "      <td>height_high_inches</td>\n",
       "      <td>-0.537661</td>\n",
       "    </tr>\n",
       "    <tr>\n",
       "      <th>14</th>\n",
       "      <td>sex</td>\n",
       "      <td>-0.468589</td>\n",
       "    </tr>\n",
       "    <tr>\n",
       "      <th>9</th>\n",
       "      <td>height_low_inches</td>\n",
       "      <td>-0.104804</td>\n",
       "    </tr>\n",
       "    <tr>\n",
       "      <th>4</th>\n",
       "      <td>intake_type_surrender</td>\n",
       "      <td>-0.095037</td>\n",
       "    </tr>\n",
       "    <tr>\n",
       "      <th>15</th>\n",
       "      <td>intact_in</td>\n",
       "      <td>-0.094770</td>\n",
       "    </tr>\n",
       "    <tr>\n",
       "      <th>0</th>\n",
       "      <td>intake_type_abandoned</td>\n",
       "      <td>-0.055364</td>\n",
       "    </tr>\n",
       "    <tr>\n",
       "      <th>12</th>\n",
       "      <td>weight_high_lbs</td>\n",
       "      <td>-0.035166</td>\n",
       "    </tr>\n",
       "    <tr>\n",
       "      <th>6</th>\n",
       "      <td>obey</td>\n",
       "      <td>-0.034195</td>\n",
       "    </tr>\n",
       "    <tr>\n",
       "      <th>3</th>\n",
       "      <td>intake_type_stray</td>\n",
       "      <td>-0.021360</td>\n",
       "    </tr>\n",
       "    <tr>\n",
       "      <th>13</th>\n",
       "      <td>age_in</td>\n",
       "      <td>-0.017978</td>\n",
       "    </tr>\n",
       "    <tr>\n",
       "      <th>2</th>\n",
       "      <td>intake_type_public_assist</td>\n",
       "      <td>0.000897</td>\n",
       "    </tr>\n",
       "    <tr>\n",
       "      <th>1</th>\n",
       "      <td>intake_type_euth_request</td>\n",
       "      <td>0.003225</td>\n",
       "    </tr>\n",
       "    <tr>\n",
       "      <th>5</th>\n",
       "      <td>pure</td>\n",
       "      <td>0.120096</td>\n",
       "    </tr>\n",
       "    <tr>\n",
       "      <th>7</th>\n",
       "      <td>reps_lower</td>\n",
       "      <td>0.580898</td>\n",
       "    </tr>\n",
       "    <tr>\n",
       "      <th>11</th>\n",
       "      <td>weight_low_lbs</td>\n",
       "      <td>0.598145</td>\n",
       "    </tr>\n",
       "    <tr>\n",
       "      <th>8</th>\n",
       "      <td>reps_upper</td>\n",
       "      <td>0.716147</td>\n",
       "    </tr>\n",
       "  </tbody>\n",
       "</table>\n",
       "</div>"
      ],
      "text/plain": [
       "                            0         1\n",
       "10         height_high_inches -0.537661\n",
       "14                        sex -0.468589\n",
       "9           height_low_inches -0.104804\n",
       "4       intake_type_surrender -0.095037\n",
       "15                  intact_in -0.094770\n",
       "0       intake_type_abandoned -0.055364\n",
       "12            weight_high_lbs -0.035166\n",
       "6                        obey -0.034195\n",
       "3           intake_type_stray -0.021360\n",
       "13                     age_in -0.017978\n",
       "2   intake_type_public_assist  0.000897\n",
       "1    intake_type_euth_request  0.003225\n",
       "5                        pure  0.120096\n",
       "7                  reps_lower  0.580898\n",
       "11             weight_low_lbs  0.598145\n",
       "8                  reps_upper  0.716147"
      ]
     },
     "execution_count": 14,
     "metadata": {},
     "output_type": "execute_result"
    }
   ],
   "source": [
    "coefs = gs_logreg.best_estimator_.named_steps['logisticregression'].coef_.squeeze()\n",
    "cols = gs_logreg.best_estimator_.named_steps['columntransformer'].get_feature_names_out()\n",
    "# cols = X_test.columns\n",
    "pd.DataFrame(zip(cols, coefs)).sort_values(1)"
   ]
  },
  {
   "cell_type": "code",
   "execution_count": null,
   "metadata": {},
   "outputs": [],
   "source": []
  },
  {
   "cell_type": "markdown",
   "metadata": {},
   "source": [
    "# Linear Regression\n",
    "\n",
    "Target is 'time_in_shelter'"
   ]
  },
  {
   "cell_type": "code",
   "execution_count": 16,
   "metadata": {},
   "outputs": [],
   "source": [
    "X = shelters[\n",
    "    [\n",
    "        \"pure\",\n",
    "        \"obey\",\n",
    "        \"reps_lower\",\n",
    "        \"reps_upper\",\n",
    "        \"height_low_inches\",\n",
    "        \"height_high_inches\",\n",
    "        \"weight_low_lbs\",\n",
    "        \"weight_high_lbs\",\n",
    "        'age_in',\n",
    "        'age_out',\n",
    "        \"sex\"\n",
    "    ]\n",
    "]\n",
    "\n",
    "y = shelters['time_in_shelter']\n",
    "\n",
    "X_train, X_test, y_train, y_test = train_test_split(X, y, random_state=101)"
   ]
  },
  {
   "cell_type": "code",
   "execution_count": 17,
   "metadata": {},
   "outputs": [
    {
     "data": {
      "text/plain": [
       "116.51874286506364"
      ]
     },
     "execution_count": 17,
     "metadata": {},
     "output_type": "execute_result"
    }
   ],
   "source": [
    "y.mean()/86400"
   ]
  },
  {
   "cell_type": "code",
   "execution_count": 18,
   "metadata": {},
   "outputs": [],
   "source": [
    "# ct = make_column_transformer(\n",
    "#     (OneHotEncoder(handle_unknown='ignore', sparse=False), make_column_selector(dtype_include=object)),\n",
    "#     remainder='passthrough',\n",
    "#     verbose_feature_names_out=False\n",
    "# )\n",
    "\n",
    "pipe = make_pipeline(StandardScaler(), PolynomialFeatures(), LinearRegression())"
   ]
  },
  {
   "cell_type": "code",
   "execution_count": 19,
   "metadata": {},
   "outputs": [
    {
     "data": {
      "text/plain": [
       "dict_keys(['memory', 'steps', 'verbose', 'standardscaler', 'polynomialfeatures', 'linearregression', 'standardscaler__copy', 'standardscaler__with_mean', 'standardscaler__with_std', 'polynomialfeatures__degree', 'polynomialfeatures__include_bias', 'polynomialfeatures__interaction_only', 'polynomialfeatures__order', 'linearregression__copy_X', 'linearregression__fit_intercept', 'linearregression__n_jobs', 'linearregression__normalize', 'linearregression__positive'])"
      ]
     },
     "execution_count": 19,
     "metadata": {},
     "output_type": "execute_result"
    }
   ],
   "source": [
    "pipe.get_params().keys()"
   ]
  },
  {
   "cell_type": "code",
   "execution_count": 20,
   "metadata": {},
   "outputs": [
    {
     "data": {
      "text/plain": [
       "{}"
      ]
     },
     "execution_count": 20,
     "metadata": {},
     "output_type": "execute_result"
    }
   ],
   "source": [
    "params = {\n",
    "    # 'polynomialfeatures__degree': [2, 3],\n",
    "    # 'polynomialfeatures__interaction_only': [True, False]\n",
    "}\n",
    "\n",
    "gs_linreg = GridSearchCV(pipe, params)\n",
    "gs_linreg.fit(X_train, y_train)\n",
    "gs_linreg.best_params_"
   ]
  },
  {
   "cell_type": "code",
   "execution_count": 21,
   "metadata": {},
   "outputs": [
    {
     "name": "stdout",
     "output_type": "stream",
     "text": [
      "Train R2:  0.758828467755256\n",
      " Test R2:  0.7621540321434512\n",
      "    RMSE:  138.24797968723152\n"
     ]
    }
   ],
   "source": [
    "preds = gs_linreg.predict(X_test)\n",
    "\n",
    "print('Train R2: ', gs_linreg.score(X_train, y_train))\n",
    "print(' Test R2: ', gs_linreg.score(X_test, y_test))\n",
    "print('    RMSE: ', mean_squared_error(y_test, preds, squared=False)/86400)"
   ]
  },
  {
   "cell_type": "code",
   "execution_count": 22,
   "metadata": {},
   "outputs": [
    {
     "data": {
      "text/html": [
       "<div>\n",
       "<style scoped>\n",
       "    .dataframe tbody tr th:only-of-type {\n",
       "        vertical-align: middle;\n",
       "    }\n",
       "\n",
       "    .dataframe tbody tr th {\n",
       "        vertical-align: top;\n",
       "    }\n",
       "\n",
       "    .dataframe thead th {\n",
       "        text-align: right;\n",
       "    }\n",
       "</style>\n",
       "<table border=\"1\" class=\"dataframe\">\n",
       "  <thead>\n",
       "    <tr style=\"text-align: right;\">\n",
       "      <th></th>\n",
       "      <th>0</th>\n",
       "      <th>1</th>\n",
       "    </tr>\n",
       "  </thead>\n",
       "  <tbody>\n",
       "    <tr>\n",
       "      <th>4</th>\n",
       "      <td>height_low_inches</td>\n",
       "      <td>-1.294260e+07</td>\n",
       "    </tr>\n",
       "    <tr>\n",
       "      <th>2</th>\n",
       "      <td>reps_lower</td>\n",
       "      <td>-7.782757e+06</td>\n",
       "    </tr>\n",
       "    <tr>\n",
       "      <th>8</th>\n",
       "      <td>age_in</td>\n",
       "      <td>-1.631688e+06</td>\n",
       "    </tr>\n",
       "    <tr>\n",
       "      <th>6</th>\n",
       "      <td>weight_low_lbs</td>\n",
       "      <td>-1.360169e+06</td>\n",
       "    </tr>\n",
       "    <tr>\n",
       "      <th>9</th>\n",
       "      <td>age_out</td>\n",
       "      <td>1.664000e+05</td>\n",
       "    </tr>\n",
       "    <tr>\n",
       "      <th>7</th>\n",
       "      <td>weight_high_lbs</td>\n",
       "      <td>1.905104e+06</td>\n",
       "    </tr>\n",
       "    <tr>\n",
       "      <th>5</th>\n",
       "      <td>height_high_inches</td>\n",
       "      <td>2.065270e+06</td>\n",
       "    </tr>\n",
       "    <tr>\n",
       "      <th>10</th>\n",
       "      <td>sex</td>\n",
       "      <td>2.482176e+06</td>\n",
       "    </tr>\n",
       "    <tr>\n",
       "      <th>3</th>\n",
       "      <td>reps_upper</td>\n",
       "      <td>4.030090e+06</td>\n",
       "    </tr>\n",
       "    <tr>\n",
       "      <th>0</th>\n",
       "      <td>pure</td>\n",
       "      <td>8.033234e+09</td>\n",
       "    </tr>\n",
       "    <tr>\n",
       "      <th>1</th>\n",
       "      <td>obey</td>\n",
       "      <td>7.711661e+19</td>\n",
       "    </tr>\n",
       "  </tbody>\n",
       "</table>\n",
       "</div>"
      ],
      "text/plain": [
       "                     0             1\n",
       "4    height_low_inches -1.294260e+07\n",
       "2           reps_lower -7.782757e+06\n",
       "8               age_in -1.631688e+06\n",
       "6       weight_low_lbs -1.360169e+06\n",
       "9              age_out  1.664000e+05\n",
       "7      weight_high_lbs  1.905104e+06\n",
       "5   height_high_inches  2.065270e+06\n",
       "10                 sex  2.482176e+06\n",
       "3           reps_upper  4.030090e+06\n",
       "0                 pure  8.033234e+09\n",
       "1                 obey  7.711661e+19"
      ]
     },
     "execution_count": 22,
     "metadata": {},
     "output_type": "execute_result"
    }
   ],
   "source": [
    "coefs = gs_linreg.best_estimator_.named_steps['linearregression'].coef_\n",
    "cols = X_test.columns\n",
    "pd.DataFrame(zip(cols, coefs)).sort_values(1)"
   ]
  },
  {
   "cell_type": "code",
   "execution_count": null,
   "metadata": {},
   "outputs": [],
   "source": []
  },
  {
   "cell_type": "code",
   "execution_count": null,
   "metadata": {},
   "outputs": [],
   "source": []
  }
 ],
 "metadata": {
  "interpreter": {
   "hash": "b3ba2566441a7c06988d0923437866b63cedc61552a5af99d1f4fb67d367b25f"
  },
  "kernelspec": {
   "display_name": "Python 3.9.7 ('base')",
   "language": "python",
   "name": "python3"
  },
  "language_info": {
   "codemirror_mode": {
    "name": "ipython",
    "version": 3
   },
   "file_extension": ".py",
   "mimetype": "text/x-python",
   "name": "python",
   "nbconvert_exporter": "python",
   "pygments_lexer": "ipython3",
   "version": "3.9.7"
  },
  "orig_nbformat": 4
 },
 "nbformat": 4,
 "nbformat_minor": 2
}
