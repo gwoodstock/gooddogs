{
 "cells": [
  {
   "cell_type": "markdown",
   "metadata": {},
   "source": [
    "# Import Libraries"
   ]
  },
  {
   "cell_type": "code",
   "execution_count": 21,
   "metadata": {},
   "outputs": [],
   "source": [
    "import pandas as pd\n",
    "import numpy as np\n",
    "import matplotlib.pyplot as plt\n",
    "import seaborn as sns\n",
    "\n",
    "# Preprocess\n",
    "from sklearn.preprocessing import StandardScaler, PolynomialFeatures\n",
    "from sklearn.model_selection import GridSearchCV, train_test_split\n",
    "from sklearn.metrics import mean_squared_error\n",
    "\n",
    "# Linear\n",
    "from sklearn.linear_model import Lasso\n",
    "\n",
    "# PCA\n",
    "from sklearn.decomposition import PCA\n",
    "\n",
    "# Trees\n",
    "from sklearn.ensemble import RandomForestRegressor\n",
    "from sklearn.tree import DecisionTreeRegressor"
   ]
  },
  {
   "cell_type": "markdown",
   "metadata": {},
   "source": [
    "# Import Data"
   ]
  },
  {
   "cell_type": "code",
   "execution_count": 22,
   "metadata": {},
   "outputs": [],
   "source": [
    "data = pd.read_csv('./datasets/working_data/model_data_full.csv')"
   ]
  },
  {
   "cell_type": "code",
   "execution_count": 23,
   "metadata": {},
   "outputs": [
    {
     "data": {
      "text/plain": [
       "Index(['intake_type', 'condition', 'age_in', 'breed', 'outcome', 'age_out',\n",
       "       'sex', 'intact_out', 'age', 'primary_color', 'secondary_color',\n",
       "       'breed_1', 'breed_2', 'pure', 'obey', 'reps_lower', 'reps_upper',\n",
       "       'height_low_inches', 'height_high_inches', 'weight_low_lbs',\n",
       "       'weight_high_lbs', 'time_in_shelter', 'date', 'month', 'at_risk',\n",
       "       'cond', 'breed_3'],\n",
       "      dtype='object')"
      ]
     },
     "execution_count": 23,
     "metadata": {},
     "output_type": "execute_result"
    }
   ],
   "source": [
    "data.columns"
   ]
  },
  {
   "cell_type": "code",
   "execution_count": 24,
   "metadata": {},
   "outputs": [
    {
     "data": {
      "text/html": [
       "<div>\n",
       "<style scoped>\n",
       "    .dataframe tbody tr th:only-of-type {\n",
       "        vertical-align: middle;\n",
       "    }\n",
       "\n",
       "    .dataframe tbody tr th {\n",
       "        vertical-align: top;\n",
       "    }\n",
       "\n",
       "    .dataframe thead th {\n",
       "        text-align: right;\n",
       "    }\n",
       "</style>\n",
       "<table border=\"1\" class=\"dataframe\">\n",
       "  <thead>\n",
       "    <tr style=\"text-align: right;\">\n",
       "      <th></th>\n",
       "      <th>intake_type</th>\n",
       "      <th>condition</th>\n",
       "      <th>age_in</th>\n",
       "      <th>breed</th>\n",
       "      <th>outcome</th>\n",
       "      <th>age_out</th>\n",
       "      <th>sex</th>\n",
       "      <th>intact_out</th>\n",
       "      <th>age</th>\n",
       "      <th>primary_color</th>\n",
       "      <th>...</th>\n",
       "      <th>height_low_inches</th>\n",
       "      <th>height_high_inches</th>\n",
       "      <th>weight_low_lbs</th>\n",
       "      <th>weight_high_lbs</th>\n",
       "      <th>time_in_shelter</th>\n",
       "      <th>date</th>\n",
       "      <th>month</th>\n",
       "      <th>at_risk</th>\n",
       "      <th>cond</th>\n",
       "      <th>breed_3</th>\n",
       "    </tr>\n",
       "  </thead>\n",
       "  <tbody>\n",
       "    <tr>\n",
       "      <th>0</th>\n",
       "      <td>surrender</td>\n",
       "      <td>normal</td>\n",
       "      <td>16.0</td>\n",
       "      <td>dachshund</td>\n",
       "      <td>adoption</td>\n",
       "      <td>16.0</td>\n",
       "      <td>1</td>\n",
       "      <td>0</td>\n",
       "      <td>senior</td>\n",
       "      <td>black</td>\n",
       "      <td>...</td>\n",
       "      <td>7.0</td>\n",
       "      <td>10.0</td>\n",
       "      <td>16.0</td>\n",
       "      <td>32.0</td>\n",
       "      <td>49</td>\n",
       "      <td>2013-10-03</td>\n",
       "      <td>10</td>\n",
       "      <td>1</td>\n",
       "      <td>NaN</td>\n",
       "      <td>dachshund</td>\n",
       "    </tr>\n",
       "    <tr>\n",
       "      <th>1</th>\n",
       "      <td>public_assist</td>\n",
       "      <td>aged</td>\n",
       "      <td>17.0</td>\n",
       "      <td>chihuahua</td>\n",
       "      <td>adoption</td>\n",
       "      <td>17.0</td>\n",
       "      <td>1</td>\n",
       "      <td>0</td>\n",
       "      <td>senior</td>\n",
       "      <td>tan</td>\n",
       "      <td>...</td>\n",
       "      <td>6.0</td>\n",
       "      <td>9.0</td>\n",
       "      <td>2.0</td>\n",
       "      <td>5.0</td>\n",
       "      <td>9</td>\n",
       "      <td>2016-09-28</td>\n",
       "      <td>9</td>\n",
       "      <td>0</td>\n",
       "      <td>NaN</td>\n",
       "      <td>chihuahua</td>\n",
       "    </tr>\n",
       "    <tr>\n",
       "      <th>2</th>\n",
       "      <td>stray</td>\n",
       "      <td>normal</td>\n",
       "      <td>15.0</td>\n",
       "      <td>labrador retriever/beagle</td>\n",
       "      <td>adoption</td>\n",
       "      <td>15.0</td>\n",
       "      <td>1</td>\n",
       "      <td>0</td>\n",
       "      <td>senior</td>\n",
       "      <td>sable</td>\n",
       "      <td>...</td>\n",
       "      <td>17.0</td>\n",
       "      <td>20.0</td>\n",
       "      <td>36.5</td>\n",
       "      <td>55.0</td>\n",
       "      <td>23</td>\n",
       "      <td>2015-10-06</td>\n",
       "      <td>10</td>\n",
       "      <td>1</td>\n",
       "      <td>NaN</td>\n",
       "      <td>labrador retriever</td>\n",
       "    </tr>\n",
       "    <tr>\n",
       "      <th>3</th>\n",
       "      <td>stray</td>\n",
       "      <td>normal</td>\n",
       "      <td>15.0</td>\n",
       "      <td>german shepherd</td>\n",
       "      <td>adoption</td>\n",
       "      <td>15.0</td>\n",
       "      <td>0</td>\n",
       "      <td>0</td>\n",
       "      <td>senior</td>\n",
       "      <td>black</td>\n",
       "      <td>...</td>\n",
       "      <td>22.0</td>\n",
       "      <td>26.0</td>\n",
       "      <td>75.0</td>\n",
       "      <td>90.0</td>\n",
       "      <td>89</td>\n",
       "      <td>2016-08-17</td>\n",
       "      <td>8</td>\n",
       "      <td>1</td>\n",
       "      <td>NaN</td>\n",
       "      <td>german shepherd</td>\n",
       "    </tr>\n",
       "    <tr>\n",
       "      <th>4</th>\n",
       "      <td>stray</td>\n",
       "      <td>normal</td>\n",
       "      <td>12.0</td>\n",
       "      <td>american eskimo</td>\n",
       "      <td>euthanasia</td>\n",
       "      <td>12.0</td>\n",
       "      <td>1</td>\n",
       "      <td>0</td>\n",
       "      <td>senior</td>\n",
       "      <td>cream</td>\n",
       "      <td>...</td>\n",
       "      <td>9.0</td>\n",
       "      <td>19.0</td>\n",
       "      <td>25.0</td>\n",
       "      <td>30.0</td>\n",
       "      <td>9</td>\n",
       "      <td>2014-08-27</td>\n",
       "      <td>8</td>\n",
       "      <td>0</td>\n",
       "      <td>NaN</td>\n",
       "      <td>other</td>\n",
       "    </tr>\n",
       "  </tbody>\n",
       "</table>\n",
       "<p>5 rows × 27 columns</p>\n",
       "</div>"
      ],
      "text/plain": [
       "     intake_type condition  age_in                      breed     outcome  \\\n",
       "0      surrender    normal    16.0                  dachshund    adoption   \n",
       "1  public_assist      aged    17.0                  chihuahua    adoption   \n",
       "2          stray    normal    15.0  labrador retriever/beagle    adoption   \n",
       "3          stray    normal    15.0            german shepherd    adoption   \n",
       "4          stray    normal    12.0            american eskimo  euthanasia   \n",
       "\n",
       "   age_out  sex  intact_out     age primary_color  ... height_low_inches  \\\n",
       "0     16.0    1           0  senior         black  ...               7.0   \n",
       "1     17.0    1           0  senior           tan  ...               6.0   \n",
       "2     15.0    1           0  senior         sable  ...              17.0   \n",
       "3     15.0    0           0  senior         black  ...              22.0   \n",
       "4     12.0    1           0  senior         cream  ...               9.0   \n",
       "\n",
       "  height_high_inches weight_low_lbs  weight_high_lbs  time_in_shelter  \\\n",
       "0               10.0           16.0             32.0               49   \n",
       "1                9.0            2.0              5.0                9   \n",
       "2               20.0           36.5             55.0               23   \n",
       "3               26.0           75.0             90.0               89   \n",
       "4               19.0           25.0             30.0                9   \n",
       "\n",
       "         date  month  at_risk  cond             breed_3  \n",
       "0  2013-10-03     10        1   NaN           dachshund  \n",
       "1  2016-09-28      9        0   NaN           chihuahua  \n",
       "2  2015-10-06     10        1   NaN  labrador retriever  \n",
       "3  2016-08-17      8        1   NaN     german shepherd  \n",
       "4  2014-08-27      8        0   NaN               other  \n",
       "\n",
       "[5 rows x 27 columns]"
      ]
     },
     "execution_count": 24,
     "metadata": {},
     "output_type": "execute_result"
    }
   ],
   "source": [
    "data.head()"
   ]
  },
  {
   "cell_type": "markdown",
   "metadata": {},
   "source": [
    "# Set Target"
   ]
  },
  {
   "cell_type": "code",
   "execution_count": 25,
   "metadata": {},
   "outputs": [],
   "source": [
    "y = data['time_in_shelter']\n",
    "X = data.drop(columns=['time_in_shelter'])"
   ]
  },
  {
   "cell_type": "markdown",
   "metadata": {},
   "source": [
    "# Train/Test Models"
   ]
  },
  {
   "cell_type": "code",
   "execution_count": 26,
   "metadata": {},
   "outputs": [],
   "source": [
    "# option 1\n",
    "numeric_cols = ['age_in', 'sex', 'intact_out', 'pure', 'obey', 'reps_lower', 'reps_upper', 'height_low_inches', 'height_high_inches', 'weight_low_lbs', 'weight_high_lbs']"
   ]
  },
  {
   "cell_type": "code",
   "execution_count": 27,
   "metadata": {},
   "outputs": [],
   "source": [
    "# option 2\n",
    "numeric_cols = ['age_in', 'obey', 'height_low_inches', 'height_high_inches', 'weight_low_lbs', 'weight_high_lbs']"
   ]
  },
  {
   "cell_type": "code",
   "execution_count": 28,
   "metadata": {},
   "outputs": [],
   "source": [
    "cat_features = ['age']"
   ]
  },
  {
   "cell_type": "code",
   "execution_count": 29,
   "metadata": {},
   "outputs": [],
   "source": [
    "X_dum = pd.concat([\n",
    "    X[numeric_cols], \n",
    "    pd.get_dummies(X[cat_features]), \n",
    "    pd.get_dummies(X['breed_1']),\n",
    "    # pd.get_dummies(X['primary_color'], prefix='color'), \n",
    "    pd.get_dummies(X['condition'], prefix='condition'), \n",
    "    # pd.get_dummies(X['intake_type'], prefix='intake')\n",
    "    ], axis=1)"
   ]
  },
  {
   "cell_type": "code",
   "execution_count": 30,
   "metadata": {},
   "outputs": [
    {
     "data": {
      "text/html": [
       "<div>\n",
       "<style scoped>\n",
       "    .dataframe tbody tr th:only-of-type {\n",
       "        vertical-align: middle;\n",
       "    }\n",
       "\n",
       "    .dataframe tbody tr th {\n",
       "        vertical-align: top;\n",
       "    }\n",
       "\n",
       "    .dataframe thead th {\n",
       "        text-align: right;\n",
       "    }\n",
       "</style>\n",
       "<table border=\"1\" class=\"dataframe\">\n",
       "  <thead>\n",
       "    <tr style=\"text-align: right;\">\n",
       "      <th></th>\n",
       "      <th>age_in</th>\n",
       "      <th>obey</th>\n",
       "      <th>height_low_inches</th>\n",
       "      <th>height_high_inches</th>\n",
       "      <th>weight_low_lbs</th>\n",
       "      <th>weight_high_lbs</th>\n",
       "      <th>age_adult</th>\n",
       "      <th>age_baby</th>\n",
       "      <th>age_senior</th>\n",
       "      <th>age_young</th>\n",
       "      <th>...</th>\n",
       "      <th>welsh terrier</th>\n",
       "      <th>west highland white terrier</th>\n",
       "      <th>whippet</th>\n",
       "      <th>yorkshire terrier</th>\n",
       "      <th>condition_aged</th>\n",
       "      <th>condition_behavior</th>\n",
       "      <th>condition_injured</th>\n",
       "      <th>condition_normal</th>\n",
       "      <th>condition_nursing</th>\n",
       "      <th>condition_other</th>\n",
       "    </tr>\n",
       "  </thead>\n",
       "  <tbody>\n",
       "    <tr>\n",
       "      <th>0</th>\n",
       "      <td>16.0</td>\n",
       "      <td>0.500000</td>\n",
       "      <td>7.0</td>\n",
       "      <td>10.0</td>\n",
       "      <td>16.0</td>\n",
       "      <td>32.0</td>\n",
       "      <td>0</td>\n",
       "      <td>0</td>\n",
       "      <td>1</td>\n",
       "      <td>0</td>\n",
       "      <td>...</td>\n",
       "      <td>0</td>\n",
       "      <td>0</td>\n",
       "      <td>0</td>\n",
       "      <td>0</td>\n",
       "      <td>0</td>\n",
       "      <td>0</td>\n",
       "      <td>0</td>\n",
       "      <td>1</td>\n",
       "      <td>0</td>\n",
       "      <td>0</td>\n",
       "    </tr>\n",
       "    <tr>\n",
       "      <th>1</th>\n",
       "      <td>17.0</td>\n",
       "      <td>0.300000</td>\n",
       "      <td>6.0</td>\n",
       "      <td>9.0</td>\n",
       "      <td>2.0</td>\n",
       "      <td>5.0</td>\n",
       "      <td>0</td>\n",
       "      <td>0</td>\n",
       "      <td>1</td>\n",
       "      <td>0</td>\n",
       "      <td>...</td>\n",
       "      <td>0</td>\n",
       "      <td>0</td>\n",
       "      <td>0</td>\n",
       "      <td>0</td>\n",
       "      <td>1</td>\n",
       "      <td>0</td>\n",
       "      <td>0</td>\n",
       "      <td>0</td>\n",
       "      <td>0</td>\n",
       "      <td>0</td>\n",
       "    </tr>\n",
       "    <tr>\n",
       "      <th>2</th>\n",
       "      <td>15.0</td>\n",
       "      <td>0.525000</td>\n",
       "      <td>17.0</td>\n",
       "      <td>20.0</td>\n",
       "      <td>36.5</td>\n",
       "      <td>55.0</td>\n",
       "      <td>0</td>\n",
       "      <td>0</td>\n",
       "      <td>1</td>\n",
       "      <td>0</td>\n",
       "      <td>...</td>\n",
       "      <td>0</td>\n",
       "      <td>0</td>\n",
       "      <td>0</td>\n",
       "      <td>0</td>\n",
       "      <td>0</td>\n",
       "      <td>0</td>\n",
       "      <td>0</td>\n",
       "      <td>1</td>\n",
       "      <td>0</td>\n",
       "      <td>0</td>\n",
       "    </tr>\n",
       "    <tr>\n",
       "      <th>3</th>\n",
       "      <td>15.0</td>\n",
       "      <td>0.950000</td>\n",
       "      <td>22.0</td>\n",
       "      <td>26.0</td>\n",
       "      <td>75.0</td>\n",
       "      <td>90.0</td>\n",
       "      <td>0</td>\n",
       "      <td>0</td>\n",
       "      <td>1</td>\n",
       "      <td>0</td>\n",
       "      <td>...</td>\n",
       "      <td>0</td>\n",
       "      <td>0</td>\n",
       "      <td>0</td>\n",
       "      <td>0</td>\n",
       "      <td>0</td>\n",
       "      <td>0</td>\n",
       "      <td>0</td>\n",
       "      <td>1</td>\n",
       "      <td>0</td>\n",
       "      <td>0</td>\n",
       "    </tr>\n",
       "    <tr>\n",
       "      <th>4</th>\n",
       "      <td>12.0</td>\n",
       "      <td>0.569858</td>\n",
       "      <td>9.0</td>\n",
       "      <td>19.0</td>\n",
       "      <td>25.0</td>\n",
       "      <td>30.0</td>\n",
       "      <td>0</td>\n",
       "      <td>0</td>\n",
       "      <td>1</td>\n",
       "      <td>0</td>\n",
       "      <td>...</td>\n",
       "      <td>0</td>\n",
       "      <td>0</td>\n",
       "      <td>0</td>\n",
       "      <td>0</td>\n",
       "      <td>0</td>\n",
       "      <td>0</td>\n",
       "      <td>0</td>\n",
       "      <td>1</td>\n",
       "      <td>0</td>\n",
       "      <td>0</td>\n",
       "    </tr>\n",
       "  </tbody>\n",
       "</table>\n",
       "<p>5 rows × 134 columns</p>\n",
       "</div>"
      ],
      "text/plain": [
       "   age_in      obey  height_low_inches  height_high_inches  weight_low_lbs  \\\n",
       "0    16.0  0.500000                7.0                10.0            16.0   \n",
       "1    17.0  0.300000                6.0                 9.0             2.0   \n",
       "2    15.0  0.525000               17.0                20.0            36.5   \n",
       "3    15.0  0.950000               22.0                26.0            75.0   \n",
       "4    12.0  0.569858                9.0                19.0            25.0   \n",
       "\n",
       "   weight_high_lbs  age_adult  age_baby  age_senior  age_young  ...  \\\n",
       "0             32.0          0         0           1          0  ...   \n",
       "1              5.0          0         0           1          0  ...   \n",
       "2             55.0          0         0           1          0  ...   \n",
       "3             90.0          0         0           1          0  ...   \n",
       "4             30.0          0         0           1          0  ...   \n",
       "\n",
       "   welsh terrier  west highland white terrier  whippet  yorkshire terrier  \\\n",
       "0              0                            0        0                  0   \n",
       "1              0                            0        0                  0   \n",
       "2              0                            0        0                  0   \n",
       "3              0                            0        0                  0   \n",
       "4              0                            0        0                  0   \n",
       "\n",
       "   condition_aged  condition_behavior  condition_injured  condition_normal  \\\n",
       "0               0                   0                  0                 1   \n",
       "1               1                   0                  0                 0   \n",
       "2               0                   0                  0                 1   \n",
       "3               0                   0                  0                 1   \n",
       "4               0                   0                  0                 1   \n",
       "\n",
       "   condition_nursing  condition_other  \n",
       "0                  0                0  \n",
       "1                  0                0  \n",
       "2                  0                0  \n",
       "3                  0                0  \n",
       "4                  0                0  \n",
       "\n",
       "[5 rows x 134 columns]"
      ]
     },
     "execution_count": 30,
     "metadata": {},
     "output_type": "execute_result"
    }
   ],
   "source": [
    "X_dum.head()"
   ]
  },
  {
   "cell_type": "code",
   "execution_count": 31,
   "metadata": {},
   "outputs": [
    {
     "data": {
      "text/plain": [
       "(11599, 134)"
      ]
     },
     "execution_count": 31,
     "metadata": {},
     "output_type": "execute_result"
    }
   ],
   "source": [
    "X_dum.shape"
   ]
  },
  {
   "cell_type": "markdown",
   "metadata": {},
   "source": [
    "Add feature interaction"
   ]
  },
  {
   "cell_type": "code",
   "execution_count": 32,
   "metadata": {},
   "outputs": [],
   "source": [
    "pf = PolynomialFeatures(degree=2)\n",
    "X_poly = pf.fit_transform(X_dum)"
   ]
  },
  {
   "cell_type": "code",
   "execution_count": 33,
   "metadata": {},
   "outputs": [],
   "source": [
    "# with poly\n",
    "X_train, X_test, y_train, y_test = train_test_split(X_poly, y, random_state=123)"
   ]
  },
  {
   "cell_type": "code",
   "execution_count": 34,
   "metadata": {},
   "outputs": [],
   "source": [
    "# without poly\n",
    "X_train, X_test, y_train, y_test = train_test_split(X_dum, y, random_state=123)"
   ]
  },
  {
   "cell_type": "markdown",
   "metadata": {},
   "source": [
    "Scale data"
   ]
  },
  {
   "cell_type": "code",
   "execution_count": 35,
   "metadata": {},
   "outputs": [],
   "source": [
    "ss = StandardScaler()\n",
    "\n",
    "X_train_sc = ss.fit_transform(X_train)\n",
    "X_test_sc = ss.transform(X_test)"
   ]
  },
  {
   "cell_type": "markdown",
   "metadata": {},
   "source": [
    "## Linear Regression with L1"
   ]
  },
  {
   "cell_type": "code",
   "execution_count": 36,
   "metadata": {},
   "outputs": [
    {
     "data": {
      "text/plain": [
       "GridSearchCV(estimator=Lasso(max_iter=10000, random_state=123),\n",
       "             param_grid={'alpha': [0.05, 0.1, 0.25, 0.5]})"
      ]
     },
     "execution_count": 36,
     "metadata": {},
     "output_type": "execute_result"
    }
   ],
   "source": [
    "lr_params = {\n",
    "    'alpha': [.05, .1, .25, .5],\n",
    "}\n",
    "\n",
    "lr = Lasso(random_state=123, max_iter=10_000)\n",
    "gs_lr = GridSearchCV(lr, lr_params)\n",
    "\n",
    "gs_lr.fit(X_train_sc, y_train)"
   ]
  },
  {
   "cell_type": "code",
   "execution_count": 37,
   "metadata": {},
   "outputs": [
    {
     "data": {
      "text/html": [
       "<div>\n",
       "<style scoped>\n",
       "    .dataframe tbody tr th:only-of-type {\n",
       "        vertical-align: middle;\n",
       "    }\n",
       "\n",
       "    .dataframe tbody tr th {\n",
       "        vertical-align: top;\n",
       "    }\n",
       "\n",
       "    .dataframe thead th {\n",
       "        text-align: right;\n",
       "    }\n",
       "</style>\n",
       "<table border=\"1\" class=\"dataframe\">\n",
       "  <thead>\n",
       "    <tr style=\"text-align: right;\">\n",
       "      <th></th>\n",
       "      <th>mean_fit_time</th>\n",
       "      <th>std_fit_time</th>\n",
       "      <th>mean_score_time</th>\n",
       "      <th>std_score_time</th>\n",
       "      <th>param_alpha</th>\n",
       "      <th>params</th>\n",
       "      <th>split0_test_score</th>\n",
       "      <th>split1_test_score</th>\n",
       "      <th>split2_test_score</th>\n",
       "      <th>split3_test_score</th>\n",
       "      <th>split4_test_score</th>\n",
       "      <th>mean_test_score</th>\n",
       "      <th>std_test_score</th>\n",
       "      <th>rank_test_score</th>\n",
       "    </tr>\n",
       "  </thead>\n",
       "  <tbody>\n",
       "    <tr>\n",
       "      <th>0</th>\n",
       "      <td>0.136027</td>\n",
       "      <td>0.037513</td>\n",
       "      <td>0.001152</td>\n",
       "      <td>0.000117</td>\n",
       "      <td>0.05</td>\n",
       "      <td>{'alpha': 0.05}</td>\n",
       "      <td>0.065786</td>\n",
       "      <td>0.058759</td>\n",
       "      <td>0.069443</td>\n",
       "      <td>0.042520</td>\n",
       "      <td>0.074288</td>\n",
       "      <td>0.062159</td>\n",
       "      <td>0.011051</td>\n",
       "      <td>4</td>\n",
       "    </tr>\n",
       "    <tr>\n",
       "      <th>1</th>\n",
       "      <td>0.069464</td>\n",
       "      <td>0.007635</td>\n",
       "      <td>0.001021</td>\n",
       "      <td>0.000196</td>\n",
       "      <td>0.1</td>\n",
       "      <td>{'alpha': 0.1}</td>\n",
       "      <td>0.067416</td>\n",
       "      <td>0.059961</td>\n",
       "      <td>0.070785</td>\n",
       "      <td>0.045124</td>\n",
       "      <td>0.075296</td>\n",
       "      <td>0.063716</td>\n",
       "      <td>0.010559</td>\n",
       "      <td>3</td>\n",
       "    </tr>\n",
       "    <tr>\n",
       "      <th>2</th>\n",
       "      <td>0.052193</td>\n",
       "      <td>0.009225</td>\n",
       "      <td>0.001114</td>\n",
       "      <td>0.000231</td>\n",
       "      <td>0.25</td>\n",
       "      <td>{'alpha': 0.25}</td>\n",
       "      <td>0.069773</td>\n",
       "      <td>0.062330</td>\n",
       "      <td>0.071508</td>\n",
       "      <td>0.049413</td>\n",
       "      <td>0.075310</td>\n",
       "      <td>0.065667</td>\n",
       "      <td>0.009157</td>\n",
       "      <td>1</td>\n",
       "    </tr>\n",
       "    <tr>\n",
       "      <th>3</th>\n",
       "      <td>0.038158</td>\n",
       "      <td>0.003658</td>\n",
       "      <td>0.000990</td>\n",
       "      <td>0.000131</td>\n",
       "      <td>0.5</td>\n",
       "      <td>{'alpha': 0.5}</td>\n",
       "      <td>0.071012</td>\n",
       "      <td>0.061504</td>\n",
       "      <td>0.069128</td>\n",
       "      <td>0.051010</td>\n",
       "      <td>0.072101</td>\n",
       "      <td>0.064951</td>\n",
       "      <td>0.007894</td>\n",
       "      <td>2</td>\n",
       "    </tr>\n",
       "  </tbody>\n",
       "</table>\n",
       "</div>"
      ],
      "text/plain": [
       "   mean_fit_time  std_fit_time  mean_score_time  std_score_time param_alpha  \\\n",
       "0       0.136027      0.037513         0.001152        0.000117        0.05   \n",
       "1       0.069464      0.007635         0.001021        0.000196         0.1   \n",
       "2       0.052193      0.009225         0.001114        0.000231        0.25   \n",
       "3       0.038158      0.003658         0.000990        0.000131         0.5   \n",
       "\n",
       "            params  split0_test_score  split1_test_score  split2_test_score  \\\n",
       "0  {'alpha': 0.05}           0.065786           0.058759           0.069443   \n",
       "1   {'alpha': 0.1}           0.067416           0.059961           0.070785   \n",
       "2  {'alpha': 0.25}           0.069773           0.062330           0.071508   \n",
       "3   {'alpha': 0.5}           0.071012           0.061504           0.069128   \n",
       "\n",
       "   split3_test_score  split4_test_score  mean_test_score  std_test_score  \\\n",
       "0           0.042520           0.074288         0.062159        0.011051   \n",
       "1           0.045124           0.075296         0.063716        0.010559   \n",
       "2           0.049413           0.075310         0.065667        0.009157   \n",
       "3           0.051010           0.072101         0.064951        0.007894   \n",
       "\n",
       "   rank_test_score  \n",
       "0                4  \n",
       "1                3  \n",
       "2                1  \n",
       "3                2  "
      ]
     },
     "execution_count": 37,
     "metadata": {},
     "output_type": "execute_result"
    }
   ],
   "source": [
    "pd.DataFrame(gs_lr.cv_results_)"
   ]
  },
  {
   "cell_type": "code",
   "execution_count": 38,
   "metadata": {},
   "outputs": [
    {
     "name": "stdout",
     "output_type": "stream",
     "text": [
      "Training Score: 0.0806\n",
      "Testing Score: 0.0691\n"
     ]
    }
   ],
   "source": [
    "# Score on training and testing sets.\n",
    "print(f'Training Score: {round(gs_lr.score(X_train_sc, y_train),4)}')\n",
    "print(f'Testing Score: {round(gs_lr.score(X_test_sc, y_test),4)}')"
   ]
  },
  {
   "cell_type": "markdown",
   "metadata": {},
   "source": [
    "Explained only 7% of the variance. Yikes... Not looking good."
   ]
  },
  {
   "cell_type": "code",
   "execution_count": 39,
   "metadata": {},
   "outputs": [
    {
     "data": {
      "text/plain": [
       "34.25"
      ]
     },
     "execution_count": 39,
     "metadata": {},
     "output_type": "execute_result"
    }
   ],
   "source": [
    "np.round(mean_squared_error(y_test, gs_lr.predict(X_test_sc), squared=False), 2)"
   ]
  },
  {
   "cell_type": "markdown",
   "metadata": {},
   "source": [
    "Baseline in days"
   ]
  },
  {
   "cell_type": "code",
   "execution_count": 40,
   "metadata": {},
   "outputs": [
    {
     "data": {
      "text/plain": [
       "37.32"
      ]
     },
     "execution_count": 40,
     "metadata": {},
     "output_type": "execute_result"
    }
   ],
   "source": [
    "np.round(y.mean(), 2)"
   ]
  },
  {
   "cell_type": "markdown",
   "metadata": {},
   "source": [
    "Not getting any signal!! Will try to reduce the number of features. Will try PCA, but doubtful the scores improve by much, if at all. There are a lot of dummy features in the sparse matrix. Its possible the less frequent breeds could be adding some noise."
   ]
  },
  {
   "cell_type": "markdown",
   "metadata": {},
   "source": [
    "# PCA"
   ]
  },
  {
   "cell_type": "code",
   "execution_count": 41,
   "metadata": {},
   "outputs": [],
   "source": [
    "X_dum = pd.concat([\n",
    "    X[numeric_cols], \n",
    "    pd.get_dummies(X[cat_features]), \n",
    "    pd.get_dummies(X['breed_1']),\n",
    "    # pd.get_dummies(X['primary_color'], prefix='color'), \n",
    "    pd.get_dummies(X['condition'], prefix='condition'), \n",
    "    # pd.get_dummies(X['intake_type'], prefix='intake')\n",
    "    ], axis=1)"
   ]
  },
  {
   "cell_type": "code",
   "execution_count": 42,
   "metadata": {},
   "outputs": [],
   "source": [
    "X_train, X_test, y_train, y_test = train_test_split(X_dum, y, random_state=12)"
   ]
  },
  {
   "cell_type": "code",
   "execution_count": 43,
   "metadata": {},
   "outputs": [],
   "source": [
    "ss = StandardScaler()\n",
    "X_train_sc = ss.fit_transform(X_train)\n",
    "X_test_sc = ss.transform(X_test)"
   ]
  },
  {
   "cell_type": "code",
   "execution_count": 44,
   "metadata": {},
   "outputs": [
    {
     "data": {
      "text/plain": [
       "PCA(n_components=50, random_state=123)"
      ]
     },
     "execution_count": 44,
     "metadata": {},
     "output_type": "execute_result"
    }
   ],
   "source": [
    "pca = PCA(random_state=123, n_components=50)\n",
    "pca.fit(X_train_sc)"
   ]
  },
  {
   "cell_type": "code",
   "execution_count": 45,
   "metadata": {},
   "outputs": [
    {
     "data": {
      "text/html": [
       "<div>\n",
       "<style scoped>\n",
       "    .dataframe tbody tr th:only-of-type {\n",
       "        vertical-align: middle;\n",
       "    }\n",
       "\n",
       "    .dataframe tbody tr th {\n",
       "        vertical-align: top;\n",
       "    }\n",
       "\n",
       "    .dataframe thead th {\n",
       "        text-align: right;\n",
       "    }\n",
       "</style>\n",
       "<table border=\"1\" class=\"dataframe\">\n",
       "  <thead>\n",
       "    <tr style=\"text-align: right;\">\n",
       "      <th></th>\n",
       "      <th>0</th>\n",
       "      <th>1</th>\n",
       "      <th>2</th>\n",
       "      <th>3</th>\n",
       "      <th>4</th>\n",
       "      <th>5</th>\n",
       "      <th>6</th>\n",
       "      <th>7</th>\n",
       "      <th>8</th>\n",
       "      <th>9</th>\n",
       "      <th>...</th>\n",
       "      <th>40</th>\n",
       "      <th>41</th>\n",
       "      <th>42</th>\n",
       "      <th>43</th>\n",
       "      <th>44</th>\n",
       "      <th>45</th>\n",
       "      <th>46</th>\n",
       "      <th>47</th>\n",
       "      <th>48</th>\n",
       "      <th>49</th>\n",
       "    </tr>\n",
       "  </thead>\n",
       "  <tbody>\n",
       "    <tr>\n",
       "      <th>0</th>\n",
       "      <td>-4.260833</td>\n",
       "      <td>-0.844718</td>\n",
       "      <td>-1.782774</td>\n",
       "      <td>0.426147</td>\n",
       "      <td>0.666113</td>\n",
       "      <td>1.109201</td>\n",
       "      <td>0.590163</td>\n",
       "      <td>-0.922023</td>\n",
       "      <td>0.433890</td>\n",
       "      <td>-0.178727</td>\n",
       "      <td>...</td>\n",
       "      <td>0.018663</td>\n",
       "      <td>0.005242</td>\n",
       "      <td>0.004897</td>\n",
       "      <td>-0.005862</td>\n",
       "      <td>0.002817</td>\n",
       "      <td>0.000669</td>\n",
       "      <td>0.005800</td>\n",
       "      <td>0.008338</td>\n",
       "      <td>-0.012759</td>\n",
       "      <td>0.008360</td>\n",
       "    </tr>\n",
       "    <tr>\n",
       "      <th>1</th>\n",
       "      <td>-0.288654</td>\n",
       "      <td>1.086075</td>\n",
       "      <td>-0.440950</td>\n",
       "      <td>0.282274</td>\n",
       "      <td>-1.646856</td>\n",
       "      <td>-0.616418</td>\n",
       "      <td>-0.790909</td>\n",
       "      <td>0.326844</td>\n",
       "      <td>-0.447124</td>\n",
       "      <td>0.820573</td>\n",
       "      <td>...</td>\n",
       "      <td>-0.003963</td>\n",
       "      <td>0.002985</td>\n",
       "      <td>0.001262</td>\n",
       "      <td>0.006146</td>\n",
       "      <td>-0.000783</td>\n",
       "      <td>-0.000412</td>\n",
       "      <td>0.002124</td>\n",
       "      <td>-0.000273</td>\n",
       "      <td>-0.005623</td>\n",
       "      <td>0.001724</td>\n",
       "    </tr>\n",
       "    <tr>\n",
       "      <th>2</th>\n",
       "      <td>0.157039</td>\n",
       "      <td>-4.103967</td>\n",
       "      <td>2.181377</td>\n",
       "      <td>-1.734093</td>\n",
       "      <td>-0.442277</td>\n",
       "      <td>-0.814122</td>\n",
       "      <td>-1.843662</td>\n",
       "      <td>0.704937</td>\n",
       "      <td>0.473577</td>\n",
       "      <td>-0.909234</td>\n",
       "      <td>...</td>\n",
       "      <td>-0.015381</td>\n",
       "      <td>0.030619</td>\n",
       "      <td>0.041939</td>\n",
       "      <td>0.023770</td>\n",
       "      <td>-0.017514</td>\n",
       "      <td>-0.009946</td>\n",
       "      <td>0.015823</td>\n",
       "      <td>0.006018</td>\n",
       "      <td>-0.037729</td>\n",
       "      <td>-0.011572</td>\n",
       "    </tr>\n",
       "    <tr>\n",
       "      <th>3</th>\n",
       "      <td>-0.863515</td>\n",
       "      <td>-1.570414</td>\n",
       "      <td>1.372937</td>\n",
       "      <td>2.498154</td>\n",
       "      <td>-1.520231</td>\n",
       "      <td>2.725537</td>\n",
       "      <td>-0.350836</td>\n",
       "      <td>0.031351</td>\n",
       "      <td>-0.541314</td>\n",
       "      <td>0.847283</td>\n",
       "      <td>...</td>\n",
       "      <td>-0.020348</td>\n",
       "      <td>-0.002815</td>\n",
       "      <td>0.014485</td>\n",
       "      <td>-0.002266</td>\n",
       "      <td>0.006520</td>\n",
       "      <td>0.001948</td>\n",
       "      <td>0.009610</td>\n",
       "      <td>-0.006126</td>\n",
       "      <td>0.001396</td>\n",
       "      <td>-0.002883</td>\n",
       "    </tr>\n",
       "    <tr>\n",
       "      <th>4</th>\n",
       "      <td>-0.356838</td>\n",
       "      <td>1.459821</td>\n",
       "      <td>-0.189032</td>\n",
       "      <td>0.180535</td>\n",
       "      <td>-1.573982</td>\n",
       "      <td>-0.565135</td>\n",
       "      <td>-0.811289</td>\n",
       "      <td>0.332363</td>\n",
       "      <td>-0.476418</td>\n",
       "      <td>0.826765</td>\n",
       "      <td>...</td>\n",
       "      <td>-0.008102</td>\n",
       "      <td>0.006068</td>\n",
       "      <td>0.004854</td>\n",
       "      <td>0.004558</td>\n",
       "      <td>0.002234</td>\n",
       "      <td>-0.000273</td>\n",
       "      <td>0.000077</td>\n",
       "      <td>-0.001990</td>\n",
       "      <td>-0.004321</td>\n",
       "      <td>-0.000176</td>\n",
       "    </tr>\n",
       "    <tr>\n",
       "      <th>...</th>\n",
       "      <td>...</td>\n",
       "      <td>...</td>\n",
       "      <td>...</td>\n",
       "      <td>...</td>\n",
       "      <td>...</td>\n",
       "      <td>...</td>\n",
       "      <td>...</td>\n",
       "      <td>...</td>\n",
       "      <td>...</td>\n",
       "      <td>...</td>\n",
       "      <td>...</td>\n",
       "      <td>...</td>\n",
       "      <td>...</td>\n",
       "      <td>...</td>\n",
       "      <td>...</td>\n",
       "      <td>...</td>\n",
       "      <td>...</td>\n",
       "      <td>...</td>\n",
       "      <td>...</td>\n",
       "      <td>...</td>\n",
       "      <td>...</td>\n",
       "    </tr>\n",
       "    <tr>\n",
       "      <th>8694</th>\n",
       "      <td>0.719211</td>\n",
       "      <td>-1.570738</td>\n",
       "      <td>-0.963899</td>\n",
       "      <td>0.121145</td>\n",
       "      <td>1.638817</td>\n",
       "      <td>-1.249999</td>\n",
       "      <td>0.127234</td>\n",
       "      <td>1.537255</td>\n",
       "      <td>-0.590412</td>\n",
       "      <td>-0.111243</td>\n",
       "      <td>...</td>\n",
       "      <td>0.138783</td>\n",
       "      <td>-0.044628</td>\n",
       "      <td>-0.060947</td>\n",
       "      <td>-0.023958</td>\n",
       "      <td>0.005943</td>\n",
       "      <td>-0.005379</td>\n",
       "      <td>-0.022026</td>\n",
       "      <td>-0.021002</td>\n",
       "      <td>0.006294</td>\n",
       "      <td>-0.059500</td>\n",
       "    </tr>\n",
       "    <tr>\n",
       "      <th>8695</th>\n",
       "      <td>-0.046983</td>\n",
       "      <td>-0.059264</td>\n",
       "      <td>-1.554327</td>\n",
       "      <td>0.248962</td>\n",
       "      <td>-0.824963</td>\n",
       "      <td>1.552465</td>\n",
       "      <td>-0.956768</td>\n",
       "      <td>0.153879</td>\n",
       "      <td>-0.304074</td>\n",
       "      <td>0.991946</td>\n",
       "      <td>...</td>\n",
       "      <td>-0.006180</td>\n",
       "      <td>0.003391</td>\n",
       "      <td>0.004448</td>\n",
       "      <td>-0.000998</td>\n",
       "      <td>-0.000778</td>\n",
       "      <td>0.000212</td>\n",
       "      <td>0.002993</td>\n",
       "      <td>0.005513</td>\n",
       "      <td>-0.007542</td>\n",
       "      <td>-0.000851</td>\n",
       "    </tr>\n",
       "    <tr>\n",
       "      <th>8696</th>\n",
       "      <td>-4.293898</td>\n",
       "      <td>-1.663809</td>\n",
       "      <td>-0.993527</td>\n",
       "      <td>-0.209011</td>\n",
       "      <td>1.217724</td>\n",
       "      <td>-1.049496</td>\n",
       "      <td>0.420298</td>\n",
       "      <td>-0.606620</td>\n",
       "      <td>0.217882</td>\n",
       "      <td>-0.159736</td>\n",
       "      <td>...</td>\n",
       "      <td>0.018976</td>\n",
       "      <td>0.003642</td>\n",
       "      <td>-0.003446</td>\n",
       "      <td>-0.003568</td>\n",
       "      <td>0.004537</td>\n",
       "      <td>-0.001521</td>\n",
       "      <td>0.004699</td>\n",
       "      <td>0.003267</td>\n",
       "      <td>-0.016470</td>\n",
       "      <td>0.005689</td>\n",
       "    </tr>\n",
       "    <tr>\n",
       "      <th>8697</th>\n",
       "      <td>1.115005</td>\n",
       "      <td>-1.205242</td>\n",
       "      <td>-0.345138</td>\n",
       "      <td>0.403440</td>\n",
       "      <td>1.021139</td>\n",
       "      <td>-1.142332</td>\n",
       "      <td>0.532097</td>\n",
       "      <td>1.045925</td>\n",
       "      <td>-0.715993</td>\n",
       "      <td>-1.305493</td>\n",
       "      <td>...</td>\n",
       "      <td>0.014607</td>\n",
       "      <td>-0.011635</td>\n",
       "      <td>-0.040137</td>\n",
       "      <td>-0.129827</td>\n",
       "      <td>0.019664</td>\n",
       "      <td>-0.002998</td>\n",
       "      <td>-0.038178</td>\n",
       "      <td>-0.061830</td>\n",
       "      <td>-0.087020</td>\n",
       "      <td>-0.020030</td>\n",
       "    </tr>\n",
       "    <tr>\n",
       "      <th>8698</th>\n",
       "      <td>3.844135</td>\n",
       "      <td>0.627678</td>\n",
       "      <td>-1.053081</td>\n",
       "      <td>3.631194</td>\n",
       "      <td>2.613402</td>\n",
       "      <td>0.398650</td>\n",
       "      <td>0.099215</td>\n",
       "      <td>0.631324</td>\n",
       "      <td>-0.001875</td>\n",
       "      <td>0.483916</td>\n",
       "      <td>...</td>\n",
       "      <td>-0.259159</td>\n",
       "      <td>-0.084818</td>\n",
       "      <td>0.317689</td>\n",
       "      <td>-0.012671</td>\n",
       "      <td>-0.038264</td>\n",
       "      <td>-0.036646</td>\n",
       "      <td>0.040966</td>\n",
       "      <td>-0.112994</td>\n",
       "      <td>0.035569</td>\n",
       "      <td>-0.009697</td>\n",
       "    </tr>\n",
       "  </tbody>\n",
       "</table>\n",
       "<p>8699 rows × 50 columns</p>\n",
       "</div>"
      ],
      "text/plain": [
       "            0         1         2         3         4         5         6   \\\n",
       "0    -4.260833 -0.844718 -1.782774  0.426147  0.666113  1.109201  0.590163   \n",
       "1    -0.288654  1.086075 -0.440950  0.282274 -1.646856 -0.616418 -0.790909   \n",
       "2     0.157039 -4.103967  2.181377 -1.734093 -0.442277 -0.814122 -1.843662   \n",
       "3    -0.863515 -1.570414  1.372937  2.498154 -1.520231  2.725537 -0.350836   \n",
       "4    -0.356838  1.459821 -0.189032  0.180535 -1.573982 -0.565135 -0.811289   \n",
       "...        ...       ...       ...       ...       ...       ...       ...   \n",
       "8694  0.719211 -1.570738 -0.963899  0.121145  1.638817 -1.249999  0.127234   \n",
       "8695 -0.046983 -0.059264 -1.554327  0.248962 -0.824963  1.552465 -0.956768   \n",
       "8696 -4.293898 -1.663809 -0.993527 -0.209011  1.217724 -1.049496  0.420298   \n",
       "8697  1.115005 -1.205242 -0.345138  0.403440  1.021139 -1.142332  0.532097   \n",
       "8698  3.844135  0.627678 -1.053081  3.631194  2.613402  0.398650  0.099215   \n",
       "\n",
       "            7         8         9   ...        40        41        42  \\\n",
       "0    -0.922023  0.433890 -0.178727  ...  0.018663  0.005242  0.004897   \n",
       "1     0.326844 -0.447124  0.820573  ... -0.003963  0.002985  0.001262   \n",
       "2     0.704937  0.473577 -0.909234  ... -0.015381  0.030619  0.041939   \n",
       "3     0.031351 -0.541314  0.847283  ... -0.020348 -0.002815  0.014485   \n",
       "4     0.332363 -0.476418  0.826765  ... -0.008102  0.006068  0.004854   \n",
       "...        ...       ...       ...  ...       ...       ...       ...   \n",
       "8694  1.537255 -0.590412 -0.111243  ...  0.138783 -0.044628 -0.060947   \n",
       "8695  0.153879 -0.304074  0.991946  ... -0.006180  0.003391  0.004448   \n",
       "8696 -0.606620  0.217882 -0.159736  ...  0.018976  0.003642 -0.003446   \n",
       "8697  1.045925 -0.715993 -1.305493  ...  0.014607 -0.011635 -0.040137   \n",
       "8698  0.631324 -0.001875  0.483916  ... -0.259159 -0.084818  0.317689   \n",
       "\n",
       "            43        44        45        46        47        48        49  \n",
       "0    -0.005862  0.002817  0.000669  0.005800  0.008338 -0.012759  0.008360  \n",
       "1     0.006146 -0.000783 -0.000412  0.002124 -0.000273 -0.005623  0.001724  \n",
       "2     0.023770 -0.017514 -0.009946  0.015823  0.006018 -0.037729 -0.011572  \n",
       "3    -0.002266  0.006520  0.001948  0.009610 -0.006126  0.001396 -0.002883  \n",
       "4     0.004558  0.002234 -0.000273  0.000077 -0.001990 -0.004321 -0.000176  \n",
       "...        ...       ...       ...       ...       ...       ...       ...  \n",
       "8694 -0.023958  0.005943 -0.005379 -0.022026 -0.021002  0.006294 -0.059500  \n",
       "8695 -0.000998 -0.000778  0.000212  0.002993  0.005513 -0.007542 -0.000851  \n",
       "8696 -0.003568  0.004537 -0.001521  0.004699  0.003267 -0.016470  0.005689  \n",
       "8697 -0.129827  0.019664 -0.002998 -0.038178 -0.061830 -0.087020 -0.020030  \n",
       "8698 -0.012671 -0.038264 -0.036646  0.040966 -0.112994  0.035569 -0.009697  \n",
       "\n",
       "[8699 rows x 50 columns]"
      ]
     },
     "execution_count": 45,
     "metadata": {},
     "output_type": "execute_result"
    }
   ],
   "source": [
    "Z_train = pca.transform(X_train_sc)\n",
    "Z_test = pca.transform(X_test_sc)\n",
    "pd.DataFrame(Z_train)"
   ]
  },
  {
   "cell_type": "code",
   "execution_count": 46,
   "metadata": {},
   "outputs": [
    {
     "data": {
      "text/plain": [
       "array([0.0398, 0.0176, 0.015 , 0.0124, 0.0116, 0.0113, 0.0085, 0.0085,\n",
       "       0.0084, 0.0083, 0.0079, 0.0078, 0.0078, 0.0077, 0.0077, 0.0076,\n",
       "       0.0076, 0.0076, 0.0076, 0.0076, 0.0076, 0.0076, 0.0076, 0.0076,\n",
       "       0.0075, 0.0075, 0.0075, 0.0075, 0.0075, 0.0075, 0.0075, 0.0075,\n",
       "       0.0075, 0.0075, 0.0075, 0.0075, 0.0075, 0.0075, 0.0075, 0.0075,\n",
       "       0.0075, 0.0075, 0.0075, 0.0075, 0.0075, 0.0075, 0.0075, 0.0075,\n",
       "       0.0075, 0.0075])"
      ]
     },
     "execution_count": 46,
     "metadata": {},
     "output_type": "execute_result"
    }
   ],
   "source": [
    "np.round(pca.explained_variance_ratio_, 4)"
   ]
  },
  {
   "cell_type": "code",
   "execution_count": 47,
   "metadata": {},
   "outputs": [
    {
     "name": "stdout",
     "output_type": "stream",
     "text": [
      "Explained variance (first 10 components): [0.04  0.018 0.015 0.012 0.012 0.011 0.009 0.008 0.008 0.008]\n",
      "\n",
      "Cumulative explained variance (first 10 components): [0.04  0.018 0.015 0.012 0.012 0.011 0.009 0.008 0.008 0.008]\n"
     ]
    }
   ],
   "source": [
    "# Pull the explained variance attribute.\n",
    "var_exp = pca.explained_variance_ratio_\n",
    "print(f'Explained variance (first 10 components): {np.round(var_exp[:10], 3)}')\n",
    "\n",
    "print('')\n",
    "\n",
    "# Generate the cumulative explained variance.\n",
    "cum_var_exp = np.cumsum(var_exp)\n",
    "print(f'Cumulative explained variance (first 10 components): {np.round(var_exp[:10], 3)}')"
   ]
  },
  {
   "cell_type": "code",
   "execution_count": 48,
   "metadata": {},
   "outputs": [
    {
     "data": {
      "text/html": [
       "<div>\n",
       "<style scoped>\n",
       "    .dataframe tbody tr th:only-of-type {\n",
       "        vertical-align: middle;\n",
       "    }\n",
       "\n",
       "    .dataframe tbody tr th {\n",
       "        vertical-align: top;\n",
       "    }\n",
       "\n",
       "    .dataframe thead th {\n",
       "        text-align: right;\n",
       "    }\n",
       "</style>\n",
       "<table border=\"1\" class=\"dataframe\">\n",
       "  <thead>\n",
       "    <tr style=\"text-align: right;\">\n",
       "      <th></th>\n",
       "      <th>Variation</th>\n",
       "      <th>PC</th>\n",
       "    </tr>\n",
       "  </thead>\n",
       "  <tbody>\n",
       "    <tr>\n",
       "      <th>0</th>\n",
       "      <td>0.039775</td>\n",
       "      <td>PCA_1</td>\n",
       "    </tr>\n",
       "    <tr>\n",
       "      <th>1</th>\n",
       "      <td>0.017637</td>\n",
       "      <td>PCA_2</td>\n",
       "    </tr>\n",
       "    <tr>\n",
       "      <th>2</th>\n",
       "      <td>0.015015</td>\n",
       "      <td>PCA_3</td>\n",
       "    </tr>\n",
       "    <tr>\n",
       "      <th>3</th>\n",
       "      <td>0.012364</td>\n",
       "      <td>PCA_4</td>\n",
       "    </tr>\n",
       "    <tr>\n",
       "      <th>4</th>\n",
       "      <td>0.011572</td>\n",
       "      <td>PCA_5</td>\n",
       "    </tr>\n",
       "  </tbody>\n",
       "</table>\n",
       "</div>"
      ],
      "text/plain": [
       "   Variation     PC\n",
       "0   0.039775  PCA_1\n",
       "1   0.017637  PCA_2\n",
       "2   0.015015  PCA_3\n",
       "3   0.012364  PCA_4\n",
       "4   0.011572  PCA_5"
      ]
     },
     "execution_count": 48,
     "metadata": {},
     "output_type": "execute_result"
    }
   ],
   "source": [
    "## Set up dataframe with PCs and amount of explained variance\n",
    "columns = [f'PCA_{i+1}' for i in pd.DataFrame(Z_train).columns]\n",
    "var_ratio_df = pd.DataFrame({\n",
    "    'Variation':var_exp,\n",
    "    'PC':columns\n",
    "})\n",
    "\n",
    "var_ratio_df.head()"
   ]
  },
  {
   "cell_type": "code",
   "execution_count": 49,
   "metadata": {},
   "outputs": [
    {
     "data": {
      "image/png": "[encoded data removed]",
      "text/plain": [
       "<Figure size 720x432 with 1 Axes>"
      ]
     },
     "metadata": {
      "needs_background": "light"
     },
     "output_type": "display_data"
    }
   ],
   "source": [
    "# Plot explained variance of each principal component\n",
    "plt.figure(figsize = (10,6))\n",
    "sns.barplot(x = var_ratio_df['PC'].head(10),\n",
    "            y = var_ratio_df['Variation'].head(10), \n",
    "            data=var_ratio_df, color=\"c\");"
   ]
  },
  {
   "cell_type": "code",
   "execution_count": 50,
   "metadata": {},
   "outputs": [
    {
     "data": {
      "image/png": "[encoded data removed]",
      "text/plain": [
       "<Figure size 864x576 with 1 Axes>"
      ]
     },
     "metadata": {
      "needs_background": "light"
     },
     "output_type": "display_data"
    }
   ],
   "source": [
    "# Plot the variance explained (and cumulative variance explained).\n",
    "plt.figure(figsize=(12,8))\n",
    "\n",
    "# Plot the explained variance.\n",
    "plt.plot(range(len(var_exp)), var_exp, lw=3, label = 'Variance Explained')\n",
    "\n",
    "# Plot the cumulative explained variance.\n",
    "plt.plot(range(len(var_exp)), cum_var_exp, lw=3, color = 'orange', label = 'Cumulative Variance Explained')\n",
    "\n",
    "# Add horizontal lines at y=0 and y=1.\n",
    "plt.axhline(y=0, linewidth=1, color='grey', ls='dashed')\n",
    "plt.axhline(y=1, linewidth=1, color='grey', ls='dashed')\n",
    "\n",
    "# Set the limits of the axes.\n",
    "plt.xlim([-1,21])\n",
    "plt.ylim([-0.01,1.01])\n",
    "\n",
    "# Label the axes.\n",
    "plt.ylabel('Variance Explained', fontsize=20)\n",
    "plt.xlabel('Principal Component', fontsize=20)\n",
    "\n",
    "# Make the tick labels bigger\n",
    "plt.xticks(range(0, 21, 5), range(1, 22, 5), fontsize=12)\n",
    "plt.yticks(fontsize=12)\n",
    "    \n",
    "# Add title and legend.\n",
    "plt.title('Component vs. Variance Explained', fontsize=24)\n",
    "plt.legend(fontsize=11);"
   ]
  },
  {
   "cell_type": "code",
   "execution_count": 51,
   "metadata": {},
   "outputs": [
    {
     "name": "stdout",
     "output_type": "stream",
     "text": [
      "Training RMSE: 0.0534\n",
      "Testing RMSE: 0.0355\n"
     ]
    }
   ],
   "source": [
    "pca_lr = Lasso().fit(Z_train, y_train)\n",
    "\n",
    "print(f'Training RMSE: {round(pca_lr.score(Z_train, y_train),4)}')\n",
    "print(f'Testing RMSE: {round(pca_lr.score(Z_test, y_test),4)}')"
   ]
  },
  {
   "cell_type": "code",
   "execution_count": 52,
   "metadata": {},
   "outputs": [
    {
     "data": {
      "text/plain": [
       "36.00619113066033"
      ]
     },
     "execution_count": 52,
     "metadata": {},
     "output_type": "execute_result"
    }
   ],
   "source": [
    "mean_squared_error(y_test, pca_lr.predict(Z_test), squared=False)"
   ]
  },
  {
   "cell_type": "markdown",
   "metadata": {},
   "source": [
    "Original model did not capture enough signal for PCA to be effective. Scrap it and move in a new direction. Lets try trees. Trying trees next."
   ]
  },
  {
   "cell_type": "markdown",
   "metadata": {},
   "source": [
    "# Decision Trees"
   ]
  },
  {
   "cell_type": "code",
   "execution_count": 39,
   "metadata": {},
   "outputs": [
    {
     "data": {
      "text/plain": [
       "RandomForestRegressor(max_depth=7, min_samples_split=100, random_state=123)"
      ]
     },
     "execution_count": 39,
     "metadata": {},
     "output_type": "execute_result"
    }
   ],
   "source": [
    "rf = RandomForestRegressor(n_estimators=100, max_depth=7, random_state=123, min_samples_split=100)\n",
    "rf.fit(X_train, y_train)"
   ]
  },
  {
   "cell_type": "code",
   "execution_count": 40,
   "metadata": {},
   "outputs": [
    {
     "name": "stdout",
     "output_type": "stream",
     "text": [
      "0.1789138446125459\n",
      "0.13925587998266187\n",
      "27.24280988680873\n"
     ]
    }
   ],
   "source": [
    "print(rf.score(X_train, y_train))\n",
    "print(rf.score(X_test, y_test))\n",
    "print(mean_squared_error(y_test, rf.predict(X_test), squared=False))"
   ]
  },
  {
   "cell_type": "code",
   "execution_count": 41,
   "metadata": {},
   "outputs": [],
   "source": [
    "tree = DecisionTreeRegressor(max_depth=5)"
   ]
  },
  {
   "cell_type": "code",
   "execution_count": 42,
   "metadata": {},
   "outputs": [
    {
     "name": "stdout",
     "output_type": "stream",
     "text": [
      "0.13264800709942215\n",
      "0.10139553979115845\n"
     ]
    }
   ],
   "source": [
    "tree.fit(X_train, y_train)\n",
    "print(tree.score(X_train, y_train))\n",
    "print(tree.score(X_test, y_test))"
   ]
  },
  {
   "cell_type": "markdown",
   "metadata": {},
   "source": [
    "Able to capture slightly more variance than linear regression! Not a lot of signal in the data. We're mostly dealing with categorical features, so lets try converting this problem into a classification problem."
   ]
  },
  {
   "cell_type": "markdown",
   "metadata": {},
   "source": [
    "[Run Next](https://github.com/gwoodstock/project4/blob/main/7_models_classification_trees.ipynb): Classification Models."
   ]
  }
 ],
 "metadata": {
  "interpreter": {
   "hash": "6aaf12f00e2accd7ab3a69f0361120d5b81b11b109d190d2913220c8ee37ccf8"
  },
  "kernelspec": {
   "display_name": "Python 3.9.7 ('base')",
   "language": "python",
   "name": "python3"
  },
  "language_info": {
   "codemirror_mode": {
    "name": "ipython",
    "version": 3
   },
   "file_extension": ".py",
   "mimetype": "text/x-python",
   "name": "python",
   "nbconvert_exporter": "python",
   "pygments_lexer": "ipython3",
   "version": "3.9.7"
  },
  "orig_nbformat": 4
 },
 "nbformat": 4,
 "nbformat_minor": 2
}
