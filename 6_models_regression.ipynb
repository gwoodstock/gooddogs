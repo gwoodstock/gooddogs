{
 "cells": [
  {
   "cell_type": "code",
   "execution_count": 33,
   "metadata": {},
   "outputs": [],
   "source": [
    "import pandas as pd\n",
    "import numpy as np\n",
    "import matplotlib.pyplot as plt\n",
    "import seaborn as sns\n",
    "\n",
    "from sklearn.linear_model import Lasso, Ridge\n",
    "from sklearn.preprocessing import StandardScaler, PolynomialFeatures\n",
    "from sklearn.model_selection import GridSearchCV, train_test_split\n",
    "from sklearn.metrics import mean_squared_error\n",
    "\n",
    "from sklearn.decomposition import PCA\n",
    "\n",
    "from sklearn.ensemble import RandomForestRegressor\n",
    "from sklearn.tree import DecisionTreeRegressor"
   ]
  },
  {
   "cell_type": "code",
   "execution_count": 3,
   "metadata": {},
   "outputs": [],
   "source": [
    "data = pd.read_csv('./datasets/working_data/model_data_full.csv')"
   ]
  },
  {
   "cell_type": "code",
   "execution_count": 4,
   "metadata": {},
   "outputs": [
    {
     "data": {
      "text/plain": [
       "Index(['intake_type', 'condition', 'age_in', 'breed', 'outcome', 'age_out',\n",
       "       'sex', 'intact_out', 'age', 'primary_color', 'secondary_color',\n",
       "       'breed_1', 'breed_2', 'pure', 'obey', 'reps_lower', 'reps_upper',\n",
       "       'height_low_inches', 'height_high_inches', 'weight_low_lbs',\n",
       "       'weight_high_lbs', 'time_in_shelter', 'at_risk', 'breed_3'],\n",
       "      dtype='object')"
      ]
     },
     "execution_count": 4,
     "metadata": {},
     "output_type": "execute_result"
    }
   ],
   "source": [
    "data.columns"
   ]
  },
  {
   "cell_type": "code",
   "execution_count": 5,
   "metadata": {},
   "outputs": [
    {
     "data": {
      "text/html": [
       "<div>\n",
       "<style scoped>\n",
       "    .dataframe tbody tr th:only-of-type {\n",
       "        vertical-align: middle;\n",
       "    }\n",
       "\n",
       "    .dataframe tbody tr th {\n",
       "        vertical-align: top;\n",
       "    }\n",
       "\n",
       "    .dataframe thead th {\n",
       "        text-align: right;\n",
       "    }\n",
       "</style>\n",
       "<table border=\"1\" class=\"dataframe\">\n",
       "  <thead>\n",
       "    <tr style=\"text-align: right;\">\n",
       "      <th></th>\n",
       "      <th>intake_type</th>\n",
       "      <th>condition</th>\n",
       "      <th>age_in</th>\n",
       "      <th>breed</th>\n",
       "      <th>outcome</th>\n",
       "      <th>age_out</th>\n",
       "      <th>sex</th>\n",
       "      <th>intact_out</th>\n",
       "      <th>age</th>\n",
       "      <th>primary_color</th>\n",
       "      <th>...</th>\n",
       "      <th>obey</th>\n",
       "      <th>reps_lower</th>\n",
       "      <th>reps_upper</th>\n",
       "      <th>height_low_inches</th>\n",
       "      <th>height_high_inches</th>\n",
       "      <th>weight_low_lbs</th>\n",
       "      <th>weight_high_lbs</th>\n",
       "      <th>time_in_shelter</th>\n",
       "      <th>at_risk</th>\n",
       "      <th>breed_3</th>\n",
       "    </tr>\n",
       "  </thead>\n",
       "  <tbody>\n",
       "    <tr>\n",
       "      <th>0</th>\n",
       "      <td>surrender</td>\n",
       "      <td>normal</td>\n",
       "      <td>16.0</td>\n",
       "      <td>dachshund</td>\n",
       "      <td>adoption</td>\n",
       "      <td>16.0</td>\n",
       "      <td>1</td>\n",
       "      <td>0</td>\n",
       "      <td>Senior</td>\n",
       "      <td>black</td>\n",
       "      <td>...</td>\n",
       "      <td>0.50</td>\n",
       "      <td>26.0</td>\n",
       "      <td>40.0</td>\n",
       "      <td>7.0</td>\n",
       "      <td>10.0</td>\n",
       "      <td>16.0</td>\n",
       "      <td>32.0</td>\n",
       "      <td>49</td>\n",
       "      <td>1</td>\n",
       "      <td>dachshund</td>\n",
       "    </tr>\n",
       "    <tr>\n",
       "      <th>1</th>\n",
       "      <td>surrender</td>\n",
       "      <td>injured</td>\n",
       "      <td>14.0</td>\n",
       "      <td>border collie</td>\n",
       "      <td>euthanasia</td>\n",
       "      <td>14.0</td>\n",
       "      <td>1</td>\n",
       "      <td>0</td>\n",
       "      <td>Senior</td>\n",
       "      <td>black</td>\n",
       "      <td>...</td>\n",
       "      <td>0.95</td>\n",
       "      <td>1.0</td>\n",
       "      <td>4.0</td>\n",
       "      <td>19.0</td>\n",
       "      <td>21.0</td>\n",
       "      <td>40.0</td>\n",
       "      <td>40.0</td>\n",
       "      <td>0</td>\n",
       "      <td>0</td>\n",
       "      <td>border collie</td>\n",
       "    </tr>\n",
       "    <tr>\n",
       "      <th>2</th>\n",
       "      <td>public_assist</td>\n",
       "      <td>aged</td>\n",
       "      <td>17.0</td>\n",
       "      <td>chihuahua</td>\n",
       "      <td>adoption</td>\n",
       "      <td>17.0</td>\n",
       "      <td>1</td>\n",
       "      <td>0</td>\n",
       "      <td>Senior</td>\n",
       "      <td>tan</td>\n",
       "      <td>...</td>\n",
       "      <td>0.30</td>\n",
       "      <td>41.0</td>\n",
       "      <td>80.0</td>\n",
       "      <td>6.0</td>\n",
       "      <td>9.0</td>\n",
       "      <td>2.0</td>\n",
       "      <td>5.0</td>\n",
       "      <td>9</td>\n",
       "      <td>0</td>\n",
       "      <td>chihuahua</td>\n",
       "    </tr>\n",
       "    <tr>\n",
       "      <th>3</th>\n",
       "      <td>surrender</td>\n",
       "      <td>injured</td>\n",
       "      <td>15.0</td>\n",
       "      <td>pug</td>\n",
       "      <td>euthanasia</td>\n",
       "      <td>15.0</td>\n",
       "      <td>1</td>\n",
       "      <td>0</td>\n",
       "      <td>Senior</td>\n",
       "      <td>gold</td>\n",
       "      <td>...</td>\n",
       "      <td>0.30</td>\n",
       "      <td>41.0</td>\n",
       "      <td>80.0</td>\n",
       "      <td>10.0</td>\n",
       "      <td>11.0</td>\n",
       "      <td>14.0</td>\n",
       "      <td>22.0</td>\n",
       "      <td>0</td>\n",
       "      <td>0</td>\n",
       "      <td>other</td>\n",
       "    </tr>\n",
       "    <tr>\n",
       "      <th>4</th>\n",
       "      <td>surrender</td>\n",
       "      <td>injured</td>\n",
       "      <td>15.0</td>\n",
       "      <td>pug</td>\n",
       "      <td>euthanasia</td>\n",
       "      <td>15.0</td>\n",
       "      <td>1</td>\n",
       "      <td>0</td>\n",
       "      <td>Senior</td>\n",
       "      <td>gold</td>\n",
       "      <td>...</td>\n",
       "      <td>0.30</td>\n",
       "      <td>41.0</td>\n",
       "      <td>80.0</td>\n",
       "      <td>10.0</td>\n",
       "      <td>11.0</td>\n",
       "      <td>14.0</td>\n",
       "      <td>22.0</td>\n",
       "      <td>0</td>\n",
       "      <td>0</td>\n",
       "      <td>other</td>\n",
       "    </tr>\n",
       "  </tbody>\n",
       "</table>\n",
       "<p>5 rows × 24 columns</p>\n",
       "</div>"
      ],
      "text/plain": [
       "     intake_type condition  age_in          breed     outcome  age_out  sex  \\\n",
       "0      surrender    normal    16.0      dachshund    adoption     16.0    1   \n",
       "1      surrender   injured    14.0  border collie  euthanasia     14.0    1   \n",
       "2  public_assist      aged    17.0      chihuahua    adoption     17.0    1   \n",
       "3      surrender   injured    15.0            pug  euthanasia     15.0    1   \n",
       "4      surrender   injured    15.0            pug  euthanasia     15.0    1   \n",
       "\n",
       "   intact_out     age primary_color  ...  obey reps_lower reps_upper  \\\n",
       "0           0  Senior         black  ...  0.50       26.0       40.0   \n",
       "1           0  Senior         black  ...  0.95        1.0        4.0   \n",
       "2           0  Senior           tan  ...  0.30       41.0       80.0   \n",
       "3           0  Senior          gold  ...  0.30       41.0       80.0   \n",
       "4           0  Senior          gold  ...  0.30       41.0       80.0   \n",
       "\n",
       "   height_low_inches  height_high_inches  weight_low_lbs  weight_high_lbs  \\\n",
       "0                7.0                10.0            16.0             32.0   \n",
       "1               19.0                21.0            40.0             40.0   \n",
       "2                6.0                 9.0             2.0              5.0   \n",
       "3               10.0                11.0            14.0             22.0   \n",
       "4               10.0                11.0            14.0             22.0   \n",
       "\n",
       "   time_in_shelter  at_risk        breed_3  \n",
       "0               49        1      dachshund  \n",
       "1                0        0  border collie  \n",
       "2                9        0      chihuahua  \n",
       "3                0        0          other  \n",
       "4                0        0          other  \n",
       "\n",
       "[5 rows x 24 columns]"
      ]
     },
     "execution_count": 5,
     "metadata": {},
     "output_type": "execute_result"
    }
   ],
   "source": [
    "data.head()"
   ]
  },
  {
   "cell_type": "code",
   "execution_count": 6,
   "metadata": {},
   "outputs": [],
   "source": [
    "y = data['time_in_shelter']\n",
    "X = data.drop(columns=['time_in_shelter'])"
   ]
  },
  {
   "cell_type": "code",
   "execution_count": 7,
   "metadata": {},
   "outputs": [],
   "source": [
    "# option 1\n",
    "numeric_cols = ['age_in', 'sex', 'intact_out', 'pure', 'obey', 'reps_lower', 'reps_upper', 'height_low_inches', 'height_high_inches', 'weight_low_lbs', 'weight_high_lbs']"
   ]
  },
  {
   "cell_type": "code",
   "execution_count": 8,
   "metadata": {},
   "outputs": [],
   "source": [
    "# option 2\n",
    "numeric_cols = ['age_in', 'obey', 'height_low_inches', 'height_high_inches', 'weight_low_lbs', 'weight_high_lbs']"
   ]
  },
  {
   "cell_type": "code",
   "execution_count": 9,
   "metadata": {},
   "outputs": [],
   "source": [
    "cat_features = ['age']"
   ]
  },
  {
   "cell_type": "code",
   "execution_count": 10,
   "metadata": {},
   "outputs": [],
   "source": [
    "X_dum = pd.concat([\n",
    "    # X[numeric_cols], \n",
    "    pd.get_dummies(X[cat_features]), \n",
    "    # pd.get_dummies(X['primary_color'], prefix='color'), \n",
    "    # pd.get_dummies(X['condition'], prefix='condition'), \n",
    "    # pd.get_dummies(X['intake_type'], prefix='intake')\n",
    "    ], axis=1)"
   ]
  },
  {
   "cell_type": "code",
   "execution_count": 11,
   "metadata": {},
   "outputs": [
    {
     "data": {
      "text/html": [
       "<div>\n",
       "<style scoped>\n",
       "    .dataframe tbody tr th:only-of-type {\n",
       "        vertical-align: middle;\n",
       "    }\n",
       "\n",
       "    .dataframe tbody tr th {\n",
       "        vertical-align: top;\n",
       "    }\n",
       "\n",
       "    .dataframe thead th {\n",
       "        text-align: right;\n",
       "    }\n",
       "</style>\n",
       "<table border=\"1\" class=\"dataframe\">\n",
       "  <thead>\n",
       "    <tr style=\"text-align: right;\">\n",
       "      <th></th>\n",
       "      <th>age_Adult</th>\n",
       "      <th>age_Baby</th>\n",
       "      <th>age_Senior</th>\n",
       "      <th>age_Young</th>\n",
       "    </tr>\n",
       "  </thead>\n",
       "  <tbody>\n",
       "    <tr>\n",
       "      <th>0</th>\n",
       "      <td>0</td>\n",
       "      <td>0</td>\n",
       "      <td>1</td>\n",
       "      <td>0</td>\n",
       "    </tr>\n",
       "    <tr>\n",
       "      <th>1</th>\n",
       "      <td>0</td>\n",
       "      <td>0</td>\n",
       "      <td>1</td>\n",
       "      <td>0</td>\n",
       "    </tr>\n",
       "    <tr>\n",
       "      <th>2</th>\n",
       "      <td>0</td>\n",
       "      <td>0</td>\n",
       "      <td>1</td>\n",
       "      <td>0</td>\n",
       "    </tr>\n",
       "    <tr>\n",
       "      <th>3</th>\n",
       "      <td>0</td>\n",
       "      <td>0</td>\n",
       "      <td>1</td>\n",
       "      <td>0</td>\n",
       "    </tr>\n",
       "    <tr>\n",
       "      <th>4</th>\n",
       "      <td>0</td>\n",
       "      <td>0</td>\n",
       "      <td>1</td>\n",
       "      <td>0</td>\n",
       "    </tr>\n",
       "  </tbody>\n",
       "</table>\n",
       "</div>"
      ],
      "text/plain": [
       "   age_Adult  age_Baby  age_Senior  age_Young\n",
       "0          0         0           1          0\n",
       "1          0         0           1          0\n",
       "2          0         0           1          0\n",
       "3          0         0           1          0\n",
       "4          0         0           1          0"
      ]
     },
     "execution_count": 11,
     "metadata": {},
     "output_type": "execute_result"
    }
   ],
   "source": [
    "X_dum.head()"
   ]
  },
  {
   "cell_type": "code",
   "execution_count": 12,
   "metadata": {},
   "outputs": [
    {
     "data": {
      "text/plain": [
       "(25362, 4)"
      ]
     },
     "execution_count": 12,
     "metadata": {},
     "output_type": "execute_result"
    }
   ],
   "source": [
    "X_dum.shape"
   ]
  },
  {
   "cell_type": "markdown",
   "metadata": {},
   "source": [
    "Add feature interaction"
   ]
  },
  {
   "cell_type": "code",
   "execution_count": 13,
   "metadata": {},
   "outputs": [],
   "source": [
    "pf = PolynomialFeatures(degree=2)\n",
    "X_poly = pf.fit_transform(X_dum)"
   ]
  },
  {
   "cell_type": "code",
   "execution_count": 14,
   "metadata": {},
   "outputs": [],
   "source": [
    "# with poly\n",
    "X_train, X_test, y_train, y_test = train_test_split(X_poly, y, random_state=123)"
   ]
  },
  {
   "cell_type": "code",
   "execution_count": 15,
   "metadata": {},
   "outputs": [],
   "source": [
    "# without poly\n",
    "X_train, X_test, y_train, y_test = train_test_split(X_dum, y, random_state=123)"
   ]
  },
  {
   "cell_type": "code",
   "execution_count": 16,
   "metadata": {},
   "outputs": [],
   "source": [
    "ss = StandardScaler()\n",
    "\n",
    "X_train_sc = ss.fit_transform(X_train)\n",
    "X_test_sc = ss.transform(X_test)"
   ]
  },
  {
   "cell_type": "code",
   "execution_count": 17,
   "metadata": {},
   "outputs": [
    {
     "data": {
      "text/plain": [
       "GridSearchCV(estimator=Lasso(max_iter=10000, random_state=123),\n",
       "             param_grid={'alpha': [0.05, 0.1, 0.25, 0.5]})"
      ]
     },
     "execution_count": 17,
     "metadata": {},
     "output_type": "execute_result"
    }
   ],
   "source": [
    "lr_params = {\n",
    "    'alpha': [.05, .1, .25, .5],\n",
    "}\n",
    "\n",
    "lr = Lasso(random_state=123, max_iter=10_000)\n",
    "gs_lr = GridSearchCV(lr, lr_params)\n",
    "\n",
    "gs_lr.fit(X_train_sc, y_train)"
   ]
  },
  {
   "cell_type": "code",
   "execution_count": 18,
   "metadata": {},
   "outputs": [
    {
     "data": {
      "text/html": [
       "<div>\n",
       "<style scoped>\n",
       "    .dataframe tbody tr th:only-of-type {\n",
       "        vertical-align: middle;\n",
       "    }\n",
       "\n",
       "    .dataframe tbody tr th {\n",
       "        vertical-align: top;\n",
       "    }\n",
       "\n",
       "    .dataframe thead th {\n",
       "        text-align: right;\n",
       "    }\n",
       "</style>\n",
       "<table border=\"1\" class=\"dataframe\">\n",
       "  <thead>\n",
       "    <tr style=\"text-align: right;\">\n",
       "      <th></th>\n",
       "      <th>mean_fit_time</th>\n",
       "      <th>std_fit_time</th>\n",
       "      <th>mean_score_time</th>\n",
       "      <th>std_score_time</th>\n",
       "      <th>param_alpha</th>\n",
       "      <th>params</th>\n",
       "      <th>split0_test_score</th>\n",
       "      <th>split1_test_score</th>\n",
       "      <th>split2_test_score</th>\n",
       "      <th>split3_test_score</th>\n",
       "      <th>split4_test_score</th>\n",
       "      <th>mean_test_score</th>\n",
       "      <th>std_test_score</th>\n",
       "      <th>rank_test_score</th>\n",
       "    </tr>\n",
       "  </thead>\n",
       "  <tbody>\n",
       "    <tr>\n",
       "      <th>0</th>\n",
       "      <td>0.007741</td>\n",
       "      <td>0.003776</td>\n",
       "      <td>0.001004</td>\n",
       "      <td>0.000142</td>\n",
       "      <td>0.05</td>\n",
       "      <td>{'alpha': 0.05}</td>\n",
       "      <td>0.025130</td>\n",
       "      <td>0.024220</td>\n",
       "      <td>0.018388</td>\n",
       "      <td>0.018014</td>\n",
       "      <td>0.024565</td>\n",
       "      <td>0.022063</td>\n",
       "      <td>0.003169</td>\n",
       "      <td>1</td>\n",
       "    </tr>\n",
       "    <tr>\n",
       "      <th>1</th>\n",
       "      <td>0.006519</td>\n",
       "      <td>0.002713</td>\n",
       "      <td>0.001024</td>\n",
       "      <td>0.000121</td>\n",
       "      <td>0.1</td>\n",
       "      <td>{'alpha': 0.1}</td>\n",
       "      <td>0.024970</td>\n",
       "      <td>0.024132</td>\n",
       "      <td>0.018502</td>\n",
       "      <td>0.018158</td>\n",
       "      <td>0.024486</td>\n",
       "      <td>0.022050</td>\n",
       "      <td>0.003051</td>\n",
       "      <td>2</td>\n",
       "    </tr>\n",
       "    <tr>\n",
       "      <th>2</th>\n",
       "      <td>0.008617</td>\n",
       "      <td>0.004633</td>\n",
       "      <td>0.000959</td>\n",
       "      <td>0.000218</td>\n",
       "      <td>0.25</td>\n",
       "      <td>{'alpha': 0.25}</td>\n",
       "      <td>0.024413</td>\n",
       "      <td>0.023790</td>\n",
       "      <td>0.018758</td>\n",
       "      <td>0.018499</td>\n",
       "      <td>0.024171</td>\n",
       "      <td>0.021926</td>\n",
       "      <td>0.002701</td>\n",
       "      <td>3</td>\n",
       "    </tr>\n",
       "    <tr>\n",
       "      <th>3</th>\n",
       "      <td>0.006410</td>\n",
       "      <td>0.001313</td>\n",
       "      <td>0.001031</td>\n",
       "      <td>0.000213</td>\n",
       "      <td>0.5</td>\n",
       "      <td>{'alpha': 0.5}</td>\n",
       "      <td>0.023225</td>\n",
       "      <td>0.022950</td>\n",
       "      <td>0.018897</td>\n",
       "      <td>0.018769</td>\n",
       "      <td>0.023386</td>\n",
       "      <td>0.021445</td>\n",
       "      <td>0.002138</td>\n",
       "      <td>4</td>\n",
       "    </tr>\n",
       "  </tbody>\n",
       "</table>\n",
       "</div>"
      ],
      "text/plain": [
       "   mean_fit_time  std_fit_time  mean_score_time  std_score_time param_alpha  \\\n",
       "0       0.007741      0.003776         0.001004        0.000142        0.05   \n",
       "1       0.006519      0.002713         0.001024        0.000121         0.1   \n",
       "2       0.008617      0.004633         0.000959        0.000218        0.25   \n",
       "3       0.006410      0.001313         0.001031        0.000213         0.5   \n",
       "\n",
       "            params  split0_test_score  split1_test_score  split2_test_score  \\\n",
       "0  {'alpha': 0.05}           0.025130           0.024220           0.018388   \n",
       "1   {'alpha': 0.1}           0.024970           0.024132           0.018502   \n",
       "2  {'alpha': 0.25}           0.024413           0.023790           0.018758   \n",
       "3   {'alpha': 0.5}           0.023225           0.022950           0.018897   \n",
       "\n",
       "   split3_test_score  split4_test_score  mean_test_score  std_test_score  \\\n",
       "0           0.018014           0.024565         0.022063        0.003169   \n",
       "1           0.018158           0.024486         0.022050        0.003051   \n",
       "2           0.018499           0.024171         0.021926        0.002701   \n",
       "3           0.018769           0.023386         0.021445        0.002138   \n",
       "\n",
       "   rank_test_score  \n",
       "0                1  \n",
       "1                2  \n",
       "2                3  \n",
       "3                4  "
      ]
     },
     "execution_count": 18,
     "metadata": {},
     "output_type": "execute_result"
    }
   ],
   "source": [
    "pd.DataFrame(gs_lr.cv_results_)"
   ]
  },
  {
   "cell_type": "code",
   "execution_count": 19,
   "metadata": {},
   "outputs": [
    {
     "name": "stdout",
     "output_type": "stream",
     "text": [
      "Training Score: 0.0232\n",
      "Testing Score: 0.0241\n"
     ]
    }
   ],
   "source": [
    "# Score on training and testing sets.\n",
    "print(f'Training Score: {round(gs_lr.score(X_train_sc, y_train),4)}')\n",
    "print(f'Testing Score: {round(gs_lr.score(X_test_sc, y_test),4)}')"
   ]
  },
  {
   "cell_type": "markdown",
   "metadata": {},
   "source": [
    "Not looking good!!"
   ]
  },
  {
   "cell_type": "code",
   "execution_count": 20,
   "metadata": {},
   "outputs": [
    {
     "data": {
      "text/plain": [
       "28.96"
      ]
     },
     "execution_count": 20,
     "metadata": {},
     "output_type": "execute_result"
    }
   ],
   "source": [
    "np.round(mean_squared_error(y_test, gs_lr.predict(X_test_sc), squared=False), 2)"
   ]
  },
  {
   "cell_type": "markdown",
   "metadata": {},
   "source": [
    "Baseline in days"
   ]
  },
  {
   "cell_type": "code",
   "execution_count": 21,
   "metadata": {},
   "outputs": [
    {
     "data": {
      "text/plain": [
       "19.34"
      ]
     },
     "execution_count": 21,
     "metadata": {},
     "output_type": "execute_result"
    }
   ],
   "source": [
    "np.round(y.mean(), 2)"
   ]
  },
  {
   "cell_type": "markdown",
   "metadata": {},
   "source": [
    "Not getting any signal!! Will try to reduce the number of features"
   ]
  },
  {
   "cell_type": "markdown",
   "metadata": {},
   "source": [
    "# PCA"
   ]
  },
  {
   "cell_type": "code",
   "execution_count": 22,
   "metadata": {},
   "outputs": [],
   "source": [
    "X_dum = pd.concat([\n",
    "    X[numeric_cols], \n",
    "    pd.get_dummies(X[cat_features]), \n",
    "    pd.get_dummies(X['breed_1']),\n",
    "    # pd.get_dummies(X['primary_color'], prefix='color'), \n",
    "    pd.get_dummies(X['condition'], prefix='condition'), \n",
    "    # pd.get_dummies(X['intake_type'], prefix='intake')\n",
    "    ], axis=1)"
   ]
  },
  {
   "cell_type": "code",
   "execution_count": 23,
   "metadata": {},
   "outputs": [],
   "source": [
    "X_train, X_test, y_train, y_test = train_test_split(X_dum, y, random_state=12)"
   ]
  },
  {
   "cell_type": "code",
   "execution_count": 24,
   "metadata": {},
   "outputs": [],
   "source": [
    "ss = StandardScaler()\n",
    "X_train_sc = ss.fit_transform(X_train)\n",
    "X_test_sc = ss.transform(X_test)"
   ]
  },
  {
   "cell_type": "code",
   "execution_count": 25,
   "metadata": {},
   "outputs": [
    {
     "data": {
      "text/plain": [
       "PCA(n_components=50, random_state=123)"
      ]
     },
     "execution_count": 25,
     "metadata": {},
     "output_type": "execute_result"
    }
   ],
   "source": [
    "pca = PCA(random_state=123, n_components=50)\n",
    "pca.fit(X_train_sc)"
   ]
  },
  {
   "cell_type": "code",
   "execution_count": 26,
   "metadata": {},
   "outputs": [
    {
     "data": {
      "text/html": [
       "<div>\n",
       "<style scoped>\n",
       "    .dataframe tbody tr th:only-of-type {\n",
       "        vertical-align: middle;\n",
       "    }\n",
       "\n",
       "    .dataframe tbody tr th {\n",
       "        vertical-align: top;\n",
       "    }\n",
       "\n",
       "    .dataframe thead th {\n",
       "        text-align: right;\n",
       "    }\n",
       "</style>\n",
       "<table border=\"1\" class=\"dataframe\">\n",
       "  <thead>\n",
       "    <tr style=\"text-align: right;\">\n",
       "      <th></th>\n",
       "      <th>0</th>\n",
       "      <th>1</th>\n",
       "      <th>2</th>\n",
       "      <th>3</th>\n",
       "      <th>4</th>\n",
       "      <th>5</th>\n",
       "      <th>6</th>\n",
       "      <th>7</th>\n",
       "      <th>8</th>\n",
       "      <th>9</th>\n",
       "      <th>...</th>\n",
       "      <th>40</th>\n",
       "      <th>41</th>\n",
       "      <th>42</th>\n",
       "      <th>43</th>\n",
       "      <th>44</th>\n",
       "      <th>45</th>\n",
       "      <th>46</th>\n",
       "      <th>47</th>\n",
       "      <th>48</th>\n",
       "      <th>49</th>\n",
       "    </tr>\n",
       "  </thead>\n",
       "  <tbody>\n",
       "    <tr>\n",
       "      <th>0</th>\n",
       "      <td>0.571428</td>\n",
       "      <td>0.303640</td>\n",
       "      <td>-0.599505</td>\n",
       "      <td>-1.408895</td>\n",
       "      <td>0.405959</td>\n",
       "      <td>-1.283350</td>\n",
       "      <td>0.920092</td>\n",
       "      <td>-1.272572</td>\n",
       "      <td>-0.008944</td>\n",
       "      <td>0.041480</td>\n",
       "      <td>...</td>\n",
       "      <td>0.012684</td>\n",
       "      <td>0.004956</td>\n",
       "      <td>-0.040268</td>\n",
       "      <td>0.009166</td>\n",
       "      <td>-0.022012</td>\n",
       "      <td>0.016137</td>\n",
       "      <td>-0.014880</td>\n",
       "      <td>-0.117255</td>\n",
       "      <td>-0.057457</td>\n",
       "      <td>-0.024641</td>\n",
       "    </tr>\n",
       "    <tr>\n",
       "      <th>1</th>\n",
       "      <td>-4.345387</td>\n",
       "      <td>2.843281</td>\n",
       "      <td>-0.712241</td>\n",
       "      <td>-1.005980</td>\n",
       "      <td>-1.977862</td>\n",
       "      <td>3.026004</td>\n",
       "      <td>-0.281651</td>\n",
       "      <td>-0.142507</td>\n",
       "      <td>-0.517123</td>\n",
       "      <td>-0.979539</td>\n",
       "      <td>...</td>\n",
       "      <td>-0.004627</td>\n",
       "      <td>0.018239</td>\n",
       "      <td>-0.004027</td>\n",
       "      <td>-0.012344</td>\n",
       "      <td>0.004631</td>\n",
       "      <td>0.004564</td>\n",
       "      <td>-0.013872</td>\n",
       "      <td>-0.020635</td>\n",
       "      <td>0.002790</td>\n",
       "      <td>-0.008006</td>\n",
       "    </tr>\n",
       "    <tr>\n",
       "      <th>2</th>\n",
       "      <td>-3.912658</td>\n",
       "      <td>-0.037104</td>\n",
       "      <td>-0.588911</td>\n",
       "      <td>0.453589</td>\n",
       "      <td>-0.711672</td>\n",
       "      <td>-0.946484</td>\n",
       "      <td>-0.329229</td>\n",
       "      <td>-0.232468</td>\n",
       "      <td>0.311201</td>\n",
       "      <td>-1.004019</td>\n",
       "      <td>...</td>\n",
       "      <td>0.003948</td>\n",
       "      <td>0.017164</td>\n",
       "      <td>-0.010340</td>\n",
       "      <td>-0.002690</td>\n",
       "      <td>-0.008062</td>\n",
       "      <td>-0.006751</td>\n",
       "      <td>-0.000657</td>\n",
       "      <td>-0.005428</td>\n",
       "      <td>0.001019</td>\n",
       "      <td>-0.008043</td>\n",
       "    </tr>\n",
       "    <tr>\n",
       "      <th>3</th>\n",
       "      <td>2.382655</td>\n",
       "      <td>-0.535699</td>\n",
       "      <td>5.104921</td>\n",
       "      <td>-0.954000</td>\n",
       "      <td>-1.342176</td>\n",
       "      <td>-0.181478</td>\n",
       "      <td>0.225353</td>\n",
       "      <td>0.815652</td>\n",
       "      <td>-0.255777</td>\n",
       "      <td>1.009474</td>\n",
       "      <td>...</td>\n",
       "      <td>-0.025976</td>\n",
       "      <td>0.036365</td>\n",
       "      <td>0.025627</td>\n",
       "      <td>0.001600</td>\n",
       "      <td>-0.011766</td>\n",
       "      <td>-0.010269</td>\n",
       "      <td>-0.018231</td>\n",
       "      <td>-0.024102</td>\n",
       "      <td>0.008595</td>\n",
       "      <td>0.033402</td>\n",
       "    </tr>\n",
       "    <tr>\n",
       "      <th>4</th>\n",
       "      <td>0.997875</td>\n",
       "      <td>-0.757518</td>\n",
       "      <td>5.078878</td>\n",
       "      <td>-1.308265</td>\n",
       "      <td>-0.506785</td>\n",
       "      <td>-0.402140</td>\n",
       "      <td>1.495643</td>\n",
       "      <td>-1.500397</td>\n",
       "      <td>-1.574736</td>\n",
       "      <td>1.126548</td>\n",
       "      <td>...</td>\n",
       "      <td>-0.024076</td>\n",
       "      <td>0.039715</td>\n",
       "      <td>-0.010697</td>\n",
       "      <td>0.024521</td>\n",
       "      <td>-0.023901</td>\n",
       "      <td>-0.000858</td>\n",
       "      <td>-0.039935</td>\n",
       "      <td>-0.144997</td>\n",
       "      <td>-0.042610</td>\n",
       "      <td>0.012572</td>\n",
       "    </tr>\n",
       "    <tr>\n",
       "      <th>...</th>\n",
       "      <td>...</td>\n",
       "      <td>...</td>\n",
       "      <td>...</td>\n",
       "      <td>...</td>\n",
       "      <td>...</td>\n",
       "      <td>...</td>\n",
       "      <td>...</td>\n",
       "      <td>...</td>\n",
       "      <td>...</td>\n",
       "      <td>...</td>\n",
       "      <td>...</td>\n",
       "      <td>...</td>\n",
       "      <td>...</td>\n",
       "      <td>...</td>\n",
       "      <td>...</td>\n",
       "      <td>...</td>\n",
       "      <td>...</td>\n",
       "      <td>...</td>\n",
       "      <td>...</td>\n",
       "      <td>...</td>\n",
       "      <td>...</td>\n",
       "    </tr>\n",
       "    <tr>\n",
       "      <th>19016</th>\n",
       "      <td>1.090673</td>\n",
       "      <td>-0.760244</td>\n",
       "      <td>-0.491877</td>\n",
       "      <td>-1.406549</td>\n",
       "      <td>1.961945</td>\n",
       "      <td>0.697847</td>\n",
       "      <td>0.727020</td>\n",
       "      <td>-1.565143</td>\n",
       "      <td>-0.070442</td>\n",
       "      <td>0.917168</td>\n",
       "      <td>...</td>\n",
       "      <td>-0.020211</td>\n",
       "      <td>-0.051619</td>\n",
       "      <td>-0.027244</td>\n",
       "      <td>-0.006773</td>\n",
       "      <td>-0.018860</td>\n",
       "      <td>0.008044</td>\n",
       "      <td>0.022510</td>\n",
       "      <td>-0.022234</td>\n",
       "      <td>-0.037335</td>\n",
       "      <td>-0.017749</td>\n",
       "    </tr>\n",
       "    <tr>\n",
       "      <th>19017</th>\n",
       "      <td>-1.813109</td>\n",
       "      <td>0.765629</td>\n",
       "      <td>-0.718637</td>\n",
       "      <td>1.243003</td>\n",
       "      <td>-0.919596</td>\n",
       "      <td>-0.808915</td>\n",
       "      <td>0.166335</td>\n",
       "      <td>-1.837246</td>\n",
       "      <td>-0.227261</td>\n",
       "      <td>1.213774</td>\n",
       "      <td>...</td>\n",
       "      <td>1.306578</td>\n",
       "      <td>0.289026</td>\n",
       "      <td>-1.140718</td>\n",
       "      <td>-0.688559</td>\n",
       "      <td>-0.352368</td>\n",
       "      <td>1.637806</td>\n",
       "      <td>0.382399</td>\n",
       "      <td>0.422080</td>\n",
       "      <td>0.913273</td>\n",
       "      <td>0.151304</td>\n",
       "    </tr>\n",
       "    <tr>\n",
       "      <th>19018</th>\n",
       "      <td>2.215460</td>\n",
       "      <td>0.655901</td>\n",
       "      <td>4.473907</td>\n",
       "      <td>-0.210559</td>\n",
       "      <td>0.153434</td>\n",
       "      <td>-0.154813</td>\n",
       "      <td>-0.372188</td>\n",
       "      <td>1.092324</td>\n",
       "      <td>1.562249</td>\n",
       "      <td>-0.216362</td>\n",
       "      <td>...</td>\n",
       "      <td>-0.007169</td>\n",
       "      <td>-0.024084</td>\n",
       "      <td>0.002092</td>\n",
       "      <td>-0.000532</td>\n",
       "      <td>-0.006865</td>\n",
       "      <td>0.002600</td>\n",
       "      <td>0.010920</td>\n",
       "      <td>-0.013031</td>\n",
       "      <td>-0.004499</td>\n",
       "      <td>-0.015276</td>\n",
       "    </tr>\n",
       "    <tr>\n",
       "      <th>19019</th>\n",
       "      <td>-3.722205</td>\n",
       "      <td>-1.371756</td>\n",
       "      <td>-0.365438</td>\n",
       "      <td>0.601075</td>\n",
       "      <td>0.810439</td>\n",
       "      <td>1.108283</td>\n",
       "      <td>-0.565816</td>\n",
       "      <td>-0.085289</td>\n",
       "      <td>0.141993</td>\n",
       "      <td>-1.028691</td>\n",
       "      <td>...</td>\n",
       "      <td>0.001653</td>\n",
       "      <td>0.006083</td>\n",
       "      <td>-0.005611</td>\n",
       "      <td>-0.000021</td>\n",
       "      <td>-0.002969</td>\n",
       "      <td>-0.003507</td>\n",
       "      <td>0.001170</td>\n",
       "      <td>-0.004334</td>\n",
       "      <td>0.000342</td>\n",
       "      <td>0.000206</td>\n",
       "    </tr>\n",
       "    <tr>\n",
       "      <th>19020</th>\n",
       "      <td>0.210904</td>\n",
       "      <td>0.675148</td>\n",
       "      <td>-0.725694</td>\n",
       "      <td>-1.771745</td>\n",
       "      <td>0.425478</td>\n",
       "      <td>-1.339917</td>\n",
       "      <td>1.001793</td>\n",
       "      <td>-1.723950</td>\n",
       "      <td>0.099541</td>\n",
       "      <td>0.945522</td>\n",
       "      <td>...</td>\n",
       "      <td>-0.016607</td>\n",
       "      <td>-0.040917</td>\n",
       "      <td>-0.033299</td>\n",
       "      <td>-0.007624</td>\n",
       "      <td>-0.023922</td>\n",
       "      <td>0.004055</td>\n",
       "      <td>0.020331</td>\n",
       "      <td>-0.022307</td>\n",
       "      <td>-0.036029</td>\n",
       "      <td>-0.026023</td>\n",
       "    </tr>\n",
       "  </tbody>\n",
       "</table>\n",
       "<p>19021 rows × 50 columns</p>\n",
       "</div>"
      ],
      "text/plain": [
       "             0         1         2         3         4         5         6   \\\n",
       "0      0.571428  0.303640 -0.599505 -1.408895  0.405959 -1.283350  0.920092   \n",
       "1     -4.345387  2.843281 -0.712241 -1.005980 -1.977862  3.026004 -0.281651   \n",
       "2     -3.912658 -0.037104 -0.588911  0.453589 -0.711672 -0.946484 -0.329229   \n",
       "3      2.382655 -0.535699  5.104921 -0.954000 -1.342176 -0.181478  0.225353   \n",
       "4      0.997875 -0.757518  5.078878 -1.308265 -0.506785 -0.402140  1.495643   \n",
       "...         ...       ...       ...       ...       ...       ...       ...   \n",
       "19016  1.090673 -0.760244 -0.491877 -1.406549  1.961945  0.697847  0.727020   \n",
       "19017 -1.813109  0.765629 -0.718637  1.243003 -0.919596 -0.808915  0.166335   \n",
       "19018  2.215460  0.655901  4.473907 -0.210559  0.153434 -0.154813 -0.372188   \n",
       "19019 -3.722205 -1.371756 -0.365438  0.601075  0.810439  1.108283 -0.565816   \n",
       "19020  0.210904  0.675148 -0.725694 -1.771745  0.425478 -1.339917  1.001793   \n",
       "\n",
       "             7         8         9   ...        40        41        42  \\\n",
       "0     -1.272572 -0.008944  0.041480  ...  0.012684  0.004956 -0.040268   \n",
       "1     -0.142507 -0.517123 -0.979539  ... -0.004627  0.018239 -0.004027   \n",
       "2     -0.232468  0.311201 -1.004019  ...  0.003948  0.017164 -0.010340   \n",
       "3      0.815652 -0.255777  1.009474  ... -0.025976  0.036365  0.025627   \n",
       "4     -1.500397 -1.574736  1.126548  ... -0.024076  0.039715 -0.010697   \n",
       "...         ...       ...       ...  ...       ...       ...       ...   \n",
       "19016 -1.565143 -0.070442  0.917168  ... -0.020211 -0.051619 -0.027244   \n",
       "19017 -1.837246 -0.227261  1.213774  ...  1.306578  0.289026 -1.140718   \n",
       "19018  1.092324  1.562249 -0.216362  ... -0.007169 -0.024084  0.002092   \n",
       "19019 -0.085289  0.141993 -1.028691  ...  0.001653  0.006083 -0.005611   \n",
       "19020 -1.723950  0.099541  0.945522  ... -0.016607 -0.040917 -0.033299   \n",
       "\n",
       "             43        44        45        46        47        48        49  \n",
       "0      0.009166 -0.022012  0.016137 -0.014880 -0.117255 -0.057457 -0.024641  \n",
       "1     -0.012344  0.004631  0.004564 -0.013872 -0.020635  0.002790 -0.008006  \n",
       "2     -0.002690 -0.008062 -0.006751 -0.000657 -0.005428  0.001019 -0.008043  \n",
       "3      0.001600 -0.011766 -0.010269 -0.018231 -0.024102  0.008595  0.033402  \n",
       "4      0.024521 -0.023901 -0.000858 -0.039935 -0.144997 -0.042610  0.012572  \n",
       "...         ...       ...       ...       ...       ...       ...       ...  \n",
       "19016 -0.006773 -0.018860  0.008044  0.022510 -0.022234 -0.037335 -0.017749  \n",
       "19017 -0.688559 -0.352368  1.637806  0.382399  0.422080  0.913273  0.151304  \n",
       "19018 -0.000532 -0.006865  0.002600  0.010920 -0.013031 -0.004499 -0.015276  \n",
       "19019 -0.000021 -0.002969 -0.003507  0.001170 -0.004334  0.000342  0.000206  \n",
       "19020 -0.007624 -0.023922  0.004055  0.020331 -0.022307 -0.036029 -0.026023  \n",
       "\n",
       "[19021 rows x 50 columns]"
      ]
     },
     "execution_count": 26,
     "metadata": {},
     "output_type": "execute_result"
    }
   ],
   "source": [
    "Z_train = pca.transform(X_train_sc)\n",
    "Z_test = pca.transform(X_test_sc)\n",
    "pd.DataFrame(Z_train)"
   ]
  },
  {
   "cell_type": "code",
   "execution_count": 27,
   "metadata": {},
   "outputs": [
    {
     "data": {
      "text/plain": [
       "array([0.0383, 0.0163, 0.0141, 0.0115, 0.0105, 0.0101, 0.0081, 0.0078,\n",
       "       0.0077, 0.0075, 0.0074, 0.0074, 0.0073, 0.0073, 0.0073, 0.0072,\n",
       "       0.0072, 0.0072, 0.0072, 0.0072, 0.0072, 0.0072, 0.0072, 0.0072,\n",
       "       0.0072, 0.0072, 0.0072, 0.0072, 0.0072, 0.0072, 0.0072, 0.0072,\n",
       "       0.0072, 0.0072, 0.0072, 0.0072, 0.0072, 0.0072, 0.0072, 0.0072,\n",
       "       0.0072, 0.0072, 0.0072, 0.0072, 0.0071, 0.0071, 0.0071, 0.0071,\n",
       "       0.0071, 0.0071])"
      ]
     },
     "execution_count": 27,
     "metadata": {},
     "output_type": "execute_result"
    }
   ],
   "source": [
    "np.round(pca.explained_variance_ratio_, 4)"
   ]
  },
  {
   "cell_type": "code",
   "execution_count": 28,
   "metadata": {},
   "outputs": [
    {
     "name": "stdout",
     "output_type": "stream",
     "text": [
      "Explained variance (first 10 components): [0.038 0.016 0.014 0.011 0.011 0.01  0.008 0.008 0.008 0.008]\n",
      "\n",
      "Cumulative explained variance (first 10 components): [0.038 0.016 0.014 0.011 0.011 0.01  0.008 0.008 0.008 0.008]\n"
     ]
    }
   ],
   "source": [
    "# Pull the explained variance attribute.\n",
    "var_exp = pca.explained_variance_ratio_\n",
    "print(f'Explained variance (first 10 components): {np.round(var_exp[:10], 3)}')\n",
    "\n",
    "print('')\n",
    "\n",
    "# Generate the cumulative explained variance.\n",
    "cum_var_exp = np.cumsum(var_exp)\n",
    "print(f'Cumulative explained variance (first 10 components): {np.round(var_exp[:10], 3)}')"
   ]
  },
  {
   "cell_type": "code",
   "execution_count": 29,
   "metadata": {},
   "outputs": [
    {
     "data": {
      "text/html": [
       "<div>\n",
       "<style scoped>\n",
       "    .dataframe tbody tr th:only-of-type {\n",
       "        vertical-align: middle;\n",
       "    }\n",
       "\n",
       "    .dataframe tbody tr th {\n",
       "        vertical-align: top;\n",
       "    }\n",
       "\n",
       "    .dataframe thead th {\n",
       "        text-align: right;\n",
       "    }\n",
       "</style>\n",
       "<table border=\"1\" class=\"dataframe\">\n",
       "  <thead>\n",
       "    <tr style=\"text-align: right;\">\n",
       "      <th></th>\n",
       "      <th>Variation</th>\n",
       "      <th>PC</th>\n",
       "    </tr>\n",
       "  </thead>\n",
       "  <tbody>\n",
       "    <tr>\n",
       "      <th>0</th>\n",
       "      <td>0.038337</td>\n",
       "      <td>PCA_1</td>\n",
       "    </tr>\n",
       "    <tr>\n",
       "      <th>1</th>\n",
       "      <td>0.016301</td>\n",
       "      <td>PCA_2</td>\n",
       "    </tr>\n",
       "    <tr>\n",
       "      <th>2</th>\n",
       "      <td>0.014140</td>\n",
       "      <td>PCA_3</td>\n",
       "    </tr>\n",
       "    <tr>\n",
       "      <th>3</th>\n",
       "      <td>0.011452</td>\n",
       "      <td>PCA_4</td>\n",
       "    </tr>\n",
       "    <tr>\n",
       "      <th>4</th>\n",
       "      <td>0.010523</td>\n",
       "      <td>PCA_5</td>\n",
       "    </tr>\n",
       "  </tbody>\n",
       "</table>\n",
       "</div>"
      ],
      "text/plain": [
       "   Variation     PC\n",
       "0   0.038337  PCA_1\n",
       "1   0.016301  PCA_2\n",
       "2   0.014140  PCA_3\n",
       "3   0.011452  PCA_4\n",
       "4   0.010523  PCA_5"
      ]
     },
     "execution_count": 29,
     "metadata": {},
     "output_type": "execute_result"
    }
   ],
   "source": [
    "## Set up dataframe with PCs and amount of explained variance\n",
    "columns = [f'PCA_{i+1}' for i in pd.DataFrame(Z_train).columns]\n",
    "var_ratio_df = pd.DataFrame({\n",
    "    'Variation':var_exp,\n",
    "    'PC':columns\n",
    "})\n",
    "\n",
    "var_ratio_df.head()"
   ]
  },
  {
   "cell_type": "code",
   "execution_count": 34,
   "metadata": {},
   "outputs": [
    {
     "data": {
      "image/png": "[encoded data removed]",
      "text/plain": [
       "<Figure size 720x432 with 1 Axes>"
      ]
     },
     "metadata": {
      "needs_background": "light"
     },
     "output_type": "display_data"
    }
   ],
   "source": [
    "# Plot explained variance of each principal component\n",
    "plt.figure(figsize = (10,6))\n",
    "sns.barplot(x = var_ratio_df['PC'].head(10),\n",
    "            y = var_ratio_df['Variation'].head(10), \n",
    "            data=var_ratio_df, color=\"c\");"
   ]
  },
  {
   "cell_type": "code",
   "execution_count": 35,
   "metadata": {},
   "outputs": [
    {
     "data": {
      "image/png": "[encoded data removed]",
      "text/plain": [
       "<Figure size 864x576 with 1 Axes>"
      ]
     },
     "metadata": {
      "needs_background": "light"
     },
     "output_type": "display_data"
    }
   ],
   "source": [
    "# Plot the variance explained (and cumulative variance explained).\n",
    "plt.figure(figsize=(12,8))\n",
    "\n",
    "# Plot the explained variance.\n",
    "plt.plot(range(len(var_exp)), var_exp, lw=3, label = 'Variance Explained')\n",
    "\n",
    "# Plot the cumulative explained variance.\n",
    "plt.plot(range(len(var_exp)), cum_var_exp, lw=3, color = 'orange', label = 'Cumulative Variance Explained')\n",
    "\n",
    "# Add horizontal lines at y=0 and y=1.\n",
    "plt.axhline(y=0, linewidth=1, color='grey', ls='dashed')\n",
    "plt.axhline(y=1, linewidth=1, color='grey', ls='dashed')\n",
    "\n",
    "# Set the limits of the axes.\n",
    "plt.xlim([-1,21])\n",
    "plt.ylim([-0.01,1.01])\n",
    "\n",
    "# Label the axes.\n",
    "plt.ylabel('Variance Explained', fontsize=20)\n",
    "plt.xlabel('Principal Component', fontsize=20)\n",
    "\n",
    "# Make the tick labels bigger\n",
    "plt.xticks(range(0, 21, 5), range(1, 22, 5), fontsize=12)\n",
    "plt.yticks(fontsize=12)\n",
    "    \n",
    "# Add title and legend.\n",
    "plt.title('Component vs. Variance Explained', fontsize=24)\n",
    "plt.legend(fontsize=11);"
   ]
  },
  {
   "cell_type": "code",
   "execution_count": 37,
   "metadata": {},
   "outputs": [
    {
     "name": "stdout",
     "output_type": "stream",
     "text": [
      "Training RMSE: 0.0732\n",
      "Testing RMSE: 0.0671\n"
     ]
    }
   ],
   "source": [
    "pca_lr = Lasso().fit(Z_train, y_train)\n",
    "\n",
    "print(f'Training RMSE: {round(pca_lr.score(Z_train, y_train),4)}')\n",
    "print(f'Testing RMSE: {round(pca_lr.score(Z_test, y_test),4)}')"
   ]
  },
  {
   "cell_type": "code",
   "execution_count": 38,
   "metadata": {},
   "outputs": [
    {
     "data": {
      "text/plain": [
       "28.361032037698248"
      ]
     },
     "execution_count": 38,
     "metadata": {},
     "output_type": "execute_result"
    }
   ],
   "source": [
    "mean_squared_error(y_test, pca_lr.predict(Z_test), squared=False)"
   ]
  },
  {
   "cell_type": "markdown",
   "metadata": {},
   "source": [
    "# Decision Trees"
   ]
  },
  {
   "cell_type": "code",
   "execution_count": 39,
   "metadata": {},
   "outputs": [
    {
     "data": {
      "text/plain": [
       "RandomForestRegressor(max_depth=7, min_samples_split=100, random_state=123)"
      ]
     },
     "execution_count": 39,
     "metadata": {},
     "output_type": "execute_result"
    }
   ],
   "source": [
    "rf = RandomForestRegressor(n_estimators=100, max_depth=7, random_state=123, min_samples_split=100)\n",
    "rf.fit(X_train, y_train)"
   ]
  },
  {
   "cell_type": "code",
   "execution_count": 40,
   "metadata": {},
   "outputs": [
    {
     "name": "stdout",
     "output_type": "stream",
     "text": [
      "0.1789138446125459\n",
      "0.13925587998266187\n",
      "27.24280988680873\n"
     ]
    }
   ],
   "source": [
    "print(rf.score(X_train, y_train))\n",
    "print(rf.score(X_test, y_test))\n",
    "print(mean_squared_error(y_test, rf.predict(X_test), squared=False))"
   ]
  },
  {
   "cell_type": "code",
   "execution_count": 41,
   "metadata": {},
   "outputs": [],
   "source": [
    "tree = DecisionTreeRegressor(max_depth=5)"
   ]
  },
  {
   "cell_type": "code",
   "execution_count": 42,
   "metadata": {},
   "outputs": [
    {
     "name": "stdout",
     "output_type": "stream",
     "text": [
      "0.13264800709942215\n",
      "0.10139553979115845\n"
     ]
    }
   ],
   "source": [
    "tree.fit(X_train, y_train)\n",
    "print(tree.score(X_train, y_train))\n",
    "print(tree.score(X_test, y_test))"
   ]
  },
  {
   "cell_type": "code",
   "execution_count": null,
   "metadata": {},
   "outputs": [],
   "source": []
  }
 ],
 "metadata": {
  "interpreter": {
   "hash": "6aaf12f00e2accd7ab3a69f0361120d5b81b11b109d190d2913220c8ee37ccf8"
  },
  "kernelspec": {
   "display_name": "Python 3.9.7 ('base')",
   "language": "python",
   "name": "python3"
  },
  "language_info": {
   "codemirror_mode": {
    "name": "ipython",
    "version": 3
   },
   "file_extension": ".py",
   "mimetype": "text/x-python",
   "name": "python",
   "nbconvert_exporter": "python",
   "pygments_lexer": "ipython3",
   "version": "3.9.7"
  },
  "orig_nbformat": 4
 },
 "nbformat": 4,
 "nbformat_minor": 2
}
