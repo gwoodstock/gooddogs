{
 "cells": [
  {
   "cell_type": "code",
   "execution_count": 34,
   "metadata": {},
   "outputs": [],
   "source": [
    "import pandas as pd\n",
    "from sklearn.neighbors import KNeighborsClassifier\n",
    "from sklearn.preprocessing import StandardScaler\n",
    "from sklearn.model_selection import train_test_split \n",
    "from sklearn.linear_model import LogisticRegression\n",
    "from sklearn.model_selection import GridSearchCV\n",
    "from sklearn.naive_bayes import MultinomialNB\n",
    "from sklearn.ensemble import VotingClassifier"
   ]
  },
  {
   "cell_type": "code",
   "execution_count": 35,
   "metadata": {},
   "outputs": [],
   "source": [
    "df = pd.read_csv('./datasets/breeds_info_clean.csv', quotechar = '\"', sep = \",\")\n",
    "df = df.drop(columns = ['breed'])"
   ]
  },
  {
   "cell_type": "code",
   "execution_count": 36,
   "metadata": {},
   "outputs": [],
   "source": [
    "X = df[df['classification'].isna() == False]\n",
    "X = X[X['height_low_inches'].isna() == False]\n",
    "y = X['classification']\n",
    "#X = X.drop(columns = ['classification'])\n",
    "X = X.drop(columns = ['classification', 'obey', 'reps_lower', 'reps_upper'])"
   ]
  },
  {
   "cell_type": "code",
   "execution_count": 37,
   "metadata": {},
   "outputs": [],
   "source": [
    "ss = StandardScaler()"
   ]
  },
  {
   "cell_type": "code",
   "execution_count": 38,
   "metadata": {},
   "outputs": [],
   "source": [
    "#the subset, by which we should predict classification. besides classification, also no data for the columns 'obey', 'reps_lower', 'reps_upper'\n",
    "K = df[df['classification'].isna() == True]\n",
    "K = K.drop(columns = ['classification', 'obey', 'reps_lower', 'reps_upper'])\n",
    "K = ss.fit_transform(K)"
   ]
  },
  {
   "cell_type": "code",
   "execution_count": 39,
   "metadata": {},
   "outputs": [],
   "source": [
    "\n",
    "X_train, X_test, y_train, y_test = train_test_split(X, y, test_size=0.2, random_state=1)\n",
    "\n",
    "X_train, X_val, y_train, y_val = train_test_split(X_train, y_train, test_size=0.25, random_state=1)"
   ]
  },
  {
   "cell_type": "code",
   "execution_count": 40,
   "metadata": {},
   "outputs": [],
   "source": [
    "X_train = ss.fit_transform(X_train)\n",
    "X_val = ss.fit_transform(X_val)\n",
    "X_test = ss.fit_transform(X_test)"
   ]
  },
  {
   "cell_type": "code",
   "execution_count": 41,
   "metadata": {},
   "outputs": [
    {
     "name": "stdout",
     "output_type": "stream",
     "text": [
      "Fitting 3 folds for each of 12 candidates, totalling 36 fits\n"
     ]
    },
    {
     "data": {
      "text/plain": [
       "GridSearchCV(cv=3, estimator=KNeighborsClassifier(), n_jobs=-1,\n",
       "             param_grid={'metric': ['euclidean', 'manhattan'],\n",
       "                         'n_neighbors': [5, 10, 15],\n",
       "                         'weights': ['uniform', 'distance']},\n",
       "             verbose=1)"
      ]
     },
     "execution_count": 41,
     "metadata": {},
     "output_type": "execute_result"
    }
   ],
   "source": [
    "grid_params = {\n",
    "    'n_neighbors': [5,10,15],\n",
    "    'weights': ['uniform', 'distance'],\n",
    "    'metric' : ['euclidean', 'manhattan']\n",
    "}\n",
    "\n",
    "gs = GridSearchCV(\n",
    "    KNeighborsClassifier(),\n",
    "    grid_params,\n",
    "    verbose = 1,\n",
    "    cv = 3,\n",
    "    n_jobs = -1\n",
    "    )\n",
    "\n",
    "gs.fit(X_train, y_train)"
   ]
  },
  {
   "cell_type": "code",
   "execution_count": 42,
   "metadata": {},
   "outputs": [
    {
     "data": {
      "text/plain": [
       "1.0"
      ]
     },
     "execution_count": 42,
     "metadata": {},
     "output_type": "execute_result"
    }
   ],
   "source": [
    "gs.score(X_train, y_train)"
   ]
  },
  {
   "cell_type": "code",
   "execution_count": 43,
   "metadata": {},
   "outputs": [
    {
     "data": {
      "text/plain": [
       "0.28"
      ]
     },
     "execution_count": 43,
     "metadata": {},
     "output_type": "execute_result"
    }
   ],
   "source": [
    "gs.score(X_val, y_val)"
   ]
  },
  {
   "cell_type": "code",
   "execution_count": 47,
   "metadata": {},
   "outputs": [
    {
     "data": {
      "text/plain": [
       "0.23076923076923078"
      ]
     },
     "execution_count": 47,
     "metadata": {},
     "output_type": "execute_result"
    }
   ],
   "source": [
    "gs.score(X_test, y_test)"
   ]
  },
  {
   "cell_type": "code",
   "execution_count": 44,
   "metadata": {},
   "outputs": [
    {
     "data": {
      "text/plain": [
       "{'metric': 'euclidean', 'n_neighbors': 15, 'weights': 'distance'}"
      ]
     },
     "execution_count": 44,
     "metadata": {},
     "output_type": "execute_result"
    }
   ],
   "source": [
    "gs.best_params_"
   ]
  },
  {
   "cell_type": "code",
   "execution_count": 45,
   "metadata": {},
   "outputs": [
    {
     "data": {
      "text/plain": [
       "array(['average working/obedience intelligence',\n",
       "       'average working/obedience intelligence',\n",
       "       'average working/obedience intelligence',\n",
       "       'average working/obedience intelligence',\n",
       "       'average working/obedience intelligence',\n",
       "       'average working/obedience intelligence',\n",
       "       'average working/obedience intelligence',\n",
       "       'average working/obedience intelligence',\n",
       "       'fair working/obedience intelligence',\n",
       "       'above average working dogs', 'above average working dogs',\n",
       "       'above average working dogs', 'above average working dogs',\n",
       "       'average working/obedience intelligence',\n",
       "       'average working/obedience intelligence',\n",
       "       'above average working dogs',\n",
       "       'average working/obedience intelligence',\n",
       "       'fair working/obedience intelligence',\n",
       "       'fair working/obedience intelligence',\n",
       "       'average working/obedience intelligence',\n",
       "       'average working/obedience intelligence',\n",
       "       'average working/obedience intelligence',\n",
       "       'average working/obedience intelligence',\n",
       "       'average working/obedience intelligence',\n",
       "       'fair working/obedience intelligence',\n",
       "       'fair working/obedience intelligence',\n",
       "       'average working/obedience intelligence'], dtype=object)"
      ]
     },
     "execution_count": 45,
     "metadata": {},
     "output_type": "execute_result"
    }
   ],
   "source": [
    "vc2 = VotingClassifier( \n",
    "    [\n",
    "        ('knn', gs),\n",
    "        ('lr', LogisticRegression()),\n",
    "        \n",
    "    ],\n",
    "    n_jobs=-1,   \n",
    "    voting='soft'\n",
    ")\n",
    "\n",
    "vc2.fit(X_train, y_train)\n",
    "vc2.predict(K)"
   ]
  },
  {
   "cell_type": "code",
   "execution_count": null,
   "metadata": {},
   "outputs": [],
   "source": []
  },
  {
   "cell_type": "code",
   "execution_count": null,
   "metadata": {},
   "outputs": [],
   "source": []
  },
  {
   "cell_type": "code",
   "execution_count": null,
   "metadata": {},
   "outputs": [],
   "source": []
  },
  {
   "cell_type": "code",
   "execution_count": 25,
   "metadata": {},
   "outputs": [
    {
     "data": {
      "text/plain": [
       "0.2692307692307692"
      ]
     },
     "execution_count": 25,
     "metadata": {},
     "output_type": "execute_result"
    }
   ],
   "source": [
    "#knn classifier\n",
    "knn = KNeighborsClassifier()\n",
    "knn.fit(X_train,y_train)\n",
    "knn.score(X_test, y_test)"
   ]
  },
  {
   "cell_type": "code",
   "execution_count": 26,
   "metadata": {},
   "outputs": [
    {
     "ename": "NameError",
     "evalue": "name 'enc' is not defined",
     "output_type": "error",
     "traceback": [
      "\u001b[0;31m---------------------------------------------------------------------------\u001b[0m",
      "\u001b[0;31mNameError\u001b[0m                                 Traceback (most recent call last)",
      "\u001b[0;32m<ipython-input-26-cb1db8180afd>\u001b[0m in \u001b[0;36m<module>\u001b[0;34m\u001b[0m\n\u001b[1;32m      1\u001b[0m \u001b[0mK\u001b[0m \u001b[0;34m=\u001b[0m \u001b[0mdf\u001b[0m\u001b[0;34m[\u001b[0m\u001b[0mdf\u001b[0m\u001b[0;34m[\u001b[0m\u001b[0;34m'classification'\u001b[0m\u001b[0;34m]\u001b[0m\u001b[0;34m.\u001b[0m\u001b[0misna\u001b[0m\u001b[0;34m(\u001b[0m\u001b[0;34m)\u001b[0m \u001b[0;34m==\u001b[0m \u001b[0;32mTrue\u001b[0m\u001b[0;34m]\u001b[0m\u001b[0;34m\u001b[0m\u001b[0;34m\u001b[0m\u001b[0m\n\u001b[1;32m      2\u001b[0m \u001b[0mK\u001b[0m \u001b[0;34m=\u001b[0m \u001b[0mK\u001b[0m\u001b[0;34m.\u001b[0m\u001b[0mdrop\u001b[0m\u001b[0;34m(\u001b[0m\u001b[0mcolumns\u001b[0m \u001b[0;34m=\u001b[0m \u001b[0;34m[\u001b[0m\u001b[0;34m'classification'\u001b[0m\u001b[0;34m]\u001b[0m\u001b[0;34m)\u001b[0m\u001b[0;34m\u001b[0m\u001b[0;34m\u001b[0m\u001b[0m\n\u001b[0;32m----> 3\u001b[0;31m \u001b[0mK\u001b[0m \u001b[0;34m=\u001b[0m \u001b[0menc\u001b[0m\u001b[0;34m.\u001b[0m\u001b[0mtransform\u001b[0m\u001b[0;34m(\u001b[0m\u001b[0mK\u001b[0m\u001b[0;34m)\u001b[0m\u001b[0;34m.\u001b[0m\u001b[0mtoarray\u001b[0m\u001b[0;34m(\u001b[0m\u001b[0;34m)\u001b[0m\u001b[0;34m\u001b[0m\u001b[0;34m\u001b[0m\u001b[0m\n\u001b[0m",
      "\u001b[0;31mNameError\u001b[0m: name 'enc' is not defined"
     ]
    }
   ],
   "source": [
    "K = df[df['classification'].isna() == True]\n",
    "K = K.drop(columns = ['classification'])\n",
    "K = enc.transform(K).toarray()"
   ]
  },
  {
   "cell_type": "code",
   "execution_count": null,
   "metadata": {},
   "outputs": [
    {
     "data": {
      "text/plain": [
       "array(['average working/obedience intelligence',\n",
       "       'above average working dogs',\n",
       "       'average working/obedience intelligence',\n",
       "       'average working/obedience intelligence',\n",
       "       'above average working dogs', 'above average working dogs',\n",
       "       'average working/obedience intelligence',\n",
       "       'above average working dogs',\n",
       "       'average working/obedience intelligence',\n",
       "       'above average working dogs', 'above average working dogs',\n",
       "       'above average working dogs', 'above average working dogs',\n",
       "       'excellent working dogs', 'average working/obedience intelligence',\n",
       "       'average working/obedience intelligence',\n",
       "       'average working/obedience intelligence',\n",
       "       'above average working dogs', 'above average working dogs',\n",
       "       'average working/obedience intelligence',\n",
       "       'above average working dogs',\n",
       "       'average working/obedience intelligence',\n",
       "       'average working/obedience intelligence',\n",
       "       'average working/obedience intelligence',\n",
       "       'above average working dogs',\n",
       "       'fair working/obedience intelligence',\n",
       "       'fair working/obedience intelligence'], dtype=object)"
      ]
     },
     "execution_count": 8,
     "metadata": {},
     "output_type": "execute_result"
    }
   ],
   "source": [
    "knn.predict(K)"
   ]
  },
  {
   "cell_type": "code",
   "execution_count": null,
   "metadata": {},
   "outputs": [
    {
     "data": {
      "text/plain": [
       "1.0"
      ]
     },
     "execution_count": 9,
     "metadata": {},
     "output_type": "execute_result"
    }
   ],
   "source": [
    "#logistic regression\n",
    "log = LogisticRegression()\n",
    "log.fit(X_train,y_train)\n",
    "log.score(X_test,y_test)"
   ]
  },
  {
   "cell_type": "code",
   "execution_count": null,
   "metadata": {},
   "outputs": [
    {
     "name": "stdout",
     "output_type": "stream",
     "text": [
      "4\n",
      "5\n",
      "13\n",
      "16\n",
      "18\n"
     ]
    }
   ],
   "source": [
    "for i in range(len(knn.predict(K))):\n",
    "    if log.predict(K)[i] != knn.predict(K)[i]:\n",
    "        print(i)"
   ]
  },
  {
   "cell_type": "code",
   "execution_count": null,
   "metadata": {},
   "outputs": [
    {
     "data": {
      "text/plain": [
       "1.0"
      ]
     },
     "execution_count": 11,
     "metadata": {},
     "output_type": "execute_result"
    }
   ],
   "source": [
    "# naive bayes\n",
    "from sklearn.naive_bayes import MultinomialNB\n",
    "text_clf = MultinomialNB()\n",
    "text_clf.fit(list(X_train), list(y_train))\n",
    "\n",
    "text_clf.score(X_test,y_test)"
   ]
  },
  {
   "cell_type": "code",
   "execution_count": null,
   "metadata": {},
   "outputs": [
    {
     "name": "stdout",
     "output_type": "stream",
     "text": [
      "excellent working dogs ########### above average working dogs\n",
      "average working/obedience intelligence ########### above average working dogs\n",
      "above average working dogs ########### average working/obedience intelligence\n",
      "fair working/obedience intelligence ########### above average working dogs\n",
      "excellent working dogs ########### above average working dogs\n",
      "fair working/obedience intelligence ########### average working/obedience intelligence\n"
     ]
    }
   ],
   "source": [
    "for i in range(len(knn.predict(K))):\n",
    "    if text_clf.predict(K)[i] != knn.predict(K)[i]:\n",
    "        print(text_clf.predict(K)[i], '###########', knn.predict(K)[i])\n",
    "        #print(i)"
   ]
  },
  {
   "cell_type": "code",
   "execution_count": null,
   "metadata": {},
   "outputs": [
    {
     "name": "stdout",
     "output_type": "stream",
     "text": [
      "average working/obedience intelligence ########### excellent working dogs\n",
      "average working/obedience intelligence ########### excellent working dogs\n",
      "above average working dogs ########### excellent working dogs\n",
      "average working/obedience intelligence ########### fair working/obedience intelligence\n"
     ]
    }
   ],
   "source": [
    "for i in range(len(knn.predict(K))):\n",
    "    if log.predict(K)[i] != text_clf.predict(K)[i]:\n",
    "        print(log.predict(K)[i], '###########', text_clf.predict(K)[i])\n",
    "        #print(i)"
   ]
  },
  {
   "cell_type": "code",
   "execution_count": null,
   "metadata": {},
   "outputs": [],
   "source": [
    "final_list = list()\n",
    "for i in range(len(knn.predict(K))):\n",
    "    var_dict = dict()\n",
    "    if knn.predict(K)[i] not in var_dict:\n",
    "         var_dict[knn.predict(K)[i]] = 1\n",
    "    else:\n",
    "        var_dict[knn.predict(K)[i]] += 1\n",
    "    if log.predict(K)[i] not in var_dict:\n",
    "         var_dict[log.predict(K)[i]] = 1\n",
    "    else:\n",
    "        var_dict[log.predict(K)[i]] += 1\n",
    "    if text_clf.predict(K)[i] not in var_dict:\n",
    "         var_dict[text_clf.predict(K)[i]] = 1\n",
    "    else:\n",
    "        var_dict[text_clf.predict(K)[i]] += 1\n",
    "    \n",
    "    sorted_values = sorted(var_dict.values())\n",
    "    if len(sorted_values) == 3:\n",
    "        var_dict = {text_clf.predict(K)[i]:1}      \n",
    "    #print(sorted_values, '###', i)\n",
    "    for key in var_dict:\n",
    "        if var_dict[key] == sorted_values[-1]:\n",
    "            final_list.append(key)"
   ]
  },
  {
   "cell_type": "code",
   "execution_count": null,
   "metadata": {},
   "outputs": [
    {
     "name": "stderr",
     "output_type": "stream",
     "text": [
      "<ipython-input-15-98a2c704c23b>:2: SettingWithCopyWarning: \n",
      "A value is trying to be set on a copy of a slice from a DataFrame.\n",
      "Try using .loc[row_indexer,col_indexer] = value instead\n",
      "\n",
      "See the caveats in the documentation: https://pandas.pydata.org/pandas-docs/stable/user_guide/indexing.html#returning-a-view-versus-a-copy\n",
      "  K_1['classification'] = final_list\n"
     ]
    }
   ],
   "source": [
    "K_1 = df[df['classification'].isna() == True]\n",
    "K_1['classification'] = final_list\n",
    "X_1 = df[df['classification'].isna() == False]\n",
    "df_1 = pd.concat([K_1,X_1])"
   ]
  },
  {
   "cell_type": "code",
   "execution_count": null,
   "metadata": {},
   "outputs": [
    {
     "data": {
      "text/html": [
       "<div>\n",
       "<style scoped>\n",
       "    .dataframe tbody tr th:only-of-type {\n",
       "        vertical-align: middle;\n",
       "    }\n",
       "\n",
       "    .dataframe tbody tr th {\n",
       "        vertical-align: top;\n",
       "    }\n",
       "\n",
       "    .dataframe thead th {\n",
       "        text-align: right;\n",
       "    }\n",
       "</style>\n",
       "<table border=\"1\" class=\"dataframe\">\n",
       "  <thead>\n",
       "    <tr style=\"text-align: right;\">\n",
       "      <th></th>\n",
       "      <th>breed</th>\n",
       "      <th>classification</th>\n",
       "      <th>obey</th>\n",
       "      <th>reps_lower</th>\n",
       "      <th>reps_upper</th>\n",
       "      <th>height_low_inches</th>\n",
       "      <th>height_high_inches</th>\n",
       "      <th>weight_low_lbs</th>\n",
       "      <th>weight_high_lbs</th>\n",
       "    </tr>\n",
       "  </thead>\n",
       "  <tbody>\n",
       "    <tr>\n",
       "      <th>141</th>\n",
       "      <td>anatolian sheepdog</td>\n",
       "      <td>average working/obedience intelligence</td>\n",
       "      <td>NaN</td>\n",
       "      <td>NaN</td>\n",
       "      <td>NaN</td>\n",
       "      <td>27.0</td>\n",
       "      <td>29.0</td>\n",
       "      <td>100.0</td>\n",
       "      <td>150.0</td>\n",
       "    </tr>\n",
       "    <tr>\n",
       "      <th>142</th>\n",
       "      <td>great swiss mountain dog</td>\n",
       "      <td>above average working dogs</td>\n",
       "      <td>NaN</td>\n",
       "      <td>NaN</td>\n",
       "      <td>NaN</td>\n",
       "      <td>23.0</td>\n",
       "      <td>28.0</td>\n",
       "      <td>130.0</td>\n",
       "      <td>150.0</td>\n",
       "    </tr>\n",
       "    <tr>\n",
       "      <th>143</th>\n",
       "      <td>neopolitan mastiff</td>\n",
       "      <td>average working/obedience intelligence</td>\n",
       "      <td>NaN</td>\n",
       "      <td>NaN</td>\n",
       "      <td>NaN</td>\n",
       "      <td>24.0</td>\n",
       "      <td>30.0</td>\n",
       "      <td>100.0</td>\n",
       "      <td>150.0</td>\n",
       "    </tr>\n",
       "    <tr>\n",
       "      <th>144</th>\n",
       "      <td>beauceron</td>\n",
       "      <td>average working/obedience intelligence</td>\n",
       "      <td>NaN</td>\n",
       "      <td>NaN</td>\n",
       "      <td>NaN</td>\n",
       "      <td>24.0</td>\n",
       "      <td>27.0</td>\n",
       "      <td>100.0</td>\n",
       "      <td>120.0</td>\n",
       "    </tr>\n",
       "    <tr>\n",
       "      <th>145</th>\n",
       "      <td>black russian terrier</td>\n",
       "      <td>excellent working dogs</td>\n",
       "      <td>NaN</td>\n",
       "      <td>NaN</td>\n",
       "      <td>NaN</td>\n",
       "      <td>25.0</td>\n",
       "      <td>29.0</td>\n",
       "      <td>80.0</td>\n",
       "      <td>140.0</td>\n",
       "    </tr>\n",
       "    <tr>\n",
       "      <th>...</th>\n",
       "      <td>...</td>\n",
       "      <td>...</td>\n",
       "      <td>...</td>\n",
       "      <td>...</td>\n",
       "      <td>...</td>\n",
       "      <td>...</td>\n",
       "      <td>...</td>\n",
       "      <td>...</td>\n",
       "      <td>...</td>\n",
       "    </tr>\n",
       "    <tr>\n",
       "      <th>136</th>\n",
       "      <td>borzoi</td>\n",
       "      <td>lowest degree of working/obedience intelligence</td>\n",
       "      <td>0.1</td>\n",
       "      <td>81.0</td>\n",
       "      <td>100.0</td>\n",
       "      <td>26.0</td>\n",
       "      <td>28.0</td>\n",
       "      <td>70.0</td>\n",
       "      <td>100.0</td>\n",
       "    </tr>\n",
       "    <tr>\n",
       "      <th>137</th>\n",
       "      <td>chow chow</td>\n",
       "      <td>lowest degree of working/obedience intelligence</td>\n",
       "      <td>0.1</td>\n",
       "      <td>81.0</td>\n",
       "      <td>100.0</td>\n",
       "      <td>19.0</td>\n",
       "      <td>22.0</td>\n",
       "      <td>45.0</td>\n",
       "      <td>55.0</td>\n",
       "    </tr>\n",
       "    <tr>\n",
       "      <th>138</th>\n",
       "      <td>bulldog</td>\n",
       "      <td>lowest degree of working/obedience intelligence</td>\n",
       "      <td>0.1</td>\n",
       "      <td>81.0</td>\n",
       "      <td>100.0</td>\n",
       "      <td>12.0</td>\n",
       "      <td>16.0</td>\n",
       "      <td>50.0</td>\n",
       "      <td>60.0</td>\n",
       "    </tr>\n",
       "    <tr>\n",
       "      <th>139</th>\n",
       "      <td>basenji</td>\n",
       "      <td>lowest degree of working/obedience intelligence</td>\n",
       "      <td>0.1</td>\n",
       "      <td>81.0</td>\n",
       "      <td>100.0</td>\n",
       "      <td>17.0</td>\n",
       "      <td>17.0</td>\n",
       "      <td>20.0</td>\n",
       "      <td>22.0</td>\n",
       "    </tr>\n",
       "    <tr>\n",
       "      <th>140</th>\n",
       "      <td>afghan hound</td>\n",
       "      <td>lowest degree of working/obedience intelligence</td>\n",
       "      <td>0.1</td>\n",
       "      <td>81.0</td>\n",
       "      <td>100.0</td>\n",
       "      <td>25.0</td>\n",
       "      <td>27.0</td>\n",
       "      <td>50.0</td>\n",
       "      <td>60.0</td>\n",
       "    </tr>\n",
       "  </tbody>\n",
       "</table>\n",
       "<p>168 rows × 9 columns</p>\n",
       "</div>"
      ],
      "text/plain": [
       "                        breed  \\\n",
       "141        anatolian sheepdog   \n",
       "142  great swiss mountain dog   \n",
       "143        neopolitan mastiff   \n",
       "144                 beauceron   \n",
       "145     black russian terrier   \n",
       "..                        ...   \n",
       "136                    borzoi   \n",
       "137                 chow chow   \n",
       "138                   bulldog   \n",
       "139                   basenji   \n",
       "140              afghan hound   \n",
       "\n",
       "                                       classification  obey  reps_lower  \\\n",
       "141            average working/obedience intelligence   NaN         NaN   \n",
       "142                        above average working dogs   NaN         NaN   \n",
       "143            average working/obedience intelligence   NaN         NaN   \n",
       "144            average working/obedience intelligence   NaN         NaN   \n",
       "145                            excellent working dogs   NaN         NaN   \n",
       "..                                                ...   ...         ...   \n",
       "136  lowest degree of working/obedience intelligence    0.1        81.0   \n",
       "137  lowest degree of working/obedience intelligence    0.1        81.0   \n",
       "138  lowest degree of working/obedience intelligence    0.1        81.0   \n",
       "139  lowest degree of working/obedience intelligence    0.1        81.0   \n",
       "140  lowest degree of working/obedience intelligence    0.1        81.0   \n",
       "\n",
       "     reps_upper  height_low_inches  height_high_inches  weight_low_lbs  \\\n",
       "141         NaN               27.0                29.0           100.0   \n",
       "142         NaN               23.0                28.0           130.0   \n",
       "143         NaN               24.0                30.0           100.0   \n",
       "144         NaN               24.0                27.0           100.0   \n",
       "145         NaN               25.0                29.0            80.0   \n",
       "..          ...                ...                 ...             ...   \n",
       "136       100.0               26.0                28.0            70.0   \n",
       "137       100.0               19.0                22.0            45.0   \n",
       "138       100.0               12.0                16.0            50.0   \n",
       "139       100.0               17.0                17.0            20.0   \n",
       "140       100.0               25.0                27.0            50.0   \n",
       "\n",
       "     weight_high_lbs  \n",
       "141            150.0  \n",
       "142            150.0  \n",
       "143            150.0  \n",
       "144            120.0  \n",
       "145            140.0  \n",
       "..               ...  \n",
       "136            100.0  \n",
       "137             55.0  \n",
       "138             60.0  \n",
       "139             22.0  \n",
       "140             60.0  \n",
       "\n",
       "[168 rows x 9 columns]"
      ]
     },
     "execution_count": 16,
     "metadata": {},
     "output_type": "execute_result"
    }
   ],
   "source": [
    "df_1"
   ]
  },
  {
   "cell_type": "code",
   "execution_count": null,
   "metadata": {},
   "outputs": [],
   "source": [
    "df_1.to_csv('./datasets/breeds_info_clean_classifiers.csv', index=False)"
   ]
  }
 ],
 "metadata": {
  "interpreter": {
   "hash": "40d3a090f54c6569ab1632332b64b2c03c39dcf918b08424e98f38b5ae0af88f"
  },
  "kernelspec": {
   "display_name": "Python 3.8.8 ('base')",
   "language": "python",
   "name": "python3"
  },
  "language_info": {
   "codemirror_mode": {
    "name": "ipython",
    "version": 3
   },
   "file_extension": ".py",
   "mimetype": "text/x-python",
   "name": "python",
   "nbconvert_exporter": "python",
   "pygments_lexer": "ipython3",
   "version": "3.8.8"
  },
  "orig_nbformat": 4
 },
 "nbformat": 4,
 "nbformat_minor": 2
}
