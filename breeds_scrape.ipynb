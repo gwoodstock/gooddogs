{
 "cells": [
  {
   "cell_type": "code",
   "execution_count": 145,
   "metadata": {},
   "outputs": [],
   "source": [
    "import pandas as pd\n",
    "import numpy as np\n",
    "import requests\n",
    "from bs4 import BeautifulSoup\n",
    "from time import sleep\n",
    "import re"
   ]
  },
  {
   "cell_type": "code",
   "execution_count": 146,
   "metadata": {},
   "outputs": [],
   "source": [
    "# url of mixed dog breeds\n",
    "url = 'https://www.dogbreedinfo.com/hybriddogs.htm'"
   ]
  },
  {
   "cell_type": "code",
   "execution_count": 147,
   "metadata": {},
   "outputs": [
    {
     "data": {
      "text/plain": [
       "200"
      ]
     },
     "execution_count": 147,
     "metadata": {},
     "output_type": "execute_result"
    }
   ],
   "source": [
    "res = requests.get(url)\n",
    "res.status_code"
   ]
  },
  {
   "cell_type": "code",
   "execution_count": 148,
   "metadata": {},
   "outputs": [],
   "source": [
    "# soup of all the <li> of dog breeds\n",
    "soup = BeautifulSoup(res.content, 'lxml')\n",
    "list_items = soup.find('div', {'class': 'container'}).find_all('li')"
   ]
  },
  {
   "cell_type": "markdown",
   "metadata": {},
   "source": [
    "# Extract dog name and breeds from soup"
   ]
  },
  {
   "cell_type": "code",
   "execution_count": 149,
   "metadata": {},
   "outputs": [],
   "source": [
    "# https://stackoverflow.com/questions/6116978/how-to-replace-multiple-substrings-of-a-string\n",
    "# Three lines of code below taken from stackoverflow, answered by Andrew Clark\n",
    "\n",
    "# dictionary of things to replace\n",
    "rep = {'(': '', ')':'', 'mix':'', ' - ':'', '\\xa0': ' ', '-\\t':'', '- ':'', '= ': ''}\n",
    "# this code does some stuff and works! \n",
    "# It goes along with the \"pattern.sub(lambda m: rep[re.escape(m.group(0))]\" used in the loop\n",
    "rep = dict((re.escape(k), v) for k, v in rep.items()) \n",
    "pattern = re.compile(\"|\".join(rep.keys()))\n",
    "\n",
    "\n",
    "# initialize empty list to add dogs to\n",
    "dogs = []\n",
    "\n",
    "# iterates over lists of dog names and breeds\n",
    "for li in list_items[5:]:\n",
    "\n",
    "    mutt = {}\n",
    "\n",
    "    # breaks out of lists of dogs at the end of the loop\n",
    "    if li.text == 'Mixed Breed Dog Information':\n",
    "        break\n",
    "\n",
    "    # if the <li> has an <a> tag\n",
    "    if li.find('a'):\n",
    "\n",
    "        # cleans the name of the dog\n",
    "        # regex pattern to sub characters from breeds. (parenthesis, the word 'mix', random chars, etc)\n",
    "        name = li.find('a').text.lower().strip()\n",
    "        breeds = pattern.sub(lambda m: rep[re.escape(m.group(0))], li.contents[-1]).lower().strip().split(' x ')\n",
    "\n",
    "        # assigns name and breeds to mutt dict\n",
    "        mutt['name'] = name\n",
    "        mutt['breeds'] = [breed.strip() for breed in breeds]\n",
    "\n",
    "    # if there is no <a> in the <li>\n",
    "    else:\n",
    "    \n",
    "        # cleans the name and breeds to be able to split. \".replace\" chains to make all input usuable\n",
    "        cleaned_name = li.text.lower().replace(' -', ' - ').replace('- ', ' - ').replace('\\xa0',' ').split(' - ')[0].strip()\n",
    "        cleaned_breed = li.text.lower().replace(' -', ' - ').replace('- ', ' - ').replace('\\xa0',' ').split(' - ')[1].strip()\n",
    "\n",
    "        # regex pattern to sub characters from name and breeds. (parenthesis, the word 'mix', random chars, etc)\n",
    "        name = pattern.sub(lambda m: rep[re.escape(m.group(0))], cleaned_name).strip()\n",
    "        breeds = pattern.sub(lambda m: rep[re.escape(m.group(0))], cleaned_breed).strip().split(' x ')\n",
    "\n",
    "        # assigns name and breeds to mutt dict\n",
    "        mutt['name'] = name\n",
    "        mutt['breeds'] = [breed.strip() for breed in breeds]\n",
    "\n",
    "    # appends dog name and breeds to dogs list\n",
    "    dogs.append(mutt)\n",
    "    # print(f\"{name} added.\")"
   ]
  },
  {
   "cell_type": "markdown",
   "metadata": {},
   "source": [
    "# Fixing breed names"
   ]
  },
  {
   "cell_type": "code",
   "execution_count": 150,
   "metadata": {},
   "outputs": [],
   "source": [
    "breeds_to_fix = []\n",
    "names = []\n",
    "\n",
    "# iterates over all the dogs\n",
    "for dog in dogs:\n",
    "    \n",
    "    # iterates over all the breeds for each dog\n",
    "    for breed in dog['breeds']:\n",
    "\n",
    "        # checks for weirdness in the breeds and assigns that dog to a list to be dealt with. BAD DOG!\n",
    "        if ' with ' in breed:\n",
    "            names.append(dog['name'])\n",
    "            breeds_to_fix.append(dog)\n",
    "        elif ' or ' in breed:\n",
    "            names.append(dog['name'])\n",
    "            breeds_to_fix.append(dog)\n",
    "        elif ' the ' in breed:\n",
    "            names.append(dog['name'])\n",
    "            breeds_to_fix.append(dog)\n",
    "        elif ' ed ' in breed:\n",
    "            names.append(dog['name'])\n",
    "            breeds_to_fix.append(dog)\n",
    "        elif ' Miniature ' in breed:\n",
    "            names.append(dog['name'])\n",
    "            breeds_to_fix.append(dog)\n",
    "        elif ' Toy ' in breed:\n",
    "            names.append(dog['name'])\n",
    "            breeds_to_fix.append(dog)\n",
    "        elif ' Mini ' in breed:\n",
    "            names.append(dog['name'])\n",
    "            breeds_to_fix.append(dog)"
   ]
  },
  {
   "cell_type": "code",
   "execution_count": 151,
   "metadata": {},
   "outputs": [],
   "source": [
    "# removes all the bad dogs\n",
    "for dog in dogs:\n",
    "    if dog['name'] in names:\n",
    "        dogs.remove(dog)"
   ]
  },
  {
   "cell_type": "markdown",
   "metadata": {},
   "source": [
    "# Split up multiple breeds listed as 1 breed"
   ]
  },
  {
   "cell_type": "code",
   "execution_count": 152,
   "metadata": {},
   "outputs": [
    {
     "data": {
      "text/plain": [
       "{'name': 'aussie-corgi',\n",
       " 'breeds': ['australian shepherd or miniature australian shepherd',\n",
       "  'pembroke welch corgi']}"
      ]
     },
     "execution_count": 152,
     "metadata": {},
     "output_type": "execute_result"
    }
   ],
   "source": [
    "breeds_to_fix[0]"
   ]
  },
  {
   "cell_type": "code",
   "execution_count": 153,
   "metadata": {},
   "outputs": [],
   "source": [
    "dogs.append(\n",
    "    {\n",
    "        \"name\": \"aussie-corgi\",\n",
    "        \"breeds\": [\"australian shepherd\", \"pembroke welch corgi\",],\n",
    "    }\n",
    ")\n",
    "\n",
    "dogs.append(\n",
    "    {\n",
    "        \"name\": \"aussie-corgi\",\n",
    "        \"breeds\": [\"miniature australian shepherd\", \"pembroke welch corgi\",],\n",
    "    }\n",
    ")"
   ]
  },
  {
   "cell_type": "code",
   "execution_count": 154,
   "metadata": {},
   "outputs": [
    {
     "data": {
      "text/plain": [
       "{'name': 'aussie pom',\n",
       " 'breeds': ['australian shepherd or mini or toy australian shepherd',\n",
       "  'pomeranian']}"
      ]
     },
     "execution_count": 154,
     "metadata": {},
     "output_type": "execute_result"
    }
   ],
   "source": [
    "breeds_to_fix[1]"
   ]
  },
  {
   "cell_type": "code",
   "execution_count": 155,
   "metadata": {},
   "outputs": [],
   "source": [
    "dogs.append(\n",
    "    {\"name\": \"aussie pom\", \"breeds\": [\"australian shepherd\", \"pomeranian\"],}\n",
    ")\n",
    "\n",
    "dogs.append(\n",
    "    {\"name\": \"aussie pom\", \"breeds\": [\"toy australian shepherd\", \"pomeranian\"],}\n",
    ")\n",
    "\n",
    "dogs.append(\n",
    "    {\"name\": \"aussie pom\", \"breeds\": [\"mini australian shepherd\", \"pomeranian\"],}\n",
    ")\n"
   ]
  },
  {
   "cell_type": "code",
   "execution_count": 156,
   "metadata": {},
   "outputs": [
    {
     "data": {
      "text/plain": [
       "{'name': 'austi-pap',\n",
       " 'breeds': ['australian shepherd standard, toy or miniature', 'papillon']}"
      ]
     },
     "execution_count": 156,
     "metadata": {},
     "output_type": "execute_result"
    }
   ],
   "source": [
    "breeds_to_fix[2]"
   ]
  },
  {
   "cell_type": "code",
   "execution_count": 157,
   "metadata": {},
   "outputs": [],
   "source": [
    "dogs.append(\n",
    "    {\"name\": \"austi-pap\", \"breeds\": [\"australian shepherd\", \"papillon\"],}\n",
    ")\n",
    "\n",
    "dogs.append(\n",
    "    {\"name\": \"austi-pap\", \"breeds\": [\"miniature australian shepherd\", \"papillon\"],}\n",
    ")\n",
    "\n",
    "dogs.append(\n",
    "    {\"name\": \"austi-pap\", \"breeds\": [\"toy australian shepherd\", \"papillon\"],}\n",
    ")"
   ]
  },
  {
   "cell_type": "code",
   "execution_count": 158,
   "metadata": {},
   "outputs": [
    {
     "data": {
      "text/plain": [
       "{'name': 'beagi', 'breeds': ['beagle', 'pembroke or cardigan welsh corgi']}"
      ]
     },
     "execution_count": 158,
     "metadata": {},
     "output_type": "execute_result"
    }
   ],
   "source": [
    "breeds_to_fix[3]"
   ]
  },
  {
   "cell_type": "code",
   "execution_count": 159,
   "metadata": {},
   "outputs": [],
   "source": [
    "dogs.append({\"name\": \"beagi\", \"breeds\": [\"beagle\", \"pembroke\"]})\n",
    "\n",
    "dogs.append({\"name\": \"beagi\", \"breeds\": [\"beagle\", \"cardigan welsh corgi\"]})"
   ]
  },
  {
   "cell_type": "code",
   "execution_count": 160,
   "metadata": {},
   "outputs": [
    {
     "data": {
      "text/plain": [
       "{'name': 'border stack',\n",
       " 'breeds': ['border collie ed with jack russell terrier',\n",
       "  'staffordshire bull terrier']}"
      ]
     },
     "execution_count": 160,
     "metadata": {},
     "output_type": "execute_result"
    }
   ],
   "source": [
    "breeds_to_fix[4]"
   ]
  },
  {
   "cell_type": "code",
   "execution_count": 161,
   "metadata": {},
   "outputs": [
    {
     "data": {
      "text/plain": [
       "{'name': 'border stack',\n",
       " 'breeds': ['border collie ed with jack russell terrier',\n",
       "  'staffordshire bull terrier']}"
      ]
     },
     "execution_count": 161,
     "metadata": {},
     "output_type": "execute_result"
    }
   ],
   "source": [
    "# what to do here?\n",
    "{\n",
    "    \"name\": \"border stack\",\n",
    "    \"breeds\": [\n",
    "        \"border collie ed with jack russell terrier\",\n",
    "        \"staffordshire bull terrier\",\n",
    "    ],\n",
    "}\n",
    "\n",
    "{\n",
    "    \"name\": \"border stack\",\n",
    "    \"breeds\": [\n",
    "        \"border collie ed with jack russell terrier\",\n",
    "        \"staffordshire bull terrier\",\n",
    "    ],\n",
    "}"
   ]
  },
  {
   "cell_type": "code",
   "execution_count": 162,
   "metadata": {},
   "outputs": [
    {
     "data": {
      "text/plain": [
       "{'name': 'bully pitsky',\n",
       " 'breeds': ['american bully', 'siberian husky or alaskan husky']}"
      ]
     },
     "execution_count": 162,
     "metadata": {},
     "output_type": "execute_result"
    }
   ],
   "source": [
    "breeds_to_fix[5]"
   ]
  },
  {
   "cell_type": "code",
   "execution_count": 163,
   "metadata": {},
   "outputs": [],
   "source": [
    "dogs.append(\n",
    "    {\"name\": \"bully pitsky\", \"breeds\": [\"american bully\", \"siberian husky\"],}\n",
    ")\n",
    "\n",
    "dogs.append(\n",
    "    {\"name\": \"bully pitsky\", \"breeds\": [\"american bully\", \"alaskan husky\"],}\n",
    ")"
   ]
  },
  {
   "cell_type": "code",
   "execution_count": 164,
   "metadata": {},
   "outputs": [
    {
     "data": {
      "text/plain": [
       "{'name': 'cotralian',\n",
       " 'breeds': ['cocker spaniel',\n",
       "  'standard, miniature or toy australian shepherd']}"
      ]
     },
     "execution_count": 164,
     "metadata": {},
     "output_type": "execute_result"
    }
   ],
   "source": [
    "breeds_to_fix[6]"
   ]
  },
  {
   "cell_type": "code",
   "execution_count": 165,
   "metadata": {},
   "outputs": [],
   "source": [
    "dogs.append(\n",
    "    {\"name\": \"cotralian\", \"breeds\": [\"cocker spaniel\", \"australian shepherd\"],}\n",
    ")\n",
    "\n",
    "dogs.append(\n",
    "    {\"name\": \"cotralian\", \"breeds\": [\"cocker spaniel\", \"toy australian shepherd\"],}\n",
    ")\n",
    "\n",
    "dogs.append(\n",
    "    {\n",
    "        \"name\": \"cotralian\",\n",
    "        \"breeds\": [\"cocker spaniel\", \"miniature australian shepherd\"],\n",
    "    }\n",
    ")"
   ]
  },
  {
   "cell_type": "code",
   "execution_count": 166,
   "metadata": {},
   "outputs": [
    {
     "data": {
      "text/plain": [
       "{'name': 'english cotralian',\n",
       " 'breeds': ['english cocker spaniel',\n",
       "  'standard, miniature or toy australian shepherd']}"
      ]
     },
     "execution_count": 166,
     "metadata": {},
     "output_type": "execute_result"
    }
   ],
   "source": [
    "breeds_to_fix[7]"
   ]
  },
  {
   "cell_type": "code",
   "execution_count": 167,
   "metadata": {},
   "outputs": [],
   "source": [
    "dogs.append(\n",
    "    {\n",
    "        \"name\": \"english cotralian\",\n",
    "        \"breeds\": [\"english cocker spaniel\", \"australian shepherd\",],\n",
    "    }\n",
    ")\n",
    "\n",
    "dogs.append(\n",
    "    {\n",
    "        \"name\": \"english cotralian\",\n",
    "        \"breeds\": [\"english cocker spaniel\", \"toy australian shepherd\",],\n",
    "    }\n",
    ")\n",
    "\n",
    "dogs.append(\n",
    "    {\n",
    "        \"name\": \"english cotralian\",\n",
    "        \"breeds\": [\"english cocker spaniel\", \"miniature australian shepherd\",],\n",
    "    }\n",
    ")"
   ]
  },
  {
   "cell_type": "code",
   "execution_count": 168,
   "metadata": {},
   "outputs": [
    {
     "data": {
      "text/plain": [
       "{'name': 'labradoodle miniature',\n",
       " 'breeds': ['labrador retriever', 'toy or miniature poodle']}"
      ]
     },
     "execution_count": 168,
     "metadata": {},
     "output_type": "execute_result"
    }
   ],
   "source": [
    "breeds_to_fix[8]"
   ]
  },
  {
   "cell_type": "code",
   "execution_count": 169,
   "metadata": {},
   "outputs": [],
   "source": [
    "dogs.append(\n",
    "    {\n",
    "        \"name\": \"labradoodle miniature\",\n",
    "        \"breeds\": [\"labrador retriever\", \"miniature poodle\"],\n",
    "    }\n",
    ")\n",
    "\n",
    "dogs.append(\n",
    "    {\"name\": \"labradoodle miniature\", \"breeds\": [\"labrador retriever\", \"toy poodle\"],}\n",
    ")"
   ]
  },
  {
   "cell_type": "code",
   "execution_count": 170,
   "metadata": {},
   "outputs": [
    {
     "data": {
      "text/plain": [
       "{'name': 'miniature goldendoodle',\n",
       " 'breeds': ['golden retriever', 'toy or miniature poodle']}"
      ]
     },
     "execution_count": 170,
     "metadata": {},
     "output_type": "execute_result"
    }
   ],
   "source": [
    "breeds_to_fix[9]"
   ]
  },
  {
   "cell_type": "code",
   "execution_count": 171,
   "metadata": {},
   "outputs": [],
   "source": [
    "dogs.append({\n",
    "    \"name\": \"miniature goldendoodle\",\n",
    "    \"breeds\": [\"golden retriever\", \"miniature poodle\"],\n",
    "})\n",
    "\n",
    "dogs.append({\n",
    "    \"name\": \"miniature goldendoodle\",\n",
    "    \"breeds\": [\"golden retriever\", \"toy poodle\"],\n",
    "})"
   ]
  },
  {
   "cell_type": "code",
   "execution_count": 172,
   "metadata": {},
   "outputs": [
    {
     "data": {
      "text/plain": [
       "{'name': 'miniature labradoodle',\n",
       " 'breeds': ['labrador retriever', 'toy or miniature poodle']}"
      ]
     },
     "execution_count": 172,
     "metadata": {},
     "output_type": "execute_result"
    }
   ],
   "source": [
    "breeds_to_fix[10]"
   ]
  },
  {
   "cell_type": "code",
   "execution_count": 173,
   "metadata": {},
   "outputs": [],
   "source": [
    "dogs.append(\n",
    "    {\n",
    "        \"name\": \"miniature labradoodle\",\n",
    "        \"breeds\": [\"labrador retriever\", \"miniature poodle\"],\n",
    "    }\n",
    ")\n",
    "\n",
    "dogs.append(\n",
    "    {\"name\": \"miniature labradoodle\", \"breeds\": [\"labrador retriever\", \"toy poodle\"],}\n",
    ")"
   ]
  },
  {
   "cell_type": "code",
   "execution_count": 174,
   "metadata": {},
   "outputs": [
    {
     "data": {
      "text/plain": [
       "{'name': 'old anglican bulldogge',\n",
       " 'breeds': ['american pit bull terrier or american staffordshire terrier',\n",
       "  'bulldog']}"
      ]
     },
     "execution_count": 174,
     "metadata": {},
     "output_type": "execute_result"
    }
   ],
   "source": [
    "breeds_to_fix[11]"
   ]
  },
  {
   "cell_type": "code",
   "execution_count": 175,
   "metadata": {},
   "outputs": [],
   "source": [
    "dogs.append(\n",
    "    {\n",
    "        \"name\": \"old anglican bulldogge\",\n",
    "        \"breeds\": [\"american pit bull terrier\", \"bulldog\",],\n",
    "    }\n",
    ")\n",
    "\n",
    "dogs.append(\n",
    "    {\n",
    "        \"name\": \"old anglican bulldogge\",\n",
    "        \"breeds\": [\"american staffordshire terrier\", \"bulldog\",],\n",
    "    }\n",
    ")"
   ]
  },
  {
   "cell_type": "code",
   "execution_count": 176,
   "metadata": {},
   "outputs": [
    {
     "data": {
      "text/plain": [
       "{'name': 'pitsky',\n",
       " 'breeds': ['american pitbull terrier', 'siberian husky or alaskan husky']}"
      ]
     },
     "execution_count": 176,
     "metadata": {},
     "output_type": "execute_result"
    }
   ],
   "source": [
    "breeds_to_fix[12]"
   ]
  },
  {
   "cell_type": "code",
   "execution_count": 177,
   "metadata": {},
   "outputs": [],
   "source": [
    "dogs.append({\"name\": \"pitsky\", \"breeds\": [\"american pitbull terrier\", \"alaskan husky\"]})\n",
    "\n",
    "dogs.append({\"name\": \"pitsky\", \"breeds\": [\"american pitbull terrier\", \"siberian husky\"]})"
   ]
  },
  {
   "cell_type": "code",
   "execution_count": 178,
   "metadata": {},
   "outputs": [
    {
     "data": {
      "text/plain": [
       "{'name': 'shel-aussie',\n",
       " 'breeds': ['australian shepherd or miniature australian shepherd',\n",
       "  'shetland sheepdog']}"
      ]
     },
     "execution_count": 178,
     "metadata": {},
     "output_type": "execute_result"
    }
   ],
   "source": [
    "breeds_to_fix[13]"
   ]
  },
  {
   "cell_type": "code",
   "execution_count": 179,
   "metadata": {},
   "outputs": [],
   "source": [
    "dogs.append(\n",
    "    {\"name\": \"shel-aussie\", \"breeds\": [\"australian shepherd\", \"shetland sheepdog\",],}\n",
    ")\n",
    "\n",
    "dogs.append(\n",
    "    {\n",
    "        \"name\": \"shel-aussie\",\n",
    "        \"breeds\": [\"miniature australian shepherd\", \"shetland sheepdog\",],\n",
    "    }\n",
    ")"
   ]
  },
  {
   "cell_type": "code",
   "execution_count": 180,
   "metadata": {},
   "outputs": [
    {
     "data": {
      "text/plain": [
       "{'name': 'sibercaan',\n",
       " 'breeds': ['siberian husky or native american indian dog', 'canaan dog']}"
      ]
     },
     "execution_count": 180,
     "metadata": {},
     "output_type": "execute_result"
    }
   ],
   "source": [
    "breeds_to_fix[14]"
   ]
  },
  {
   "cell_type": "code",
   "execution_count": 181,
   "metadata": {},
   "outputs": [],
   "source": [
    "dogs.append({\"name\": \"sibercaan\", \"breeds\": [\"siberian husky\", \"canaan dog\"]})\n",
    "\n",
    "dogs.append(\n",
    "    {\"name\": \"sibercaan\", \"breeds\": [\"native american indian dog\", \"canaan dog\"]}\n",
    ")"
   ]
  },
  {
   "cell_type": "code",
   "execution_count": 182,
   "metadata": {},
   "outputs": [
    {
     "data": {
      "text/html": [
       "<div>\n",
       "<style scoped>\n",
       "    .dataframe tbody tr th:only-of-type {\n",
       "        vertical-align: middle;\n",
       "    }\n",
       "\n",
       "    .dataframe tbody tr th {\n",
       "        vertical-align: top;\n",
       "    }\n",
       "\n",
       "    .dataframe thead th {\n",
       "        text-align: right;\n",
       "    }\n",
       "</style>\n",
       "<table border=\"1\" class=\"dataframe\">\n",
       "  <thead>\n",
       "    <tr style=\"text-align: right;\">\n",
       "      <th></th>\n",
       "      <th>name</th>\n",
       "      <th>breeds</th>\n",
       "    </tr>\n",
       "  </thead>\n",
       "  <tbody>\n",
       "    <tr>\n",
       "      <th>0</th>\n",
       "      <td>afador</td>\n",
       "      <td>[afghan hound, labrador retriever]</td>\n",
       "    </tr>\n",
       "    <tr>\n",
       "      <th>1</th>\n",
       "      <td>afaird</td>\n",
       "      <td>[afghan hound, briard]</td>\n",
       "    </tr>\n",
       "  </tbody>\n",
       "</table>\n",
       "</div>"
      ],
      "text/plain": [
       "     name                              breeds\n",
       "0  afador  [afghan hound, labrador retriever]\n",
       "1  afaird              [afghan hound, briard]"
      ]
     },
     "execution_count": 182,
     "metadata": {},
     "output_type": "execute_result"
    }
   ],
   "source": [
    "df = pd.DataFrame(dogs)\n",
    "df.head(2)"
   ]
  },
  {
   "cell_type": "code",
   "execution_count": 183,
   "metadata": {},
   "outputs": [],
   "source": [
    "# removes minicoonhound, breed information available\n",
    "df = df[df['name'] != 'minicoonhound']"
   ]
  },
  {
   "cell_type": "code",
   "execution_count": 184,
   "metadata": {},
   "outputs": [],
   "source": [
    "# saves mutts to csv\n",
    "df.to_csv('./datasets/mutts.csv', index=False)"
   ]
  },
  {
   "cell_type": "markdown",
   "metadata": {},
   "source": [
    "# Applying purebred stats to mutts, combining data sets"
   ]
  },
  {
   "cell_type": "code",
   "execution_count": 185,
   "metadata": {},
   "outputs": [],
   "source": [
    "purebred_stats = pd.read_csv('./datasets/breeds_info_clean.csv')"
   ]
  },
  {
   "cell_type": "code",
   "execution_count": 186,
   "metadata": {},
   "outputs": [],
   "source": [
    "# assign 1 to purebreds\n",
    "# breed_1 and breed_2 set to the purebred's name\n",
    "purebred_stats['purebred'] = 1\n",
    "purebred_stats['breed_1'] = purebred_stats['breed']\n",
    "purebred_stats['breed_2'] = purebred_stats['breed']"
   ]
  },
  {
   "cell_type": "code",
   "execution_count": 187,
   "metadata": {},
   "outputs": [
    {
     "data": {
      "text/html": [
       "<div>\n",
       "<style scoped>\n",
       "    .dataframe tbody tr th:only-of-type {\n",
       "        vertical-align: middle;\n",
       "    }\n",
       "\n",
       "    .dataframe tbody tr th {\n",
       "        vertical-align: top;\n",
       "    }\n",
       "\n",
       "    .dataframe thead th {\n",
       "        text-align: right;\n",
       "    }\n",
       "</style>\n",
       "<table border=\"1\" class=\"dataframe\">\n",
       "  <thead>\n",
       "    <tr style=\"text-align: right;\">\n",
       "      <th></th>\n",
       "      <th>breed</th>\n",
       "      <th>classification</th>\n",
       "      <th>obey</th>\n",
       "      <th>reps_lower</th>\n",
       "      <th>reps_upper</th>\n",
       "      <th>height_low_inches</th>\n",
       "      <th>height_high_inches</th>\n",
       "      <th>weight_low_lbs</th>\n",
       "      <th>weight_high_lbs</th>\n",
       "      <th>purebred</th>\n",
       "      <th>breed_1</th>\n",
       "      <th>breed_2</th>\n",
       "    </tr>\n",
       "  </thead>\n",
       "  <tbody>\n",
       "    <tr>\n",
       "      <th>0</th>\n",
       "      <td>border collie</td>\n",
       "      <td>brightest dogs</td>\n",
       "      <td>0.95</td>\n",
       "      <td>1</td>\n",
       "      <td>4</td>\n",
       "      <td>19.0</td>\n",
       "      <td>21.0</td>\n",
       "      <td>40</td>\n",
       "      <td>40</td>\n",
       "      <td>1</td>\n",
       "      <td>border collie</td>\n",
       "      <td>border collie</td>\n",
       "    </tr>\n",
       "    <tr>\n",
       "      <th>1</th>\n",
       "      <td>german shepherd</td>\n",
       "      <td>brightest dogs</td>\n",
       "      <td>0.95</td>\n",
       "      <td>1</td>\n",
       "      <td>4</td>\n",
       "      <td>22.0</td>\n",
       "      <td>26.0</td>\n",
       "      <td>75</td>\n",
       "      <td>90</td>\n",
       "      <td>1</td>\n",
       "      <td>german shepherd</td>\n",
       "      <td>german shepherd</td>\n",
       "    </tr>\n",
       "    <tr>\n",
       "      <th>2</th>\n",
       "      <td>golden retriever</td>\n",
       "      <td>brightest dogs</td>\n",
       "      <td>0.95</td>\n",
       "      <td>1</td>\n",
       "      <td>4</td>\n",
       "      <td>21.0</td>\n",
       "      <td>24.0</td>\n",
       "      <td>55</td>\n",
       "      <td>75</td>\n",
       "      <td>1</td>\n",
       "      <td>golden retriever</td>\n",
       "      <td>golden retriever</td>\n",
       "    </tr>\n",
       "    <tr>\n",
       "      <th>3</th>\n",
       "      <td>doberman pinscher</td>\n",
       "      <td>brightest dogs</td>\n",
       "      <td>0.95</td>\n",
       "      <td>1</td>\n",
       "      <td>4</td>\n",
       "      <td>26.0</td>\n",
       "      <td>28.0</td>\n",
       "      <td>60</td>\n",
       "      <td>100</td>\n",
       "      <td>1</td>\n",
       "      <td>doberman pinscher</td>\n",
       "      <td>doberman pinscher</td>\n",
       "    </tr>\n",
       "    <tr>\n",
       "      <th>4</th>\n",
       "      <td>labrador retriever</td>\n",
       "      <td>brightest dogs</td>\n",
       "      <td>0.95</td>\n",
       "      <td>1</td>\n",
       "      <td>4</td>\n",
       "      <td>21.0</td>\n",
       "      <td>24.0</td>\n",
       "      <td>55</td>\n",
       "      <td>80</td>\n",
       "      <td>1</td>\n",
       "      <td>labrador retriever</td>\n",
       "      <td>labrador retriever</td>\n",
       "    </tr>\n",
       "  </tbody>\n",
       "</table>\n",
       "</div>"
      ],
      "text/plain": [
       "                breed  classification  obey  reps_lower  reps_upper  \\\n",
       "0       border collie  brightest dogs  0.95           1           4   \n",
       "1     german shepherd  brightest dogs  0.95           1           4   \n",
       "2    golden retriever  brightest dogs  0.95           1           4   \n",
       "3   doberman pinscher  brightest dogs  0.95           1           4   \n",
       "4  labrador retriever  brightest dogs  0.95           1           4   \n",
       "\n",
       "   height_low_inches  height_high_inches  weight_low_lbs  weight_high_lbs  \\\n",
       "0               19.0                21.0              40               40   \n",
       "1               22.0                26.0              75               90   \n",
       "2               21.0                24.0              55               75   \n",
       "3               26.0                28.0              60              100   \n",
       "4               21.0                24.0              55               80   \n",
       "\n",
       "   purebred             breed_1             breed_2  \n",
       "0         1       border collie       border collie  \n",
       "1         1     german shepherd     german shepherd  \n",
       "2         1    golden retriever    golden retriever  \n",
       "3         1   doberman pinscher   doberman pinscher  \n",
       "4         1  labrador retriever  labrador retriever  "
      ]
     },
     "execution_count": 187,
     "metadata": {},
     "output_type": "execute_result"
    }
   ],
   "source": [
    "purebred_stats.head()"
   ]
  },
  {
   "cell_type": "code",
   "execution_count": 188,
   "metadata": {},
   "outputs": [
    {
     "name": "stdout",
     "output_type": "stream",
     "text": [
      "<class 'pandas.core.frame.DataFrame'>\n",
      "RangeIndex: 126 entries, 0 to 125\n",
      "Data columns (total 12 columns):\n",
      " #   Column              Non-Null Count  Dtype  \n",
      "---  ------              --------------  -----  \n",
      " 0   breed               126 non-null    object \n",
      " 1   classification      126 non-null    object \n",
      " 2   obey                126 non-null    float64\n",
      " 3   reps_lower          126 non-null    int64  \n",
      " 4   reps_upper          126 non-null    int64  \n",
      " 5   height_low_inches   126 non-null    float64\n",
      " 6   height_high_inches  126 non-null    float64\n",
      " 7   weight_low_lbs      126 non-null    int64  \n",
      " 8   weight_high_lbs     126 non-null    int64  \n",
      " 9   purebred            126 non-null    int64  \n",
      " 10  breed_1             126 non-null    object \n",
      " 11  breed_2             126 non-null    object \n",
      "dtypes: float64(3), int64(5), object(4)\n",
      "memory usage: 11.9+ KB\n"
     ]
    }
   ],
   "source": [
    "purebred_stats.info()"
   ]
  },
  {
   "cell_type": "code",
   "execution_count": 189,
   "metadata": {},
   "outputs": [
    {
     "data": {
      "text/html": [
       "<div>\n",
       "<style scoped>\n",
       "    .dataframe tbody tr th:only-of-type {\n",
       "        vertical-align: middle;\n",
       "    }\n",
       "\n",
       "    .dataframe tbody tr th {\n",
       "        vertical-align: top;\n",
       "    }\n",
       "\n",
       "    .dataframe thead th {\n",
       "        text-align: right;\n",
       "    }\n",
       "</style>\n",
       "<table border=\"1\" class=\"dataframe\">\n",
       "  <thead>\n",
       "    <tr style=\"text-align: right;\">\n",
       "      <th></th>\n",
       "      <th>breed</th>\n",
       "      <th>obey</th>\n",
       "      <th>reps_lower</th>\n",
       "      <th>reps_upper</th>\n",
       "      <th>height_low_inches</th>\n",
       "      <th>height_high_inches</th>\n",
       "      <th>weight_low_lbs</th>\n",
       "      <th>weight_high_lbs</th>\n",
       "      <th>purebred</th>\n",
       "      <th>breed_1</th>\n",
       "      <th>breed_2</th>\n",
       "    </tr>\n",
       "  </thead>\n",
       "  <tbody>\n",
       "    <tr>\n",
       "      <th>0</th>\n",
       "      <td>afador</td>\n",
       "      <td>0.525</td>\n",
       "      <td>41.0</td>\n",
       "      <td>52.0</td>\n",
       "      <td>23.0</td>\n",
       "      <td>25.5</td>\n",
       "      <td>52.5</td>\n",
       "      <td>70.0</td>\n",
       "      <td>0</td>\n",
       "      <td>afghan hound</td>\n",
       "      <td>labrador retriever</td>\n",
       "    </tr>\n",
       "    <tr>\n",
       "      <th>1</th>\n",
       "      <td>afaird</td>\n",
       "      <td>0.400</td>\n",
       "      <td>48.5</td>\n",
       "      <td>62.5</td>\n",
       "      <td>24.0</td>\n",
       "      <td>27.0</td>\n",
       "      <td>62.0</td>\n",
       "      <td>68.0</td>\n",
       "      <td>0</td>\n",
       "      <td>afghan hound</td>\n",
       "      <td>briard</td>\n",
       "    </tr>\n",
       "  </tbody>\n",
       "</table>\n",
       "</div>"
      ],
      "text/plain": [
       "    breed   obey  reps_lower  reps_upper  height_low_inches  \\\n",
       "0  afador  0.525        41.0        52.0               23.0   \n",
       "1  afaird  0.400        48.5        62.5               24.0   \n",
       "\n",
       "   height_high_inches  weight_low_lbs  weight_high_lbs  purebred  \\\n",
       "0                25.5            52.5             70.0         0   \n",
       "1                27.0            62.0             68.0         0   \n",
       "\n",
       "        breed_1             breed_2  \n",
       "0  afghan hound  labrador retriever  \n",
       "1  afghan hound              briard  "
      ]
     },
     "execution_count": 189,
     "metadata": {},
     "output_type": "execute_result"
    }
   ],
   "source": [
    "# creates a set of purebred names for use in .issubset()\n",
    "purebreds = set(purebred_stats['breed'])\n",
    "\n",
    "mutt_stats = []\n",
    "\n",
    "# iterates over all the mutts\n",
    "for dog in dogs:\n",
    "\n",
    "    # if the the two breeds that make up a mutt are in the purebred set, do this\n",
    "    if set(dog['breeds']).issubset(purebreds):\n",
    "        \n",
    "        new_dog = {}\n",
    "\n",
    "        # assigns the mutt name\n",
    "        new_dog['breed'] = dog['name']\n",
    "\n",
    "        # obey\n",
    "        # takes the stats from each purebred, takes the average, applies it to the mutt\n",
    "        d1_obey = purebred_stats[purebred_stats['breed'] == dog['breeds'][0]]['obey'].values[0]\n",
    "        d2_obey = purebred_stats[purebred_stats['breed'] == dog['breeds'][1]]['obey'].values[0]\n",
    "        new_dog['obey'] = (d1_obey + d2_obey) / 2\n",
    "\n",
    "        # reps_lower\n",
    "        # takes the stats from each purebred, takes the average, applies it to the mutt\n",
    "        d1_reps_lower = purebred_stats[purebred_stats['breed'] == dog['breeds'][0]]['reps_lower'].values[0]\n",
    "        d2_reps_lower = purebred_stats[purebred_stats['breed'] == dog['breeds'][1]]['reps_lower'].values[0]\n",
    "        new_dog['reps_lower'] = (d1_reps_lower + d2_reps_lower) / 2\n",
    "\n",
    "        # reps_upper\n",
    "        # takes the stats from each purebred, takes the average, applies it to the mutt\n",
    "        d1_reps_upper = purebred_stats[purebred_stats['breed'] == dog['breeds'][0]]['reps_upper'].values[0]\n",
    "        d2_reps_upper = purebred_stats[purebred_stats['breed'] == dog['breeds'][1]]['reps_upper'].values[0]\n",
    "        new_dog['reps_upper'] = (d1_reps_upper + d2_reps_upper) / 2\n",
    "\n",
    "        # height_low_inches\n",
    "        # takes the stats from each purebred, takes the average, applies it to the mutt\n",
    "        d1_height_low_inches = purebred_stats[purebred_stats['breed'] == dog['breeds'][0]]['height_low_inches'].values[0]\n",
    "        d2_height_low_inches = purebred_stats[purebred_stats['breed'] == dog['breeds'][1]]['height_low_inches'].values[0]\n",
    "        new_dog['height_low_inches'] = (d1_height_low_inches + d2_height_low_inches) / 2\n",
    "\n",
    "        # height_high_inches\n",
    "        # takes the stats from each purebred, takes the average, applies it to the mutt\n",
    "        d1_height_high_inches = purebred_stats[purebred_stats['breed'] == dog['breeds'][0]]['height_high_inches'].values[0]\n",
    "        d2_height_high_inches = purebred_stats[purebred_stats['breed'] == dog['breeds'][1]]['height_high_inches'].values[0]\n",
    "        new_dog['height_high_inches'] = (d1_height_high_inches + d2_height_high_inches) / 2\n",
    "\n",
    "        # weight_low_lbs\n",
    "        # takes the stats from each purebred, takes the average, applies it to the mutt\n",
    "        d1_weight_low_lbs = purebred_stats[purebred_stats['breed'] == dog['breeds'][0]]['weight_low_lbs'].values[0]\n",
    "        d2_weight_low_lbs = purebred_stats[purebred_stats['breed'] == dog['breeds'][1]]['weight_low_lbs'].values[0]\n",
    "        new_dog['weight_low_lbs'] = (d1_weight_low_lbs + d2_weight_low_lbs) / 2\n",
    "\n",
    "        # weight_high_lbs\n",
    "        # takes the stats from each purebred, takes the average, applies it to the mutt\n",
    "        d1_weight_high_lbs = purebred_stats[purebred_stats['breed'] == dog['breeds'][0]]['weight_high_lbs'].values[0]\n",
    "        d2_weight_high_lbs = purebred_stats[purebred_stats['breed'] == dog['breeds'][1]]['weight_high_lbs'].values[0]\n",
    "        new_dog['weight_high_lbs'] = (d1_weight_high_lbs + d2_weight_high_lbs) / 2\n",
    "\n",
    "        # assigns a 0 for all the mutts in the purebred column\n",
    "        new_dog['purebred'] = 0\n",
    "\n",
    "        # assigns breed 1 and breed 2 to columns that make up the mutt\n",
    "        new_dog['breed_1'] = dog['breeds'][0]\n",
    "        new_dog['breed_2'] = dog['breeds'][1]\n",
    "\n",
    "        # add mutt with stats to the list\n",
    "        mutt_stats.append(new_dog)\n",
    "        \n",
    "        \n",
    "mutts = pd.DataFrame(mutt_stats)\n",
    "mutts.head(2)"
   ]
  },
  {
   "cell_type": "code",
   "execution_count": 190,
   "metadata": {},
   "outputs": [
    {
     "data": {
      "text/html": [
       "<div>\n",
       "<style scoped>\n",
       "    .dataframe tbody tr th:only-of-type {\n",
       "        vertical-align: middle;\n",
       "    }\n",
       "\n",
       "    .dataframe tbody tr th {\n",
       "        vertical-align: top;\n",
       "    }\n",
       "\n",
       "    .dataframe thead th {\n",
       "        text-align: right;\n",
       "    }\n",
       "</style>\n",
       "<table border=\"1\" class=\"dataframe\">\n",
       "  <thead>\n",
       "    <tr style=\"text-align: right;\">\n",
       "      <th></th>\n",
       "      <th>breed</th>\n",
       "      <th>classification</th>\n",
       "      <th>obey</th>\n",
       "      <th>reps_lower</th>\n",
       "      <th>reps_upper</th>\n",
       "      <th>height_low_inches</th>\n",
       "      <th>height_high_inches</th>\n",
       "      <th>weight_low_lbs</th>\n",
       "      <th>weight_high_lbs</th>\n",
       "      <th>purebred</th>\n",
       "      <th>breed_1</th>\n",
       "      <th>breed_2</th>\n",
       "    </tr>\n",
       "  </thead>\n",
       "  <tbody>\n",
       "    <tr>\n",
       "      <th>0</th>\n",
       "      <td>border collie</td>\n",
       "      <td>brightest dogs</td>\n",
       "      <td>0.95</td>\n",
       "      <td>1.0</td>\n",
       "      <td>4.0</td>\n",
       "      <td>19.0</td>\n",
       "      <td>21.0</td>\n",
       "      <td>40.0</td>\n",
       "      <td>40.0</td>\n",
       "      <td>1</td>\n",
       "      <td>border collie</td>\n",
       "      <td>border collie</td>\n",
       "    </tr>\n",
       "    <tr>\n",
       "      <th>1</th>\n",
       "      <td>german shepherd</td>\n",
       "      <td>brightest dogs</td>\n",
       "      <td>0.95</td>\n",
       "      <td>1.0</td>\n",
       "      <td>4.0</td>\n",
       "      <td>22.0</td>\n",
       "      <td>26.0</td>\n",
       "      <td>75.0</td>\n",
       "      <td>90.0</td>\n",
       "      <td>1</td>\n",
       "      <td>german shepherd</td>\n",
       "      <td>german shepherd</td>\n",
       "    </tr>\n",
       "    <tr>\n",
       "      <th>2</th>\n",
       "      <td>golden retriever</td>\n",
       "      <td>brightest dogs</td>\n",
       "      <td>0.95</td>\n",
       "      <td>1.0</td>\n",
       "      <td>4.0</td>\n",
       "      <td>21.0</td>\n",
       "      <td>24.0</td>\n",
       "      <td>55.0</td>\n",
       "      <td>75.0</td>\n",
       "      <td>1</td>\n",
       "      <td>golden retriever</td>\n",
       "      <td>golden retriever</td>\n",
       "    </tr>\n",
       "    <tr>\n",
       "      <th>3</th>\n",
       "      <td>doberman pinscher</td>\n",
       "      <td>brightest dogs</td>\n",
       "      <td>0.95</td>\n",
       "      <td>1.0</td>\n",
       "      <td>4.0</td>\n",
       "      <td>26.0</td>\n",
       "      <td>28.0</td>\n",
       "      <td>60.0</td>\n",
       "      <td>100.0</td>\n",
       "      <td>1</td>\n",
       "      <td>doberman pinscher</td>\n",
       "      <td>doberman pinscher</td>\n",
       "    </tr>\n",
       "    <tr>\n",
       "      <th>4</th>\n",
       "      <td>labrador retriever</td>\n",
       "      <td>brightest dogs</td>\n",
       "      <td>0.95</td>\n",
       "      <td>1.0</td>\n",
       "      <td>4.0</td>\n",
       "      <td>21.0</td>\n",
       "      <td>24.0</td>\n",
       "      <td>55.0</td>\n",
       "      <td>80.0</td>\n",
       "      <td>1</td>\n",
       "      <td>labrador retriever</td>\n",
       "      <td>labrador retriever</td>\n",
       "    </tr>\n",
       "  </tbody>\n",
       "</table>\n",
       "</div>"
      ],
      "text/plain": [
       "                breed  classification  obey  reps_lower  reps_upper  \\\n",
       "0       border collie  brightest dogs  0.95         1.0         4.0   \n",
       "1     german shepherd  brightest dogs  0.95         1.0         4.0   \n",
       "2    golden retriever  brightest dogs  0.95         1.0         4.0   \n",
       "3   doberman pinscher  brightest dogs  0.95         1.0         4.0   \n",
       "4  labrador retriever  brightest dogs  0.95         1.0         4.0   \n",
       "\n",
       "   height_low_inches  height_high_inches  weight_low_lbs  weight_high_lbs  \\\n",
       "0               19.0                21.0            40.0             40.0   \n",
       "1               22.0                26.0            75.0             90.0   \n",
       "2               21.0                24.0            55.0             75.0   \n",
       "3               26.0                28.0            60.0            100.0   \n",
       "4               21.0                24.0            55.0             80.0   \n",
       "\n",
       "   purebred             breed_1             breed_2  \n",
       "0         1       border collie       border collie  \n",
       "1         1     german shepherd     german shepherd  \n",
       "2         1    golden retriever    golden retriever  \n",
       "3         1   doberman pinscher   doberman pinscher  \n",
       "4         1  labrador retriever  labrador retriever  "
      ]
     },
     "execution_count": 190,
     "metadata": {},
     "output_type": "execute_result"
    }
   ],
   "source": [
    "# concat purebreds and mutts\n",
    "all_dogs = pd.concat([purebred_stats, mutts])\n",
    "all_dogs.head()"
   ]
  },
  {
   "cell_type": "code",
   "execution_count": 191,
   "metadata": {},
   "outputs": [
    {
     "name": "stdout",
     "output_type": "stream",
     "text": [
      "<class 'pandas.core.frame.DataFrame'>\n",
      "Int64Index: 781 entries, 0 to 654\n",
      "Data columns (total 12 columns):\n",
      " #   Column              Non-Null Count  Dtype  \n",
      "---  ------              --------------  -----  \n",
      " 0   breed               781 non-null    object \n",
      " 1   classification      126 non-null    object \n",
      " 2   obey                781 non-null    float64\n",
      " 3   reps_lower          781 non-null    float64\n",
      " 4   reps_upper          781 non-null    float64\n",
      " 5   height_low_inches   781 non-null    float64\n",
      " 6   height_high_inches  781 non-null    float64\n",
      " 7   weight_low_lbs      781 non-null    float64\n",
      " 8   weight_high_lbs     781 non-null    float64\n",
      " 9   purebred            781 non-null    int64  \n",
      " 10  breed_1             781 non-null    object \n",
      " 11  breed_2             781 non-null    object \n",
      "dtypes: float64(7), int64(1), object(4)\n",
      "memory usage: 79.3+ KB\n"
     ]
    }
   ],
   "source": [
    "all_dogs.info()"
   ]
  },
  {
   "cell_type": "code",
   "execution_count": 192,
   "metadata": {},
   "outputs": [],
   "source": [
    "# all dogs to csv\n",
    "all_dogs.to_csv('./datasets/all_breeds_info.csv', index=False)"
   ]
  }
 ],
 "metadata": {
  "interpreter": {
   "hash": "b3ba2566441a7c06988d0923437866b63cedc61552a5af99d1f4fb67d367b25f"
  },
  "kernelspec": {
   "display_name": "Python 3.9.7 ('base')",
   "language": "python",
   "name": "python3"
  },
  "language_info": {
   "codemirror_mode": {
    "name": "ipython",
    "version": 3
   },
   "file_extension": ".py",
   "mimetype": "text/x-python",
   "name": "python",
   "nbconvert_exporter": "python",
   "pygments_lexer": "ipython3",
   "version": "3.9.7"
  },
  "orig_nbformat": 4
 },
 "nbformat": 4,
 "nbformat_minor": 2
}
