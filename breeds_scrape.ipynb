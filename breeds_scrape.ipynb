{
 "cells": [
  {
   "cell_type": "code",
   "execution_count": 184,
   "metadata": {},
   "outputs": [],
   "source": [
    "import pandas as pd\n",
    "import requests\n",
    "from bs4 import BeautifulSoup\n",
    "from time import sleep\n",
    "import re"
   ]
  },
  {
   "cell_type": "code",
   "execution_count": 185,
   "metadata": {},
   "outputs": [],
   "source": [
    "# url of mixed dog breeds\n",
    "url = 'https://www.dogbreedinfo.com/hybriddogs.htm'"
   ]
  },
  {
   "cell_type": "code",
   "execution_count": 186,
   "metadata": {},
   "outputs": [
    {
     "data": {
      "text/plain": [
       "200"
      ]
     },
     "execution_count": 186,
     "metadata": {},
     "output_type": "execute_result"
    }
   ],
   "source": [
    "res = requests.get(url)\n",
    "res.status_code"
   ]
  },
  {
   "cell_type": "code",
   "execution_count": 187,
   "metadata": {},
   "outputs": [],
   "source": [
    "# soup of all the <li> of dog breeds\n",
    "soup = BeautifulSoup(res.content, 'lxml')\n",
    "list_items = soup.find('div', {'class': 'container'}).find_all('li')"
   ]
  },
  {
   "cell_type": "markdown",
   "metadata": {},
   "source": [
    "# Extract dog name and breeds from soup"
   ]
  },
  {
   "cell_type": "code",
   "execution_count": 188,
   "metadata": {},
   "outputs": [],
   "source": [
    "# https://stackoverflow.com/questions/6116978/how-to-replace-multiple-substrings-of-a-string\n",
    "# Three lines of code below taken from stackoverflow, answered by Andrew Clark\n",
    "\n",
    "# dictionary of things to replace\n",
    "rep = {'(': '', ')':'', 'mix':'', ' - ':'', '\\xa0': ' ', '-\\t':'', '- ':'', '= ': ''}\n",
    "# this code does some stuff and works! \n",
    "# It goes along with the \"pattern.sub(lambda m: rep[re.escape(m.group(0))]\" used in the loop\n",
    "rep = dict((re.escape(k), v) for k, v in rep.items()) \n",
    "pattern = re.compile(\"|\".join(rep.keys()))\n",
    "\n",
    "\n",
    "# initialize empty list to add dogs to\n",
    "dogs = []\n",
    "\n",
    "# iterates over lists of dog names and breeds\n",
    "for li in list_items[5:]:\n",
    "\n",
    "    mutt = {}\n",
    "\n",
    "    # breaks out of lists of dogs at the end of the loop\n",
    "    if li.text == 'Mixed Breed Dog Information':\n",
    "        break\n",
    "\n",
    "    # if the <li> has an <a> tag\n",
    "    if li.find('a'):\n",
    "\n",
    "        # cleans the name of the dog\n",
    "        # regex pattern to sub characters from breeds. (parenthesis, the word 'mix', random chars, etc)\n",
    "        name = li.find('a').text.lower().strip()\n",
    "        breeds = pattern.sub(lambda m: rep[re.escape(m.group(0))], li.contents[-1]).lower().strip().split(' x ')\n",
    "\n",
    "        # assigns name and breeds to mutt dict\n",
    "        mutt['name'] = name\n",
    "        mutt['breeds'] = [breed.strip() for breed in breeds]\n",
    "\n",
    "    # if there is no <a> in the <li>\n",
    "    else:\n",
    "    \n",
    "        # cleans the name and breeds to be able to split. \".replace\" chains to make all input usuable\n",
    "        cleaned_name = li.text.lower().replace(' -', ' - ').replace('- ', ' - ').replace('\\xa0',' ').split(' - ')[0].strip()\n",
    "        cleaned_breed = li.text.lower().replace(' -', ' - ').replace('- ', ' - ').replace('\\xa0',' ').split(' - ')[1].strip()\n",
    "\n",
    "        # regex pattern to sub characters from name and breeds. (parenthesis, the word 'mix', random chars, etc)\n",
    "        name = pattern.sub(lambda m: rep[re.escape(m.group(0))], cleaned_name).strip()\n",
    "        breeds = pattern.sub(lambda m: rep[re.escape(m.group(0))], cleaned_breed).strip().split(' x ')\n",
    "\n",
    "        # assigns name and breeds to mutt dict\n",
    "        mutt['name'] = name\n",
    "        mutt['breeds'] = [breed.strip() for breed in breeds]\n",
    "\n",
    "    # appends dog name and breeds to dogs list\n",
    "    dogs.append(mutt)\n",
    "    # print(f\"{name} added.\")"
   ]
  },
  {
   "cell_type": "markdown",
   "metadata": {},
   "source": [
    "# Fixing breed names"
   ]
  },
  {
   "cell_type": "code",
   "execution_count": 189,
   "metadata": {},
   "outputs": [],
   "source": [
    "breeds_to_fix = []\n",
    "names = []\n",
    "\n",
    "# iterates over all the dogs\n",
    "for dog in dogs:\n",
    "    \n",
    "    # iterates over all the breeds for each dog\n",
    "    for breed in dog['breeds']:\n",
    "\n",
    "        # checks for weirdness in the breeds and assigns that dog to a list to be dealt with. BAD DOG!\n",
    "        if ' with ' in breed:\n",
    "            names.append(dog['name'])\n",
    "            breeds_to_fix.append(dog)\n",
    "        elif ' or ' in breed:\n",
    "            names.append(dog['name'])\n",
    "            breeds_to_fix.append(dog)\n",
    "        elif ' the ' in breed:\n",
    "            names.append(dog['name'])\n",
    "            breeds_to_fix.append(dog)\n",
    "        elif ' ed ' in breed:\n",
    "            names.append(dog['name'])\n",
    "            breeds_to_fix.append(dog)\n",
    "        elif ' Miniature ' in breed:\n",
    "            names.append(dog['name'])\n",
    "            breeds_to_fix.append(dog)\n",
    "        elif ' Toy ' in breed:\n",
    "            names.append(dog['name'])\n",
    "            breeds_to_fix.append(dog)\n",
    "        elif ' Mini ' in breed:\n",
    "            names.append(dog['name'])\n",
    "            breeds_to_fix.append(dog)"
   ]
  },
  {
   "cell_type": "code",
   "execution_count": 190,
   "metadata": {},
   "outputs": [],
   "source": [
    "# removes all the bad dogs\n",
    "for dog in dogs:\n",
    "    if dog['name'] in names:\n",
    "        dogs.remove(dog)"
   ]
  },
  {
   "cell_type": "code",
   "execution_count": 191,
   "metadata": {},
   "outputs": [
    {
     "data": {
      "text/plain": [
       "{'name': 'aussie-corgi',\n",
       " 'breeds': ['australian shepherd or miniature australian shepherd',\n",
       "  'pembroke welch corgi']}"
      ]
     },
     "execution_count": 191,
     "metadata": {},
     "output_type": "execute_result"
    }
   ],
   "source": [
    "breeds_to_fix[0]"
   ]
  },
  {
   "cell_type": "code",
   "execution_count": 192,
   "metadata": {},
   "outputs": [],
   "source": [
    "dogs.append(\n",
    "    {\n",
    "        \"name\": \"aussie-corgi\",\n",
    "        \"breeds\": [\"australian shepherd\", \"pembroke welch corgi\",],\n",
    "    }\n",
    ")\n",
    "\n",
    "dogs.append(\n",
    "    {\n",
    "        \"name\": \"aussie-corgi\",\n",
    "        \"breeds\": [\"miniature australian shepherd\", \"pembroke welch corgi\",],\n",
    "    }\n",
    ")"
   ]
  },
  {
   "cell_type": "code",
   "execution_count": 193,
   "metadata": {},
   "outputs": [
    {
     "data": {
      "text/plain": [
       "{'name': 'aussie pom',\n",
       " 'breeds': ['australian shepherd or mini or toy australian shepherd',\n",
       "  'pomeranian']}"
      ]
     },
     "execution_count": 193,
     "metadata": {},
     "output_type": "execute_result"
    }
   ],
   "source": [
    "breeds_to_fix[1]"
   ]
  },
  {
   "cell_type": "code",
   "execution_count": 194,
   "metadata": {},
   "outputs": [],
   "source": [
    "dogs.append(\n",
    "    {\"name\": \"aussie pom\", \"breeds\": [\"australian shepherd\", \"pomeranian\"],}\n",
    ")\n",
    "\n",
    "dogs.append(\n",
    "    {\"name\": \"aussie pom\", \"breeds\": [\"toy australian shepherd\", \"pomeranian\"],}\n",
    ")\n",
    "\n",
    "dogs.append(\n",
    "    {\"name\": \"aussie pom\", \"breeds\": [\"mini australian shepherd\", \"pomeranian\"],}\n",
    ")\n"
   ]
  },
  {
   "cell_type": "code",
   "execution_count": 195,
   "metadata": {},
   "outputs": [
    {
     "data": {
      "text/plain": [
       "{'name': 'austi-pap',\n",
       " 'breeds': ['australian shepherd standard, toy or miniature', 'papillon']}"
      ]
     },
     "execution_count": 195,
     "metadata": {},
     "output_type": "execute_result"
    }
   ],
   "source": [
    "breeds_to_fix[2]"
   ]
  },
  {
   "cell_type": "code",
   "execution_count": 196,
   "metadata": {},
   "outputs": [],
   "source": [
    "dogs.append(\n",
    "    {\"name\": \"austi-pap\", \"breeds\": [\"australian shepherd\", \"papillon\"],}\n",
    ")\n",
    "\n",
    "dogs.append(\n",
    "    {\"name\": \"austi-pap\", \"breeds\": [\"miniature australian shepherd\", \"papillon\"],}\n",
    ")\n",
    "\n",
    "dogs.append(\n",
    "    {\"name\": \"austi-pap\", \"breeds\": [\"toy australian shepherd\", \"papillon\"],}\n",
    ")"
   ]
  },
  {
   "cell_type": "code",
   "execution_count": 197,
   "metadata": {},
   "outputs": [
    {
     "data": {
      "text/plain": [
       "{'name': 'beagi', 'breeds': ['beagle', 'pembroke or cardigan welsh corgi']}"
      ]
     },
     "execution_count": 197,
     "metadata": {},
     "output_type": "execute_result"
    }
   ],
   "source": [
    "breeds_to_fix[3]"
   ]
  },
  {
   "cell_type": "code",
   "execution_count": 198,
   "metadata": {},
   "outputs": [],
   "source": [
    "dogs.append({\"name\": \"beagi\", \"breeds\": [\"beagle\", \"pembroke\"]})\n",
    "\n",
    "dogs.append({\"name\": \"beagi\", \"breeds\": [\"beagle\", \"cardigan welsh corgi\"]})"
   ]
  },
  {
   "cell_type": "code",
   "execution_count": 199,
   "metadata": {},
   "outputs": [
    {
     "data": {
      "text/plain": [
       "{'name': 'border stack',\n",
       " 'breeds': ['border collie ed with jack russell terrier',\n",
       "  'staffordshire bull terrier']}"
      ]
     },
     "execution_count": 199,
     "metadata": {},
     "output_type": "execute_result"
    }
   ],
   "source": [
    "breeds_to_fix[4]"
   ]
  },
  {
   "cell_type": "code",
   "execution_count": 200,
   "metadata": {},
   "outputs": [
    {
     "data": {
      "text/plain": [
       "{'name': 'border stack',\n",
       " 'breeds': ['border collie ed with jack russell terrier',\n",
       "  'staffordshire bull terrier']}"
      ]
     },
     "execution_count": 200,
     "metadata": {},
     "output_type": "execute_result"
    }
   ],
   "source": [
    "# what to do here?\n",
    "{\n",
    "    \"name\": \"border stack\",\n",
    "    \"breeds\": [\n",
    "        \"border collie ed with jack russell terrier\",\n",
    "        \"staffordshire bull terrier\",\n",
    "    ],\n",
    "}\n",
    "\n",
    "{\n",
    "    \"name\": \"border stack\",\n",
    "    \"breeds\": [\n",
    "        \"border collie ed with jack russell terrier\",\n",
    "        \"staffordshire bull terrier\",\n",
    "    ],\n",
    "}"
   ]
  },
  {
   "cell_type": "code",
   "execution_count": 201,
   "metadata": {},
   "outputs": [
    {
     "data": {
      "text/plain": [
       "{'name': 'bully pitsky',\n",
       " 'breeds': ['american bully', 'siberian husky or alaskan husky']}"
      ]
     },
     "execution_count": 201,
     "metadata": {},
     "output_type": "execute_result"
    }
   ],
   "source": [
    "breeds_to_fix[5]"
   ]
  },
  {
   "cell_type": "code",
   "execution_count": 202,
   "metadata": {},
   "outputs": [],
   "source": [
    "dogs.append(\n",
    "    {\"name\": \"bully pitsky\", \"breeds\": [\"american bully\", \"siberian husky\"],}\n",
    ")\n",
    "\n",
    "dogs.append(\n",
    "    {\"name\": \"bully pitsky\", \"breeds\": [\"american bully\", \"alaskan husky\"],}\n",
    ")"
   ]
  },
  {
   "cell_type": "code",
   "execution_count": 203,
   "metadata": {},
   "outputs": [
    {
     "data": {
      "text/plain": [
       "{'name': 'cotralian',\n",
       " 'breeds': ['cocker spaniel',\n",
       "  'standard, miniature or toy australian shepherd']}"
      ]
     },
     "execution_count": 203,
     "metadata": {},
     "output_type": "execute_result"
    }
   ],
   "source": [
    "breeds_to_fix[6]"
   ]
  },
  {
   "cell_type": "code",
   "execution_count": 204,
   "metadata": {},
   "outputs": [],
   "source": [
    "dogs.append(\n",
    "    {\"name\": \"cotralian\", \"breeds\": [\"cocker spaniel\", \"australian shepherd\"],}\n",
    ")\n",
    "\n",
    "dogs.append(\n",
    "    {\"name\": \"cotralian\", \"breeds\": [\"cocker spaniel\", \"toy australian shepherd\"],}\n",
    ")\n",
    "\n",
    "dogs.append(\n",
    "    {\n",
    "        \"name\": \"cotralian\",\n",
    "        \"breeds\": [\"cocker spaniel\", \"miniature australian shepherd\"],\n",
    "    }\n",
    ")"
   ]
  },
  {
   "cell_type": "code",
   "execution_count": 205,
   "metadata": {},
   "outputs": [
    {
     "data": {
      "text/plain": [
       "{'name': 'english cotralian',\n",
       " 'breeds': ['english cocker spaniel',\n",
       "  'standard, miniature or toy australian shepherd']}"
      ]
     },
     "execution_count": 205,
     "metadata": {},
     "output_type": "execute_result"
    }
   ],
   "source": [
    "breeds_to_fix[7]"
   ]
  },
  {
   "cell_type": "code",
   "execution_count": 206,
   "metadata": {},
   "outputs": [],
   "source": [
    "dogs.append(\n",
    "    {\n",
    "        \"name\": \"english cotralian\",\n",
    "        \"breeds\": [\"english cocker spaniel\", \"australian shepherd\",],\n",
    "    }\n",
    ")\n",
    "\n",
    "dogs.append(\n",
    "    {\n",
    "        \"name\": \"english cotralian\",\n",
    "        \"breeds\": [\"english cocker spaniel\", \"toy australian shepherd\",],\n",
    "    }\n",
    ")\n",
    "\n",
    "dogs.append(\n",
    "    {\n",
    "        \"name\": \"english cotralian\",\n",
    "        \"breeds\": [\"english cocker spaniel\", \"miniature australian shepherd\",],\n",
    "    }\n",
    ")"
   ]
  },
  {
   "cell_type": "code",
   "execution_count": 207,
   "metadata": {},
   "outputs": [
    {
     "data": {
      "text/plain": [
       "{'name': 'labradoodle miniature',\n",
       " 'breeds': ['labrador retriever', 'toy or miniature poodle']}"
      ]
     },
     "execution_count": 207,
     "metadata": {},
     "output_type": "execute_result"
    }
   ],
   "source": [
    "breeds_to_fix[8]"
   ]
  },
  {
   "cell_type": "code",
   "execution_count": 208,
   "metadata": {},
   "outputs": [],
   "source": [
    "dogs.append(\n",
    "    {\n",
    "        \"name\": \"labradoodle miniature\",\n",
    "        \"breeds\": [\"labrador retriever\", \"miniature poodle\"],\n",
    "    }\n",
    ")\n",
    "\n",
    "dogs.append(\n",
    "    {\"name\": \"labradoodle miniature\", \"breeds\": [\"labrador retriever\", \"toy poodle\"],}\n",
    ")"
   ]
  },
  {
   "cell_type": "code",
   "execution_count": 209,
   "metadata": {},
   "outputs": [
    {
     "data": {
      "text/plain": [
       "{'name': 'miniature goldendoodle',\n",
       " 'breeds': ['golden retriever', 'toy or miniature poodle']}"
      ]
     },
     "execution_count": 209,
     "metadata": {},
     "output_type": "execute_result"
    }
   ],
   "source": [
    "breeds_to_fix[9]"
   ]
  },
  {
   "cell_type": "code",
   "execution_count": 210,
   "metadata": {},
   "outputs": [],
   "source": [
    "dogs.append({\n",
    "    \"name\": \"miniature goldendoodle\",\n",
    "    \"breeds\": [\"golden retriever\", \"miniature poodle\"],\n",
    "})\n",
    "\n",
    "dogs.append({\n",
    "    \"name\": \"miniature goldendoodle\",\n",
    "    \"breeds\": [\"golden retriever\", \"toy poodle\"],\n",
    "})"
   ]
  },
  {
   "cell_type": "code",
   "execution_count": 211,
   "metadata": {},
   "outputs": [
    {
     "data": {
      "text/plain": [
       "{'name': 'miniature labradoodle',\n",
       " 'breeds': ['labrador retriever', 'toy or miniature poodle']}"
      ]
     },
     "execution_count": 211,
     "metadata": {},
     "output_type": "execute_result"
    }
   ],
   "source": [
    "breeds_to_fix[10]"
   ]
  },
  {
   "cell_type": "code",
   "execution_count": 212,
   "metadata": {},
   "outputs": [],
   "source": [
    "dogs.append(\n",
    "    {\n",
    "        \"name\": \"miniature labradoodle\",\n",
    "        \"breeds\": [\"labrador retriever\", \"miniature poodle\"],\n",
    "    }\n",
    ")\n",
    "\n",
    "dogs.append(\n",
    "    {\"name\": \"miniature labradoodle\", \"breeds\": [\"labrador retriever\", \"toy poodle\"],}\n",
    ")"
   ]
  },
  {
   "cell_type": "code",
   "execution_count": 213,
   "metadata": {},
   "outputs": [
    {
     "data": {
      "text/plain": [
       "{'name': 'old anglican bulldogge',\n",
       " 'breeds': ['american pit bull terrier or american staffordshire terrier',\n",
       "  'bulldog']}"
      ]
     },
     "execution_count": 213,
     "metadata": {},
     "output_type": "execute_result"
    }
   ],
   "source": [
    "breeds_to_fix[11]"
   ]
  },
  {
   "cell_type": "code",
   "execution_count": 214,
   "metadata": {},
   "outputs": [],
   "source": [
    "dogs.append(\n",
    "    {\n",
    "        \"name\": \"old anglican bulldogge\",\n",
    "        \"breeds\": [\"american pit bull terrier\", \"bulldog\",],\n",
    "    }\n",
    ")\n",
    "\n",
    "dogs.append(\n",
    "    {\n",
    "        \"name\": \"old anglican bulldogge\",\n",
    "        \"breeds\": [\"american staffordshire terrier\", \"bulldog\",],\n",
    "    }\n",
    ")"
   ]
  },
  {
   "cell_type": "code",
   "execution_count": 215,
   "metadata": {},
   "outputs": [
    {
     "data": {
      "text/plain": [
       "{'name': 'pitsky',\n",
       " 'breeds': ['american pitbull terrier', 'siberian husky or alaskan husky']}"
      ]
     },
     "execution_count": 215,
     "metadata": {},
     "output_type": "execute_result"
    }
   ],
   "source": [
    "breeds_to_fix[12]"
   ]
  },
  {
   "cell_type": "code",
   "execution_count": 216,
   "metadata": {},
   "outputs": [],
   "source": [
    "dogs.append({\"name\": \"pitsky\", \"breeds\": [\"american pitbull terrier\", \"alaskan husky\"]})\n",
    "\n",
    "dogs.append({\"name\": \"pitsky\", \"breeds\": [\"american pitbull terrier\", \"siberian husky\"]})"
   ]
  },
  {
   "cell_type": "code",
   "execution_count": 217,
   "metadata": {},
   "outputs": [
    {
     "data": {
      "text/plain": [
       "{'name': 'shel-aussie',\n",
       " 'breeds': ['australian shepherd or miniature australian shepherd',\n",
       "  'shetland sheepdog']}"
      ]
     },
     "execution_count": 217,
     "metadata": {},
     "output_type": "execute_result"
    }
   ],
   "source": [
    "breeds_to_fix[13]"
   ]
  },
  {
   "cell_type": "code",
   "execution_count": 218,
   "metadata": {},
   "outputs": [],
   "source": [
    "dogs.append(\n",
    "    {\"name\": \"shel-aussie\", \"breeds\": [\"australian shepherd\", \"shetland sheepdog\",],}\n",
    ")\n",
    "\n",
    "dogs.append(\n",
    "    {\n",
    "        \"name\": \"shel-aussie\",\n",
    "        \"breeds\": [\"miniature australian shepherd\", \"shetland sheepdog\",],\n",
    "    }\n",
    ")"
   ]
  },
  {
   "cell_type": "code",
   "execution_count": 219,
   "metadata": {},
   "outputs": [
    {
     "data": {
      "text/plain": [
       "{'name': 'sibercaan',\n",
       " 'breeds': ['siberian husky or native american indian dog', 'canaan dog']}"
      ]
     },
     "execution_count": 219,
     "metadata": {},
     "output_type": "execute_result"
    }
   ],
   "source": [
    "breeds_to_fix[14]"
   ]
  },
  {
   "cell_type": "code",
   "execution_count": 220,
   "metadata": {},
   "outputs": [],
   "source": [
    "dogs.append({\"name\": \"sibercaan\", \"breeds\": [\"siberian husky\", \"canaan dog\"]})\n",
    "\n",
    "dogs.append(\n",
    "    {\"name\": \"sibercaan\", \"breeds\": [\"native american indian dog\", \"canaan dog\"]}\n",
    ")"
   ]
  },
  {
   "cell_type": "code",
   "execution_count": 221,
   "metadata": {},
   "outputs": [
    {
     "data": {
      "text/html": [
       "<div>\n",
       "<style scoped>\n",
       "    .dataframe tbody tr th:only-of-type {\n",
       "        vertical-align: middle;\n",
       "    }\n",
       "\n",
       "    .dataframe tbody tr th {\n",
       "        vertical-align: top;\n",
       "    }\n",
       "\n",
       "    .dataframe thead th {\n",
       "        text-align: right;\n",
       "    }\n",
       "</style>\n",
       "<table border=\"1\" class=\"dataframe\">\n",
       "  <thead>\n",
       "    <tr style=\"text-align: right;\">\n",
       "      <th></th>\n",
       "      <th>name</th>\n",
       "      <th>breeds</th>\n",
       "    </tr>\n",
       "  </thead>\n",
       "  <tbody>\n",
       "    <tr>\n",
       "      <th>0</th>\n",
       "      <td>afador</td>\n",
       "      <td>[afghan hound, labrador retriever]</td>\n",
       "    </tr>\n",
       "    <tr>\n",
       "      <th>1</th>\n",
       "      <td>afaird</td>\n",
       "      <td>[afghan hound, briard]</td>\n",
       "    </tr>\n",
       "    <tr>\n",
       "      <th>2</th>\n",
       "      <td>affen spaniel</td>\n",
       "      <td>[affenpinscher, cocker spaniel]</td>\n",
       "    </tr>\n",
       "    <tr>\n",
       "      <th>3</th>\n",
       "      <td>affen border terrier</td>\n",
       "      <td>[affenpinscher, border terrier]</td>\n",
       "    </tr>\n",
       "    <tr>\n",
       "      <th>4</th>\n",
       "      <td>affen tzu</td>\n",
       "      <td>[affenpinscher, shih tzu]</td>\n",
       "    </tr>\n",
       "  </tbody>\n",
       "</table>\n",
       "</div>"
      ],
      "text/plain": [
       "                   name                              breeds\n",
       "0                afador  [afghan hound, labrador retriever]\n",
       "1                afaird              [afghan hound, briard]\n",
       "2         affen spaniel     [affenpinscher, cocker spaniel]\n",
       "3  affen border terrier     [affenpinscher, border terrier]\n",
       "4             affen tzu           [affenpinscher, shih tzu]"
      ]
     },
     "execution_count": 221,
     "metadata": {},
     "output_type": "execute_result"
    }
   ],
   "source": [
    "df = pd.DataFrame(dogs)\n",
    "df.head()"
   ]
  },
  {
   "cell_type": "code",
   "execution_count": 222,
   "metadata": {},
   "outputs": [],
   "source": [
    "df = df[df['name'] != 'minicoonhound']"
   ]
  },
  {
   "cell_type": "code",
   "execution_count": 223,
   "metadata": {},
   "outputs": [],
   "source": [
    "df.to_csv('./datasets/mutts.csv', index=False)"
   ]
  }
 ],
 "metadata": {
  "interpreter": {
   "hash": "b3ba2566441a7c06988d0923437866b63cedc61552a5af99d1f4fb67d367b25f"
  },
  "kernelspec": {
   "display_name": "Python 3.9.7 ('base')",
   "language": "python",
   "name": "python3"
  },
  "language_info": {
   "codemirror_mode": {
    "name": "ipython",
    "version": 3
   },
   "file_extension": ".py",
   "mimetype": "text/x-python",
   "name": "python",
   "nbconvert_exporter": "python",
   "pygments_lexer": "ipython3",
   "version": "3.9.7"
  },
  "orig_nbformat": 4
 },
 "nbformat": 4,
 "nbformat_minor": 2
}
