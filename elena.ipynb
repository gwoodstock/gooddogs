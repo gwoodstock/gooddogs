{
 "cells": [
  {
   "cell_type": "markdown",
   "metadata": {},
   "source": []
  },
  {
   "cell_type": "code",
   "execution_count": 1,
   "metadata": {},
   "outputs": [],
   "source": [
    "import pandas as pd"
   ]
  },
  {
   "cell_type": "code",
   "execution_count": 5,
   "metadata": {},
   "outputs": [
    {
     "data": {
      "text/html": [
       "<div>\n",
       "<style scoped>\n",
       "    .dataframe tbody tr th:only-of-type {\n",
       "        vertical-align: middle;\n",
       "    }\n",
       "\n",
       "    .dataframe tbody tr th {\n",
       "        vertical-align: top;\n",
       "    }\n",
       "\n",
       "    .dataframe thead th {\n",
       "        text-align: right;\n",
       "    }\n",
       "</style>\n",
       "<table border=\"1\" class=\"dataframe\">\n",
       "  <thead>\n",
       "    <tr style=\"text-align: right;\">\n",
       "      <th></th>\n",
       "      <th>UniqueID</th>\n",
       "      <th>DateOfBite</th>\n",
       "      <th>Species</th>\n",
       "      <th>Breed</th>\n",
       "      <th>Age</th>\n",
       "      <th>Gender</th>\n",
       "      <th>SpayNeuter</th>\n",
       "      <th>Borough</th>\n",
       "      <th>ZipCode</th>\n",
       "    </tr>\n",
       "  </thead>\n",
       "  <tbody>\n",
       "    <tr>\n",
       "      <th>0</th>\n",
       "      <td>8140</td>\n",
       "      <td>December 02 2015</td>\n",
       "      <td>DOG</td>\n",
       "      <td>Pug</td>\n",
       "      <td>7</td>\n",
       "      <td>F</td>\n",
       "      <td>True</td>\n",
       "      <td>Staten Island</td>\n",
       "      <td>NaN</td>\n",
       "    </tr>\n",
       "    <tr>\n",
       "      <th>1</th>\n",
       "      <td>1</td>\n",
       "      <td>January 27 2015</td>\n",
       "      <td>DOG</td>\n",
       "      <td>Jack Russ</td>\n",
       "      <td>11</td>\n",
       "      <td>M</td>\n",
       "      <td>False</td>\n",
       "      <td>Brooklyn</td>\n",
       "      <td>11217</td>\n",
       "    </tr>\n",
       "    <tr>\n",
       "      <th>2</th>\n",
       "      <td>2</td>\n",
       "      <td>January 25 2015</td>\n",
       "      <td>DOG</td>\n",
       "      <td>Mastiff, Bull</td>\n",
       "      <td>NaN</td>\n",
       "      <td>U</td>\n",
       "      <td>False</td>\n",
       "      <td>Brooklyn</td>\n",
       "      <td>NaN</td>\n",
       "    </tr>\n",
       "    <tr>\n",
       "      <th>3</th>\n",
       "      <td>3</td>\n",
       "      <td>January 20 2015</td>\n",
       "      <td>DOG</td>\n",
       "      <td>PIT BULL/GOLDEN RETRIVE X</td>\n",
       "      <td>NaN</td>\n",
       "      <td>U</td>\n",
       "      <td>False</td>\n",
       "      <td>Brooklyn</td>\n",
       "      <td>11236</td>\n",
       "    </tr>\n",
       "    <tr>\n",
       "      <th>4</th>\n",
       "      <td>4</td>\n",
       "      <td>December 26 2014</td>\n",
       "      <td>DOG</td>\n",
       "      <td>Doberman Pinscher</td>\n",
       "      <td>NaN</td>\n",
       "      <td>M</td>\n",
       "      <td>False</td>\n",
       "      <td>Brooklyn</td>\n",
       "      <td>11204</td>\n",
       "    </tr>\n",
       "    <tr>\n",
       "      <th>...</th>\n",
       "      <td>...</td>\n",
       "      <td>...</td>\n",
       "      <td>...</td>\n",
       "      <td>...</td>\n",
       "      <td>...</td>\n",
       "      <td>...</td>\n",
       "      <td>...</td>\n",
       "      <td>...</td>\n",
       "      <td>...</td>\n",
       "    </tr>\n",
       "    <tr>\n",
       "      <th>8702</th>\n",
       "      <td>8703</td>\n",
       "      <td>January 05 2018</td>\n",
       "      <td>DOG</td>\n",
       "      <td>Boxer</td>\n",
       "      <td>NaN</td>\n",
       "      <td>U</td>\n",
       "      <td>False</td>\n",
       "      <td>Staten Island</td>\n",
       "      <td>10309</td>\n",
       "    </tr>\n",
       "    <tr>\n",
       "      <th>8703</th>\n",
       "      <td>8704</td>\n",
       "      <td>January 06 2018</td>\n",
       "      <td>DOG</td>\n",
       "      <td>MIXED BREED</td>\n",
       "      <td>NaN</td>\n",
       "      <td>M</td>\n",
       "      <td>False</td>\n",
       "      <td>Staten Island</td>\n",
       "      <td>NaN</td>\n",
       "    </tr>\n",
       "    <tr>\n",
       "      <th>8704</th>\n",
       "      <td>8705</td>\n",
       "      <td>January 08 2018</td>\n",
       "      <td>DOG</td>\n",
       "      <td>Poodle, Miniature</td>\n",
       "      <td>NaN</td>\n",
       "      <td>M</td>\n",
       "      <td>True</td>\n",
       "      <td>Staten Island</td>\n",
       "      <td>10314</td>\n",
       "    </tr>\n",
       "    <tr>\n",
       "      <th>8705</th>\n",
       "      <td>8706</td>\n",
       "      <td>January 14 2018</td>\n",
       "      <td>DOG</td>\n",
       "      <td>Mixed/Other</td>\n",
       "      <td>2</td>\n",
       "      <td>U</td>\n",
       "      <td>False</td>\n",
       "      <td>Staten Island</td>\n",
       "      <td>10312</td>\n",
       "    </tr>\n",
       "    <tr>\n",
       "      <th>8706</th>\n",
       "      <td>8707</td>\n",
       "      <td>January 24 2018</td>\n",
       "      <td>DOG</td>\n",
       "      <td>Pit Bull</td>\n",
       "      <td>1</td>\n",
       "      <td>U</td>\n",
       "      <td>False</td>\n",
       "      <td>Staten Island</td>\n",
       "      <td>NaN</td>\n",
       "    </tr>\n",
       "  </tbody>\n",
       "</table>\n",
       "<p>8707 rows × 9 columns</p>\n",
       "</div>"
      ],
      "text/plain": [
       "      UniqueID        DateOfBite Species                      Breed  Age  \\\n",
       "0         8140  December 02 2015     DOG                        Pug    7   \n",
       "1            1   January 27 2015     DOG                  Jack Russ   11   \n",
       "2            2   January 25 2015     DOG              Mastiff, Bull  NaN   \n",
       "3            3   January 20 2015     DOG  PIT BULL/GOLDEN RETRIVE X  NaN   \n",
       "4            4  December 26 2014     DOG          Doberman Pinscher  NaN   \n",
       "...        ...               ...     ...                        ...  ...   \n",
       "8702      8703   January 05 2018     DOG                      Boxer  NaN   \n",
       "8703      8704   January 06 2018     DOG                MIXED BREED  NaN   \n",
       "8704      8705   January 08 2018     DOG          Poodle, Miniature  NaN   \n",
       "8705      8706   January 14 2018     DOG                Mixed/Other    2   \n",
       "8706      8707   January 24 2018     DOG                   Pit Bull    1   \n",
       "\n",
       "     Gender  SpayNeuter        Borough ZipCode  \n",
       "0         F        True  Staten Island     NaN  \n",
       "1         M       False       Brooklyn   11217  \n",
       "2         U       False       Brooklyn     NaN  \n",
       "3         U       False       Brooklyn   11236  \n",
       "4         M       False       Brooklyn   11204  \n",
       "...     ...         ...            ...     ...  \n",
       "8702      U       False  Staten Island   10309  \n",
       "8703      M       False  Staten Island     NaN  \n",
       "8704      M        True  Staten Island   10314  \n",
       "8705      U       False  Staten Island   10312  \n",
       "8706      U       False  Staten Island     NaN  \n",
       "\n",
       "[8707 rows x 9 columns]"
      ]
     },
     "execution_count": 5,
     "metadata": {},
     "output_type": "execute_result"
    }
   ],
   "source": [
    "df = pd.read_csv('./datasets/new_york_dog_bite_data.csv')\n",
    "df                                                                                                                                                                                                                  "
   ]
  },
  {
   "cell_type": "code",
   "execution_count": 6,
   "metadata": {},
   "outputs": [
    {
     "data": {
      "text/plain": [
       "8707"
      ]
     },
     "execution_count": 6,
     "metadata": {},
     "output_type": "execute_result"
    }
   ],
   "source": [
    "len(df['UniqueID'].unique())"
   ]
  },
  {
   "cell_type": "code",
   "execution_count": 7,
   "metadata": {},
   "outputs": [
    {
     "data": {
      "text/plain": [
       "M    4121\n",
       "U    2978\n",
       "F    1608\n",
       "Name: Gender, dtype: int64"
      ]
     },
     "execution_count": 7,
     "metadata": {},
     "output_type": "execute_result"
    }
   ],
   "source": [
    "df['Gender'].value_counts()"
   ]
  },
  {
   "cell_type": "code",
   "execution_count": 8,
   "metadata": {},
   "outputs": [
    {
     "data": {
      "text/plain": [
       "False    5735\n",
       "True     2972\n",
       "Name: SpayNeuter, dtype: int64"
      ]
     },
     "execution_count": 8,
     "metadata": {},
     "output_type": "execute_result"
    }
   ],
   "source": [
    "df['SpayNeuter'].value_counts()"
   ]
  },
  {
   "cell_type": "code",
   "execution_count": 9,
   "metadata": {},
   "outputs": [
    {
     "data": {
      "text/plain": [
       "DOG    8707\n",
       "Name: Species, dtype: int64"
      ]
     },
     "execution_count": 9,
     "metadata": {},
     "output_type": "execute_result"
    }
   ],
   "source": [
    "df['Species'].value_counts()"
   ]
  },
  {
   "cell_type": "code",
   "execution_count": 10,
   "metadata": {},
   "outputs": [],
   "source": [
    "df = df.drop(columns = ['Species'])"
   ]
  },
  {
   "cell_type": "code",
   "execution_count": 16,
   "metadata": {},
   "outputs": [
    {
     "data": {
      "text/plain": [
       "11Y                        3\n",
       "4MTHS                      3\n",
       "6 YRS                      3\n",
       "1 YR                       3\n",
       "9MTHS                      2\n",
       "                          ..\n",
       "2018-09-10T00:00:00.000    1\n",
       "6y                         1\n",
       "19                         1\n",
       "3 & 4                      1\n",
       "3y                         1\n",
       "Name: Age, Length: 100, dtype: int64"
      ]
     },
     "execution_count": 16,
     "metadata": {},
     "output_type": "execute_result"
    }
   ],
   "source": [
    "df['Age'].value_counts().tail(0)"
   ]
  },
  {
   "cell_type": "code",
   "execution_count": 18,
   "metadata": {},
   "outputs": [
    {
     "data": {
      "text/plain": [
       "2.0     817\n",
       "3.0     734\n",
       "1.0     653\n",
       "4.0     550\n",
       "5.0     506\n",
       "6.0     388\n",
       "7.0     315\n",
       "8.0     278\n",
       "9.0     160\n",
       "10.0    157\n",
       "11.0     98\n",
       "12.0     67\n",
       "13.0     57\n",
       "0.0      43\n",
       "14.0     32\n",
       "15.0     22\n",
       "16.0     12\n",
       "2.5       6\n",
       "17.0      3\n",
       "4.6       2\n",
       "3.5       2\n",
       "1.6       2\n",
       "1.3       2\n",
       "1.5       2\n",
       "2.6       1\n",
       "15.5      1\n",
       "19.0      1\n",
       "0.6       1\n",
       "6.5       1\n",
       "3.6       1\n",
       "10.5      1\n",
       "4.5       1\n",
       "0.2       1\n",
       "1.8       1\n",
       "21.0      1\n",
       "Name: Age_num, dtype: int64"
      ]
     },
     "execution_count": 18,
     "metadata": {},
     "output_type": "execute_result"
    }
   ],
   "source": [
    "df['Age_num'] = df.Age.str.extract(r'(\\d+[.\\d]*$)')\n",
    "df['Age_num'] = df['Age_num'].astype(float)\n",
    "df['Age_num'].value_counts()"
   ]
  },
  {
   "cell_type": "code",
   "execution_count": null,
   "metadata": {},
   "outputs": [],
   "source": []
  },
  {
   "cell_type": "code",
   "execution_count": null,
   "metadata": {},
   "outputs": [],
   "source": []
  },
  {
   "cell_type": "code",
   "execution_count": null,
   "metadata": {},
   "outputs": [],
   "source": []
  },
  {
   "cell_type": "code",
   "execution_count": null,
   "metadata": {},
   "outputs": [],
   "source": []
  }
 ],
 "metadata": {
  "interpreter": {
   "hash": "40d3a090f54c6569ab1632332b64b2c03c39dcf918b08424e98f38b5ae0af88f"
  },
  "kernelspec": {
   "display_name": "Python 3.8.8 ('base')",
   "language": "python",
   "name": "python3"
  },
  "language_info": {
   "codemirror_mode": {
    "name": "ipython",
    "version": 3
   },
   "file_extension": ".py",
   "mimetype": "text/x-python",
   "name": "python",
   "nbconvert_exporter": "python",
   "pygments_lexer": "ipython3",
   "version": "3.8.8"
  },
  "orig_nbformat": 4
 },
 "nbformat": 4,
 "nbformat_minor": 2
}
