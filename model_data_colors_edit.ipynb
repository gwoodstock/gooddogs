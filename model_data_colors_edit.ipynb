{
 "cells": [
  {
   "cell_type": "code",
   "execution_count": 1,
   "metadata": {},
   "outputs": [],
   "source": [
    "import pandas as pd"
   ]
  },
  {
   "cell_type": "code",
   "execution_count": 3,
   "metadata": {},
   "outputs": [],
   "source": [
    "model_data = pd.read_csv('group_project4/project4/datasets/cleaned_data/model_data.csv')"
   ]
  },
  {
   "cell_type": "code",
   "execution_count": 8,
   "metadata": {},
   "outputs": [
    {
     "data": {
      "text/html": [
       "<div>\n",
       "<style scoped>\n",
       "    .dataframe tbody tr th:only-of-type {\n",
       "        vertical-align: middle;\n",
       "    }\n",
       "\n",
       "    .dataframe tbody tr th {\n",
       "        vertical-align: top;\n",
       "    }\n",
       "\n",
       "    .dataframe thead th {\n",
       "        text-align: right;\n",
       "    }\n",
       "</style>\n",
       "<table border=\"1\" class=\"dataframe\">\n",
       "  <thead>\n",
       "    <tr style=\"text-align: right;\">\n",
       "      <th></th>\n",
       "      <th>cond</th>\n",
       "      <th>age</th>\n",
       "      <th>color</th>\n",
       "      <th>breed</th>\n",
       "      <th>target</th>\n",
       "    </tr>\n",
       "  </thead>\n",
       "  <tbody>\n",
       "    <tr>\n",
       "      <th>0</th>\n",
       "      <td>normal</td>\n",
       "      <td>Senior</td>\n",
       "      <td>black</td>\n",
       "      <td>dachshund</td>\n",
       "      <td>1</td>\n",
       "    </tr>\n",
       "    <tr>\n",
       "      <th>1</th>\n",
       "      <td>aged</td>\n",
       "      <td>Senior</td>\n",
       "      <td>tan</td>\n",
       "      <td>chihuahua</td>\n",
       "      <td>0</td>\n",
       "    </tr>\n",
       "  </tbody>\n",
       "</table>\n",
       "</div>"
      ],
      "text/plain": [
       "     cond     age  color      breed  target\n",
       "0  normal  Senior  black  dachshund       1\n",
       "1    aged  Senior    tan  chihuahua       0"
      ]
     },
     "execution_count": 8,
     "metadata": {},
     "output_type": "execute_result"
    }
   ],
   "source": [
    "model_data.head(2)"
   ]
  },
  {
   "cell_type": "code",
   "execution_count": 6,
   "metadata": {},
   "outputs": [],
   "source": [
    "petfinder_data = pd.read_csv('group_project4/project4/datasets/cleaned_data/petfinder.csv')"
   ]
  },
  {
   "cell_type": "code",
   "execution_count": 9,
   "metadata": {},
   "outputs": [
    {
     "data": {
      "text/html": [
       "<div>\n",
       "<style scoped>\n",
       "    .dataframe tbody tr th:only-of-type {\n",
       "        vertical-align: middle;\n",
       "    }\n",
       "\n",
       "    .dataframe tbody tr th {\n",
       "        vertical-align: top;\n",
       "    }\n",
       "\n",
       "    .dataframe thead th {\n",
       "        text-align: right;\n",
       "    }\n",
       "</style>\n",
       "<table border=\"1\" class=\"dataframe\">\n",
       "  <thead>\n",
       "    <tr style=\"text-align: right;\">\n",
       "      <th></th>\n",
       "      <th>age</th>\n",
       "      <th>gender</th>\n",
       "      <th>size</th>\n",
       "      <th>name</th>\n",
       "      <th>breed_1</th>\n",
       "      <th>breed_2</th>\n",
       "      <th>purebreed</th>\n",
       "      <th>color</th>\n",
       "      <th>intact_out</th>\n",
       "      <th>injured</th>\n",
       "      <th>age_out</th>\n",
       "      <th>primary_color</th>\n",
       "      <th>secondary_color</th>\n",
       "    </tr>\n",
       "  </thead>\n",
       "  <tbody>\n",
       "    <tr>\n",
       "      <th>0</th>\n",
       "      <td>Adult</td>\n",
       "      <td>1</td>\n",
       "      <td>Medium</td>\n",
       "      <td>Chip</td>\n",
       "      <td>Labrador Retriever</td>\n",
       "      <td>NaN</td>\n",
       "      <td>0</td>\n",
       "      <td>['black', 'black']</td>\n",
       "      <td>1</td>\n",
       "      <td>0</td>\n",
       "      <td>3.58</td>\n",
       "      <td>black</td>\n",
       "      <td>black</td>\n",
       "    </tr>\n",
       "    <tr>\n",
       "      <th>1</th>\n",
       "      <td>Baby</td>\n",
       "      <td>0</td>\n",
       "      <td>Small</td>\n",
       "      <td>Clover D220199</td>\n",
       "      <td>Terrier</td>\n",
       "      <td>NaN</td>\n",
       "      <td>0</td>\n",
       "      <td>NaN</td>\n",
       "      <td>1</td>\n",
       "      <td>0</td>\n",
       "      <td>0.00</td>\n",
       "      <td>NaN</td>\n",
       "      <td>NaN</td>\n",
       "    </tr>\n",
       "  </tbody>\n",
       "</table>\n",
       "</div>"
      ],
      "text/plain": [
       "     age  gender    size            name             breed_1 breed_2  \\\n",
       "0  Adult       1  Medium            Chip  Labrador Retriever     NaN   \n",
       "1   Baby       0   Small  Clover D220199             Terrier     NaN   \n",
       "\n",
       "   purebreed               color  intact_out  injured  age_out primary_color  \\\n",
       "0          0  ['black', 'black']           1        0     3.58         black   \n",
       "1          0                 NaN           1        0     0.00           NaN   \n",
       "\n",
       "  secondary_color  \n",
       "0           black  \n",
       "1             NaN  "
      ]
     },
     "execution_count": 9,
     "metadata": {},
     "output_type": "execute_result"
    }
   ],
   "source": [
    "petfinder_data.head(2)"
   ]
  },
  {
   "cell_type": "code",
   "execution_count": 17,
   "metadata": {},
   "outputs": [],
   "source": [
    "pf_colors = set(petfinder_data['primary_color'])"
   ]
  },
  {
   "cell_type": "code",
   "execution_count": 21,
   "metadata": {},
   "outputs": [
    {
     "data": {
      "text/plain": [
       "{'apricot',\n",
       " 'black',\n",
       " 'brindle',\n",
       " 'brown',\n",
       " 'gold',\n",
       " 'gray',\n",
       " 'merle',\n",
       " nan,\n",
       " 'red',\n",
       " 'sable',\n",
       " 'tricolor',\n",
       " 'white',\n",
       " 'yellow'}"
      ]
     },
     "execution_count": 21,
     "metadata": {},
     "output_type": "execute_result"
    }
   ],
   "source": [
    "pf_colors"
   ]
  },
  {
   "cell_type": "code",
   "execution_count": 22,
   "metadata": {},
   "outputs": [
    {
     "data": {
      "text/plain": [
       "{'apricot',\n",
       " 'black',\n",
       " 'blue',\n",
       " 'brown',\n",
       " 'buff',\n",
       " 'chocolate',\n",
       " 'cream',\n",
       " 'fawn',\n",
       " 'gold',\n",
       " 'gray',\n",
       " 'liver',\n",
       " 'red',\n",
       " 'ruddy',\n",
       " 'sable',\n",
       " 'silver',\n",
       " 'tan',\n",
       " 'tricolor',\n",
       " 'white',\n",
       " 'yellow'}"
      ]
     },
     "execution_count": 22,
     "metadata": {},
     "output_type": "execute_result"
    }
   ],
   "source": [
    "model_colors"
   ]
  },
  {
   "cell_type": "code",
   "execution_count": 16,
   "metadata": {},
   "outputs": [],
   "source": [
    "model_colors = set(model_data['color'])"
   ]
  },
  {
   "cell_type": "code",
   "execution_count": 18,
   "metadata": {},
   "outputs": [
    {
     "data": {
      "text/plain": [
       "['cream',\n",
       " 'blue',\n",
       " 'ruddy',\n",
       " 'fawn',\n",
       " 'chocolate',\n",
       " 'tan',\n",
       " 'liver',\n",
       " 'silver',\n",
       " 'buff']"
      ]
     },
     "execution_count": 18,
     "metadata": {},
     "output_type": "execute_result"
    }
   ],
   "source": [
    "list(model_colors.difference(pf_colors))"
   ]
  },
  {
   "cell_type": "code",
   "execution_count": 25,
   "metadata": {},
   "outputs": [
    {
     "data": {
      "text/plain": [
       "[nan, 'brindle', 'merle']"
      ]
     },
     "execution_count": 25,
     "metadata": {},
     "output_type": "execute_result"
    }
   ],
   "source": [
    "list(pf_colors.difference(model_colors))"
   ]
  },
  {
   "cell_type": "code",
   "execution_count": 27,
   "metadata": {},
   "outputs": [
    {
     "data": {
      "text/plain": [
       "0"
      ]
     },
     "execution_count": 27,
     "metadata": {},
     "output_type": "execute_result"
    }
   ],
   "source": [
    "model_data['color'].isna().sum()"
   ]
  },
  {
   "cell_type": "code",
   "execution_count": 32,
   "metadata": {},
   "outputs": [
    {
     "data": {
      "text/plain": [
       "0         black\n",
       "1        yellow\n",
       "2         sable\n",
       "3         black\n",
       "4         white\n",
       "          ...  \n",
       "13115     white\n",
       "13116     black\n",
       "13117     black\n",
       "13118     brown\n",
       "13119     white\n",
       "Name: color, Length: 13120, dtype: object"
      ]
     },
     "execution_count": 32,
     "metadata": {},
     "output_type": "execute_result"
    }
   ],
   "source": [
    "model_data['color'].map(\n",
    "    {\n",
    "        'apricot':'apricot',\n",
    "        'black':'black',\n",
    "        'blue':'gray',\n",
    "        'brown':'brown',\n",
    "        'buff':'apricot',\n",
    "        'chocolate':'brown',\n",
    "        'cream':'white',\n",
    "        'fawn':'yellow',\n",
    "        'gold':'gold',\n",
    "        'gray':'gray',\n",
    "        'liver':'red',\n",
    "        'red':'red',\n",
    "        'ruddy':'red',\n",
    "        'sable':'sable',\n",
    "        'silver':'gray',\n",
    "        'tan':'yellow',\n",
    "        'tricolor':'tricolor',\n",
    "        'white':'white',\n",
    "        'yellow':'yellow'\n",
    "    }\n",
    ")"
   ]
  },
  {
   "cell_type": "code",
   "execution_count": 33,
   "metadata": {},
   "outputs": [],
   "source": [
    "model_data['color'] = model_data['color'].map(\n",
    "    {\n",
    "        'apricot':'apricot',\n",
    "        'black':'black',\n",
    "        'blue':'gray',\n",
    "        'brown':'brown',\n",
    "        'buff':'apricot',\n",
    "        'chocolate':'brown',\n",
    "        'cream':'white',\n",
    "        'fawn':'yellow',\n",
    "        'gold':'gold',\n",
    "        'gray':'gray',\n",
    "        'liver':'red',\n",
    "        'red':'red',\n",
    "        'ruddy':'red',\n",
    "        'sable':'sable',\n",
    "        'silver':'gray',\n",
    "        'tan':'yellow',\n",
    "        'tricolor':'tricolor',\n",
    "        'white':'white',\n",
    "        'yellow':'yellow'\n",
    "    }\n",
    ")"
   ]
  },
  {
   "cell_type": "code",
   "execution_count": 34,
   "metadata": {},
   "outputs": [
    {
     "data": {
      "text/plain": [
       "array(['black', 'yellow', 'sable', 'white', 'brown', 'red', 'gray',\n",
       "       'apricot', 'tricolor', 'gold'], dtype=object)"
      ]
     },
     "execution_count": 34,
     "metadata": {},
     "output_type": "execute_result"
    }
   ],
   "source": [
    "model_data['color'].unique()"
   ]
  },
  {
   "cell_type": "code",
   "execution_count": 36,
   "metadata": {},
   "outputs": [],
   "source": [
    "new_model_colors = set(model_data['color'])"
   ]
  },
  {
   "cell_type": "code",
   "execution_count": 37,
   "metadata": {},
   "outputs": [
    {
     "data": {
      "text/plain": [
       "[]"
      ]
     },
     "execution_count": 37,
     "metadata": {},
     "output_type": "execute_result"
    }
   ],
   "source": [
    "list(new_model_colors.difference(pf_colors))"
   ]
  },
  {
   "cell_type": "code",
   "execution_count": 38,
   "metadata": {},
   "outputs": [
    {
     "data": {
      "text/plain": [
       "[nan, 'brindle', 'merle']"
      ]
     },
     "execution_count": 38,
     "metadata": {},
     "output_type": "execute_result"
    }
   ],
   "source": [
    "list(pf_colors.difference(new_model_colors))"
   ]
  },
  {
   "cell_type": "code",
   "execution_count": null,
   "metadata": {},
   "outputs": [],
   "source": [
    "# read into desired csv file"
   ]
  }
 ],
 "metadata": {
  "interpreter": {
   "hash": "c90bd41498bd2909e03bc4813e3fc894d3d64fd4c32b3cf57272642761dbfb5b"
  },
  "kernelspec": {
   "display_name": "Python 3.9.7 ('base')",
   "language": "python",
   "name": "python3"
  },
  "language_info": {
   "codemirror_mode": {
    "name": "ipython",
    "version": 3
   },
   "file_extension": ".py",
   "mimetype": "text/x-python",
   "name": "python",
   "nbconvert_exporter": "python",
   "pygments_lexer": "ipython3",
   "version": "3.9.7"
  },
  "orig_nbformat": 4
 },
 "nbformat": 4,
 "nbformat_minor": 2
}
