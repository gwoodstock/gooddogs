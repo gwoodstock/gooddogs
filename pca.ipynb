{
 "cells": [
  {
   "cell_type": "markdown",
   "metadata": {},
   "source": [
    "# Import Libraries"
   ]
  },
  {
   "cell_type": "code",
   "execution_count": 2,
   "metadata": {},
   "outputs": [],
   "source": [
    "# Import our libraries.\n",
    "import pandas as pd\n",
    "import numpy as np\n",
    "import matplotlib.pyplot as plt\n",
    "import seaborn as sns\n",
    "\n",
    "# Import from sklearn.\n",
    "from sklearn.model_selection import train_test_split\n",
    "from sklearn.linear_model import LinearRegression\n",
    "from sklearn.preprocessing import PolynomialFeatures, StandardScaler\n",
    "\n",
    "# PCA\n",
    "from sklearn.decomposition import PCA\n"
   ]
  },
  {
   "cell_type": "markdown",
   "metadata": {},
   "source": [
    "# Helper Functions"
   ]
  },
  {
   "cell_type": "code",
   "execution_count": 3,
   "metadata": {},
   "outputs": [],
   "source": [
    "def quick_look(x):\n",
    "    print(data[x].value_counts())\n",
    "    print(f'\\nMissing Values: {data[x].isna().sum()}')"
   ]
  },
  {
   "cell_type": "markdown",
   "metadata": {},
   "source": [
    "# Import Data"
   ]
  },
  {
   "cell_type": "code",
   "execution_count": 4,
   "metadata": {},
   "outputs": [],
   "source": [
    "data = pd.read_csv('./datasets/cleaned_data/shelters_with_stats.csv')"
   ]
  },
  {
   "cell_type": "code",
   "execution_count": 5,
   "metadata": {},
   "outputs": [
    {
     "data": {
      "text/html": [
       "<div>\n",
       "<style scoped>\n",
       "    .dataframe tbody tr th:only-of-type {\n",
       "        vertical-align: middle;\n",
       "    }\n",
       "\n",
       "    .dataframe tbody tr th {\n",
       "        vertical-align: top;\n",
       "    }\n",
       "\n",
       "    .dataframe thead th {\n",
       "        text-align: right;\n",
       "    }\n",
       "</style>\n",
       "<table border=\"1\" class=\"dataframe\">\n",
       "  <thead>\n",
       "    <tr style=\"text-align: right;\">\n",
       "      <th></th>\n",
       "      <th>id</th>\n",
       "      <th>name</th>\n",
       "      <th>date_in</th>\n",
       "      <th>location</th>\n",
       "      <th>intake_type</th>\n",
       "      <th>condition</th>\n",
       "      <th>age_in</th>\n",
       "      <th>breed</th>\n",
       "      <th>color</th>\n",
       "      <th>date_out</th>\n",
       "      <th>...</th>\n",
       "      <th>breed_2</th>\n",
       "      <th>pure</th>\n",
       "      <th>obey</th>\n",
       "      <th>reps_lower</th>\n",
       "      <th>reps_upper</th>\n",
       "      <th>height_low_inches</th>\n",
       "      <th>height_high_inches</th>\n",
       "      <th>weight_low_lbs</th>\n",
       "      <th>weight_high_lbs</th>\n",
       "      <th>time_in_shelter</th>\n",
       "    </tr>\n",
       "  </thead>\n",
       "  <tbody>\n",
       "    <tr>\n",
       "      <th>0</th>\n",
       "      <td>A047759</td>\n",
       "      <td>Oreo</td>\n",
       "      <td>2014-04-02 15:55:00</td>\n",
       "      <td>Austin (TX)</td>\n",
       "      <td>surrender</td>\n",
       "      <td>normal</td>\n",
       "      <td>10.0</td>\n",
       "      <td>dachshund</td>\n",
       "      <td>Tricolor</td>\n",
       "      <td>2014-04-07 15:12:00</td>\n",
       "      <td>...</td>\n",
       "      <td>dachshund</td>\n",
       "      <td>1.0</td>\n",
       "      <td>0.500</td>\n",
       "      <td>26.0</td>\n",
       "      <td>40.0</td>\n",
       "      <td>7.000000</td>\n",
       "      <td>10.000000</td>\n",
       "      <td>16.000000</td>\n",
       "      <td>32.000000</td>\n",
       "      <td>4 days 23:17:00</td>\n",
       "    </tr>\n",
       "    <tr>\n",
       "      <th>1</th>\n",
       "      <td>A134067</td>\n",
       "      <td>Bandit</td>\n",
       "      <td>2013-11-16 09:02:00</td>\n",
       "      <td>12034 Research Blvd in Austin (TX)</td>\n",
       "      <td>public_assist</td>\n",
       "      <td>injured</td>\n",
       "      <td>16.0</td>\n",
       "      <td>shetland sheepdog</td>\n",
       "      <td>Brown/White</td>\n",
       "      <td>2013-11-16 11:54:00</td>\n",
       "      <td>...</td>\n",
       "      <td>shetland sheepdog</td>\n",
       "      <td>1.0</td>\n",
       "      <td>0.950</td>\n",
       "      <td>1.0</td>\n",
       "      <td>4.0</td>\n",
       "      <td>17.941176</td>\n",
       "      <td>20.908497</td>\n",
       "      <td>42.934641</td>\n",
       "      <td>57.522876</td>\n",
       "      <td>0 days 02:52:00</td>\n",
       "    </tr>\n",
       "    <tr>\n",
       "      <th>2</th>\n",
       "      <td>A141142</td>\n",
       "      <td>Bettie</td>\n",
       "      <td>2013-11-16 14:46:00</td>\n",
       "      <td>Austin (TX)</td>\n",
       "      <td>stray</td>\n",
       "      <td>aged</td>\n",
       "      <td>15.0</td>\n",
       "      <td>labrador retriever/pit bull</td>\n",
       "      <td>Black/White</td>\n",
       "      <td>2013-11-17 11:40:00</td>\n",
       "      <td>...</td>\n",
       "      <td>pit bull</td>\n",
       "      <td>0.0</td>\n",
       "      <td>0.825</td>\n",
       "      <td>8.5</td>\n",
       "      <td>14.5</td>\n",
       "      <td>19.000000</td>\n",
       "      <td>21.500000</td>\n",
       "      <td>47.500000</td>\n",
       "      <td>65.000000</td>\n",
       "      <td>0 days 20:54:00</td>\n",
       "    </tr>\n",
       "    <tr>\n",
       "      <th>3</th>\n",
       "      <td>A163459</td>\n",
       "      <td>Sasha</td>\n",
       "      <td>2014-11-14 15:11:00</td>\n",
       "      <td>Ih 35 And 41St St in Austin (TX)</td>\n",
       "      <td>stray</td>\n",
       "      <td>normal</td>\n",
       "      <td>15.0</td>\n",
       "      <td>miniature schnauzer</td>\n",
       "      <td>Black/Gray</td>\n",
       "      <td>2014-11-14 19:28:00</td>\n",
       "      <td>...</td>\n",
       "      <td>miniature schnauzer</td>\n",
       "      <td>1.0</td>\n",
       "      <td>0.850</td>\n",
       "      <td>5.0</td>\n",
       "      <td>15.0</td>\n",
       "      <td>17.941176</td>\n",
       "      <td>20.908497</td>\n",
       "      <td>42.934641</td>\n",
       "      <td>57.522876</td>\n",
       "      <td>0 days 04:17:00</td>\n",
       "    </tr>\n",
       "    <tr>\n",
       "      <th>4</th>\n",
       "      <td>A165752</td>\n",
       "      <td>Pep</td>\n",
       "      <td>2014-09-15 11:28:00</td>\n",
       "      <td>Gatlin Gun Rd And Brodie in Austin (TX)</td>\n",
       "      <td>stray</td>\n",
       "      <td>normal</td>\n",
       "      <td>15.0</td>\n",
       "      <td>lhasa apso</td>\n",
       "      <td>Brown/White</td>\n",
       "      <td>2014-09-15 16:35:00</td>\n",
       "      <td>...</td>\n",
       "      <td>lhasa apso</td>\n",
       "      <td>1.0</td>\n",
       "      <td>0.300</td>\n",
       "      <td>41.0</td>\n",
       "      <td>80.0</td>\n",
       "      <td>17.941176</td>\n",
       "      <td>20.908497</td>\n",
       "      <td>42.934641</td>\n",
       "      <td>57.522876</td>\n",
       "      <td>0 days 05:07:00</td>\n",
       "    </tr>\n",
       "  </tbody>\n",
       "</table>\n",
       "<p>5 rows × 30 columns</p>\n",
       "</div>"
      ],
      "text/plain": [
       "        id    name              date_in  \\\n",
       "0  A047759    Oreo  2014-04-02 15:55:00   \n",
       "1  A134067  Bandit  2013-11-16 09:02:00   \n",
       "2  A141142  Bettie  2013-11-16 14:46:00   \n",
       "3  A163459   Sasha  2014-11-14 15:11:00   \n",
       "4  A165752     Pep  2014-09-15 11:28:00   \n",
       "\n",
       "                                  location    intake_type condition  age_in  \\\n",
       "0                              Austin (TX)      surrender    normal    10.0   \n",
       "1       12034 Research Blvd in Austin (TX)  public_assist   injured    16.0   \n",
       "2                              Austin (TX)          stray      aged    15.0   \n",
       "3         Ih 35 And 41St St in Austin (TX)          stray    normal    15.0   \n",
       "4  Gatlin Gun Rd And Brodie in Austin (TX)          stray    normal    15.0   \n",
       "\n",
       "                         breed        color             date_out  ...  \\\n",
       "0                    dachshund     Tricolor  2014-04-07 15:12:00  ...   \n",
       "1            shetland sheepdog  Brown/White  2013-11-16 11:54:00  ...   \n",
       "2  labrador retriever/pit bull  Black/White  2013-11-17 11:40:00  ...   \n",
       "3          miniature schnauzer   Black/Gray  2014-11-14 19:28:00  ...   \n",
       "4                   lhasa apso  Brown/White  2014-09-15 16:35:00  ...   \n",
       "\n",
       "               breed_2 pure   obey  reps_lower  reps_upper  height_low_inches  \\\n",
       "0            dachshund  1.0  0.500        26.0        40.0           7.000000   \n",
       "1    shetland sheepdog  1.0  0.950         1.0         4.0          17.941176   \n",
       "2             pit bull  0.0  0.825         8.5        14.5          19.000000   \n",
       "3  miniature schnauzer  1.0  0.850         5.0        15.0          17.941176   \n",
       "4           lhasa apso  1.0  0.300        41.0        80.0          17.941176   \n",
       "\n",
       "  height_high_inches weight_low_lbs weight_high_lbs  time_in_shelter  \n",
       "0          10.000000      16.000000       32.000000  4 days 23:17:00  \n",
       "1          20.908497      42.934641       57.522876  0 days 02:52:00  \n",
       "2          21.500000      47.500000       65.000000  0 days 20:54:00  \n",
       "3          20.908497      42.934641       57.522876  0 days 04:17:00  \n",
       "4          20.908497      42.934641       57.522876  0 days 05:07:00  \n",
       "\n",
       "[5 rows x 30 columns]"
      ]
     },
     "execution_count": 5,
     "metadata": {},
     "output_type": "execute_result"
    }
   ],
   "source": [
    "data.head()"
   ]
  },
  {
   "cell_type": "code",
   "execution_count": 6,
   "metadata": {},
   "outputs": [],
   "source": [
    "data.dropna(inplace=True)"
   ]
  },
  {
   "cell_type": "code",
   "execution_count": 7,
   "metadata": {},
   "outputs": [
    {
     "data": {
      "text/plain": [
       "Index(['id', 'name', 'date_in', 'location', 'intake_type', 'condition',\n",
       "       'age_in', 'breed', 'color', 'date_out', 'dob', 'outcome', 'age_out',\n",
       "       'sex', 'intact_in', 'intact_out', 'age', 'primary_color',\n",
       "       'secondary_color', 'breed_1', 'breed_2', 'pure', 'obey', 'reps_lower',\n",
       "       'reps_upper', 'height_low_inches', 'height_high_inches',\n",
       "       'weight_low_lbs', 'weight_high_lbs', 'time_in_shelter'],\n",
       "      dtype='object')"
      ]
     },
     "execution_count": 7,
     "metadata": {},
     "output_type": "execute_result"
    }
   ],
   "source": [
    "data.columns"
   ]
  },
  {
   "cell_type": "code",
   "execution_count": 8,
   "metadata": {},
   "outputs": [
    {
     "data": {
      "text/html": [
       "<div>\n",
       "<style scoped>\n",
       "    .dataframe tbody tr th:only-of-type {\n",
       "        vertical-align: middle;\n",
       "    }\n",
       "\n",
       "    .dataframe tbody tr th {\n",
       "        vertical-align: top;\n",
       "    }\n",
       "\n",
       "    .dataframe thead th {\n",
       "        text-align: right;\n",
       "    }\n",
       "</style>\n",
       "<table border=\"1\" class=\"dataframe\">\n",
       "  <thead>\n",
       "    <tr style=\"text-align: right;\">\n",
       "      <th></th>\n",
       "      <th>id</th>\n",
       "      <th>name</th>\n",
       "      <th>date_in</th>\n",
       "      <th>location</th>\n",
       "      <th>intake_type</th>\n",
       "      <th>condition</th>\n",
       "      <th>age_in</th>\n",
       "      <th>breed</th>\n",
       "      <th>color</th>\n",
       "      <th>date_out</th>\n",
       "      <th>...</th>\n",
       "      <th>breed_2</th>\n",
       "      <th>pure</th>\n",
       "      <th>obey</th>\n",
       "      <th>reps_lower</th>\n",
       "      <th>reps_upper</th>\n",
       "      <th>height_low_inches</th>\n",
       "      <th>height_high_inches</th>\n",
       "      <th>weight_low_lbs</th>\n",
       "      <th>weight_high_lbs</th>\n",
       "      <th>time_in_shelter</th>\n",
       "    </tr>\n",
       "  </thead>\n",
       "  <tbody>\n",
       "    <tr>\n",
       "      <th>0</th>\n",
       "      <td>A047759</td>\n",
       "      <td>Oreo</td>\n",
       "      <td>2014-04-02 15:55:00</td>\n",
       "      <td>Austin (TX)</td>\n",
       "      <td>surrender</td>\n",
       "      <td>normal</td>\n",
       "      <td>10.0</td>\n",
       "      <td>dachshund</td>\n",
       "      <td>Tricolor</td>\n",
       "      <td>2014-04-07 15:12:00</td>\n",
       "      <td>...</td>\n",
       "      <td>dachshund</td>\n",
       "      <td>1.0</td>\n",
       "      <td>0.500</td>\n",
       "      <td>26.0</td>\n",
       "      <td>40.0</td>\n",
       "      <td>7.000000</td>\n",
       "      <td>10.000000</td>\n",
       "      <td>16.000000</td>\n",
       "      <td>32.000000</td>\n",
       "      <td>4 days 23:17:00</td>\n",
       "    </tr>\n",
       "    <tr>\n",
       "      <th>1</th>\n",
       "      <td>A134067</td>\n",
       "      <td>Bandit</td>\n",
       "      <td>2013-11-16 09:02:00</td>\n",
       "      <td>12034 Research Blvd in Austin (TX)</td>\n",
       "      <td>public_assist</td>\n",
       "      <td>injured</td>\n",
       "      <td>16.0</td>\n",
       "      <td>shetland sheepdog</td>\n",
       "      <td>Brown/White</td>\n",
       "      <td>2013-11-16 11:54:00</td>\n",
       "      <td>...</td>\n",
       "      <td>shetland sheepdog</td>\n",
       "      <td>1.0</td>\n",
       "      <td>0.950</td>\n",
       "      <td>1.0</td>\n",
       "      <td>4.0</td>\n",
       "      <td>17.941176</td>\n",
       "      <td>20.908497</td>\n",
       "      <td>42.934641</td>\n",
       "      <td>57.522876</td>\n",
       "      <td>0 days 02:52:00</td>\n",
       "    </tr>\n",
       "    <tr>\n",
       "      <th>2</th>\n",
       "      <td>A141142</td>\n",
       "      <td>Bettie</td>\n",
       "      <td>2013-11-16 14:46:00</td>\n",
       "      <td>Austin (TX)</td>\n",
       "      <td>stray</td>\n",
       "      <td>aged</td>\n",
       "      <td>15.0</td>\n",
       "      <td>labrador retriever/pit bull</td>\n",
       "      <td>Black/White</td>\n",
       "      <td>2013-11-17 11:40:00</td>\n",
       "      <td>...</td>\n",
       "      <td>pit bull</td>\n",
       "      <td>0.0</td>\n",
       "      <td>0.825</td>\n",
       "      <td>8.5</td>\n",
       "      <td>14.5</td>\n",
       "      <td>19.000000</td>\n",
       "      <td>21.500000</td>\n",
       "      <td>47.500000</td>\n",
       "      <td>65.000000</td>\n",
       "      <td>0 days 20:54:00</td>\n",
       "    </tr>\n",
       "    <tr>\n",
       "      <th>3</th>\n",
       "      <td>A163459</td>\n",
       "      <td>Sasha</td>\n",
       "      <td>2014-11-14 15:11:00</td>\n",
       "      <td>Ih 35 And 41St St in Austin (TX)</td>\n",
       "      <td>stray</td>\n",
       "      <td>normal</td>\n",
       "      <td>15.0</td>\n",
       "      <td>miniature schnauzer</td>\n",
       "      <td>Black/Gray</td>\n",
       "      <td>2014-11-14 19:28:00</td>\n",
       "      <td>...</td>\n",
       "      <td>miniature schnauzer</td>\n",
       "      <td>1.0</td>\n",
       "      <td>0.850</td>\n",
       "      <td>5.0</td>\n",
       "      <td>15.0</td>\n",
       "      <td>17.941176</td>\n",
       "      <td>20.908497</td>\n",
       "      <td>42.934641</td>\n",
       "      <td>57.522876</td>\n",
       "      <td>0 days 04:17:00</td>\n",
       "    </tr>\n",
       "    <tr>\n",
       "      <th>4</th>\n",
       "      <td>A165752</td>\n",
       "      <td>Pep</td>\n",
       "      <td>2014-09-15 11:28:00</td>\n",
       "      <td>Gatlin Gun Rd And Brodie in Austin (TX)</td>\n",
       "      <td>stray</td>\n",
       "      <td>normal</td>\n",
       "      <td>15.0</td>\n",
       "      <td>lhasa apso</td>\n",
       "      <td>Brown/White</td>\n",
       "      <td>2014-09-15 16:35:00</td>\n",
       "      <td>...</td>\n",
       "      <td>lhasa apso</td>\n",
       "      <td>1.0</td>\n",
       "      <td>0.300</td>\n",
       "      <td>41.0</td>\n",
       "      <td>80.0</td>\n",
       "      <td>17.941176</td>\n",
       "      <td>20.908497</td>\n",
       "      <td>42.934641</td>\n",
       "      <td>57.522876</td>\n",
       "      <td>0 days 05:07:00</td>\n",
       "    </tr>\n",
       "  </tbody>\n",
       "</table>\n",
       "<p>5 rows × 30 columns</p>\n",
       "</div>"
      ],
      "text/plain": [
       "        id    name              date_in  \\\n",
       "0  A047759    Oreo  2014-04-02 15:55:00   \n",
       "1  A134067  Bandit  2013-11-16 09:02:00   \n",
       "2  A141142  Bettie  2013-11-16 14:46:00   \n",
       "3  A163459   Sasha  2014-11-14 15:11:00   \n",
       "4  A165752     Pep  2014-09-15 11:28:00   \n",
       "\n",
       "                                  location    intake_type condition  age_in  \\\n",
       "0                              Austin (TX)      surrender    normal    10.0   \n",
       "1       12034 Research Blvd in Austin (TX)  public_assist   injured    16.0   \n",
       "2                              Austin (TX)          stray      aged    15.0   \n",
       "3         Ih 35 And 41St St in Austin (TX)          stray    normal    15.0   \n",
       "4  Gatlin Gun Rd And Brodie in Austin (TX)          stray    normal    15.0   \n",
       "\n",
       "                         breed        color             date_out  ...  \\\n",
       "0                    dachshund     Tricolor  2014-04-07 15:12:00  ...   \n",
       "1            shetland sheepdog  Brown/White  2013-11-16 11:54:00  ...   \n",
       "2  labrador retriever/pit bull  Black/White  2013-11-17 11:40:00  ...   \n",
       "3          miniature schnauzer   Black/Gray  2014-11-14 19:28:00  ...   \n",
       "4                   lhasa apso  Brown/White  2014-09-15 16:35:00  ...   \n",
       "\n",
       "               breed_2 pure   obey  reps_lower  reps_upper  height_low_inches  \\\n",
       "0            dachshund  1.0  0.500        26.0        40.0           7.000000   \n",
       "1    shetland sheepdog  1.0  0.950         1.0         4.0          17.941176   \n",
       "2             pit bull  0.0  0.825         8.5        14.5          19.000000   \n",
       "3  miniature schnauzer  1.0  0.850         5.0        15.0          17.941176   \n",
       "4           lhasa apso  1.0  0.300        41.0        80.0          17.941176   \n",
       "\n",
       "  height_high_inches weight_low_lbs weight_high_lbs  time_in_shelter  \n",
       "0          10.000000      16.000000       32.000000  4 days 23:17:00  \n",
       "1          20.908497      42.934641       57.522876  0 days 02:52:00  \n",
       "2          21.500000      47.500000       65.000000  0 days 20:54:00  \n",
       "3          20.908497      42.934641       57.522876  0 days 04:17:00  \n",
       "4          20.908497      42.934641       57.522876  0 days 05:07:00  \n",
       "\n",
       "[5 rows x 30 columns]"
      ]
     },
     "execution_count": 8,
     "metadata": {},
     "output_type": "execute_result"
    }
   ],
   "source": [
    "data.head()"
   ]
  },
  {
   "cell_type": "code",
   "execution_count": 9,
   "metadata": {},
   "outputs": [],
   "source": [
    "data.drop(columns=['id', 'name', 'date_in', 'location', 'color', 'date_out', 'dob', 'intact_in'], inplace=True)\n"
   ]
  },
  {
   "cell_type": "code",
   "execution_count": 10,
   "metadata": {},
   "outputs": [],
   "source": [
    "data['time_in_shelter'] = pd.to_timedelta(data['time_in_shelter'])\n",
    "data['time_in_shelter'] = data['time_in_shelter'].dt.days"
   ]
  },
  {
   "cell_type": "code",
   "execution_count": 11,
   "metadata": {},
   "outputs": [
    {
     "data": {
      "text/plain": [
       "16.30558975621768"
      ]
     },
     "execution_count": 11,
     "metadata": {},
     "output_type": "execute_result"
    }
   ],
   "source": [
    "data['time_in_shelter'].mean()"
   ]
  },
  {
   "cell_type": "code",
   "execution_count": 12,
   "metadata": {},
   "outputs": [
    {
     "data": {
      "text/html": [
       "<div>\n",
       "<style scoped>\n",
       "    .dataframe tbody tr th:only-of-type {\n",
       "        vertical-align: middle;\n",
       "    }\n",
       "\n",
       "    .dataframe tbody tr th {\n",
       "        vertical-align: top;\n",
       "    }\n",
       "\n",
       "    .dataframe thead th {\n",
       "        text-align: right;\n",
       "    }\n",
       "</style>\n",
       "<table border=\"1\" class=\"dataframe\">\n",
       "  <thead>\n",
       "    <tr style=\"text-align: right;\">\n",
       "      <th></th>\n",
       "      <th>intake_type</th>\n",
       "      <th>condition</th>\n",
       "      <th>age_in</th>\n",
       "      <th>breed</th>\n",
       "      <th>outcome</th>\n",
       "      <th>age_out</th>\n",
       "      <th>sex</th>\n",
       "      <th>intact_out</th>\n",
       "      <th>age</th>\n",
       "      <th>primary_color</th>\n",
       "      <th>...</th>\n",
       "      <th>breed_2</th>\n",
       "      <th>pure</th>\n",
       "      <th>obey</th>\n",
       "      <th>reps_lower</th>\n",
       "      <th>reps_upper</th>\n",
       "      <th>height_low_inches</th>\n",
       "      <th>height_high_inches</th>\n",
       "      <th>weight_low_lbs</th>\n",
       "      <th>weight_high_lbs</th>\n",
       "      <th>time_in_shelter</th>\n",
       "    </tr>\n",
       "  </thead>\n",
       "  <tbody>\n",
       "    <tr>\n",
       "      <th>0</th>\n",
       "      <td>surrender</td>\n",
       "      <td>normal</td>\n",
       "      <td>10.0</td>\n",
       "      <td>dachshund</td>\n",
       "      <td>transfer</td>\n",
       "      <td>10.0</td>\n",
       "      <td>1</td>\n",
       "      <td>0</td>\n",
       "      <td>Senior</td>\n",
       "      <td>tricolor</td>\n",
       "      <td>...</td>\n",
       "      <td>dachshund</td>\n",
       "      <td>1.0</td>\n",
       "      <td>0.500</td>\n",
       "      <td>26.0</td>\n",
       "      <td>40.0</td>\n",
       "      <td>7.000000</td>\n",
       "      <td>10.000000</td>\n",
       "      <td>16.000000</td>\n",
       "      <td>32.000000</td>\n",
       "      <td>4</td>\n",
       "    </tr>\n",
       "    <tr>\n",
       "      <th>1</th>\n",
       "      <td>public_assist</td>\n",
       "      <td>injured</td>\n",
       "      <td>16.0</td>\n",
       "      <td>shetland sheepdog</td>\n",
       "      <td>return_owner</td>\n",
       "      <td>16.0</td>\n",
       "      <td>1</td>\n",
       "      <td>0</td>\n",
       "      <td>Senior</td>\n",
       "      <td>brown</td>\n",
       "      <td>...</td>\n",
       "      <td>shetland sheepdog</td>\n",
       "      <td>1.0</td>\n",
       "      <td>0.950</td>\n",
       "      <td>1.0</td>\n",
       "      <td>4.0</td>\n",
       "      <td>17.941176</td>\n",
       "      <td>20.908497</td>\n",
       "      <td>42.934641</td>\n",
       "      <td>57.522876</td>\n",
       "      <td>0</td>\n",
       "    </tr>\n",
       "    <tr>\n",
       "      <th>2</th>\n",
       "      <td>stray</td>\n",
       "      <td>aged</td>\n",
       "      <td>15.0</td>\n",
       "      <td>labrador retriever/pit bull</td>\n",
       "      <td>return_owner</td>\n",
       "      <td>15.0</td>\n",
       "      <td>0</td>\n",
       "      <td>0</td>\n",
       "      <td>Senior</td>\n",
       "      <td>black</td>\n",
       "      <td>...</td>\n",
       "      <td>pit bull</td>\n",
       "      <td>0.0</td>\n",
       "      <td>0.825</td>\n",
       "      <td>8.5</td>\n",
       "      <td>14.5</td>\n",
       "      <td>19.000000</td>\n",
       "      <td>21.500000</td>\n",
       "      <td>47.500000</td>\n",
       "      <td>65.000000</td>\n",
       "      <td>0</td>\n",
       "    </tr>\n",
       "    <tr>\n",
       "      <th>3</th>\n",
       "      <td>stray</td>\n",
       "      <td>normal</td>\n",
       "      <td>15.0</td>\n",
       "      <td>miniature schnauzer</td>\n",
       "      <td>return_owner</td>\n",
       "      <td>15.0</td>\n",
       "      <td>0</td>\n",
       "      <td>1</td>\n",
       "      <td>Senior</td>\n",
       "      <td>black</td>\n",
       "      <td>...</td>\n",
       "      <td>miniature schnauzer</td>\n",
       "      <td>1.0</td>\n",
       "      <td>0.850</td>\n",
       "      <td>5.0</td>\n",
       "      <td>15.0</td>\n",
       "      <td>17.941176</td>\n",
       "      <td>20.908497</td>\n",
       "      <td>42.934641</td>\n",
       "      <td>57.522876</td>\n",
       "      <td>0</td>\n",
       "    </tr>\n",
       "    <tr>\n",
       "      <th>4</th>\n",
       "      <td>stray</td>\n",
       "      <td>normal</td>\n",
       "      <td>15.0</td>\n",
       "      <td>lhasa apso</td>\n",
       "      <td>return_owner</td>\n",
       "      <td>15.0</td>\n",
       "      <td>1</td>\n",
       "      <td>0</td>\n",
       "      <td>Senior</td>\n",
       "      <td>brown</td>\n",
       "      <td>...</td>\n",
       "      <td>lhasa apso</td>\n",
       "      <td>1.0</td>\n",
       "      <td>0.300</td>\n",
       "      <td>41.0</td>\n",
       "      <td>80.0</td>\n",
       "      <td>17.941176</td>\n",
       "      <td>20.908497</td>\n",
       "      <td>42.934641</td>\n",
       "      <td>57.522876</td>\n",
       "      <td>0</td>\n",
       "    </tr>\n",
       "  </tbody>\n",
       "</table>\n",
       "<p>5 rows × 22 columns</p>\n",
       "</div>"
      ],
      "text/plain": [
       "     intake_type condition  age_in                        breed       outcome  \\\n",
       "0      surrender    normal    10.0                    dachshund      transfer   \n",
       "1  public_assist   injured    16.0            shetland sheepdog  return_owner   \n",
       "2          stray      aged    15.0  labrador retriever/pit bull  return_owner   \n",
       "3          stray    normal    15.0          miniature schnauzer  return_owner   \n",
       "4          stray    normal    15.0                   lhasa apso  return_owner   \n",
       "\n",
       "   age_out  sex  intact_out     age primary_color  ...              breed_2  \\\n",
       "0     10.0    1           0  Senior      tricolor  ...            dachshund   \n",
       "1     16.0    1           0  Senior         brown  ...    shetland sheepdog   \n",
       "2     15.0    0           0  Senior         black  ...             pit bull   \n",
       "3     15.0    0           1  Senior         black  ...  miniature schnauzer   \n",
       "4     15.0    1           0  Senior         brown  ...           lhasa apso   \n",
       "\n",
       "  pure   obey  reps_lower  reps_upper  height_low_inches  height_high_inches  \\\n",
       "0  1.0  0.500        26.0        40.0           7.000000           10.000000   \n",
       "1  1.0  0.950         1.0         4.0          17.941176           20.908497   \n",
       "2  0.0  0.825         8.5        14.5          19.000000           21.500000   \n",
       "3  1.0  0.850         5.0        15.0          17.941176           20.908497   \n",
       "4  1.0  0.300        41.0        80.0          17.941176           20.908497   \n",
       "\n",
       "   weight_low_lbs  weight_high_lbs  time_in_shelter  \n",
       "0       16.000000        32.000000                4  \n",
       "1       42.934641        57.522876                0  \n",
       "2       47.500000        65.000000                0  \n",
       "3       42.934641        57.522876                0  \n",
       "4       42.934641        57.522876                0  \n",
       "\n",
       "[5 rows x 22 columns]"
      ]
     },
     "execution_count": 12,
     "metadata": {},
     "output_type": "execute_result"
    }
   ],
   "source": [
    "data.head()"
   ]
  },
  {
   "cell_type": "code",
   "execution_count": 13,
   "metadata": {},
   "outputs": [
    {
     "data": {
      "text/plain": [
       "<AxesSubplot:>"
      ]
     },
     "execution_count": 13,
     "metadata": {},
     "output_type": "execute_result"
    },
    {
     "data": {
      "image/png": "[encoded data removed]",
      "text/plain": [
       "<Figure size 432x288 with 1 Axes>"
      ]
     },
     "metadata": {
      "needs_background": "light"
     },
     "output_type": "display_data"
    }
   ],
   "source": [
    "data['time_in_shelter'].hist(bins=5)"
   ]
  },
  {
   "cell_type": "code",
   "execution_count": 14,
   "metadata": {},
   "outputs": [
    {
     "data": {
      "image/png": "[encoded data removed]",
      "text/plain": [
       "<Figure size 432x288 with 1 Axes>"
      ]
     },
     "metadata": {
      "needs_background": "light"
     },
     "output_type": "display_data"
    }
   ],
   "source": [
    "plt.boxplot(x=data['time_in_shelter']);"
   ]
  },
  {
   "cell_type": "code",
   "execution_count": 15,
   "metadata": {},
   "outputs": [
    {
     "data": {
      "text/plain": [
       "<AxesSubplot:>"
      ]
     },
     "execution_count": 15,
     "metadata": {},
     "output_type": "execute_result"
    },
    {
     "data": {
      "image/png": "[encoded data removed]",
      "text/plain": [
       "<Figure size 432x288 with 1 Axes>"
      ]
     },
     "metadata": {
      "needs_background": "light"
     },
     "output_type": "display_data"
    }
   ],
   "source": [
    "data[data['time_in_shelter'] < 100]['time_in_shelter'].hist()"
   ]
  },
  {
   "cell_type": "code",
   "execution_count": 16,
   "metadata": {},
   "outputs": [
    {
     "data": {
      "text/html": [
       "<div>\n",
       "<style scoped>\n",
       "    .dataframe tbody tr th:only-of-type {\n",
       "        vertical-align: middle;\n",
       "    }\n",
       "\n",
       "    .dataframe tbody tr th {\n",
       "        vertical-align: top;\n",
       "    }\n",
       "\n",
       "    .dataframe thead th {\n",
       "        text-align: right;\n",
       "    }\n",
       "</style>\n",
       "<table border=\"1\" class=\"dataframe\">\n",
       "  <thead>\n",
       "    <tr style=\"text-align: right;\">\n",
       "      <th></th>\n",
       "      <th>intake_type</th>\n",
       "      <th>condition</th>\n",
       "      <th>breed</th>\n",
       "      <th>outcome</th>\n",
       "      <th>age_out</th>\n",
       "      <th>age</th>\n",
       "      <th>time_in_shelter</th>\n",
       "    </tr>\n",
       "  </thead>\n",
       "  <tbody>\n",
       "    <tr>\n",
       "      <th>1881</th>\n",
       "      <td>stray</td>\n",
       "      <td>injured</td>\n",
       "      <td>pit bull</td>\n",
       "      <td>adoption</td>\n",
       "      <td>11.0</td>\n",
       "      <td>Senior</td>\n",
       "      <td>1912</td>\n",
       "    </tr>\n",
       "    <tr>\n",
       "      <th>19797</th>\n",
       "      <td>surrender</td>\n",
       "      <td>normal</td>\n",
       "      <td>pit bull</td>\n",
       "      <td>adoption</td>\n",
       "      <td>5.0</td>\n",
       "      <td>Adult</td>\n",
       "      <td>1521</td>\n",
       "    </tr>\n",
       "    <tr>\n",
       "      <th>23574</th>\n",
       "      <td>stray</td>\n",
       "      <td>normal</td>\n",
       "      <td>labrador retriever</td>\n",
       "      <td>transfer</td>\n",
       "      <td>6.0</td>\n",
       "      <td>Adult</td>\n",
       "      <td>1351</td>\n",
       "    </tr>\n",
       "    <tr>\n",
       "      <th>35000</th>\n",
       "      <td>surrender</td>\n",
       "      <td>normal</td>\n",
       "      <td>pit bull</td>\n",
       "      <td>adoption</td>\n",
       "      <td>11.0</td>\n",
       "      <td>Senior</td>\n",
       "      <td>1195</td>\n",
       "    </tr>\n",
       "    <tr>\n",
       "      <th>32610</th>\n",
       "      <td>stray</td>\n",
       "      <td>normal</td>\n",
       "      <td>boxer</td>\n",
       "      <td>adoption</td>\n",
       "      <td>13.0</td>\n",
       "      <td>Senior</td>\n",
       "      <td>1167</td>\n",
       "    </tr>\n",
       "    <tr>\n",
       "      <th>32611</th>\n",
       "      <td>stray</td>\n",
       "      <td>normal</td>\n",
       "      <td>american staffordshire terrier</td>\n",
       "      <td>adoption</td>\n",
       "      <td>13.0</td>\n",
       "      <td>Senior</td>\n",
       "      <td>1167</td>\n",
       "    </tr>\n",
       "    <tr>\n",
       "      <th>31654</th>\n",
       "      <td>surrender</td>\n",
       "      <td>normal</td>\n",
       "      <td>pit bull</td>\n",
       "      <td>adoption</td>\n",
       "      <td>7.0</td>\n",
       "      <td>Adult</td>\n",
       "      <td>1105</td>\n",
       "    </tr>\n",
       "    <tr>\n",
       "      <th>38662</th>\n",
       "      <td>stray</td>\n",
       "      <td>normal</td>\n",
       "      <td>bulldog/boxer</td>\n",
       "      <td>adoption</td>\n",
       "      <td>10.0</td>\n",
       "      <td>Senior</td>\n",
       "      <td>1047</td>\n",
       "    </tr>\n",
       "    <tr>\n",
       "      <th>15946</th>\n",
       "      <td>stray</td>\n",
       "      <td>normal</td>\n",
       "      <td>labrador retriever</td>\n",
       "      <td>adoption</td>\n",
       "      <td>10.0</td>\n",
       "      <td>Senior</td>\n",
       "      <td>1026</td>\n",
       "    </tr>\n",
       "    <tr>\n",
       "      <th>13830</th>\n",
       "      <td>stray</td>\n",
       "      <td>normal</td>\n",
       "      <td>labrador retriever</td>\n",
       "      <td>adoption</td>\n",
       "      <td>12.0</td>\n",
       "      <td>Senior</td>\n",
       "      <td>1009</td>\n",
       "    </tr>\n",
       "    <tr>\n",
       "      <th>39015</th>\n",
       "      <td>public_assist</td>\n",
       "      <td>normal</td>\n",
       "      <td>labrador retriever</td>\n",
       "      <td>adoption</td>\n",
       "      <td>3.0</td>\n",
       "      <td>Adult</td>\n",
       "      <td>1002</td>\n",
       "    </tr>\n",
       "    <tr>\n",
       "      <th>19300</th>\n",
       "      <td>stray</td>\n",
       "      <td>normal</td>\n",
       "      <td>chihuahua/silky terrier</td>\n",
       "      <td>adoption</td>\n",
       "      <td>7.0</td>\n",
       "      <td>Adult</td>\n",
       "      <td>1001</td>\n",
       "    </tr>\n",
       "    <tr>\n",
       "      <th>6288</th>\n",
       "      <td>stray</td>\n",
       "      <td>normal</td>\n",
       "      <td>german shepherd</td>\n",
       "      <td>adoption</td>\n",
       "      <td>9.0</td>\n",
       "      <td>Senior</td>\n",
       "      <td>997</td>\n",
       "    </tr>\n",
       "    <tr>\n",
       "      <th>36163</th>\n",
       "      <td>stray</td>\n",
       "      <td>normal</td>\n",
       "      <td>american staffordshire terrier</td>\n",
       "      <td>adoption</td>\n",
       "      <td>4.0</td>\n",
       "      <td>Adult</td>\n",
       "      <td>896</td>\n",
       "    </tr>\n",
       "    <tr>\n",
       "      <th>19764</th>\n",
       "      <td>surrender</td>\n",
       "      <td>normal</td>\n",
       "      <td>pit bull</td>\n",
       "      <td>adoption</td>\n",
       "      <td>13.0</td>\n",
       "      <td>Senior</td>\n",
       "      <td>875</td>\n",
       "    </tr>\n",
       "    <tr>\n",
       "      <th>29709</th>\n",
       "      <td>stray</td>\n",
       "      <td>normal</td>\n",
       "      <td>beagle</td>\n",
       "      <td>adoption</td>\n",
       "      <td>15.0</td>\n",
       "      <td>Senior</td>\n",
       "      <td>863</td>\n",
       "    </tr>\n",
       "    <tr>\n",
       "      <th>16654</th>\n",
       "      <td>stray</td>\n",
       "      <td>normal</td>\n",
       "      <td>rottweiler</td>\n",
       "      <td>adoption</td>\n",
       "      <td>11.0</td>\n",
       "      <td>Senior</td>\n",
       "      <td>823</td>\n",
       "    </tr>\n",
       "    <tr>\n",
       "      <th>30209</th>\n",
       "      <td>stray</td>\n",
       "      <td>normal</td>\n",
       "      <td>pit bull/basset hound</td>\n",
       "      <td>adoption</td>\n",
       "      <td>4.0</td>\n",
       "      <td>Adult</td>\n",
       "      <td>816</td>\n",
       "    </tr>\n",
       "    <tr>\n",
       "      <th>3586</th>\n",
       "      <td>surrender</td>\n",
       "      <td>normal</td>\n",
       "      <td>bulldog</td>\n",
       "      <td>adoption</td>\n",
       "      <td>3.0</td>\n",
       "      <td>Adult</td>\n",
       "      <td>806</td>\n",
       "    </tr>\n",
       "    <tr>\n",
       "      <th>39251</th>\n",
       "      <td>surrender</td>\n",
       "      <td>normal</td>\n",
       "      <td>labrador retriever</td>\n",
       "      <td>euthanasia</td>\n",
       "      <td>11.0</td>\n",
       "      <td>Senior</td>\n",
       "      <td>802</td>\n",
       "    </tr>\n",
       "  </tbody>\n",
       "</table>\n",
       "</div>"
      ],
      "text/plain": [
       "         intake_type condition                           breed     outcome  \\\n",
       "1881           stray   injured                        pit bull    adoption   \n",
       "19797      surrender    normal                        pit bull    adoption   \n",
       "23574          stray    normal              labrador retriever    transfer   \n",
       "35000      surrender    normal                        pit bull    adoption   \n",
       "32610          stray    normal                           boxer    adoption   \n",
       "32611          stray    normal  american staffordshire terrier    adoption   \n",
       "31654      surrender    normal                        pit bull    adoption   \n",
       "38662          stray    normal                   bulldog/boxer    adoption   \n",
       "15946          stray    normal              labrador retriever    adoption   \n",
       "13830          stray    normal              labrador retriever    adoption   \n",
       "39015  public_assist    normal              labrador retriever    adoption   \n",
       "19300          stray    normal         chihuahua/silky terrier    adoption   \n",
       "6288           stray    normal                 german shepherd    adoption   \n",
       "36163          stray    normal  american staffordshire terrier    adoption   \n",
       "19764      surrender    normal                        pit bull    adoption   \n",
       "29709          stray    normal                          beagle    adoption   \n",
       "16654          stray    normal                      rottweiler    adoption   \n",
       "30209          stray    normal           pit bull/basset hound    adoption   \n",
       "3586       surrender    normal                         bulldog    adoption   \n",
       "39251      surrender    normal              labrador retriever  euthanasia   \n",
       "\n",
       "       age_out     age  time_in_shelter  \n",
       "1881      11.0  Senior             1912  \n",
       "19797      5.0   Adult             1521  \n",
       "23574      6.0   Adult             1351  \n",
       "35000     11.0  Senior             1195  \n",
       "32610     13.0  Senior             1167  \n",
       "32611     13.0  Senior             1167  \n",
       "31654      7.0   Adult             1105  \n",
       "38662     10.0  Senior             1047  \n",
       "15946     10.0  Senior             1026  \n",
       "13830     12.0  Senior             1009  \n",
       "39015      3.0   Adult             1002  \n",
       "19300      7.0   Adult             1001  \n",
       "6288       9.0  Senior              997  \n",
       "36163      4.0   Adult              896  \n",
       "19764     13.0  Senior              875  \n",
       "29709     15.0  Senior              863  \n",
       "16654     11.0  Senior              823  \n",
       "30209      4.0   Adult              816  \n",
       "3586       3.0   Adult              806  \n",
       "39251     11.0  Senior              802  "
      ]
     },
     "execution_count": 16,
     "metadata": {},
     "output_type": "execute_result"
    }
   ],
   "source": [
    "data[data['time_in_shelter'] > 200].sort_values(by=['time_in_shelter'], ascending=False)[['intake_type', 'condition', 'breed', 'outcome', 'age_out', 'age', 'time_in_shelter']][:20]"
   ]
  },
  {
   "cell_type": "code",
   "execution_count": 17,
   "metadata": {},
   "outputs": [
    {
     "name": "stdout",
     "output_type": "stream",
     "text": [
      "stray            39006\n",
      "surrender         9108\n",
      "public_assist     4269\n",
      "abandoned          246\n",
      "euth_request       164\n",
      "Name: intake_type, dtype: int64\n",
      "\n",
      "Missing Values: 0\n"
     ]
    }
   ],
   "source": [
    "quick_look('intake_type')"
   ]
  },
  {
   "cell_type": "code",
   "execution_count": 18,
   "metadata": {},
   "outputs": [
    {
     "name": "stdout",
     "output_type": "stream",
     "text": [
      "normal      46533\n",
      "injured      2794\n",
      "sick         1665\n",
      "nursing      1154\n",
      "aged          326\n",
      "other         105\n",
      "medical        89\n",
      "pregnant       63\n",
      "neonatal       44\n",
      "behavior       20\n",
      "Name: condition, dtype: int64\n",
      "\n",
      "Missing Values: 0\n"
     ]
    }
   ],
   "source": [
    "quick_look('condition')"
   ]
  },
  {
   "cell_type": "code",
   "execution_count": 19,
   "metadata": {},
   "outputs": [
    {
     "data": {
      "text/plain": [
       "intake_type\n",
       "abandoned        15.308943\n",
       "euth_request      3.274390\n",
       "public_assist    14.012181\n",
       "stray            15.629313\n",
       "surrender        20.538318\n",
       "Name: time_in_shelter, dtype: float64"
      ]
     },
     "execution_count": 19,
     "metadata": {},
     "output_type": "execute_result"
    }
   ],
   "source": [
    "data.groupby('intake_type').mean()['time_in_shelter']"
   ]
  },
  {
   "cell_type": "code",
   "execution_count": 20,
   "metadata": {},
   "outputs": [
    {
     "data": {
      "text/plain": [
       "stray            0.738848\n",
       "surrender        0.172523\n",
       "public_assist    0.080863\n",
       "abandoned        0.004660\n",
       "euth_request     0.003106\n",
       "Name: intake_type, dtype: float64"
      ]
     },
     "execution_count": 20,
     "metadata": {},
     "output_type": "execute_result"
    }
   ],
   "source": [
    "data['intake_type'].value_counts(normalize=True)"
   ]
  },
  {
   "cell_type": "code",
   "execution_count": 21,
   "metadata": {},
   "outputs": [
    {
     "data": {
      "text/html": [
       "<div>\n",
       "<style scoped>\n",
       "    .dataframe tbody tr th:only-of-type {\n",
       "        vertical-align: middle;\n",
       "    }\n",
       "\n",
       "    .dataframe tbody tr th {\n",
       "        vertical-align: top;\n",
       "    }\n",
       "\n",
       "    .dataframe thead th {\n",
       "        text-align: right;\n",
       "    }\n",
       "</style>\n",
       "<table border=\"1\" class=\"dataframe\">\n",
       "  <thead>\n",
       "    <tr style=\"text-align: right;\">\n",
       "      <th></th>\n",
       "      <th>age_in</th>\n",
       "      <th>age_out</th>\n",
       "      <th>sex</th>\n",
       "      <th>intact_out</th>\n",
       "      <th>pure</th>\n",
       "      <th>obey</th>\n",
       "      <th>reps_lower</th>\n",
       "      <th>reps_upper</th>\n",
       "      <th>height_low_inches</th>\n",
       "      <th>height_high_inches</th>\n",
       "      <th>weight_low_lbs</th>\n",
       "      <th>weight_high_lbs</th>\n",
       "      <th>time_in_shelter</th>\n",
       "    </tr>\n",
       "    <tr>\n",
       "      <th>intake_type</th>\n",
       "      <th></th>\n",
       "      <th></th>\n",
       "      <th></th>\n",
       "      <th></th>\n",
       "      <th></th>\n",
       "      <th></th>\n",
       "      <th></th>\n",
       "      <th></th>\n",
       "      <th></th>\n",
       "      <th></th>\n",
       "      <th></th>\n",
       "      <th></th>\n",
       "      <th></th>\n",
       "    </tr>\n",
       "  </thead>\n",
       "  <tbody>\n",
       "    <tr>\n",
       "      <th>abandoned</th>\n",
       "      <td>1.284553</td>\n",
       "      <td>1.321138</td>\n",
       "      <td>0.491870</td>\n",
       "      <td>0.345528</td>\n",
       "      <td>0.796748</td>\n",
       "      <td>0.676520</td>\n",
       "      <td>17.822738</td>\n",
       "      <td>30.880946</td>\n",
       "      <td>17.434601</td>\n",
       "      <td>20.380427</td>\n",
       "      <td>43.202628</td>\n",
       "      <td>57.326133</td>\n",
       "      <td>15.308943</td>\n",
       "    </tr>\n",
       "    <tr>\n",
       "      <th>euth_request</th>\n",
       "      <td>8.286585</td>\n",
       "      <td>8.286585</td>\n",
       "      <td>0.567073</td>\n",
       "      <td>0.402439</td>\n",
       "      <td>0.859756</td>\n",
       "      <td>0.687796</td>\n",
       "      <td>18.242021</td>\n",
       "      <td>30.306608</td>\n",
       "      <td>16.786765</td>\n",
       "      <td>19.809561</td>\n",
       "      <td>42.255958</td>\n",
       "      <td>54.903555</td>\n",
       "      <td>3.274390</td>\n",
       "    </tr>\n",
       "    <tr>\n",
       "      <th>public_assist</th>\n",
       "      <td>3.525884</td>\n",
       "      <td>3.554931</td>\n",
       "      <td>0.583041</td>\n",
       "      <td>0.345748</td>\n",
       "      <td>0.863200</td>\n",
       "      <td>0.633160</td>\n",
       "      <td>21.531626</td>\n",
       "      <td>35.722647</td>\n",
       "      <td>15.976351</td>\n",
       "      <td>18.759529</td>\n",
       "      <td>38.589077</td>\n",
       "      <td>50.564495</td>\n",
       "      <td>14.012181</td>\n",
       "    </tr>\n",
       "    <tr>\n",
       "      <th>stray</th>\n",
       "      <td>2.329513</td>\n",
       "      <td>2.362226</td>\n",
       "      <td>0.530918</td>\n",
       "      <td>0.273291</td>\n",
       "      <td>0.852253</td>\n",
       "      <td>0.636755</td>\n",
       "      <td>21.189157</td>\n",
       "      <td>35.736695</td>\n",
       "      <td>16.036061</td>\n",
       "      <td>18.948275</td>\n",
       "      <td>38.490646</td>\n",
       "      <td>51.212884</td>\n",
       "      <td>15.629313</td>\n",
       "    </tr>\n",
       "    <tr>\n",
       "      <th>surrender</th>\n",
       "      <td>2.717501</td>\n",
       "      <td>2.749890</td>\n",
       "      <td>0.495169</td>\n",
       "      <td>0.237923</td>\n",
       "      <td>0.801713</td>\n",
       "      <td>0.627176</td>\n",
       "      <td>21.928161</td>\n",
       "      <td>36.842166</td>\n",
       "      <td>15.689541</td>\n",
       "      <td>18.565229</td>\n",
       "      <td>37.490178</td>\n",
       "      <td>50.159548</td>\n",
       "      <td>20.538318</td>\n",
       "    </tr>\n",
       "  </tbody>\n",
       "</table>\n",
       "</div>"
      ],
      "text/plain": [
       "                 age_in   age_out       sex  intact_out      pure      obey  \\\n",
       "intake_type                                                                   \n",
       "abandoned      1.284553  1.321138  0.491870    0.345528  0.796748  0.676520   \n",
       "euth_request   8.286585  8.286585  0.567073    0.402439  0.859756  0.687796   \n",
       "public_assist  3.525884  3.554931  0.583041    0.345748  0.863200  0.633160   \n",
       "stray          2.329513  2.362226  0.530918    0.273291  0.852253  0.636755   \n",
       "surrender      2.717501  2.749890  0.495169    0.237923  0.801713  0.627176   \n",
       "\n",
       "               reps_lower  reps_upper  height_low_inches  height_high_inches  \\\n",
       "intake_type                                                                    \n",
       "abandoned       17.822738   30.880946          17.434601           20.380427   \n",
       "euth_request    18.242021   30.306608          16.786765           19.809561   \n",
       "public_assist   21.531626   35.722647          15.976351           18.759529   \n",
       "stray           21.189157   35.736695          16.036061           18.948275   \n",
       "surrender       21.928161   36.842166          15.689541           18.565229   \n",
       "\n",
       "               weight_low_lbs  weight_high_lbs  time_in_shelter  \n",
       "intake_type                                                      \n",
       "abandoned           43.202628        57.326133        15.308943  \n",
       "euth_request        42.255958        54.903555         3.274390  \n",
       "public_assist       38.589077        50.564495        14.012181  \n",
       "stray               38.490646        51.212884        15.629313  \n",
       "surrender           37.490178        50.159548        20.538318  "
      ]
     },
     "execution_count": 21,
     "metadata": {},
     "output_type": "execute_result"
    }
   ],
   "source": [
    "data.groupby(by='intake_type').mean()"
   ]
  },
  {
   "cell_type": "code",
   "execution_count": 22,
   "metadata": {},
   "outputs": [
    {
     "name": "stdout",
     "output_type": "stream",
     "text": [
      "adoption        24191\n",
      "transfer        13964\n",
      "return_owner    12775\n",
      "euthanasia       1537\n",
      "died              267\n",
      "disposal           41\n",
      "missing            18\n",
      "Name: outcome, dtype: int64\n",
      "\n",
      "Missing Values: 0\n"
     ]
    }
   ],
   "source": [
    "quick_look('outcome')"
   ]
  },
  {
   "cell_type": "code",
   "execution_count": 23,
   "metadata": {},
   "outputs": [
    {
     "data": {
      "image/png": "[encoded data removed]",
      "text/plain": [
       "<Figure size 1440x864 with 6 Axes>"
      ]
     },
     "metadata": {
      "needs_background": "light"
     },
     "output_type": "display_data"
    }
   ],
   "source": [
    "data['outcome'].hist(by=data['intake_type'], figsize=(20,12), bins=7);"
   ]
  },
  {
   "cell_type": "code",
   "execution_count": 24,
   "metadata": {},
   "outputs": [
    {
     "name": "stdout",
     "output_type": "stream",
     "text": [
      "1    27922\n",
      "0    24871\n",
      "Name: sex, dtype: int64\n",
      "\n",
      "Missing Values: 0\n"
     ]
    }
   ],
   "source": [
    "quick_look('sex')"
   ]
  },
  {
   "cell_type": "code",
   "execution_count": 25,
   "metadata": {},
   "outputs": [
    {
     "data": {
      "text/plain": [
       "sex\n",
       "0    16.433718\n",
       "1    16.191462\n",
       "Name: time_in_shelter, dtype: float64"
      ]
     },
     "execution_count": 25,
     "metadata": {},
     "output_type": "execute_result"
    }
   ],
   "source": [
    "data.groupby('sex').mean()['time_in_shelter']"
   ]
  },
  {
   "cell_type": "code",
   "execution_count": 26,
   "metadata": {},
   "outputs": [
    {
     "data": {
      "image/png": "[encoded data removed]",
      "text/plain": [
       "<Figure size 1008x288 with 2 Axes>"
      ]
     },
     "metadata": {
      "needs_background": "light"
     },
     "output_type": "display_data"
    }
   ],
   "source": [
    "data['outcome'].hist(by=data['sex'], figsize=(14,4), bins=2);"
   ]
  },
  {
   "cell_type": "code",
   "execution_count": 27,
   "metadata": {},
   "outputs": [
    {
     "data": {
      "text/html": [
       "<div>\n",
       "<style scoped>\n",
       "    .dataframe tbody tr th:only-of-type {\n",
       "        vertical-align: middle;\n",
       "    }\n",
       "\n",
       "    .dataframe tbody tr th {\n",
       "        vertical-align: top;\n",
       "    }\n",
       "\n",
       "    .dataframe thead th {\n",
       "        text-align: right;\n",
       "    }\n",
       "</style>\n",
       "<table border=\"1\" class=\"dataframe\">\n",
       "  <thead>\n",
       "    <tr style=\"text-align: right;\">\n",
       "      <th></th>\n",
       "      <th>intake_type</th>\n",
       "      <th>condition</th>\n",
       "      <th>age_in</th>\n",
       "      <th>breed</th>\n",
       "      <th>outcome</th>\n",
       "      <th>age_out</th>\n",
       "      <th>sex</th>\n",
       "      <th>intact_out</th>\n",
       "      <th>age</th>\n",
       "      <th>primary_color</th>\n",
       "      <th>...</th>\n",
       "      <th>breed_2</th>\n",
       "      <th>pure</th>\n",
       "      <th>obey</th>\n",
       "      <th>reps_lower</th>\n",
       "      <th>reps_upper</th>\n",
       "      <th>height_low_inches</th>\n",
       "      <th>height_high_inches</th>\n",
       "      <th>weight_low_lbs</th>\n",
       "      <th>weight_high_lbs</th>\n",
       "      <th>time_in_shelter</th>\n",
       "    </tr>\n",
       "  </thead>\n",
       "  <tbody>\n",
       "    <tr>\n",
       "      <th>0</th>\n",
       "      <td>surrender</td>\n",
       "      <td>normal</td>\n",
       "      <td>10.0</td>\n",
       "      <td>dachshund</td>\n",
       "      <td>transfer</td>\n",
       "      <td>10.0</td>\n",
       "      <td>1</td>\n",
       "      <td>0</td>\n",
       "      <td>Senior</td>\n",
       "      <td>tricolor</td>\n",
       "      <td>...</td>\n",
       "      <td>dachshund</td>\n",
       "      <td>1.0</td>\n",
       "      <td>0.500</td>\n",
       "      <td>26.0</td>\n",
       "      <td>40.0</td>\n",
       "      <td>7.000000</td>\n",
       "      <td>10.000000</td>\n",
       "      <td>16.000000</td>\n",
       "      <td>32.000000</td>\n",
       "      <td>4</td>\n",
       "    </tr>\n",
       "    <tr>\n",
       "      <th>1</th>\n",
       "      <td>public_assist</td>\n",
       "      <td>injured</td>\n",
       "      <td>16.0</td>\n",
       "      <td>shetland sheepdog</td>\n",
       "      <td>return_owner</td>\n",
       "      <td>16.0</td>\n",
       "      <td>1</td>\n",
       "      <td>0</td>\n",
       "      <td>Senior</td>\n",
       "      <td>brown</td>\n",
       "      <td>...</td>\n",
       "      <td>shetland sheepdog</td>\n",
       "      <td>1.0</td>\n",
       "      <td>0.950</td>\n",
       "      <td>1.0</td>\n",
       "      <td>4.0</td>\n",
       "      <td>17.941176</td>\n",
       "      <td>20.908497</td>\n",
       "      <td>42.934641</td>\n",
       "      <td>57.522876</td>\n",
       "      <td>0</td>\n",
       "    </tr>\n",
       "    <tr>\n",
       "      <th>2</th>\n",
       "      <td>stray</td>\n",
       "      <td>aged</td>\n",
       "      <td>15.0</td>\n",
       "      <td>labrador retriever/pit bull</td>\n",
       "      <td>return_owner</td>\n",
       "      <td>15.0</td>\n",
       "      <td>0</td>\n",
       "      <td>0</td>\n",
       "      <td>Senior</td>\n",
       "      <td>black</td>\n",
       "      <td>...</td>\n",
       "      <td>pit bull</td>\n",
       "      <td>0.0</td>\n",
       "      <td>0.825</td>\n",
       "      <td>8.5</td>\n",
       "      <td>14.5</td>\n",
       "      <td>19.000000</td>\n",
       "      <td>21.500000</td>\n",
       "      <td>47.500000</td>\n",
       "      <td>65.000000</td>\n",
       "      <td>0</td>\n",
       "    </tr>\n",
       "    <tr>\n",
       "      <th>3</th>\n",
       "      <td>stray</td>\n",
       "      <td>normal</td>\n",
       "      <td>15.0</td>\n",
       "      <td>miniature schnauzer</td>\n",
       "      <td>return_owner</td>\n",
       "      <td>15.0</td>\n",
       "      <td>0</td>\n",
       "      <td>1</td>\n",
       "      <td>Senior</td>\n",
       "      <td>black</td>\n",
       "      <td>...</td>\n",
       "      <td>miniature schnauzer</td>\n",
       "      <td>1.0</td>\n",
       "      <td>0.850</td>\n",
       "      <td>5.0</td>\n",
       "      <td>15.0</td>\n",
       "      <td>17.941176</td>\n",
       "      <td>20.908497</td>\n",
       "      <td>42.934641</td>\n",
       "      <td>57.522876</td>\n",
       "      <td>0</td>\n",
       "    </tr>\n",
       "    <tr>\n",
       "      <th>4</th>\n",
       "      <td>stray</td>\n",
       "      <td>normal</td>\n",
       "      <td>15.0</td>\n",
       "      <td>lhasa apso</td>\n",
       "      <td>return_owner</td>\n",
       "      <td>15.0</td>\n",
       "      <td>1</td>\n",
       "      <td>0</td>\n",
       "      <td>Senior</td>\n",
       "      <td>brown</td>\n",
       "      <td>...</td>\n",
       "      <td>lhasa apso</td>\n",
       "      <td>1.0</td>\n",
       "      <td>0.300</td>\n",
       "      <td>41.0</td>\n",
       "      <td>80.0</td>\n",
       "      <td>17.941176</td>\n",
       "      <td>20.908497</td>\n",
       "      <td>42.934641</td>\n",
       "      <td>57.522876</td>\n",
       "      <td>0</td>\n",
       "    </tr>\n",
       "  </tbody>\n",
       "</table>\n",
       "<p>5 rows × 22 columns</p>\n",
       "</div>"
      ],
      "text/plain": [
       "     intake_type condition  age_in                        breed       outcome  \\\n",
       "0      surrender    normal    10.0                    dachshund      transfer   \n",
       "1  public_assist   injured    16.0            shetland sheepdog  return_owner   \n",
       "2          stray      aged    15.0  labrador retriever/pit bull  return_owner   \n",
       "3          stray    normal    15.0          miniature schnauzer  return_owner   \n",
       "4          stray    normal    15.0                   lhasa apso  return_owner   \n",
       "\n",
       "   age_out  sex  intact_out     age primary_color  ...              breed_2  \\\n",
       "0     10.0    1           0  Senior      tricolor  ...            dachshund   \n",
       "1     16.0    1           0  Senior         brown  ...    shetland sheepdog   \n",
       "2     15.0    0           0  Senior         black  ...             pit bull   \n",
       "3     15.0    0           1  Senior         black  ...  miniature schnauzer   \n",
       "4     15.0    1           0  Senior         brown  ...           lhasa apso   \n",
       "\n",
       "  pure   obey  reps_lower  reps_upper  height_low_inches  height_high_inches  \\\n",
       "0  1.0  0.500        26.0        40.0           7.000000           10.000000   \n",
       "1  1.0  0.950         1.0         4.0          17.941176           20.908497   \n",
       "2  0.0  0.825         8.5        14.5          19.000000           21.500000   \n",
       "3  1.0  0.850         5.0        15.0          17.941176           20.908497   \n",
       "4  1.0  0.300        41.0        80.0          17.941176           20.908497   \n",
       "\n",
       "   weight_low_lbs  weight_high_lbs  time_in_shelter  \n",
       "0       16.000000        32.000000                4  \n",
       "1       42.934641        57.522876                0  \n",
       "2       47.500000        65.000000                0  \n",
       "3       42.934641        57.522876                0  \n",
       "4       42.934641        57.522876                0  \n",
       "\n",
       "[5 rows x 22 columns]"
      ]
     },
     "execution_count": 27,
     "metadata": {},
     "output_type": "execute_result"
    }
   ],
   "source": [
    "data.head()"
   ]
  },
  {
   "cell_type": "code",
   "execution_count": 28,
   "metadata": {},
   "outputs": [
    {
     "data": {
      "text/plain": [
       "age\n",
       "Baby      10.524575\n",
       "Young     14.996593\n",
       "Adult     19.938885\n",
       "Senior    21.477122\n",
       "Name: time_in_shelter, dtype: float64"
      ]
     },
     "execution_count": 28,
     "metadata": {},
     "output_type": "execute_result"
    }
   ],
   "source": [
    "data.groupby('age').mean()['time_in_shelter'].sort_values()"
   ]
  },
  {
   "cell_type": "code",
   "execution_count": 29,
   "metadata": {},
   "outputs": [
    {
     "data": {
      "text/plain": [
       "<matplotlib.collections.PathCollection at 0x7fce4d11bd30>"
      ]
     },
     "execution_count": 29,
     "metadata": {},
     "output_type": "execute_result"
    },
    {
     "data": {
      "image/png": "[encoded data removed]",
      "text/plain": [
       "<Figure size 720x432 with 1 Axes>"
      ]
     },
     "metadata": {
      "needs_background": "light"
     },
     "output_type": "display_data"
    }
   ],
   "source": [
    "plt.figure(figsize=(10, 6))\n",
    "plt.scatter(x=data['age_out'], y=data['time_in_shelter'])"
   ]
  },
  {
   "cell_type": "code",
   "execution_count": 30,
   "metadata": {},
   "outputs": [
    {
     "data": {
      "text/html": [
       "<div>\n",
       "<style scoped>\n",
       "    .dataframe tbody tr th:only-of-type {\n",
       "        vertical-align: middle;\n",
       "    }\n",
       "\n",
       "    .dataframe tbody tr th {\n",
       "        vertical-align: top;\n",
       "    }\n",
       "\n",
       "    .dataframe thead th {\n",
       "        text-align: right;\n",
       "    }\n",
       "</style>\n",
       "<table border=\"1\" class=\"dataframe\">\n",
       "  <thead>\n",
       "    <tr style=\"text-align: right;\">\n",
       "      <th></th>\n",
       "      <th>age_in</th>\n",
       "      <th>age_out</th>\n",
       "      <th>sex</th>\n",
       "      <th>intact_out</th>\n",
       "      <th>pure</th>\n",
       "      <th>obey</th>\n",
       "      <th>reps_lower</th>\n",
       "      <th>reps_upper</th>\n",
       "      <th>height_low_inches</th>\n",
       "      <th>height_high_inches</th>\n",
       "      <th>weight_low_lbs</th>\n",
       "      <th>weight_high_lbs</th>\n",
       "      <th>time_in_shelter</th>\n",
       "    </tr>\n",
       "  </thead>\n",
       "  <tbody>\n",
       "    <tr>\n",
       "      <th>count</th>\n",
       "      <td>52793.000000</td>\n",
       "      <td>52793.000000</td>\n",
       "      <td>52793.000000</td>\n",
       "      <td>52793.000000</td>\n",
       "      <td>52793.000000</td>\n",
       "      <td>52793.000000</td>\n",
       "      <td>52793.000000</td>\n",
       "      <td>52793.000000</td>\n",
       "      <td>52793.000000</td>\n",
       "      <td>52793.000000</td>\n",
       "      <td>52793.000000</td>\n",
       "      <td>52793.000000</td>\n",
       "      <td>52793.000000</td>\n",
       "    </tr>\n",
       "    <tr>\n",
       "      <th>mean</th>\n",
       "      <td>2.506829</td>\n",
       "      <td>2.539106</td>\n",
       "      <td>0.528896</td>\n",
       "      <td>0.273786</td>\n",
       "      <td>0.844184</td>\n",
       "      <td>0.635156</td>\n",
       "      <td>21.319503</td>\n",
       "      <td>35.886783</td>\n",
       "      <td>15.980299</td>\n",
       "      <td>18.876277</td>\n",
       "      <td>38.359655</td>\n",
       "      <td>51.018680</td>\n",
       "      <td>16.305590</td>\n",
       "    </tr>\n",
       "    <tr>\n",
       "      <th>std</th>\n",
       "      <td>3.164678</td>\n",
       "      <td>3.181899</td>\n",
       "      <td>0.499169</td>\n",
       "      <td>0.445905</td>\n",
       "      <td>0.362684</td>\n",
       "      <td>0.260480</td>\n",
       "      <td>19.522003</td>\n",
       "      <td>29.671460</td>\n",
       "      <td>6.119823</td>\n",
       "      <td>6.499101</td>\n",
       "      <td>25.561906</td>\n",
       "      <td>32.416399</td>\n",
       "      <td>45.866732</td>\n",
       "    </tr>\n",
       "    <tr>\n",
       "      <th>min</th>\n",
       "      <td>0.000000</td>\n",
       "      <td>0.000000</td>\n",
       "      <td>0.000000</td>\n",
       "      <td>0.000000</td>\n",
       "      <td>0.000000</td>\n",
       "      <td>0.100000</td>\n",
       "      <td>1.000000</td>\n",
       "      <td>4.000000</td>\n",
       "      <td>6.000000</td>\n",
       "      <td>8.000000</td>\n",
       "      <td>2.000000</td>\n",
       "      <td>5.000000</td>\n",
       "      <td>-1.000000</td>\n",
       "    </tr>\n",
       "    <tr>\n",
       "      <th>25%</th>\n",
       "      <td>0.000000</td>\n",
       "      <td>0.000000</td>\n",
       "      <td>0.000000</td>\n",
       "      <td>0.000000</td>\n",
       "      <td>1.000000</td>\n",
       "      <td>0.500000</td>\n",
       "      <td>1.000000</td>\n",
       "      <td>4.000000</td>\n",
       "      <td>10.000000</td>\n",
       "      <td>13.000000</td>\n",
       "      <td>16.000000</td>\n",
       "      <td>20.000000</td>\n",
       "      <td>2.000000</td>\n",
       "    </tr>\n",
       "    <tr>\n",
       "      <th>50%</th>\n",
       "      <td>1.000000</td>\n",
       "      <td>1.000000</td>\n",
       "      <td>1.000000</td>\n",
       "      <td>0.000000</td>\n",
       "      <td>1.000000</td>\n",
       "      <td>0.700000</td>\n",
       "      <td>16.000000</td>\n",
       "      <td>25.000000</td>\n",
       "      <td>17.000000</td>\n",
       "      <td>19.954248</td>\n",
       "      <td>40.000000</td>\n",
       "      <td>50.000000</td>\n",
       "      <td>5.000000</td>\n",
       "    </tr>\n",
       "    <tr>\n",
       "      <th>75%</th>\n",
       "      <td>3.000000</td>\n",
       "      <td>3.000000</td>\n",
       "      <td>1.000000</td>\n",
       "      <td>1.000000</td>\n",
       "      <td>1.000000</td>\n",
       "      <td>0.950000</td>\n",
       "      <td>33.500000</td>\n",
       "      <td>52.500000</td>\n",
       "      <td>21.000000</td>\n",
       "      <td>24.000000</td>\n",
       "      <td>55.000000</td>\n",
       "      <td>80.000000</td>\n",
       "      <td>11.000000</td>\n",
       "    </tr>\n",
       "    <tr>\n",
       "      <th>max</th>\n",
       "      <td>24.000000</td>\n",
       "      <td>24.000000</td>\n",
       "      <td>1.000000</td>\n",
       "      <td>1.000000</td>\n",
       "      <td>1.000000</td>\n",
       "      <td>0.950000</td>\n",
       "      <td>81.000000</td>\n",
       "      <td>100.000000</td>\n",
       "      <td>48.000000</td>\n",
       "      <td>66.000000</td>\n",
       "      <td>175.000000</td>\n",
       "      <td>190.000000</td>\n",
       "      <td>1912.000000</td>\n",
       "    </tr>\n",
       "  </tbody>\n",
       "</table>\n",
       "</div>"
      ],
      "text/plain": [
       "             age_in       age_out           sex    intact_out          pure  \\\n",
       "count  52793.000000  52793.000000  52793.000000  52793.000000  52793.000000   \n",
       "mean       2.506829      2.539106      0.528896      0.273786      0.844184   \n",
       "std        3.164678      3.181899      0.499169      0.445905      0.362684   \n",
       "min        0.000000      0.000000      0.000000      0.000000      0.000000   \n",
       "25%        0.000000      0.000000      0.000000      0.000000      1.000000   \n",
       "50%        1.000000      1.000000      1.000000      0.000000      1.000000   \n",
       "75%        3.000000      3.000000      1.000000      1.000000      1.000000   \n",
       "max       24.000000     24.000000      1.000000      1.000000      1.000000   \n",
       "\n",
       "               obey    reps_lower    reps_upper  height_low_inches  \\\n",
       "count  52793.000000  52793.000000  52793.000000       52793.000000   \n",
       "mean       0.635156     21.319503     35.886783          15.980299   \n",
       "std        0.260480     19.522003     29.671460           6.119823   \n",
       "min        0.100000      1.000000      4.000000           6.000000   \n",
       "25%        0.500000      1.000000      4.000000          10.000000   \n",
       "50%        0.700000     16.000000     25.000000          17.000000   \n",
       "75%        0.950000     33.500000     52.500000          21.000000   \n",
       "max        0.950000     81.000000    100.000000          48.000000   \n",
       "\n",
       "       height_high_inches  weight_low_lbs  weight_high_lbs  time_in_shelter  \n",
       "count        52793.000000    52793.000000     52793.000000     52793.000000  \n",
       "mean            18.876277       38.359655        51.018680        16.305590  \n",
       "std              6.499101       25.561906        32.416399        45.866732  \n",
       "min              8.000000        2.000000         5.000000        -1.000000  \n",
       "25%             13.000000       16.000000        20.000000         2.000000  \n",
       "50%             19.954248       40.000000        50.000000         5.000000  \n",
       "75%             24.000000       55.000000        80.000000        11.000000  \n",
       "max             66.000000      175.000000       190.000000      1912.000000  "
      ]
     },
     "execution_count": 30,
     "metadata": {},
     "output_type": "execute_result"
    }
   ],
   "source": [
    "data.describe()"
   ]
  },
  {
   "cell_type": "code",
   "execution_count": 31,
   "metadata": {},
   "outputs": [
    {
     "data": {
      "text/plain": [
       "return_owner    0.614429\n",
       "transfer        0.872109\n",
       "euthanasia      0.934588\n",
       "adoption        0.989386\n",
       "died            0.998706\n",
       "disposal        0.999914\n",
       "missing         1.000000\n",
       "Name: outcome, dtype: float64"
      ]
     },
     "execution_count": 31,
     "metadata": {},
     "output_type": "execute_result"
    }
   ],
   "source": [
    "data[data['time_in_shelter'] <= 1]['outcome'].value_counts(normalize=True).cumsum()"
   ]
  },
  {
   "cell_type": "code",
   "execution_count": 32,
   "metadata": {},
   "outputs": [
    {
     "data": {
      "text/plain": [
       "return_owner    0.589027\n",
       "transfer        0.845701\n",
       "adoption        0.934062\n",
       "euthanasia      0.990050\n",
       "died            0.998739\n",
       "disposal        0.999790\n",
       "missing         1.000000\n",
       "Name: outcome, dtype: float64"
      ]
     },
     "execution_count": 32,
     "metadata": {},
     "output_type": "execute_result"
    }
   ],
   "source": [
    "data[data['time_in_shelter'] <= 2]['outcome'].value_counts(normalize=True).cumsum()"
   ]
  },
  {
   "cell_type": "code",
   "execution_count": 33,
   "metadata": {},
   "outputs": [
    {
     "data": {
      "text/plain": [
       "return_owner    0.520413\n",
       "transfer        0.803146\n",
       "adoption        0.938705\n",
       "euthanasia      0.989399\n",
       "died            0.998590\n",
       "disposal        0.999774\n",
       "missing         1.000000\n",
       "Name: outcome, dtype: float64"
      ]
     },
     "execution_count": 33,
     "metadata": {},
     "output_type": "execute_result"
    }
   ],
   "source": [
    "data[data['time_in_shelter'] <= 3]['outcome'].value_counts(normalize=True).cumsum()"
   ]
  },
  {
   "cell_type": "markdown",
   "metadata": {},
   "source": [
    "Going to exclude dogs that have been in the system for only 1 day. They appear to be lost dogs returned to the owner or transfered out the same day."
   ]
  },
  {
   "cell_type": "code",
   "execution_count": 187,
   "metadata": {},
   "outputs": [
    {
     "data": {
      "text/plain": [
       "labrador retriever                7753\n",
       "chihuahua                         7715\n",
       "pit bull                          7054\n",
       "german shepherd                   3680\n",
       "australian cattle dog             2291\n",
       "dachshund                         1860\n",
       "siberian husky                    1173\n",
       "border collie                     1087\n",
       "boxer                             1043\n",
       "miniature poodle                   971\n",
       "yorkshire terrier                  861\n",
       "great pyrenees                     850\n",
       "australian shepherd                822\n",
       "fox terrier                        778\n",
       "beagle                             769\n",
       "miniature schnauzer                726\n",
       "american staffordshire terrier     697\n",
       "jack russell terrier               694\n",
       "shih tzu                           667\n",
       "cairn terrier                      627\n",
       "Name: breed_1, dtype: int64"
      ]
     },
     "execution_count": 187,
     "metadata": {},
     "output_type": "execute_result"
    }
   ],
   "source": [
    "data['breed_1'].value_counts()[:20]"
   ]
  },
  {
   "cell_type": "code",
   "execution_count": 192,
   "metadata": {},
   "outputs": [
    {
     "data": {
      "text/plain": [
       "tibetan spaniel                       39\n",
       "toy fox terrier                       38\n",
       "bullmastiff                           36\n",
       "bernese mountain dog                  32\n",
       "pharaoh hound                         31\n",
       "finnish spitz                         29\n",
       "airedale terrier                      28\n",
       "australian terrier                    25\n",
       "american foxhound                     24\n",
       "irish terrier                         22\n",
       "bearded collie                        22\n",
       "english springer spaniel              22\n",
       "tibetan terrier                       19\n",
       "chinese crested                       18\n",
       "german wirehaired pointer             18\n",
       "nova scotia duck tolling retriever    16\n",
       "silky terrier                         15\n",
       "english foxhound                      14\n",
       "beauceron                             13\n",
       "newfoundland                          12\n",
       "keeshond                              12\n",
       "schipperke                            12\n",
       "canaan dog                            11\n",
       "samoyed                               11\n",
       "skye terrier                          11\n",
       "field spaniel                         11\n",
       "affenpinscher                         10\n",
       "saluki                                10\n",
       "irish wolfhound                       10\n",
       "ibizan hound                           9\n",
       "japanese chin                          9\n",
       "wirehaired pointing griffon            9\n",
       "old english sheepdog                   9\n",
       "english cocker spaniel                 9\n",
       "english setter                         8\n",
       "belgian sheepdog                       6\n",
       "irish setter                           6\n",
       "kuvasz                                 6\n",
       "welsh springer spaniel                 5\n",
       "clumber spaniel                        5\n",
       "german pinscher                        4\n",
       "otterhound                             3\n",
       "gordon setter                          2\n",
       "belgian tervuren                       2\n",
       "borzoi                                 2\n",
       "lakeland terrier                       2\n",
       "afghan hound                           1\n",
       "norwegian elkhound                     1\n",
       "tibetan mastiff                        1\n",
       "briard                                 1\n",
       "Name: breed_2, dtype: int64"
      ]
     },
     "execution_count": 192,
     "metadata": {},
     "output_type": "execute_result"
    }
   ],
   "source": [
    "data['breed_2'].value_counts().tail(50)"
   ]
  },
  {
   "cell_type": "code",
   "execution_count": null,
   "metadata": {},
   "outputs": [],
   "source": []
  },
  {
   "cell_type": "markdown",
   "metadata": {},
   "source": [
    "# PCA"
   ]
  },
  {
   "cell_type": "code",
   "execution_count": 34,
   "metadata": {},
   "outputs": [],
   "source": [
    "from sklearn.linear_model import Lasso, Ridge\n",
    "from sklearn.preprocessing import StandardScaler, PolynomialFeatures\n",
    "from sklearn.model_selection import GridSearchCV, train_test_split\n",
    "from sklearn.metrics import mean_squared_error"
   ]
  },
  {
   "cell_type": "code",
   "execution_count": 150,
   "metadata": {},
   "outputs": [],
   "source": [
    "y = data[(data['time_in_shelter'] > 2) & (data['time_in_shelter'] < 60)]['time_in_shelter']\n",
    "X = data[(data['time_in_shelter'] > 2) & (data['time_in_shelter'] < 60)].drop(columns=['time_in_shelter'])"
   ]
  },
  {
   "cell_type": "code",
   "execution_count": 151,
   "metadata": {},
   "outputs": [
    {
     "data": {
      "text/plain": [
       "0      4\n",
       "5      6\n",
       "7     49\n",
       "9      9\n",
       "10    10\n",
       "Name: time_in_shelter, dtype: int64"
      ]
     },
     "execution_count": 151,
     "metadata": {},
     "output_type": "execute_result"
    }
   ],
   "source": [
    "y.head()"
   ]
  },
  {
   "cell_type": "code",
   "execution_count": 152,
   "metadata": {},
   "outputs": [
    {
     "data": {
      "text/plain": [
       "Index(['intake_type', 'condition', 'age_in', 'breed', 'outcome', 'age_out',\n",
       "       'sex', 'intact_out', 'age', 'primary_color', 'secondary_color',\n",
       "       'breed_1', 'breed_2', 'pure', 'obey', 'reps_lower', 'reps_upper',\n",
       "       'height_low_inches', 'height_high_inches', 'weight_low_lbs',\n",
       "       'weight_high_lbs'],\n",
       "      dtype='object')"
      ]
     },
     "execution_count": 152,
     "metadata": {},
     "output_type": "execute_result"
    }
   ],
   "source": [
    "X.columns"
   ]
  },
  {
   "cell_type": "code",
   "execution_count": 153,
   "metadata": {},
   "outputs": [],
   "source": [
    "numeric_cols = ['age_in', 'sex', 'intact_out', 'pure', 'obey', 'reps_lower', 'reps_upper', 'height_low_inches', 'height_high_inches', 'weight_low_lbs', 'weight_high_lbs']"
   ]
  },
  {
   "cell_type": "code",
   "execution_count": 154,
   "metadata": {},
   "outputs": [
    {
     "data": {
      "text/html": [
       "<div>\n",
       "<style scoped>\n",
       "    .dataframe tbody tr th:only-of-type {\n",
       "        vertical-align: middle;\n",
       "    }\n",
       "\n",
       "    .dataframe tbody tr th {\n",
       "        vertical-align: top;\n",
       "    }\n",
       "\n",
       "    .dataframe thead th {\n",
       "        text-align: right;\n",
       "    }\n",
       "</style>\n",
       "<table border=\"1\" class=\"dataframe\">\n",
       "  <thead>\n",
       "    <tr style=\"text-align: right;\">\n",
       "      <th></th>\n",
       "      <th>age_in</th>\n",
       "      <th>sex</th>\n",
       "      <th>intact_out</th>\n",
       "      <th>pure</th>\n",
       "      <th>obey</th>\n",
       "      <th>reps_lower</th>\n",
       "      <th>reps_upper</th>\n",
       "      <th>height_low_inches</th>\n",
       "      <th>height_high_inches</th>\n",
       "      <th>weight_low_lbs</th>\n",
       "      <th>weight_high_lbs</th>\n",
       "    </tr>\n",
       "  </thead>\n",
       "  <tbody>\n",
       "    <tr>\n",
       "      <th>0</th>\n",
       "      <td>10.0</td>\n",
       "      <td>1</td>\n",
       "      <td>0</td>\n",
       "      <td>1.0</td>\n",
       "      <td>0.50</td>\n",
       "      <td>26.0</td>\n",
       "      <td>40.0</td>\n",
       "      <td>7.000000</td>\n",
       "      <td>10.000000</td>\n",
       "      <td>16.000000</td>\n",
       "      <td>32.000000</td>\n",
       "    </tr>\n",
       "    <tr>\n",
       "      <th>5</th>\n",
       "      <td>15.0</td>\n",
       "      <td>1</td>\n",
       "      <td>0</td>\n",
       "      <td>1.0</td>\n",
       "      <td>0.95</td>\n",
       "      <td>1.0</td>\n",
       "      <td>4.0</td>\n",
       "      <td>17.941176</td>\n",
       "      <td>20.908497</td>\n",
       "      <td>42.934641</td>\n",
       "      <td>57.522876</td>\n",
       "    </tr>\n",
       "    <tr>\n",
       "      <th>7</th>\n",
       "      <td>16.0</td>\n",
       "      <td>1</td>\n",
       "      <td>0</td>\n",
       "      <td>1.0</td>\n",
       "      <td>0.50</td>\n",
       "      <td>26.0</td>\n",
       "      <td>40.0</td>\n",
       "      <td>7.000000</td>\n",
       "      <td>10.000000</td>\n",
       "      <td>16.000000</td>\n",
       "      <td>32.000000</td>\n",
       "    </tr>\n",
       "    <tr>\n",
       "      <th>9</th>\n",
       "      <td>17.0</td>\n",
       "      <td>1</td>\n",
       "      <td>0</td>\n",
       "      <td>1.0</td>\n",
       "      <td>0.30</td>\n",
       "      <td>41.0</td>\n",
       "      <td>80.0</td>\n",
       "      <td>6.000000</td>\n",
       "      <td>9.000000</td>\n",
       "      <td>2.000000</td>\n",
       "      <td>5.000000</td>\n",
       "    </tr>\n",
       "    <tr>\n",
       "      <th>10</th>\n",
       "      <td>13.0</td>\n",
       "      <td>0</td>\n",
       "      <td>1</td>\n",
       "      <td>0.0</td>\n",
       "      <td>0.95</td>\n",
       "      <td>1.0</td>\n",
       "      <td>4.0</td>\n",
       "      <td>21.500000</td>\n",
       "      <td>25.000000</td>\n",
       "      <td>65.000000</td>\n",
       "      <td>85.000000</td>\n",
       "    </tr>\n",
       "  </tbody>\n",
       "</table>\n",
       "</div>"
      ],
      "text/plain": [
       "    age_in  sex  intact_out  pure  obey  reps_lower  reps_upper  \\\n",
       "0     10.0    1           0   1.0  0.50        26.0        40.0   \n",
       "5     15.0    1           0   1.0  0.95         1.0         4.0   \n",
       "7     16.0    1           0   1.0  0.50        26.0        40.0   \n",
       "9     17.0    1           0   1.0  0.30        41.0        80.0   \n",
       "10    13.0    0           1   0.0  0.95         1.0         4.0   \n",
       "\n",
       "    height_low_inches  height_high_inches  weight_low_lbs  weight_high_lbs  \n",
       "0            7.000000           10.000000       16.000000        32.000000  \n",
       "5           17.941176           20.908497       42.934641        57.522876  \n",
       "7            7.000000           10.000000       16.000000        32.000000  \n",
       "9            6.000000            9.000000        2.000000         5.000000  \n",
       "10          21.500000           25.000000       65.000000        85.000000  "
      ]
     },
     "execution_count": 154,
     "metadata": {},
     "output_type": "execute_result"
    }
   ],
   "source": [
    "X[numeric_cols].head()"
   ]
  },
  {
   "cell_type": "code",
   "execution_count": 155,
   "metadata": {},
   "outputs": [
    {
     "data": {
      "text/plain": [
       "(35332, 21)"
      ]
     },
     "execution_count": 155,
     "metadata": {},
     "output_type": "execute_result"
    }
   ],
   "source": [
    "X.shape"
   ]
  },
  {
   "cell_type": "code",
   "execution_count": 156,
   "metadata": {},
   "outputs": [
    {
     "data": {
      "text/plain": [
       "(35332,)"
      ]
     },
     "execution_count": 156,
     "metadata": {},
     "output_type": "execute_result"
    }
   ],
   "source": [
    "y.shape"
   ]
  },
  {
   "cell_type": "code",
   "execution_count": 157,
   "metadata": {},
   "outputs": [],
   "source": [
    "pf = PolynomialFeatures(degree=2)\n",
    "X_poly = pf.fit_transform(X[numeric_cols])"
   ]
  },
  {
   "cell_type": "code",
   "execution_count": 158,
   "metadata": {},
   "outputs": [],
   "source": [
    "X_train, X_test, y_train, y_test = train_test_split(X_poly, y, random_state=123)"
   ]
  },
  {
   "cell_type": "code",
   "execution_count": 159,
   "metadata": {},
   "outputs": [],
   "source": [
    "ss = StandardScaler()\n",
    "\n",
    "X_train_sc = ss.fit_transform(X_train)\n",
    "X_test_sc = ss.transform(X_test)"
   ]
  },
  {
   "cell_type": "code",
   "execution_count": 160,
   "metadata": {},
   "outputs": [
    {
     "data": {
      "text/plain": [
       "GridSearchCV(estimator=Lasso(max_iter=10000, random_state=123),\n",
       "             param_grid={'alpha': [0.1, 0.25, 0.5, 1, 2]})"
      ]
     },
     "execution_count": 160,
     "metadata": {},
     "output_type": "execute_result"
    }
   ],
   "source": [
    "lr_params = {\n",
    "    'alpha': [.1, .25, .5, 1, 2],\n",
    "}\n",
    "\n",
    "lr = Lasso(random_state=123, max_iter=10_000)\n",
    "gs_lr = GridSearchCV(lr, lr_params)\n",
    "\n",
    "gs_lr.fit(X_train_sc, y_train)"
   ]
  },
  {
   "cell_type": "code",
   "execution_count": 161,
   "metadata": {},
   "outputs": [
    {
     "data": {
      "text/html": [
       "<div>\n",
       "<style scoped>\n",
       "    .dataframe tbody tr th:only-of-type {\n",
       "        vertical-align: middle;\n",
       "    }\n",
       "\n",
       "    .dataframe tbody tr th {\n",
       "        vertical-align: top;\n",
       "    }\n",
       "\n",
       "    .dataframe thead th {\n",
       "        text-align: right;\n",
       "    }\n",
       "</style>\n",
       "<table border=\"1\" class=\"dataframe\">\n",
       "  <thead>\n",
       "    <tr style=\"text-align: right;\">\n",
       "      <th></th>\n",
       "      <th>mean_fit_time</th>\n",
       "      <th>std_fit_time</th>\n",
       "      <th>mean_score_time</th>\n",
       "      <th>std_score_time</th>\n",
       "      <th>param_alpha</th>\n",
       "      <th>params</th>\n",
       "      <th>split0_test_score</th>\n",
       "      <th>split1_test_score</th>\n",
       "      <th>split2_test_score</th>\n",
       "      <th>split3_test_score</th>\n",
       "      <th>split4_test_score</th>\n",
       "      <th>mean_test_score</th>\n",
       "      <th>std_test_score</th>\n",
       "      <th>rank_test_score</th>\n",
       "    </tr>\n",
       "  </thead>\n",
       "  <tbody>\n",
       "    <tr>\n",
       "      <th>0</th>\n",
       "      <td>0.373336</td>\n",
       "      <td>0.077158</td>\n",
       "      <td>0.001436</td>\n",
       "      <td>0.000147</td>\n",
       "      <td>0.1</td>\n",
       "      <td>{'alpha': 0.1}</td>\n",
       "      <td>0.031702</td>\n",
       "      <td>0.028547</td>\n",
       "      <td>3.661851e-02</td>\n",
       "      <td>3.451982e-02</td>\n",
       "      <td>0.033196</td>\n",
       "      <td>0.032917</td>\n",
       "      <td>0.002717</td>\n",
       "      <td>1</td>\n",
       "    </tr>\n",
       "    <tr>\n",
       "      <th>1</th>\n",
       "      <td>0.088177</td>\n",
       "      <td>0.015366</td>\n",
       "      <td>0.001346</td>\n",
       "      <td>0.000127</td>\n",
       "      <td>0.25</td>\n",
       "      <td>{'alpha': 0.25}</td>\n",
       "      <td>0.021759</td>\n",
       "      <td>0.018824</td>\n",
       "      <td>2.657353e-02</td>\n",
       "      <td>2.625622e-02</td>\n",
       "      <td>0.023914</td>\n",
       "      <td>0.023465</td>\n",
       "      <td>0.002902</td>\n",
       "      <td>2</td>\n",
       "    </tr>\n",
       "    <tr>\n",
       "      <th>2</th>\n",
       "      <td>0.089882</td>\n",
       "      <td>0.017824</td>\n",
       "      <td>0.002063</td>\n",
       "      <td>0.001048</td>\n",
       "      <td>0.5</td>\n",
       "      <td>{'alpha': 0.5}</td>\n",
       "      <td>0.018704</td>\n",
       "      <td>0.016752</td>\n",
       "      <td>2.141846e-02</td>\n",
       "      <td>2.145130e-02</td>\n",
       "      <td>0.019220</td>\n",
       "      <td>0.019509</td>\n",
       "      <td>0.001775</td>\n",
       "      <td>3</td>\n",
       "    </tr>\n",
       "    <tr>\n",
       "      <th>3</th>\n",
       "      <td>0.069217</td>\n",
       "      <td>0.005304</td>\n",
       "      <td>0.001900</td>\n",
       "      <td>0.000490</td>\n",
       "      <td>1</td>\n",
       "      <td>{'alpha': 1}</td>\n",
       "      <td>0.006521</td>\n",
       "      <td>0.006756</td>\n",
       "      <td>6.406043e-03</td>\n",
       "      <td>6.472922e-03</td>\n",
       "      <td>0.006202</td>\n",
       "      <td>0.006472</td>\n",
       "      <td>0.000179</td>\n",
       "      <td>4</td>\n",
       "    </tr>\n",
       "    <tr>\n",
       "      <th>4</th>\n",
       "      <td>0.030199</td>\n",
       "      <td>0.000913</td>\n",
       "      <td>0.001312</td>\n",
       "      <td>0.000148</td>\n",
       "      <td>2</td>\n",
       "      <td>{'alpha': 2}</td>\n",
       "      <td>-0.000069</td>\n",
       "      <td>-0.000044</td>\n",
       "      <td>-9.571029e-08</td>\n",
       "      <td>-3.914565e-07</td>\n",
       "      <td>-0.000006</td>\n",
       "      <td>-0.000024</td>\n",
       "      <td>0.000028</td>\n",
       "      <td>5</td>\n",
       "    </tr>\n",
       "  </tbody>\n",
       "</table>\n",
       "</div>"
      ],
      "text/plain": [
       "   mean_fit_time  std_fit_time  mean_score_time  std_score_time param_alpha  \\\n",
       "0       0.373336      0.077158         0.001436        0.000147         0.1   \n",
       "1       0.088177      0.015366         0.001346        0.000127        0.25   \n",
       "2       0.089882      0.017824         0.002063        0.001048         0.5   \n",
       "3       0.069217      0.005304         0.001900        0.000490           1   \n",
       "4       0.030199      0.000913         0.001312        0.000148           2   \n",
       "\n",
       "            params  split0_test_score  split1_test_score  split2_test_score  \\\n",
       "0   {'alpha': 0.1}           0.031702           0.028547       3.661851e-02   \n",
       "1  {'alpha': 0.25}           0.021759           0.018824       2.657353e-02   \n",
       "2   {'alpha': 0.5}           0.018704           0.016752       2.141846e-02   \n",
       "3     {'alpha': 1}           0.006521           0.006756       6.406043e-03   \n",
       "4     {'alpha': 2}          -0.000069          -0.000044      -9.571029e-08   \n",
       "\n",
       "   split3_test_score  split4_test_score  mean_test_score  std_test_score  \\\n",
       "0       3.451982e-02           0.033196         0.032917        0.002717   \n",
       "1       2.625622e-02           0.023914         0.023465        0.002902   \n",
       "2       2.145130e-02           0.019220         0.019509        0.001775   \n",
       "3       6.472922e-03           0.006202         0.006472        0.000179   \n",
       "4      -3.914565e-07          -0.000006        -0.000024        0.000028   \n",
       "\n",
       "   rank_test_score  \n",
       "0                1  \n",
       "1                2  \n",
       "2                3  \n",
       "3                4  \n",
       "4                5  "
      ]
     },
     "execution_count": 161,
     "metadata": {},
     "output_type": "execute_result"
    }
   ],
   "source": [
    "pd.DataFrame(gs_lr.cv_results_)"
   ]
  },
  {
   "cell_type": "code",
   "execution_count": 162,
   "metadata": {},
   "outputs": [
    {
     "data": {
      "text/plain": [
       "11.52437315363294"
      ]
     },
     "execution_count": 162,
     "metadata": {},
     "output_type": "execute_result"
    }
   ],
   "source": [
    "mean_squared_error(y_test, gs_lr.predict(X_test_sc), squared=False)"
   ]
  },
  {
   "cell_type": "code",
   "execution_count": 163,
   "metadata": {},
   "outputs": [
    {
     "data": {
      "text/plain": [
       "array([12.25734412, 11.75133244, 12.75983262, ..., 10.35587218,\n",
       "       13.45650532, 14.79857889])"
      ]
     },
     "execution_count": 163,
     "metadata": {},
     "output_type": "execute_result"
    }
   ],
   "source": [
    "gs_lr.predict(X_test_sc)"
   ]
  },
  {
   "cell_type": "markdown",
   "metadata": {},
   "source": [
    "Baseline in days"
   ]
  },
  {
   "cell_type": "code",
   "execution_count": 164,
   "metadata": {},
   "outputs": [
    {
     "data": {
      "text/plain": [
       "11.388429752066116"
      ]
     },
     "execution_count": 164,
     "metadata": {},
     "output_type": "execute_result"
    }
   ],
   "source": [
    "y.mean()"
   ]
  },
  {
   "cell_type": "code",
   "execution_count": 165,
   "metadata": {},
   "outputs": [],
   "source": [
    "from sklearn.decomposition import PCA"
   ]
  },
  {
   "cell_type": "code",
   "execution_count": 166,
   "metadata": {},
   "outputs": [],
   "source": [
    "X_dum = pd.concat([\n",
    "    X[numeric_cols], \n",
    "    pd.get_dummies(X['breed_1']), \n",
    "    # pd.get_dummies(X['primary_color'], prefix='color'), \n",
    "    pd.get_dummies(X['condition'], prefix='condition'), \n",
    "    pd.get_dummies(X['intake_type'], prefix='intake')\n",
    "    ], axis=1)"
   ]
  },
  {
   "cell_type": "code",
   "execution_count": 167,
   "metadata": {},
   "outputs": [],
   "source": [
    "X_train, X_test, y_train, y_test = train_test_split(X_dum, y, random_state=1234)"
   ]
  },
  {
   "cell_type": "code",
   "execution_count": 168,
   "metadata": {},
   "outputs": [],
   "source": [
    "ss = StandardScaler()\n",
    "X_train_sc = ss.fit_transform(X_train)\n",
    "X_test_sc = ss.transform(X_test)"
   ]
  },
  {
   "cell_type": "code",
   "execution_count": 169,
   "metadata": {},
   "outputs": [],
   "source": [
    "pca = PCA(random_state=123, n_components=20)"
   ]
  },
  {
   "cell_type": "code",
   "execution_count": 170,
   "metadata": {},
   "outputs": [
    {
     "data": {
      "text/plain": [
       "PCA(n_components=20, random_state=123)"
      ]
     },
     "execution_count": 170,
     "metadata": {},
     "output_type": "execute_result"
    }
   ],
   "source": [
    "pca.fit(X_train_sc)"
   ]
  },
  {
   "cell_type": "code",
   "execution_count": 171,
   "metadata": {},
   "outputs": [],
   "source": [
    "Z_train = pca.transform(X_train_sc)"
   ]
  },
  {
   "cell_type": "code",
   "execution_count": 172,
   "metadata": {},
   "outputs": [],
   "source": [
    "Z_test = pca.transform(X_test_sc)"
   ]
  },
  {
   "cell_type": "code",
   "execution_count": 173,
   "metadata": {},
   "outputs": [
    {
     "data": {
      "text/html": [
       "<div>\n",
       "<style scoped>\n",
       "    .dataframe tbody tr th:only-of-type {\n",
       "        vertical-align: middle;\n",
       "    }\n",
       "\n",
       "    .dataframe tbody tr th {\n",
       "        vertical-align: top;\n",
       "    }\n",
       "\n",
       "    .dataframe thead th {\n",
       "        text-align: right;\n",
       "    }\n",
       "</style>\n",
       "<table border=\"1\" class=\"dataframe\">\n",
       "  <thead>\n",
       "    <tr style=\"text-align: right;\">\n",
       "      <th></th>\n",
       "      <th>0</th>\n",
       "      <th>1</th>\n",
       "      <th>2</th>\n",
       "      <th>3</th>\n",
       "      <th>4</th>\n",
       "      <th>5</th>\n",
       "      <th>6</th>\n",
       "      <th>7</th>\n",
       "      <th>8</th>\n",
       "      <th>9</th>\n",
       "      <th>10</th>\n",
       "      <th>11</th>\n",
       "      <th>12</th>\n",
       "      <th>13</th>\n",
       "      <th>14</th>\n",
       "      <th>15</th>\n",
       "      <th>16</th>\n",
       "      <th>17</th>\n",
       "      <th>18</th>\n",
       "      <th>19</th>\n",
       "    </tr>\n",
       "  </thead>\n",
       "  <tbody>\n",
       "    <tr>\n",
       "      <th>0</th>\n",
       "      <td>-4.087719</td>\n",
       "      <td>-0.216544</td>\n",
       "      <td>-0.489727</td>\n",
       "      <td>-0.978792</td>\n",
       "      <td>0.329294</td>\n",
       "      <td>-0.791577</td>\n",
       "      <td>0.882803</td>\n",
       "      <td>-0.144591</td>\n",
       "      <td>0.128835</td>\n",
       "      <td>-0.630916</td>\n",
       "      <td>0.003385</td>\n",
       "      <td>-0.330436</td>\n",
       "      <td>0.159570</td>\n",
       "      <td>0.289019</td>\n",
       "      <td>-0.162746</td>\n",
       "      <td>0.135032</td>\n",
       "      <td>-0.016239</td>\n",
       "      <td>0.166091</td>\n",
       "      <td>-0.009059</td>\n",
       "      <td>-0.065968</td>\n",
       "    </tr>\n",
       "    <tr>\n",
       "      <th>1</th>\n",
       "      <td>-0.081459</td>\n",
       "      <td>0.399376</td>\n",
       "      <td>-0.626977</td>\n",
       "      <td>-1.644757</td>\n",
       "      <td>0.240435</td>\n",
       "      <td>-3.585277</td>\n",
       "      <td>0.017118</td>\n",
       "      <td>1.338495</td>\n",
       "      <td>4.911669</td>\n",
       "      <td>-1.085629</td>\n",
       "      <td>-0.614591</td>\n",
       "      <td>-6.072199</td>\n",
       "      <td>1.374398</td>\n",
       "      <td>-2.553248</td>\n",
       "      <td>-1.597440</td>\n",
       "      <td>-2.361473</td>\n",
       "      <td>-6.762029</td>\n",
       "      <td>2.700192</td>\n",
       "      <td>0.353330</td>\n",
       "      <td>-9.578551</td>\n",
       "    </tr>\n",
       "    <tr>\n",
       "      <th>2</th>\n",
       "      <td>2.017496</td>\n",
       "      <td>5.321127</td>\n",
       "      <td>0.704012</td>\n",
       "      <td>-1.339454</td>\n",
       "      <td>-0.564346</td>\n",
       "      <td>-0.896688</td>\n",
       "      <td>-0.646705</td>\n",
       "      <td>0.467670</td>\n",
       "      <td>-0.336109</td>\n",
       "      <td>-0.221296</td>\n",
       "      <td>-0.044199</td>\n",
       "      <td>-1.143186</td>\n",
       "      <td>0.139777</td>\n",
       "      <td>-0.931360</td>\n",
       "      <td>-0.032513</td>\n",
       "      <td>1.069813</td>\n",
       "      <td>0.239949</td>\n",
       "      <td>-0.991129</td>\n",
       "      <td>0.964984</td>\n",
       "      <td>0.324168</td>\n",
       "    </tr>\n",
       "    <tr>\n",
       "      <th>3</th>\n",
       "      <td>0.311299</td>\n",
       "      <td>-0.317095</td>\n",
       "      <td>-0.486814</td>\n",
       "      <td>3.108933</td>\n",
       "      <td>-2.870770</td>\n",
       "      <td>0.293933</td>\n",
       "      <td>-0.530717</td>\n",
       "      <td>-0.240439</td>\n",
       "      <td>0.302815</td>\n",
       "      <td>0.028065</td>\n",
       "      <td>-0.296970</td>\n",
       "      <td>0.019945</td>\n",
       "      <td>-0.338981</td>\n",
       "      <td>0.297361</td>\n",
       "      <td>-0.058040</td>\n",
       "      <td>0.389155</td>\n",
       "      <td>-0.139187</td>\n",
       "      <td>-0.320732</td>\n",
       "      <td>-0.052017</td>\n",
       "      <td>0.084947</td>\n",
       "    </tr>\n",
       "    <tr>\n",
       "      <th>4</th>\n",
       "      <td>-4.170578</td>\n",
       "      <td>-0.211143</td>\n",
       "      <td>-0.455842</td>\n",
       "      <td>-0.660805</td>\n",
       "      <td>0.215158</td>\n",
       "      <td>-0.312122</td>\n",
       "      <td>1.039055</td>\n",
       "      <td>-0.067073</td>\n",
       "      <td>0.218292</td>\n",
       "      <td>-0.631398</td>\n",
       "      <td>0.003956</td>\n",
       "      <td>-0.339214</td>\n",
       "      <td>0.204796</td>\n",
       "      <td>0.308617</td>\n",
       "      <td>-0.167904</td>\n",
       "      <td>0.111215</td>\n",
       "      <td>0.011793</td>\n",
       "      <td>0.146266</td>\n",
       "      <td>0.060094</td>\n",
       "      <td>-0.069194</td>\n",
       "    </tr>\n",
       "    <tr>\n",
       "      <th>...</th>\n",
       "      <td>...</td>\n",
       "      <td>...</td>\n",
       "      <td>...</td>\n",
       "      <td>...</td>\n",
       "      <td>...</td>\n",
       "      <td>...</td>\n",
       "      <td>...</td>\n",
       "      <td>...</td>\n",
       "      <td>...</td>\n",
       "      <td>...</td>\n",
       "      <td>...</td>\n",
       "      <td>...</td>\n",
       "      <td>...</td>\n",
       "      <td>...</td>\n",
       "      <td>...</td>\n",
       "      <td>...</td>\n",
       "      <td>...</td>\n",
       "      <td>...</td>\n",
       "      <td>...</td>\n",
       "      <td>...</td>\n",
       "    </tr>\n",
       "    <tr>\n",
       "      <th>26494</th>\n",
       "      <td>2.696477</td>\n",
       "      <td>-0.663379</td>\n",
       "      <td>0.139432</td>\n",
       "      <td>-0.889129</td>\n",
       "      <td>-0.206771</td>\n",
       "      <td>-0.350173</td>\n",
       "      <td>-0.967094</td>\n",
       "      <td>-0.440503</td>\n",
       "      <td>0.559514</td>\n",
       "      <td>-0.643055</td>\n",
       "      <td>-0.459470</td>\n",
       "      <td>-0.296953</td>\n",
       "      <td>0.085232</td>\n",
       "      <td>-0.106760</td>\n",
       "      <td>0.239585</td>\n",
       "      <td>-0.102601</td>\n",
       "      <td>0.390551</td>\n",
       "      <td>-0.192996</td>\n",
       "      <td>-0.069188</td>\n",
       "      <td>-0.032196</td>\n",
       "    </tr>\n",
       "    <tr>\n",
       "      <th>26495</th>\n",
       "      <td>-4.111121</td>\n",
       "      <td>-0.151218</td>\n",
       "      <td>-0.500112</td>\n",
       "      <td>-0.930847</td>\n",
       "      <td>0.095956</td>\n",
       "      <td>-0.418916</td>\n",
       "      <td>0.565871</td>\n",
       "      <td>-0.327165</td>\n",
       "      <td>-0.201631</td>\n",
       "      <td>-0.902503</td>\n",
       "      <td>-0.157854</td>\n",
       "      <td>-0.302141</td>\n",
       "      <td>-0.246599</td>\n",
       "      <td>-0.128271</td>\n",
       "      <td>-0.035678</td>\n",
       "      <td>0.130877</td>\n",
       "      <td>-0.041650</td>\n",
       "      <td>0.093433</td>\n",
       "      <td>-0.152803</td>\n",
       "      <td>-0.040074</td>\n",
       "    </tr>\n",
       "    <tr>\n",
       "      <th>26496</th>\n",
       "      <td>1.966474</td>\n",
       "      <td>5.388252</td>\n",
       "      <td>0.704922</td>\n",
       "      <td>-1.185513</td>\n",
       "      <td>-0.835729</td>\n",
       "      <td>-0.364209</td>\n",
       "      <td>-0.911553</td>\n",
       "      <td>0.310935</td>\n",
       "      <td>-0.636757</td>\n",
       "      <td>-0.493043</td>\n",
       "      <td>-0.205248</td>\n",
       "      <td>-1.117817</td>\n",
       "      <td>-0.251317</td>\n",
       "      <td>-1.342118</td>\n",
       "      <td>0.092835</td>\n",
       "      <td>1.057719</td>\n",
       "      <td>0.223882</td>\n",
       "      <td>-1.070396</td>\n",
       "      <td>0.844292</td>\n",
       "      <td>0.348986</td>\n",
       "    </tr>\n",
       "    <tr>\n",
       "      <th>26497</th>\n",
       "      <td>-3.784872</td>\n",
       "      <td>0.177671</td>\n",
       "      <td>-0.040139</td>\n",
       "      <td>-0.788906</td>\n",
       "      <td>0.590571</td>\n",
       "      <td>-0.362088</td>\n",
       "      <td>-0.878800</td>\n",
       "      <td>-0.165398</td>\n",
       "      <td>-0.483708</td>\n",
       "      <td>-0.653782</td>\n",
       "      <td>0.059044</td>\n",
       "      <td>-0.341528</td>\n",
       "      <td>0.085638</td>\n",
       "      <td>0.027467</td>\n",
       "      <td>-0.086914</td>\n",
       "      <td>0.400256</td>\n",
       "      <td>0.246868</td>\n",
       "      <td>0.093702</td>\n",
       "      <td>0.027780</td>\n",
       "      <td>-0.235327</td>\n",
       "    </tr>\n",
       "    <tr>\n",
       "      <th>26498</th>\n",
       "      <td>0.394158</td>\n",
       "      <td>-0.322496</td>\n",
       "      <td>-0.520699</td>\n",
       "      <td>2.790945</td>\n",
       "      <td>-2.756635</td>\n",
       "      <td>-0.185522</td>\n",
       "      <td>-0.686969</td>\n",
       "      <td>-0.317958</td>\n",
       "      <td>0.213359</td>\n",
       "      <td>0.028546</td>\n",
       "      <td>-0.297541</td>\n",
       "      <td>0.028723</td>\n",
       "      <td>-0.384207</td>\n",
       "      <td>0.277764</td>\n",
       "      <td>-0.052882</td>\n",
       "      <td>0.412973</td>\n",
       "      <td>-0.167219</td>\n",
       "      <td>-0.300907</td>\n",
       "      <td>-0.121171</td>\n",
       "      <td>0.088173</td>\n",
       "    </tr>\n",
       "  </tbody>\n",
       "</table>\n",
       "<p>26499 rows × 20 columns</p>\n",
       "</div>"
      ],
      "text/plain": [
       "             0         1         2         3         4         5         6   \\\n",
       "0     -4.087719 -0.216544 -0.489727 -0.978792  0.329294 -0.791577  0.882803   \n",
       "1     -0.081459  0.399376 -0.626977 -1.644757  0.240435 -3.585277  0.017118   \n",
       "2      2.017496  5.321127  0.704012 -1.339454 -0.564346 -0.896688 -0.646705   \n",
       "3      0.311299 -0.317095 -0.486814  3.108933 -2.870770  0.293933 -0.530717   \n",
       "4     -4.170578 -0.211143 -0.455842 -0.660805  0.215158 -0.312122  1.039055   \n",
       "...         ...       ...       ...       ...       ...       ...       ...   \n",
       "26494  2.696477 -0.663379  0.139432 -0.889129 -0.206771 -0.350173 -0.967094   \n",
       "26495 -4.111121 -0.151218 -0.500112 -0.930847  0.095956 -0.418916  0.565871   \n",
       "26496  1.966474  5.388252  0.704922 -1.185513 -0.835729 -0.364209 -0.911553   \n",
       "26497 -3.784872  0.177671 -0.040139 -0.788906  0.590571 -0.362088 -0.878800   \n",
       "26498  0.394158 -0.322496 -0.520699  2.790945 -2.756635 -0.185522 -0.686969   \n",
       "\n",
       "             7         8         9         10        11        12        13  \\\n",
       "0     -0.144591  0.128835 -0.630916  0.003385 -0.330436  0.159570  0.289019   \n",
       "1      1.338495  4.911669 -1.085629 -0.614591 -6.072199  1.374398 -2.553248   \n",
       "2      0.467670 -0.336109 -0.221296 -0.044199 -1.143186  0.139777 -0.931360   \n",
       "3     -0.240439  0.302815  0.028065 -0.296970  0.019945 -0.338981  0.297361   \n",
       "4     -0.067073  0.218292 -0.631398  0.003956 -0.339214  0.204796  0.308617   \n",
       "...         ...       ...       ...       ...       ...       ...       ...   \n",
       "26494 -0.440503  0.559514 -0.643055 -0.459470 -0.296953  0.085232 -0.106760   \n",
       "26495 -0.327165 -0.201631 -0.902503 -0.157854 -0.302141 -0.246599 -0.128271   \n",
       "26496  0.310935 -0.636757 -0.493043 -0.205248 -1.117817 -0.251317 -1.342118   \n",
       "26497 -0.165398 -0.483708 -0.653782  0.059044 -0.341528  0.085638  0.027467   \n",
       "26498 -0.317958  0.213359  0.028546 -0.297541  0.028723 -0.384207  0.277764   \n",
       "\n",
       "             14        15        16        17        18        19  \n",
       "0     -0.162746  0.135032 -0.016239  0.166091 -0.009059 -0.065968  \n",
       "1     -1.597440 -2.361473 -6.762029  2.700192  0.353330 -9.578551  \n",
       "2     -0.032513  1.069813  0.239949 -0.991129  0.964984  0.324168  \n",
       "3     -0.058040  0.389155 -0.139187 -0.320732 -0.052017  0.084947  \n",
       "4     -0.167904  0.111215  0.011793  0.146266  0.060094 -0.069194  \n",
       "...         ...       ...       ...       ...       ...       ...  \n",
       "26494  0.239585 -0.102601  0.390551 -0.192996 -0.069188 -0.032196  \n",
       "26495 -0.035678  0.130877 -0.041650  0.093433 -0.152803 -0.040074  \n",
       "26496  0.092835  1.057719  0.223882 -1.070396  0.844292  0.348986  \n",
       "26497 -0.086914  0.400256  0.246868  0.093702  0.027780 -0.235327  \n",
       "26498 -0.052882  0.412973 -0.167219 -0.300907 -0.121171  0.088173  \n",
       "\n",
       "[26499 rows x 20 columns]"
      ]
     },
     "execution_count": 173,
     "metadata": {},
     "output_type": "execute_result"
    }
   ],
   "source": [
    "pd.DataFrame(Z_train)"
   ]
  },
  {
   "cell_type": "code",
   "execution_count": 174,
   "metadata": {},
   "outputs": [
    {
     "data": {
      "text/plain": [
       "array([0.0407, 0.0163, 0.0131, 0.0128, 0.0082, 0.0078, 0.0073, 0.007 ,\n",
       "       0.0069, 0.0068, 0.0067, 0.0067, 0.0066, 0.0066, 0.0066, 0.0066,\n",
       "       0.0065, 0.0065, 0.0065, 0.0065])"
      ]
     },
     "execution_count": 174,
     "metadata": {},
     "output_type": "execute_result"
    }
   ],
   "source": [
    "np.round(pca.explained_variance_ratio_, 4)"
   ]
  },
  {
   "cell_type": "code",
   "execution_count": 175,
   "metadata": {},
   "outputs": [
    {
     "name": "stdout",
     "output_type": "stream",
     "text": [
      "Explained variance (first 10 components): [0.041 0.016 0.013 0.013 0.008 0.008 0.007 0.007 0.007 0.007]\n",
      "\n",
      "Cumulative explained variance (first 10 components): [0.041 0.016 0.013 0.013 0.008 0.008 0.007 0.007 0.007 0.007]\n"
     ]
    }
   ],
   "source": [
    "# Pull the explained variance attribute.\n",
    "var_exp = pca.explained_variance_ratio_\n",
    "print(f'Explained variance (first 10 components): {np.round(var_exp[:10], 3)}')\n",
    "\n",
    "print('')\n",
    "\n",
    "# Generate the cumulative explained variance.\n",
    "cum_var_exp = np.cumsum(var_exp)\n",
    "print(f'Cumulative explained variance (first 10 components): {np.round(var_exp[:10], 3)}')"
   ]
  },
  {
   "cell_type": "code",
   "execution_count": 176,
   "metadata": {},
   "outputs": [
    {
     "data": {
      "text/html": [
       "<div>\n",
       "<style scoped>\n",
       "    .dataframe tbody tr th:only-of-type {\n",
       "        vertical-align: middle;\n",
       "    }\n",
       "\n",
       "    .dataframe tbody tr th {\n",
       "        vertical-align: top;\n",
       "    }\n",
       "\n",
       "    .dataframe thead th {\n",
       "        text-align: right;\n",
       "    }\n",
       "</style>\n",
       "<table border=\"1\" class=\"dataframe\">\n",
       "  <thead>\n",
       "    <tr style=\"text-align: right;\">\n",
       "      <th></th>\n",
       "      <th>Variation</th>\n",
       "      <th>PC</th>\n",
       "    </tr>\n",
       "  </thead>\n",
       "  <tbody>\n",
       "    <tr>\n",
       "      <th>0</th>\n",
       "      <td>0.040672</td>\n",
       "      <td>PCA_1</td>\n",
       "    </tr>\n",
       "    <tr>\n",
       "      <th>1</th>\n",
       "      <td>0.016331</td>\n",
       "      <td>PCA_2</td>\n",
       "    </tr>\n",
       "    <tr>\n",
       "      <th>2</th>\n",
       "      <td>0.013116</td>\n",
       "      <td>PCA_3</td>\n",
       "    </tr>\n",
       "    <tr>\n",
       "      <th>3</th>\n",
       "      <td>0.012762</td>\n",
       "      <td>PCA_4</td>\n",
       "    </tr>\n",
       "    <tr>\n",
       "      <th>4</th>\n",
       "      <td>0.008163</td>\n",
       "      <td>PCA_5</td>\n",
       "    </tr>\n",
       "  </tbody>\n",
       "</table>\n",
       "</div>"
      ],
      "text/plain": [
       "   Variation     PC\n",
       "0   0.040672  PCA_1\n",
       "1   0.016331  PCA_2\n",
       "2   0.013116  PCA_3\n",
       "3   0.012762  PCA_4\n",
       "4   0.008163  PCA_5"
      ]
     },
     "execution_count": 176,
     "metadata": {},
     "output_type": "execute_result"
    }
   ],
   "source": [
    "## Set up dataframe with PCs and amount of explained variance\n",
    "columns = [f'PCA_{i+1}' for i in pd.DataFrame(Z_train).columns]\n",
    "var_ratio_df = pd.DataFrame({\n",
    "    'Variation':var_exp,\n",
    "    'PC':columns\n",
    "})\n",
    "\n",
    "var_ratio_df.head()"
   ]
  },
  {
   "cell_type": "code",
   "execution_count": 177,
   "metadata": {},
   "outputs": [
    {
     "data": {
      "image/png": "[encoded data removed]",
      "text/plain": [
       "<Figure size 720x432 with 1 Axes>"
      ]
     },
     "metadata": {
      "needs_background": "light"
     },
     "output_type": "display_data"
    }
   ],
   "source": [
    "# Plot explained variance of each principal component\n",
    "plt.figure(figsize = (10,6))\n",
    "sns.barplot(x = var_ratio_df['PC'].head(10),\n",
    "            y = var_ratio_df['Variation'].head(10), \n",
    "            data=var_ratio_df, color=\"c\");"
   ]
  },
  {
   "cell_type": "code",
   "execution_count": 178,
   "metadata": {},
   "outputs": [
    {
     "data": {
      "image/png": "[encoded data removed]",
      "text/plain": [
       "<Figure size 864x576 with 1 Axes>"
      ]
     },
     "metadata": {
      "needs_background": "light"
     },
     "output_type": "display_data"
    }
   ],
   "source": [
    "# Plot the variance explained (and cumulative variance explained).\n",
    "plt.figure(figsize=(12,8))\n",
    "\n",
    "# Plot the explained variance.\n",
    "plt.plot(range(len(var_exp)), var_exp, lw=3, label = 'Variance Explained')\n",
    "\n",
    "# Plot the cumulative explained variance.\n",
    "plt.plot(range(len(var_exp)), cum_var_exp, lw=3, color = 'orange', label = 'Cumulative Variance Explained')\n",
    "\n",
    "# Add horizontal lines at y=0 and y=1.\n",
    "plt.axhline(y=0, linewidth=1, color='grey', ls='dashed')\n",
    "plt.axhline(y=1, linewidth=1, color='grey', ls='dashed')\n",
    "\n",
    "# Set the limits of the axes.\n",
    "plt.xlim([-1,21])\n",
    "plt.ylim([-0.01,1.01])\n",
    "\n",
    "# Label the axes.\n",
    "plt.ylabel('Variance Explained', fontsize=20)\n",
    "plt.xlabel('Principal Component', fontsize=20)\n",
    "\n",
    "# Make the tick labels bigger\n",
    "plt.xticks(range(0, 21, 5), range(1, 22, 5), fontsize=12)\n",
    "plt.yticks(fontsize=12)\n",
    "    \n",
    "# Add title and legend.\n",
    "plt.title('Component vs. Variance Explained', fontsize=24)\n",
    "plt.legend(fontsize=11);"
   ]
  },
  {
   "cell_type": "code",
   "execution_count": 179,
   "metadata": {},
   "outputs": [
    {
     "name": "stdout",
     "output_type": "stream",
     "text": [
      "Training Score: 0.0435\n",
      "Testing Score: 0.0493\n",
      "Training RMSE: 0.0435\n",
      "Testing RMSE: 0.0493\n"
     ]
    }
   ],
   "source": [
    "pca_lr = LinearRegression().fit(Z_train, y_train)\n",
    "\n",
    "# Score on training and testing sets.\n",
    "print(f'Training Score: {round(pca_lr.score(Z_train, y_train),4)}')\n",
    "print(f'Testing Score: {round(pca_lr.score(Z_test, y_test),4)}')\n",
    "\n",
    "print(f'Training RMSE: {round(pca_lr.score(Z_train, y_train),4)}')\n",
    "print(f'Testing RMSE: {round(pca_lr.score(Z_test, y_test),4)}')"
   ]
  },
  {
   "cell_type": "code",
   "execution_count": 180,
   "metadata": {},
   "outputs": [
    {
     "data": {
      "text/plain": [
       "11.57879653840711"
      ]
     },
     "execution_count": 180,
     "metadata": {},
     "output_type": "execute_result"
    }
   ],
   "source": [
    "mean_squared_error(y_test, pca_lr.predict(Z_test), squared=False)"
   ]
  },
  {
   "cell_type": "code",
   "execution_count": null,
   "metadata": {},
   "outputs": [],
   "source": []
  }
 ],
 "metadata": {
  "interpreter": {
   "hash": "6aaf12f00e2accd7ab3a69f0361120d5b81b11b109d190d2913220c8ee37ccf8"
  },
  "kernelspec": {
   "display_name": "Python 3.9.7 ('base')",
   "language": "python",
   "name": "python3"
  },
  "language_info": {
   "codemirror_mode": {
    "name": "ipython",
    "version": 3
   },
   "file_extension": ".py",
   "mimetype": "text/x-python",
   "name": "python",
   "nbconvert_exporter": "python",
   "pygments_lexer": "ipython3",
   "version": "3.9.7"
  },
  "orig_nbformat": 4
 },
 "nbformat": 4,
 "nbformat_minor": 2
}
