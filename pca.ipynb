{
 "cells": [
  {
   "cell_type": "markdown",
   "metadata": {},
   "source": [
    "# Import Libraries"
   ]
  },
  {
   "cell_type": "code",
   "execution_count": 173,
   "metadata": {},
   "outputs": [],
   "source": [
    "# Import our libraries.\n",
    "import pandas as pd\n",
    "import numpy as np\n",
    "import matplotlib.pyplot as plt\n",
    "import seaborn as sns\n",
    "\n",
    "# Import from sklearn.\n",
    "from sklearn.model_selection import train_test_split\n",
    "from sklearn.linear_model import LinearRegression\n",
    "from sklearn.preprocessing import PolynomialFeatures, StandardScaler\n",
    "\n",
    "# PCA\n",
    "from sklearn.decomposition import PCA\n"
   ]
  },
  {
   "cell_type": "markdown",
   "metadata": {},
   "source": [
    "# Helper Functions"
   ]
  },
  {
   "cell_type": "code",
   "execution_count": 174,
   "metadata": {},
   "outputs": [],
   "source": [
    "def quick_look(x):\n",
    "    print(data[x].value_counts())\n",
    "    print(f'\\nMissing Values: {data[x].isna().sum()}')"
   ]
  },
  {
   "cell_type": "markdown",
   "metadata": {},
   "source": [
    "# Import Data"
   ]
  },
  {
   "cell_type": "code",
   "execution_count": 175,
   "metadata": {},
   "outputs": [],
   "source": [
    "data = pd.read_csv('./datasets/cleaned_data/shelters_with_stats.csv')"
   ]
  },
  {
   "cell_type": "code",
   "execution_count": 176,
   "metadata": {},
   "outputs": [
    {
     "data": {
      "text/html": [
       "<div>\n",
       "<style scoped>\n",
       "    .dataframe tbody tr th:only-of-type {\n",
       "        vertical-align: middle;\n",
       "    }\n",
       "\n",
       "    .dataframe tbody tr th {\n",
       "        vertical-align: top;\n",
       "    }\n",
       "\n",
       "    .dataframe thead th {\n",
       "        text-align: right;\n",
       "    }\n",
       "</style>\n",
       "<table border=\"1\" class=\"dataframe\">\n",
       "  <thead>\n",
       "    <tr style=\"text-align: right;\">\n",
       "      <th></th>\n",
       "      <th>id</th>\n",
       "      <th>name</th>\n",
       "      <th>date_in</th>\n",
       "      <th>location</th>\n",
       "      <th>intake_type</th>\n",
       "      <th>condition</th>\n",
       "      <th>age_in</th>\n",
       "      <th>breed</th>\n",
       "      <th>color</th>\n",
       "      <th>date_out</th>\n",
       "      <th>...</th>\n",
       "      <th>breed_2</th>\n",
       "      <th>pure</th>\n",
       "      <th>obey</th>\n",
       "      <th>reps_lower</th>\n",
       "      <th>reps_upper</th>\n",
       "      <th>height_low_inches</th>\n",
       "      <th>height_high_inches</th>\n",
       "      <th>weight_low_lbs</th>\n",
       "      <th>weight_high_lbs</th>\n",
       "      <th>time_in_shelter</th>\n",
       "    </tr>\n",
       "  </thead>\n",
       "  <tbody>\n",
       "    <tr>\n",
       "      <th>0</th>\n",
       "      <td>A047759</td>\n",
       "      <td>Oreo</td>\n",
       "      <td>2014-04-02 15:55:00</td>\n",
       "      <td>Austin (TX)</td>\n",
       "      <td>surrender</td>\n",
       "      <td>normal</td>\n",
       "      <td>10.0</td>\n",
       "      <td>dachshund</td>\n",
       "      <td>Tricolor</td>\n",
       "      <td>2014-04-07 15:12:00</td>\n",
       "      <td>...</td>\n",
       "      <td>dachshund</td>\n",
       "      <td>1.0</td>\n",
       "      <td>0.500</td>\n",
       "      <td>26.0</td>\n",
       "      <td>40.0</td>\n",
       "      <td>7.000000</td>\n",
       "      <td>10.000000</td>\n",
       "      <td>16.000000</td>\n",
       "      <td>32.000000</td>\n",
       "      <td>4 days 23:17:00</td>\n",
       "    </tr>\n",
       "    <tr>\n",
       "      <th>1</th>\n",
       "      <td>A134067</td>\n",
       "      <td>Bandit</td>\n",
       "      <td>2013-11-16 09:02:00</td>\n",
       "      <td>12034 Research Blvd in Austin (TX)</td>\n",
       "      <td>public_assist</td>\n",
       "      <td>injured</td>\n",
       "      <td>16.0</td>\n",
       "      <td>shetland sheepdog</td>\n",
       "      <td>Brown/White</td>\n",
       "      <td>2013-11-16 11:54:00</td>\n",
       "      <td>...</td>\n",
       "      <td>shetland sheepdog</td>\n",
       "      <td>1.0</td>\n",
       "      <td>0.950</td>\n",
       "      <td>1.0</td>\n",
       "      <td>4.0</td>\n",
       "      <td>17.941176</td>\n",
       "      <td>20.908497</td>\n",
       "      <td>42.934641</td>\n",
       "      <td>57.522876</td>\n",
       "      <td>0 days 02:52:00</td>\n",
       "    </tr>\n",
       "    <tr>\n",
       "      <th>2</th>\n",
       "      <td>A141142</td>\n",
       "      <td>Bettie</td>\n",
       "      <td>2013-11-16 14:46:00</td>\n",
       "      <td>Austin (TX)</td>\n",
       "      <td>stray</td>\n",
       "      <td>aged</td>\n",
       "      <td>15.0</td>\n",
       "      <td>labrador retriever/pit bull</td>\n",
       "      <td>Black/White</td>\n",
       "      <td>2013-11-17 11:40:00</td>\n",
       "      <td>...</td>\n",
       "      <td>pit bull</td>\n",
       "      <td>0.0</td>\n",
       "      <td>0.825</td>\n",
       "      <td>8.5</td>\n",
       "      <td>14.5</td>\n",
       "      <td>19.000000</td>\n",
       "      <td>21.500000</td>\n",
       "      <td>47.500000</td>\n",
       "      <td>65.000000</td>\n",
       "      <td>0 days 20:54:00</td>\n",
       "    </tr>\n",
       "    <tr>\n",
       "      <th>3</th>\n",
       "      <td>A163459</td>\n",
       "      <td>Sasha</td>\n",
       "      <td>2014-11-14 15:11:00</td>\n",
       "      <td>Ih 35 And 41St St in Austin (TX)</td>\n",
       "      <td>stray</td>\n",
       "      <td>normal</td>\n",
       "      <td>15.0</td>\n",
       "      <td>miniature schnauzer</td>\n",
       "      <td>Black/Gray</td>\n",
       "      <td>2014-11-14 19:28:00</td>\n",
       "      <td>...</td>\n",
       "      <td>miniature schnauzer</td>\n",
       "      <td>1.0</td>\n",
       "      <td>0.850</td>\n",
       "      <td>5.0</td>\n",
       "      <td>15.0</td>\n",
       "      <td>17.941176</td>\n",
       "      <td>20.908497</td>\n",
       "      <td>42.934641</td>\n",
       "      <td>57.522876</td>\n",
       "      <td>0 days 04:17:00</td>\n",
       "    </tr>\n",
       "    <tr>\n",
       "      <th>4</th>\n",
       "      <td>A165752</td>\n",
       "      <td>Pep</td>\n",
       "      <td>2014-09-15 11:28:00</td>\n",
       "      <td>Gatlin Gun Rd And Brodie in Austin (TX)</td>\n",
       "      <td>stray</td>\n",
       "      <td>normal</td>\n",
       "      <td>15.0</td>\n",
       "      <td>lhasa apso</td>\n",
       "      <td>Brown/White</td>\n",
       "      <td>2014-09-15 16:35:00</td>\n",
       "      <td>...</td>\n",
       "      <td>lhasa apso</td>\n",
       "      <td>1.0</td>\n",
       "      <td>0.300</td>\n",
       "      <td>41.0</td>\n",
       "      <td>80.0</td>\n",
       "      <td>17.941176</td>\n",
       "      <td>20.908497</td>\n",
       "      <td>42.934641</td>\n",
       "      <td>57.522876</td>\n",
       "      <td>0 days 05:07:00</td>\n",
       "    </tr>\n",
       "  </tbody>\n",
       "</table>\n",
       "<p>5 rows × 30 columns</p>\n",
       "</div>"
      ],
      "text/plain": [
       "        id    name              date_in  \\\n",
       "0  A047759    Oreo  2014-04-02 15:55:00   \n",
       "1  A134067  Bandit  2013-11-16 09:02:00   \n",
       "2  A141142  Bettie  2013-11-16 14:46:00   \n",
       "3  A163459   Sasha  2014-11-14 15:11:00   \n",
       "4  A165752     Pep  2014-09-15 11:28:00   \n",
       "\n",
       "                                  location    intake_type condition  age_in  \\\n",
       "0                              Austin (TX)      surrender    normal    10.0   \n",
       "1       12034 Research Blvd in Austin (TX)  public_assist   injured    16.0   \n",
       "2                              Austin (TX)          stray      aged    15.0   \n",
       "3         Ih 35 And 41St St in Austin (TX)          stray    normal    15.0   \n",
       "4  Gatlin Gun Rd And Brodie in Austin (TX)          stray    normal    15.0   \n",
       "\n",
       "                         breed        color             date_out  ...  \\\n",
       "0                    dachshund     Tricolor  2014-04-07 15:12:00  ...   \n",
       "1            shetland sheepdog  Brown/White  2013-11-16 11:54:00  ...   \n",
       "2  labrador retriever/pit bull  Black/White  2013-11-17 11:40:00  ...   \n",
       "3          miniature schnauzer   Black/Gray  2014-11-14 19:28:00  ...   \n",
       "4                   lhasa apso  Brown/White  2014-09-15 16:35:00  ...   \n",
       "\n",
       "               breed_2 pure   obey  reps_lower  reps_upper  height_low_inches  \\\n",
       "0            dachshund  1.0  0.500        26.0        40.0           7.000000   \n",
       "1    shetland sheepdog  1.0  0.950         1.0         4.0          17.941176   \n",
       "2             pit bull  0.0  0.825         8.5        14.5          19.000000   \n",
       "3  miniature schnauzer  1.0  0.850         5.0        15.0          17.941176   \n",
       "4           lhasa apso  1.0  0.300        41.0        80.0          17.941176   \n",
       "\n",
       "  height_high_inches weight_low_lbs weight_high_lbs  time_in_shelter  \n",
       "0          10.000000      16.000000       32.000000  4 days 23:17:00  \n",
       "1          20.908497      42.934641       57.522876  0 days 02:52:00  \n",
       "2          21.500000      47.500000       65.000000  0 days 20:54:00  \n",
       "3          20.908497      42.934641       57.522876  0 days 04:17:00  \n",
       "4          20.908497      42.934641       57.522876  0 days 05:07:00  \n",
       "\n",
       "[5 rows x 30 columns]"
      ]
     },
     "execution_count": 176,
     "metadata": {},
     "output_type": "execute_result"
    }
   ],
   "source": [
    "data.head()"
   ]
  },
  {
   "cell_type": "code",
   "execution_count": 177,
   "metadata": {},
   "outputs": [],
   "source": [
    "data.dropna(inplace=True)"
   ]
  },
  {
   "cell_type": "code",
   "execution_count": 178,
   "metadata": {},
   "outputs": [
    {
     "data": {
      "text/plain": [
       "Index(['id', 'name', 'date_in', 'location', 'intake_type', 'condition',\n",
       "       'age_in', 'breed', 'color', 'date_out', 'dob', 'outcome', 'age_out',\n",
       "       'sex', 'intact_in', 'intact_out', 'age', 'primary_color',\n",
       "       'secondary_color', 'breed_1', 'breed_2', 'pure', 'obey', 'reps_lower',\n",
       "       'reps_upper', 'height_low_inches', 'height_high_inches',\n",
       "       'weight_low_lbs', 'weight_high_lbs', 'time_in_shelter'],\n",
       "      dtype='object')"
      ]
     },
     "execution_count": 178,
     "metadata": {},
     "output_type": "execute_result"
    }
   ],
   "source": [
    "data.columns"
   ]
  },
  {
   "cell_type": "code",
   "execution_count": 179,
   "metadata": {},
   "outputs": [
    {
     "data": {
      "text/html": [
       "<div>\n",
       "<style scoped>\n",
       "    .dataframe tbody tr th:only-of-type {\n",
       "        vertical-align: middle;\n",
       "    }\n",
       "\n",
       "    .dataframe tbody tr th {\n",
       "        vertical-align: top;\n",
       "    }\n",
       "\n",
       "    .dataframe thead th {\n",
       "        text-align: right;\n",
       "    }\n",
       "</style>\n",
       "<table border=\"1\" class=\"dataframe\">\n",
       "  <thead>\n",
       "    <tr style=\"text-align: right;\">\n",
       "      <th></th>\n",
       "      <th>id</th>\n",
       "      <th>name</th>\n",
       "      <th>date_in</th>\n",
       "      <th>location</th>\n",
       "      <th>intake_type</th>\n",
       "      <th>condition</th>\n",
       "      <th>age_in</th>\n",
       "      <th>breed</th>\n",
       "      <th>color</th>\n",
       "      <th>date_out</th>\n",
       "      <th>...</th>\n",
       "      <th>breed_2</th>\n",
       "      <th>pure</th>\n",
       "      <th>obey</th>\n",
       "      <th>reps_lower</th>\n",
       "      <th>reps_upper</th>\n",
       "      <th>height_low_inches</th>\n",
       "      <th>height_high_inches</th>\n",
       "      <th>weight_low_lbs</th>\n",
       "      <th>weight_high_lbs</th>\n",
       "      <th>time_in_shelter</th>\n",
       "    </tr>\n",
       "  </thead>\n",
       "  <tbody>\n",
       "    <tr>\n",
       "      <th>0</th>\n",
       "      <td>A047759</td>\n",
       "      <td>Oreo</td>\n",
       "      <td>2014-04-02 15:55:00</td>\n",
       "      <td>Austin (TX)</td>\n",
       "      <td>surrender</td>\n",
       "      <td>normal</td>\n",
       "      <td>10.0</td>\n",
       "      <td>dachshund</td>\n",
       "      <td>Tricolor</td>\n",
       "      <td>2014-04-07 15:12:00</td>\n",
       "      <td>...</td>\n",
       "      <td>dachshund</td>\n",
       "      <td>1.0</td>\n",
       "      <td>0.500</td>\n",
       "      <td>26.0</td>\n",
       "      <td>40.0</td>\n",
       "      <td>7.000000</td>\n",
       "      <td>10.000000</td>\n",
       "      <td>16.000000</td>\n",
       "      <td>32.000000</td>\n",
       "      <td>4 days 23:17:00</td>\n",
       "    </tr>\n",
       "    <tr>\n",
       "      <th>1</th>\n",
       "      <td>A134067</td>\n",
       "      <td>Bandit</td>\n",
       "      <td>2013-11-16 09:02:00</td>\n",
       "      <td>12034 Research Blvd in Austin (TX)</td>\n",
       "      <td>public_assist</td>\n",
       "      <td>injured</td>\n",
       "      <td>16.0</td>\n",
       "      <td>shetland sheepdog</td>\n",
       "      <td>Brown/White</td>\n",
       "      <td>2013-11-16 11:54:00</td>\n",
       "      <td>...</td>\n",
       "      <td>shetland sheepdog</td>\n",
       "      <td>1.0</td>\n",
       "      <td>0.950</td>\n",
       "      <td>1.0</td>\n",
       "      <td>4.0</td>\n",
       "      <td>17.941176</td>\n",
       "      <td>20.908497</td>\n",
       "      <td>42.934641</td>\n",
       "      <td>57.522876</td>\n",
       "      <td>0 days 02:52:00</td>\n",
       "    </tr>\n",
       "    <tr>\n",
       "      <th>2</th>\n",
       "      <td>A141142</td>\n",
       "      <td>Bettie</td>\n",
       "      <td>2013-11-16 14:46:00</td>\n",
       "      <td>Austin (TX)</td>\n",
       "      <td>stray</td>\n",
       "      <td>aged</td>\n",
       "      <td>15.0</td>\n",
       "      <td>labrador retriever/pit bull</td>\n",
       "      <td>Black/White</td>\n",
       "      <td>2013-11-17 11:40:00</td>\n",
       "      <td>...</td>\n",
       "      <td>pit bull</td>\n",
       "      <td>0.0</td>\n",
       "      <td>0.825</td>\n",
       "      <td>8.5</td>\n",
       "      <td>14.5</td>\n",
       "      <td>19.000000</td>\n",
       "      <td>21.500000</td>\n",
       "      <td>47.500000</td>\n",
       "      <td>65.000000</td>\n",
       "      <td>0 days 20:54:00</td>\n",
       "    </tr>\n",
       "    <tr>\n",
       "      <th>3</th>\n",
       "      <td>A163459</td>\n",
       "      <td>Sasha</td>\n",
       "      <td>2014-11-14 15:11:00</td>\n",
       "      <td>Ih 35 And 41St St in Austin (TX)</td>\n",
       "      <td>stray</td>\n",
       "      <td>normal</td>\n",
       "      <td>15.0</td>\n",
       "      <td>miniature schnauzer</td>\n",
       "      <td>Black/Gray</td>\n",
       "      <td>2014-11-14 19:28:00</td>\n",
       "      <td>...</td>\n",
       "      <td>miniature schnauzer</td>\n",
       "      <td>1.0</td>\n",
       "      <td>0.850</td>\n",
       "      <td>5.0</td>\n",
       "      <td>15.0</td>\n",
       "      <td>17.941176</td>\n",
       "      <td>20.908497</td>\n",
       "      <td>42.934641</td>\n",
       "      <td>57.522876</td>\n",
       "      <td>0 days 04:17:00</td>\n",
       "    </tr>\n",
       "    <tr>\n",
       "      <th>4</th>\n",
       "      <td>A165752</td>\n",
       "      <td>Pep</td>\n",
       "      <td>2014-09-15 11:28:00</td>\n",
       "      <td>Gatlin Gun Rd And Brodie in Austin (TX)</td>\n",
       "      <td>stray</td>\n",
       "      <td>normal</td>\n",
       "      <td>15.0</td>\n",
       "      <td>lhasa apso</td>\n",
       "      <td>Brown/White</td>\n",
       "      <td>2014-09-15 16:35:00</td>\n",
       "      <td>...</td>\n",
       "      <td>lhasa apso</td>\n",
       "      <td>1.0</td>\n",
       "      <td>0.300</td>\n",
       "      <td>41.0</td>\n",
       "      <td>80.0</td>\n",
       "      <td>17.941176</td>\n",
       "      <td>20.908497</td>\n",
       "      <td>42.934641</td>\n",
       "      <td>57.522876</td>\n",
       "      <td>0 days 05:07:00</td>\n",
       "    </tr>\n",
       "  </tbody>\n",
       "</table>\n",
       "<p>5 rows × 30 columns</p>\n",
       "</div>"
      ],
      "text/plain": [
       "        id    name              date_in  \\\n",
       "0  A047759    Oreo  2014-04-02 15:55:00   \n",
       "1  A134067  Bandit  2013-11-16 09:02:00   \n",
       "2  A141142  Bettie  2013-11-16 14:46:00   \n",
       "3  A163459   Sasha  2014-11-14 15:11:00   \n",
       "4  A165752     Pep  2014-09-15 11:28:00   \n",
       "\n",
       "                                  location    intake_type condition  age_in  \\\n",
       "0                              Austin (TX)      surrender    normal    10.0   \n",
       "1       12034 Research Blvd in Austin (TX)  public_assist   injured    16.0   \n",
       "2                              Austin (TX)          stray      aged    15.0   \n",
       "3         Ih 35 And 41St St in Austin (TX)          stray    normal    15.0   \n",
       "4  Gatlin Gun Rd And Brodie in Austin (TX)          stray    normal    15.0   \n",
       "\n",
       "                         breed        color             date_out  ...  \\\n",
       "0                    dachshund     Tricolor  2014-04-07 15:12:00  ...   \n",
       "1            shetland sheepdog  Brown/White  2013-11-16 11:54:00  ...   \n",
       "2  labrador retriever/pit bull  Black/White  2013-11-17 11:40:00  ...   \n",
       "3          miniature schnauzer   Black/Gray  2014-11-14 19:28:00  ...   \n",
       "4                   lhasa apso  Brown/White  2014-09-15 16:35:00  ...   \n",
       "\n",
       "               breed_2 pure   obey  reps_lower  reps_upper  height_low_inches  \\\n",
       "0            dachshund  1.0  0.500        26.0        40.0           7.000000   \n",
       "1    shetland sheepdog  1.0  0.950         1.0         4.0          17.941176   \n",
       "2             pit bull  0.0  0.825         8.5        14.5          19.000000   \n",
       "3  miniature schnauzer  1.0  0.850         5.0        15.0          17.941176   \n",
       "4           lhasa apso  1.0  0.300        41.0        80.0          17.941176   \n",
       "\n",
       "  height_high_inches weight_low_lbs weight_high_lbs  time_in_shelter  \n",
       "0          10.000000      16.000000       32.000000  4 days 23:17:00  \n",
       "1          20.908497      42.934641       57.522876  0 days 02:52:00  \n",
       "2          21.500000      47.500000       65.000000  0 days 20:54:00  \n",
       "3          20.908497      42.934641       57.522876  0 days 04:17:00  \n",
       "4          20.908497      42.934641       57.522876  0 days 05:07:00  \n",
       "\n",
       "[5 rows x 30 columns]"
      ]
     },
     "execution_count": 179,
     "metadata": {},
     "output_type": "execute_result"
    }
   ],
   "source": [
    "data.head()"
   ]
  },
  {
   "cell_type": "code",
   "execution_count": 180,
   "metadata": {},
   "outputs": [],
   "source": [
    "data.drop(columns=['id', 'name', 'date_in', 'location', 'color', 'date_out', 'dob', 'intact_in'], inplace=True)\n"
   ]
  },
  {
   "cell_type": "code",
   "execution_count": 181,
   "metadata": {},
   "outputs": [],
   "source": [
    "data['time_in_shelter'] = pd.to_timedelta(data['time_in_shelter'])\n",
    "data['time_in_shelter'] = data['time_in_shelter'].dt.days"
   ]
  },
  {
   "cell_type": "code",
   "execution_count": 182,
   "metadata": {},
   "outputs": [
    {
     "data": {
      "text/plain": [
       "16.30558975621768"
      ]
     },
     "execution_count": 182,
     "metadata": {},
     "output_type": "execute_result"
    }
   ],
   "source": [
    "data['time_in_shelter'].mean()"
   ]
  },
  {
   "cell_type": "code",
   "execution_count": 183,
   "metadata": {},
   "outputs": [
    {
     "data": {
      "text/html": [
       "<div>\n",
       "<style scoped>\n",
       "    .dataframe tbody tr th:only-of-type {\n",
       "        vertical-align: middle;\n",
       "    }\n",
       "\n",
       "    .dataframe tbody tr th {\n",
       "        vertical-align: top;\n",
       "    }\n",
       "\n",
       "    .dataframe thead th {\n",
       "        text-align: right;\n",
       "    }\n",
       "</style>\n",
       "<table border=\"1\" class=\"dataframe\">\n",
       "  <thead>\n",
       "    <tr style=\"text-align: right;\">\n",
       "      <th></th>\n",
       "      <th>intake_type</th>\n",
       "      <th>condition</th>\n",
       "      <th>age_in</th>\n",
       "      <th>breed</th>\n",
       "      <th>outcome</th>\n",
       "      <th>age_out</th>\n",
       "      <th>sex</th>\n",
       "      <th>intact_out</th>\n",
       "      <th>age</th>\n",
       "      <th>primary_color</th>\n",
       "      <th>...</th>\n",
       "      <th>breed_2</th>\n",
       "      <th>pure</th>\n",
       "      <th>obey</th>\n",
       "      <th>reps_lower</th>\n",
       "      <th>reps_upper</th>\n",
       "      <th>height_low_inches</th>\n",
       "      <th>height_high_inches</th>\n",
       "      <th>weight_low_lbs</th>\n",
       "      <th>weight_high_lbs</th>\n",
       "      <th>time_in_shelter</th>\n",
       "    </tr>\n",
       "  </thead>\n",
       "  <tbody>\n",
       "    <tr>\n",
       "      <th>0</th>\n",
       "      <td>surrender</td>\n",
       "      <td>normal</td>\n",
       "      <td>10.0</td>\n",
       "      <td>dachshund</td>\n",
       "      <td>transfer</td>\n",
       "      <td>10.0</td>\n",
       "      <td>1</td>\n",
       "      <td>0</td>\n",
       "      <td>Senior</td>\n",
       "      <td>tricolor</td>\n",
       "      <td>...</td>\n",
       "      <td>dachshund</td>\n",
       "      <td>1.0</td>\n",
       "      <td>0.500</td>\n",
       "      <td>26.0</td>\n",
       "      <td>40.0</td>\n",
       "      <td>7.000000</td>\n",
       "      <td>10.000000</td>\n",
       "      <td>16.000000</td>\n",
       "      <td>32.000000</td>\n",
       "      <td>4</td>\n",
       "    </tr>\n",
       "    <tr>\n",
       "      <th>1</th>\n",
       "      <td>public_assist</td>\n",
       "      <td>injured</td>\n",
       "      <td>16.0</td>\n",
       "      <td>shetland sheepdog</td>\n",
       "      <td>return_owner</td>\n",
       "      <td>16.0</td>\n",
       "      <td>1</td>\n",
       "      <td>0</td>\n",
       "      <td>Senior</td>\n",
       "      <td>brown</td>\n",
       "      <td>...</td>\n",
       "      <td>shetland sheepdog</td>\n",
       "      <td>1.0</td>\n",
       "      <td>0.950</td>\n",
       "      <td>1.0</td>\n",
       "      <td>4.0</td>\n",
       "      <td>17.941176</td>\n",
       "      <td>20.908497</td>\n",
       "      <td>42.934641</td>\n",
       "      <td>57.522876</td>\n",
       "      <td>0</td>\n",
       "    </tr>\n",
       "    <tr>\n",
       "      <th>2</th>\n",
       "      <td>stray</td>\n",
       "      <td>aged</td>\n",
       "      <td>15.0</td>\n",
       "      <td>labrador retriever/pit bull</td>\n",
       "      <td>return_owner</td>\n",
       "      <td>15.0</td>\n",
       "      <td>0</td>\n",
       "      <td>0</td>\n",
       "      <td>Senior</td>\n",
       "      <td>black</td>\n",
       "      <td>...</td>\n",
       "      <td>pit bull</td>\n",
       "      <td>0.0</td>\n",
       "      <td>0.825</td>\n",
       "      <td>8.5</td>\n",
       "      <td>14.5</td>\n",
       "      <td>19.000000</td>\n",
       "      <td>21.500000</td>\n",
       "      <td>47.500000</td>\n",
       "      <td>65.000000</td>\n",
       "      <td>0</td>\n",
       "    </tr>\n",
       "    <tr>\n",
       "      <th>3</th>\n",
       "      <td>stray</td>\n",
       "      <td>normal</td>\n",
       "      <td>15.0</td>\n",
       "      <td>miniature schnauzer</td>\n",
       "      <td>return_owner</td>\n",
       "      <td>15.0</td>\n",
       "      <td>0</td>\n",
       "      <td>1</td>\n",
       "      <td>Senior</td>\n",
       "      <td>black</td>\n",
       "      <td>...</td>\n",
       "      <td>miniature schnauzer</td>\n",
       "      <td>1.0</td>\n",
       "      <td>0.850</td>\n",
       "      <td>5.0</td>\n",
       "      <td>15.0</td>\n",
       "      <td>17.941176</td>\n",
       "      <td>20.908497</td>\n",
       "      <td>42.934641</td>\n",
       "      <td>57.522876</td>\n",
       "      <td>0</td>\n",
       "    </tr>\n",
       "    <tr>\n",
       "      <th>4</th>\n",
       "      <td>stray</td>\n",
       "      <td>normal</td>\n",
       "      <td>15.0</td>\n",
       "      <td>lhasa apso</td>\n",
       "      <td>return_owner</td>\n",
       "      <td>15.0</td>\n",
       "      <td>1</td>\n",
       "      <td>0</td>\n",
       "      <td>Senior</td>\n",
       "      <td>brown</td>\n",
       "      <td>...</td>\n",
       "      <td>lhasa apso</td>\n",
       "      <td>1.0</td>\n",
       "      <td>0.300</td>\n",
       "      <td>41.0</td>\n",
       "      <td>80.0</td>\n",
       "      <td>17.941176</td>\n",
       "      <td>20.908497</td>\n",
       "      <td>42.934641</td>\n",
       "      <td>57.522876</td>\n",
       "      <td>0</td>\n",
       "    </tr>\n",
       "  </tbody>\n",
       "</table>\n",
       "<p>5 rows × 22 columns</p>\n",
       "</div>"
      ],
      "text/plain": [
       "     intake_type condition  age_in                        breed       outcome  \\\n",
       "0      surrender    normal    10.0                    dachshund      transfer   \n",
       "1  public_assist   injured    16.0            shetland sheepdog  return_owner   \n",
       "2          stray      aged    15.0  labrador retriever/pit bull  return_owner   \n",
       "3          stray    normal    15.0          miniature schnauzer  return_owner   \n",
       "4          stray    normal    15.0                   lhasa apso  return_owner   \n",
       "\n",
       "   age_out  sex  intact_out     age primary_color  ...              breed_2  \\\n",
       "0     10.0    1           0  Senior      tricolor  ...            dachshund   \n",
       "1     16.0    1           0  Senior         brown  ...    shetland sheepdog   \n",
       "2     15.0    0           0  Senior         black  ...             pit bull   \n",
       "3     15.0    0           1  Senior         black  ...  miniature schnauzer   \n",
       "4     15.0    1           0  Senior         brown  ...           lhasa apso   \n",
       "\n",
       "  pure   obey  reps_lower  reps_upper  height_low_inches  height_high_inches  \\\n",
       "0  1.0  0.500        26.0        40.0           7.000000           10.000000   \n",
       "1  1.0  0.950         1.0         4.0          17.941176           20.908497   \n",
       "2  0.0  0.825         8.5        14.5          19.000000           21.500000   \n",
       "3  1.0  0.850         5.0        15.0          17.941176           20.908497   \n",
       "4  1.0  0.300        41.0        80.0          17.941176           20.908497   \n",
       "\n",
       "   weight_low_lbs  weight_high_lbs  time_in_shelter  \n",
       "0       16.000000        32.000000                4  \n",
       "1       42.934641        57.522876                0  \n",
       "2       47.500000        65.000000                0  \n",
       "3       42.934641        57.522876                0  \n",
       "4       42.934641        57.522876                0  \n",
       "\n",
       "[5 rows x 22 columns]"
      ]
     },
     "execution_count": 183,
     "metadata": {},
     "output_type": "execute_result"
    }
   ],
   "source": [
    "data.head()"
   ]
  },
  {
   "cell_type": "code",
   "execution_count": 184,
   "metadata": {},
   "outputs": [
    {
     "data": {
      "text/plain": [
       "<AxesSubplot:>"
      ]
     },
     "execution_count": 184,
     "metadata": {},
     "output_type": "execute_result"
    },
    {
     "data": {
      "image/png": "[encoded data removed]",
      "text/plain": [
       "<Figure size 432x288 with 1 Axes>"
      ]
     },
     "metadata": {
      "needs_background": "light"
     },
     "output_type": "display_data"
    }
   ],
   "source": [
    "data['time_in_shelter'].hist(bins=5)"
   ]
  },
  {
   "cell_type": "code",
   "execution_count": 185,
   "metadata": {},
   "outputs": [
    {
     "data": {
      "image/png": "[encoded data removed]",
      "text/plain": [
       "<Figure size 432x288 with 1 Axes>"
      ]
     },
     "metadata": {
      "needs_background": "light"
     },
     "output_type": "display_data"
    }
   ],
   "source": [
    "plt.boxplot(x=data['time_in_shelter']);"
   ]
  },
  {
   "cell_type": "code",
   "execution_count": 186,
   "metadata": {},
   "outputs": [
    {
     "data": {
      "text/plain": [
       "<AxesSubplot:>"
      ]
     },
     "execution_count": 186,
     "metadata": {},
     "output_type": "execute_result"
    },
    {
     "data": {
      "image/png": "[encoded data removed]",
      "text/plain": [
       "<Figure size 432x288 with 1 Axes>"
      ]
     },
     "metadata": {
      "needs_background": "light"
     },
     "output_type": "display_data"
    }
   ],
   "source": [
    "data[data['time_in_shelter'] < 100]['time_in_shelter'].hist()"
   ]
  },
  {
   "cell_type": "code",
   "execution_count": 187,
   "metadata": {},
   "outputs": [
    {
     "data": {
      "text/html": [
       "<div>\n",
       "<style scoped>\n",
       "    .dataframe tbody tr th:only-of-type {\n",
       "        vertical-align: middle;\n",
       "    }\n",
       "\n",
       "    .dataframe tbody tr th {\n",
       "        vertical-align: top;\n",
       "    }\n",
       "\n",
       "    .dataframe thead th {\n",
       "        text-align: right;\n",
       "    }\n",
       "</style>\n",
       "<table border=\"1\" class=\"dataframe\">\n",
       "  <thead>\n",
       "    <tr style=\"text-align: right;\">\n",
       "      <th></th>\n",
       "      <th>intake_type</th>\n",
       "      <th>condition</th>\n",
       "      <th>breed</th>\n",
       "      <th>outcome</th>\n",
       "      <th>age_out</th>\n",
       "      <th>age</th>\n",
       "      <th>time_in_shelter</th>\n",
       "    </tr>\n",
       "  </thead>\n",
       "  <tbody>\n",
       "    <tr>\n",
       "      <th>1881</th>\n",
       "      <td>stray</td>\n",
       "      <td>injured</td>\n",
       "      <td>pit bull</td>\n",
       "      <td>adoption</td>\n",
       "      <td>11.0</td>\n",
       "      <td>Senior</td>\n",
       "      <td>1912</td>\n",
       "    </tr>\n",
       "    <tr>\n",
       "      <th>19797</th>\n",
       "      <td>surrender</td>\n",
       "      <td>normal</td>\n",
       "      <td>pit bull</td>\n",
       "      <td>adoption</td>\n",
       "      <td>5.0</td>\n",
       "      <td>Adult</td>\n",
       "      <td>1521</td>\n",
       "    </tr>\n",
       "    <tr>\n",
       "      <th>23574</th>\n",
       "      <td>stray</td>\n",
       "      <td>normal</td>\n",
       "      <td>labrador retriever</td>\n",
       "      <td>transfer</td>\n",
       "      <td>6.0</td>\n",
       "      <td>Adult</td>\n",
       "      <td>1351</td>\n",
       "    </tr>\n",
       "    <tr>\n",
       "      <th>35000</th>\n",
       "      <td>surrender</td>\n",
       "      <td>normal</td>\n",
       "      <td>pit bull</td>\n",
       "      <td>adoption</td>\n",
       "      <td>11.0</td>\n",
       "      <td>Senior</td>\n",
       "      <td>1195</td>\n",
       "    </tr>\n",
       "    <tr>\n",
       "      <th>32610</th>\n",
       "      <td>stray</td>\n",
       "      <td>normal</td>\n",
       "      <td>boxer</td>\n",
       "      <td>adoption</td>\n",
       "      <td>13.0</td>\n",
       "      <td>Senior</td>\n",
       "      <td>1167</td>\n",
       "    </tr>\n",
       "    <tr>\n",
       "      <th>...</th>\n",
       "      <td>...</td>\n",
       "      <td>...</td>\n",
       "      <td>...</td>\n",
       "      <td>...</td>\n",
       "      <td>...</td>\n",
       "      <td>...</td>\n",
       "      <td>...</td>\n",
       "    </tr>\n",
       "    <tr>\n",
       "      <th>27097</th>\n",
       "      <td>surrender</td>\n",
       "      <td>normal</td>\n",
       "      <td>labrador retriever</td>\n",
       "      <td>adoption</td>\n",
       "      <td>8.0</td>\n",
       "      <td>Adult</td>\n",
       "      <td>202</td>\n",
       "    </tr>\n",
       "    <tr>\n",
       "      <th>1804</th>\n",
       "      <td>stray</td>\n",
       "      <td>normal</td>\n",
       "      <td>chihuahua</td>\n",
       "      <td>adoption</td>\n",
       "      <td>5.0</td>\n",
       "      <td>Adult</td>\n",
       "      <td>202</td>\n",
       "    </tr>\n",
       "    <tr>\n",
       "      <th>29521</th>\n",
       "      <td>stray</td>\n",
       "      <td>normal</td>\n",
       "      <td>boxer</td>\n",
       "      <td>adoption</td>\n",
       "      <td>10.0</td>\n",
       "      <td>Senior</td>\n",
       "      <td>201</td>\n",
       "    </tr>\n",
       "    <tr>\n",
       "      <th>11713</th>\n",
       "      <td>stray</td>\n",
       "      <td>injured</td>\n",
       "      <td>dachshund</td>\n",
       "      <td>adoption</td>\n",
       "      <td>2.0</td>\n",
       "      <td>Adult</td>\n",
       "      <td>201</td>\n",
       "    </tr>\n",
       "    <tr>\n",
       "      <th>137</th>\n",
       "      <td>stray</td>\n",
       "      <td>normal</td>\n",
       "      <td>labrador retriever</td>\n",
       "      <td>adoption</td>\n",
       "      <td>13.0</td>\n",
       "      <td>Senior</td>\n",
       "      <td>201</td>\n",
       "    </tr>\n",
       "  </tbody>\n",
       "</table>\n",
       "<p>520 rows × 7 columns</p>\n",
       "</div>"
      ],
      "text/plain": [
       "      intake_type condition               breed   outcome  age_out     age  \\\n",
       "1881        stray   injured            pit bull  adoption     11.0  Senior   \n",
       "19797   surrender    normal            pit bull  adoption      5.0   Adult   \n",
       "23574       stray    normal  labrador retriever  transfer      6.0   Adult   \n",
       "35000   surrender    normal            pit bull  adoption     11.0  Senior   \n",
       "32610       stray    normal               boxer  adoption     13.0  Senior   \n",
       "...           ...       ...                 ...       ...      ...     ...   \n",
       "27097   surrender    normal  labrador retriever  adoption      8.0   Adult   \n",
       "1804        stray    normal           chihuahua  adoption      5.0   Adult   \n",
       "29521       stray    normal               boxer  adoption     10.0  Senior   \n",
       "11713       stray   injured           dachshund  adoption      2.0   Adult   \n",
       "137         stray    normal  labrador retriever  adoption     13.0  Senior   \n",
       "\n",
       "       time_in_shelter  \n",
       "1881              1912  \n",
       "19797             1521  \n",
       "23574             1351  \n",
       "35000             1195  \n",
       "32610             1167  \n",
       "...                ...  \n",
       "27097              202  \n",
       "1804               202  \n",
       "29521              201  \n",
       "11713              201  \n",
       "137                201  \n",
       "\n",
       "[520 rows x 7 columns]"
      ]
     },
     "execution_count": 187,
     "metadata": {},
     "output_type": "execute_result"
    }
   ],
   "source": [
    "data[data['time_in_shelter'] > 200].sort_values(by=['time_in_shelter'], ascending=False)[['intake_type', 'condition', 'breed', 'outcome', 'age_out', 'age', 'time_in_shelter']]"
   ]
  },
  {
   "cell_type": "code",
   "execution_count": 188,
   "metadata": {},
   "outputs": [
    {
     "data": {
      "text/plain": [
       "breed                              \n",
       "pit bull                               179\n",
       "labrador retriever                      60\n",
       "chihuahua                               28\n",
       "american staffordshire terrier          26\n",
       "australian cattle dog                   23\n",
       "                                      ... \n",
       "labrador retriever/golden retriever      1\n",
       "boxer/chinese shar pei                   1\n",
       "boxer/american pit bull terrier          1\n",
       "labrador retriever/rottweiler            1\n",
       "yorkshire terrier                        1\n",
       "Length: 87, dtype: int64"
      ]
     },
     "execution_count": 188,
     "metadata": {},
     "output_type": "execute_result"
    }
   ],
   "source": [
    "data[data['time_in_shelter'] > 200].sort_values(by=['time_in_shelter'], ascending=False)[['breed']].value_counts()"
   ]
  },
  {
   "cell_type": "code",
   "execution_count": 189,
   "metadata": {},
   "outputs": [
    {
     "data": {
      "text/plain": [
       "condition\n",
       "normal       435\n",
       "injured       52\n",
       "sick          18\n",
       "aged           8\n",
       "other          4\n",
       "behavior       1\n",
       "medical        1\n",
       "nursing        1\n",
       "dtype: int64"
      ]
     },
     "execution_count": 189,
     "metadata": {},
     "output_type": "execute_result"
    }
   ],
   "source": [
    "data[data['time_in_shelter'] > 200].sort_values(by=['time_in_shelter'], ascending=False)[['condition']].value_counts()"
   ]
  },
  {
   "cell_type": "markdown",
   "metadata": {},
   "source": [
    "These are likely incorrect exit dates due to a bad data merge or incorrectly labeled. Will explore pit bull time in shelter more closely to confirm we still see the extended time in shelter relationship. Considering the proportion of our data that is above 60 days in shelter (aveage being only 15 days), it is highly unlikely dogs will remain in the shelter for 200 days or more. Especially considering their condition upon entry is 'normal'."
   ]
  },
  {
   "cell_type": "code",
   "execution_count": 190,
   "metadata": {},
   "outputs": [],
   "source": [
    "data = data[data['time_in_shelter'] < 200].copy()"
   ]
  },
  {
   "cell_type": "code",
   "execution_count": 191,
   "metadata": {},
   "outputs": [
    {
     "name": "stdout",
     "output_type": "stream",
     "text": [
      "stray            38651\n",
      "surrender         8968\n",
      "public_assist     4238\n",
      "abandoned          246\n",
      "euth_request       164\n",
      "Name: intake_type, dtype: int64\n",
      "\n",
      "Missing Values: 0\n"
     ]
    }
   ],
   "source": [
    "quick_look('intake_type')"
   ]
  },
  {
   "cell_type": "code",
   "execution_count": 192,
   "metadata": {},
   "outputs": [
    {
     "name": "stdout",
     "output_type": "stream",
     "text": [
      "normal      46093\n",
      "injured      2742\n",
      "sick         1646\n",
      "nursing      1153\n",
      "aged          318\n",
      "other         101\n",
      "medical        88\n",
      "pregnant       63\n",
      "neonatal       44\n",
      "behavior       19\n",
      "Name: condition, dtype: int64\n",
      "\n",
      "Missing Values: 0\n"
     ]
    }
   ],
   "source": [
    "quick_look('condition')"
   ]
  },
  {
   "cell_type": "code",
   "execution_count": 193,
   "metadata": {},
   "outputs": [
    {
     "data": {
      "text/plain": [
       "intake_type\n",
       "abandoned        15.308943\n",
       "euth_request      3.274390\n",
       "public_assist    11.224162\n",
       "stray            12.551215\n",
       "surrender        15.095897\n",
       "Name: time_in_shelter, dtype: float64"
      ]
     },
     "execution_count": 193,
     "metadata": {},
     "output_type": "execute_result"
    }
   ],
   "source": [
    "data.groupby('intake_type').mean()['time_in_shelter']"
   ]
  },
  {
   "cell_type": "code",
   "execution_count": 194,
   "metadata": {},
   "outputs": [
    {
     "data": {
      "text/plain": [
       "stray            0.739491\n",
       "surrender        0.171581\n",
       "public_assist    0.081084\n",
       "abandoned        0.004707\n",
       "euth_request     0.003138\n",
       "Name: intake_type, dtype: float64"
      ]
     },
     "execution_count": 194,
     "metadata": {},
     "output_type": "execute_result"
    }
   ],
   "source": [
    "data['intake_type'].value_counts(normalize=True)"
   ]
  },
  {
   "cell_type": "code",
   "execution_count": 195,
   "metadata": {},
   "outputs": [
    {
     "data": {
      "text/html": [
       "<div>\n",
       "<style scoped>\n",
       "    .dataframe tbody tr th:only-of-type {\n",
       "        vertical-align: middle;\n",
       "    }\n",
       "\n",
       "    .dataframe tbody tr th {\n",
       "        vertical-align: top;\n",
       "    }\n",
       "\n",
       "    .dataframe thead th {\n",
       "        text-align: right;\n",
       "    }\n",
       "</style>\n",
       "<table border=\"1\" class=\"dataframe\">\n",
       "  <thead>\n",
       "    <tr style=\"text-align: right;\">\n",
       "      <th></th>\n",
       "      <th>age_in</th>\n",
       "      <th>age_out</th>\n",
       "      <th>sex</th>\n",
       "      <th>intact_out</th>\n",
       "      <th>pure</th>\n",
       "      <th>obey</th>\n",
       "      <th>reps_lower</th>\n",
       "      <th>reps_upper</th>\n",
       "      <th>height_low_inches</th>\n",
       "      <th>height_high_inches</th>\n",
       "      <th>weight_low_lbs</th>\n",
       "      <th>weight_high_lbs</th>\n",
       "      <th>time_in_shelter</th>\n",
       "    </tr>\n",
       "    <tr>\n",
       "      <th>intake_type</th>\n",
       "      <th></th>\n",
       "      <th></th>\n",
       "      <th></th>\n",
       "      <th></th>\n",
       "      <th></th>\n",
       "      <th></th>\n",
       "      <th></th>\n",
       "      <th></th>\n",
       "      <th></th>\n",
       "      <th></th>\n",
       "      <th></th>\n",
       "      <th></th>\n",
       "      <th></th>\n",
       "    </tr>\n",
       "  </thead>\n",
       "  <tbody>\n",
       "    <tr>\n",
       "      <th>abandoned</th>\n",
       "      <td>1.284553</td>\n",
       "      <td>1.321138</td>\n",
       "      <td>0.491870</td>\n",
       "      <td>0.345528</td>\n",
       "      <td>0.796748</td>\n",
       "      <td>0.676520</td>\n",
       "      <td>17.822738</td>\n",
       "      <td>30.880946</td>\n",
       "      <td>17.434601</td>\n",
       "      <td>20.380427</td>\n",
       "      <td>43.202628</td>\n",
       "      <td>57.326133</td>\n",
       "      <td>15.308943</td>\n",
       "    </tr>\n",
       "    <tr>\n",
       "      <th>euth_request</th>\n",
       "      <td>8.286585</td>\n",
       "      <td>8.286585</td>\n",
       "      <td>0.567073</td>\n",
       "      <td>0.402439</td>\n",
       "      <td>0.859756</td>\n",
       "      <td>0.687796</td>\n",
       "      <td>18.242021</td>\n",
       "      <td>30.306608</td>\n",
       "      <td>16.786765</td>\n",
       "      <td>19.809561</td>\n",
       "      <td>42.255958</td>\n",
       "      <td>54.903555</td>\n",
       "      <td>3.274390</td>\n",
       "    </tr>\n",
       "    <tr>\n",
       "      <th>public_assist</th>\n",
       "      <td>3.517933</td>\n",
       "      <td>3.541765</td>\n",
       "      <td>0.583058</td>\n",
       "      <td>0.347334</td>\n",
       "      <td>0.864323</td>\n",
       "      <td>0.632712</td>\n",
       "      <td>21.550498</td>\n",
       "      <td>35.765922</td>\n",
       "      <td>15.959425</td>\n",
       "      <td>18.741135</td>\n",
       "      <td>38.500772</td>\n",
       "      <td>50.456543</td>\n",
       "      <td>11.224162</td>\n",
       "    </tr>\n",
       "    <tr>\n",
       "      <th>stray</th>\n",
       "      <td>2.318258</td>\n",
       "      <td>2.345890</td>\n",
       "      <td>0.530491</td>\n",
       "      <td>0.275439</td>\n",
       "      <td>0.851983</td>\n",
       "      <td>0.636439</td>\n",
       "      <td>21.207834</td>\n",
       "      <td>35.787596</td>\n",
       "      <td>16.026343</td>\n",
       "      <td>18.941025</td>\n",
       "      <td>38.446269</td>\n",
       "      <td>51.172091</td>\n",
       "      <td>12.551215</td>\n",
       "    </tr>\n",
       "    <tr>\n",
       "      <th>surrender</th>\n",
       "      <td>2.675401</td>\n",
       "      <td>2.698372</td>\n",
       "      <td>0.495317</td>\n",
       "      <td>0.241414</td>\n",
       "      <td>0.801070</td>\n",
       "      <td>0.625875</td>\n",
       "      <td>22.014101</td>\n",
       "      <td>37.007499</td>\n",
       "      <td>15.658726</td>\n",
       "      <td>18.536105</td>\n",
       "      <td>37.384999</td>\n",
       "      <td>50.045452</td>\n",
       "      <td>15.095897</td>\n",
       "    </tr>\n",
       "  </tbody>\n",
       "</table>\n",
       "</div>"
      ],
      "text/plain": [
       "                 age_in   age_out       sex  intact_out      pure      obey  \\\n",
       "intake_type                                                                   \n",
       "abandoned      1.284553  1.321138  0.491870    0.345528  0.796748  0.676520   \n",
       "euth_request   8.286585  8.286585  0.567073    0.402439  0.859756  0.687796   \n",
       "public_assist  3.517933  3.541765  0.583058    0.347334  0.864323  0.632712   \n",
       "stray          2.318258  2.345890  0.530491    0.275439  0.851983  0.636439   \n",
       "surrender      2.675401  2.698372  0.495317    0.241414  0.801070  0.625875   \n",
       "\n",
       "               reps_lower  reps_upper  height_low_inches  height_high_inches  \\\n",
       "intake_type                                                                    \n",
       "abandoned       17.822738   30.880946          17.434601           20.380427   \n",
       "euth_request    18.242021   30.306608          16.786765           19.809561   \n",
       "public_assist   21.550498   35.765922          15.959425           18.741135   \n",
       "stray           21.207834   35.787596          16.026343           18.941025   \n",
       "surrender       22.014101   37.007499          15.658726           18.536105   \n",
       "\n",
       "               weight_low_lbs  weight_high_lbs  time_in_shelter  \n",
       "intake_type                                                      \n",
       "abandoned           43.202628        57.326133        15.308943  \n",
       "euth_request        42.255958        54.903555         3.274390  \n",
       "public_assist       38.500772        50.456543        11.224162  \n",
       "stray               38.446269        51.172091        12.551215  \n",
       "surrender           37.384999        50.045452        15.095897  "
      ]
     },
     "execution_count": 195,
     "metadata": {},
     "output_type": "execute_result"
    }
   ],
   "source": [
    "data.groupby(by='intake_type').mean()"
   ]
  },
  {
   "cell_type": "code",
   "execution_count": 196,
   "metadata": {},
   "outputs": [
    {
     "name": "stdout",
     "output_type": "stream",
     "text": [
      "adoption        23731\n",
      "transfer        13922\n",
      "return_owner    12770\n",
      "euthanasia       1522\n",
      "died              263\n",
      "disposal           41\n",
      "missing            18\n",
      "Name: outcome, dtype: int64\n",
      "\n",
      "Missing Values: 0\n"
     ]
    }
   ],
   "source": [
    "quick_look('outcome')"
   ]
  },
  {
   "cell_type": "code",
   "execution_count": 197,
   "metadata": {},
   "outputs": [
    {
     "data": {
      "image/png": "[encoded data removed]",
      "text/plain": [
       "<Figure size 1440x864 with 6 Axes>"
      ]
     },
     "metadata": {
      "needs_background": "light"
     },
     "output_type": "display_data"
    }
   ],
   "source": [
    "data['outcome'].hist(by=data['intake_type'], figsize=(20,12), bins=7);"
   ]
  },
  {
   "cell_type": "code",
   "execution_count": 198,
   "metadata": {},
   "outputs": [],
   "source": [
    "data = data[data['intake_type'] != 'euth_request'].copy()"
   ]
  },
  {
   "cell_type": "markdown",
   "metadata": {},
   "source": [
    "Will drop euth_requests from the set. "
   ]
  },
  {
   "cell_type": "code",
   "execution_count": 199,
   "metadata": {},
   "outputs": [
    {
     "name": "stdout",
     "output_type": "stream",
     "text": [
      "1    27538\n",
      "0    24565\n",
      "Name: sex, dtype: int64\n",
      "\n",
      "Missing Values: 0\n"
     ]
    }
   ],
   "source": [
    "quick_look('sex')"
   ]
  },
  {
   "cell_type": "code",
   "execution_count": 200,
   "metadata": {},
   "outputs": [
    {
     "data": {
      "text/plain": [
       "sex\n",
       "0    12.925137\n",
       "1    12.866766\n",
       "Name: time_in_shelter, dtype: float64"
      ]
     },
     "execution_count": 200,
     "metadata": {},
     "output_type": "execute_result"
    }
   ],
   "source": [
    "data.groupby('sex').mean()['time_in_shelter']"
   ]
  },
  {
   "cell_type": "code",
   "execution_count": 201,
   "metadata": {},
   "outputs": [
    {
     "data": {
      "image/png": "[encoded data removed]",
      "text/plain": [
       "<Figure size 1008x288 with 2 Axes>"
      ]
     },
     "metadata": {
      "needs_background": "light"
     },
     "output_type": "display_data"
    }
   ],
   "source": [
    "data['outcome'].hist(by=data['sex'], figsize=(14,4), bins=2);"
   ]
  },
  {
   "cell_type": "code",
   "execution_count": 202,
   "metadata": {},
   "outputs": [
    {
     "data": {
      "text/plain": [
       "age\n",
       "Senior    10.433380\n",
       "Baby      10.519038\n",
       "Young     13.306043\n",
       "Adult     14.619034\n",
       "Name: time_in_shelter, dtype: float64"
      ]
     },
     "execution_count": 202,
     "metadata": {},
     "output_type": "execute_result"
    }
   ],
   "source": [
    "data.groupby('age').mean()['time_in_shelter'].sort_values()"
   ]
  },
  {
   "cell_type": "code",
   "execution_count": 203,
   "metadata": {},
   "outputs": [
    {
     "data": {
      "text/plain": [
       "<matplotlib.collections.PathCollection at 0x7ff675ae0130>"
      ]
     },
     "execution_count": 203,
     "metadata": {},
     "output_type": "execute_result"
    },
    {
     "data": {
      "image/png": "[encoded data removed]",
      "text/plain": [
       "<Figure size 720x432 with 1 Axes>"
      ]
     },
     "metadata": {
      "needs_background": "light"
     },
     "output_type": "display_data"
    }
   ],
   "source": [
    "plt.figure(figsize=(10, 6))\n",
    "plt.scatter(x=data['age_out'], y=data['time_in_shelter'], alpha=.2)"
   ]
  },
  {
   "cell_type": "code",
   "execution_count": 204,
   "metadata": {},
   "outputs": [
    {
     "data": {
      "text/html": [
       "<div>\n",
       "<style scoped>\n",
       "    .dataframe tbody tr th:only-of-type {\n",
       "        vertical-align: middle;\n",
       "    }\n",
       "\n",
       "    .dataframe tbody tr th {\n",
       "        vertical-align: top;\n",
       "    }\n",
       "\n",
       "    .dataframe thead th {\n",
       "        text-align: right;\n",
       "    }\n",
       "</style>\n",
       "<table border=\"1\" class=\"dataframe\">\n",
       "  <thead>\n",
       "    <tr style=\"text-align: right;\">\n",
       "      <th></th>\n",
       "      <th>age_in</th>\n",
       "      <th>age_out</th>\n",
       "      <th>sex</th>\n",
       "      <th>intact_out</th>\n",
       "      <th>pure</th>\n",
       "      <th>obey</th>\n",
       "      <th>reps_lower</th>\n",
       "      <th>reps_upper</th>\n",
       "      <th>height_low_inches</th>\n",
       "      <th>height_high_inches</th>\n",
       "      <th>weight_low_lbs</th>\n",
       "      <th>weight_high_lbs</th>\n",
       "      <th>time_in_shelter</th>\n",
       "    </tr>\n",
       "  </thead>\n",
       "  <tbody>\n",
       "    <tr>\n",
       "      <th>count</th>\n",
       "      <td>52103.000000</td>\n",
       "      <td>52103.000000</td>\n",
       "      <td>52103.00000</td>\n",
       "      <td>52103.000000</td>\n",
       "      <td>52103.000000</td>\n",
       "      <td>52103.000000</td>\n",
       "      <td>52103.000000</td>\n",
       "      <td>52103.000000</td>\n",
       "      <td>52103.000000</td>\n",
       "      <td>52103.000000</td>\n",
       "      <td>52103.000000</td>\n",
       "      <td>52103.000000</td>\n",
       "      <td>52103.000000</td>\n",
       "    </tr>\n",
       "    <tr>\n",
       "      <th>mean</th>\n",
       "      <td>2.472430</td>\n",
       "      <td>2.498992</td>\n",
       "      <td>0.52853</td>\n",
       "      <td>0.275761</td>\n",
       "      <td>0.843963</td>\n",
       "      <td>0.634507</td>\n",
       "      <td>21.358499</td>\n",
       "      <td>35.972637</td>\n",
       "      <td>15.964274</td>\n",
       "      <td>18.861867</td>\n",
       "      <td>38.290493</td>\n",
       "      <td>50.949027</td>\n",
       "      <td>12.894286</td>\n",
       "    </tr>\n",
       "    <tr>\n",
       "      <th>std</th>\n",
       "      <td>3.132238</td>\n",
       "      <td>3.144760</td>\n",
       "      <td>0.49919</td>\n",
       "      <td>0.446901</td>\n",
       "      <td>0.362894</td>\n",
       "      <td>0.260844</td>\n",
       "      <td>19.539604</td>\n",
       "      <td>29.716577</td>\n",
       "      <td>6.136882</td>\n",
       "      <td>6.518836</td>\n",
       "      <td>25.612951</td>\n",
       "      <td>32.492240</td>\n",
       "      <td>23.917792</td>\n",
       "    </tr>\n",
       "    <tr>\n",
       "      <th>min</th>\n",
       "      <td>0.000000</td>\n",
       "      <td>0.000000</td>\n",
       "      <td>0.00000</td>\n",
       "      <td>0.000000</td>\n",
       "      <td>0.000000</td>\n",
       "      <td>0.100000</td>\n",
       "      <td>1.000000</td>\n",
       "      <td>4.000000</td>\n",
       "      <td>6.000000</td>\n",
       "      <td>8.000000</td>\n",
       "      <td>2.000000</td>\n",
       "      <td>5.000000</td>\n",
       "      <td>-1.000000</td>\n",
       "    </tr>\n",
       "    <tr>\n",
       "      <th>25%</th>\n",
       "      <td>0.000000</td>\n",
       "      <td>0.000000</td>\n",
       "      <td>0.00000</td>\n",
       "      <td>0.000000</td>\n",
       "      <td>1.000000</td>\n",
       "      <td>0.475000</td>\n",
       "      <td>1.000000</td>\n",
       "      <td>4.000000</td>\n",
       "      <td>10.000000</td>\n",
       "      <td>12.500000</td>\n",
       "      <td>16.000000</td>\n",
       "      <td>20.000000</td>\n",
       "      <td>2.000000</td>\n",
       "    </tr>\n",
       "    <tr>\n",
       "      <th>50%</th>\n",
       "      <td>1.000000</td>\n",
       "      <td>1.000000</td>\n",
       "      <td>1.00000</td>\n",
       "      <td>0.000000</td>\n",
       "      <td>1.000000</td>\n",
       "      <td>0.700000</td>\n",
       "      <td>16.000000</td>\n",
       "      <td>25.000000</td>\n",
       "      <td>17.000000</td>\n",
       "      <td>20.000000</td>\n",
       "      <td>40.000000</td>\n",
       "      <td>50.000000</td>\n",
       "      <td>5.000000</td>\n",
       "    </tr>\n",
       "    <tr>\n",
       "      <th>75%</th>\n",
       "      <td>3.000000</td>\n",
       "      <td>3.000000</td>\n",
       "      <td>1.00000</td>\n",
       "      <td>1.000000</td>\n",
       "      <td>1.000000</td>\n",
       "      <td>0.950000</td>\n",
       "      <td>33.500000</td>\n",
       "      <td>57.500000</td>\n",
       "      <td>21.000000</td>\n",
       "      <td>24.000000</td>\n",
       "      <td>55.000000</td>\n",
       "      <td>80.000000</td>\n",
       "      <td>11.000000</td>\n",
       "    </tr>\n",
       "    <tr>\n",
       "      <th>max</th>\n",
       "      <td>24.000000</td>\n",
       "      <td>24.000000</td>\n",
       "      <td>1.00000</td>\n",
       "      <td>1.000000</td>\n",
       "      <td>1.000000</td>\n",
       "      <td>0.950000</td>\n",
       "      <td>81.000000</td>\n",
       "      <td>100.000000</td>\n",
       "      <td>48.000000</td>\n",
       "      <td>66.000000</td>\n",
       "      <td>175.000000</td>\n",
       "      <td>190.000000</td>\n",
       "      <td>199.000000</td>\n",
       "    </tr>\n",
       "  </tbody>\n",
       "</table>\n",
       "</div>"
      ],
      "text/plain": [
       "             age_in       age_out          sex    intact_out          pure  \\\n",
       "count  52103.000000  52103.000000  52103.00000  52103.000000  52103.000000   \n",
       "mean       2.472430      2.498992      0.52853      0.275761      0.843963   \n",
       "std        3.132238      3.144760      0.49919      0.446901      0.362894   \n",
       "min        0.000000      0.000000      0.00000      0.000000      0.000000   \n",
       "25%        0.000000      0.000000      0.00000      0.000000      1.000000   \n",
       "50%        1.000000      1.000000      1.00000      0.000000      1.000000   \n",
       "75%        3.000000      3.000000      1.00000      1.000000      1.000000   \n",
       "max       24.000000     24.000000      1.00000      1.000000      1.000000   \n",
       "\n",
       "               obey    reps_lower    reps_upper  height_low_inches  \\\n",
       "count  52103.000000  52103.000000  52103.000000       52103.000000   \n",
       "mean       0.634507     21.358499     35.972637          15.964274   \n",
       "std        0.260844     19.539604     29.716577           6.136882   \n",
       "min        0.100000      1.000000      4.000000           6.000000   \n",
       "25%        0.475000      1.000000      4.000000          10.000000   \n",
       "50%        0.700000     16.000000     25.000000          17.000000   \n",
       "75%        0.950000     33.500000     57.500000          21.000000   \n",
       "max        0.950000     81.000000    100.000000          48.000000   \n",
       "\n",
       "       height_high_inches  weight_low_lbs  weight_high_lbs  time_in_shelter  \n",
       "count        52103.000000    52103.000000     52103.000000     52103.000000  \n",
       "mean            18.861867       38.290493        50.949027        12.894286  \n",
       "std              6.518836       25.612951        32.492240        23.917792  \n",
       "min              8.000000        2.000000         5.000000        -1.000000  \n",
       "25%             12.500000       16.000000        20.000000         2.000000  \n",
       "50%             20.000000       40.000000        50.000000         5.000000  \n",
       "75%             24.000000       55.000000        80.000000        11.000000  \n",
       "max             66.000000      175.000000       190.000000       199.000000  "
      ]
     },
     "execution_count": 204,
     "metadata": {},
     "output_type": "execute_result"
    }
   ],
   "source": [
    "data.describe()"
   ]
  },
  {
   "cell_type": "code",
   "execution_count": 205,
   "metadata": {},
   "outputs": [
    {
     "data": {
      "text/plain": [
       "return_owner    0.621964\n",
       "transfer        0.260003\n",
       "adoption        0.055478\n",
       "euthanasia      0.051983\n",
       "died            0.009261\n",
       "disposal        0.001223\n",
       "missing         0.000087\n",
       "Name: outcome, dtype: float64"
      ]
     },
     "execution_count": 205,
     "metadata": {},
     "output_type": "execute_result"
    }
   ],
   "source": [
    "data[data['time_in_shelter'] <= 1]['outcome'].value_counts(normalize=True)"
   ]
  },
  {
   "cell_type": "code",
   "execution_count": 206,
   "metadata": {},
   "outputs": [
    {
     "data": {
      "text/plain": [
       "return_owner    0.595086\n",
       "transfer        0.258567\n",
       "adoption        0.089281\n",
       "euthanasia      0.047154\n",
       "died            0.008638\n",
       "disposal        0.001062\n",
       "missing         0.000212\n",
       "Name: outcome, dtype: float64"
      ]
     },
     "execution_count": 206,
     "metadata": {},
     "output_type": "execute_result"
    }
   ],
   "source": [
    "data[data['time_in_shelter'] <= 2]['outcome'].value_counts(normalize=True)"
   ]
  },
  {
   "cell_type": "code",
   "execution_count": 207,
   "metadata": {},
   "outputs": [
    {
     "data": {
      "text/plain": [
       "return_owner    0.524709\n",
       "transfer        0.284447\n",
       "adoption        0.136707\n",
       "euthanasia      0.043560\n",
       "died            0.009156\n",
       "disposal        0.001194\n",
       "missing         0.000227\n",
       "Name: outcome, dtype: float64"
      ]
     },
     "execution_count": 207,
     "metadata": {},
     "output_type": "execute_result"
    }
   ],
   "source": [
    "data[data['time_in_shelter'] <= 3]['outcome'].value_counts(normalize=True)"
   ]
  },
  {
   "cell_type": "code",
   "execution_count": 208,
   "metadata": {},
   "outputs": [
    {
     "data": {
      "text/plain": [
       "<AxesSubplot:>"
      ]
     },
     "execution_count": 208,
     "metadata": {},
     "output_type": "execute_result"
    },
    {
     "data": {
      "image/png": "[encoded data removed]",
      "text/plain": [
       "<Figure size 432x288 with 1 Axes>"
      ]
     },
     "metadata": {
      "needs_background": "light"
     },
     "output_type": "display_data"
    }
   ],
   "source": [
    "data[(data['outcome'] == 'return_owner') & (data['time_in_shelter'] < 20)]['time_in_shelter'].hist()"
   ]
  },
  {
   "cell_type": "markdown",
   "metadata": {},
   "source": [
    "Going to exclude dogs that are returned to the owner or transfered out. A large portion happen very quickly and will add noise to the predictions."
   ]
  },
  {
   "cell_type": "code",
   "execution_count": 209,
   "metadata": {},
   "outputs": [],
   "source": [
    "data = data[data['outcome'] != 'return_owner'].copy()"
   ]
  },
  {
   "cell_type": "code",
   "execution_count": 210,
   "metadata": {},
   "outputs": [
    {
     "data": {
      "image/png": "[encoded data removed]",
      "text/plain": [
       "<Figure size 432x288 with 1 Axes>"
      ]
     },
     "metadata": {
      "needs_background": "light"
     },
     "output_type": "display_data"
    }
   ],
   "source": [
    "data[(data['outcome'] == 'transfer') & (data['time_in_shelter'] < 20)]['time_in_shelter'].hist();"
   ]
  },
  {
   "cell_type": "code",
   "execution_count": 211,
   "metadata": {},
   "outputs": [
    {
     "data": {
      "text/plain": [
       "condition\n",
       "behavior        3\n",
       "neonatal       27\n",
       "pregnant       34\n",
       "medical        40\n",
       "other          41\n",
       "aged           62\n",
       "nursing       586\n",
       "injured       857\n",
       "sick          862\n",
       "normal      11393\n",
       "dtype: int64"
      ]
     },
     "execution_count": 211,
     "metadata": {},
     "output_type": "execute_result"
    }
   ],
   "source": [
    "data[data['outcome'] == 'transfer'].groupby('condition').size().sort_values()"
   ]
  },
  {
   "cell_type": "markdown",
   "metadata": {},
   "source": [
    "Take a look at outcomes."
   ]
  },
  {
   "cell_type": "code",
   "execution_count": 212,
   "metadata": {},
   "outputs": [
    {
     "data": {
      "text/plain": [
       "outcome\n",
       "disposal       4.000000\n",
       "died           8.550000\n",
       "euthanasia     9.156679\n",
       "transfer      10.117584\n",
       "adoption      20.071438\n",
       "missing       37.666667\n",
       "Name: time_in_shelter, dtype: float64"
      ]
     },
     "execution_count": 212,
     "metadata": {},
     "output_type": "execute_result"
    }
   ],
   "source": [
    "data.groupby('outcome').mean()['time_in_shelter'].sort_values()"
   ]
  },
  {
   "cell_type": "code",
   "execution_count": 213,
   "metadata": {},
   "outputs": [
    {
     "data": {
      "text/plain": [
       "outcome\n",
       "missing          18\n",
       "disposal         41\n",
       "died            260\n",
       "euthanasia     1385\n",
       "transfer      13905\n",
       "adoption      23727\n",
       "dtype: int64"
      ]
     },
     "execution_count": 213,
     "metadata": {},
     "output_type": "execute_result"
    }
   ],
   "source": [
    "data.groupby('outcome').size().sort_values()"
   ]
  },
  {
   "cell_type": "code",
   "execution_count": 214,
   "metadata": {},
   "outputs": [],
   "source": [
    "data = data[~data['outcome'].isin(['missing', 'disposal', 'transfer'])].copy()"
   ]
  },
  {
   "cell_type": "markdown",
   "metadata": {},
   "source": [
    "Can drop missing & disposal as they are a tiny sample size and likely only going to add noise. Dogs that are transfered are transferred quickly, typically"
   ]
  },
  {
   "cell_type": "code",
   "execution_count": 216,
   "metadata": {},
   "outputs": [
    {
     "data": {
      "text/plain": [
       "condition\n",
       "normal      17.905902\n",
       "sick        19.595318\n",
       "aged        20.950617\n",
       "medical     28.146341\n",
       "injured     29.472903\n",
       "other       42.324324\n",
       "nursing     51.485030\n",
       "neonatal    55.181818\n",
       "behavior    58.555556\n",
       "pregnant    59.115385\n",
       "Name: time_in_shelter, dtype: float64"
      ]
     },
     "execution_count": 216,
     "metadata": {},
     "output_type": "execute_result"
    }
   ],
   "source": [
    "data.groupby('condition').mean()['time_in_shelter'].sort_values()"
   ]
  },
  {
   "cell_type": "code",
   "execution_count": 217,
   "metadata": {},
   "outputs": [
    {
     "data": {
      "text/plain": [
       "condition\n",
       "behavior        9\n",
       "neonatal       11\n",
       "pregnant       26\n",
       "other          37\n",
       "medical        41\n",
       "aged           81\n",
       "nursing       501\n",
       "sick          598\n",
       "injured      1347\n",
       "normal      22721\n",
       "dtype: int64"
      ]
     },
     "execution_count": 217,
     "metadata": {},
     "output_type": "execute_result"
    }
   ],
   "source": [
    "data.groupby('condition').size().sort_values()"
   ]
  },
  {
   "cell_type": "markdown",
   "metadata": {},
   "source": [
    "Combine pregnant & nursing along with medical, sick & injured. Will drop neonatal as the dogs are too young to be released from the shelter within a specific time period and the dogs we are attempting to classify will all be older than a couple weeks."
   ]
  },
  {
   "cell_type": "code",
   "execution_count": 218,
   "metadata": {},
   "outputs": [],
   "source": [
    "data = data[data['condition'] != 'neonatal'].copy()"
   ]
  },
  {
   "cell_type": "code",
   "execution_count": 219,
   "metadata": {},
   "outputs": [],
   "source": [
    "data.loc[data['condition'] == 'pregnant', 'condition'] = 'nursing'\n",
    "data.loc[data['condition'] == 'medical', 'condition'] = 'injured'\n",
    "data.loc[data['condition'] == 'sick', 'condition'] = 'injured'"
   ]
  },
  {
   "cell_type": "code",
   "execution_count": 220,
   "metadata": {},
   "outputs": [
    {
     "data": {
      "text/plain": [
       "condition\n",
       "normal      17.905902\n",
       "aged        20.950617\n",
       "injured     26.471299\n",
       "other       42.324324\n",
       "nursing     51.861480\n",
       "behavior    58.555556\n",
       "Name: time_in_shelter, dtype: float64"
      ]
     },
     "execution_count": 220,
     "metadata": {},
     "output_type": "execute_result"
    }
   ],
   "source": [
    "data.groupby('condition').mean()['time_in_shelter'].sort_values()"
   ]
  },
  {
   "cell_type": "code",
   "execution_count": 221,
   "metadata": {},
   "outputs": [
    {
     "data": {
      "image/png": "[encoded data removed]",
      "text/plain": [
       "<Figure size 432x288 with 1 Axes>"
      ]
     },
     "metadata": {
      "needs_background": "light"
     },
     "output_type": "display_data"
    }
   ],
   "source": [
    "data[data['outcome']=='euthanasia']['condition'].hist(bins=7);"
   ]
  },
  {
   "cell_type": "code",
   "execution_count": 222,
   "metadata": {},
   "outputs": [
    {
     "data": {
      "text/plain": [
       "<AxesSubplot:>"
      ]
     },
     "execution_count": 222,
     "metadata": {},
     "output_type": "execute_result"
    },
    {
     "data": {
      "image/png": "[encoded data removed]",
      "text/plain": [
       "<Figure size 432x288 with 1 Axes>"
      ]
     },
     "metadata": {
      "needs_background": "light"
     },
     "output_type": "display_data"
    }
   ],
   "source": [
    "data[data['outcome']=='euthanasia']['intake_type'].hist(bins=4)"
   ]
  },
  {
   "cell_type": "code",
   "execution_count": 223,
   "metadata": {},
   "outputs": [
    {
     "data": {
      "text/plain": [
       "outcome\n",
       "adoption      20.055656\n",
       "died           8.550000\n",
       "euthanasia     9.140173\n",
       "Name: time_in_shelter, dtype: float64"
      ]
     },
     "execution_count": 223,
     "metadata": {},
     "output_type": "execute_result"
    }
   ],
   "source": [
    "data.groupby('outcome').mean()['time_in_shelter']"
   ]
  },
  {
   "cell_type": "code",
   "execution_count": 224,
   "metadata": {},
   "outputs": [
    {
     "data": {
      "text/plain": [
       "condition\n",
       "behavior        9\n",
       "other          37\n",
       "aged           81\n",
       "nursing       527\n",
       "injured      1986\n",
       "normal      22721\n",
       "dtype: int64"
      ]
     },
     "execution_count": 224,
     "metadata": {},
     "output_type": "execute_result"
    }
   ],
   "source": [
    "data.groupby('condition').size().sort_values()"
   ]
  },
  {
   "cell_type": "code",
   "execution_count": 225,
   "metadata": {},
   "outputs": [
    {
     "data": {
      "text/plain": [
       "<matplotlib.collections.PathCollection at 0x7ff6787c2130>"
      ]
     },
     "execution_count": 225,
     "metadata": {},
     "output_type": "execute_result"
    },
    {
     "data": {
      "image/png": "[encoded data removed]",
      "text/plain": [
       "<Figure size 720x432 with 1 Axes>"
      ]
     },
     "metadata": {
      "needs_background": "light"
     },
     "output_type": "display_data"
    }
   ],
   "source": [
    "plt.figure(figsize=(10, 6))\n",
    "plt.scatter(x=data['age_out'], y=data['time_in_shelter'], alpha=.1)"
   ]
  },
  {
   "cell_type": "code",
   "execution_count": 708,
   "metadata": {},
   "outputs": [
    {
     "data": {
      "text/plain": [
       "<matplotlib.collections.PathCollection at 0x7ff5e11975b0>"
      ]
     },
     "execution_count": 708,
     "metadata": {},
     "output_type": "execute_result"
    },
    {
     "data": {
      "image/png": "[encoded data removed]",
      "text/plain": [
       "<Figure size 720x432 with 1 Axes>"
      ]
     },
     "metadata": {
      "needs_background": "light"
     },
     "output_type": "display_data"
    }
   ],
   "source": [
    "plt.figure(figsize=(10, 6))\n",
    "plt.scatter(x=data[data['time_in_shelter'] > 7]['age_in'], y=data[data['time_in_shelter'] > 7]['time_in_shelter'], alpha=.1)\n"
   ]
  },
  {
   "cell_type": "code",
   "execution_count": 226,
   "metadata": {},
   "outputs": [
    {
     "data": {
      "text/plain": [
       "age\n",
       "Baby      14.522711\n",
       "Young     17.660171\n",
       "Adult     24.357340\n",
       "Senior    28.926425\n",
       "Name: time_in_shelter, dtype: float64"
      ]
     },
     "execution_count": 226,
     "metadata": {},
     "output_type": "execute_result"
    }
   ],
   "source": [
    "data.groupby('age').mean()['time_in_shelter'].sort_values()"
   ]
  },
  {
   "cell_type": "markdown",
   "metadata": {},
   "source": [
    "Some relationships between age and time in shelter are beginning to show."
   ]
  },
  {
   "cell_type": "markdown",
   "metadata": {},
   "source": [
    "Younger dogs get adopted sooner."
   ]
  },
  {
   "cell_type": "code",
   "execution_count": 227,
   "metadata": {},
   "outputs": [
    {
     "data": {
      "text/plain": [
       "intake_type\n",
       "stray            18.828522\n",
       "abandoned        19.130769\n",
       "surrender        20.311115\n",
       "public_assist    27.478191\n",
       "Name: time_in_shelter, dtype: float64"
      ]
     },
     "execution_count": 227,
     "metadata": {},
     "output_type": "execute_result"
    }
   ],
   "source": [
    "data.groupby('intake_type').mean()['time_in_shelter'].sort_values()"
   ]
  },
  {
   "cell_type": "code",
   "execution_count": 228,
   "metadata": {},
   "outputs": [
    {
     "data": {
      "text/plain": [
       "condition\n",
       "normal      17.905902\n",
       "aged        20.950617\n",
       "injured     26.471299\n",
       "other       42.324324\n",
       "nursing     51.861480\n",
       "behavior    58.555556\n",
       "Name: time_in_shelter, dtype: float64"
      ]
     },
     "execution_count": 228,
     "metadata": {},
     "output_type": "execute_result"
    }
   ],
   "source": [
    "data.groupby('condition').mean()['time_in_shelter'].sort_values()"
   ]
  },
  {
   "cell_type": "code",
   "execution_count": 229,
   "metadata": {},
   "outputs": [
    {
     "data": {
      "text/plain": [
       "outcome\n",
       "died           8.550000\n",
       "euthanasia     9.140173\n",
       "adoption      20.055656\n",
       "Name: time_in_shelter, dtype: float64"
      ]
     },
     "execution_count": 229,
     "metadata": {},
     "output_type": "execute_result"
    }
   ],
   "source": [
    "data.groupby('outcome').mean()['time_in_shelter'].sort_values()"
   ]
  },
  {
   "cell_type": "code",
   "execution_count": 230,
   "metadata": {},
   "outputs": [
    {
     "data": {
      "text/plain": [
       "labrador retriever                4066\n",
       "chihuahua                         3890\n",
       "pit bull                          3102\n",
       "german shepherd                   1997\n",
       "australian cattle dog             1323\n",
       "dachshund                          945\n",
       "border collie                      610\n",
       "siberian husky                     548\n",
       "boxer                              481\n",
       "australian shepherd                431\n",
       "fox terrier                        386\n",
       "great pyrenees                     381\n",
       "jack russell terrier               380\n",
       "miniature poodle                   379\n",
       "american staffordshire terrier     354\n",
       "beagle                             347\n",
       "cairn terrier                      342\n",
       "yorkshire terrier                  338\n",
       "pointer                            331\n",
       "miniature schnauzer                301\n",
       "Name: breed_1, dtype: int64"
      ]
     },
     "execution_count": 230,
     "metadata": {},
     "output_type": "execute_result"
    }
   ],
   "source": [
    "data['breed_1'].value_counts()[:20]"
   ]
  },
  {
   "cell_type": "code",
   "execution_count": 231,
   "metadata": {},
   "outputs": [],
   "source": [
    "common_breeds = list(data['breed_1'].value_counts()[:20].index)"
   ]
  },
  {
   "cell_type": "code",
   "execution_count": 232,
   "metadata": {},
   "outputs": [
    {
     "data": {
      "text/plain": [
       "pure\n",
       "0.0    20.094005\n",
       "1.0    20.011203\n",
       "Name: time_in_shelter, dtype: float64"
      ]
     },
     "execution_count": 232,
     "metadata": {},
     "output_type": "execute_result"
    }
   ],
   "source": [
    "data[data['breed_1'].isin(common_breeds)].groupby('pure').mean()['time_in_shelter']"
   ]
  },
  {
   "cell_type": "markdown",
   "metadata": {},
   "source": [
    "No relationship to pure breed vs mutt"
   ]
  },
  {
   "cell_type": "code",
   "execution_count": 233,
   "metadata": {},
   "outputs": [
    {
     "data": {
      "text/html": [
       "<div>\n",
       "<style scoped>\n",
       "    .dataframe tbody tr th:only-of-type {\n",
       "        vertical-align: middle;\n",
       "    }\n",
       "\n",
       "    .dataframe tbody tr th {\n",
       "        vertical-align: top;\n",
       "    }\n",
       "\n",
       "    .dataframe thead th {\n",
       "        text-align: right;\n",
       "    }\n",
       "</style>\n",
       "<table border=\"1\" class=\"dataframe\">\n",
       "  <thead>\n",
       "    <tr style=\"text-align: right;\">\n",
       "      <th></th>\n",
       "      <th>intake_type</th>\n",
       "      <th>condition</th>\n",
       "      <th>age_in</th>\n",
       "      <th>breed</th>\n",
       "      <th>outcome</th>\n",
       "      <th>age_out</th>\n",
       "      <th>sex</th>\n",
       "      <th>intact_out</th>\n",
       "      <th>age</th>\n",
       "      <th>primary_color</th>\n",
       "      <th>...</th>\n",
       "      <th>breed_2</th>\n",
       "      <th>pure</th>\n",
       "      <th>obey</th>\n",
       "      <th>reps_lower</th>\n",
       "      <th>reps_upper</th>\n",
       "      <th>height_low_inches</th>\n",
       "      <th>height_high_inches</th>\n",
       "      <th>weight_low_lbs</th>\n",
       "      <th>weight_high_lbs</th>\n",
       "      <th>time_in_shelter</th>\n",
       "    </tr>\n",
       "  </thead>\n",
       "  <tbody>\n",
       "    <tr>\n",
       "      <th>7</th>\n",
       "      <td>surrender</td>\n",
       "      <td>normal</td>\n",
       "      <td>16.0</td>\n",
       "      <td>dachshund</td>\n",
       "      <td>adoption</td>\n",
       "      <td>16.0</td>\n",
       "      <td>1</td>\n",
       "      <td>0</td>\n",
       "      <td>Senior</td>\n",
       "      <td>black</td>\n",
       "      <td>...</td>\n",
       "      <td>dachshund</td>\n",
       "      <td>1.0</td>\n",
       "      <td>0.500</td>\n",
       "      <td>26.0</td>\n",
       "      <td>40.0</td>\n",
       "      <td>7.0</td>\n",
       "      <td>10.0</td>\n",
       "      <td>16.0</td>\n",
       "      <td>32.0</td>\n",
       "      <td>49</td>\n",
       "    </tr>\n",
       "    <tr>\n",
       "      <th>8</th>\n",
       "      <td>surrender</td>\n",
       "      <td>injured</td>\n",
       "      <td>14.0</td>\n",
       "      <td>border collie</td>\n",
       "      <td>euthanasia</td>\n",
       "      <td>14.0</td>\n",
       "      <td>1</td>\n",
       "      <td>0</td>\n",
       "      <td>Senior</td>\n",
       "      <td>black</td>\n",
       "      <td>...</td>\n",
       "      <td>border collie</td>\n",
       "      <td>1.0</td>\n",
       "      <td>0.950</td>\n",
       "      <td>1.0</td>\n",
       "      <td>4.0</td>\n",
       "      <td>19.0</td>\n",
       "      <td>21.0</td>\n",
       "      <td>40.0</td>\n",
       "      <td>40.0</td>\n",
       "      <td>0</td>\n",
       "    </tr>\n",
       "    <tr>\n",
       "      <th>9</th>\n",
       "      <td>public_assist</td>\n",
       "      <td>aged</td>\n",
       "      <td>17.0</td>\n",
       "      <td>chihuahua</td>\n",
       "      <td>adoption</td>\n",
       "      <td>17.0</td>\n",
       "      <td>1</td>\n",
       "      <td>0</td>\n",
       "      <td>Senior</td>\n",
       "      <td>tan</td>\n",
       "      <td>...</td>\n",
       "      <td>chihuahua</td>\n",
       "      <td>1.0</td>\n",
       "      <td>0.300</td>\n",
       "      <td>41.0</td>\n",
       "      <td>80.0</td>\n",
       "      <td>6.0</td>\n",
       "      <td>9.0</td>\n",
       "      <td>2.0</td>\n",
       "      <td>5.0</td>\n",
       "      <td>9</td>\n",
       "    </tr>\n",
       "    <tr>\n",
       "      <th>14</th>\n",
       "      <td>stray</td>\n",
       "      <td>injured</td>\n",
       "      <td>16.0</td>\n",
       "      <td>american staffordshire terrier</td>\n",
       "      <td>euthanasia</td>\n",
       "      <td>16.0</td>\n",
       "      <td>0</td>\n",
       "      <td>0</td>\n",
       "      <td>Senior</td>\n",
       "      <td>brown</td>\n",
       "      <td>...</td>\n",
       "      <td>american staffordshire terrier</td>\n",
       "      <td>1.0</td>\n",
       "      <td>0.700</td>\n",
       "      <td>16.0</td>\n",
       "      <td>25.0</td>\n",
       "      <td>17.0</td>\n",
       "      <td>19.0</td>\n",
       "      <td>40.0</td>\n",
       "      <td>50.0</td>\n",
       "      <td>0</td>\n",
       "    </tr>\n",
       "    <tr>\n",
       "      <th>16</th>\n",
       "      <td>stray</td>\n",
       "      <td>normal</td>\n",
       "      <td>15.0</td>\n",
       "      <td>labrador retriever/beagle</td>\n",
       "      <td>adoption</td>\n",
       "      <td>15.0</td>\n",
       "      <td>1</td>\n",
       "      <td>0</td>\n",
       "      <td>Senior</td>\n",
       "      <td>sable</td>\n",
       "      <td>...</td>\n",
       "      <td>beagle</td>\n",
       "      <td>0.0</td>\n",
       "      <td>0.525</td>\n",
       "      <td>41.0</td>\n",
       "      <td>52.0</td>\n",
       "      <td>17.0</td>\n",
       "      <td>20.0</td>\n",
       "      <td>36.5</td>\n",
       "      <td>55.0</td>\n",
       "      <td>23</td>\n",
       "    </tr>\n",
       "    <tr>\n",
       "      <th>...</th>\n",
       "      <td>...</td>\n",
       "      <td>...</td>\n",
       "      <td>...</td>\n",
       "      <td>...</td>\n",
       "      <td>...</td>\n",
       "      <td>...</td>\n",
       "      <td>...</td>\n",
       "      <td>...</td>\n",
       "      <td>...</td>\n",
       "      <td>...</td>\n",
       "      <td>...</td>\n",
       "      <td>...</td>\n",
       "      <td>...</td>\n",
       "      <td>...</td>\n",
       "      <td>...</td>\n",
       "      <td>...</td>\n",
       "      <td>...</td>\n",
       "      <td>...</td>\n",
       "      <td>...</td>\n",
       "      <td>...</td>\n",
       "      <td>...</td>\n",
       "    </tr>\n",
       "    <tr>\n",
       "      <th>53482</th>\n",
       "      <td>abandoned</td>\n",
       "      <td>normal</td>\n",
       "      <td>0.0</td>\n",
       "      <td>siberian husky</td>\n",
       "      <td>adoption</td>\n",
       "      <td>0.0</td>\n",
       "      <td>0</td>\n",
       "      <td>0</td>\n",
       "      <td>Baby</td>\n",
       "      <td>black</td>\n",
       "      <td>...</td>\n",
       "      <td>siberian husky</td>\n",
       "      <td>1.0</td>\n",
       "      <td>0.500</td>\n",
       "      <td>26.0</td>\n",
       "      <td>40.0</td>\n",
       "      <td>20.0</td>\n",
       "      <td>23.0</td>\n",
       "      <td>40.0</td>\n",
       "      <td>60.0</td>\n",
       "      <td>7</td>\n",
       "    </tr>\n",
       "    <tr>\n",
       "      <th>53494</th>\n",
       "      <td>abandoned</td>\n",
       "      <td>normal</td>\n",
       "      <td>0.0</td>\n",
       "      <td>australian cattle dog</td>\n",
       "      <td>adoption</td>\n",
       "      <td>0.0</td>\n",
       "      <td>0</td>\n",
       "      <td>0</td>\n",
       "      <td>Baby</td>\n",
       "      <td>brown</td>\n",
       "      <td>...</td>\n",
       "      <td>australian cattle dog</td>\n",
       "      <td>1.0</td>\n",
       "      <td>0.950</td>\n",
       "      <td>1.0</td>\n",
       "      <td>4.0</td>\n",
       "      <td>17.0</td>\n",
       "      <td>20.0</td>\n",
       "      <td>35.0</td>\n",
       "      <td>45.0</td>\n",
       "      <td>6</td>\n",
       "    </tr>\n",
       "    <tr>\n",
       "      <th>53495</th>\n",
       "      <td>abandoned</td>\n",
       "      <td>normal</td>\n",
       "      <td>0.0</td>\n",
       "      <td>australian cattle dog</td>\n",
       "      <td>adoption</td>\n",
       "      <td>0.0</td>\n",
       "      <td>0</td>\n",
       "      <td>0</td>\n",
       "      <td>Baby</td>\n",
       "      <td>brown</td>\n",
       "      <td>...</td>\n",
       "      <td>australian cattle dog</td>\n",
       "      <td>1.0</td>\n",
       "      <td>0.950</td>\n",
       "      <td>1.0</td>\n",
       "      <td>4.0</td>\n",
       "      <td>17.0</td>\n",
       "      <td>20.0</td>\n",
       "      <td>35.0</td>\n",
       "      <td>45.0</td>\n",
       "      <td>7</td>\n",
       "    </tr>\n",
       "    <tr>\n",
       "      <th>53497</th>\n",
       "      <td>abandoned</td>\n",
       "      <td>normal</td>\n",
       "      <td>0.0</td>\n",
       "      <td>pit bull</td>\n",
       "      <td>adoption</td>\n",
       "      <td>0.0</td>\n",
       "      <td>0</td>\n",
       "      <td>0</td>\n",
       "      <td>Baby</td>\n",
       "      <td>white</td>\n",
       "      <td>...</td>\n",
       "      <td>pit bull</td>\n",
       "      <td>1.0</td>\n",
       "      <td>0.700</td>\n",
       "      <td>16.0</td>\n",
       "      <td>25.0</td>\n",
       "      <td>17.0</td>\n",
       "      <td>19.0</td>\n",
       "      <td>40.0</td>\n",
       "      <td>50.0</td>\n",
       "      <td>7</td>\n",
       "    </tr>\n",
       "    <tr>\n",
       "      <th>53512</th>\n",
       "      <td>surrender</td>\n",
       "      <td>normal</td>\n",
       "      <td>0.0</td>\n",
       "      <td>pit bull</td>\n",
       "      <td>adoption</td>\n",
       "      <td>0.0</td>\n",
       "      <td>0</td>\n",
       "      <td>0</td>\n",
       "      <td>Baby</td>\n",
       "      <td>brown</td>\n",
       "      <td>...</td>\n",
       "      <td>pit bull</td>\n",
       "      <td>1.0</td>\n",
       "      <td>0.700</td>\n",
       "      <td>16.0</td>\n",
       "      <td>25.0</td>\n",
       "      <td>17.0</td>\n",
       "      <td>19.0</td>\n",
       "      <td>40.0</td>\n",
       "      <td>50.0</td>\n",
       "      <td>1</td>\n",
       "    </tr>\n",
       "  </tbody>\n",
       "</table>\n",
       "<p>20932 rows × 22 columns</p>\n",
       "</div>"
      ],
      "text/plain": [
       "         intake_type condition  age_in                           breed  \\\n",
       "7          surrender    normal    16.0                       dachshund   \n",
       "8          surrender   injured    14.0                   border collie   \n",
       "9      public_assist      aged    17.0                       chihuahua   \n",
       "14             stray   injured    16.0  american staffordshire terrier   \n",
       "16             stray    normal    15.0       labrador retriever/beagle   \n",
       "...              ...       ...     ...                             ...   \n",
       "53482      abandoned    normal     0.0                  siberian husky   \n",
       "53494      abandoned    normal     0.0           australian cattle dog   \n",
       "53495      abandoned    normal     0.0           australian cattle dog   \n",
       "53497      abandoned    normal     0.0                        pit bull   \n",
       "53512      surrender    normal     0.0                        pit bull   \n",
       "\n",
       "          outcome  age_out  sex  intact_out     age primary_color  ...  \\\n",
       "7        adoption     16.0    1           0  Senior         black  ...   \n",
       "8      euthanasia     14.0    1           0  Senior         black  ...   \n",
       "9        adoption     17.0    1           0  Senior           tan  ...   \n",
       "14     euthanasia     16.0    0           0  Senior         brown  ...   \n",
       "16       adoption     15.0    1           0  Senior         sable  ...   \n",
       "...           ...      ...  ...         ...     ...           ...  ...   \n",
       "53482    adoption      0.0    0           0    Baby         black  ...   \n",
       "53494    adoption      0.0    0           0    Baby         brown  ...   \n",
       "53495    adoption      0.0    0           0    Baby         brown  ...   \n",
       "53497    adoption      0.0    0           0    Baby         white  ...   \n",
       "53512    adoption      0.0    0           0    Baby         brown  ...   \n",
       "\n",
       "                              breed_2 pure   obey  reps_lower  reps_upper  \\\n",
       "7                           dachshund  1.0  0.500        26.0        40.0   \n",
       "8                       border collie  1.0  0.950         1.0         4.0   \n",
       "9                           chihuahua  1.0  0.300        41.0        80.0   \n",
       "14     american staffordshire terrier  1.0  0.700        16.0        25.0   \n",
       "16                             beagle  0.0  0.525        41.0        52.0   \n",
       "...                               ...  ...    ...         ...         ...   \n",
       "53482                  siberian husky  1.0  0.500        26.0        40.0   \n",
       "53494           australian cattle dog  1.0  0.950         1.0         4.0   \n",
       "53495           australian cattle dog  1.0  0.950         1.0         4.0   \n",
       "53497                        pit bull  1.0  0.700        16.0        25.0   \n",
       "53512                        pit bull  1.0  0.700        16.0        25.0   \n",
       "\n",
       "       height_low_inches  height_high_inches  weight_low_lbs  weight_high_lbs  \\\n",
       "7                    7.0                10.0            16.0             32.0   \n",
       "8                   19.0                21.0            40.0             40.0   \n",
       "9                    6.0                 9.0             2.0              5.0   \n",
       "14                  17.0                19.0            40.0             50.0   \n",
       "16                  17.0                20.0            36.5             55.0   \n",
       "...                  ...                 ...             ...              ...   \n",
       "53482               20.0                23.0            40.0             60.0   \n",
       "53494               17.0                20.0            35.0             45.0   \n",
       "53495               17.0                20.0            35.0             45.0   \n",
       "53497               17.0                19.0            40.0             50.0   \n",
       "53512               17.0                19.0            40.0             50.0   \n",
       "\n",
       "       time_in_shelter  \n",
       "7                   49  \n",
       "8                    0  \n",
       "9                    9  \n",
       "14                   0  \n",
       "16                  23  \n",
       "...                ...  \n",
       "53482                7  \n",
       "53494                6  \n",
       "53495                7  \n",
       "53497                7  \n",
       "53512                1  \n",
       "\n",
       "[20932 rows x 22 columns]"
      ]
     },
     "execution_count": 233,
     "metadata": {},
     "output_type": "execute_result"
    }
   ],
   "source": [
    "data[data['breed_1'].isin(common_breeds)]"
   ]
  },
  {
   "cell_type": "code",
   "execution_count": 234,
   "metadata": {},
   "outputs": [
    {
     "data": {
      "text/plain": [
       "alaskan malamute                      18\n",
       "finnish spitz                         17\n",
       "australian terrier                    17\n",
       "welsh terrier                         17\n",
       "airedale terrier                      17\n",
       "bernese mountain dog                  17\n",
       "havanese                              15\n",
       "bearded collie                        15\n",
       "irish terrier                         14\n",
       "bloodhound                            13\n",
       "bullmastiff                           12\n",
       "french bulldog                        11\n",
       "nova scotia duck tolling retriever    11\n",
       "american foxhound                      9\n",
       "tibetan terrier                        9\n",
       "brittany                               9\n",
       "canaan dog                             8\n",
       "beauceron                              8\n",
       "german wirehaired pointer              8\n",
       "english foxhound                       7\n",
       "silky terrier                          6\n",
       "affenpinscher                          6\n",
       "ibizan hound                           6\n",
       "newfoundland                           6\n",
       "schipperke                             6\n",
       "english cocker spaniel                 6\n",
       "chinese crested                        5\n",
       "field spaniel                          5\n",
       "irish wolfhound                        4\n",
       "keeshond                               4\n",
       "wirehaired pointing griffon            3\n",
       "clumber spaniel                        3\n",
       "samoyed                                3\n",
       "skye terrier                           3\n",
       "kuvasz                                 3\n",
       "english setter                         3\n",
       "welsh springer spaniel                 3\n",
       "belgian sheepdog                       3\n",
       "german pinscher                        3\n",
       "gordon setter                          2\n",
       "irish setter                           2\n",
       "borzoi                                 2\n",
       "lakeland terrier                       2\n",
       "saluki                                 2\n",
       "belgian tervuren                       1\n",
       "otterhound                             1\n",
       "norwegian elkhound                     1\n",
       "english springer spaniel               1\n",
       "japanese chin                          1\n",
       "old english sheepdog                   1\n",
       "Name: breed_2, dtype: int64"
      ]
     },
     "execution_count": 234,
     "metadata": {},
     "output_type": "execute_result"
    }
   ],
   "source": [
    "data['breed_2'].value_counts().tail(50)"
   ]
  },
  {
   "cell_type": "code",
   "execution_count": 565,
   "metadata": {},
   "outputs": [],
   "source": [
    "data['at_risk'] = np.where(data['time_in_shelter'] > 20, 1, 0)"
   ]
  },
  {
   "cell_type": "code",
   "execution_count": 688,
   "metadata": {},
   "outputs": [],
   "source": [
    "data['breed_3'] = np.where(~data['breed_1'].isin(common_breeds), 'other', data['breed_1'])"
   ]
  },
  {
   "cell_type": "code",
   "execution_count": 689,
   "metadata": {},
   "outputs": [
    {
     "data": {
      "text/plain": [
       "other                             4429\n",
       "labrador retriever                4066\n",
       "chihuahua                         3890\n",
       "pit bull                          3102\n",
       "german shepherd                   1997\n",
       "australian cattle dog             1323\n",
       "dachshund                          945\n",
       "border collie                      610\n",
       "siberian husky                     548\n",
       "boxer                              481\n",
       "australian shepherd                431\n",
       "fox terrier                        386\n",
       "great pyrenees                     381\n",
       "jack russell terrier               380\n",
       "miniature poodle                   379\n",
       "american staffordshire terrier     354\n",
       "beagle                             347\n",
       "cairn terrier                      342\n",
       "yorkshire terrier                  338\n",
       "pointer                            331\n",
       "miniature schnauzer                301\n",
       "Name: breed_3, dtype: int64"
      ]
     },
     "execution_count": 689,
     "metadata": {},
     "output_type": "execute_result"
    }
   ],
   "source": [
    "data['breed_3'].value_counts()"
   ]
  },
  {
   "cell_type": "markdown",
   "metadata": {},
   "source": [
    "# PCA"
   ]
  },
  {
   "cell_type": "code",
   "execution_count": 566,
   "metadata": {},
   "outputs": [],
   "source": [
    "from sklearn.linear_model import Lasso, Ridge\n",
    "from sklearn.preprocessing import StandardScaler, PolynomialFeatures\n",
    "from sklearn.model_selection import GridSearchCV, train_test_split\n",
    "from sklearn.metrics import mean_squared_error"
   ]
  },
  {
   "cell_type": "code",
   "execution_count": 567,
   "metadata": {},
   "outputs": [
    {
     "data": {
      "text/plain": [
       "Index(['intake_type', 'condition', 'age_in', 'breed', 'outcome', 'age_out',\n",
       "       'sex', 'intact_out', 'age', 'primary_color', 'secondary_color',\n",
       "       'breed_1', 'breed_2', 'pure', 'obey', 'reps_lower', 'reps_upper',\n",
       "       'height_low_inches', 'height_high_inches', 'weight_low_lbs',\n",
       "       'weight_high_lbs', 'time_in_shelter', 'at_risk'],\n",
       "      dtype='object')"
      ]
     },
     "execution_count": 567,
     "metadata": {},
     "output_type": "execute_result"
    }
   ],
   "source": [
    "data.columns"
   ]
  },
  {
   "cell_type": "code",
   "execution_count": 568,
   "metadata": {},
   "outputs": [
    {
     "data": {
      "text/html": [
       "<div>\n",
       "<style scoped>\n",
       "    .dataframe tbody tr th:only-of-type {\n",
       "        vertical-align: middle;\n",
       "    }\n",
       "\n",
       "    .dataframe tbody tr th {\n",
       "        vertical-align: top;\n",
       "    }\n",
       "\n",
       "    .dataframe thead th {\n",
       "        text-align: right;\n",
       "    }\n",
       "</style>\n",
       "<table border=\"1\" class=\"dataframe\">\n",
       "  <thead>\n",
       "    <tr style=\"text-align: right;\">\n",
       "      <th></th>\n",
       "      <th>intake_type</th>\n",
       "      <th>condition</th>\n",
       "      <th>age_in</th>\n",
       "      <th>breed</th>\n",
       "      <th>outcome</th>\n",
       "      <th>age_out</th>\n",
       "      <th>sex</th>\n",
       "      <th>intact_out</th>\n",
       "      <th>age</th>\n",
       "      <th>primary_color</th>\n",
       "      <th>...</th>\n",
       "      <th>pure</th>\n",
       "      <th>obey</th>\n",
       "      <th>reps_lower</th>\n",
       "      <th>reps_upper</th>\n",
       "      <th>height_low_inches</th>\n",
       "      <th>height_high_inches</th>\n",
       "      <th>weight_low_lbs</th>\n",
       "      <th>weight_high_lbs</th>\n",
       "      <th>time_in_shelter</th>\n",
       "      <th>at_risk</th>\n",
       "    </tr>\n",
       "  </thead>\n",
       "  <tbody>\n",
       "    <tr>\n",
       "      <th>7</th>\n",
       "      <td>surrender</td>\n",
       "      <td>normal</td>\n",
       "      <td>16.0</td>\n",
       "      <td>dachshund</td>\n",
       "      <td>adoption</td>\n",
       "      <td>16.0</td>\n",
       "      <td>1</td>\n",
       "      <td>0</td>\n",
       "      <td>Senior</td>\n",
       "      <td>black</td>\n",
       "      <td>...</td>\n",
       "      <td>1.0</td>\n",
       "      <td>0.50</td>\n",
       "      <td>26.0</td>\n",
       "      <td>40.0</td>\n",
       "      <td>7.0</td>\n",
       "      <td>10.0</td>\n",
       "      <td>16.0</td>\n",
       "      <td>32.0</td>\n",
       "      <td>49</td>\n",
       "      <td>1</td>\n",
       "    </tr>\n",
       "    <tr>\n",
       "      <th>8</th>\n",
       "      <td>surrender</td>\n",
       "      <td>injured</td>\n",
       "      <td>14.0</td>\n",
       "      <td>border collie</td>\n",
       "      <td>euthanasia</td>\n",
       "      <td>14.0</td>\n",
       "      <td>1</td>\n",
       "      <td>0</td>\n",
       "      <td>Senior</td>\n",
       "      <td>black</td>\n",
       "      <td>...</td>\n",
       "      <td>1.0</td>\n",
       "      <td>0.95</td>\n",
       "      <td>1.0</td>\n",
       "      <td>4.0</td>\n",
       "      <td>19.0</td>\n",
       "      <td>21.0</td>\n",
       "      <td>40.0</td>\n",
       "      <td>40.0</td>\n",
       "      <td>0</td>\n",
       "      <td>0</td>\n",
       "    </tr>\n",
       "    <tr>\n",
       "      <th>9</th>\n",
       "      <td>public_assist</td>\n",
       "      <td>aged</td>\n",
       "      <td>17.0</td>\n",
       "      <td>chihuahua</td>\n",
       "      <td>adoption</td>\n",
       "      <td>17.0</td>\n",
       "      <td>1</td>\n",
       "      <td>0</td>\n",
       "      <td>Senior</td>\n",
       "      <td>tan</td>\n",
       "      <td>...</td>\n",
       "      <td>1.0</td>\n",
       "      <td>0.30</td>\n",
       "      <td>41.0</td>\n",
       "      <td>80.0</td>\n",
       "      <td>6.0</td>\n",
       "      <td>9.0</td>\n",
       "      <td>2.0</td>\n",
       "      <td>5.0</td>\n",
       "      <td>9</td>\n",
       "      <td>0</td>\n",
       "    </tr>\n",
       "    <tr>\n",
       "      <th>12</th>\n",
       "      <td>surrender</td>\n",
       "      <td>injured</td>\n",
       "      <td>15.0</td>\n",
       "      <td>pug</td>\n",
       "      <td>euthanasia</td>\n",
       "      <td>15.0</td>\n",
       "      <td>1</td>\n",
       "      <td>0</td>\n",
       "      <td>Senior</td>\n",
       "      <td>gold</td>\n",
       "      <td>...</td>\n",
       "      <td>1.0</td>\n",
       "      <td>0.30</td>\n",
       "      <td>41.0</td>\n",
       "      <td>80.0</td>\n",
       "      <td>10.0</td>\n",
       "      <td>11.0</td>\n",
       "      <td>14.0</td>\n",
       "      <td>22.0</td>\n",
       "      <td>0</td>\n",
       "      <td>0</td>\n",
       "    </tr>\n",
       "    <tr>\n",
       "      <th>13</th>\n",
       "      <td>surrender</td>\n",
       "      <td>injured</td>\n",
       "      <td>15.0</td>\n",
       "      <td>pug</td>\n",
       "      <td>euthanasia</td>\n",
       "      <td>15.0</td>\n",
       "      <td>1</td>\n",
       "      <td>0</td>\n",
       "      <td>Senior</td>\n",
       "      <td>gold</td>\n",
       "      <td>...</td>\n",
       "      <td>1.0</td>\n",
       "      <td>0.30</td>\n",
       "      <td>41.0</td>\n",
       "      <td>80.0</td>\n",
       "      <td>10.0</td>\n",
       "      <td>11.0</td>\n",
       "      <td>14.0</td>\n",
       "      <td>22.0</td>\n",
       "      <td>0</td>\n",
       "      <td>0</td>\n",
       "    </tr>\n",
       "  </tbody>\n",
       "</table>\n",
       "<p>5 rows × 23 columns</p>\n",
       "</div>"
      ],
      "text/plain": [
       "      intake_type condition  age_in          breed     outcome  age_out  sex  \\\n",
       "7       surrender    normal    16.0      dachshund    adoption     16.0    1   \n",
       "8       surrender   injured    14.0  border collie  euthanasia     14.0    1   \n",
       "9   public_assist      aged    17.0      chihuahua    adoption     17.0    1   \n",
       "12      surrender   injured    15.0            pug  euthanasia     15.0    1   \n",
       "13      surrender   injured    15.0            pug  euthanasia     15.0    1   \n",
       "\n",
       "    intact_out     age primary_color  ... pure  obey reps_lower  reps_upper  \\\n",
       "7            0  Senior         black  ...  1.0  0.50       26.0        40.0   \n",
       "8            0  Senior         black  ...  1.0  0.95        1.0         4.0   \n",
       "9            0  Senior           tan  ...  1.0  0.30       41.0        80.0   \n",
       "12           0  Senior          gold  ...  1.0  0.30       41.0        80.0   \n",
       "13           0  Senior          gold  ...  1.0  0.30       41.0        80.0   \n",
       "\n",
       "    height_low_inches  height_high_inches  weight_low_lbs  weight_high_lbs  \\\n",
       "7                 7.0                10.0            16.0             32.0   \n",
       "8                19.0                21.0            40.0             40.0   \n",
       "9                 6.0                 9.0             2.0              5.0   \n",
       "12               10.0                11.0            14.0             22.0   \n",
       "13               10.0                11.0            14.0             22.0   \n",
       "\n",
       "    time_in_shelter  at_risk  \n",
       "7                49        1  \n",
       "8                 0        0  \n",
       "9                 9        0  \n",
       "12                0        0  \n",
       "13                0        0  \n",
       "\n",
       "[5 rows x 23 columns]"
      ]
     },
     "execution_count": 568,
     "metadata": {},
     "output_type": "execute_result"
    }
   ],
   "source": [
    "data.head()"
   ]
  },
  {
   "cell_type": "code",
   "execution_count": 569,
   "metadata": {},
   "outputs": [],
   "source": [
    "y = data['time_in_shelter']\n",
    "X = data.drop(columns=['time_in_shelter'])"
   ]
  },
  {
   "cell_type": "code",
   "execution_count": 570,
   "metadata": {},
   "outputs": [
    {
     "data": {
      "text/plain": [
       "7     49\n",
       "8      0\n",
       "9      9\n",
       "12     0\n",
       "13     0\n",
       "Name: time_in_shelter, dtype: int64"
      ]
     },
     "execution_count": 570,
     "metadata": {},
     "output_type": "execute_result"
    }
   ],
   "source": [
    "y.head()"
   ]
  },
  {
   "cell_type": "code",
   "execution_count": 571,
   "metadata": {},
   "outputs": [
    {
     "data": {
      "text/plain": [
       "Index(['intake_type', 'condition', 'age_in', 'breed', 'outcome', 'age_out',\n",
       "       'sex', 'intact_out', 'age', 'primary_color', 'secondary_color',\n",
       "       'breed_1', 'breed_2', 'pure', 'obey', 'reps_lower', 'reps_upper',\n",
       "       'height_low_inches', 'height_high_inches', 'weight_low_lbs',\n",
       "       'weight_high_lbs', 'at_risk'],\n",
       "      dtype='object')"
      ]
     },
     "execution_count": 571,
     "metadata": {},
     "output_type": "execute_result"
    }
   ],
   "source": [
    "X.columns"
   ]
  },
  {
   "cell_type": "code",
   "execution_count": 572,
   "metadata": {},
   "outputs": [],
   "source": [
    "numeric_cols = ['age_in', 'sex', 'intact_out', 'pure', 'obey', 'reps_lower', 'reps_upper', 'height_low_inches', 'height_high_inches', 'weight_low_lbs', 'weight_high_lbs']"
   ]
  },
  {
   "cell_type": "code",
   "execution_count": 573,
   "metadata": {},
   "outputs": [],
   "source": [
    "numeric_cols = ['age_in', 'obey', 'height_low_inches', 'height_high_inches', 'weight_low_lbs', 'weight_high_lbs']"
   ]
  },
  {
   "cell_type": "code",
   "execution_count": 574,
   "metadata": {},
   "outputs": [],
   "source": [
    "cat_features = ['age']"
   ]
  },
  {
   "cell_type": "code",
   "execution_count": 575,
   "metadata": {},
   "outputs": [
    {
     "data": {
      "text/html": [
       "<div>\n",
       "<style scoped>\n",
       "    .dataframe tbody tr th:only-of-type {\n",
       "        vertical-align: middle;\n",
       "    }\n",
       "\n",
       "    .dataframe tbody tr th {\n",
       "        vertical-align: top;\n",
       "    }\n",
       "\n",
       "    .dataframe thead th {\n",
       "        text-align: right;\n",
       "    }\n",
       "</style>\n",
       "<table border=\"1\" class=\"dataframe\">\n",
       "  <thead>\n",
       "    <tr style=\"text-align: right;\">\n",
       "      <th></th>\n",
       "      <th>age</th>\n",
       "    </tr>\n",
       "  </thead>\n",
       "  <tbody>\n",
       "    <tr>\n",
       "      <th>7</th>\n",
       "      <td>Senior</td>\n",
       "    </tr>\n",
       "    <tr>\n",
       "      <th>8</th>\n",
       "      <td>Senior</td>\n",
       "    </tr>\n",
       "    <tr>\n",
       "      <th>9</th>\n",
       "      <td>Senior</td>\n",
       "    </tr>\n",
       "    <tr>\n",
       "      <th>12</th>\n",
       "      <td>Senior</td>\n",
       "    </tr>\n",
       "    <tr>\n",
       "      <th>13</th>\n",
       "      <td>Senior</td>\n",
       "    </tr>\n",
       "    <tr>\n",
       "      <th>...</th>\n",
       "      <td>...</td>\n",
       "    </tr>\n",
       "    <tr>\n",
       "      <th>53495</th>\n",
       "      <td>Baby</td>\n",
       "    </tr>\n",
       "    <tr>\n",
       "      <th>53497</th>\n",
       "      <td>Baby</td>\n",
       "    </tr>\n",
       "    <tr>\n",
       "      <th>53502</th>\n",
       "      <td>Senior</td>\n",
       "    </tr>\n",
       "    <tr>\n",
       "      <th>53510</th>\n",
       "      <td>Adult</td>\n",
       "    </tr>\n",
       "    <tr>\n",
       "      <th>53512</th>\n",
       "      <td>Baby</td>\n",
       "    </tr>\n",
       "  </tbody>\n",
       "</table>\n",
       "<p>25361 rows × 1 columns</p>\n",
       "</div>"
      ],
      "text/plain": [
       "          age\n",
       "7      Senior\n",
       "8      Senior\n",
       "9      Senior\n",
       "12     Senior\n",
       "13     Senior\n",
       "...       ...\n",
       "53495    Baby\n",
       "53497    Baby\n",
       "53502  Senior\n",
       "53510   Adult\n",
       "53512    Baby\n",
       "\n",
       "[25361 rows x 1 columns]"
      ]
     },
     "execution_count": 575,
     "metadata": {},
     "output_type": "execute_result"
    }
   ],
   "source": [
    "X[cat_features]"
   ]
  },
  {
   "cell_type": "code",
   "execution_count": 576,
   "metadata": {},
   "outputs": [],
   "source": [
    "X_dum = pd.concat([\n",
    "    # X[numeric_cols], \n",
    "    pd.get_dummies(X[cat_features]), \n",
    "    # pd.get_dummies(X['primary_color'], prefix='color'), \n",
    "    # pd.get_dummies(X['condition'], prefix='condition'), \n",
    "    # pd.get_dummies(X['intake_type'], prefix='intake')\n",
    "    ], axis=1)"
   ]
  },
  {
   "cell_type": "code",
   "execution_count": 577,
   "metadata": {},
   "outputs": [
    {
     "data": {
      "text/html": [
       "<div>\n",
       "<style scoped>\n",
       "    .dataframe tbody tr th:only-of-type {\n",
       "        vertical-align: middle;\n",
       "    }\n",
       "\n",
       "    .dataframe tbody tr th {\n",
       "        vertical-align: top;\n",
       "    }\n",
       "\n",
       "    .dataframe thead th {\n",
       "        text-align: right;\n",
       "    }\n",
       "</style>\n",
       "<table border=\"1\" class=\"dataframe\">\n",
       "  <thead>\n",
       "    <tr style=\"text-align: right;\">\n",
       "      <th></th>\n",
       "      <th>age_Adult</th>\n",
       "      <th>age_Baby</th>\n",
       "      <th>age_Senior</th>\n",
       "      <th>age_Young</th>\n",
       "    </tr>\n",
       "  </thead>\n",
       "  <tbody>\n",
       "    <tr>\n",
       "      <th>7</th>\n",
       "      <td>0</td>\n",
       "      <td>0</td>\n",
       "      <td>1</td>\n",
       "      <td>0</td>\n",
       "    </tr>\n",
       "    <tr>\n",
       "      <th>8</th>\n",
       "      <td>0</td>\n",
       "      <td>0</td>\n",
       "      <td>1</td>\n",
       "      <td>0</td>\n",
       "    </tr>\n",
       "    <tr>\n",
       "      <th>9</th>\n",
       "      <td>0</td>\n",
       "      <td>0</td>\n",
       "      <td>1</td>\n",
       "      <td>0</td>\n",
       "    </tr>\n",
       "    <tr>\n",
       "      <th>12</th>\n",
       "      <td>0</td>\n",
       "      <td>0</td>\n",
       "      <td>1</td>\n",
       "      <td>0</td>\n",
       "    </tr>\n",
       "    <tr>\n",
       "      <th>13</th>\n",
       "      <td>0</td>\n",
       "      <td>0</td>\n",
       "      <td>1</td>\n",
       "      <td>0</td>\n",
       "    </tr>\n",
       "  </tbody>\n",
       "</table>\n",
       "</div>"
      ],
      "text/plain": [
       "    age_Adult  age_Baby  age_Senior  age_Young\n",
       "7           0         0           1          0\n",
       "8           0         0           1          0\n",
       "9           0         0           1          0\n",
       "12          0         0           1          0\n",
       "13          0         0           1          0"
      ]
     },
     "execution_count": 577,
     "metadata": {},
     "output_type": "execute_result"
    }
   ],
   "source": [
    "X_dum.head()"
   ]
  },
  {
   "cell_type": "code",
   "execution_count": 578,
   "metadata": {},
   "outputs": [
    {
     "data": {
      "text/plain": [
       "(25361, 4)"
      ]
     },
     "execution_count": 578,
     "metadata": {},
     "output_type": "execute_result"
    }
   ],
   "source": [
    "X_dum.shape"
   ]
  },
  {
   "cell_type": "code",
   "execution_count": 579,
   "metadata": {},
   "outputs": [
    {
     "data": {
      "text/plain": [
       "(25361,)"
      ]
     },
     "execution_count": 579,
     "metadata": {},
     "output_type": "execute_result"
    }
   ],
   "source": [
    "y.shape"
   ]
  },
  {
   "cell_type": "code",
   "execution_count": 580,
   "metadata": {},
   "outputs": [],
   "source": [
    "pf = PolynomialFeatures(degree=2)\n",
    "X_poly = pf.fit_transform(X_dum)"
   ]
  },
  {
   "cell_type": "code",
   "execution_count": 581,
   "metadata": {},
   "outputs": [],
   "source": [
    "X_train, X_test, y_train, y_test = train_test_split(X_poly, y, random_state=123)"
   ]
  },
  {
   "cell_type": "code",
   "execution_count": 582,
   "metadata": {},
   "outputs": [],
   "source": [
    "X_train, X_test, y_train, y_test = train_test_split(X_dum, y, random_state=123)"
   ]
  },
  {
   "cell_type": "code",
   "execution_count": 583,
   "metadata": {},
   "outputs": [],
   "source": [
    "ss = StandardScaler()\n",
    "\n",
    "X_train_sc = ss.fit_transform(X_train)\n",
    "X_test_sc = ss.transform(X_test)"
   ]
  },
  {
   "cell_type": "code",
   "execution_count": 584,
   "metadata": {},
   "outputs": [
    {
     "data": {
      "text/plain": [
       "GridSearchCV(estimator=Lasso(max_iter=10000, random_state=123),\n",
       "             param_grid={'alpha': [0.05, 0.1, 0.25, 0.5]})"
      ]
     },
     "execution_count": 584,
     "metadata": {},
     "output_type": "execute_result"
    }
   ],
   "source": [
    "lr_params = {\n",
    "    'alpha': [.05, .1, .25, .5],\n",
    "}\n",
    "\n",
    "lr = Lasso(random_state=123, max_iter=10_000)\n",
    "gs_lr = GridSearchCV(lr, lr_params)\n",
    "\n",
    "gs_lr.fit(X_train_sc, y_train)"
   ]
  },
  {
   "cell_type": "code",
   "execution_count": 585,
   "metadata": {},
   "outputs": [
    {
     "data": {
      "text/html": [
       "<div>\n",
       "<style scoped>\n",
       "    .dataframe tbody tr th:only-of-type {\n",
       "        vertical-align: middle;\n",
       "    }\n",
       "\n",
       "    .dataframe tbody tr th {\n",
       "        vertical-align: top;\n",
       "    }\n",
       "\n",
       "    .dataframe thead th {\n",
       "        text-align: right;\n",
       "    }\n",
       "</style>\n",
       "<table border=\"1\" class=\"dataframe\">\n",
       "  <thead>\n",
       "    <tr style=\"text-align: right;\">\n",
       "      <th></th>\n",
       "      <th>mean_fit_time</th>\n",
       "      <th>std_fit_time</th>\n",
       "      <th>mean_score_time</th>\n",
       "      <th>std_score_time</th>\n",
       "      <th>param_alpha</th>\n",
       "      <th>params</th>\n",
       "      <th>split0_test_score</th>\n",
       "      <th>split1_test_score</th>\n",
       "      <th>split2_test_score</th>\n",
       "      <th>split3_test_score</th>\n",
       "      <th>split4_test_score</th>\n",
       "      <th>mean_test_score</th>\n",
       "      <th>std_test_score</th>\n",
       "      <th>rank_test_score</th>\n",
       "    </tr>\n",
       "  </thead>\n",
       "  <tbody>\n",
       "    <tr>\n",
       "      <th>0</th>\n",
       "      <td>0.010013</td>\n",
       "      <td>0.005281</td>\n",
       "      <td>0.001034</td>\n",
       "      <td>0.000212</td>\n",
       "      <td>0.05</td>\n",
       "      <td>{'alpha': 0.05}</td>\n",
       "      <td>0.023698</td>\n",
       "      <td>0.028663</td>\n",
       "      <td>0.019145</td>\n",
       "      <td>0.021535</td>\n",
       "      <td>0.022227</td>\n",
       "      <td>0.023054</td>\n",
       "      <td>0.003167</td>\n",
       "      <td>1</td>\n",
       "    </tr>\n",
       "    <tr>\n",
       "      <th>1</th>\n",
       "      <td>0.005805</td>\n",
       "      <td>0.001680</td>\n",
       "      <td>0.000854</td>\n",
       "      <td>0.000171</td>\n",
       "      <td>0.1</td>\n",
       "      <td>{'alpha': 0.1}</td>\n",
       "      <td>0.023624</td>\n",
       "      <td>0.028479</td>\n",
       "      <td>0.019251</td>\n",
       "      <td>0.021606</td>\n",
       "      <td>0.022205</td>\n",
       "      <td>0.023033</td>\n",
       "      <td>0.003067</td>\n",
       "      <td>2</td>\n",
       "    </tr>\n",
       "    <tr>\n",
       "      <th>2</th>\n",
       "      <td>0.004392</td>\n",
       "      <td>0.001473</td>\n",
       "      <td>0.000875</td>\n",
       "      <td>0.000157</td>\n",
       "      <td>0.25</td>\n",
       "      <td>{'alpha': 0.25}</td>\n",
       "      <td>0.023317</td>\n",
       "      <td>0.027844</td>\n",
       "      <td>0.019489</td>\n",
       "      <td>0.021733</td>\n",
       "      <td>0.022063</td>\n",
       "      <td>0.022889</td>\n",
       "      <td>0.002768</td>\n",
       "      <td>3</td>\n",
       "    </tr>\n",
       "    <tr>\n",
       "      <th>3</th>\n",
       "      <td>0.004437</td>\n",
       "      <td>0.001562</td>\n",
       "      <td>0.000748</td>\n",
       "      <td>0.000206</td>\n",
       "      <td>0.5</td>\n",
       "      <td>{'alpha': 0.5}</td>\n",
       "      <td>0.022522</td>\n",
       "      <td>0.026516</td>\n",
       "      <td>0.019621</td>\n",
       "      <td>0.021662</td>\n",
       "      <td>0.021568</td>\n",
       "      <td>0.022378</td>\n",
       "      <td>0.002276</td>\n",
       "      <td>4</td>\n",
       "    </tr>\n",
       "  </tbody>\n",
       "</table>\n",
       "</div>"
      ],
      "text/plain": [
       "   mean_fit_time  std_fit_time  mean_score_time  std_score_time param_alpha  \\\n",
       "0       0.010013      0.005281         0.001034        0.000212        0.05   \n",
       "1       0.005805      0.001680         0.000854        0.000171         0.1   \n",
       "2       0.004392      0.001473         0.000875        0.000157        0.25   \n",
       "3       0.004437      0.001562         0.000748        0.000206         0.5   \n",
       "\n",
       "            params  split0_test_score  split1_test_score  split2_test_score  \\\n",
       "0  {'alpha': 0.05}           0.023698           0.028663           0.019145   \n",
       "1   {'alpha': 0.1}           0.023624           0.028479           0.019251   \n",
       "2  {'alpha': 0.25}           0.023317           0.027844           0.019489   \n",
       "3   {'alpha': 0.5}           0.022522           0.026516           0.019621   \n",
       "\n",
       "   split3_test_score  split4_test_score  mean_test_score  std_test_score  \\\n",
       "0           0.021535           0.022227         0.023054        0.003167   \n",
       "1           0.021606           0.022205         0.023033        0.003067   \n",
       "2           0.021733           0.022063         0.022889        0.002768   \n",
       "3           0.021662           0.021568         0.022378        0.002276   \n",
       "\n",
       "   rank_test_score  \n",
       "0                1  \n",
       "1                2  \n",
       "2                3  \n",
       "3                4  "
      ]
     },
     "execution_count": 585,
     "metadata": {},
     "output_type": "execute_result"
    }
   ],
   "source": [
    "pd.DataFrame(gs_lr.cv_results_)"
   ]
  },
  {
   "cell_type": "code",
   "execution_count": 586,
   "metadata": {},
   "outputs": [
    {
     "data": {
      "text/plain": [
       "28.45460417997507"
      ]
     },
     "execution_count": 586,
     "metadata": {},
     "output_type": "execute_result"
    }
   ],
   "source": [
    "mean_squared_error(y_test, gs_lr.predict(X_test_sc), squared=False)"
   ]
  },
  {
   "cell_type": "code",
   "execution_count": 587,
   "metadata": {},
   "outputs": [
    {
     "data": {
      "text/plain": [
       "array([24.37208784, 14.60229658, 18.13034482, ..., 18.13034482,\n",
       "       14.60229658, 18.13034482])"
      ]
     },
     "execution_count": 587,
     "metadata": {},
     "output_type": "execute_result"
    }
   ],
   "source": [
    "gs_lr.predict(X_test_sc)"
   ]
  },
  {
   "cell_type": "markdown",
   "metadata": {},
   "source": [
    "Baseline in days"
   ]
  },
  {
   "cell_type": "code",
   "execution_count": 588,
   "metadata": {},
   "outputs": [
    {
     "data": {
      "text/plain": [
       "19.34202121367454"
      ]
     },
     "execution_count": 588,
     "metadata": {},
     "output_type": "execute_result"
    }
   ],
   "source": [
    "y.mean()"
   ]
  },
  {
   "cell_type": "code",
   "execution_count": 589,
   "metadata": {},
   "outputs": [],
   "source": [
    "from sklearn.decomposition import PCA"
   ]
  },
  {
   "cell_type": "code",
   "execution_count": 590,
   "metadata": {},
   "outputs": [],
   "source": [
    "X_dum = pd.concat([\n",
    "    X[numeric_cols], \n",
    "    pd.get_dummies(X[cat_features]), \n",
    "    pd.get_dummies(X['breed_1']),\n",
    "    # pd.get_dummies(X['primary_color'], prefix='color'), \n",
    "    pd.get_dummies(X['condition'], prefix='condition'), \n",
    "    # pd.get_dummies(X['intake_type'], prefix='intake')\n",
    "    ], axis=1)"
   ]
  },
  {
   "cell_type": "code",
   "execution_count": 591,
   "metadata": {},
   "outputs": [],
   "source": [
    "X_train, X_test, y_train, y_test = train_test_split(X_dum, y, random_state=12)"
   ]
  },
  {
   "cell_type": "code",
   "execution_count": 638,
   "metadata": {},
   "outputs": [],
   "source": [
    "ss = StandardScaler()\n",
    "X_train_sc = ss.fit_transform(X_train)\n",
    "X_test_sc = ss.transform(X_test)"
   ]
  },
  {
   "cell_type": "code",
   "execution_count": 639,
   "metadata": {},
   "outputs": [],
   "source": [
    "pca = PCA(random_state=123, n_components=50)"
   ]
  },
  {
   "cell_type": "code",
   "execution_count": 640,
   "metadata": {},
   "outputs": [
    {
     "data": {
      "text/plain": [
       "PCA(n_components=50, random_state=123)"
      ]
     },
     "execution_count": 640,
     "metadata": {},
     "output_type": "execute_result"
    }
   ],
   "source": [
    "pca.fit(X_train_sc)"
   ]
  },
  {
   "cell_type": "code",
   "execution_count": 641,
   "metadata": {},
   "outputs": [],
   "source": [
    "Z_train = pca.transform(X_train_sc)"
   ]
  },
  {
   "cell_type": "code",
   "execution_count": 642,
   "metadata": {},
   "outputs": [],
   "source": [
    "Z_test = pca.transform(X_test_sc)"
   ]
  },
  {
   "cell_type": "code",
   "execution_count": 643,
   "metadata": {},
   "outputs": [
    {
     "data": {
      "text/html": [
       "<div>\n",
       "<style scoped>\n",
       "    .dataframe tbody tr th:only-of-type {\n",
       "        vertical-align: middle;\n",
       "    }\n",
       "\n",
       "    .dataframe tbody tr th {\n",
       "        vertical-align: top;\n",
       "    }\n",
       "\n",
       "    .dataframe thead th {\n",
       "        text-align: right;\n",
       "    }\n",
       "</style>\n",
       "<table border=\"1\" class=\"dataframe\">\n",
       "  <thead>\n",
       "    <tr style=\"text-align: right;\">\n",
       "      <th></th>\n",
       "      <th>0</th>\n",
       "      <th>1</th>\n",
       "      <th>2</th>\n",
       "      <th>3</th>\n",
       "      <th>4</th>\n",
       "      <th>5</th>\n",
       "      <th>6</th>\n",
       "      <th>7</th>\n",
       "      <th>8</th>\n",
       "      <th>9</th>\n",
       "      <th>...</th>\n",
       "      <th>40</th>\n",
       "      <th>41</th>\n",
       "      <th>42</th>\n",
       "      <th>43</th>\n",
       "      <th>44</th>\n",
       "      <th>45</th>\n",
       "      <th>46</th>\n",
       "      <th>47</th>\n",
       "      <th>48</th>\n",
       "      <th>49</th>\n",
       "    </tr>\n",
       "  </thead>\n",
       "  <tbody>\n",
       "    <tr>\n",
       "      <th>0</th>\n",
       "      <td>-0.396757</td>\n",
       "      <td>-1.571892</td>\n",
       "      <td>-0.597899</td>\n",
       "      <td>-0.312293</td>\n",
       "      <td>-0.051804</td>\n",
       "      <td>1.223279</td>\n",
       "      <td>-1.056863</td>\n",
       "      <td>0.589516</td>\n",
       "      <td>1.888689</td>\n",
       "      <td>-0.459775</td>\n",
       "      <td>...</td>\n",
       "      <td>0.009441</td>\n",
       "      <td>0.005113</td>\n",
       "      <td>-0.015460</td>\n",
       "      <td>-0.001346</td>\n",
       "      <td>0.000587</td>\n",
       "      <td>0.003037</td>\n",
       "      <td>0.014856</td>\n",
       "      <td>-0.010872</td>\n",
       "      <td>0.001737</td>\n",
       "      <td>0.014936</td>\n",
       "    </tr>\n",
       "    <tr>\n",
       "      <th>1</th>\n",
       "      <td>-0.488398</td>\n",
       "      <td>-1.273842</td>\n",
       "      <td>-0.355147</td>\n",
       "      <td>0.437942</td>\n",
       "      <td>0.007373</td>\n",
       "      <td>0.479904</td>\n",
       "      <td>-0.441999</td>\n",
       "      <td>0.335590</td>\n",
       "      <td>-0.698599</td>\n",
       "      <td>0.178176</td>\n",
       "      <td>...</td>\n",
       "      <td>0.052690</td>\n",
       "      <td>0.116772</td>\n",
       "      <td>-0.056470</td>\n",
       "      <td>-0.056697</td>\n",
       "      <td>0.056969</td>\n",
       "      <td>0.060394</td>\n",
       "      <td>0.048087</td>\n",
       "      <td>-0.053283</td>\n",
       "      <td>-0.036540</td>\n",
       "      <td>-0.067231</td>\n",
       "    </tr>\n",
       "    <tr>\n",
       "      <th>2</th>\n",
       "      <td>5.038387</td>\n",
       "      <td>1.827169</td>\n",
       "      <td>2.339929</td>\n",
       "      <td>6.828796</td>\n",
       "      <td>5.399941</td>\n",
       "      <td>0.754418</td>\n",
       "      <td>3.911938</td>\n",
       "      <td>-5.949337</td>\n",
       "      <td>4.564277</td>\n",
       "      <td>9.714865</td>\n",
       "      <td>...</td>\n",
       "      <td>0.795013</td>\n",
       "      <td>0.851262</td>\n",
       "      <td>0.806124</td>\n",
       "      <td>0.676383</td>\n",
       "      <td>-0.825730</td>\n",
       "      <td>-1.328425</td>\n",
       "      <td>0.011326</td>\n",
       "      <td>-0.856536</td>\n",
       "      <td>-0.080463</td>\n",
       "      <td>0.772799</td>\n",
       "    </tr>\n",
       "    <tr>\n",
       "      <th>3</th>\n",
       "      <td>-0.650769</td>\n",
       "      <td>0.545187</td>\n",
       "      <td>1.671597</td>\n",
       "      <td>-0.043082</td>\n",
       "      <td>-1.958006</td>\n",
       "      <td>-0.492098</td>\n",
       "      <td>0.491025</td>\n",
       "      <td>-0.490638</td>\n",
       "      <td>0.326209</td>\n",
       "      <td>0.134292</td>\n",
       "      <td>...</td>\n",
       "      <td>0.006066</td>\n",
       "      <td>0.003751</td>\n",
       "      <td>-0.001636</td>\n",
       "      <td>-0.003019</td>\n",
       "      <td>-0.001297</td>\n",
       "      <td>0.002123</td>\n",
       "      <td>-0.004972</td>\n",
       "      <td>-0.003648</td>\n",
       "      <td>0.006067</td>\n",
       "      <td>-0.001117</td>\n",
       "    </tr>\n",
       "    <tr>\n",
       "      <th>4</th>\n",
       "      <td>-0.650769</td>\n",
       "      <td>0.545187</td>\n",
       "      <td>1.671597</td>\n",
       "      <td>-0.043082</td>\n",
       "      <td>-1.958006</td>\n",
       "      <td>-0.492098</td>\n",
       "      <td>0.491025</td>\n",
       "      <td>-0.490638</td>\n",
       "      <td>0.326209</td>\n",
       "      <td>0.134292</td>\n",
       "      <td>...</td>\n",
       "      <td>0.006066</td>\n",
       "      <td>0.003751</td>\n",
       "      <td>-0.001636</td>\n",
       "      <td>-0.003019</td>\n",
       "      <td>-0.001297</td>\n",
       "      <td>0.002123</td>\n",
       "      <td>-0.004972</td>\n",
       "      <td>-0.003648</td>\n",
       "      <td>0.006067</td>\n",
       "      <td>-0.001117</td>\n",
       "    </tr>\n",
       "    <tr>\n",
       "      <th>...</th>\n",
       "      <td>...</td>\n",
       "      <td>...</td>\n",
       "      <td>...</td>\n",
       "      <td>...</td>\n",
       "      <td>...</td>\n",
       "      <td>...</td>\n",
       "      <td>...</td>\n",
       "      <td>...</td>\n",
       "      <td>...</td>\n",
       "      <td>...</td>\n",
       "      <td>...</td>\n",
       "      <td>...</td>\n",
       "      <td>...</td>\n",
       "      <td>...</td>\n",
       "      <td>...</td>\n",
       "      <td>...</td>\n",
       "      <td>...</td>\n",
       "      <td>...</td>\n",
       "      <td>...</td>\n",
       "      <td>...</td>\n",
       "      <td>...</td>\n",
       "    </tr>\n",
       "    <tr>\n",
       "      <th>19015</th>\n",
       "      <td>-0.793255</td>\n",
       "      <td>-1.473304</td>\n",
       "      <td>-0.070552</td>\n",
       "      <td>-0.042808</td>\n",
       "      <td>-0.816931</td>\n",
       "      <td>-0.609025</td>\n",
       "      <td>0.114552</td>\n",
       "      <td>1.851195</td>\n",
       "      <td>0.013949</td>\n",
       "      <td>1.173759</td>\n",
       "      <td>...</td>\n",
       "      <td>-0.553674</td>\n",
       "      <td>2.073230</td>\n",
       "      <td>-0.037924</td>\n",
       "      <td>-1.986093</td>\n",
       "      <td>0.598639</td>\n",
       "      <td>-0.319117</td>\n",
       "      <td>1.592194</td>\n",
       "      <td>-0.373241</td>\n",
       "      <td>-4.780441</td>\n",
       "      <td>0.249716</td>\n",
       "    </tr>\n",
       "    <tr>\n",
       "      <th>19016</th>\n",
       "      <td>-0.529001</td>\n",
       "      <td>1.873588</td>\n",
       "      <td>-1.362416</td>\n",
       "      <td>0.342344</td>\n",
       "      <td>-0.401035</td>\n",
       "      <td>-0.329990</td>\n",
       "      <td>-1.329241</td>\n",
       "      <td>-1.331960</td>\n",
       "      <td>-0.005582</td>\n",
       "      <td>-0.590346</td>\n",
       "      <td>...</td>\n",
       "      <td>0.220132</td>\n",
       "      <td>-0.600329</td>\n",
       "      <td>-0.616527</td>\n",
       "      <td>0.068223</td>\n",
       "      <td>-0.236989</td>\n",
       "      <td>-0.186181</td>\n",
       "      <td>0.018351</td>\n",
       "      <td>-0.195363</td>\n",
       "      <td>0.102310</td>\n",
       "      <td>0.069935</td>\n",
       "    </tr>\n",
       "    <tr>\n",
       "      <th>19017</th>\n",
       "      <td>-0.294162</td>\n",
       "      <td>1.549502</td>\n",
       "      <td>-0.759911</td>\n",
       "      <td>-0.399927</td>\n",
       "      <td>0.008961</td>\n",
       "      <td>0.120457</td>\n",
       "      <td>-1.495909</td>\n",
       "      <td>0.810591</td>\n",
       "      <td>-0.841940</td>\n",
       "      <td>0.234921</td>\n",
       "      <td>...</td>\n",
       "      <td>0.048702</td>\n",
       "      <td>0.057105</td>\n",
       "      <td>-0.027066</td>\n",
       "      <td>-0.110821</td>\n",
       "      <td>-0.069672</td>\n",
       "      <td>-0.011798</td>\n",
       "      <td>-0.082238</td>\n",
       "      <td>-0.004539</td>\n",
       "      <td>0.052706</td>\n",
       "      <td>0.043408</td>\n",
       "    </tr>\n",
       "    <tr>\n",
       "      <th>19018</th>\n",
       "      <td>-0.650769</td>\n",
       "      <td>0.545187</td>\n",
       "      <td>1.671597</td>\n",
       "      <td>-0.043082</td>\n",
       "      <td>-1.958006</td>\n",
       "      <td>-0.492098</td>\n",
       "      <td>0.491025</td>\n",
       "      <td>-0.490638</td>\n",
       "      <td>0.326209</td>\n",
       "      <td>0.134292</td>\n",
       "      <td>...</td>\n",
       "      <td>0.006066</td>\n",
       "      <td>0.003751</td>\n",
       "      <td>-0.001636</td>\n",
       "      <td>-0.003019</td>\n",
       "      <td>-0.001297</td>\n",
       "      <td>0.002123</td>\n",
       "      <td>-0.004972</td>\n",
       "      <td>-0.003648</td>\n",
       "      <td>0.006067</td>\n",
       "      <td>-0.001117</td>\n",
       "    </tr>\n",
       "    <tr>\n",
       "      <th>19019</th>\n",
       "      <td>4.101517</td>\n",
       "      <td>1.079282</td>\n",
       "      <td>-0.054639</td>\n",
       "      <td>-1.242187</td>\n",
       "      <td>0.176245</td>\n",
       "      <td>0.778599</td>\n",
       "      <td>-0.240994</td>\n",
       "      <td>0.185228</td>\n",
       "      <td>-1.057835</td>\n",
       "      <td>0.363915</td>\n",
       "      <td>...</td>\n",
       "      <td>-0.041706</td>\n",
       "      <td>-0.176628</td>\n",
       "      <td>0.236286</td>\n",
       "      <td>0.121630</td>\n",
       "      <td>-0.132985</td>\n",
       "      <td>-0.134525</td>\n",
       "      <td>0.083488</td>\n",
       "      <td>0.018866</td>\n",
       "      <td>-0.029827</td>\n",
       "      <td>0.011315</td>\n",
       "    </tr>\n",
       "  </tbody>\n",
       "</table>\n",
       "<p>19020 rows × 50 columns</p>\n",
       "</div>"
      ],
      "text/plain": [
       "             0         1         2         3         4         5         6   \\\n",
       "0     -0.396757 -1.571892 -0.597899 -0.312293 -0.051804  1.223279 -1.056863   \n",
       "1     -0.488398 -1.273842 -0.355147  0.437942  0.007373  0.479904 -0.441999   \n",
       "2      5.038387  1.827169  2.339929  6.828796  5.399941  0.754418  3.911938   \n",
       "3     -0.650769  0.545187  1.671597 -0.043082 -1.958006 -0.492098  0.491025   \n",
       "4     -0.650769  0.545187  1.671597 -0.043082 -1.958006 -0.492098  0.491025   \n",
       "...         ...       ...       ...       ...       ...       ...       ...   \n",
       "19015 -0.793255 -1.473304 -0.070552 -0.042808 -0.816931 -0.609025  0.114552   \n",
       "19016 -0.529001  1.873588 -1.362416  0.342344 -0.401035 -0.329990 -1.329241   \n",
       "19017 -0.294162  1.549502 -0.759911 -0.399927  0.008961  0.120457 -1.495909   \n",
       "19018 -0.650769  0.545187  1.671597 -0.043082 -1.958006 -0.492098  0.491025   \n",
       "19019  4.101517  1.079282 -0.054639 -1.242187  0.176245  0.778599 -0.240994   \n",
       "\n",
       "             7         8         9   ...        40        41        42  \\\n",
       "0      0.589516  1.888689 -0.459775  ...  0.009441  0.005113 -0.015460   \n",
       "1      0.335590 -0.698599  0.178176  ...  0.052690  0.116772 -0.056470   \n",
       "2     -5.949337  4.564277  9.714865  ...  0.795013  0.851262  0.806124   \n",
       "3     -0.490638  0.326209  0.134292  ...  0.006066  0.003751 -0.001636   \n",
       "4     -0.490638  0.326209  0.134292  ...  0.006066  0.003751 -0.001636   \n",
       "...         ...       ...       ...  ...       ...       ...       ...   \n",
       "19015  1.851195  0.013949  1.173759  ... -0.553674  2.073230 -0.037924   \n",
       "19016 -1.331960 -0.005582 -0.590346  ...  0.220132 -0.600329 -0.616527   \n",
       "19017  0.810591 -0.841940  0.234921  ...  0.048702  0.057105 -0.027066   \n",
       "19018 -0.490638  0.326209  0.134292  ...  0.006066  0.003751 -0.001636   \n",
       "19019  0.185228 -1.057835  0.363915  ... -0.041706 -0.176628  0.236286   \n",
       "\n",
       "             43        44        45        46        47        48        49  \n",
       "0     -0.001346  0.000587  0.003037  0.014856 -0.010872  0.001737  0.014936  \n",
       "1     -0.056697  0.056969  0.060394  0.048087 -0.053283 -0.036540 -0.067231  \n",
       "2      0.676383 -0.825730 -1.328425  0.011326 -0.856536 -0.080463  0.772799  \n",
       "3     -0.003019 -0.001297  0.002123 -0.004972 -0.003648  0.006067 -0.001117  \n",
       "4     -0.003019 -0.001297  0.002123 -0.004972 -0.003648  0.006067 -0.001117  \n",
       "...         ...       ...       ...       ...       ...       ...       ...  \n",
       "19015 -1.986093  0.598639 -0.319117  1.592194 -0.373241 -4.780441  0.249716  \n",
       "19016  0.068223 -0.236989 -0.186181  0.018351 -0.195363  0.102310  0.069935  \n",
       "19017 -0.110821 -0.069672 -0.011798 -0.082238 -0.004539  0.052706  0.043408  \n",
       "19018 -0.003019 -0.001297  0.002123 -0.004972 -0.003648  0.006067 -0.001117  \n",
       "19019  0.121630 -0.132985 -0.134525  0.083488  0.018866 -0.029827  0.011315  \n",
       "\n",
       "[19020 rows x 50 columns]"
      ]
     },
     "execution_count": 643,
     "metadata": {},
     "output_type": "execute_result"
    }
   ],
   "source": [
    "pd.DataFrame(Z_train)"
   ]
  },
  {
   "cell_type": "code",
   "execution_count": 644,
   "metadata": {},
   "outputs": [
    {
     "data": {
      "text/plain": [
       "array([0.015 , 0.013 , 0.0107, 0.0095, 0.0083, 0.0081, 0.0079, 0.0078,\n",
       "       0.0077, 0.0077, 0.0076, 0.0076, 0.0076, 0.0075, 0.0075, 0.0075,\n",
       "       0.0075, 0.0075, 0.0075, 0.0075, 0.0075, 0.0075, 0.0074, 0.0074,\n",
       "       0.0074, 0.0074, 0.0074, 0.0074, 0.0074, 0.0074, 0.0074, 0.0074,\n",
       "       0.0074, 0.0074, 0.0074, 0.0074, 0.0074, 0.0074, 0.0074, 0.0074,\n",
       "       0.0074, 0.0074, 0.0074, 0.0074, 0.0074, 0.0074, 0.0074, 0.0074,\n",
       "       0.0074, 0.0074])"
      ]
     },
     "execution_count": 644,
     "metadata": {},
     "output_type": "execute_result"
    }
   ],
   "source": [
    "np.round(pca.explained_variance_ratio_, 4)"
   ]
  },
  {
   "cell_type": "code",
   "execution_count": 645,
   "metadata": {},
   "outputs": [
    {
     "name": "stdout",
     "output_type": "stream",
     "text": [
      "Explained variance (first 10 components): [0.015 0.013 0.011 0.01  0.008 0.008 0.008 0.008 0.008 0.008]\n",
      "\n",
      "Cumulative explained variance (first 10 components): [0.015 0.013 0.011 0.01  0.008 0.008 0.008 0.008 0.008 0.008]\n"
     ]
    }
   ],
   "source": [
    "# Pull the explained variance attribute.\n",
    "var_exp = pca.explained_variance_ratio_\n",
    "print(f'Explained variance (first 10 components): {np.round(var_exp[:10], 3)}')\n",
    "\n",
    "print('')\n",
    "\n",
    "# Generate the cumulative explained variance.\n",
    "cum_var_exp = np.cumsum(var_exp)\n",
    "print(f'Cumulative explained variance (first 10 components): {np.round(var_exp[:10], 3)}')"
   ]
  },
  {
   "cell_type": "code",
   "execution_count": 646,
   "metadata": {},
   "outputs": [
    {
     "data": {
      "text/html": [
       "<div>\n",
       "<style scoped>\n",
       "    .dataframe tbody tr th:only-of-type {\n",
       "        vertical-align: middle;\n",
       "    }\n",
       "\n",
       "    .dataframe tbody tr th {\n",
       "        vertical-align: top;\n",
       "    }\n",
       "\n",
       "    .dataframe thead th {\n",
       "        text-align: right;\n",
       "    }\n",
       "</style>\n",
       "<table border=\"1\" class=\"dataframe\">\n",
       "  <thead>\n",
       "    <tr style=\"text-align: right;\">\n",
       "      <th></th>\n",
       "      <th>Variation</th>\n",
       "      <th>PC</th>\n",
       "    </tr>\n",
       "  </thead>\n",
       "  <tbody>\n",
       "    <tr>\n",
       "      <th>0</th>\n",
       "      <td>0.014999</td>\n",
       "      <td>PCA_1</td>\n",
       "    </tr>\n",
       "    <tr>\n",
       "      <th>1</th>\n",
       "      <td>0.013041</td>\n",
       "      <td>PCA_2</td>\n",
       "    </tr>\n",
       "    <tr>\n",
       "      <th>2</th>\n",
       "      <td>0.010691</td>\n",
       "      <td>PCA_3</td>\n",
       "    </tr>\n",
       "    <tr>\n",
       "      <th>3</th>\n",
       "      <td>0.009536</td>\n",
       "      <td>PCA_4</td>\n",
       "    </tr>\n",
       "    <tr>\n",
       "      <th>4</th>\n",
       "      <td>0.008322</td>\n",
       "      <td>PCA_5</td>\n",
       "    </tr>\n",
       "  </tbody>\n",
       "</table>\n",
       "</div>"
      ],
      "text/plain": [
       "   Variation     PC\n",
       "0   0.014999  PCA_1\n",
       "1   0.013041  PCA_2\n",
       "2   0.010691  PCA_3\n",
       "3   0.009536  PCA_4\n",
       "4   0.008322  PCA_5"
      ]
     },
     "execution_count": 646,
     "metadata": {},
     "output_type": "execute_result"
    }
   ],
   "source": [
    "## Set up dataframe with PCs and amount of explained variance\n",
    "columns = [f'PCA_{i+1}' for i in pd.DataFrame(Z_train).columns]\n",
    "var_ratio_df = pd.DataFrame({\n",
    "    'Variation':var_exp,\n",
    "    'PC':columns\n",
    "})\n",
    "\n",
    "var_ratio_df.head()"
   ]
  },
  {
   "cell_type": "code",
   "execution_count": 647,
   "metadata": {},
   "outputs": [
    {
     "data": {
      "image/png": "[encoded data removed]",
      "text/plain": [
       "<Figure size 720x432 with 1 Axes>"
      ]
     },
     "metadata": {
      "needs_background": "light"
     },
     "output_type": "display_data"
    }
   ],
   "source": [
    "# Plot explained variance of each principal component\n",
    "plt.figure(figsize = (10,6))\n",
    "sns.barplot(x = var_ratio_df['PC'].head(10),\n",
    "            y = var_ratio_df['Variation'].head(10), \n",
    "            data=var_ratio_df, color=\"c\");"
   ]
  },
  {
   "cell_type": "code",
   "execution_count": 648,
   "metadata": {},
   "outputs": [
    {
     "data": {
      "image/png": "[encoded data removed]",
      "text/plain": [
       "<Figure size 864x576 with 1 Axes>"
      ]
     },
     "metadata": {
      "needs_background": "light"
     },
     "output_type": "display_data"
    }
   ],
   "source": [
    "# Plot the variance explained (and cumulative variance explained).\n",
    "plt.figure(figsize=(12,8))\n",
    "\n",
    "# Plot the explained variance.\n",
    "plt.plot(range(len(var_exp)), var_exp, lw=3, label = 'Variance Explained')\n",
    "\n",
    "# Plot the cumulative explained variance.\n",
    "plt.plot(range(len(var_exp)), cum_var_exp, lw=3, color = 'orange', label = 'Cumulative Variance Explained')\n",
    "\n",
    "# Add horizontal lines at y=0 and y=1.\n",
    "plt.axhline(y=0, linewidth=1, color='grey', ls='dashed')\n",
    "plt.axhline(y=1, linewidth=1, color='grey', ls='dashed')\n",
    "\n",
    "# Set the limits of the axes.\n",
    "plt.xlim([-1,21])\n",
    "plt.ylim([-0.01,1.01])\n",
    "\n",
    "# Label the axes.\n",
    "plt.ylabel('Variance Explained', fontsize=20)\n",
    "plt.xlabel('Principal Component', fontsize=20)\n",
    "\n",
    "# Make the tick labels bigger\n",
    "plt.xticks(range(0, 21, 5), range(1, 22, 5), fontsize=12)\n",
    "plt.yticks(fontsize=12)\n",
    "    \n",
    "# Add title and legend.\n",
    "plt.title('Component vs. Variance Explained', fontsize=24)\n",
    "plt.legend(fontsize=11);"
   ]
  },
  {
   "cell_type": "code",
   "execution_count": 603,
   "metadata": {},
   "outputs": [
    {
     "name": "stdout",
     "output_type": "stream",
     "text": [
      "Training Score: 0.0817\n",
      "Testing Score: 0.0827\n",
      "Training RMSE: 0.0817\n",
      "Testing RMSE: 0.0827\n"
     ]
    }
   ],
   "source": [
    "pca_lr = LinearRegression().fit(Z_train, y_train)\n",
    "\n",
    "# Score on training and testing sets.\n",
    "print(f'Training Score: {round(pca_lr.score(Z_train, y_train),4)}')\n",
    "print(f'Testing Score: {round(pca_lr.score(Z_test, y_test),4)}')\n",
    "\n",
    "print(f'Training RMSE: {round(pca_lr.score(Z_train, y_train),4)}')\n",
    "print(f'Testing RMSE: {round(pca_lr.score(Z_test, y_test),4)}')"
   ]
  },
  {
   "cell_type": "code",
   "execution_count": 604,
   "metadata": {},
   "outputs": [
    {
     "data": {
      "text/plain": [
       "27.95708378948129"
      ]
     },
     "execution_count": 604,
     "metadata": {},
     "output_type": "execute_result"
    }
   ],
   "source": [
    "mean_squared_error(y_test, pca_lr.predict(Z_test), squared=False)"
   ]
  },
  {
   "cell_type": "code",
   "execution_count": 605,
   "metadata": {},
   "outputs": [],
   "source": [
    "from sklearn.ensemble import RandomForestRegressor\n",
    "from sklearn.tree import DecisionTreeRegressor\n",
    "from sklearn.metrics import accuracy_score"
   ]
  },
  {
   "cell_type": "code",
   "execution_count": 606,
   "metadata": {},
   "outputs": [
    {
     "data": {
      "text/plain": [
       "RandomForestRegressor(max_depth=7, min_samples_split=100, random_state=123)"
      ]
     },
     "execution_count": 606,
     "metadata": {},
     "output_type": "execute_result"
    }
   ],
   "source": [
    "rf = RandomForestRegressor(n_estimators=100, max_depth=7, random_state=123, min_samples_split=100)\n",
    "rf.fit(X_train, y_train)"
   ]
  },
  {
   "cell_type": "code",
   "execution_count": 607,
   "metadata": {},
   "outputs": [
    {
     "name": "stdout",
     "output_type": "stream",
     "text": [
      "0.17087876790888967\n",
      "0.15071620628034788\n",
      "26.90060133086576\n"
     ]
    }
   ],
   "source": [
    "print(rf.score(X_train, y_train))\n",
    "print(rf.score(X_test, y_test))\n",
    "print(mean_squared_error(y_test, rf.predict(X_test), squared=False))"
   ]
  },
  {
   "cell_type": "code",
   "execution_count": 608,
   "metadata": {},
   "outputs": [],
   "source": [
    "tree = DecisionTreeRegressor(max_depth=5)"
   ]
  },
  {
   "cell_type": "code",
   "execution_count": 609,
   "metadata": {},
   "outputs": [
    {
     "name": "stdout",
     "output_type": "stream",
     "text": [
      "0.13092297084688997\n",
      "0.1229428142841249\n"
     ]
    }
   ],
   "source": [
    "tree.fit(X_train, y_train)\n",
    "print(tree.score(X_train, y_train))\n",
    "print(tree.score(X_test, y_test))"
   ]
  },
  {
   "cell_type": "code",
   "execution_count": 652,
   "metadata": {},
   "outputs": [],
   "source": [
    "from sklearn.ensemble import RandomForestClassifier\n",
    "from sklearn.tree import DecisionTreeClassifier\n",
    "from sklearn.metrics import ConfusionMatrixDisplay"
   ]
  },
  {
   "cell_type": "code",
   "execution_count": 718,
   "metadata": {},
   "outputs": [],
   "source": [
    "y = data[data['time_in_shelter'] > 7]['at_risk']\n",
    "X = data[data['time_in_shelter'] > 7].drop(columns=['at_risk'])"
   ]
  },
  {
   "cell_type": "code",
   "execution_count": 738,
   "metadata": {},
   "outputs": [],
   "source": [
    "numeric_cols = ['age_in', 'obey', 'height_low_inches', 'height_high_inches', 'weight_low_lbs', 'weight_high_lbs']   # 82.5\n",
    "# numeric_cols = ['age_in', 'obey', 'height_low_inches', 'height_high_inches']    # no change\n"
   ]
  },
  {
   "cell_type": "code",
   "execution_count": 739,
   "metadata": {},
   "outputs": [],
   "source": [
    "cat_features = ['age']"
   ]
  },
  {
   "cell_type": "code",
   "execution_count": 783,
   "metadata": {},
   "outputs": [],
   "source": [
    "X_dum = pd.concat([\n",
    "    # X[numeric_cols], \n",
    "    pd.get_dummies(X[cat_features]), \n",
    "    # pd.get_dummies(X['breed_2']),\n",
    "    pd.get_dummies(X['breed_1']),\n",
    "    # pd.get_dummies(X['primary_color'], prefix='color'), \n",
    "    pd.get_dummies(X['condition'], prefix='condition'), \n",
    "    # pd.get_dummies(X['intake_type'], prefix='intake')\n",
    "    ], axis=1)"
   ]
  },
  {
   "cell_type": "code",
   "execution_count": 784,
   "metadata": {},
   "outputs": [],
   "source": [
    "X_train, X_test, y_train, y_test = train_test_split(X_dum, y, random_state=123, stratify=y)"
   ]
  },
  {
   "cell_type": "code",
   "execution_count": 785,
   "metadata": {},
   "outputs": [
    {
     "data": {
      "text/plain": [
       "1    0.540995\n",
       "0    0.459005\n",
       "Name: at_risk, dtype: float64"
      ]
     },
     "execution_count": 785,
     "metadata": {},
     "output_type": "execute_result"
    }
   ],
   "source": [
    "y.value_counts(normalize=True)"
   ]
  },
  {
   "cell_type": "code",
   "execution_count": 786,
   "metadata": {},
   "outputs": [
    {
     "data": {
      "text/plain": [
       "RandomForestClassifier(max_depth=200, min_samples_split=10, n_estimators=300,\n",
       "                       random_state=123)"
      ]
     },
     "execution_count": 786,
     "metadata": {},
     "output_type": "execute_result"
    }
   ],
   "source": [
    "rfc = RandomForestClassifier(n_estimators=300, max_depth=200, random_state=123, min_samples_split=10)\n",
    "rfc.fit(X_train, y_train)"
   ]
  },
  {
   "cell_type": "code",
   "execution_count": 787,
   "metadata": {},
   "outputs": [
    {
     "name": "stdout",
     "output_type": "stream",
     "text": [
      "0.6570870214967237\n",
      "0.633448275862069\n"
     ]
    }
   ],
   "source": [
    "print(rfc.score(X_train, y_train))\n",
    "print(rfc.score(X_test, y_test))\n"
   ]
  },
  {
   "cell_type": "code",
   "execution_count": null,
   "metadata": {},
   "outputs": [],
   "source": []
  }
 ],
 "metadata": {
  "interpreter": {
   "hash": "6aaf12f00e2accd7ab3a69f0361120d5b81b11b109d190d2913220c8ee37ccf8"
  },
  "kernelspec": {
   "display_name": "Python 3.9.7 ('base')",
   "language": "python",
   "name": "python3"
  },
  "language_info": {
   "codemirror_mode": {
    "name": "ipython",
    "version": 3
   },
   "file_extension": ".py",
   "mimetype": "text/x-python",
   "name": "python",
   "nbconvert_exporter": "python",
   "pygments_lexer": "ipython3",
   "version": "3.9.7"
  },
  "orig_nbformat": 4
 },
 "nbformat": 4,
 "nbformat_minor": 2
}
