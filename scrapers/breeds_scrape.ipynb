{
 "cells": [
  {
   "cell_type": "markdown",
   "metadata": {},
   "source": [
    "# Import Libraries"
   ]
  },
  {
   "cell_type": "code",
   "execution_count": 1,
   "metadata": {},
   "outputs": [],
   "source": [
    "import pandas as pd\n",
    "import numpy as np\n",
    "import requests\n",
    "from bs4 import BeautifulSoup\n",
    "from time import sleep\n",
    "import re"
   ]
  },
  {
   "cell_type": "markdown",
   "metadata": {},
   "source": [
    "Note: [Clean Breeds](https://github.com/gwoodstock/project4/blob/main/0_data_clean_breeds_info.ipynb) must be run prior"
   ]
  },
  {
   "cell_type": "code",
   "execution_count": 2,
   "metadata": {},
   "outputs": [],
   "source": [
    "# url of mixed dog breeds\n",
    "url = 'https://www.dogbreedinfo.com/hybriddogs.htm'"
   ]
  },
  {
   "cell_type": "markdown",
   "metadata": {},
   "source": [
    "Get content from url"
   ]
  },
  {
   "cell_type": "code",
   "execution_count": 3,
   "metadata": {},
   "outputs": [
    {
     "data": {
      "text/plain": [
       "200"
      ]
     },
     "execution_count": 3,
     "metadata": {},
     "output_type": "execute_result"
    }
   ],
   "source": [
    "res = requests.get(url)\n",
    "res.status_code"
   ]
  },
  {
   "cell_type": "markdown",
   "metadata": {},
   "source": [
    "Convert content into Python syntax"
   ]
  },
  {
   "cell_type": "code",
   "execution_count": 4,
   "metadata": {},
   "outputs": [],
   "source": [
    "# soup of all the <li> of dog breeds\n",
    "soup = BeautifulSoup(res.content, 'lxml')\n",
    "list_items = soup.find('div', {'class': 'container'}).find_all('li')"
   ]
  },
  {
   "cell_type": "markdown",
   "metadata": {},
   "source": [
    "# Extract Breeds"
   ]
  },
  {
   "cell_type": "code",
   "execution_count": 5,
   "metadata": {},
   "outputs": [],
   "source": [
    "# https://stackoverflow.com/questions/6116978/how-to-replace-multiple-substrings-of-a-string\n",
    "# Three lines of code below taken from stackoverflow, answered by Andrew Clark\n",
    "\n",
    "# dictionary of things to replace\n",
    "rep = {'(': '', ')':'', 'mix':'', ' - ':'', '\\xa0': ' ', '-\\t':'', '- ':'', '= ': ''}\n",
    "rep = dict((re.escape(k), v) for k, v in rep.items()) \n",
    "pattern = re.compile(\"|\".join(rep.keys()))\n",
    "\n",
    "\n",
    "# initialize empty list to add dogs to\n",
    "dogs = []\n",
    "\n",
    "# iterates over lists of dog names and breeds\n",
    "for li in list_items[5:]:\n",
    "\n",
    "    mutt = {}\n",
    "\n",
    "    # breaks out of lists of dogs at the end of the loop\n",
    "    if li.text == 'Mixed Breed Dog Information':\n",
    "        break\n",
    "\n",
    "    # if the <li> has an <a> tag\n",
    "    if li.find('a'):\n",
    "\n",
    "        # cleans the name of the dog\n",
    "        # regex pattern to sub characters from breeds. (parenthesis, the word 'mix', random chars, etc)\n",
    "        name = li.find('a').text.lower().strip()\n",
    "        breeds = pattern.sub(lambda m: rep[re.escape(m.group(0))], li.contents[-1]).lower().strip().split(' x ')\n",
    "\n",
    "        # assigns name and breeds to mutt dict\n",
    "        mutt['name'] = name\n",
    "        mutt['breeds'] = [breed.strip() for breed in breeds]\n",
    "\n",
    "    # if there is no <a> in the <li>\n",
    "    else:\n",
    "    \n",
    "        # cleans the name and breeds to be able to split. \".replace\" chains to make all input usuable\n",
    "        cleaned_name = li.text.lower().replace(' -', ' - ').replace('- ', ' - ').replace('\\xa0',' ').split(' - ')[0].strip()\n",
    "        cleaned_breed = li.text.lower().replace(' -', ' - ').replace('- ', ' - ').replace('\\xa0',' ').split(' - ')[1].strip()\n",
    "\n",
    "        # regex pattern to sub characters from name and breeds. (parenthesis, the word 'mix', random chars, etc)\n",
    "        name = pattern.sub(lambda m: rep[re.escape(m.group(0))], cleaned_name).strip()\n",
    "        breeds = pattern.sub(lambda m: rep[re.escape(m.group(0))], cleaned_breed).strip().split(' x ')\n",
    "\n",
    "        # assigns name and breeds to mutt dict\n",
    "        mutt['name'] = name\n",
    "        mutt['breeds'] = [breed.strip() for breed in breeds]\n",
    "\n",
    "    # appends dog name and breeds to dogs list\n",
    "    dogs.append(mutt)\n",
    "    # print(f\"{name} added.\")\n"
   ]
  },
  {
   "cell_type": "markdown",
   "metadata": {},
   "source": [
    "# Clean Breed Names"
   ]
  },
  {
   "cell_type": "code",
   "execution_count": 6,
   "metadata": {},
   "outputs": [],
   "source": [
    "breeds_to_fix = []\n",
    "names = []\n",
    "\n",
    "# iterates over all the dogs\n",
    "for dog in dogs:\n",
    "    \n",
    "    # iterates over all the breeds for each dog\n",
    "    for breed in dog['breeds']:\n",
    "\n",
    "        # checks for weirdness in the breeds and assigns that dog to a list to be dealt with. BAD DOG!\n",
    "        if ' with ' in breed:\n",
    "            names.append(dog['name'])\n",
    "            breeds_to_fix.append(dog)\n",
    "        elif ' or ' in breed:\n",
    "            names.append(dog['name'])\n",
    "            breeds_to_fix.append(dog)\n",
    "        elif ' the ' in breed:\n",
    "            names.append(dog['name'])\n",
    "            breeds_to_fix.append(dog)\n",
    "        elif ' ed ' in breed:\n",
    "            names.append(dog['name'])\n",
    "            breeds_to_fix.append(dog)\n",
    "        elif ' Miniature ' in breed:\n",
    "            names.append(dog['name'])\n",
    "            breeds_to_fix.append(dog)\n",
    "        elif ' Toy ' in breed:\n",
    "            names.append(dog['name'])\n",
    "            breeds_to_fix.append(dog)\n",
    "        elif ' Mini ' in breed:\n",
    "            names.append(dog['name'])\n",
    "            breeds_to_fix.append(dog)"
   ]
  },
  {
   "cell_type": "markdown",
   "metadata": {},
   "source": [
    "Check for consistency"
   ]
  },
  {
   "cell_type": "code",
   "execution_count": 7,
   "metadata": {},
   "outputs": [],
   "source": [
    "# removes all the bad dogs\n",
    "for dog in dogs:\n",
    "    if dog['name'] in names:\n",
    "        dogs.remove(dog)"
   ]
  },
  {
   "cell_type": "markdown",
   "metadata": {},
   "source": [
    "## Parse mixed breeds"
   ]
  },
  {
   "cell_type": "markdown",
   "metadata": {},
   "source": [
    "Example:"
   ]
  },
  {
   "cell_type": "code",
   "execution_count": 8,
   "metadata": {},
   "outputs": [
    {
     "data": {
      "text/plain": [
       "{'name': 'aussie-corgi',\n",
       " 'breeds': ['australian shepherd or miniature australian shepherd',\n",
       "  'pembroke welch corgi']}"
      ]
     },
     "execution_count": 8,
     "metadata": {},
     "output_type": "execute_result"
    }
   ],
   "source": [
    "breeds_to_fix[0]"
   ]
  },
  {
   "cell_type": "code",
   "execution_count": 9,
   "metadata": {},
   "outputs": [],
   "source": [
    "dogs.append(\n",
    "    {\n",
    "        \"name\": \"aussie-corgi\",\n",
    "        \"breeds\": [\"australian shepherd\", \"pembroke welch corgi\",],\n",
    "    }\n",
    ")\n",
    "\n",
    "dogs.append(\n",
    "    {\n",
    "        \"name\": \"aussie-corgi\",\n",
    "        \"breeds\": [\"miniature australian shepherd\", \"pembroke welch corgi\",],\n",
    "    }\n",
    ")"
   ]
  },
  {
   "cell_type": "code",
   "execution_count": 10,
   "metadata": {},
   "outputs": [
    {
     "data": {
      "text/plain": [
       "{'name': 'aussie pom',\n",
       " 'breeds': ['australian shepherd or mini or toy australian shepherd',\n",
       "  'pomeranian']}"
      ]
     },
     "execution_count": 10,
     "metadata": {},
     "output_type": "execute_result"
    }
   ],
   "source": [
    "breeds_to_fix[1]"
   ]
  },
  {
   "cell_type": "code",
   "execution_count": 11,
   "metadata": {},
   "outputs": [],
   "source": [
    "dogs.append(\n",
    "    {\"name\": \"aussie pom\", \"breeds\": [\"australian shepherd\", \"pomeranian\"],}\n",
    ")\n",
    "\n",
    "dogs.append(\n",
    "    {\"name\": \"aussie pom\", \"breeds\": [\"toy australian shepherd\", \"pomeranian\"],}\n",
    ")\n",
    "\n",
    "dogs.append(\n",
    "    {\"name\": \"aussie pom\", \"breeds\": [\"mini australian shepherd\", \"pomeranian\"],}\n",
    ")\n"
   ]
  },
  {
   "cell_type": "code",
   "execution_count": 12,
   "metadata": {},
   "outputs": [
    {
     "data": {
      "text/plain": [
       "{'name': 'austi-pap',\n",
       " 'breeds': ['australian shepherd standard, toy or miniature', 'papillon']}"
      ]
     },
     "execution_count": 12,
     "metadata": {},
     "output_type": "execute_result"
    }
   ],
   "source": [
    "breeds_to_fix[2]"
   ]
  },
  {
   "cell_type": "code",
   "execution_count": 13,
   "metadata": {},
   "outputs": [],
   "source": [
    "dogs.append(\n",
    "    {\"name\": \"austi-pap\", \"breeds\": [\"australian shepherd\", \"papillon\"],}\n",
    ")\n",
    "\n",
    "dogs.append(\n",
    "    {\"name\": \"austi-pap\", \"breeds\": [\"miniature australian shepherd\", \"papillon\"],}\n",
    ")\n",
    "\n",
    "dogs.append(\n",
    "    {\"name\": \"austi-pap\", \"breeds\": [\"toy australian shepherd\", \"papillon\"],}\n",
    ")"
   ]
  },
  {
   "cell_type": "code",
   "execution_count": 14,
   "metadata": {},
   "outputs": [
    {
     "data": {
      "text/plain": [
       "{'name': 'beagi', 'breeds': ['beagle', 'pembroke or cardigan welsh corgi']}"
      ]
     },
     "execution_count": 14,
     "metadata": {},
     "output_type": "execute_result"
    }
   ],
   "source": [
    "breeds_to_fix[3]"
   ]
  },
  {
   "cell_type": "code",
   "execution_count": 15,
   "metadata": {},
   "outputs": [],
   "source": [
    "dogs.append({\"name\": \"beagi\", \"breeds\": [\"beagle\", \"pembroke\"]})\n",
    "\n",
    "dogs.append({\"name\": \"beagi\", \"breeds\": [\"beagle\", \"cardigan welsh corgi\"]})"
   ]
  },
  {
   "cell_type": "code",
   "execution_count": 16,
   "metadata": {},
   "outputs": [
    {
     "data": {
      "text/plain": [
       "{'name': 'border stack',\n",
       " 'breeds': ['border collie ed with jack russell terrier',\n",
       "  'staffordshire bull terrier']}"
      ]
     },
     "execution_count": 16,
     "metadata": {},
     "output_type": "execute_result"
    }
   ],
   "source": [
    "breeds_to_fix[4]"
   ]
  },
  {
   "cell_type": "code",
   "execution_count": 17,
   "metadata": {},
   "outputs": [
    {
     "data": {
      "text/plain": [
       "{'name': 'border stack',\n",
       " 'breeds': ['border collie ed with jack russell terrier',\n",
       "  'staffordshire bull terrier']}"
      ]
     },
     "execution_count": 17,
     "metadata": {},
     "output_type": "execute_result"
    }
   ],
   "source": [
    "{\n",
    "    \"name\": \"border stack\",\n",
    "    \"breeds\": [\n",
    "        \"border collie ed with jack russell terrier\",\n",
    "        \"staffordshire bull terrier\",\n",
    "    ],\n",
    "}\n",
    "\n",
    "{\n",
    "    \"name\": \"border stack\",\n",
    "    \"breeds\": [\n",
    "        \"border collie ed with jack russell terrier\",\n",
    "        \"staffordshire bull terrier\",\n",
    "    ],\n",
    "}"
   ]
  },
  {
   "cell_type": "code",
   "execution_count": 18,
   "metadata": {},
   "outputs": [
    {
     "data": {
      "text/plain": [
       "{'name': 'bully pitsky',\n",
       " 'breeds': ['american bully', 'siberian husky or alaskan husky']}"
      ]
     },
     "execution_count": 18,
     "metadata": {},
     "output_type": "execute_result"
    }
   ],
   "source": [
    "breeds_to_fix[5]"
   ]
  },
  {
   "cell_type": "code",
   "execution_count": 19,
   "metadata": {},
   "outputs": [],
   "source": [
    "dogs.append(\n",
    "    {\"name\": \"bully pitsky\", \"breeds\": [\"american bully\", \"siberian husky\"],}\n",
    ")\n",
    "\n",
    "dogs.append(\n",
    "    {\"name\": \"bully pitsky\", \"breeds\": [\"american bully\", \"alaskan husky\"],}\n",
    ")"
   ]
  },
  {
   "cell_type": "code",
   "execution_count": 20,
   "metadata": {},
   "outputs": [
    {
     "data": {
      "text/plain": [
       "{'name': 'cotralian',\n",
       " 'breeds': ['cocker spaniel',\n",
       "  'standard, miniature or toy australian shepherd']}"
      ]
     },
     "execution_count": 20,
     "metadata": {},
     "output_type": "execute_result"
    }
   ],
   "source": [
    "breeds_to_fix[6]"
   ]
  },
  {
   "cell_type": "code",
   "execution_count": 21,
   "metadata": {},
   "outputs": [],
   "source": [
    "dogs.append(\n",
    "    {\"name\": \"cotralian\", \"breeds\": [\"cocker spaniel\", \"australian shepherd\"],}\n",
    ")\n",
    "\n",
    "dogs.append(\n",
    "    {\"name\": \"cotralian\", \"breeds\": [\"cocker spaniel\", \"toy australian shepherd\"],}\n",
    ")\n",
    "\n",
    "dogs.append(\n",
    "    {\n",
    "        \"name\": \"cotralian\",\n",
    "        \"breeds\": [\"cocker spaniel\", \"miniature australian shepherd\"],\n",
    "    }\n",
    ")"
   ]
  },
  {
   "cell_type": "code",
   "execution_count": 22,
   "metadata": {},
   "outputs": [
    {
     "data": {
      "text/plain": [
       "{'name': 'english cotralian',\n",
       " 'breeds': ['english cocker spaniel',\n",
       "  'standard, miniature or toy australian shepherd']}"
      ]
     },
     "execution_count": 22,
     "metadata": {},
     "output_type": "execute_result"
    }
   ],
   "source": [
    "breeds_to_fix[7]"
   ]
  },
  {
   "cell_type": "code",
   "execution_count": 23,
   "metadata": {},
   "outputs": [],
   "source": [
    "dogs.append(\n",
    "    {\n",
    "        \"name\": \"english cotralian\",\n",
    "        \"breeds\": [\"english cocker spaniel\", \"australian shepherd\",],\n",
    "    }\n",
    ")\n",
    "\n",
    "dogs.append(\n",
    "    {\n",
    "        \"name\": \"english cotralian\",\n",
    "        \"breeds\": [\"english cocker spaniel\", \"toy australian shepherd\",],\n",
    "    }\n",
    ")\n",
    "\n",
    "dogs.append(\n",
    "    {\n",
    "        \"name\": \"english cotralian\",\n",
    "        \"breeds\": [\"english cocker spaniel\", \"miniature australian shepherd\",],\n",
    "    }\n",
    ")"
   ]
  },
  {
   "cell_type": "code",
   "execution_count": 24,
   "metadata": {},
   "outputs": [
    {
     "data": {
      "text/plain": [
       "{'name': 'labradoodle miniature',\n",
       " 'breeds': ['labrador retriever', 'toy or miniature poodle']}"
      ]
     },
     "execution_count": 24,
     "metadata": {},
     "output_type": "execute_result"
    }
   ],
   "source": [
    "breeds_to_fix[8]"
   ]
  },
  {
   "cell_type": "code",
   "execution_count": 25,
   "metadata": {},
   "outputs": [],
   "source": [
    "dogs.append(\n",
    "    {\n",
    "        \"name\": \"labradoodle miniature\",\n",
    "        \"breeds\": [\"labrador retriever\", \"miniature poodle\"],\n",
    "    }\n",
    ")\n",
    "\n",
    "dogs.append(\n",
    "    {\"name\": \"labradoodle miniature\", \"breeds\": [\"labrador retriever\", \"toy poodle\"],}\n",
    ")"
   ]
  },
  {
   "cell_type": "code",
   "execution_count": 26,
   "metadata": {},
   "outputs": [
    {
     "data": {
      "text/plain": [
       "{'name': 'miniature goldendoodle',\n",
       " 'breeds': ['golden retriever', 'toy or miniature poodle']}"
      ]
     },
     "execution_count": 26,
     "metadata": {},
     "output_type": "execute_result"
    }
   ],
   "source": [
    "breeds_to_fix[9]"
   ]
  },
  {
   "cell_type": "code",
   "execution_count": 27,
   "metadata": {},
   "outputs": [],
   "source": [
    "dogs.append({\n",
    "    \"name\": \"miniature goldendoodle\",\n",
    "    \"breeds\": [\"golden retriever\", \"miniature poodle\"],\n",
    "})\n",
    "\n",
    "dogs.append({\n",
    "    \"name\": \"miniature goldendoodle\",\n",
    "    \"breeds\": [\"golden retriever\", \"toy poodle\"],\n",
    "})"
   ]
  },
  {
   "cell_type": "code",
   "execution_count": 28,
   "metadata": {},
   "outputs": [
    {
     "data": {
      "text/plain": [
       "{'name': 'miniature labradoodle',\n",
       " 'breeds': ['labrador retriever', 'toy or miniature poodle']}"
      ]
     },
     "execution_count": 28,
     "metadata": {},
     "output_type": "execute_result"
    }
   ],
   "source": [
    "breeds_to_fix[10]"
   ]
  },
  {
   "cell_type": "code",
   "execution_count": 29,
   "metadata": {},
   "outputs": [],
   "source": [
    "dogs.append(\n",
    "    {\n",
    "        \"name\": \"miniature labradoodle\",\n",
    "        \"breeds\": [\"labrador retriever\", \"miniature poodle\"],\n",
    "    }\n",
    ")\n",
    "\n",
    "dogs.append(\n",
    "    {\"name\": \"miniature labradoodle\", \"breeds\": [\"labrador retriever\", \"toy poodle\"],}\n",
    ")"
   ]
  },
  {
   "cell_type": "code",
   "execution_count": 30,
   "metadata": {},
   "outputs": [
    {
     "data": {
      "text/plain": [
       "{'name': 'old anglican bulldogge',\n",
       " 'breeds': ['american pit bull terrier or american staffordshire terrier',\n",
       "  'bulldog']}"
      ]
     },
     "execution_count": 30,
     "metadata": {},
     "output_type": "execute_result"
    }
   ],
   "source": [
    "breeds_to_fix[11]"
   ]
  },
  {
   "cell_type": "code",
   "execution_count": 31,
   "metadata": {},
   "outputs": [],
   "source": [
    "dogs.append(\n",
    "    {\n",
    "        \"name\": \"old anglican bulldogge\",\n",
    "        \"breeds\": [\"american pit bull terrier\", \"bulldog\",],\n",
    "    }\n",
    ")\n",
    "\n",
    "dogs.append(\n",
    "    {\n",
    "        \"name\": \"old anglican bulldogge\",\n",
    "        \"breeds\": [\"american staffordshire terrier\", \"bulldog\",],\n",
    "    }\n",
    ")"
   ]
  },
  {
   "cell_type": "code",
   "execution_count": 32,
   "metadata": {},
   "outputs": [
    {
     "data": {
      "text/plain": [
       "{'name': 'pitsky',\n",
       " 'breeds': ['american pitbull terrier', 'siberian husky or alaskan husky']}"
      ]
     },
     "execution_count": 32,
     "metadata": {},
     "output_type": "execute_result"
    }
   ],
   "source": [
    "breeds_to_fix[12]"
   ]
  },
  {
   "cell_type": "code",
   "execution_count": 33,
   "metadata": {},
   "outputs": [],
   "source": [
    "dogs.append({\"name\": \"pitsky\", \"breeds\": [\"american pitbull terrier\", \"alaskan husky\"]})\n",
    "\n",
    "dogs.append({\"name\": \"pitsky\", \"breeds\": [\"american pitbull terrier\", \"siberian husky\"]})"
   ]
  },
  {
   "cell_type": "code",
   "execution_count": 34,
   "metadata": {},
   "outputs": [
    {
     "data": {
      "text/plain": [
       "{'name': 'shel-aussie',\n",
       " 'breeds': ['australian shepherd or miniature australian shepherd',\n",
       "  'shetland sheepdog']}"
      ]
     },
     "execution_count": 34,
     "metadata": {},
     "output_type": "execute_result"
    }
   ],
   "source": [
    "breeds_to_fix[13]"
   ]
  },
  {
   "cell_type": "code",
   "execution_count": 35,
   "metadata": {},
   "outputs": [],
   "source": [
    "dogs.append(\n",
    "    {\"name\": \"shel-aussie\", \"breeds\": [\"australian shepherd\", \"shetland sheepdog\",],}\n",
    ")\n",
    "\n",
    "dogs.append(\n",
    "    {\n",
    "        \"name\": \"shel-aussie\",\n",
    "        \"breeds\": [\"miniature australian shepherd\", \"shetland sheepdog\",],\n",
    "    }\n",
    ")"
   ]
  },
  {
   "cell_type": "code",
   "execution_count": 36,
   "metadata": {},
   "outputs": [
    {
     "data": {
      "text/plain": [
       "{'name': 'sibercaan',\n",
       " 'breeds': ['siberian husky or native american indian dog', 'canaan dog']}"
      ]
     },
     "execution_count": 36,
     "metadata": {},
     "output_type": "execute_result"
    }
   ],
   "source": [
    "breeds_to_fix[14]"
   ]
  },
  {
   "cell_type": "code",
   "execution_count": 37,
   "metadata": {},
   "outputs": [],
   "source": [
    "dogs.append({\"name\": \"sibercaan\", \"breeds\": [\"siberian husky\", \"canaan dog\"]})\n",
    "\n",
    "dogs.append(\n",
    "    {\"name\": \"sibercaan\", \"breeds\": [\"native american indian dog\", \"canaan dog\"]}\n",
    ")"
   ]
  },
  {
   "cell_type": "code",
   "execution_count": 38,
   "metadata": {},
   "outputs": [],
   "source": [
    "dogs.append({\"name\": \"labrabull\", \"breeds\": ['labrador retriever', 'pit bull']})"
   ]
  },
  {
   "cell_type": "code",
   "execution_count": 39,
   "metadata": {},
   "outputs": [
    {
     "data": {
      "text/html": [
       "<div>\n",
       "<style scoped>\n",
       "    .dataframe tbody tr th:only-of-type {\n",
       "        vertical-align: middle;\n",
       "    }\n",
       "\n",
       "    .dataframe tbody tr th {\n",
       "        vertical-align: top;\n",
       "    }\n",
       "\n",
       "    .dataframe thead th {\n",
       "        text-align: right;\n",
       "    }\n",
       "</style>\n",
       "<table border=\"1\" class=\"dataframe\">\n",
       "  <thead>\n",
       "    <tr style=\"text-align: right;\">\n",
       "      <th></th>\n",
       "      <th>name</th>\n",
       "      <th>breeds</th>\n",
       "    </tr>\n",
       "  </thead>\n",
       "  <tbody>\n",
       "    <tr>\n",
       "      <th>0</th>\n",
       "      <td>afador</td>\n",
       "      <td>[afghan hound, labrador retriever]</td>\n",
       "    </tr>\n",
       "    <tr>\n",
       "      <th>1</th>\n",
       "      <td>afaird</td>\n",
       "      <td>[afghan hound, briard]</td>\n",
       "    </tr>\n",
       "  </tbody>\n",
       "</table>\n",
       "</div>"
      ],
      "text/plain": [
       "     name                              breeds\n",
       "0  afador  [afghan hound, labrador retriever]\n",
       "1  afaird              [afghan hound, briard]"
      ]
     },
     "execution_count": 39,
     "metadata": {},
     "output_type": "execute_result"
    }
   ],
   "source": [
    "df = pd.DataFrame(dogs)\n",
    "df.head(2)"
   ]
  },
  {
   "cell_type": "code",
   "execution_count": 40,
   "metadata": {},
   "outputs": [],
   "source": [
    "df['breeds'] = df['breeds'].map(lambda x: re.sub('german shepherd dog', 'german shepherd', str(x)))\n",
    "df['breeds'] = df['breeds'].map(lambda x: re.sub('labrador  retriever', 'labrador retriever', str(x)))"
   ]
  },
  {
   "cell_type": "code",
   "execution_count": 41,
   "metadata": {},
   "outputs": [],
   "source": [
    "# removes minicoonhound, breed information available\n",
    "df = df[df['name'] != 'minicoonhound']"
   ]
  },
  {
   "cell_type": "markdown",
   "metadata": {},
   "source": [
    "# Export Mutts"
   ]
  },
  {
   "cell_type": "code",
   "execution_count": 42,
   "metadata": {},
   "outputs": [],
   "source": [
    "# saves mutts to csv\n",
    "df.to_csv('../datasets/working_data/mutts.csv', index=False)"
   ]
  },
  {
   "cell_type": "markdown",
   "metadata": {},
   "source": [
    "# Aggregate Dog Features"
   ]
  },
  {
   "cell_type": "code",
   "execution_count": 43,
   "metadata": {},
   "outputs": [],
   "source": [
    "purebred_stats = pd.read_csv('../datasets/working_data/breeds_info.csv')"
   ]
  },
  {
   "cell_type": "markdown",
   "metadata": {},
   "source": [
    "Binarize pure breed column"
   ]
  },
  {
   "cell_type": "code",
   "execution_count": null,
   "metadata": {},
   "outputs": [],
   "source": [
    "# breed_1 and breed_2 set to the purebred's name\n",
    "purebred_stats['pure'] = 1\n",
    "purebred_stats['breed_1'] = purebred_stats['breed']\n",
    "purebred_stats['breed_2'] = purebred_stats['breed']"
   ]
  },
  {
   "cell_type": "code",
   "execution_count": 45,
   "metadata": {},
   "outputs": [
    {
     "data": {
      "text/html": [
       "<div>\n",
       "<style scoped>\n",
       "    .dataframe tbody tr th:only-of-type {\n",
       "        vertical-align: middle;\n",
       "    }\n",
       "\n",
       "    .dataframe tbody tr th {\n",
       "        vertical-align: top;\n",
       "    }\n",
       "\n",
       "    .dataframe thead th {\n",
       "        text-align: right;\n",
       "    }\n",
       "</style>\n",
       "<table border=\"1\" class=\"dataframe\">\n",
       "  <thead>\n",
       "    <tr style=\"text-align: right;\">\n",
       "      <th></th>\n",
       "      <th>breed</th>\n",
       "      <th>classification</th>\n",
       "      <th>obey</th>\n",
       "      <th>reps_lower</th>\n",
       "      <th>reps_upper</th>\n",
       "      <th>height_low_inches</th>\n",
       "      <th>height_high_inches</th>\n",
       "      <th>weight_low_lbs</th>\n",
       "      <th>weight_high_lbs</th>\n",
       "      <th>pure</th>\n",
       "      <th>breed_1</th>\n",
       "      <th>breed_2</th>\n",
       "    </tr>\n",
       "  </thead>\n",
       "  <tbody>\n",
       "    <tr>\n",
       "      <th>0</th>\n",
       "      <td>border collie</td>\n",
       "      <td>brightest dogs</td>\n",
       "      <td>0.95</td>\n",
       "      <td>1.0</td>\n",
       "      <td>4.0</td>\n",
       "      <td>19.000000</td>\n",
       "      <td>21.000000</td>\n",
       "      <td>40.000000</td>\n",
       "      <td>40.000000</td>\n",
       "      <td>1</td>\n",
       "      <td>border collie</td>\n",
       "      <td>border collie</td>\n",
       "    </tr>\n",
       "    <tr>\n",
       "      <th>1</th>\n",
       "      <td>poodle</td>\n",
       "      <td>brightest dogs</td>\n",
       "      <td>0.95</td>\n",
       "      <td>1.0</td>\n",
       "      <td>4.0</td>\n",
       "      <td>17.941176</td>\n",
       "      <td>20.908497</td>\n",
       "      <td>42.934641</td>\n",
       "      <td>57.522876</td>\n",
       "      <td>1</td>\n",
       "      <td>poodle</td>\n",
       "      <td>poodle</td>\n",
       "    </tr>\n",
       "    <tr>\n",
       "      <th>2</th>\n",
       "      <td>german shepherd</td>\n",
       "      <td>brightest dogs</td>\n",
       "      <td>0.95</td>\n",
       "      <td>1.0</td>\n",
       "      <td>4.0</td>\n",
       "      <td>22.000000</td>\n",
       "      <td>26.000000</td>\n",
       "      <td>75.000000</td>\n",
       "      <td>90.000000</td>\n",
       "      <td>1</td>\n",
       "      <td>german shepherd</td>\n",
       "      <td>german shepherd</td>\n",
       "    </tr>\n",
       "    <tr>\n",
       "      <th>3</th>\n",
       "      <td>golden retriever</td>\n",
       "      <td>brightest dogs</td>\n",
       "      <td>0.95</td>\n",
       "      <td>1.0</td>\n",
       "      <td>4.0</td>\n",
       "      <td>21.000000</td>\n",
       "      <td>24.000000</td>\n",
       "      <td>55.000000</td>\n",
       "      <td>75.000000</td>\n",
       "      <td>1</td>\n",
       "      <td>golden retriever</td>\n",
       "      <td>golden retriever</td>\n",
       "    </tr>\n",
       "    <tr>\n",
       "      <th>4</th>\n",
       "      <td>doberman pinscher</td>\n",
       "      <td>brightest dogs</td>\n",
       "      <td>0.95</td>\n",
       "      <td>1.0</td>\n",
       "      <td>4.0</td>\n",
       "      <td>26.000000</td>\n",
       "      <td>28.000000</td>\n",
       "      <td>60.000000</td>\n",
       "      <td>100.000000</td>\n",
       "      <td>1</td>\n",
       "      <td>doberman pinscher</td>\n",
       "      <td>doberman pinscher</td>\n",
       "    </tr>\n",
       "  </tbody>\n",
       "</table>\n",
       "</div>"
      ],
      "text/plain": [
       "               breed  classification  obey  reps_lower  reps_upper  \\\n",
       "0      border collie  brightest dogs  0.95         1.0         4.0   \n",
       "1             poodle  brightest dogs  0.95         1.0         4.0   \n",
       "2    german shepherd  brightest dogs  0.95         1.0         4.0   \n",
       "3   golden retriever  brightest dogs  0.95         1.0         4.0   \n",
       "4  doberman pinscher  brightest dogs  0.95         1.0         4.0   \n",
       "\n",
       "   height_low_inches  height_high_inches  weight_low_lbs  weight_high_lbs  \\\n",
       "0          19.000000           21.000000       40.000000        40.000000   \n",
       "1          17.941176           20.908497       42.934641        57.522876   \n",
       "2          22.000000           26.000000       75.000000        90.000000   \n",
       "3          21.000000           24.000000       55.000000        75.000000   \n",
       "4          26.000000           28.000000       60.000000       100.000000   \n",
       "\n",
       "   pure            breed_1            breed_2  \n",
       "0     1      border collie      border collie  \n",
       "1     1             poodle             poodle  \n",
       "2     1    german shepherd    german shepherd  \n",
       "3     1   golden retriever   golden retriever  \n",
       "4     1  doberman pinscher  doberman pinscher  "
      ]
     },
     "execution_count": 45,
     "metadata": {},
     "output_type": "execute_result"
    }
   ],
   "source": [
    "purebred_stats.head(3)"
   ]
  },
  {
   "cell_type": "code",
   "execution_count": 46,
   "metadata": {},
   "outputs": [
    {
     "name": "stdout",
     "output_type": "stream",
     "text": [
      "<class 'pandas.core.frame.DataFrame'>\n",
      "RangeIndex: 168 entries, 0 to 167\n",
      "Data columns (total 12 columns):\n",
      " #   Column              Non-Null Count  Dtype  \n",
      "---  ------              --------------  -----  \n",
      " 0   breed               168 non-null    object \n",
      " 1   classification      141 non-null    object \n",
      " 2   obey                168 non-null    float64\n",
      " 3   reps_lower          168 non-null    float64\n",
      " 4   reps_upper          168 non-null    float64\n",
      " 5   height_low_inches   168 non-null    float64\n",
      " 6   height_high_inches  168 non-null    float64\n",
      " 7   weight_low_lbs      168 non-null    float64\n",
      " 8   weight_high_lbs     168 non-null    float64\n",
      " 9   pure                168 non-null    int64  \n",
      " 10  breed_1             168 non-null    object \n",
      " 11  breed_2             168 non-null    object \n",
      "dtypes: float64(7), int64(1), object(4)\n",
      "memory usage: 15.9+ KB\n"
     ]
    }
   ],
   "source": [
    "purebred_stats.info()"
   ]
  },
  {
   "cell_type": "markdown",
   "metadata": {},
   "source": [
    "Aggregate and merge the metrics from purebreed dogs."
   ]
  },
  {
   "cell_type": "code",
   "execution_count": 47,
   "metadata": {},
   "outputs": [
    {
     "data": {
      "text/html": [
       "<div>\n",
       "<style scoped>\n",
       "    .dataframe tbody tr th:only-of-type {\n",
       "        vertical-align: middle;\n",
       "    }\n",
       "\n",
       "    .dataframe tbody tr th {\n",
       "        vertical-align: top;\n",
       "    }\n",
       "\n",
       "    .dataframe thead th {\n",
       "        text-align: right;\n",
       "    }\n",
       "</style>\n",
       "<table border=\"1\" class=\"dataframe\">\n",
       "  <thead>\n",
       "    <tr style=\"text-align: right;\">\n",
       "      <th></th>\n",
       "      <th>breed</th>\n",
       "      <th>obey</th>\n",
       "      <th>reps_lower</th>\n",
       "      <th>reps_upper</th>\n",
       "      <th>height_low_inches</th>\n",
       "      <th>height_high_inches</th>\n",
       "      <th>weight_low_lbs</th>\n",
       "      <th>weight_high_lbs</th>\n",
       "      <th>pure</th>\n",
       "      <th>breed_1</th>\n",
       "      <th>breed_2</th>\n",
       "    </tr>\n",
       "  </thead>\n",
       "  <tbody>\n",
       "    <tr>\n",
       "      <th>0</th>\n",
       "      <td>afador</td>\n",
       "      <td>0.525</td>\n",
       "      <td>41.0</td>\n",
       "      <td>52.0</td>\n",
       "      <td>23.0</td>\n",
       "      <td>25.5</td>\n",
       "      <td>52.5</td>\n",
       "      <td>70.0</td>\n",
       "      <td>0</td>\n",
       "      <td>afghan hound</td>\n",
       "      <td>labrador retriever</td>\n",
       "    </tr>\n",
       "    <tr>\n",
       "      <th>1</th>\n",
       "      <td>afaird</td>\n",
       "      <td>0.400</td>\n",
       "      <td>48.5</td>\n",
       "      <td>62.5</td>\n",
       "      <td>24.0</td>\n",
       "      <td>27.0</td>\n",
       "      <td>62.0</td>\n",
       "      <td>68.0</td>\n",
       "      <td>0</td>\n",
       "      <td>afghan hound</td>\n",
       "      <td>briard</td>\n",
       "    </tr>\n",
       "  </tbody>\n",
       "</table>\n",
       "</div>"
      ],
      "text/plain": [
       "    breed   obey  reps_lower  reps_upper  height_low_inches  \\\n",
       "0  afador  0.525        41.0        52.0               23.0   \n",
       "1  afaird  0.400        48.5        62.5               24.0   \n",
       "\n",
       "   height_high_inches  weight_low_lbs  weight_high_lbs  pure       breed_1  \\\n",
       "0                25.5            52.5             70.0     0  afghan hound   \n",
       "1                27.0            62.0             68.0     0  afghan hound   \n",
       "\n",
       "              breed_2  \n",
       "0  labrador retriever  \n",
       "1              briard  "
      ]
     },
     "execution_count": 47,
     "metadata": {},
     "output_type": "execute_result"
    }
   ],
   "source": [
    "# creates a set of purebred names for use in .issubset()\n",
    "purebreds = set(purebred_stats['breed'])\n",
    "\n",
    "mutt_stats = []\n",
    "\n",
    "# iterates over all the mutts\n",
    "for dog in dogs:\n",
    "\n",
    "    # if the the two breeds that make up a mutt are in the purebred set, do this\n",
    "    if set(dog['breeds']).issubset(purebreds):\n",
    "        \n",
    "        new_dog = {}\n",
    "\n",
    "        # assigns the mutt name\n",
    "        new_dog['breed'] = dog['name']\n",
    "\n",
    "        # obey\n",
    "        # takes the stats from each purebred, takes the average, applies it to the mutt\n",
    "        d1_obey = purebred_stats[purebred_stats['breed'] == dog['breeds'][0]]['obey'].values[0]\n",
    "        d2_obey = purebred_stats[purebred_stats['breed'] == dog['breeds'][1]]['obey'].values[0]\n",
    "        new_dog['obey'] = (d1_obey + d2_obey) / 2\n",
    "\n",
    "        # reps_lower\n",
    "        # takes the stats from each purebred, takes the average, applies it to the mutt\n",
    "        d1_reps_lower = purebred_stats[purebred_stats['breed'] == dog['breeds'][0]]['reps_lower'].values[0]\n",
    "        d2_reps_lower = purebred_stats[purebred_stats['breed'] == dog['breeds'][1]]['reps_lower'].values[0]\n",
    "        new_dog['reps_lower'] = (d1_reps_lower + d2_reps_lower) / 2\n",
    "\n",
    "        # reps_upper\n",
    "        # takes the stats from each purebred, takes the average, applies it to the mutt\n",
    "        d1_reps_upper = purebred_stats[purebred_stats['breed'] == dog['breeds'][0]]['reps_upper'].values[0]\n",
    "        d2_reps_upper = purebred_stats[purebred_stats['breed'] == dog['breeds'][1]]['reps_upper'].values[0]\n",
    "        new_dog['reps_upper'] = (d1_reps_upper + d2_reps_upper) / 2\n",
    "\n",
    "        # height_low_inches\n",
    "        # takes the stats from each purebred, takes the average, applies it to the mutt\n",
    "        d1_height_low_inches = purebred_stats[purebred_stats['breed'] == dog['breeds'][0]]['height_low_inches'].values[0]\n",
    "        d2_height_low_inches = purebred_stats[purebred_stats['breed'] == dog['breeds'][1]]['height_low_inches'].values[0]\n",
    "        new_dog['height_low_inches'] = (d1_height_low_inches + d2_height_low_inches) / 2\n",
    "\n",
    "        # height_high_inches\n",
    "        # takes the stats from each purebred, takes the average, applies it to the mutt\n",
    "        d1_height_high_inches = purebred_stats[purebred_stats['breed'] == dog['breeds'][0]]['height_high_inches'].values[0]\n",
    "        d2_height_high_inches = purebred_stats[purebred_stats['breed'] == dog['breeds'][1]]['height_high_inches'].values[0]\n",
    "        new_dog['height_high_inches'] = (d1_height_high_inches + d2_height_high_inches) / 2\n",
    "\n",
    "        # weight_low_lbs\n",
    "        # takes the stats from each purebred, takes the average, applies it to the mutt\n",
    "        d1_weight_low_lbs = purebred_stats[purebred_stats['breed'] == dog['breeds'][0]]['weight_low_lbs'].values[0]\n",
    "        d2_weight_low_lbs = purebred_stats[purebred_stats['breed'] == dog['breeds'][1]]['weight_low_lbs'].values[0]\n",
    "        new_dog['weight_low_lbs'] = (d1_weight_low_lbs + d2_weight_low_lbs) / 2\n",
    "\n",
    "        # weight_high_lbs\n",
    "        # takes the stats from each purebred, takes the average, applies it to the mutt\n",
    "        d1_weight_high_lbs = purebred_stats[purebred_stats['breed'] == dog['breeds'][0]]['weight_high_lbs'].values[0]\n",
    "        d2_weight_high_lbs = purebred_stats[purebred_stats['breed'] == dog['breeds'][1]]['weight_high_lbs'].values[0]\n",
    "        new_dog['weight_high_lbs'] = (d1_weight_high_lbs + d2_weight_high_lbs) / 2\n",
    "\n",
    "        # assigns a 0 for all the mutts in the purebred column\n",
    "        new_dog['pure'] = 0\n",
    "\n",
    "        # assigns breed 1 and breed 2 to columns that make up the mutt\n",
    "        new_dog['breed_1'] = dog['breeds'][0]\n",
    "        new_dog['breed_2'] = dog['breeds'][1]\n",
    "\n",
    "        # add mutt with stats to the list\n",
    "        mutt_stats.append(new_dog)\n",
    "        \n",
    "        \n",
    "mutts = pd.DataFrame(mutt_stats)\n",
    "mutts.head(2)"
   ]
  },
  {
   "cell_type": "markdown",
   "metadata": {},
   "source": [
    "Merge"
   ]
  },
  {
   "cell_type": "code",
   "execution_count": 48,
   "metadata": {},
   "outputs": [
    {
     "data": {
      "text/html": [
       "<div>\n",
       "<style scoped>\n",
       "    .dataframe tbody tr th:only-of-type {\n",
       "        vertical-align: middle;\n",
       "    }\n",
       "\n",
       "    .dataframe tbody tr th {\n",
       "        vertical-align: top;\n",
       "    }\n",
       "\n",
       "    .dataframe thead th {\n",
       "        text-align: right;\n",
       "    }\n",
       "</style>\n",
       "<table border=\"1\" class=\"dataframe\">\n",
       "  <thead>\n",
       "    <tr style=\"text-align: right;\">\n",
       "      <th></th>\n",
       "      <th>breed</th>\n",
       "      <th>classification</th>\n",
       "      <th>obey</th>\n",
       "      <th>reps_lower</th>\n",
       "      <th>reps_upper</th>\n",
       "      <th>height_low_inches</th>\n",
       "      <th>height_high_inches</th>\n",
       "      <th>weight_low_lbs</th>\n",
       "      <th>weight_high_lbs</th>\n",
       "      <th>pure</th>\n",
       "      <th>breed_1</th>\n",
       "      <th>breed_2</th>\n",
       "    </tr>\n",
       "  </thead>\n",
       "  <tbody>\n",
       "    <tr>\n",
       "      <th>0</th>\n",
       "      <td>border collie</td>\n",
       "      <td>brightest dogs</td>\n",
       "      <td>0.95</td>\n",
       "      <td>1.0</td>\n",
       "      <td>4.0</td>\n",
       "      <td>19.000000</td>\n",
       "      <td>21.000000</td>\n",
       "      <td>40.000000</td>\n",
       "      <td>40.000000</td>\n",
       "      <td>1</td>\n",
       "      <td>border collie</td>\n",
       "      <td>border collie</td>\n",
       "    </tr>\n",
       "    <tr>\n",
       "      <th>1</th>\n",
       "      <td>poodle</td>\n",
       "      <td>brightest dogs</td>\n",
       "      <td>0.95</td>\n",
       "      <td>1.0</td>\n",
       "      <td>4.0</td>\n",
       "      <td>17.941176</td>\n",
       "      <td>20.908497</td>\n",
       "      <td>42.934641</td>\n",
       "      <td>57.522876</td>\n",
       "      <td>1</td>\n",
       "      <td>poodle</td>\n",
       "      <td>poodle</td>\n",
       "    </tr>\n",
       "    <tr>\n",
       "      <th>2</th>\n",
       "      <td>german shepherd</td>\n",
       "      <td>brightest dogs</td>\n",
       "      <td>0.95</td>\n",
       "      <td>1.0</td>\n",
       "      <td>4.0</td>\n",
       "      <td>22.000000</td>\n",
       "      <td>26.000000</td>\n",
       "      <td>75.000000</td>\n",
       "      <td>90.000000</td>\n",
       "      <td>1</td>\n",
       "      <td>german shepherd</td>\n",
       "      <td>german shepherd</td>\n",
       "    </tr>\n",
       "    <tr>\n",
       "      <th>3</th>\n",
       "      <td>golden retriever</td>\n",
       "      <td>brightest dogs</td>\n",
       "      <td>0.95</td>\n",
       "      <td>1.0</td>\n",
       "      <td>4.0</td>\n",
       "      <td>21.000000</td>\n",
       "      <td>24.000000</td>\n",
       "      <td>55.000000</td>\n",
       "      <td>75.000000</td>\n",
       "      <td>1</td>\n",
       "      <td>golden retriever</td>\n",
       "      <td>golden retriever</td>\n",
       "    </tr>\n",
       "    <tr>\n",
       "      <th>4</th>\n",
       "      <td>doberman pinscher</td>\n",
       "      <td>brightest dogs</td>\n",
       "      <td>0.95</td>\n",
       "      <td>1.0</td>\n",
       "      <td>4.0</td>\n",
       "      <td>26.000000</td>\n",
       "      <td>28.000000</td>\n",
       "      <td>60.000000</td>\n",
       "      <td>100.000000</td>\n",
       "      <td>1</td>\n",
       "      <td>doberman pinscher</td>\n",
       "      <td>doberman pinscher</td>\n",
       "    </tr>\n",
       "  </tbody>\n",
       "</table>\n",
       "</div>"
      ],
      "text/plain": [
       "               breed  classification  obey  reps_lower  reps_upper  \\\n",
       "0      border collie  brightest dogs  0.95         1.0         4.0   \n",
       "1             poodle  brightest dogs  0.95         1.0         4.0   \n",
       "2    german shepherd  brightest dogs  0.95         1.0         4.0   \n",
       "3   golden retriever  brightest dogs  0.95         1.0         4.0   \n",
       "4  doberman pinscher  brightest dogs  0.95         1.0         4.0   \n",
       "\n",
       "   height_low_inches  height_high_inches  weight_low_lbs  weight_high_lbs  \\\n",
       "0          19.000000           21.000000       40.000000        40.000000   \n",
       "1          17.941176           20.908497       42.934641        57.522876   \n",
       "2          22.000000           26.000000       75.000000        90.000000   \n",
       "3          21.000000           24.000000       55.000000        75.000000   \n",
       "4          26.000000           28.000000       60.000000       100.000000   \n",
       "\n",
       "   pure            breed_1            breed_2  \n",
       "0     1      border collie      border collie  \n",
       "1     1             poodle             poodle  \n",
       "2     1    german shepherd    german shepherd  \n",
       "3     1   golden retriever   golden retriever  \n",
       "4     1  doberman pinscher  doberman pinscher  "
      ]
     },
     "execution_count": 48,
     "metadata": {},
     "output_type": "execute_result"
    }
   ],
   "source": [
    "all_dogs = pd.concat([purebred_stats, mutts])\n",
    "all_dogs.reset_index(drop=True, inplace=True)\n",
    "all_dogs.head()"
   ]
  },
  {
   "cell_type": "code",
   "execution_count": 49,
   "metadata": {},
   "outputs": [
    {
     "name": "stdout",
     "output_type": "stream",
     "text": [
      "<class 'pandas.core.frame.DataFrame'>\n",
      "RangeIndex: 1218 entries, 0 to 1217\n",
      "Data columns (total 12 columns):\n",
      " #   Column              Non-Null Count  Dtype  \n",
      "---  ------              --------------  -----  \n",
      " 0   breed               1218 non-null   object \n",
      " 1   classification      141 non-null    object \n",
      " 2   obey                1218 non-null   float64\n",
      " 3   reps_lower          1218 non-null   float64\n",
      " 4   reps_upper          1218 non-null   float64\n",
      " 5   height_low_inches   1218 non-null   float64\n",
      " 6   height_high_inches  1218 non-null   float64\n",
      " 7   weight_low_lbs      1218 non-null   float64\n",
      " 8   weight_high_lbs     1218 non-null   float64\n",
      " 9   pure                1218 non-null   int64  \n",
      " 10  breed_1             1218 non-null   object \n",
      " 11  breed_2             1218 non-null   object \n",
      "dtypes: float64(7), int64(1), object(4)\n",
      "memory usage: 114.3+ KB\n"
     ]
    }
   ],
   "source": [
    "all_dogs.info()"
   ]
  },
  {
   "cell_type": "markdown",
   "metadata": {},
   "source": [
    "# Export"
   ]
  },
  {
   "cell_type": "code",
   "execution_count": 50,
   "metadata": {},
   "outputs": [],
   "source": [
    "# all dogs to csv\n",
    "all_dogs.to_csv('../datasets/working_data/all_breeds_info.csv', index=False)"
   ]
  },
  {
   "cell_type": "markdown",
   "metadata": {},
   "source": [
    "[Run Next](https://github.com/gwoodstock/project4/blob/main/scrapers/petfinder.ipynb): PetFinder API data scraper"
   ]
  }
 ],
 "metadata": {
  "interpreter": {
   "hash": "b3ba2566441a7c06988d0923437866b63cedc61552a5af99d1f4fb67d367b25f"
  },
  "kernelspec": {
   "display_name": "Python 3.9.7 ('base')",
   "language": "python",
   "name": "python3"
  },
  "language_info": {
   "codemirror_mode": {
    "name": "ipython",
    "version": 3
   },
   "file_extension": ".py",
   "mimetype": "text/x-python",
   "name": "python",
   "nbconvert_exporter": "python",
   "pygments_lexer": "ipython3",
   "version": "3.9.7"
  },
  "orig_nbformat": 4
 },
 "nbformat": 4,
 "nbformat_minor": 2
}
