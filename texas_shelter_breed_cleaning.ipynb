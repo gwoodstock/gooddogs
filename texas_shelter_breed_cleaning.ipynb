{
 "cells": [
  {
   "cell_type": "code",
   "execution_count": 2,
   "metadata": {},
   "outputs": [],
   "source": [
    "import pandas as pd\n",
    "import re"
   ]
  },
  {
   "cell_type": "code",
   "execution_count": 3,
   "metadata": {},
   "outputs": [
    {
     "name": "stderr",
     "output_type": "stream",
     "text": [
      "C:\\ProgramData\\Anaconda3\\lib\\site-packages\\IPython\\core\\interactiveshell.py:3444: DtypeWarning: Columns (3,9,11) have mixed types.Specify dtype option on import or set low_memory=False.\n",
      "  exec(code_obj, self.user_global_ns, self.user_ns)\n"
     ]
    }
   ],
   "source": [
    "df = pd.read_csv('./datasets/cleaned_data/texas_shelters.csv')"
   ]
  },
  {
   "cell_type": "code",
   "execution_count": 4,
   "metadata": {},
   "outputs": [
    {
     "data": {
      "text/html": [
       "<div>\n",
       "<style scoped>\n",
       "    .dataframe tbody tr th:only-of-type {\n",
       "        vertical-align: middle;\n",
       "    }\n",
       "\n",
       "    .dataframe tbody tr th {\n",
       "        vertical-align: top;\n",
       "    }\n",
       "\n",
       "    .dataframe thead th {\n",
       "        text-align: right;\n",
       "    }\n",
       "</style>\n",
       "<table border=\"1\" class=\"dataframe\">\n",
       "  <thead>\n",
       "    <tr style=\"text-align: right;\">\n",
       "      <th></th>\n",
       "      <th>Unnamed: 0</th>\n",
       "      <th>id</th>\n",
       "      <th>breed</th>\n",
       "      <th>color</th>\n",
       "      <th>dob</th>\n",
       "      <th>sex</th>\n",
       "      <th>date_in</th>\n",
       "      <th>age_in</th>\n",
       "      <th>intact_in</th>\n",
       "      <th>location</th>\n",
       "      <th>intake_type</th>\n",
       "      <th>intake_subtype</th>\n",
       "      <th>condition</th>\n",
       "      <th>date_out</th>\n",
       "      <th>age_out</th>\n",
       "      <th>intact_out</th>\n",
       "      <th>outcome</th>\n",
       "      <th>outcome_sub</th>\n",
       "    </tr>\n",
       "  </thead>\n",
       "  <tbody>\n",
       "    <tr>\n",
       "      <th>0</th>\n",
       "      <td>0</td>\n",
       "      <td>A047759</td>\n",
       "      <td>Dachshund</td>\n",
       "      <td>Tricolor</td>\n",
       "      <td>1.080864e+09</td>\n",
       "      <td>1.0</td>\n",
       "      <td>1.396454e+09</td>\n",
       "      <td>10.0</td>\n",
       "      <td>0.0</td>\n",
       "      <td>Austin (TX)</td>\n",
       "      <td>Owner Surrender</td>\n",
       "      <td>NaN</td>\n",
       "      <td>Normal</td>\n",
       "      <td>1.396884e+09</td>\n",
       "      <td>10.0</td>\n",
       "      <td>0.0</td>\n",
       "      <td>Transfer</td>\n",
       "      <td>Partner</td>\n",
       "    </tr>\n",
       "    <tr>\n",
       "      <th>1</th>\n",
       "      <td>1</td>\n",
       "      <td>A134067</td>\n",
       "      <td>Shetland Sheepdog</td>\n",
       "      <td>Brown/White</td>\n",
       "      <td>8.769600e+08</td>\n",
       "      <td>1.0</td>\n",
       "      <td>1.384593e+09</td>\n",
       "      <td>16.0</td>\n",
       "      <td>0.0</td>\n",
       "      <td>12034 Research Blvd in Austin (TX)</td>\n",
       "      <td>Public Assist</td>\n",
       "      <td>NaN</td>\n",
       "      <td>Injured</td>\n",
       "      <td>1.384603e+09</td>\n",
       "      <td>16.0</td>\n",
       "      <td>0.0</td>\n",
       "      <td>Return to Owner</td>\n",
       "      <td>NaN</td>\n",
       "    </tr>\n",
       "  </tbody>\n",
       "</table>\n",
       "</div>"
      ],
      "text/plain": [
       "   Unnamed: 0       id              breed        color           dob  sex  \\\n",
       "0           0  A047759          Dachshund     Tricolor  1.080864e+09  1.0   \n",
       "1           1  A134067  Shetland Sheepdog  Brown/White  8.769600e+08  1.0   \n",
       "\n",
       "        date_in  age_in  intact_in                            location  \\\n",
       "0  1.396454e+09    10.0        0.0                         Austin (TX)   \n",
       "1  1.384593e+09    16.0        0.0  12034 Research Blvd in Austin (TX)   \n",
       "\n",
       "       intake_type intake_subtype condition      date_out  age_out  \\\n",
       "0  Owner Surrender            NaN    Normal  1.396884e+09     10.0   \n",
       "1    Public Assist            NaN   Injured  1.384603e+09     16.0   \n",
       "\n",
       "   intact_out          outcome outcome_sub  \n",
       "0         0.0         Transfer     Partner  \n",
       "1         0.0  Return to Owner         NaN  "
      ]
     },
     "execution_count": 4,
     "metadata": {},
     "output_type": "execute_result"
    }
   ],
   "source": [
    "df.head(2)"
   ]
  },
  {
   "cell_type": "code",
   "execution_count": 5,
   "metadata": {},
   "outputs": [
    {
     "data": {
      "text/plain": [
       "2588"
      ]
     },
     "execution_count": 5,
     "metadata": {},
     "output_type": "execute_result"
    }
   ],
   "source": [
    "df['breed'].nunique()"
   ]
  },
  {
   "cell_type": "code",
   "execution_count": 6,
   "metadata": {},
   "outputs": [],
   "source": [
    "# lowercase and strip extra white space for breed names\n",
    "df['breed'] = df['breed'].str.lower().str.strip()\n",
    "\n",
    "# remove 'mix' at the end of the breed name\n",
    "df['breed'] = df['breed'].str.replace(' mix', '')\n",
    "\n",
    "# expand pitbull to pit bull for consistency\n",
    "df['breed'].replace('pitbull', 'pit bull', inplace=True)"
   ]
  },
  {
   "cell_type": "code",
   "execution_count": 9,
   "metadata": {},
   "outputs": [
    {
     "data": {
      "text/plain": [
       "285"
      ]
     },
     "execution_count": 9,
     "metadata": {},
     "output_type": "execute_result"
    }
   ],
   "source": [
    "df[df['breed'].str.contains('/') == False]['breed'].nunique()"
   ]
  },
  {
   "cell_type": "code",
   "execution_count": 10,
   "metadata": {},
   "outputs": [
    {
     "data": {
      "text/html": [
       "<div>\n",
       "<style scoped>\n",
       "    .dataframe tbody tr th:only-of-type {\n",
       "        vertical-align: middle;\n",
       "    }\n",
       "\n",
       "    .dataframe tbody tr th {\n",
       "        vertical-align: top;\n",
       "    }\n",
       "\n",
       "    .dataframe thead th {\n",
       "        text-align: right;\n",
       "    }\n",
       "</style>\n",
       "<table border=\"1\" class=\"dataframe\">\n",
       "  <thead>\n",
       "    <tr style=\"text-align: right;\">\n",
       "      <th></th>\n",
       "      <th>Unnamed: 0</th>\n",
       "      <th>id</th>\n",
       "      <th>breed</th>\n",
       "      <th>color</th>\n",
       "      <th>dob</th>\n",
       "      <th>sex</th>\n",
       "      <th>date_in</th>\n",
       "      <th>age_in</th>\n",
       "      <th>intact_in</th>\n",
       "      <th>location</th>\n",
       "      <th>intake_type</th>\n",
       "      <th>intake_subtype</th>\n",
       "      <th>condition</th>\n",
       "      <th>date_out</th>\n",
       "      <th>age_out</th>\n",
       "      <th>intact_out</th>\n",
       "      <th>outcome</th>\n",
       "      <th>outcome_sub</th>\n",
       "    </tr>\n",
       "  </thead>\n",
       "  <tbody>\n",
       "    <tr>\n",
       "      <th>2</th>\n",
       "      <td>2</td>\n",
       "      <td>A141142</td>\n",
       "      <td>labrador retriever/pit bull</td>\n",
       "      <td>Black/White</td>\n",
       "      <td>896659200.0</td>\n",
       "      <td>0.0</td>\n",
       "      <td>1.384613e+09</td>\n",
       "      <td>15.0</td>\n",
       "      <td>0.0</td>\n",
       "      <td>Austin (TX)</td>\n",
       "      <td>Stray</td>\n",
       "      <td>NaN</td>\n",
       "      <td>Aged</td>\n",
       "      <td>1.384688e+09</td>\n",
       "      <td>15.0</td>\n",
       "      <td>0.0</td>\n",
       "      <td>Return to Owner</td>\n",
       "      <td>NaN</td>\n",
       "    </tr>\n",
       "    <tr>\n",
       "      <th>10</th>\n",
       "      <td>10</td>\n",
       "      <td>A212672</td>\n",
       "      <td>german shepherd/labrador retriever</td>\n",
       "      <td>Tan/Black</td>\n",
       "      <td>952214400.0</td>\n",
       "      <td>0.0</td>\n",
       "      <td>1.385400e+09</td>\n",
       "      <td>13.0</td>\n",
       "      <td>1.0</td>\n",
       "      <td>14611  Wells Port Dr in Austin (TX)</td>\n",
       "      <td>Stray</td>\n",
       "      <td>NaN</td>\n",
       "      <td>Normal</td>\n",
       "      <td>1.386340e+09</td>\n",
       "      <td>13.0</td>\n",
       "      <td>1.0</td>\n",
       "      <td>Return to Owner</td>\n",
       "      <td>NaN</td>\n",
       "    </tr>\n",
       "    <tr>\n",
       "      <th>16</th>\n",
       "      <td>16</td>\n",
       "      <td>A226069</td>\n",
       "      <td>labrador retriever/beagle</td>\n",
       "      <td>Sable/White</td>\n",
       "      <td>961200000.0</td>\n",
       "      <td>1.0</td>\n",
       "      <td>1.444135e+09</td>\n",
       "      <td>15.0</td>\n",
       "      <td>0.0</td>\n",
       "      <td>Wheless Ln And Berkman Dr in Austin (TX)</td>\n",
       "      <td>Stray</td>\n",
       "      <td>NaN</td>\n",
       "      <td>Normal</td>\n",
       "      <td>1.446131e+09</td>\n",
       "      <td>15.0</td>\n",
       "      <td>0.0</td>\n",
       "      <td>Adoption</td>\n",
       "      <td>Foster</td>\n",
       "    </tr>\n",
       "    <tr>\n",
       "      <th>17</th>\n",
       "      <td>17</td>\n",
       "      <td>A228887</td>\n",
       "      <td>catahoula/labrador retriever</td>\n",
       "      <td>Blue Merle/Tan</td>\n",
       "      <td>988329600.0</td>\n",
       "      <td>0.0</td>\n",
       "      <td>1.384016e+09</td>\n",
       "      <td>12.0</td>\n",
       "      <td>0.0</td>\n",
       "      <td>Lincolnshire in Austin (TX)</td>\n",
       "      <td>Stray</td>\n",
       "      <td>NaN</td>\n",
       "      <td>Normal</td>\n",
       "      <td>1.384019e+09</td>\n",
       "      <td>12.0</td>\n",
       "      <td>0.0</td>\n",
       "      <td>Return to Owner</td>\n",
       "      <td>NaN</td>\n",
       "    </tr>\n",
       "    <tr>\n",
       "      <th>19</th>\n",
       "      <td>19</td>\n",
       "      <td>A233812</td>\n",
       "      <td>rottweiler/chow chow</td>\n",
       "      <td>Brown/Black</td>\n",
       "      <td>991958400.0</td>\n",
       "      <td>1.0</td>\n",
       "      <td>1.410014e+09</td>\n",
       "      <td>13.0</td>\n",
       "      <td>0.0</td>\n",
       "      <td>12317 Wycliff Ln in Austin (TX)</td>\n",
       "      <td>Stray</td>\n",
       "      <td>NaN</td>\n",
       "      <td>Aged</td>\n",
       "      <td>1.410030e+09</td>\n",
       "      <td>13.0</td>\n",
       "      <td>0.0</td>\n",
       "      <td>Return to Owner</td>\n",
       "      <td>NaN</td>\n",
       "    </tr>\n",
       "    <tr>\n",
       "      <th>...</th>\n",
       "      <td>...</td>\n",
       "      <td>...</td>\n",
       "      <td>...</td>\n",
       "      <td>...</td>\n",
       "      <td>...</td>\n",
       "      <td>...</td>\n",
       "      <td>...</td>\n",
       "      <td>...</td>\n",
       "      <td>...</td>\n",
       "      <td>...</td>\n",
       "      <td>...</td>\n",
       "      <td>...</td>\n",
       "      <td>...</td>\n",
       "      <td>...</td>\n",
       "      <td>...</td>\n",
       "      <td>...</td>\n",
       "      <td>...</td>\n",
       "      <td>...</td>\n",
       "    </tr>\n",
       "    <tr>\n",
       "      <th>127741</th>\n",
       "      <td>24493</td>\n",
       "      <td>A1071551</td>\n",
       "      <td>black/tan hound</td>\n",
       "      <td>NaN</td>\n",
       "      <td>NaN</td>\n",
       "      <td>NaN</td>\n",
       "      <td>1.572566e+09</td>\n",
       "      <td>NaN</td>\n",
       "      <td>NaN</td>\n",
       "      <td>NaN</td>\n",
       "      <td>OWNER SURRENDER</td>\n",
       "      <td>RETURN30</td>\n",
       "      <td>TREATABLE REHABILITABLE NON-CONTAGIOUS</td>\n",
       "      <td>NaN</td>\n",
       "      <td>NaN</td>\n",
       "      <td>NaN</td>\n",
       "      <td>ADOPTION</td>\n",
       "      <td>WALK IN</td>\n",
       "    </tr>\n",
       "    <tr>\n",
       "      <th>130184</th>\n",
       "      <td>28684</td>\n",
       "      <td>A1086981</td>\n",
       "      <td>black/tan hound</td>\n",
       "      <td>NaN</td>\n",
       "      <td>NaN</td>\n",
       "      <td>NaN</td>\n",
       "      <td>1.572307e+09</td>\n",
       "      <td>NaN</td>\n",
       "      <td>NaN</td>\n",
       "      <td>NaN</td>\n",
       "      <td>OWNER SURRENDER</td>\n",
       "      <td>GENERAL</td>\n",
       "      <td>TREATABLE REHABILITABLE NON-CONTAGIOUS</td>\n",
       "      <td>NaN</td>\n",
       "      <td>NaN</td>\n",
       "      <td>NaN</td>\n",
       "      <td>ADOPTION</td>\n",
       "      <td>PROMOTION</td>\n",
       "    </tr>\n",
       "    <tr>\n",
       "      <th>130185</th>\n",
       "      <td>28685</td>\n",
       "      <td>A1086981</td>\n",
       "      <td>black/tan hound</td>\n",
       "      <td>NaN</td>\n",
       "      <td>NaN</td>\n",
       "      <td>NaN</td>\n",
       "      <td>1.572912e+09</td>\n",
       "      <td>NaN</td>\n",
       "      <td>NaN</td>\n",
       "      <td>NaN</td>\n",
       "      <td>OWNER SURRENDER</td>\n",
       "      <td>RETURN30</td>\n",
       "      <td>APP WNL</td>\n",
       "      <td>NaN</td>\n",
       "      <td>NaN</td>\n",
       "      <td>NaN</td>\n",
       "      <td>ADOPTION</td>\n",
       "      <td>PROMOTION</td>\n",
       "    </tr>\n",
       "    <tr>\n",
       "      <th>131230</th>\n",
       "      <td>30107</td>\n",
       "      <td>A1088464</td>\n",
       "      <td>black/tan hound</td>\n",
       "      <td>NaN</td>\n",
       "      <td>NaN</td>\n",
       "      <td>NaN</td>\n",
       "      <td>1.573776e+09</td>\n",
       "      <td>NaN</td>\n",
       "      <td>NaN</td>\n",
       "      <td>NaN</td>\n",
       "      <td>STRAY</td>\n",
       "      <td>AT LARGE</td>\n",
       "      <td>UNKNOWN</td>\n",
       "      <td>NaN</td>\n",
       "      <td>NaN</td>\n",
       "      <td>NaN</td>\n",
       "      <td>RETURNED TO OWNER</td>\n",
       "      <td>FIELD</td>\n",
       "    </tr>\n",
       "    <tr>\n",
       "      <th>132504</th>\n",
       "      <td>31757</td>\n",
       "      <td>A1090699</td>\n",
       "      <td>black/tan hound</td>\n",
       "      <td>NaN</td>\n",
       "      <td>NaN</td>\n",
       "      <td>NaN</td>\n",
       "      <td>1.576022e+09</td>\n",
       "      <td>NaN</td>\n",
       "      <td>NaN</td>\n",
       "      <td>NaN</td>\n",
       "      <td>STRAY</td>\n",
       "      <td>AT LARGE</td>\n",
       "      <td>APP WNL</td>\n",
       "      <td>NaN</td>\n",
       "      <td>NaN</td>\n",
       "      <td>NaN</td>\n",
       "      <td>ADOPTION</td>\n",
       "      <td>EAC</td>\n",
       "    </tr>\n",
       "  </tbody>\n",
       "</table>\n",
       "<p>18249 rows × 18 columns</p>\n",
       "</div>"
      ],
      "text/plain": [
       "        Unnamed: 0        id                               breed  \\\n",
       "2                2   A141142         labrador retriever/pit bull   \n",
       "10              10   A212672  german shepherd/labrador retriever   \n",
       "16              16   A226069           labrador retriever/beagle   \n",
       "17              17   A228887        catahoula/labrador retriever   \n",
       "19              19   A233812                rottweiler/chow chow   \n",
       "...            ...       ...                                 ...   \n",
       "127741       24493  A1071551                     black/tan hound   \n",
       "130184       28684  A1086981                     black/tan hound   \n",
       "130185       28685  A1086981                     black/tan hound   \n",
       "131230       30107  A1088464                     black/tan hound   \n",
       "132504       31757  A1090699                     black/tan hound   \n",
       "\n",
       "                 color          dob  sex       date_in  age_in  intact_in  \\\n",
       "2          Black/White  896659200.0  0.0  1.384613e+09    15.0        0.0   \n",
       "10           Tan/Black  952214400.0  0.0  1.385400e+09    13.0        1.0   \n",
       "16         Sable/White  961200000.0  1.0  1.444135e+09    15.0        0.0   \n",
       "17      Blue Merle/Tan  988329600.0  0.0  1.384016e+09    12.0        0.0   \n",
       "19         Brown/Black  991958400.0  1.0  1.410014e+09    13.0        0.0   \n",
       "...                ...          ...  ...           ...     ...        ...   \n",
       "127741             NaN          NaN  NaN  1.572566e+09     NaN        NaN   \n",
       "130184             NaN          NaN  NaN  1.572307e+09     NaN        NaN   \n",
       "130185             NaN          NaN  NaN  1.572912e+09     NaN        NaN   \n",
       "131230             NaN          NaN  NaN  1.573776e+09     NaN        NaN   \n",
       "132504             NaN          NaN  NaN  1.576022e+09     NaN        NaN   \n",
       "\n",
       "                                        location      intake_type  \\\n",
       "2                                    Austin (TX)            Stray   \n",
       "10           14611  Wells Port Dr in Austin (TX)            Stray   \n",
       "16      Wheless Ln And Berkman Dr in Austin (TX)            Stray   \n",
       "17                   Lincolnshire in Austin (TX)            Stray   \n",
       "19               12317 Wycliff Ln in Austin (TX)            Stray   \n",
       "...                                          ...              ...   \n",
       "127741                                       NaN  OWNER SURRENDER   \n",
       "130184                                       NaN  OWNER SURRENDER   \n",
       "130185                                       NaN  OWNER SURRENDER   \n",
       "131230                                       NaN            STRAY   \n",
       "132504                                       NaN            STRAY   \n",
       "\n",
       "       intake_subtype                               condition      date_out  \\\n",
       "2                 NaN                                    Aged  1.384688e+09   \n",
       "10                NaN                                  Normal  1.386340e+09   \n",
       "16                NaN                                  Normal  1.446131e+09   \n",
       "17                NaN                                  Normal  1.384019e+09   \n",
       "19                NaN                                    Aged  1.410030e+09   \n",
       "...               ...                                     ...           ...   \n",
       "127741       RETURN30  TREATABLE REHABILITABLE NON-CONTAGIOUS           NaN   \n",
       "130184        GENERAL  TREATABLE REHABILITABLE NON-CONTAGIOUS           NaN   \n",
       "130185       RETURN30                                 APP WNL           NaN   \n",
       "131230       AT LARGE                                 UNKNOWN           NaN   \n",
       "132504       AT LARGE                                 APP WNL           NaN   \n",
       "\n",
       "        age_out  intact_out            outcome outcome_sub  \n",
       "2          15.0         0.0    Return to Owner         NaN  \n",
       "10         13.0         1.0    Return to Owner         NaN  \n",
       "16         15.0         0.0           Adoption      Foster  \n",
       "17         12.0         0.0    Return to Owner         NaN  \n",
       "19         13.0         0.0    Return to Owner         NaN  \n",
       "...         ...         ...                ...         ...  \n",
       "127741      NaN         NaN           ADOPTION     WALK IN  \n",
       "130184      NaN         NaN           ADOPTION   PROMOTION  \n",
       "130185      NaN         NaN           ADOPTION   PROMOTION  \n",
       "131230      NaN         NaN  RETURNED TO OWNER       FIELD  \n",
       "132504      NaN         NaN           ADOPTION         EAC  \n",
       "\n",
       "[18249 rows x 18 columns]"
      ]
     },
     "execution_count": 10,
     "metadata": {},
     "output_type": "execute_result"
    }
   ],
   "source": [
    "df[df['breed'].str.contains('/')]"
   ]
  },
  {
   "cell_type": "code",
   "execution_count": 60,
   "metadata": {},
   "outputs": [
    {
     "data": {
      "text/plain": [
       "flat coat retriever/australian cattle dog    1\n",
       "queensland heeler/great dane                 1\n",
       "pit bull/american foxhound                   1\n",
       "pit bull/dogue de bordeaux                   1\n",
       "spreagle                                     1\n",
       "                                            ..\n",
       "st. bernard rough coat/german shepherd       1\n",
       "labrador retriever/irish setter              1\n",
       "dachshund/english bulldog                    1\n",
       "catahoula/mastiff                            1\n",
       "wire hair fox terrier/golden retriever       1\n",
       "Name: breed, Length: 850, dtype: int64"
      ]
     },
     "execution_count": 60,
     "metadata": {},
     "output_type": "execute_result"
    }
   ],
   "source": [
    "df['breed'].value_counts(ascending=True)[df['breed'].value_counts(ascending=True) == 1]"
   ]
  },
  {
   "cell_type": "code",
   "execution_count": 12,
   "metadata": {},
   "outputs": [],
   "source": [
    "# regex to replace breed names to remain consistent\n",
    "df['breed'] = df['breed'].map(lambda x: re.sub('labrador retr\\Z', 'labrador retriever', x))\n",
    "df['breed'] = df['breed'].map(lambda x: re.sub('germ\\sshepherd', 'german shepherd', x))\n",
    "df['breed'] = df['breed'].map(lambda x: re.sub('^staffordshire$', 'american staffordshire terrier', x))\n",
    "df['breed'] = df['breed'].map(lambda x: re.sub('chihuahua shorthair', 'chihuahua', x))\n",
    "df['breed'] = df['breed'].map(lambda x: re.sub('chihuahua longhair', 'chihuahua', x))\n",
    "df['breed'] = df['breed'].map(lambda x: re.sub('chihuahua sh', 'chihuahua', x))\n",
    "df['breed'] = df['breed'].map(lambda x: re.sub('chihuahua lh', 'chihuahua', x))\n",
    "df['breed'] = df['breed'].map(lambda x: re.sub('airedale terr\\Z', 'airedale terrier', x))"
   ]
  },
  {
   "cell_type": "code",
   "execution_count": null,
   "metadata": {},
   "outputs": [],
   "source": []
  },
  {
   "cell_type": "code",
   "execution_count": 63,
   "metadata": {},
   "outputs": [],
   "source": [
    "# read in breed info for all dogs, convert it to a dictionary\n",
    "all_dogs = pd.read_csv('./datasets/all_breeds_info.csv')\n",
    "all_dogs = all_dogs.to_dict(orient='records')"
   ]
  },
  {
   "cell_type": "code",
   "execution_count": 64,
   "metadata": {},
   "outputs": [],
   "source": [
    "matches = 0\n",
    "not_matched = 0\n",
    "\n",
    "# loops over all breeds in dataframe\n",
    "for i, dog in enumerate(df['breed']):\n",
    "\n",
    "    # checks if there is a '/' in the breed name\n",
    "    if '/' in dog:\n",
    "\n",
    "        # splits the dogs on the '/'\n",
    "        breeds = dog.split('/')\n",
    "\n",
    "        # loops over all the dogs in the master list\n",
    "        for line in all_dogs:\n",
    "\n",
    "            # patterns to check if breeds on either side of the '/' match up to a mutt in the master list\n",
    "            # checks both position combinations\n",
    "            pattern_1 = (breeds[0] == line['breed_1']) and (breeds[1] == line['breed_2'])\n",
    "            pattern_2 = (breeds[1] == line['breed_1']) and (breeds[0] == line['breed_2'])\n",
    "            \n",
    "            # if po\n",
    "            if  pattern_1:\n",
    "                df.loc[i, 'breed_1'] = line['breed_1']\n",
    "                df.loc[i, 'breed_2'] = line['breed_2']\n",
    "                df.loc[i, 'breed'] = line['breed']\n",
    "\n",
    "            elif pattern_2:\n",
    "                df.loc[i, 'breed_1'] = line['breed_1']\n",
    "                df.loc[i, 'breed_2'] = line['breed_2']\n",
    "                df.loc[i, 'breed'] = line['breed']"
   ]
  },
  {
   "cell_type": "code",
   "execution_count": 65,
   "metadata": {},
   "outputs": [
    {
     "data": {
      "text/plain": [
       "2                labrador retriever/pit bull\n",
       "10        german shepherd/labrador retriever\n",
       "17              catahoula/labrador retriever\n",
       "26                        pit bull/catahoula\n",
       "29                   border collie/catahoula\n",
       "                         ...                \n",
       "127741                       black/tan hound\n",
       "130184                       black/tan hound\n",
       "130185                       black/tan hound\n",
       "131230                       black/tan hound\n",
       "132504                       black/tan hound\n",
       "Name: breed, Length: 11723, dtype: object"
      ]
     },
     "execution_count": 65,
     "metadata": {},
     "output_type": "execute_result"
    }
   ],
   "source": [
    "df[df['breed'].str.contains('/')]['breed']\n"
   ]
  },
  {
   "cell_type": "code",
   "execution_count": 70,
   "metadata": {},
   "outputs": [],
   "source": [
    "master_list = pd.read_csv('./datasets/all_breeds_info.csv')"
   ]
  },
  {
   "cell_type": "code",
   "execution_count": 71,
   "metadata": {},
   "outputs": [
    {
     "data": {
      "text/plain": [
       "0               border collie\n",
       "1             german shepherd\n",
       "2            golden retriever\n",
       "3           doberman pinscher\n",
       "4          labrador retriever\n",
       "                ...          \n",
       "776                     beagi\n",
       "777                 cotralian\n",
       "778         english cotralian\n",
       "779    old anglican bulldogge\n",
       "780    old anglican bulldogge\n",
       "Name: breed, Length: 781, dtype: object"
      ]
     },
     "execution_count": 71,
     "metadata": {},
     "output_type": "execute_result"
    }
   ],
   "source": [
    "master_list = master_list['breed']\n",
    "master_list"
   ]
  },
  {
   "cell_type": "code",
   "execution_count": 74,
   "metadata": {},
   "outputs": [],
   "source": [
    "_ = df[df['breed'].str.contains('/')]['breed'].copy()"
   ]
  },
  {
   "cell_type": "code",
   "execution_count": 103,
   "metadata": {},
   "outputs": [],
   "source": [
    "temp = []"
   ]
  },
  {
   "cell_type": "code",
   "execution_count": 104,
   "metadata": {},
   "outputs": [
    {
     "data": {
      "text/plain": [
       "2                [labrador retriever, pit bull]\n",
       "10        [german shepherd, labrador retriever]\n",
       "17              [catahoula, labrador retriever]\n",
       "26                        [pit bull, catahoula]\n",
       "29                   [border collie, catahoula]\n",
       "                          ...                  \n",
       "127741                       [black, tan hound]\n",
       "130184                       [black, tan hound]\n",
       "130185                       [black, tan hound]\n",
       "131230                       [black, tan hound]\n",
       "132504                       [black, tan hound]\n",
       "Name: breed, Length: 11723, dtype: object"
      ]
     },
     "execution_count": 104,
     "metadata": {},
     "output_type": "execute_result"
    }
   ],
   "source": [
    "_.map(lambda x: x.split('/')).map(lambda x: temp.append(x[0]) if len(x) > 2 else x)"
   ]
  },
  {
   "cell_type": "code",
   "execution_count": 105,
   "metadata": {},
   "outputs": [
    {
     "data": {
      "text/plain": [
       "['black',\n",
       " 'german shepherd',\n",
       " 'black',\n",
       " 'labrador retriever',\n",
       " 'labrador retriever',\n",
       " 'labrador retriever',\n",
       " 'labrador retriever',\n",
       " 'black',\n",
       " 'plott hound',\n",
       " 'german shepherd',\n",
       " 'black',\n",
       " 'black',\n",
       " 'labrador retriever',\n",
       " 'black',\n",
       " 'german shepherd',\n",
       " 'doberman pinsch',\n",
       " 'black',\n",
       " 'black',\n",
       " 'labrador retriever',\n",
       " 'basset hound',\n",
       " 'black',\n",
       " 'black',\n",
       " 'black',\n",
       " 'black',\n",
       " 'dachshund',\n",
       " 'black',\n",
       " 'black',\n",
       " 'black',\n",
       " 'black',\n",
       " 'black',\n",
       " 'labrador retriever',\n",
       " 'labrador retriever',\n",
       " 'labrador retriever',\n",
       " 'labrador retriever',\n",
       " 'labrador retriever',\n",
       " 'labrador retriever',\n",
       " 'black',\n",
       " 'black',\n",
       " 'german shepherd',\n",
       " 'german shepherd',\n",
       " 'german shepherd',\n",
       " 'german shepherd',\n",
       " 'german shepherd',\n",
       " 'german shepherd',\n",
       " 'german shepherd',\n",
       " 'german shepherd',\n",
       " 'german shepherd',\n",
       " 'black',\n",
       " 'black',\n",
       " 'black',\n",
       " 'black',\n",
       " 'german shepherd',\n",
       " 'german shepherd',\n",
       " 'german shepherd',\n",
       " 'german shepherd',\n",
       " 'labrador retriever',\n",
       " 'labrador retriever',\n",
       " 'labrador retriever',\n",
       " 'labrador retriever',\n",
       " 'black',\n",
       " 'black',\n",
       " 'black',\n",
       " 'black']"
      ]
     },
     "execution_count": 105,
     "metadata": {},
     "output_type": "execute_result"
    }
   ],
   "source": [
    "temp"
   ]
  },
  {
   "cell_type": "code",
   "execution_count": 95,
   "metadata": {},
   "outputs": [
    {
     "data": {
      "text/plain": [
       "2         <re.Match object; span=(0, 27), match='labrado...\n",
       "10        <re.Match object; span=(0, 34), match='german ...\n",
       "17        <re.Match object; span=(0, 28), match='catahou...\n",
       "26        <re.Match object; span=(0, 18), match='pit bul...\n",
       "29        <re.Match object; span=(0, 23), match='border ...\n",
       "                                ...                        \n",
       "127741    <re.Match object; span=(0, 15), match='black/t...\n",
       "130184    <re.Match object; span=(0, 15), match='black/t...\n",
       "130185    <re.Match object; span=(0, 15), match='black/t...\n",
       "131230    <re.Match object; span=(0, 15), match='black/t...\n",
       "132504    <re.Match object; span=(0, 15), match='black/t...\n",
       "Name: breed, Length: 11723, dtype: object"
      ]
     },
     "execution_count": 95,
     "metadata": {},
     "output_type": "execute_result"
    }
   ],
   "source": [
    "_.map(lambda x: re.search(\".*\\.*\\.*\" , x))"
   ]
  },
  {
   "cell_type": "code",
   "execution_count": null,
   "metadata": {},
   "outputs": [],
   "source": []
  },
  {
   "cell_type": "code",
   "execution_count": 17,
   "metadata": {},
   "outputs": [],
   "source": [
    "# function to check similarity of breed names\n",
    "import difflib\n",
    "\n",
    "def check_sim(dog_breed, dataframe):\n",
    "    \"\"\"checks dog breeds in one data frame with dog breeds in another.\n",
    "    Returns similarity score via difflib.SequenceMatcher and dog breed target resembles\"\"\"\n",
    "    max_similarity = (0, \"\")\n",
    "    for breed in list(dataframe['breed']):\n",
    "        sim_test = difflib.SequenceMatcher(None, dog_breed, breed).ratio()                  # scores similarity between all dog breeds in two lists\n",
    "        if sim_test > max_similarity[0]:\n",
    "            max_similarity = (sim_test, breed)\n",
    "    return max_similarity[0], max_similarity[1]\n",
    "\n",
    "# similarity test adapted from stack overflow user: duhaime\n",
    "# Gene's code, adapted for dogs"
   ]
  },
  {
   "cell_type": "code",
   "execution_count": 18,
   "metadata": {},
   "outputs": [],
   "source": [
    "# df['breed'].map(lambda x: check_sim(x, all_dogs))"
   ]
  },
  {
   "cell_type": "code",
   "execution_count": null,
   "metadata": {},
   "outputs": [],
   "source": []
  }
 ],
 "metadata": {
  "interpreter": {
   "hash": "b3ba2566441a7c06988d0923437866b63cedc61552a5af99d1f4fb67d367b25f"
  },
  "kernelspec": {
   "display_name": "Python 3.9.7 ('base')",
   "language": "python",
   "name": "python3"
  },
  "language_info": {
   "codemirror_mode": {
    "name": "ipython",
    "version": 3
   },
   "file_extension": ".py",
   "mimetype": "text/x-python",
   "name": "python",
   "nbconvert_exporter": "python",
   "pygments_lexer": "ipython3",
   "version": "3.9.7"
  },
  "orig_nbformat": 4
 },
 "nbformat": 4,
 "nbformat_minor": 2
}
