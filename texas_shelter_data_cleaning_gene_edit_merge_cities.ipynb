{
 "cells": [
  {
   "cell_type": "code",
   "execution_count": 2,
   "metadata": {},
   "outputs": [],
   "source": [
    "import pandas as pd\n",
    "import numpy as np\n",
    "from datetime import datetime"
   ]
  },
  {
   "cell_type": "markdown",
   "metadata": {},
   "source": [
    "# Read in data"
   ]
  },
  {
   "cell_type": "code",
   "execution_count": 3,
   "metadata": {},
   "outputs": [],
   "source": [
    "austin_intakes = pd.read_csv('./datasets/raw_data/austin_animal_center_intakes.csv')"
   ]
  },
  {
   "cell_type": "code",
   "execution_count": 4,
   "metadata": {},
   "outputs": [
    {
     "data": {
      "text/html": [
       "<div>\n",
       "<style scoped>\n",
       "    .dataframe tbody tr th:only-of-type {\n",
       "        vertical-align: middle;\n",
       "    }\n",
       "\n",
       "    .dataframe tbody tr th {\n",
       "        vertical-align: top;\n",
       "    }\n",
       "\n",
       "    .dataframe thead th {\n",
       "        text-align: right;\n",
       "    }\n",
       "</style>\n",
       "<table border=\"1\" class=\"dataframe\">\n",
       "  <thead>\n",
       "    <tr style=\"text-align: right;\">\n",
       "      <th></th>\n",
       "      <th>Animal ID</th>\n",
       "      <th>Name</th>\n",
       "      <th>DateTime</th>\n",
       "      <th>MonthYear</th>\n",
       "      <th>Found Location</th>\n",
       "      <th>Intake Type</th>\n",
       "      <th>Intake Condition</th>\n",
       "      <th>Animal Type</th>\n",
       "      <th>Sex upon Intake</th>\n",
       "      <th>Age upon Intake</th>\n",
       "      <th>Breed</th>\n",
       "      <th>Color</th>\n",
       "    </tr>\n",
       "  </thead>\n",
       "  <tbody>\n",
       "    <tr>\n",
       "      <th>0</th>\n",
       "      <td>A786884</td>\n",
       "      <td>*Brock</td>\n",
       "      <td>01/03/2019 04:19:00 PM</td>\n",
       "      <td>January 2019</td>\n",
       "      <td>2501 Magin Meadow Dr in Austin (TX)</td>\n",
       "      <td>Stray</td>\n",
       "      <td>Normal</td>\n",
       "      <td>Dog</td>\n",
       "      <td>Neutered Male</td>\n",
       "      <td>2 years</td>\n",
       "      <td>Beagle Mix</td>\n",
       "      <td>Tricolor</td>\n",
       "    </tr>\n",
       "    <tr>\n",
       "      <th>1</th>\n",
       "      <td>A706918</td>\n",
       "      <td>Belle</td>\n",
       "      <td>07/05/2015 12:59:00 PM</td>\n",
       "      <td>July 2015</td>\n",
       "      <td>9409 Bluegrass Dr in Austin (TX)</td>\n",
       "      <td>Stray</td>\n",
       "      <td>Normal</td>\n",
       "      <td>Dog</td>\n",
       "      <td>Spayed Female</td>\n",
       "      <td>8 years</td>\n",
       "      <td>English Springer Spaniel</td>\n",
       "      <td>White/Liver</td>\n",
       "    </tr>\n",
       "  </tbody>\n",
       "</table>\n",
       "</div>"
      ],
      "text/plain": [
       "  Animal ID    Name                DateTime     MonthYear  \\\n",
       "0   A786884  *Brock  01/03/2019 04:19:00 PM  January 2019   \n",
       "1   A706918   Belle  07/05/2015 12:59:00 PM     July 2015   \n",
       "\n",
       "                        Found Location Intake Type Intake Condition  \\\n",
       "0  2501 Magin Meadow Dr in Austin (TX)       Stray           Normal   \n",
       "1     9409 Bluegrass Dr in Austin (TX)       Stray           Normal   \n",
       "\n",
       "  Animal Type Sex upon Intake Age upon Intake                     Breed  \\\n",
       "0         Dog   Neutered Male         2 years                Beagle Mix   \n",
       "1         Dog   Spayed Female         8 years  English Springer Spaniel   \n",
       "\n",
       "         Color  \n",
       "0     Tricolor  \n",
       "1  White/Liver  "
      ]
     },
     "execution_count": 4,
     "metadata": {},
     "output_type": "execute_result"
    }
   ],
   "source": [
    "austin_intakes.head(2)"
   ]
  },
  {
   "cell_type": "code",
   "execution_count": 5,
   "metadata": {},
   "outputs": [],
   "source": [
    "austin_outcomes = pd.read_csv('./datasets/raw_data/austin_animal_center_outcomes.csv')"
   ]
  },
  {
   "cell_type": "code",
   "execution_count": 6,
   "metadata": {},
   "outputs": [
    {
     "data": {
      "text/html": [
       "<div>\n",
       "<style scoped>\n",
       "    .dataframe tbody tr th:only-of-type {\n",
       "        vertical-align: middle;\n",
       "    }\n",
       "\n",
       "    .dataframe tbody tr th {\n",
       "        vertical-align: top;\n",
       "    }\n",
       "\n",
       "    .dataframe thead th {\n",
       "        text-align: right;\n",
       "    }\n",
       "</style>\n",
       "<table border=\"1\" class=\"dataframe\">\n",
       "  <thead>\n",
       "    <tr style=\"text-align: right;\">\n",
       "      <th></th>\n",
       "      <th>Animal ID</th>\n",
       "      <th>Name</th>\n",
       "      <th>DateTime</th>\n",
       "      <th>MonthYear</th>\n",
       "      <th>Date of Birth</th>\n",
       "      <th>Outcome Type</th>\n",
       "      <th>Outcome Subtype</th>\n",
       "      <th>Animal Type</th>\n",
       "      <th>Sex upon Outcome</th>\n",
       "      <th>Age upon Outcome</th>\n",
       "      <th>Breed</th>\n",
       "      <th>Color</th>\n",
       "    </tr>\n",
       "  </thead>\n",
       "  <tbody>\n",
       "    <tr>\n",
       "      <th>0</th>\n",
       "      <td>A794011</td>\n",
       "      <td>Chunk</td>\n",
       "      <td>05/08/2019 06:20:00 PM</td>\n",
       "      <td>May 2019</td>\n",
       "      <td>05/02/2017</td>\n",
       "      <td>Rto-Adopt</td>\n",
       "      <td>NaN</td>\n",
       "      <td>Cat</td>\n",
       "      <td>Neutered Male</td>\n",
       "      <td>2 years</td>\n",
       "      <td>Domestic Shorthair Mix</td>\n",
       "      <td>Brown Tabby/White</td>\n",
       "    </tr>\n",
       "    <tr>\n",
       "      <th>1</th>\n",
       "      <td>A776359</td>\n",
       "      <td>Gizmo</td>\n",
       "      <td>07/18/2018 04:02:00 PM</td>\n",
       "      <td>Jul 2018</td>\n",
       "      <td>07/12/2017</td>\n",
       "      <td>Adoption</td>\n",
       "      <td>NaN</td>\n",
       "      <td>Dog</td>\n",
       "      <td>Neutered Male</td>\n",
       "      <td>1 year</td>\n",
       "      <td>Chihuahua Shorthair Mix</td>\n",
       "      <td>White/Brown</td>\n",
       "    </tr>\n",
       "  </tbody>\n",
       "</table>\n",
       "</div>"
      ],
      "text/plain": [
       "  Animal ID   Name                DateTime MonthYear Date of Birth  \\\n",
       "0   A794011  Chunk  05/08/2019 06:20:00 PM  May 2019    05/02/2017   \n",
       "1   A776359  Gizmo  07/18/2018 04:02:00 PM  Jul 2018    07/12/2017   \n",
       "\n",
       "  Outcome Type Outcome Subtype Animal Type Sex upon Outcome Age upon Outcome  \\\n",
       "0    Rto-Adopt             NaN         Cat    Neutered Male          2 years   \n",
       "1     Adoption             NaN         Dog    Neutered Male           1 year   \n",
       "\n",
       "                     Breed              Color  \n",
       "0   Domestic Shorthair Mix  Brown Tabby/White  \n",
       "1  Chihuahua Shorthair Mix        White/Brown  "
      ]
     },
     "execution_count": 6,
     "metadata": {},
     "output_type": "execute_result"
    }
   ],
   "source": [
    "austin_outcomes.head(2)"
   ]
  },
  {
   "cell_type": "code",
   "execution_count": 7,
   "metadata": {},
   "outputs": [],
   "source": [
    "austin_outcomes_2 = pd.read_csv('./datasets/raw_data/austin_animal_center_outcomes_2.csv')"
   ]
  },
  {
   "cell_type": "code",
   "execution_count": 8,
   "metadata": {},
   "outputs": [
    {
     "data": {
      "text/html": [
       "<div>\n",
       "<style scoped>\n",
       "    .dataframe tbody tr th:only-of-type {\n",
       "        vertical-align: middle;\n",
       "    }\n",
       "\n",
       "    .dataframe tbody tr th {\n",
       "        vertical-align: top;\n",
       "    }\n",
       "\n",
       "    .dataframe thead th {\n",
       "        text-align: right;\n",
       "    }\n",
       "</style>\n",
       "<table border=\"1\" class=\"dataframe\">\n",
       "  <thead>\n",
       "    <tr style=\"text-align: right;\">\n",
       "      <th></th>\n",
       "      <th>Animal ID</th>\n",
       "      <th>Name</th>\n",
       "      <th>DateTime</th>\n",
       "      <th>MonthYear</th>\n",
       "      <th>Date of Birth</th>\n",
       "      <th>Outcome Type</th>\n",
       "      <th>Outcome Subtype</th>\n",
       "      <th>Animal Type</th>\n",
       "      <th>Sex upon Outcome</th>\n",
       "      <th>Age upon Outcome</th>\n",
       "      <th>Breed</th>\n",
       "      <th>Color</th>\n",
       "    </tr>\n",
       "  </thead>\n",
       "  <tbody>\n",
       "    <tr>\n",
       "      <th>0</th>\n",
       "      <td>A794011</td>\n",
       "      <td>Chunk</td>\n",
       "      <td>05/08/2019 06:20:00 PM</td>\n",
       "      <td>May 2019</td>\n",
       "      <td>05/02/2017</td>\n",
       "      <td>Rto-Adopt</td>\n",
       "      <td>NaN</td>\n",
       "      <td>Cat</td>\n",
       "      <td>Neutered Male</td>\n",
       "      <td>2 years</td>\n",
       "      <td>Domestic Shorthair Mix</td>\n",
       "      <td>Brown Tabby/White</td>\n",
       "    </tr>\n",
       "    <tr>\n",
       "      <th>1</th>\n",
       "      <td>A776359</td>\n",
       "      <td>Gizmo</td>\n",
       "      <td>07/18/2018 04:02:00 PM</td>\n",
       "      <td>Jul 2018</td>\n",
       "      <td>07/12/2017</td>\n",
       "      <td>Adoption</td>\n",
       "      <td>NaN</td>\n",
       "      <td>Dog</td>\n",
       "      <td>Neutered Male</td>\n",
       "      <td>1 year</td>\n",
       "      <td>Chihuahua Shorthair Mix</td>\n",
       "      <td>White/Brown</td>\n",
       "    </tr>\n",
       "  </tbody>\n",
       "</table>\n",
       "</div>"
      ],
      "text/plain": [
       "  Animal ID   Name                DateTime MonthYear Date of Birth  \\\n",
       "0   A794011  Chunk  05/08/2019 06:20:00 PM  May 2019    05/02/2017   \n",
       "1   A776359  Gizmo  07/18/2018 04:02:00 PM  Jul 2018    07/12/2017   \n",
       "\n",
       "  Outcome Type Outcome Subtype Animal Type Sex upon Outcome Age upon Outcome  \\\n",
       "0    Rto-Adopt             NaN         Cat    Neutered Male          2 years   \n",
       "1     Adoption             NaN         Dog    Neutered Male           1 year   \n",
       "\n",
       "                     Breed              Color  \n",
       "0   Domestic Shorthair Mix  Brown Tabby/White  \n",
       "1  Chihuahua Shorthair Mix        White/Brown  "
      ]
     },
     "execution_count": 8,
     "metadata": {},
     "output_type": "execute_result"
    }
   ],
   "source": [
    "austin_outcomes_2.head(2)"
   ]
  },
  {
   "cell_type": "code",
   "execution_count": 9,
   "metadata": {},
   "outputs": [],
   "source": [
    "dallas_shelter = pd.read_csv('./datasets/raw_data/dallas_animal_shelter_data.csv')"
   ]
  },
  {
   "cell_type": "code",
   "execution_count": 10,
   "metadata": {},
   "outputs": [
    {
     "data": {
      "text/html": [
       "<div>\n",
       "<style scoped>\n",
       "    .dataframe tbody tr th:only-of-type {\n",
       "        vertical-align: middle;\n",
       "    }\n",
       "\n",
       "    .dataframe tbody tr th {\n",
       "        vertical-align: top;\n",
       "    }\n",
       "\n",
       "    .dataframe thead th {\n",
       "        text-align: right;\n",
       "    }\n",
       "</style>\n",
       "<table border=\"1\" class=\"dataframe\">\n",
       "  <thead>\n",
       "    <tr style=\"text-align: right;\">\n",
       "      <th></th>\n",
       "      <th>Animal Id</th>\n",
       "      <th>Animal Type</th>\n",
       "      <th>Animal Breed</th>\n",
       "      <th>Kennel Number</th>\n",
       "      <th>Kennel Status</th>\n",
       "      <th>Tag Type</th>\n",
       "      <th>Activity Number</th>\n",
       "      <th>Activity Sequence</th>\n",
       "      <th>Source Id</th>\n",
       "      <th>Census Tract</th>\n",
       "      <th>...</th>\n",
       "      <th>Outcome Time</th>\n",
       "      <th>Receipt Number</th>\n",
       "      <th>Impound Number</th>\n",
       "      <th>Service Request Number</th>\n",
       "      <th>Outcome Condition</th>\n",
       "      <th>Chip Status</th>\n",
       "      <th>Animal Origin</th>\n",
       "      <th>Additional Information</th>\n",
       "      <th>Month</th>\n",
       "      <th>Year</th>\n",
       "    </tr>\n",
       "  </thead>\n",
       "  <tbody>\n",
       "    <tr>\n",
       "      <th>0</th>\n",
       "      <td>A1093136</td>\n",
       "      <td>CAT</td>\n",
       "      <td>DOMESTIC SH</td>\n",
       "      <td>K01</td>\n",
       "      <td>IMPOUNDED</td>\n",
       "      <td>NaN</td>\n",
       "      <td>NaN</td>\n",
       "      <td>1</td>\n",
       "      <td>P0915082</td>\n",
       "      <td>5200</td>\n",
       "      <td>...</td>\n",
       "      <td>14:46:00</td>\n",
       "      <td>NaN</td>\n",
       "      <td>K20-494003</td>\n",
       "      <td>NaN</td>\n",
       "      <td>APP SICK</td>\n",
       "      <td>SCAN NO CHIP</td>\n",
       "      <td>OVER THE COUNTER</td>\n",
       "      <td>NaN</td>\n",
       "      <td>JAN.2020</td>\n",
       "      <td>FY2020</td>\n",
       "    </tr>\n",
       "    <tr>\n",
       "      <th>1</th>\n",
       "      <td>A1046046</td>\n",
       "      <td>DOG</td>\n",
       "      <td>PIT BULL</td>\n",
       "      <td>AD 085</td>\n",
       "      <td>UNAVAILABLE</td>\n",
       "      <td>NaN</td>\n",
       "      <td>A19-203263</td>\n",
       "      <td>1</td>\n",
       "      <td>P0740141</td>\n",
       "      <td>12900</td>\n",
       "      <td>...</td>\n",
       "      <td>14:56:00</td>\n",
       "      <td>R19-561166</td>\n",
       "      <td>K19-489088</td>\n",
       "      <td>NaN</td>\n",
       "      <td>APP WNL</td>\n",
       "      <td>SCAN CHIP</td>\n",
       "      <td>FIELD</td>\n",
       "      <td>ADOPTION</td>\n",
       "      <td>NOV.2019</td>\n",
       "      <td>FY2020</td>\n",
       "    </tr>\n",
       "  </tbody>\n",
       "</table>\n",
       "<p>2 rows × 34 columns</p>\n",
       "</div>"
      ],
      "text/plain": [
       "  Animal Id Animal Type Animal Breed Kennel Number Kennel Status  Tag Type  \\\n",
       "0  A1093136         CAT  DOMESTIC SH           K01     IMPOUNDED       NaN   \n",
       "1  A1046046         DOG     PIT BULL        AD 085   UNAVAILABLE       NaN   \n",
       "\n",
       "  Activity Number  Activity Sequence Source Id Census Tract  ... Outcome Time  \\\n",
       "0             NaN                  1  P0915082         5200  ...     14:46:00   \n",
       "1      A19-203263                  1  P0740141        12900  ...     14:56:00   \n",
       "\n",
       "  Receipt Number Impound Number  Service Request Number Outcome Condition  \\\n",
       "0            NaN     K20-494003                     NaN          APP SICK   \n",
       "1     R19-561166     K19-489088                     NaN           APP WNL   \n",
       "\n",
       "    Chip Status     Animal Origin Additional Information     Month    Year  \n",
       "0  SCAN NO CHIP  OVER THE COUNTER                    NaN  JAN.2020  FY2020  \n",
       "1     SCAN CHIP             FIELD               ADOPTION  NOV.2019  FY2020  \n",
       "\n",
       "[2 rows x 34 columns]"
      ]
     },
     "execution_count": 10,
     "metadata": {},
     "output_type": "execute_result"
    }
   ],
   "source": [
    "dallas_shelter.head(2)"
   ]
  },
  {
   "cell_type": "markdown",
   "metadata": {},
   "source": [
    "# Filter datasets to only include dogs"
   ]
  },
  {
   "cell_type": "markdown",
   "metadata": {},
   "source": [
    "## Austin Intakes"
   ]
  },
  {
   "cell_type": "code",
   "execution_count": 11,
   "metadata": {},
   "outputs": [
    {
     "data": {
      "text/plain": [
       "array(['Cat', 'Other', 'Bird', 'Livestock'], dtype=object)"
      ]
     },
     "execution_count": 11,
     "metadata": {},
     "output_type": "execute_result"
    }
   ],
   "source": [
    "# Animal types other than dogs in austin_intakes\n",
    "\n",
    "austin_intakes[austin_intakes['Animal Type']!='Dog']['Animal Type'].unique()"
   ]
  },
  {
   "cell_type": "code",
   "execution_count": 12,
   "metadata": {},
   "outputs": [
    {
     "data": {
      "text/html": [
       "<div>\n",
       "<style scoped>\n",
       "    .dataframe tbody tr th:only-of-type {\n",
       "        vertical-align: middle;\n",
       "    }\n",
       "\n",
       "    .dataframe tbody tr th {\n",
       "        vertical-align: top;\n",
       "    }\n",
       "\n",
       "    .dataframe thead th {\n",
       "        text-align: right;\n",
       "    }\n",
       "</style>\n",
       "<table border=\"1\" class=\"dataframe\">\n",
       "  <thead>\n",
       "    <tr style=\"text-align: right;\">\n",
       "      <th></th>\n",
       "      <th>Animal ID</th>\n",
       "      <th>Name</th>\n",
       "      <th>DateTime</th>\n",
       "      <th>MonthYear</th>\n",
       "      <th>Found Location</th>\n",
       "      <th>Intake Type</th>\n",
       "      <th>Intake Condition</th>\n",
       "      <th>Animal Type</th>\n",
       "      <th>Sex upon Intake</th>\n",
       "      <th>Age upon Intake</th>\n",
       "      <th>Breed</th>\n",
       "      <th>Color</th>\n",
       "    </tr>\n",
       "  </thead>\n",
       "  <tbody>\n",
       "    <tr>\n",
       "      <th>3</th>\n",
       "      <td>A665644</td>\n",
       "      <td>NaN</td>\n",
       "      <td>10/21/2013 07:59:00 AM</td>\n",
       "      <td>October 2013</td>\n",
       "      <td>Austin (TX)</td>\n",
       "      <td>Stray</td>\n",
       "      <td>Sick</td>\n",
       "      <td>Cat</td>\n",
       "      <td>Intact Female</td>\n",
       "      <td>4 weeks</td>\n",
       "      <td>Domestic Shorthair Mix</td>\n",
       "      <td>Calico</td>\n",
       "    </tr>\n",
       "    <tr>\n",
       "      <th>7</th>\n",
       "      <td>A844350</td>\n",
       "      <td>*Ella</td>\n",
       "      <td>10/15/2021 11:40:00 AM</td>\n",
       "      <td>October 2021</td>\n",
       "      <td>2112 East William Cannon Drive in Austin (TX)</td>\n",
       "      <td>Stray</td>\n",
       "      <td>Normal</td>\n",
       "      <td>Cat</td>\n",
       "      <td>Intact Female</td>\n",
       "      <td>6 months</td>\n",
       "      <td>Domestic Shorthair</td>\n",
       "      <td>Brown Tabby</td>\n",
       "    </tr>\n",
       "    <tr>\n",
       "      <th>9</th>\n",
       "      <td>A818975</td>\n",
       "      <td>NaN</td>\n",
       "      <td>06/18/2020 02:53:00 PM</td>\n",
       "      <td>June 2020</td>\n",
       "      <td>Braker Lane And Metric in Travis (TX)</td>\n",
       "      <td>Stray</td>\n",
       "      <td>Normal</td>\n",
       "      <td>Cat</td>\n",
       "      <td>Intact Male</td>\n",
       "      <td>4 weeks</td>\n",
       "      <td>Domestic Shorthair</td>\n",
       "      <td>Cream Tabby</td>\n",
       "    </tr>\n",
       "  </tbody>\n",
       "</table>\n",
       "</div>"
      ],
      "text/plain": [
       "  Animal ID   Name                DateTime     MonthYear  \\\n",
       "3   A665644    NaN  10/21/2013 07:59:00 AM  October 2013   \n",
       "7   A844350  *Ella  10/15/2021 11:40:00 AM  October 2021   \n",
       "9   A818975    NaN  06/18/2020 02:53:00 PM     June 2020   \n",
       "\n",
       "                                  Found Location Intake Type Intake Condition  \\\n",
       "3                                    Austin (TX)       Stray             Sick   \n",
       "7  2112 East William Cannon Drive in Austin (TX)       Stray           Normal   \n",
       "9          Braker Lane And Metric in Travis (TX)       Stray           Normal   \n",
       "\n",
       "  Animal Type Sex upon Intake Age upon Intake                   Breed  \\\n",
       "3         Cat   Intact Female         4 weeks  Domestic Shorthair Mix   \n",
       "7         Cat   Intact Female        6 months      Domestic Shorthair   \n",
       "9         Cat     Intact Male         4 weeks      Domestic Shorthair   \n",
       "\n",
       "         Color  \n",
       "3       Calico  \n",
       "7  Brown Tabby  \n",
       "9  Cream Tabby  "
      ]
     },
     "execution_count": 12,
     "metadata": {},
     "output_type": "execute_result"
    }
   ],
   "source": [
    "austin_intakes[austin_intakes['Animal Type']!='Dog'].head(3)"
   ]
  },
  {
   "cell_type": "code",
   "execution_count": 13,
   "metadata": {},
   "outputs": [],
   "source": [
    "#Drop rows with animal type other than 'Dog' to create new df with dogs only\n",
    "\n",
    "austin_intakes = austin_intakes.drop(labels=austin_intakes[austin_intakes['Animal Type']!='Dog'].index)"
   ]
  },
  {
   "cell_type": "code",
   "execution_count": 14,
   "metadata": {},
   "outputs": [
    {
     "data": {
      "text/plain": [
       "(76769, 12)"
      ]
     },
     "execution_count": 14,
     "metadata": {},
     "output_type": "execute_result"
    }
   ],
   "source": [
    "austin_intakes.shape"
   ]
  },
  {
   "cell_type": "markdown",
   "metadata": {},
   "source": [
    "## Austin Outcomes"
   ]
  },
  {
   "cell_type": "markdown",
   "metadata": {},
   "source": [
    "#### Merge austin_outcomes and austin_outcomes2"
   ]
  },
  {
   "cell_type": "code",
   "execution_count": 15,
   "metadata": {},
   "outputs": [
    {
     "data": {
      "text/plain": [
       "(136538, 12)"
      ]
     },
     "execution_count": 15,
     "metadata": {},
     "output_type": "execute_result"
    }
   ],
   "source": [
    "austin_outcomes.shape"
   ]
  },
  {
   "cell_type": "code",
   "execution_count": 16,
   "metadata": {},
   "outputs": [
    {
     "data": {
      "text/plain": [
       "(136570, 12)"
      ]
     },
     "execution_count": 16,
     "metadata": {},
     "output_type": "execute_result"
    }
   ],
   "source": [
    "austin_outcomes_2.shape"
   ]
  },
  {
   "cell_type": "code",
   "execution_count": 17,
   "metadata": {},
   "outputs": [],
   "source": [
    "# merge austin outcomes data sets\n",
    "austin_outcomes = pd.concat([austin_outcomes, austin_outcomes_2])"
   ]
  },
  {
   "cell_type": "code",
   "execution_count": 18,
   "metadata": {},
   "outputs": [],
   "source": [
    "# drop duplicated rows\n",
    "austin_outcomes.drop_duplicates(keep='first', inplace=True)"
   ]
  },
  {
   "cell_type": "code",
   "execution_count": 19,
   "metadata": {},
   "outputs": [
    {
     "data": {
      "text/html": [
       "<div>\n",
       "<style scoped>\n",
       "    .dataframe tbody tr th:only-of-type {\n",
       "        vertical-align: middle;\n",
       "    }\n",
       "\n",
       "    .dataframe tbody tr th {\n",
       "        vertical-align: top;\n",
       "    }\n",
       "\n",
       "    .dataframe thead th {\n",
       "        text-align: right;\n",
       "    }\n",
       "</style>\n",
       "<table border=\"1\" class=\"dataframe\">\n",
       "  <thead>\n",
       "    <tr style=\"text-align: right;\">\n",
       "      <th></th>\n",
       "      <th>Animal ID</th>\n",
       "      <th>Name</th>\n",
       "      <th>DateTime</th>\n",
       "      <th>MonthYear</th>\n",
       "      <th>Date of Birth</th>\n",
       "      <th>Outcome Type</th>\n",
       "      <th>Outcome Subtype</th>\n",
       "      <th>Animal Type</th>\n",
       "      <th>Sex upon Outcome</th>\n",
       "      <th>Age upon Outcome</th>\n",
       "      <th>Breed</th>\n",
       "      <th>Color</th>\n",
       "    </tr>\n",
       "  </thead>\n",
       "  <tbody>\n",
       "    <tr>\n",
       "      <th>0</th>\n",
       "      <td>A794011</td>\n",
       "      <td>Chunk</td>\n",
       "      <td>05/08/2019 06:20:00 PM</td>\n",
       "      <td>May 2019</td>\n",
       "      <td>05/02/2017</td>\n",
       "      <td>Rto-Adopt</td>\n",
       "      <td>NaN</td>\n",
       "      <td>Cat</td>\n",
       "      <td>Neutered Male</td>\n",
       "      <td>2 years</td>\n",
       "      <td>Domestic Shorthair Mix</td>\n",
       "      <td>Brown Tabby/White</td>\n",
       "    </tr>\n",
       "    <tr>\n",
       "      <th>1</th>\n",
       "      <td>A776359</td>\n",
       "      <td>Gizmo</td>\n",
       "      <td>07/18/2018 04:02:00 PM</td>\n",
       "      <td>Jul 2018</td>\n",
       "      <td>07/12/2017</td>\n",
       "      <td>Adoption</td>\n",
       "      <td>NaN</td>\n",
       "      <td>Dog</td>\n",
       "      <td>Neutered Male</td>\n",
       "      <td>1 year</td>\n",
       "      <td>Chihuahua Shorthair Mix</td>\n",
       "      <td>White/Brown</td>\n",
       "    </tr>\n",
       "    <tr>\n",
       "      <th>2</th>\n",
       "      <td>A821648</td>\n",
       "      <td>NaN</td>\n",
       "      <td>08/16/2020 11:38:00 AM</td>\n",
       "      <td>Aug 2020</td>\n",
       "      <td>08/16/2019</td>\n",
       "      <td>Euthanasia</td>\n",
       "      <td>NaN</td>\n",
       "      <td>Other</td>\n",
       "      <td>Unknown</td>\n",
       "      <td>1 year</td>\n",
       "      <td>Raccoon</td>\n",
       "      <td>Gray</td>\n",
       "    </tr>\n",
       "  </tbody>\n",
       "</table>\n",
       "</div>"
      ],
      "text/plain": [
       "  Animal ID   Name                DateTime MonthYear Date of Birth  \\\n",
       "0   A794011  Chunk  05/08/2019 06:20:00 PM  May 2019    05/02/2017   \n",
       "1   A776359  Gizmo  07/18/2018 04:02:00 PM  Jul 2018    07/12/2017   \n",
       "2   A821648    NaN  08/16/2020 11:38:00 AM  Aug 2020    08/16/2019   \n",
       "\n",
       "  Outcome Type Outcome Subtype Animal Type Sex upon Outcome Age upon Outcome  \\\n",
       "0    Rto-Adopt             NaN         Cat    Neutered Male          2 years   \n",
       "1     Adoption             NaN         Dog    Neutered Male           1 year   \n",
       "2   Euthanasia             NaN       Other          Unknown           1 year   \n",
       "\n",
       "                     Breed              Color  \n",
       "0   Domestic Shorthair Mix  Brown Tabby/White  \n",
       "1  Chihuahua Shorthair Mix        White/Brown  \n",
       "2                  Raccoon               Gray  "
      ]
     },
     "execution_count": 19,
     "metadata": {},
     "output_type": "execute_result"
    }
   ],
   "source": [
    "austin_outcomes.head(3)"
   ]
  },
  {
   "cell_type": "markdown",
   "metadata": {},
   "source": [
    "#### Filter austin_outcomes_merged to only include dogs"
   ]
  },
  {
   "cell_type": "code",
   "execution_count": 20,
   "metadata": {},
   "outputs": [
    {
     "data": {
      "text/plain": [
       "array(['Cat', 'Other', 'Bird', 'Livestock'], dtype=object)"
      ]
     },
     "execution_count": 20,
     "metadata": {},
     "output_type": "execute_result"
    }
   ],
   "source": [
    "austin_outcomes[austin_outcomes['Animal Type']!='Dog']['Animal Type'].unique()"
   ]
  },
  {
   "cell_type": "code",
   "execution_count": 21,
   "metadata": {},
   "outputs": [
    {
     "data": {
      "text/html": [
       "<div>\n",
       "<style scoped>\n",
       "    .dataframe tbody tr th:only-of-type {\n",
       "        vertical-align: middle;\n",
       "    }\n",
       "\n",
       "    .dataframe tbody tr th {\n",
       "        vertical-align: top;\n",
       "    }\n",
       "\n",
       "    .dataframe thead th {\n",
       "        text-align: right;\n",
       "    }\n",
       "</style>\n",
       "<table border=\"1\" class=\"dataframe\">\n",
       "  <thead>\n",
       "    <tr style=\"text-align: right;\">\n",
       "      <th></th>\n",
       "      <th>Animal ID</th>\n",
       "      <th>Name</th>\n",
       "      <th>DateTime</th>\n",
       "      <th>MonthYear</th>\n",
       "      <th>Date of Birth</th>\n",
       "      <th>Outcome Type</th>\n",
       "      <th>Outcome Subtype</th>\n",
       "      <th>Animal Type</th>\n",
       "      <th>Sex upon Outcome</th>\n",
       "      <th>Age upon Outcome</th>\n",
       "      <th>Breed</th>\n",
       "      <th>Color</th>\n",
       "    </tr>\n",
       "  </thead>\n",
       "  <tbody>\n",
       "    <tr>\n",
       "      <th>0</th>\n",
       "      <td>A794011</td>\n",
       "      <td>Chunk</td>\n",
       "      <td>05/08/2019 06:20:00 PM</td>\n",
       "      <td>May 2019</td>\n",
       "      <td>05/02/2017</td>\n",
       "      <td>Rto-Adopt</td>\n",
       "      <td>NaN</td>\n",
       "      <td>Cat</td>\n",
       "      <td>Neutered Male</td>\n",
       "      <td>2 years</td>\n",
       "      <td>Domestic Shorthair Mix</td>\n",
       "      <td>Brown Tabby/White</td>\n",
       "    </tr>\n",
       "    <tr>\n",
       "      <th>2</th>\n",
       "      <td>A821648</td>\n",
       "      <td>NaN</td>\n",
       "      <td>08/16/2020 11:38:00 AM</td>\n",
       "      <td>Aug 2020</td>\n",
       "      <td>08/16/2019</td>\n",
       "      <td>Euthanasia</td>\n",
       "      <td>NaN</td>\n",
       "      <td>Other</td>\n",
       "      <td>Unknown</td>\n",
       "      <td>1 year</td>\n",
       "      <td>Raccoon</td>\n",
       "      <td>Gray</td>\n",
       "    </tr>\n",
       "    <tr>\n",
       "      <th>4</th>\n",
       "      <td>A674754</td>\n",
       "      <td>NaN</td>\n",
       "      <td>03/18/2014 11:47:00 AM</td>\n",
       "      <td>Mar 2014</td>\n",
       "      <td>03/12/2014</td>\n",
       "      <td>Transfer</td>\n",
       "      <td>Partner</td>\n",
       "      <td>Cat</td>\n",
       "      <td>Intact Male</td>\n",
       "      <td>6 days</td>\n",
       "      <td>Domestic Shorthair Mix</td>\n",
       "      <td>Orange Tabby</td>\n",
       "    </tr>\n",
       "    <tr>\n",
       "      <th>7</th>\n",
       "      <td>A689724</td>\n",
       "      <td>*Donatello</td>\n",
       "      <td>10/18/2014 06:52:00 PM</td>\n",
       "      <td>Oct 2014</td>\n",
       "      <td>08/01/2014</td>\n",
       "      <td>Adoption</td>\n",
       "      <td>NaN</td>\n",
       "      <td>Cat</td>\n",
       "      <td>Neutered Male</td>\n",
       "      <td>2 months</td>\n",
       "      <td>Domestic Shorthair Mix</td>\n",
       "      <td>Black</td>\n",
       "    </tr>\n",
       "  </tbody>\n",
       "</table>\n",
       "</div>"
      ],
      "text/plain": [
       "  Animal ID        Name                DateTime MonthYear Date of Birth  \\\n",
       "0   A794011       Chunk  05/08/2019 06:20:00 PM  May 2019    05/02/2017   \n",
       "2   A821648         NaN  08/16/2020 11:38:00 AM  Aug 2020    08/16/2019   \n",
       "4   A674754         NaN  03/18/2014 11:47:00 AM  Mar 2014    03/12/2014   \n",
       "7   A689724  *Donatello  10/18/2014 06:52:00 PM  Oct 2014    08/01/2014   \n",
       "\n",
       "  Outcome Type Outcome Subtype Animal Type Sex upon Outcome Age upon Outcome  \\\n",
       "0    Rto-Adopt             NaN         Cat    Neutered Male          2 years   \n",
       "2   Euthanasia             NaN       Other          Unknown           1 year   \n",
       "4     Transfer         Partner         Cat      Intact Male           6 days   \n",
       "7     Adoption             NaN         Cat    Neutered Male         2 months   \n",
       "\n",
       "                    Breed              Color  \n",
       "0  Domestic Shorthair Mix  Brown Tabby/White  \n",
       "2                 Raccoon               Gray  \n",
       "4  Domestic Shorthair Mix       Orange Tabby  \n",
       "7  Domestic Shorthair Mix              Black  "
      ]
     },
     "execution_count": 21,
     "metadata": {},
     "output_type": "execute_result"
    }
   ],
   "source": [
    "austin_outcomes[austin_outcomes['Animal Type']!='Dog'].head(4)"
   ]
  },
  {
   "cell_type": "code",
   "execution_count": 22,
   "metadata": {},
   "outputs": [],
   "source": [
    "austin_outcomes = austin_outcomes.drop(labels=austin_outcomes[austin_outcomes['Animal Type']!='Dog'].index)"
   ]
  },
  {
   "cell_type": "code",
   "execution_count": 23,
   "metadata": {},
   "outputs": [
    {
     "data": {
      "text/plain": [
       "array(['Dog'], dtype=object)"
      ]
     },
     "execution_count": 23,
     "metadata": {},
     "output_type": "execute_result"
    }
   ],
   "source": [
    "austin_outcomes['Animal Type'].unique()"
   ]
  },
  {
   "cell_type": "code",
   "execution_count": 24,
   "metadata": {},
   "outputs": [
    {
     "data": {
      "text/plain": [
       "(76727, 12)"
      ]
     },
     "execution_count": 24,
     "metadata": {},
     "output_type": "execute_result"
    }
   ],
   "source": [
    "austin_outcomes.shape"
   ]
  },
  {
   "cell_type": "code",
   "execution_count": 25,
   "metadata": {},
   "outputs": [
    {
     "data": {
      "text/plain": [
       "(76769, 12)"
      ]
     },
     "execution_count": 25,
     "metadata": {},
     "output_type": "execute_result"
    }
   ],
   "source": [
    "austin_intakes.shape"
   ]
  },
  {
   "cell_type": "markdown",
   "metadata": {},
   "source": [
    "## dallas_shelter_data"
   ]
  },
  {
   "cell_type": "code",
   "execution_count": 26,
   "metadata": {},
   "outputs": [
    {
     "data": {
      "text/html": [
       "<div>\n",
       "<style scoped>\n",
       "    .dataframe tbody tr th:only-of-type {\n",
       "        vertical-align: middle;\n",
       "    }\n",
       "\n",
       "    .dataframe tbody tr th {\n",
       "        vertical-align: top;\n",
       "    }\n",
       "\n",
       "    .dataframe thead th {\n",
       "        text-align: right;\n",
       "    }\n",
       "</style>\n",
       "<table border=\"1\" class=\"dataframe\">\n",
       "  <thead>\n",
       "    <tr style=\"text-align: right;\">\n",
       "      <th></th>\n",
       "      <th>Animal Id</th>\n",
       "      <th>Animal Type</th>\n",
       "      <th>Animal Breed</th>\n",
       "      <th>Kennel Number</th>\n",
       "      <th>Kennel Status</th>\n",
       "      <th>Tag Type</th>\n",
       "      <th>Activity Number</th>\n",
       "      <th>Activity Sequence</th>\n",
       "      <th>Source Id</th>\n",
       "      <th>Census Tract</th>\n",
       "      <th>...</th>\n",
       "      <th>Outcome Time</th>\n",
       "      <th>Receipt Number</th>\n",
       "      <th>Impound Number</th>\n",
       "      <th>Service Request Number</th>\n",
       "      <th>Outcome Condition</th>\n",
       "      <th>Chip Status</th>\n",
       "      <th>Animal Origin</th>\n",
       "      <th>Additional Information</th>\n",
       "      <th>Month</th>\n",
       "      <th>Year</th>\n",
       "    </tr>\n",
       "  </thead>\n",
       "  <tbody>\n",
       "    <tr>\n",
       "      <th>0</th>\n",
       "      <td>A1093136</td>\n",
       "      <td>CAT</td>\n",
       "      <td>DOMESTIC SH</td>\n",
       "      <td>K01</td>\n",
       "      <td>IMPOUNDED</td>\n",
       "      <td>NaN</td>\n",
       "      <td>NaN</td>\n",
       "      <td>1</td>\n",
       "      <td>P0915082</td>\n",
       "      <td>5200</td>\n",
       "      <td>...</td>\n",
       "      <td>14:46:00</td>\n",
       "      <td>NaN</td>\n",
       "      <td>K20-494003</td>\n",
       "      <td>NaN</td>\n",
       "      <td>APP SICK</td>\n",
       "      <td>SCAN NO CHIP</td>\n",
       "      <td>OVER THE COUNTER</td>\n",
       "      <td>NaN</td>\n",
       "      <td>JAN.2020</td>\n",
       "      <td>FY2020</td>\n",
       "    </tr>\n",
       "    <tr>\n",
       "      <th>1</th>\n",
       "      <td>A1046046</td>\n",
       "      <td>DOG</td>\n",
       "      <td>PIT BULL</td>\n",
       "      <td>AD 085</td>\n",
       "      <td>UNAVAILABLE</td>\n",
       "      <td>NaN</td>\n",
       "      <td>A19-203263</td>\n",
       "      <td>1</td>\n",
       "      <td>P0740141</td>\n",
       "      <td>12900</td>\n",
       "      <td>...</td>\n",
       "      <td>14:56:00</td>\n",
       "      <td>R19-561166</td>\n",
       "      <td>K19-489088</td>\n",
       "      <td>NaN</td>\n",
       "      <td>APP WNL</td>\n",
       "      <td>SCAN CHIP</td>\n",
       "      <td>FIELD</td>\n",
       "      <td>ADOPTION</td>\n",
       "      <td>NOV.2019</td>\n",
       "      <td>FY2020</td>\n",
       "    </tr>\n",
       "  </tbody>\n",
       "</table>\n",
       "<p>2 rows × 34 columns</p>\n",
       "</div>"
      ],
      "text/plain": [
       "  Animal Id Animal Type Animal Breed Kennel Number Kennel Status  Tag Type  \\\n",
       "0  A1093136         CAT  DOMESTIC SH           K01     IMPOUNDED       NaN   \n",
       "1  A1046046         DOG     PIT BULL        AD 085   UNAVAILABLE       NaN   \n",
       "\n",
       "  Activity Number  Activity Sequence Source Id Census Tract  ... Outcome Time  \\\n",
       "0             NaN                  1  P0915082         5200  ...     14:46:00   \n",
       "1      A19-203263                  1  P0740141        12900  ...     14:56:00   \n",
       "\n",
       "  Receipt Number Impound Number  Service Request Number Outcome Condition  \\\n",
       "0            NaN     K20-494003                     NaN          APP SICK   \n",
       "1     R19-561166     K19-489088                     NaN           APP WNL   \n",
       "\n",
       "    Chip Status     Animal Origin Additional Information     Month    Year  \n",
       "0  SCAN NO CHIP  OVER THE COUNTER                    NaN  JAN.2020  FY2020  \n",
       "1     SCAN CHIP             FIELD               ADOPTION  NOV.2019  FY2020  \n",
       "\n",
       "[2 rows x 34 columns]"
      ]
     },
     "execution_count": 26,
     "metadata": {},
     "output_type": "execute_result"
    }
   ],
   "source": [
    "# Examine columns of dallas_shelter_data\n",
    "\n",
    "dallas_shelter.head(2)"
   ]
  },
  {
   "cell_type": "code",
   "execution_count": 27,
   "metadata": {},
   "outputs": [
    {
     "data": {
      "text/plain": [
       "array(['CAT', 'BIRD', 'WILDLIFE', 'LIVESTOCK'], dtype=object)"
      ]
     },
     "execution_count": 27,
     "metadata": {},
     "output_type": "execute_result"
    }
   ],
   "source": [
    "# Rows with 'Animal Type' other than 'DOG'\n",
    "\n",
    "dallas_shelter[dallas_shelter['Animal Type']!='DOG']['Animal Type'].unique()"
   ]
  },
  {
   "cell_type": "code",
   "execution_count": 28,
   "metadata": {},
   "outputs": [
    {
     "data": {
      "text/html": [
       "<div>\n",
       "<style scoped>\n",
       "    .dataframe tbody tr th:only-of-type {\n",
       "        vertical-align: middle;\n",
       "    }\n",
       "\n",
       "    .dataframe tbody tr th {\n",
       "        vertical-align: top;\n",
       "    }\n",
       "\n",
       "    .dataframe thead th {\n",
       "        text-align: right;\n",
       "    }\n",
       "</style>\n",
       "<table border=\"1\" class=\"dataframe\">\n",
       "  <thead>\n",
       "    <tr style=\"text-align: right;\">\n",
       "      <th></th>\n",
       "      <th>Animal Id</th>\n",
       "      <th>Animal Type</th>\n",
       "      <th>Animal Breed</th>\n",
       "      <th>Kennel Number</th>\n",
       "      <th>Kennel Status</th>\n",
       "      <th>Tag Type</th>\n",
       "      <th>Activity Number</th>\n",
       "      <th>Activity Sequence</th>\n",
       "      <th>Source Id</th>\n",
       "      <th>Census Tract</th>\n",
       "      <th>...</th>\n",
       "      <th>Outcome Time</th>\n",
       "      <th>Receipt Number</th>\n",
       "      <th>Impound Number</th>\n",
       "      <th>Service Request Number</th>\n",
       "      <th>Outcome Condition</th>\n",
       "      <th>Chip Status</th>\n",
       "      <th>Animal Origin</th>\n",
       "      <th>Additional Information</th>\n",
       "      <th>Month</th>\n",
       "      <th>Year</th>\n",
       "    </tr>\n",
       "  </thead>\n",
       "  <tbody>\n",
       "    <tr>\n",
       "      <th>0</th>\n",
       "      <td>A1093136</td>\n",
       "      <td>CAT</td>\n",
       "      <td>DOMESTIC SH</td>\n",
       "      <td>K01</td>\n",
       "      <td>IMPOUNDED</td>\n",
       "      <td>NaN</td>\n",
       "      <td>NaN</td>\n",
       "      <td>1</td>\n",
       "      <td>P0915082</td>\n",
       "      <td>5200</td>\n",
       "      <td>...</td>\n",
       "      <td>14:46:00</td>\n",
       "      <td>NaN</td>\n",
       "      <td>K20-494003</td>\n",
       "      <td>NaN</td>\n",
       "      <td>APP SICK</td>\n",
       "      <td>SCAN NO CHIP</td>\n",
       "      <td>OVER THE COUNTER</td>\n",
       "      <td>NaN</td>\n",
       "      <td>JAN.2020</td>\n",
       "      <td>FY2020</td>\n",
       "    </tr>\n",
       "    <tr>\n",
       "      <th>2</th>\n",
       "      <td>A1098758</td>\n",
       "      <td>BIRD</td>\n",
       "      <td>HAWK</td>\n",
       "      <td>RECEIVING</td>\n",
       "      <td>UNAVAILABLE</td>\n",
       "      <td>NaN</td>\n",
       "      <td>A20-217177</td>\n",
       "      <td>1</td>\n",
       "      <td>P0922414</td>\n",
       "      <td>100</td>\n",
       "      <td>...</td>\n",
       "      <td>15:18:00</td>\n",
       "      <td>NaN</td>\n",
       "      <td>K20-501362</td>\n",
       "      <td>NaN</td>\n",
       "      <td>APP INJ</td>\n",
       "      <td>WILDLIFE - UNABLE TO SCAN</td>\n",
       "      <td>FIELD</td>\n",
       "      <td>NaN</td>\n",
       "      <td>MAR.2020</td>\n",
       "      <td>FY2020</td>\n",
       "    </tr>\n",
       "    <tr>\n",
       "      <th>4</th>\n",
       "      <td>A1091970</td>\n",
       "      <td>CAT</td>\n",
       "      <td>DOMESTIC SH</td>\n",
       "      <td>CC 25</td>\n",
       "      <td>UNAVAILABLE</td>\n",
       "      <td>NaN</td>\n",
       "      <td>NaN</td>\n",
       "      <td>1</td>\n",
       "      <td>P0913319</td>\n",
       "      <td>16701</td>\n",
       "      <td>...</td>\n",
       "      <td>15:47:00</td>\n",
       "      <td>R19-561806</td>\n",
       "      <td>K19-492312</td>\n",
       "      <td>NaN</td>\n",
       "      <td>APP WNL</td>\n",
       "      <td>SCAN NO CHIP</td>\n",
       "      <td>OVER THE COUNTER</td>\n",
       "      <td>ADOPTED</td>\n",
       "      <td>DEC.2019</td>\n",
       "      <td>FY2020</td>\n",
       "    </tr>\n",
       "  </tbody>\n",
       "</table>\n",
       "<p>3 rows × 34 columns</p>\n",
       "</div>"
      ],
      "text/plain": [
       "  Animal Id Animal Type Animal Breed Kennel Number Kennel Status  Tag Type  \\\n",
       "0  A1093136         CAT  DOMESTIC SH           K01     IMPOUNDED       NaN   \n",
       "2  A1098758        BIRD         HAWK     RECEIVING   UNAVAILABLE       NaN   \n",
       "4  A1091970         CAT  DOMESTIC SH         CC 25   UNAVAILABLE       NaN   \n",
       "\n",
       "  Activity Number  Activity Sequence Source Id Census Tract  ... Outcome Time  \\\n",
       "0             NaN                  1  P0915082         5200  ...     14:46:00   \n",
       "2      A20-217177                  1  P0922414          100  ...     15:18:00   \n",
       "4             NaN                  1  P0913319        16701  ...     15:47:00   \n",
       "\n",
       "  Receipt Number Impound Number  Service Request Number Outcome Condition  \\\n",
       "0            NaN     K20-494003                     NaN          APP SICK   \n",
       "2            NaN     K20-501362                     NaN           APP INJ   \n",
       "4     R19-561806     K19-492312                     NaN           APP WNL   \n",
       "\n",
       "                 Chip Status     Animal Origin Additional Information  \\\n",
       "0               SCAN NO CHIP  OVER THE COUNTER                    NaN   \n",
       "2  WILDLIFE - UNABLE TO SCAN             FIELD                    NaN   \n",
       "4               SCAN NO CHIP  OVER THE COUNTER                ADOPTED   \n",
       "\n",
       "      Month    Year  \n",
       "0  JAN.2020  FY2020  \n",
       "2  MAR.2020  FY2020  \n",
       "4  DEC.2019  FY2020  \n",
       "\n",
       "[3 rows x 34 columns]"
      ]
     },
     "execution_count": 28,
     "metadata": {},
     "output_type": "execute_result"
    }
   ],
   "source": [
    "dallas_shelter[dallas_shelter['Animal Type']!='DOG'].head(3)"
   ]
  },
  {
   "cell_type": "code",
   "execution_count": 29,
   "metadata": {},
   "outputs": [],
   "source": [
    "# Drops rows with 'Animal Type' other than 'DOG'\n",
    "\n",
    "dallas_shelter = dallas_shelter.drop(labels=dallas_shelter[dallas_shelter['Animal Type']!='DOG'].index)"
   ]
  },
  {
   "cell_type": "code",
   "execution_count": 30,
   "metadata": {},
   "outputs": [
    {
     "data": {
      "text/plain": [
       "array(['DOG'], dtype=object)"
      ]
     },
     "execution_count": 30,
     "metadata": {},
     "output_type": "execute_result"
    }
   ],
   "source": [
    "# Checkt that df only contains dogs\n",
    "\n",
    "dallas_shelter['Animal Type'].unique()"
   ]
  },
  {
   "cell_type": "markdown",
   "metadata": {},
   "source": [
    "# Check for same animal across intakes and outcomes Dfs based on ID & try to merge"
   ]
  },
  {
   "cell_type": "markdown",
   "metadata": {},
   "source": [
    "## Austin intakes & outcomes"
   ]
  },
  {
   "cell_type": "code",
   "execution_count": 31,
   "metadata": {},
   "outputs": [
    {
     "data": {
      "text/html": [
       "<div>\n",
       "<style scoped>\n",
       "    .dataframe tbody tr th:only-of-type {\n",
       "        vertical-align: middle;\n",
       "    }\n",
       "\n",
       "    .dataframe tbody tr th {\n",
       "        vertical-align: top;\n",
       "    }\n",
       "\n",
       "    .dataframe thead th {\n",
       "        text-align: right;\n",
       "    }\n",
       "</style>\n",
       "<table border=\"1\" class=\"dataframe\">\n",
       "  <thead>\n",
       "    <tr style=\"text-align: right;\">\n",
       "      <th></th>\n",
       "      <th>Animal ID</th>\n",
       "      <th>Name</th>\n",
       "      <th>DateTime</th>\n",
       "      <th>MonthYear</th>\n",
       "      <th>Date of Birth</th>\n",
       "      <th>Outcome Type</th>\n",
       "      <th>Outcome Subtype</th>\n",
       "      <th>Animal Type</th>\n",
       "      <th>Sex upon Outcome</th>\n",
       "      <th>Age upon Outcome</th>\n",
       "      <th>Breed</th>\n",
       "      <th>Color</th>\n",
       "    </tr>\n",
       "  </thead>\n",
       "  <tbody>\n",
       "    <tr>\n",
       "      <th>1</th>\n",
       "      <td>A776359</td>\n",
       "      <td>Gizmo</td>\n",
       "      <td>07/18/2018 04:02:00 PM</td>\n",
       "      <td>Jul 2018</td>\n",
       "      <td>07/12/2017</td>\n",
       "      <td>Adoption</td>\n",
       "      <td>NaN</td>\n",
       "      <td>Dog</td>\n",
       "      <td>Neutered Male</td>\n",
       "      <td>1 year</td>\n",
       "      <td>Chihuahua Shorthair Mix</td>\n",
       "      <td>White/Brown</td>\n",
       "    </tr>\n",
       "    <tr>\n",
       "      <th>3</th>\n",
       "      <td>A720371</td>\n",
       "      <td>Moose</td>\n",
       "      <td>02/13/2016 05:59:00 PM</td>\n",
       "      <td>Feb 2016</td>\n",
       "      <td>10/08/2015</td>\n",
       "      <td>Adoption</td>\n",
       "      <td>NaN</td>\n",
       "      <td>Dog</td>\n",
       "      <td>Neutered Male</td>\n",
       "      <td>4 months</td>\n",
       "      <td>Anatol Shepherd/Labrador Retriever</td>\n",
       "      <td>Buff</td>\n",
       "    </tr>\n",
       "  </tbody>\n",
       "</table>\n",
       "</div>"
      ],
      "text/plain": [
       "  Animal ID   Name                DateTime MonthYear Date of Birth  \\\n",
       "1   A776359  Gizmo  07/18/2018 04:02:00 PM  Jul 2018    07/12/2017   \n",
       "3   A720371  Moose  02/13/2016 05:59:00 PM  Feb 2016    10/08/2015   \n",
       "\n",
       "  Outcome Type Outcome Subtype Animal Type Sex upon Outcome Age upon Outcome  \\\n",
       "1     Adoption             NaN         Dog    Neutered Male           1 year   \n",
       "3     Adoption             NaN         Dog    Neutered Male         4 months   \n",
       "\n",
       "                                Breed        Color  \n",
       "1             Chihuahua Shorthair Mix  White/Brown  \n",
       "3  Anatol Shepherd/Labrador Retriever         Buff  "
      ]
     },
     "execution_count": 31,
     "metadata": {},
     "output_type": "execute_result"
    }
   ],
   "source": [
    "austin_outcomes.head(2)"
   ]
  },
  {
   "cell_type": "code",
   "execution_count": 32,
   "metadata": {},
   "outputs": [
    {
     "data": {
      "text/html": [
       "<div>\n",
       "<style scoped>\n",
       "    .dataframe tbody tr th:only-of-type {\n",
       "        vertical-align: middle;\n",
       "    }\n",
       "\n",
       "    .dataframe tbody tr th {\n",
       "        vertical-align: top;\n",
       "    }\n",
       "\n",
       "    .dataframe thead th {\n",
       "        text-align: right;\n",
       "    }\n",
       "</style>\n",
       "<table border=\"1\" class=\"dataframe\">\n",
       "  <thead>\n",
       "    <tr style=\"text-align: right;\">\n",
       "      <th></th>\n",
       "      <th>Animal ID</th>\n",
       "      <th>Name</th>\n",
       "      <th>DateTime</th>\n",
       "      <th>MonthYear</th>\n",
       "      <th>Found Location</th>\n",
       "      <th>Intake Type</th>\n",
       "      <th>Intake Condition</th>\n",
       "      <th>Animal Type</th>\n",
       "      <th>Sex upon Intake</th>\n",
       "      <th>Age upon Intake</th>\n",
       "      <th>Breed</th>\n",
       "      <th>Color</th>\n",
       "    </tr>\n",
       "  </thead>\n",
       "  <tbody>\n",
       "    <tr>\n",
       "      <th>0</th>\n",
       "      <td>A786884</td>\n",
       "      <td>*Brock</td>\n",
       "      <td>01/03/2019 04:19:00 PM</td>\n",
       "      <td>January 2019</td>\n",
       "      <td>2501 Magin Meadow Dr in Austin (TX)</td>\n",
       "      <td>Stray</td>\n",
       "      <td>Normal</td>\n",
       "      <td>Dog</td>\n",
       "      <td>Neutered Male</td>\n",
       "      <td>2 years</td>\n",
       "      <td>Beagle Mix</td>\n",
       "      <td>Tricolor</td>\n",
       "    </tr>\n",
       "    <tr>\n",
       "      <th>1</th>\n",
       "      <td>A706918</td>\n",
       "      <td>Belle</td>\n",
       "      <td>07/05/2015 12:59:00 PM</td>\n",
       "      <td>July 2015</td>\n",
       "      <td>9409 Bluegrass Dr in Austin (TX)</td>\n",
       "      <td>Stray</td>\n",
       "      <td>Normal</td>\n",
       "      <td>Dog</td>\n",
       "      <td>Spayed Female</td>\n",
       "      <td>8 years</td>\n",
       "      <td>English Springer Spaniel</td>\n",
       "      <td>White/Liver</td>\n",
       "    </tr>\n",
       "  </tbody>\n",
       "</table>\n",
       "</div>"
      ],
      "text/plain": [
       "  Animal ID    Name                DateTime     MonthYear  \\\n",
       "0   A786884  *Brock  01/03/2019 04:19:00 PM  January 2019   \n",
       "1   A706918   Belle  07/05/2015 12:59:00 PM     July 2015   \n",
       "\n",
       "                        Found Location Intake Type Intake Condition  \\\n",
       "0  2501 Magin Meadow Dr in Austin (TX)       Stray           Normal   \n",
       "1     9409 Bluegrass Dr in Austin (TX)       Stray           Normal   \n",
       "\n",
       "  Animal Type Sex upon Intake Age upon Intake                     Breed  \\\n",
       "0         Dog   Neutered Male         2 years                Beagle Mix   \n",
       "1         Dog   Spayed Female         8 years  English Springer Spaniel   \n",
       "\n",
       "         Color  \n",
       "0     Tricolor  \n",
       "1  White/Liver  "
      ]
     },
     "execution_count": 32,
     "metadata": {},
     "output_type": "execute_result"
    }
   ],
   "source": [
    "austin_intakes.head(2)"
   ]
  },
  {
   "cell_type": "code",
   "execution_count": 33,
   "metadata": {},
   "outputs": [
    {
     "data": {
      "text/html": [
       "<div>\n",
       "<style scoped>\n",
       "    .dataframe tbody tr th:only-of-type {\n",
       "        vertical-align: middle;\n",
       "    }\n",
       "\n",
       "    .dataframe tbody tr th {\n",
       "        vertical-align: top;\n",
       "    }\n",
       "\n",
       "    .dataframe thead th {\n",
       "        text-align: right;\n",
       "    }\n",
       "</style>\n",
       "<table border=\"1\" class=\"dataframe\">\n",
       "  <thead>\n",
       "    <tr style=\"text-align: right;\">\n",
       "      <th></th>\n",
       "      <th>Animal ID</th>\n",
       "      <th>Name</th>\n",
       "      <th>DateTime</th>\n",
       "      <th>MonthYear</th>\n",
       "      <th>Found Location</th>\n",
       "      <th>Intake Type</th>\n",
       "      <th>Intake Condition</th>\n",
       "      <th>Animal Type</th>\n",
       "      <th>Sex upon Intake</th>\n",
       "      <th>Age upon Intake</th>\n",
       "      <th>Breed</th>\n",
       "      <th>Color</th>\n",
       "    </tr>\n",
       "  </thead>\n",
       "  <tbody>\n",
       "    <tr>\n",
       "      <th>91423</th>\n",
       "      <td>A006100</td>\n",
       "      <td>Scamp</td>\n",
       "      <td>03/07/2014 02:26:00 PM</td>\n",
       "      <td>March 2014</td>\n",
       "      <td>8700 Research in Austin (TX)</td>\n",
       "      <td>Public Assist</td>\n",
       "      <td>Normal</td>\n",
       "      <td>Dog</td>\n",
       "      <td>Neutered Male</td>\n",
       "      <td>6 years</td>\n",
       "      <td>Spinone Italiano Mix</td>\n",
       "      <td>Yellow/White</td>\n",
       "    </tr>\n",
       "    <tr>\n",
       "      <th>20233</th>\n",
       "      <td>A006100</td>\n",
       "      <td>Scamp</td>\n",
       "      <td>12/07/2017 02:07:00 PM</td>\n",
       "      <td>December 2017</td>\n",
       "      <td>Colony Creek And Hunters Trace in Austin (TX)</td>\n",
       "      <td>Stray</td>\n",
       "      <td>Normal</td>\n",
       "      <td>Dog</td>\n",
       "      <td>Neutered Male</td>\n",
       "      <td>10 years</td>\n",
       "      <td>Spinone Italiano Mix</td>\n",
       "      <td>Yellow/White</td>\n",
       "    </tr>\n",
       "    <tr>\n",
       "      <th>4344</th>\n",
       "      <td>A006100</td>\n",
       "      <td>Scamp</td>\n",
       "      <td>12/19/2014 10:21:00 AM</td>\n",
       "      <td>December 2014</td>\n",
       "      <td>8700 Research Blvd in Austin (TX)</td>\n",
       "      <td>Public Assist</td>\n",
       "      <td>Normal</td>\n",
       "      <td>Dog</td>\n",
       "      <td>Neutered Male</td>\n",
       "      <td>7 years</td>\n",
       "      <td>Spinone Italiano Mix</td>\n",
       "      <td>Yellow/White</td>\n",
       "    </tr>\n",
       "    <tr>\n",
       "      <th>99487</th>\n",
       "      <td>A245945</td>\n",
       "      <td>Boomer</td>\n",
       "      <td>07/03/2014 05:55:00 PM</td>\n",
       "      <td>July 2014</td>\n",
       "      <td>Garden And Mildred in Austin (TX)</td>\n",
       "      <td>Stray</td>\n",
       "      <td>Normal</td>\n",
       "      <td>Dog</td>\n",
       "      <td>Neutered Male</td>\n",
       "      <td>14 years</td>\n",
       "      <td>Labrador Retriever Mix</td>\n",
       "      <td>Tan</td>\n",
       "    </tr>\n",
       "    <tr>\n",
       "      <th>122656</th>\n",
       "      <td>A245945</td>\n",
       "      <td>Boomer</td>\n",
       "      <td>05/20/2015 10:34:00 PM</td>\n",
       "      <td>May 2015</td>\n",
       "      <td>7403 Blessing Ave in Austin (TX)</td>\n",
       "      <td>Stray</td>\n",
       "      <td>Normal</td>\n",
       "      <td>Dog</td>\n",
       "      <td>Neutered Male</td>\n",
       "      <td>15 years</td>\n",
       "      <td>Labrador Retriever Mix</td>\n",
       "      <td>Tan</td>\n",
       "    </tr>\n",
       "  </tbody>\n",
       "</table>\n",
       "</div>"
      ],
      "text/plain": [
       "       Animal ID    Name                DateTime      MonthYear  \\\n",
       "91423    A006100   Scamp  03/07/2014 02:26:00 PM     March 2014   \n",
       "20233    A006100   Scamp  12/07/2017 02:07:00 PM  December 2017   \n",
       "4344     A006100   Scamp  12/19/2014 10:21:00 AM  December 2014   \n",
       "99487    A245945  Boomer  07/03/2014 05:55:00 PM      July 2014   \n",
       "122656   A245945  Boomer  05/20/2015 10:34:00 PM       May 2015   \n",
       "\n",
       "                                       Found Location    Intake Type  \\\n",
       "91423                    8700 Research in Austin (TX)  Public Assist   \n",
       "20233   Colony Creek And Hunters Trace in Austin (TX)          Stray   \n",
       "4344                8700 Research Blvd in Austin (TX)  Public Assist   \n",
       "99487               Garden And Mildred in Austin (TX)          Stray   \n",
       "122656               7403 Blessing Ave in Austin (TX)          Stray   \n",
       "\n",
       "       Intake Condition Animal Type Sex upon Intake Age upon Intake  \\\n",
       "91423            Normal         Dog   Neutered Male         6 years   \n",
       "20233            Normal         Dog   Neutered Male        10 years   \n",
       "4344             Normal         Dog   Neutered Male         7 years   \n",
       "99487            Normal         Dog   Neutered Male        14 years   \n",
       "122656           Normal         Dog   Neutered Male        15 years   \n",
       "\n",
       "                         Breed         Color  \n",
       "91423     Spinone Italiano Mix  Yellow/White  \n",
       "20233     Spinone Italiano Mix  Yellow/White  \n",
       "4344      Spinone Italiano Mix  Yellow/White  \n",
       "99487   Labrador Retriever Mix           Tan  \n",
       "122656  Labrador Retriever Mix           Tan  "
      ]
     },
     "execution_count": 33,
     "metadata": {},
     "output_type": "execute_result"
    }
   ],
   "source": [
    "# duplicate Animal IDs in austin intakes\n",
    "austin_intakes[austin_intakes['Animal ID'].duplicated(keep=False)==True].sort_values(by='Animal ID').head()\n",
    "\n",
    "# duplciates appear to be same animal that has gone through intake at the shelter multiple times"
   ]
  },
  {
   "cell_type": "code",
   "execution_count": 34,
   "metadata": {},
   "outputs": [
    {
     "data": {
      "text/html": [
       "<div>\n",
       "<style scoped>\n",
       "    .dataframe tbody tr th:only-of-type {\n",
       "        vertical-align: middle;\n",
       "    }\n",
       "\n",
       "    .dataframe tbody tr th {\n",
       "        vertical-align: top;\n",
       "    }\n",
       "\n",
       "    .dataframe thead th {\n",
       "        text-align: right;\n",
       "    }\n",
       "</style>\n",
       "<table border=\"1\" class=\"dataframe\">\n",
       "  <thead>\n",
       "    <tr style=\"text-align: right;\">\n",
       "      <th></th>\n",
       "      <th>Animal ID</th>\n",
       "      <th>Name</th>\n",
       "      <th>DateTime</th>\n",
       "      <th>MonthYear</th>\n",
       "      <th>Date of Birth</th>\n",
       "      <th>Outcome Type</th>\n",
       "      <th>Outcome Subtype</th>\n",
       "      <th>Animal Type</th>\n",
       "      <th>Sex upon Outcome</th>\n",
       "      <th>Age upon Outcome</th>\n",
       "      <th>Breed</th>\n",
       "      <th>Color</th>\n",
       "    </tr>\n",
       "  </thead>\n",
       "  <tbody>\n",
       "    <tr>\n",
       "      <th>101494</th>\n",
       "      <td>A006100</td>\n",
       "      <td>Scamp</td>\n",
       "      <td>12/07/2017 12:00:00 AM</td>\n",
       "      <td>Dec 2017</td>\n",
       "      <td>07/09/2007</td>\n",
       "      <td>Return to Owner</td>\n",
       "      <td>NaN</td>\n",
       "      <td>Dog</td>\n",
       "      <td>Neutered Male</td>\n",
       "      <td>10 years</td>\n",
       "      <td>Spinone Italiano Mix</td>\n",
       "      <td>Yellow/White</td>\n",
       "    </tr>\n",
       "    <tr>\n",
       "      <th>56686</th>\n",
       "      <td>A006100</td>\n",
       "      <td>Scamp</td>\n",
       "      <td>12/20/2014 04:35:00 PM</td>\n",
       "      <td>Dec 2014</td>\n",
       "      <td>07/09/2007</td>\n",
       "      <td>Return to Owner</td>\n",
       "      <td>NaN</td>\n",
       "      <td>Dog</td>\n",
       "      <td>Neutered Male</td>\n",
       "      <td>7 years</td>\n",
       "      <td>Spinone Italiano Mix</td>\n",
       "      <td>Yellow/White</td>\n",
       "    </tr>\n",
       "    <tr>\n",
       "      <th>115237</th>\n",
       "      <td>A006100</td>\n",
       "      <td>Scamp</td>\n",
       "      <td>03/08/2014 05:10:00 PM</td>\n",
       "      <td>Mar 2014</td>\n",
       "      <td>07/09/2007</td>\n",
       "      <td>Return to Owner</td>\n",
       "      <td>NaN</td>\n",
       "      <td>Dog</td>\n",
       "      <td>Neutered Male</td>\n",
       "      <td>6 years</td>\n",
       "      <td>Spinone Italiano Mix</td>\n",
       "      <td>Yellow/White</td>\n",
       "    </tr>\n",
       "    <tr>\n",
       "      <th>90697</th>\n",
       "      <td>A245945</td>\n",
       "      <td>Boomer</td>\n",
       "      <td>07/04/2014 03:26:00 PM</td>\n",
       "      <td>Jul 2014</td>\n",
       "      <td>05/23/2000</td>\n",
       "      <td>Return to Owner</td>\n",
       "      <td>NaN</td>\n",
       "      <td>Dog</td>\n",
       "      <td>Neutered Male</td>\n",
       "      <td>14 years</td>\n",
       "      <td>Labrador Retriever Mix</td>\n",
       "      <td>Tan</td>\n",
       "    </tr>\n",
       "    <tr>\n",
       "      <th>69529</th>\n",
       "      <td>A245945</td>\n",
       "      <td>Boomer</td>\n",
       "      <td>05/25/2015 11:49:00 AM</td>\n",
       "      <td>May 2015</td>\n",
       "      <td>05/23/2000</td>\n",
       "      <td>Transfer</td>\n",
       "      <td>Partner</td>\n",
       "      <td>Dog</td>\n",
       "      <td>Neutered Male</td>\n",
       "      <td>15 years</td>\n",
       "      <td>Labrador Retriever Mix</td>\n",
       "      <td>Tan</td>\n",
       "    </tr>\n",
       "    <tr>\n",
       "      <th>71155</th>\n",
       "      <td>A287017</td>\n",
       "      <td>Stitch</td>\n",
       "      <td>08/16/2015 01:31:00 PM</td>\n",
       "      <td>Aug 2015</td>\n",
       "      <td>05/13/2001</td>\n",
       "      <td>Return to Owner</td>\n",
       "      <td>NaN</td>\n",
       "      <td>Dog</td>\n",
       "      <td>Spayed Female</td>\n",
       "      <td>14 years</td>\n",
       "      <td>Chihuahua Shorthair Mix</td>\n",
       "      <td>Black/White</td>\n",
       "    </tr>\n",
       "    <tr>\n",
       "      <th>24409</th>\n",
       "      <td>A287017</td>\n",
       "      <td>Stitch</td>\n",
       "      <td>12/12/2014 04:49:00 PM</td>\n",
       "      <td>Dec 2014</td>\n",
       "      <td>05/13/2001</td>\n",
       "      <td>Return to Owner</td>\n",
       "      <td>NaN</td>\n",
       "      <td>Dog</td>\n",
       "      <td>Spayed Female</td>\n",
       "      <td>13 years</td>\n",
       "      <td>Chihuahua Shorthair Mix</td>\n",
       "      <td>Black/White</td>\n",
       "    </tr>\n",
       "    <tr>\n",
       "      <th>94844</th>\n",
       "      <td>A307010</td>\n",
       "      <td>Cooper</td>\n",
       "      <td>06/05/2017 03:11:00 PM</td>\n",
       "      <td>Jun 2017</td>\n",
       "      <td>03/04/2003</td>\n",
       "      <td>Return to Owner</td>\n",
       "      <td>NaN</td>\n",
       "      <td>Dog</td>\n",
       "      <td>Neutered Male</td>\n",
       "      <td>14 years</td>\n",
       "      <td>Beagle Mix</td>\n",
       "      <td>Tricolor</td>\n",
       "    </tr>\n",
       "    <tr>\n",
       "      <th>38142</th>\n",
       "      <td>A307010</td>\n",
       "      <td>Cooper</td>\n",
       "      <td>09/28/2016 09:36:00 AM</td>\n",
       "      <td>Sep 2016</td>\n",
       "      <td>03/04/2003</td>\n",
       "      <td>Return to Owner</td>\n",
       "      <td>NaN</td>\n",
       "      <td>Dog</td>\n",
       "      <td>Neutered Male</td>\n",
       "      <td>13 years</td>\n",
       "      <td>Beagle Mix</td>\n",
       "      <td>Tricolor</td>\n",
       "    </tr>\n",
       "    <tr>\n",
       "      <th>53506</th>\n",
       "      <td>A322813</td>\n",
       "      <td>Tyson</td>\n",
       "      <td>12/24/2015 02:31:00 PM</td>\n",
       "      <td>Dec 2015</td>\n",
       "      <td>03/26/2003</td>\n",
       "      <td>Return to Owner</td>\n",
       "      <td>NaN</td>\n",
       "      <td>Dog</td>\n",
       "      <td>Neutered Male</td>\n",
       "      <td>12 years</td>\n",
       "      <td>Rottweiler Mix</td>\n",
       "      <td>Black/Brown</td>\n",
       "    </tr>\n",
       "  </tbody>\n",
       "</table>\n",
       "</div>"
      ],
      "text/plain": [
       "       Animal ID    Name                DateTime MonthYear Date of Birth  \\\n",
       "101494   A006100   Scamp  12/07/2017 12:00:00 AM  Dec 2017    07/09/2007   \n",
       "56686    A006100   Scamp  12/20/2014 04:35:00 PM  Dec 2014    07/09/2007   \n",
       "115237   A006100   Scamp  03/08/2014 05:10:00 PM  Mar 2014    07/09/2007   \n",
       "90697    A245945  Boomer  07/04/2014 03:26:00 PM  Jul 2014    05/23/2000   \n",
       "69529    A245945  Boomer  05/25/2015 11:49:00 AM  May 2015    05/23/2000   \n",
       "71155    A287017  Stitch  08/16/2015 01:31:00 PM  Aug 2015    05/13/2001   \n",
       "24409    A287017  Stitch  12/12/2014 04:49:00 PM  Dec 2014    05/13/2001   \n",
       "94844    A307010  Cooper  06/05/2017 03:11:00 PM  Jun 2017    03/04/2003   \n",
       "38142    A307010  Cooper  09/28/2016 09:36:00 AM  Sep 2016    03/04/2003   \n",
       "53506    A322813   Tyson  12/24/2015 02:31:00 PM  Dec 2015    03/26/2003   \n",
       "\n",
       "           Outcome Type Outcome Subtype Animal Type Sex upon Outcome  \\\n",
       "101494  Return to Owner             NaN         Dog    Neutered Male   \n",
       "56686   Return to Owner             NaN         Dog    Neutered Male   \n",
       "115237  Return to Owner             NaN         Dog    Neutered Male   \n",
       "90697   Return to Owner             NaN         Dog    Neutered Male   \n",
       "69529          Transfer         Partner         Dog    Neutered Male   \n",
       "71155   Return to Owner             NaN         Dog    Spayed Female   \n",
       "24409   Return to Owner             NaN         Dog    Spayed Female   \n",
       "94844   Return to Owner             NaN         Dog    Neutered Male   \n",
       "38142   Return to Owner             NaN         Dog    Neutered Male   \n",
       "53506   Return to Owner             NaN         Dog    Neutered Male   \n",
       "\n",
       "       Age upon Outcome                    Breed         Color  \n",
       "101494         10 years     Spinone Italiano Mix  Yellow/White  \n",
       "56686           7 years     Spinone Italiano Mix  Yellow/White  \n",
       "115237          6 years     Spinone Italiano Mix  Yellow/White  \n",
       "90697          14 years   Labrador Retriever Mix           Tan  \n",
       "69529          15 years   Labrador Retriever Mix           Tan  \n",
       "71155          14 years  Chihuahua Shorthair Mix   Black/White  \n",
       "24409          13 years  Chihuahua Shorthair Mix   Black/White  \n",
       "94844          14 years               Beagle Mix      Tricolor  \n",
       "38142          13 years               Beagle Mix      Tricolor  \n",
       "53506          12 years           Rottweiler Mix   Black/Brown  "
      ]
     },
     "execution_count": 34,
     "metadata": {},
     "output_type": "execute_result"
    }
   ],
   "source": [
    "# duplicate Animal IDs in austin outcomes\n",
    "austin_outcomes[austin_outcomes['Animal ID'].duplicated(keep=False)==True].sort_values(by='Animal ID').head(10)\n",
    "\n",
    "# duplciates appear to be same animal that has had recorded outcome at the shelter multiple times"
   ]
  },
  {
   "cell_type": "code",
   "execution_count": 35,
   "metadata": {},
   "outputs": [
    {
     "data": {
      "text/plain": [
       "(76769, 12)"
      ]
     },
     "execution_count": 35,
     "metadata": {},
     "output_type": "execute_result"
    }
   ],
   "source": [
    "austin_intakes.shape"
   ]
  },
  {
   "cell_type": "code",
   "execution_count": 36,
   "metadata": {},
   "outputs": [
    {
     "data": {
      "text/plain": [
       "(76727, 12)"
      ]
     },
     "execution_count": 36,
     "metadata": {},
     "output_type": "execute_result"
    }
   ],
   "source": [
    "austin_outcomes.shape"
   ]
  },
  {
   "cell_type": "code",
   "execution_count": 37,
   "metadata": {},
   "outputs": [],
   "source": [
    "# Rows of austin intakes and austin outcomes appear to largely line up, however dates for each animal are not necessarily listed in the same order and intakes has ~40 more rows"
   ]
  },
  {
   "cell_type": "code",
   "execution_count": 38,
   "metadata": {},
   "outputs": [
    {
     "data": {
      "text/html": [
       "<div>\n",
       "<style scoped>\n",
       "    .dataframe tbody tr th:only-of-type {\n",
       "        vertical-align: middle;\n",
       "    }\n",
       "\n",
       "    .dataframe tbody tr th {\n",
       "        vertical-align: top;\n",
       "    }\n",
       "\n",
       "    .dataframe thead th {\n",
       "        text-align: right;\n",
       "    }\n",
       "</style>\n",
       "<table border=\"1\" class=\"dataframe\">\n",
       "  <thead>\n",
       "    <tr style=\"text-align: right;\">\n",
       "      <th></th>\n",
       "      <th>Animal ID</th>\n",
       "      <th>Name</th>\n",
       "      <th>DateTime</th>\n",
       "      <th>MonthYear</th>\n",
       "      <th>Date of Birth</th>\n",
       "      <th>Outcome Type</th>\n",
       "      <th>Outcome Subtype</th>\n",
       "      <th>Animal Type</th>\n",
       "      <th>Sex upon Outcome</th>\n",
       "      <th>Age upon Outcome</th>\n",
       "      <th>Breed</th>\n",
       "      <th>Color</th>\n",
       "    </tr>\n",
       "  </thead>\n",
       "  <tbody>\n",
       "    <tr>\n",
       "      <th>115237</th>\n",
       "      <td>A006100</td>\n",
       "      <td>Scamp</td>\n",
       "      <td>03/08/2014 05:10:00 PM</td>\n",
       "      <td>Mar 2014</td>\n",
       "      <td>07/09/2007</td>\n",
       "      <td>Return to Owner</td>\n",
       "      <td>NaN</td>\n",
       "      <td>Dog</td>\n",
       "      <td>Neutered Male</td>\n",
       "      <td>6 years</td>\n",
       "      <td>Spinone Italiano Mix</td>\n",
       "      <td>Yellow/White</td>\n",
       "    </tr>\n",
       "    <tr>\n",
       "      <th>101494</th>\n",
       "      <td>A006100</td>\n",
       "      <td>Scamp</td>\n",
       "      <td>12/07/2017 12:00:00 AM</td>\n",
       "      <td>Dec 2017</td>\n",
       "      <td>07/09/2007</td>\n",
       "      <td>Return to Owner</td>\n",
       "      <td>NaN</td>\n",
       "      <td>Dog</td>\n",
       "      <td>Neutered Male</td>\n",
       "      <td>10 years</td>\n",
       "      <td>Spinone Italiano Mix</td>\n",
       "      <td>Yellow/White</td>\n",
       "    </tr>\n",
       "    <tr>\n",
       "      <th>56686</th>\n",
       "      <td>A006100</td>\n",
       "      <td>Scamp</td>\n",
       "      <td>12/20/2014 04:35:00 PM</td>\n",
       "      <td>Dec 2014</td>\n",
       "      <td>07/09/2007</td>\n",
       "      <td>Return to Owner</td>\n",
       "      <td>NaN</td>\n",
       "      <td>Dog</td>\n",
       "      <td>Neutered Male</td>\n",
       "      <td>7 years</td>\n",
       "      <td>Spinone Italiano Mix</td>\n",
       "      <td>Yellow/White</td>\n",
       "    </tr>\n",
       "    <tr>\n",
       "      <th>39142</th>\n",
       "      <td>A047759</td>\n",
       "      <td>Oreo</td>\n",
       "      <td>04/07/2014 03:12:00 PM</td>\n",
       "      <td>Apr 2014</td>\n",
       "      <td>04/02/2004</td>\n",
       "      <td>Transfer</td>\n",
       "      <td>Partner</td>\n",
       "      <td>Dog</td>\n",
       "      <td>Neutered Male</td>\n",
       "      <td>10 years</td>\n",
       "      <td>Dachshund</td>\n",
       "      <td>Tricolor</td>\n",
       "    </tr>\n",
       "    <tr>\n",
       "      <th>81491</th>\n",
       "      <td>A134067</td>\n",
       "      <td>Bandit</td>\n",
       "      <td>11/16/2013 11:54:00 AM</td>\n",
       "      <td>Nov 2013</td>\n",
       "      <td>10/16/1997</td>\n",
       "      <td>Return to Owner</td>\n",
       "      <td>NaN</td>\n",
       "      <td>Dog</td>\n",
       "      <td>Neutered Male</td>\n",
       "      <td>16 years</td>\n",
       "      <td>Shetland Sheepdog</td>\n",
       "      <td>Brown/White</td>\n",
       "    </tr>\n",
       "  </tbody>\n",
       "</table>\n",
       "</div>"
      ],
      "text/plain": [
       "       Animal ID    Name                DateTime MonthYear Date of Birth  \\\n",
       "115237   A006100   Scamp  03/08/2014 05:10:00 PM  Mar 2014    07/09/2007   \n",
       "101494   A006100   Scamp  12/07/2017 12:00:00 AM  Dec 2017    07/09/2007   \n",
       "56686    A006100   Scamp  12/20/2014 04:35:00 PM  Dec 2014    07/09/2007   \n",
       "39142    A047759    Oreo  04/07/2014 03:12:00 PM  Apr 2014    04/02/2004   \n",
       "81491    A134067  Bandit  11/16/2013 11:54:00 AM  Nov 2013    10/16/1997   \n",
       "\n",
       "           Outcome Type Outcome Subtype Animal Type Sex upon Outcome  \\\n",
       "115237  Return to Owner             NaN         Dog    Neutered Male   \n",
       "101494  Return to Owner             NaN         Dog    Neutered Male   \n",
       "56686   Return to Owner             NaN         Dog    Neutered Male   \n",
       "39142          Transfer         Partner         Dog    Neutered Male   \n",
       "81491   Return to Owner             NaN         Dog    Neutered Male   \n",
       "\n",
       "       Age upon Outcome                 Breed         Color  \n",
       "115237          6 years  Spinone Italiano Mix  Yellow/White  \n",
       "101494         10 years  Spinone Italiano Mix  Yellow/White  \n",
       "56686           7 years  Spinone Italiano Mix  Yellow/White  \n",
       "39142          10 years             Dachshund      Tricolor  \n",
       "81491          16 years     Shetland Sheepdog   Brown/White  "
      ]
     },
     "execution_count": 38,
     "metadata": {},
     "output_type": "execute_result"
    }
   ],
   "source": [
    "austin_outcomes.sort_values(by='Animal ID').head()"
   ]
  },
  {
   "cell_type": "code",
   "execution_count": 39,
   "metadata": {},
   "outputs": [
    {
     "data": {
      "text/html": [
       "<div>\n",
       "<style scoped>\n",
       "    .dataframe tbody tr th:only-of-type {\n",
       "        vertical-align: middle;\n",
       "    }\n",
       "\n",
       "    .dataframe tbody tr th {\n",
       "        vertical-align: top;\n",
       "    }\n",
       "\n",
       "    .dataframe thead th {\n",
       "        text-align: right;\n",
       "    }\n",
       "</style>\n",
       "<table border=\"1\" class=\"dataframe\">\n",
       "  <thead>\n",
       "    <tr style=\"text-align: right;\">\n",
       "      <th></th>\n",
       "      <th>Animal ID</th>\n",
       "      <th>Name</th>\n",
       "      <th>DateTime</th>\n",
       "      <th>MonthYear</th>\n",
       "      <th>Found Location</th>\n",
       "      <th>Intake Type</th>\n",
       "      <th>Intake Condition</th>\n",
       "      <th>Animal Type</th>\n",
       "      <th>Sex upon Intake</th>\n",
       "      <th>Age upon Intake</th>\n",
       "      <th>Breed</th>\n",
       "      <th>Color</th>\n",
       "    </tr>\n",
       "  </thead>\n",
       "  <tbody>\n",
       "    <tr>\n",
       "      <th>20233</th>\n",
       "      <td>A006100</td>\n",
       "      <td>Scamp</td>\n",
       "      <td>12/07/2017 02:07:00 PM</td>\n",
       "      <td>December 2017</td>\n",
       "      <td>Colony Creek And Hunters Trace in Austin (TX)</td>\n",
       "      <td>Stray</td>\n",
       "      <td>Normal</td>\n",
       "      <td>Dog</td>\n",
       "      <td>Neutered Male</td>\n",
       "      <td>10 years</td>\n",
       "      <td>Spinone Italiano Mix</td>\n",
       "      <td>Yellow/White</td>\n",
       "    </tr>\n",
       "    <tr>\n",
       "      <th>91423</th>\n",
       "      <td>A006100</td>\n",
       "      <td>Scamp</td>\n",
       "      <td>03/07/2014 02:26:00 PM</td>\n",
       "      <td>March 2014</td>\n",
       "      <td>8700 Research in Austin (TX)</td>\n",
       "      <td>Public Assist</td>\n",
       "      <td>Normal</td>\n",
       "      <td>Dog</td>\n",
       "      <td>Neutered Male</td>\n",
       "      <td>6 years</td>\n",
       "      <td>Spinone Italiano Mix</td>\n",
       "      <td>Yellow/White</td>\n",
       "    </tr>\n",
       "    <tr>\n",
       "      <th>4344</th>\n",
       "      <td>A006100</td>\n",
       "      <td>Scamp</td>\n",
       "      <td>12/19/2014 10:21:00 AM</td>\n",
       "      <td>December 2014</td>\n",
       "      <td>8700 Research Blvd in Austin (TX)</td>\n",
       "      <td>Public Assist</td>\n",
       "      <td>Normal</td>\n",
       "      <td>Dog</td>\n",
       "      <td>Neutered Male</td>\n",
       "      <td>7 years</td>\n",
       "      <td>Spinone Italiano Mix</td>\n",
       "      <td>Yellow/White</td>\n",
       "    </tr>\n",
       "    <tr>\n",
       "      <th>71055</th>\n",
       "      <td>A047759</td>\n",
       "      <td>Oreo</td>\n",
       "      <td>04/02/2014 03:55:00 PM</td>\n",
       "      <td>April 2014</td>\n",
       "      <td>Austin (TX)</td>\n",
       "      <td>Owner Surrender</td>\n",
       "      <td>Normal</td>\n",
       "      <td>Dog</td>\n",
       "      <td>Neutered Male</td>\n",
       "      <td>10 years</td>\n",
       "      <td>Dachshund</td>\n",
       "      <td>Tricolor</td>\n",
       "    </tr>\n",
       "    <tr>\n",
       "      <th>96671</th>\n",
       "      <td>A134067</td>\n",
       "      <td>Bandit</td>\n",
       "      <td>11/16/2013 09:02:00 AM</td>\n",
       "      <td>November 2013</td>\n",
       "      <td>12034 Research Blvd in Austin (TX)</td>\n",
       "      <td>Public Assist</td>\n",
       "      <td>Injured</td>\n",
       "      <td>Dog</td>\n",
       "      <td>Neutered Male</td>\n",
       "      <td>16 years</td>\n",
       "      <td>Shetland Sheepdog</td>\n",
       "      <td>Brown/White</td>\n",
       "    </tr>\n",
       "  </tbody>\n",
       "</table>\n",
       "</div>"
      ],
      "text/plain": [
       "      Animal ID    Name                DateTime      MonthYear  \\\n",
       "20233   A006100   Scamp  12/07/2017 02:07:00 PM  December 2017   \n",
       "91423   A006100   Scamp  03/07/2014 02:26:00 PM     March 2014   \n",
       "4344    A006100   Scamp  12/19/2014 10:21:00 AM  December 2014   \n",
       "71055   A047759    Oreo  04/02/2014 03:55:00 PM     April 2014   \n",
       "96671   A134067  Bandit  11/16/2013 09:02:00 AM  November 2013   \n",
       "\n",
       "                                      Found Location      Intake Type  \\\n",
       "20233  Colony Creek And Hunters Trace in Austin (TX)            Stray   \n",
       "91423                   8700 Research in Austin (TX)    Public Assist   \n",
       "4344               8700 Research Blvd in Austin (TX)    Public Assist   \n",
       "71055                                    Austin (TX)  Owner Surrender   \n",
       "96671             12034 Research Blvd in Austin (TX)    Public Assist   \n",
       "\n",
       "      Intake Condition Animal Type Sex upon Intake Age upon Intake  \\\n",
       "20233           Normal         Dog   Neutered Male        10 years   \n",
       "91423           Normal         Dog   Neutered Male         6 years   \n",
       "4344            Normal         Dog   Neutered Male         7 years   \n",
       "71055           Normal         Dog   Neutered Male        10 years   \n",
       "96671          Injured         Dog   Neutered Male        16 years   \n",
       "\n",
       "                      Breed         Color  \n",
       "20233  Spinone Italiano Mix  Yellow/White  \n",
       "91423  Spinone Italiano Mix  Yellow/White  \n",
       "4344   Spinone Italiano Mix  Yellow/White  \n",
       "71055             Dachshund      Tricolor  \n",
       "96671     Shetland Sheepdog   Brown/White  "
      ]
     },
     "execution_count": 39,
     "metadata": {},
     "output_type": "execute_result"
    }
   ],
   "source": [
    "austin_intakes.sort_values(by='Animal ID').head()"
   ]
  },
  {
   "cell_type": "code",
   "execution_count": 40,
   "metadata": {},
   "outputs": [
    {
     "data": {
      "text/plain": [
       "381"
      ]
     },
     "execution_count": 40,
     "metadata": {},
     "output_type": "execute_result"
    }
   ],
   "source": [
    "# 381 Animal IDs unique to outcomes df - over 76,000 present in both datasets\n",
    "in_id = set(austin_intakes['Animal ID'])\n",
    "out_id = set(austin_outcomes['Animal ID'])\n",
    "\n",
    "len(list(out_id.difference(in_id)))"
   ]
  },
  {
   "cell_type": "code",
   "execution_count": 41,
   "metadata": {},
   "outputs": [],
   "source": [
    "#List of all Animal IDs in austin outcomes and intakes (with duplicates - IDs in both lists not removed)\n",
    "\n",
    "austin_in_out_ids = list(in_id.union(out_id))"
   ]
  },
  {
   "cell_type": "code",
   "execution_count": 42,
   "metadata": {},
   "outputs": [
    {
     "data": {
      "text/plain": [
       "A721033    33\n",
       "A718223    14\n",
       "A718877    12\n",
       "A706536    11\n",
       "A761266     9\n",
       "A737814     9\n",
       "A717053     9\n",
       "A700407     9\n",
       "A716018     9\n",
       "A616444     9\n",
       "Name: Animal ID, dtype: int64"
      ]
     },
     "execution_count": 42,
     "metadata": {},
     "output_type": "execute_result"
    }
   ],
   "source": [
    "# A few dogs are in the system a lot\n",
    "austin_intakes['Animal ID'].value_counts().sort_values(ascending=False).head(10)"
   ]
  },
  {
   "cell_type": "markdown",
   "metadata": {},
   "source": [
    "### Convert DateTime to epoch"
   ]
  },
  {
   "cell_type": "code",
   "execution_count": 43,
   "metadata": {},
   "outputs": [
    {
     "data": {
      "text/html": [
       "<div>\n",
       "<style scoped>\n",
       "    .dataframe tbody tr th:only-of-type {\n",
       "        vertical-align: middle;\n",
       "    }\n",
       "\n",
       "    .dataframe tbody tr th {\n",
       "        vertical-align: top;\n",
       "    }\n",
       "\n",
       "    .dataframe thead th {\n",
       "        text-align: right;\n",
       "    }\n",
       "</style>\n",
       "<table border=\"1\" class=\"dataframe\">\n",
       "  <thead>\n",
       "    <tr style=\"text-align: right;\">\n",
       "      <th></th>\n",
       "      <th>DateTime</th>\n",
       "    </tr>\n",
       "  </thead>\n",
       "  <tbody>\n",
       "    <tr>\n",
       "      <th>0</th>\n",
       "      <td>01/03/2019 04:19:00 PM</td>\n",
       "    </tr>\n",
       "    <tr>\n",
       "      <th>1</th>\n",
       "      <td>07/05/2015 12:59:00 PM</td>\n",
       "    </tr>\n",
       "    <tr>\n",
       "      <th>2</th>\n",
       "      <td>04/14/2016 06:43:00 PM</td>\n",
       "    </tr>\n",
       "    <tr>\n",
       "      <th>4</th>\n",
       "      <td>06/29/2014 10:38:00 AM</td>\n",
       "    </tr>\n",
       "    <tr>\n",
       "      <th>5</th>\n",
       "      <td>02/18/2017 12:46:00 PM</td>\n",
       "    </tr>\n",
       "  </tbody>\n",
       "</table>\n",
       "</div>"
      ],
      "text/plain": [
       "                 DateTime\n",
       "0  01/03/2019 04:19:00 PM\n",
       "1  07/05/2015 12:59:00 PM\n",
       "2  04/14/2016 06:43:00 PM\n",
       "4  06/29/2014 10:38:00 AM\n",
       "5  02/18/2017 12:46:00 PM"
      ]
     },
     "execution_count": 43,
     "metadata": {},
     "output_type": "execute_result"
    }
   ],
   "source": [
    "austin_intakes[['DateTime']].head()"
   ]
  },
  {
   "cell_type": "code",
   "execution_count": 44,
   "metadata": {},
   "outputs": [],
   "source": [
    "austin_intakes['DateTime'] = pd.to_datetime(austin_intakes['DateTime']).apply(lambda x: x.timestamp())"
   ]
  },
  {
   "cell_type": "code",
   "execution_count": 45,
   "metadata": {},
   "outputs": [
    {
     "data": {
      "text/html": [
       "<div>\n",
       "<style scoped>\n",
       "    .dataframe tbody tr th:only-of-type {\n",
       "        vertical-align: middle;\n",
       "    }\n",
       "\n",
       "    .dataframe tbody tr th {\n",
       "        vertical-align: top;\n",
       "    }\n",
       "\n",
       "    .dataframe thead th {\n",
       "        text-align: right;\n",
       "    }\n",
       "</style>\n",
       "<table border=\"1\" class=\"dataframe\">\n",
       "  <thead>\n",
       "    <tr style=\"text-align: right;\">\n",
       "      <th></th>\n",
       "      <th>Animal ID</th>\n",
       "      <th>Name</th>\n",
       "      <th>DateTime</th>\n",
       "      <th>MonthYear</th>\n",
       "      <th>Found Location</th>\n",
       "      <th>Intake Type</th>\n",
       "      <th>Intake Condition</th>\n",
       "      <th>Animal Type</th>\n",
       "      <th>Sex upon Intake</th>\n",
       "      <th>Age upon Intake</th>\n",
       "      <th>Breed</th>\n",
       "      <th>Color</th>\n",
       "    </tr>\n",
       "  </thead>\n",
       "  <tbody>\n",
       "    <tr>\n",
       "      <th>72982</th>\n",
       "      <td>A521520</td>\n",
       "      <td>Nina</td>\n",
       "      <td>1.380614e+09</td>\n",
       "      <td>October 2013</td>\n",
       "      <td>Norht Ec in Austin (TX)</td>\n",
       "      <td>Stray</td>\n",
       "      <td>Normal</td>\n",
       "      <td>Dog</td>\n",
       "      <td>Spayed Female</td>\n",
       "      <td>7 years</td>\n",
       "      <td>Border Terrier/Border Collie</td>\n",
       "      <td>White/Tan</td>\n",
       "    </tr>\n",
       "    <tr>\n",
       "      <th>117677</th>\n",
       "      <td>A664233</td>\n",
       "      <td>Stevie</td>\n",
       "      <td>1.380618e+09</td>\n",
       "      <td>October 2013</td>\n",
       "      <td>7405 Springtime in Austin (TX)</td>\n",
       "      <td>Stray</td>\n",
       "      <td>Injured</td>\n",
       "      <td>Dog</td>\n",
       "      <td>Intact Female</td>\n",
       "      <td>3 years</td>\n",
       "      <td>Pit Bull Mix</td>\n",
       "      <td>Blue/White</td>\n",
       "    </tr>\n",
       "    <tr>\n",
       "      <th>4788</th>\n",
       "      <td>A664234</td>\n",
       "      <td>NaN</td>\n",
       "      <td>1.380624e+09</td>\n",
       "      <td>October 2013</td>\n",
       "      <td>5400 Jimmy Clay in Austin (TX)</td>\n",
       "      <td>Stray</td>\n",
       "      <td>Injured</td>\n",
       "      <td>Dog</td>\n",
       "      <td>Intact Male</td>\n",
       "      <td>8 years</td>\n",
       "      <td>Border Collie Mix</td>\n",
       "      <td>Black/White</td>\n",
       "    </tr>\n",
       "    <tr>\n",
       "      <th>89334</th>\n",
       "      <td>A664257</td>\n",
       "      <td>Pippin</td>\n",
       "      <td>1.380625e+09</td>\n",
       "      <td>October 2013</td>\n",
       "      <td>Burleson in Travis (TX)</td>\n",
       "      <td>Stray</td>\n",
       "      <td>Normal</td>\n",
       "      <td>Dog</td>\n",
       "      <td>Intact Female</td>\n",
       "      <td>4 years</td>\n",
       "      <td>Podengo Pequeno Mix</td>\n",
       "      <td>Black</td>\n",
       "    </tr>\n",
       "    <tr>\n",
       "      <th>24042</th>\n",
       "      <td>A664266</td>\n",
       "      <td>NaN</td>\n",
       "      <td>1.380626e+09</td>\n",
       "      <td>October 2013</td>\n",
       "      <td>Payton And 183 in Austin (TX)</td>\n",
       "      <td>Stray</td>\n",
       "      <td>Normal</td>\n",
       "      <td>Dog</td>\n",
       "      <td>Intact Female</td>\n",
       "      <td>1 year</td>\n",
       "      <td>Chihuahua Shorthair Mix</td>\n",
       "      <td>Buff</td>\n",
       "    </tr>\n",
       "  </tbody>\n",
       "</table>\n",
       "</div>"
      ],
      "text/plain": [
       "       Animal ID    Name      DateTime     MonthYear  \\\n",
       "72982    A521520    Nina  1.380614e+09  October 2013   \n",
       "117677   A664233  Stevie  1.380618e+09  October 2013   \n",
       "4788     A664234     NaN  1.380624e+09  October 2013   \n",
       "89334    A664257  Pippin  1.380625e+09  October 2013   \n",
       "24042    A664266     NaN  1.380626e+09  October 2013   \n",
       "\n",
       "                        Found Location Intake Type Intake Condition  \\\n",
       "72982          Norht Ec in Austin (TX)       Stray           Normal   \n",
       "117677  7405 Springtime in Austin (TX)       Stray          Injured   \n",
       "4788    5400 Jimmy Clay in Austin (TX)       Stray          Injured   \n",
       "89334          Burleson in Travis (TX)       Stray           Normal   \n",
       "24042    Payton And 183 in Austin (TX)       Stray           Normal   \n",
       "\n",
       "       Animal Type Sex upon Intake Age upon Intake  \\\n",
       "72982          Dog   Spayed Female         7 years   \n",
       "117677         Dog   Intact Female         3 years   \n",
       "4788           Dog     Intact Male         8 years   \n",
       "89334          Dog   Intact Female         4 years   \n",
       "24042          Dog   Intact Female          1 year   \n",
       "\n",
       "                               Breed        Color  \n",
       "72982   Border Terrier/Border Collie    White/Tan  \n",
       "117677                  Pit Bull Mix   Blue/White  \n",
       "4788               Border Collie Mix  Black/White  \n",
       "89334            Podengo Pequeno Mix        Black  \n",
       "24042        Chihuahua Shorthair Mix         Buff  "
      ]
     },
     "execution_count": 45,
     "metadata": {},
     "output_type": "execute_result"
    }
   ],
   "source": [
    "austin_intakes.sort_values(by='DateTime').head()"
   ]
  },
  {
   "cell_type": "code",
   "execution_count": 46,
   "metadata": {},
   "outputs": [],
   "source": [
    "austin_outcomes['DateTime'] = pd.to_datetime(austin_outcomes['DateTime']).apply(lambda x: x.timestamp())"
   ]
  },
  {
   "cell_type": "markdown",
   "metadata": {},
   "source": [
    "## Merge Intake & Outcome Frames"
   ]
  },
  {
   "cell_type": "code",
   "execution_count": 47,
   "metadata": {},
   "outputs": [
    {
     "data": {
      "text/html": [
       "<div>\n",
       "<style scoped>\n",
       "    .dataframe tbody tr th:only-of-type {\n",
       "        vertical-align: middle;\n",
       "    }\n",
       "\n",
       "    .dataframe tbody tr th {\n",
       "        vertical-align: top;\n",
       "    }\n",
       "\n",
       "    .dataframe thead th {\n",
       "        text-align: right;\n",
       "    }\n",
       "</style>\n",
       "<table border=\"1\" class=\"dataframe\">\n",
       "  <thead>\n",
       "    <tr style=\"text-align: right;\">\n",
       "      <th></th>\n",
       "      <th>Animal ID</th>\n",
       "      <th>Name</th>\n",
       "      <th>DateTime</th>\n",
       "      <th>MonthYear</th>\n",
       "      <th>Found Location</th>\n",
       "      <th>Intake Type</th>\n",
       "      <th>Intake Condition</th>\n",
       "      <th>Animal Type</th>\n",
       "      <th>Sex upon Intake</th>\n",
       "      <th>Age upon Intake</th>\n",
       "      <th>Breed</th>\n",
       "      <th>Color</th>\n",
       "    </tr>\n",
       "  </thead>\n",
       "  <tbody>\n",
       "    <tr>\n",
       "      <th>0</th>\n",
       "      <td>A786884</td>\n",
       "      <td>*Brock</td>\n",
       "      <td>1.546532e+09</td>\n",
       "      <td>January 2019</td>\n",
       "      <td>2501 Magin Meadow Dr in Austin (TX)</td>\n",
       "      <td>Stray</td>\n",
       "      <td>Normal</td>\n",
       "      <td>Dog</td>\n",
       "      <td>Neutered Male</td>\n",
       "      <td>2 years</td>\n",
       "      <td>Beagle Mix</td>\n",
       "      <td>Tricolor</td>\n",
       "    </tr>\n",
       "    <tr>\n",
       "      <th>1</th>\n",
       "      <td>A706918</td>\n",
       "      <td>Belle</td>\n",
       "      <td>1.436101e+09</td>\n",
       "      <td>July 2015</td>\n",
       "      <td>9409 Bluegrass Dr in Austin (TX)</td>\n",
       "      <td>Stray</td>\n",
       "      <td>Normal</td>\n",
       "      <td>Dog</td>\n",
       "      <td>Spayed Female</td>\n",
       "      <td>8 years</td>\n",
       "      <td>English Springer Spaniel</td>\n",
       "      <td>White/Liver</td>\n",
       "    </tr>\n",
       "    <tr>\n",
       "      <th>2</th>\n",
       "      <td>A724273</td>\n",
       "      <td>Runster</td>\n",
       "      <td>1.460659e+09</td>\n",
       "      <td>April 2016</td>\n",
       "      <td>2818 Palomino Trail in Austin (TX)</td>\n",
       "      <td>Stray</td>\n",
       "      <td>Normal</td>\n",
       "      <td>Dog</td>\n",
       "      <td>Intact Male</td>\n",
       "      <td>11 months</td>\n",
       "      <td>Basenji Mix</td>\n",
       "      <td>Sable/White</td>\n",
       "    </tr>\n",
       "  </tbody>\n",
       "</table>\n",
       "</div>"
      ],
      "text/plain": [
       "  Animal ID     Name      DateTime     MonthYear  \\\n",
       "0   A786884   *Brock  1.546532e+09  January 2019   \n",
       "1   A706918    Belle  1.436101e+09     July 2015   \n",
       "2   A724273  Runster  1.460659e+09    April 2016   \n",
       "\n",
       "                        Found Location Intake Type Intake Condition  \\\n",
       "0  2501 Magin Meadow Dr in Austin (TX)       Stray           Normal   \n",
       "1     9409 Bluegrass Dr in Austin (TX)       Stray           Normal   \n",
       "2   2818 Palomino Trail in Austin (TX)       Stray           Normal   \n",
       "\n",
       "  Animal Type Sex upon Intake Age upon Intake                     Breed  \\\n",
       "0         Dog   Neutered Male         2 years                Beagle Mix   \n",
       "1         Dog   Spayed Female         8 years  English Springer Spaniel   \n",
       "2         Dog     Intact Male       11 months               Basenji Mix   \n",
       "\n",
       "         Color  \n",
       "0     Tricolor  \n",
       "1  White/Liver  \n",
       "2  Sable/White  "
      ]
     },
     "execution_count": 47,
     "metadata": {},
     "output_type": "execute_result"
    }
   ],
   "source": [
    "austin_intakes.head(3)"
   ]
  },
  {
   "cell_type": "code",
   "execution_count": 48,
   "metadata": {},
   "outputs": [],
   "source": [
    "austin_intakes.drop(columns=['MonthYear', 'Animal Type'], inplace=True)\n",
    "austin_outcomes.drop(columns=['MonthYear', 'Animal Type'], inplace=True)"
   ]
  },
  {
   "cell_type": "code",
   "execution_count": 49,
   "metadata": {},
   "outputs": [
    {
     "data": {
      "text/plain": [
       "Stray                 52853\n",
       "Owner Surrender       16804\n",
       "Public Assist          6612\n",
       "Abandoned               316\n",
       "Euthanasia Request      183\n",
       "Wildlife                  1\n",
       "Name: Intake Type, dtype: int64"
      ]
     },
     "execution_count": 49,
     "metadata": {},
     "output_type": "execute_result"
    }
   ],
   "source": [
    "austin_intakes['Intake Type'].value_counts()"
   ]
  },
  {
   "cell_type": "code",
   "execution_count": 50,
   "metadata": {},
   "outputs": [],
   "source": [
    "austin_intakes.sort_values(by=['Animal ID', 'DateTime'], inplace=True)\n",
    "austin_intakes.reset_index(drop=True, inplace=True)"
   ]
  },
  {
   "cell_type": "code",
   "execution_count": 51,
   "metadata": {},
   "outputs": [],
   "source": [
    "austin_outcomes.sort_values(by=['Animal ID', 'DateTime'], inplace=True)\n",
    "austin_outcomes.reset_index(drop=True, inplace=True)"
   ]
  },
  {
   "cell_type": "code",
   "execution_count": 52,
   "metadata": {},
   "outputs": [
    {
     "data": {
      "text/html": [
       "<div>\n",
       "<style scoped>\n",
       "    .dataframe tbody tr th:only-of-type {\n",
       "        vertical-align: middle;\n",
       "    }\n",
       "\n",
       "    .dataframe tbody tr th {\n",
       "        vertical-align: top;\n",
       "    }\n",
       "\n",
       "    .dataframe thead th {\n",
       "        text-align: right;\n",
       "    }\n",
       "</style>\n",
       "<table border=\"1\" class=\"dataframe\">\n",
       "  <thead>\n",
       "    <tr style=\"text-align: right;\">\n",
       "      <th></th>\n",
       "      <th>Animal ID</th>\n",
       "      <th>Name</th>\n",
       "      <th>DateTime</th>\n",
       "      <th>Found Location</th>\n",
       "      <th>Intake Type</th>\n",
       "      <th>Intake Condition</th>\n",
       "      <th>Sex upon Intake</th>\n",
       "      <th>Age upon Intake</th>\n",
       "      <th>Breed</th>\n",
       "      <th>Color</th>\n",
       "    </tr>\n",
       "  </thead>\n",
       "  <tbody>\n",
       "    <tr>\n",
       "      <th>0</th>\n",
       "      <td>A006100</td>\n",
       "      <td>Scamp</td>\n",
       "      <td>1.394202e+09</td>\n",
       "      <td>8700 Research in Austin (TX)</td>\n",
       "      <td>Public Assist</td>\n",
       "      <td>Normal</td>\n",
       "      <td>Neutered Male</td>\n",
       "      <td>6 years</td>\n",
       "      <td>Spinone Italiano Mix</td>\n",
       "      <td>Yellow/White</td>\n",
       "    </tr>\n",
       "    <tr>\n",
       "      <th>1</th>\n",
       "      <td>A006100</td>\n",
       "      <td>Scamp</td>\n",
       "      <td>1.418984e+09</td>\n",
       "      <td>8700 Research Blvd in Austin (TX)</td>\n",
       "      <td>Public Assist</td>\n",
       "      <td>Normal</td>\n",
       "      <td>Neutered Male</td>\n",
       "      <td>7 years</td>\n",
       "      <td>Spinone Italiano Mix</td>\n",
       "      <td>Yellow/White</td>\n",
       "    </tr>\n",
       "    <tr>\n",
       "      <th>2</th>\n",
       "      <td>A006100</td>\n",
       "      <td>Scamp</td>\n",
       "      <td>1.512656e+09</td>\n",
       "      <td>Colony Creek And Hunters Trace in Austin (TX)</td>\n",
       "      <td>Stray</td>\n",
       "      <td>Normal</td>\n",
       "      <td>Neutered Male</td>\n",
       "      <td>10 years</td>\n",
       "      <td>Spinone Italiano Mix</td>\n",
       "      <td>Yellow/White</td>\n",
       "    </tr>\n",
       "  </tbody>\n",
       "</table>\n",
       "</div>"
      ],
      "text/plain": [
       "  Animal ID   Name      DateTime  \\\n",
       "0   A006100  Scamp  1.394202e+09   \n",
       "1   A006100  Scamp  1.418984e+09   \n",
       "2   A006100  Scamp  1.512656e+09   \n",
       "\n",
       "                                  Found Location    Intake Type  \\\n",
       "0                   8700 Research in Austin (TX)  Public Assist   \n",
       "1              8700 Research Blvd in Austin (TX)  Public Assist   \n",
       "2  Colony Creek And Hunters Trace in Austin (TX)          Stray   \n",
       "\n",
       "  Intake Condition Sex upon Intake Age upon Intake                 Breed  \\\n",
       "0           Normal   Neutered Male         6 years  Spinone Italiano Mix   \n",
       "1           Normal   Neutered Male         7 years  Spinone Italiano Mix   \n",
       "2           Normal   Neutered Male        10 years  Spinone Italiano Mix   \n",
       "\n",
       "          Color  \n",
       "0  Yellow/White  \n",
       "1  Yellow/White  \n",
       "2  Yellow/White  "
      ]
     },
     "execution_count": 52,
     "metadata": {},
     "output_type": "execute_result"
    }
   ],
   "source": [
    "austin_intakes.head(3)"
   ]
  },
  {
   "cell_type": "code",
   "execution_count": 53,
   "metadata": {},
   "outputs": [
    {
     "data": {
      "text/html": [
       "<div>\n",
       "<style scoped>\n",
       "    .dataframe tbody tr th:only-of-type {\n",
       "        vertical-align: middle;\n",
       "    }\n",
       "\n",
       "    .dataframe tbody tr th {\n",
       "        vertical-align: top;\n",
       "    }\n",
       "\n",
       "    .dataframe thead th {\n",
       "        text-align: right;\n",
       "    }\n",
       "</style>\n",
       "<table border=\"1\" class=\"dataframe\">\n",
       "  <thead>\n",
       "    <tr style=\"text-align: right;\">\n",
       "      <th></th>\n",
       "      <th>Animal ID</th>\n",
       "      <th>Name</th>\n",
       "      <th>DateTime</th>\n",
       "      <th>Date of Birth</th>\n",
       "      <th>Outcome Type</th>\n",
       "      <th>Outcome Subtype</th>\n",
       "      <th>Sex upon Outcome</th>\n",
       "      <th>Age upon Outcome</th>\n",
       "      <th>Breed</th>\n",
       "      <th>Color</th>\n",
       "    </tr>\n",
       "  </thead>\n",
       "  <tbody>\n",
       "    <tr>\n",
       "      <th>0</th>\n",
       "      <td>A006100</td>\n",
       "      <td>Scamp</td>\n",
       "      <td>1.394299e+09</td>\n",
       "      <td>07/09/2007</td>\n",
       "      <td>Return to Owner</td>\n",
       "      <td>NaN</td>\n",
       "      <td>Neutered Male</td>\n",
       "      <td>6 years</td>\n",
       "      <td>Spinone Italiano Mix</td>\n",
       "      <td>Yellow/White</td>\n",
       "    </tr>\n",
       "    <tr>\n",
       "      <th>1</th>\n",
       "      <td>A006100</td>\n",
       "      <td>Scamp</td>\n",
       "      <td>1.419093e+09</td>\n",
       "      <td>07/09/2007</td>\n",
       "      <td>Return to Owner</td>\n",
       "      <td>NaN</td>\n",
       "      <td>Neutered Male</td>\n",
       "      <td>7 years</td>\n",
       "      <td>Spinone Italiano Mix</td>\n",
       "      <td>Yellow/White</td>\n",
       "    </tr>\n",
       "    <tr>\n",
       "      <th>2</th>\n",
       "      <td>A006100</td>\n",
       "      <td>Scamp</td>\n",
       "      <td>1.512605e+09</td>\n",
       "      <td>07/09/2007</td>\n",
       "      <td>Return to Owner</td>\n",
       "      <td>NaN</td>\n",
       "      <td>Neutered Male</td>\n",
       "      <td>10 years</td>\n",
       "      <td>Spinone Italiano Mix</td>\n",
       "      <td>Yellow/White</td>\n",
       "    </tr>\n",
       "  </tbody>\n",
       "</table>\n",
       "</div>"
      ],
      "text/plain": [
       "  Animal ID   Name      DateTime Date of Birth     Outcome Type  \\\n",
       "0   A006100  Scamp  1.394299e+09    07/09/2007  Return to Owner   \n",
       "1   A006100  Scamp  1.419093e+09    07/09/2007  Return to Owner   \n",
       "2   A006100  Scamp  1.512605e+09    07/09/2007  Return to Owner   \n",
       "\n",
       "  Outcome Subtype Sex upon Outcome Age upon Outcome                 Breed  \\\n",
       "0             NaN    Neutered Male          6 years  Spinone Italiano Mix   \n",
       "1             NaN    Neutered Male          7 years  Spinone Italiano Mix   \n",
       "2             NaN    Neutered Male         10 years  Spinone Italiano Mix   \n",
       "\n",
       "          Color  \n",
       "0  Yellow/White  \n",
       "1  Yellow/White  \n",
       "2  Yellow/White  "
      ]
     },
     "execution_count": 53,
     "metadata": {},
     "output_type": "execute_result"
    }
   ],
   "source": [
    "austin_outcomes.head(3)"
   ]
  },
  {
   "cell_type": "code",
   "execution_count": 54,
   "metadata": {},
   "outputs": [],
   "source": [
    "# count ins and outs\n",
    "in_count = austin_intakes['Animal ID'].value_counts()\n",
    "out_count = austin_outcomes['Animal ID'].value_counts()\n",
    "repeat_in = in_count[in_count > 1]\n",
    "repeat_out = out_count[out_count > 1]"
   ]
  },
  {
   "cell_type": "code",
   "execution_count": 55,
   "metadata": {},
   "outputs": [],
   "source": [
    "# separate ins\n",
    "repeat_in = austin_intakes[austin_intakes['Animal ID'].isin(list(repeat_in.index))].copy(deep=True)\n",
    "solo_in = austin_intakes[~austin_intakes['Animal ID'].isin(repeat_in['Animal ID'].unique())].copy(deep=True)"
   ]
  },
  {
   "cell_type": "code",
   "execution_count": 56,
   "metadata": {},
   "outputs": [],
   "source": [
    "# separate outs\n",
    "repeat_out = austin_outcomes[austin_outcomes['Animal ID'].isin(list(repeat_out.index))].copy(deep=True)\n",
    "solo_out = austin_outcomes[~austin_outcomes['Animal ID'].isin(repeat_out['Animal ID'].unique())].copy(deep=True)"
   ]
  },
  {
   "cell_type": "code",
   "execution_count": 57,
   "metadata": {},
   "outputs": [
    {
     "data": {
      "text/plain": [
       "444"
      ]
     },
     "execution_count": 57,
     "metadata": {},
     "output_type": "execute_result"
    }
   ],
   "source": [
    "solo_in.shape[0] - solo_in['Animal ID'].isin(solo_out['Animal ID']).sum()   # missing outcome data on only 444 dogs that appeared once in the sets"
   ]
  },
  {
   "cell_type": "markdown",
   "metadata": {},
   "source": [
    "### Merge Repeats"
   ]
  },
  {
   "cell_type": "code",
   "execution_count": 58,
   "metadata": {},
   "outputs": [
    {
     "data": {
      "text/plain": [
       "64"
      ]
     },
     "execution_count": 58,
     "metadata": {},
     "output_type": "execute_result"
    }
   ],
   "source": [
    "repeat_in.shape[0] - repeat_out.shape[0]    # probably only missing a few observations"
   ]
  },
  {
   "cell_type": "code",
   "execution_count": 59,
   "metadata": {},
   "outputs": [],
   "source": [
    "repeat_out.drop(columns=['Name', 'Breed', 'Color'], inplace=True)"
   ]
  },
  {
   "cell_type": "code",
   "execution_count": 60,
   "metadata": {},
   "outputs": [],
   "source": [
    "repeat_out.rename(columns={\n",
    "    'Animal ID': 'Animal ID',\n",
    "    'DateTime': 'date_out',\n",
    "    'Date of Birth': 'dob',\n",
    "    'Outcome Type': 'outcome',\n",
    "    'Outcome Subtype': 'outcome_sub',\n",
    "    'Sex upon Outcome': 'sex_out',\n",
    "    'Age upon Outcome': 'age_out'\n",
    "}, inplace=True)"
   ]
  },
  {
   "cell_type": "code",
   "execution_count": 61,
   "metadata": {},
   "outputs": [],
   "source": [
    "# storage\n",
    "in_hold = repeat_in.copy()\n",
    "in_hold.set_index('Animal ID', inplace=True)\n",
    "out_hold = repeat_out.copy()                                                                \n",
    "out_hold.set_index('Animal ID', inplace=True)\n",
    "\n",
    "# drop missing IDs\n",
    "in_hold.drop(list(set(in_hold.index).difference(set(out_hold.index))), inplace=True)\n",
    "out_hold.drop(list(set(out_hold.index).difference(set(in_hold.index))), inplace=True)\n",
    "\n",
    "# iterate\n",
    "for i in repeat_in['Animal ID'].unique():                                                   # select ids of intake animals\n",
    "    if i in set(repeat_out['Animal ID']):\n",
    "        ins = repeat_in[repeat_in['Animal ID'] == i]                                        # grab intake rows\n",
    "        outs = repeat_out[repeat_out['Animal ID'] == i]                                     # grab outcome rows\n",
    "\n",
    "        if ins.shape[0] != outs.shape[0]:                                                   # check if ins & outs match up\n",
    "            if i in set(in_hold.index):\n",
    "                in_hold.drop(i, inplace=True)\n",
    "            if i in set(out_hold.index):\n",
    "                out_hold.drop(i, inplace=True)\n",
    "\n"
   ]
  },
  {
   "cell_type": "code",
   "execution_count": 62,
   "metadata": {},
   "outputs": [],
   "source": [
    "repeat = pd.merge(left=in_hold, right=out_hold, how='left', on='Animal ID')\n",
    "repeat.reset_index(drop=False, inplace=True)"
   ]
  },
  {
   "cell_type": "markdown",
   "metadata": {},
   "source": [
    "### Merge Solos"
   ]
  },
  {
   "cell_type": "code",
   "execution_count": 63,
   "metadata": {},
   "outputs": [],
   "source": [
    "solo_in = solo_in[solo_in['Animal ID'].isin(solo_out['Animal ID'])].copy(deep=True) # drop missing solo outcomes"
   ]
  },
  {
   "cell_type": "code",
   "execution_count": 64,
   "metadata": {},
   "outputs": [],
   "source": [
    "solo_out.drop(columns=['Name', 'Breed', 'Color'], inplace=True)"
   ]
  },
  {
   "cell_type": "code",
   "execution_count": 65,
   "metadata": {},
   "outputs": [],
   "source": [
    "solo_out.rename(columns={\n",
    "    'Animal ID': 'Animal ID',\n",
    "    'DateTime': 'date_out',\n",
    "    'Date of Birth': 'dob',\n",
    "    'Outcome Type': 'outcome',\n",
    "    'Outcome Subtype': 'outcome_sub',\n",
    "    'Sex upon Outcome': 'sex_out',\n",
    "    'Age upon Outcome': 'age_out'\n",
    "}, inplace=True)"
   ]
  },
  {
   "cell_type": "code",
   "execution_count": 66,
   "metadata": {},
   "outputs": [],
   "source": [
    "solo = pd.merge(left=solo_in, right=solo_out, how='left', on='Animal ID')"
   ]
  },
  {
   "cell_type": "code",
   "execution_count": 67,
   "metadata": {},
   "outputs": [
    {
     "data": {
      "text/html": [
       "<div>\n",
       "<style scoped>\n",
       "    .dataframe tbody tr th:only-of-type {\n",
       "        vertical-align: middle;\n",
       "    }\n",
       "\n",
       "    .dataframe tbody tr th {\n",
       "        vertical-align: top;\n",
       "    }\n",
       "\n",
       "    .dataframe thead th {\n",
       "        text-align: right;\n",
       "    }\n",
       "</style>\n",
       "<table border=\"1\" class=\"dataframe\">\n",
       "  <thead>\n",
       "    <tr style=\"text-align: right;\">\n",
       "      <th></th>\n",
       "      <th>Animal ID</th>\n",
       "      <th>Name</th>\n",
       "      <th>DateTime</th>\n",
       "      <th>Found Location</th>\n",
       "      <th>Intake Type</th>\n",
       "      <th>Intake Condition</th>\n",
       "      <th>Sex upon Intake</th>\n",
       "      <th>Age upon Intake</th>\n",
       "      <th>Breed</th>\n",
       "      <th>Color</th>\n",
       "    </tr>\n",
       "  </thead>\n",
       "  <tbody>\n",
       "    <tr>\n",
       "      <th>0</th>\n",
       "      <td>A006100</td>\n",
       "      <td>Scamp</td>\n",
       "      <td>1.394202e+09</td>\n",
       "      <td>8700 Research in Austin (TX)</td>\n",
       "      <td>Public Assist</td>\n",
       "      <td>Normal</td>\n",
       "      <td>Neutered Male</td>\n",
       "      <td>6 years</td>\n",
       "      <td>Spinone Italiano Mix</td>\n",
       "      <td>Yellow/White</td>\n",
       "    </tr>\n",
       "    <tr>\n",
       "      <th>1</th>\n",
       "      <td>A006100</td>\n",
       "      <td>Scamp</td>\n",
       "      <td>1.418984e+09</td>\n",
       "      <td>8700 Research Blvd in Austin (TX)</td>\n",
       "      <td>Public Assist</td>\n",
       "      <td>Normal</td>\n",
       "      <td>Neutered Male</td>\n",
       "      <td>7 years</td>\n",
       "      <td>Spinone Italiano Mix</td>\n",
       "      <td>Yellow/White</td>\n",
       "    </tr>\n",
       "    <tr>\n",
       "      <th>2</th>\n",
       "      <td>A006100</td>\n",
       "      <td>Scamp</td>\n",
       "      <td>1.512656e+09</td>\n",
       "      <td>Colony Creek And Hunters Trace in Austin (TX)</td>\n",
       "      <td>Stray</td>\n",
       "      <td>Normal</td>\n",
       "      <td>Neutered Male</td>\n",
       "      <td>10 years</td>\n",
       "      <td>Spinone Italiano Mix</td>\n",
       "      <td>Yellow/White</td>\n",
       "    </tr>\n",
       "    <tr>\n",
       "      <th>25</th>\n",
       "      <td>A245945</td>\n",
       "      <td>Boomer</td>\n",
       "      <td>1.404410e+09</td>\n",
       "      <td>Garden And Mildred in Austin (TX)</td>\n",
       "      <td>Stray</td>\n",
       "      <td>Normal</td>\n",
       "      <td>Neutered Male</td>\n",
       "      <td>14 years</td>\n",
       "      <td>Labrador Retriever Mix</td>\n",
       "      <td>Tan</td>\n",
       "    </tr>\n",
       "    <tr>\n",
       "      <th>26</th>\n",
       "      <td>A245945</td>\n",
       "      <td>Boomer</td>\n",
       "      <td>1.432161e+09</td>\n",
       "      <td>7403 Blessing Ave in Austin (TX)</td>\n",
       "      <td>Stray</td>\n",
       "      <td>Normal</td>\n",
       "      <td>Neutered Male</td>\n",
       "      <td>15 years</td>\n",
       "      <td>Labrador Retriever Mix</td>\n",
       "      <td>Tan</td>\n",
       "    </tr>\n",
       "  </tbody>\n",
       "</table>\n",
       "</div>"
      ],
      "text/plain": [
       "   Animal ID    Name      DateTime  \\\n",
       "0    A006100   Scamp  1.394202e+09   \n",
       "1    A006100   Scamp  1.418984e+09   \n",
       "2    A006100   Scamp  1.512656e+09   \n",
       "25   A245945  Boomer  1.404410e+09   \n",
       "26   A245945  Boomer  1.432161e+09   \n",
       "\n",
       "                                   Found Location    Intake Type  \\\n",
       "0                    8700 Research in Austin (TX)  Public Assist   \n",
       "1               8700 Research Blvd in Austin (TX)  Public Assist   \n",
       "2   Colony Creek And Hunters Trace in Austin (TX)          Stray   \n",
       "25              Garden And Mildred in Austin (TX)          Stray   \n",
       "26               7403 Blessing Ave in Austin (TX)          Stray   \n",
       "\n",
       "   Intake Condition Sex upon Intake Age upon Intake                   Breed  \\\n",
       "0            Normal   Neutered Male         6 years    Spinone Italiano Mix   \n",
       "1            Normal   Neutered Male         7 years    Spinone Italiano Mix   \n",
       "2            Normal   Neutered Male        10 years    Spinone Italiano Mix   \n",
       "25           Normal   Neutered Male        14 years  Labrador Retriever Mix   \n",
       "26           Normal   Neutered Male        15 years  Labrador Retriever Mix   \n",
       "\n",
       "           Color  \n",
       "0   Yellow/White  \n",
       "1   Yellow/White  \n",
       "2   Yellow/White  \n",
       "25           Tan  \n",
       "26           Tan  "
      ]
     },
     "execution_count": 67,
     "metadata": {},
     "output_type": "execute_result"
    }
   ],
   "source": [
    "repeat_in.head()"
   ]
  },
  {
   "cell_type": "markdown",
   "metadata": {},
   "source": [
    "### Merge Solo & Repeats"
   ]
  },
  {
   "cell_type": "code",
   "execution_count": 68,
   "metadata": {},
   "outputs": [
    {
     "data": {
      "text/plain": [
       "(110483, 16)"
      ]
     },
     "execution_count": 68,
     "metadata": {},
     "output_type": "execute_result"
    }
   ],
   "source": [
    "austin = pd.concat([solo, repeat], axis=0, ignore_index=True)\n",
    "austin.reset_index(drop=True, inplace=True)\n",
    "austin.shape"
   ]
  },
  {
   "cell_type": "code",
   "execution_count": 69,
   "metadata": {},
   "outputs": [],
   "source": [
    "austin.rename(columns={\n",
    "    'Animal ID': 'id',\n",
    "    'Name': 'name',\n",
    "    'DateTime': 'date_in',\n",
    "    'Found Location': 'location',\n",
    "    'Intake Type': 'intake_type',\n",
    "    'Intake Condition': 'condition',\n",
    "    'Sex upon Intake': 'sex_in',\n",
    "    'Age upon Intake': 'age_in',\n",
    "    'Breed': 'breed',\n",
    "    'Color': 'color'\n",
    "}, inplace=True)"
   ]
  },
  {
   "cell_type": "markdown",
   "metadata": {},
   "source": [
    "### Drop NA"
   ]
  },
  {
   "cell_type": "code",
   "execution_count": 70,
   "metadata": {},
   "outputs": [],
   "source": [
    "austin = austin[austin['outcome'].notna()].copy(deep=True)"
   ]
  },
  {
   "cell_type": "markdown",
   "metadata": {},
   "source": [
    "### Impute Missing"
   ]
  },
  {
   "cell_type": "code",
   "execution_count": 71,
   "metadata": {},
   "outputs": [
    {
     "data": {
      "text/plain": [
       "Intact Male      32299\n",
       "Neutered Male    28636\n",
       "Intact Female    27294\n",
       "Spayed Female    21717\n",
       "Unknown            510\n",
       "Name: sex_in, dtype: int64"
      ]
     },
     "execution_count": 71,
     "metadata": {},
     "output_type": "execute_result"
    }
   ],
   "source": [
    "austin['sex_in'].value_counts()"
   ]
  },
  {
   "cell_type": "code",
   "execution_count": 72,
   "metadata": {},
   "outputs": [],
   "source": [
    "austin['sex_in'].fillna('Intact Male', inplace=True)"
   ]
  },
  {
   "cell_type": "code",
   "execution_count": 73,
   "metadata": {},
   "outputs": [
    {
     "data": {
      "text/plain": [
       "Neutered Male    49564\n",
       "Spayed Female    39679\n",
       "Intact Male      11371\n",
       "Intact Female     9332\n",
       "Unknown            510\n",
       "Name: sex_out, dtype: int64"
      ]
     },
     "execution_count": 73,
     "metadata": {},
     "output_type": "execute_result"
    }
   ],
   "source": [
    "austin['sex_out'].value_counts()"
   ]
  },
  {
   "cell_type": "code",
   "execution_count": 74,
   "metadata": {},
   "outputs": [],
   "source": [
    "austin['sex_out'].fillna('Neutered Male', inplace=True)"
   ]
  },
  {
   "cell_type": "code",
   "execution_count": 75,
   "metadata": {},
   "outputs": [
    {
     "data": {
      "text/plain": [
       "1 year      21968\n",
       "2 years     21499\n",
       "3 years     10283\n",
       "2 months     7429\n",
       "4 years      6221\n",
       "Name: age_out, dtype: int64"
      ]
     },
     "execution_count": 75,
     "metadata": {},
     "output_type": "execute_result"
    }
   ],
   "source": [
    "austin['age_out'].value_counts()[:5]"
   ]
  },
  {
   "cell_type": "code",
   "execution_count": 76,
   "metadata": {},
   "outputs": [],
   "source": [
    "austin['age_out'].fillna('1 year', inplace=True)"
   ]
  },
  {
   "cell_type": "code",
   "execution_count": 77,
   "metadata": {},
   "outputs": [],
   "source": [
    "austin.reset_index(drop=True, inplace=True)"
   ]
  },
  {
   "cell_type": "code",
   "execution_count": 78,
   "metadata": {},
   "outputs": [],
   "source": [
    "# convert month to decimil\n",
    "austin.loc[austin[austin['age_out'].str.contains('month')].index.values, 'age_out'] = austin['age_out'][austin['age_out'].str.contains('month')].apply(lambda x: str(int(x.split()[0])/12))\n",
    "austin.loc[austin[austin['age_in'].str.contains('month')].index.values, 'age_in'] = austin['age_in'][austin['age_in'].str.contains('month')].apply(lambda x: str(int(x.split()[0])/12))"
   ]
  },
  {
   "cell_type": "code",
   "execution_count": 79,
   "metadata": {},
   "outputs": [],
   "source": [
    "# convert week to decimil\n",
    "austin.loc[austin[austin['age_out'].str.contains('week')].index.values, 'age_out'] = austin['age_out'][austin['age_out'].str.contains('week')].apply(lambda x: str(int(x.split()[0])/52))\n",
    "austin.loc[austin[austin['age_in'].str.contains('week')].index.values, 'age_in'] = austin['age_in'][austin['age_in'].str.contains('week')].apply(lambda x: str(int(x.split()[0])/52))"
   ]
  },
  {
   "cell_type": "code",
   "execution_count": 80,
   "metadata": {},
   "outputs": [],
   "source": [
    "# convert day to decimil\n",
    "austin.loc[austin[austin['age_out'].str.contains('day')].index.values, 'age_out'] = austin['age_out'][austin['age_out'].str.contains('day')].apply(lambda x: str(int(x.split()[0])/365))\n",
    "austin.loc[austin[austin['age_in'].str.contains('day')].index.values, 'age_in'] = austin['age_in'][austin['age_in'].str.contains('day')].apply(lambda x: str(int(x.split()[0])/365))"
   ]
  },
  {
   "cell_type": "code",
   "execution_count": 81,
   "metadata": {},
   "outputs": [],
   "source": [
    "# drop 'years'\n",
    "austin.loc[austin[austin['age_out'].str.contains('year')].index.values, 'age_out'] = austin['age_out'][austin['age_out'].str.contains('year')].apply(lambda x: str(x.split()[0]))\n",
    "austin.loc[austin[austin['age_in'].str.contains('year')].index.values, 'age_in'] = austin['age_in'][austin['age_in'].str.contains('year')].apply(lambda x: str(x.split()[0]))"
   ]
  },
  {
   "cell_type": "code",
   "execution_count": 82,
   "metadata": {},
   "outputs": [],
   "source": [
    "# fix negative numbers\n",
    "austin['age_out'] = austin['age_out'].str.replace('-', '')\n",
    "austin['age_in'] = austin['age_in'].str.replace('-', '')"
   ]
  },
  {
   "cell_type": "code",
   "execution_count": 83,
   "metadata": {},
   "outputs": [],
   "source": [
    "austin['age_out'] = round(austin['age_out'].astype(float), 2)\n",
    "austin['age_in'] = round(austin['age_in'].astype(float), 2)"
   ]
  },
  {
   "cell_type": "code",
   "execution_count": 84,
   "metadata": {},
   "outputs": [
    {
     "data": {
      "text/plain": [
       "Intact Male      32300\n",
       "Neutered Male    28636\n",
       "Intact Female    27294\n",
       "Spayed Female    21717\n",
       "Unknown            510\n",
       "Name: sex_in, dtype: int64"
      ]
     },
     "execution_count": 84,
     "metadata": {},
     "output_type": "execute_result"
    }
   ],
   "source": [
    "austin['sex_in'].value_counts()"
   ]
  },
  {
   "cell_type": "code",
   "execution_count": 85,
   "metadata": {},
   "outputs": [],
   "source": [
    "austin['sex'] = austin['sex_in'].map({\n",
    "    'Intact Male': 1,\n",
    "    'Neutered Male': 1,\n",
    "    'Intact Female': 0,\n",
    "    'Spayed Female': 0,\n",
    "    'Unknown': 1\n",
    "})"
   ]
  },
  {
   "cell_type": "code",
   "execution_count": 86,
   "metadata": {},
   "outputs": [],
   "source": [
    "austin['intact_in'] = austin['sex_in'].map({\n",
    "    'Intact Male': 1,\n",
    "    'Neutered Male': 0,\n",
    "    'Intact Female': 1,\n",
    "    'Spayed Female': 0,\n",
    "    'Unknown': 1\n",
    "})"
   ]
  },
  {
   "cell_type": "code",
   "execution_count": 87,
   "metadata": {},
   "outputs": [],
   "source": [
    "austin['intact_out'] = austin['sex_out'].map({\n",
    "    'Intact Male': 1,\n",
    "    'Neutered Male': 0,\n",
    "    'Intact Female': 1,\n",
    "    'Spayed Female': 0,\n",
    "    'Unknown': 1\n",
    "})"
   ]
  },
  {
   "cell_type": "code",
   "execution_count": 88,
   "metadata": {},
   "outputs": [],
   "source": [
    "austin['dob'] = pd.to_datetime(austin['dob']).apply(lambda x: x.timestamp())"
   ]
  },
  {
   "cell_type": "code",
   "execution_count": 89,
   "metadata": {},
   "outputs": [],
   "source": [
    "austin.drop(columns=['sex_in', 'sex_out'], inplace=True)"
   ]
  },
  {
   "cell_type": "code",
   "execution_count": 90,
   "metadata": {},
   "outputs": [
    {
     "data": {
      "text/html": [
       "<div>\n",
       "<style scoped>\n",
       "    .dataframe tbody tr th:only-of-type {\n",
       "        vertical-align: middle;\n",
       "    }\n",
       "\n",
       "    .dataframe tbody tr th {\n",
       "        vertical-align: top;\n",
       "    }\n",
       "\n",
       "    .dataframe thead th {\n",
       "        text-align: right;\n",
       "    }\n",
       "</style>\n",
       "<table border=\"1\" class=\"dataframe\">\n",
       "  <thead>\n",
       "    <tr style=\"text-align: right;\">\n",
       "      <th></th>\n",
       "      <th>id</th>\n",
       "      <th>name</th>\n",
       "      <th>date_in</th>\n",
       "      <th>location</th>\n",
       "      <th>intake_type</th>\n",
       "      <th>condition</th>\n",
       "      <th>age_in</th>\n",
       "      <th>breed</th>\n",
       "      <th>color</th>\n",
       "      <th>date_out</th>\n",
       "      <th>dob</th>\n",
       "      <th>outcome</th>\n",
       "      <th>outcome_sub</th>\n",
       "      <th>age_out</th>\n",
       "      <th>sex</th>\n",
       "      <th>intact_in</th>\n",
       "      <th>intact_out</th>\n",
       "    </tr>\n",
       "  </thead>\n",
       "  <tbody>\n",
       "    <tr>\n",
       "      <th>0</th>\n",
       "      <td>A047759</td>\n",
       "      <td>Oreo</td>\n",
       "      <td>1.396454e+09</td>\n",
       "      <td>Austin (TX)</td>\n",
       "      <td>Owner Surrender</td>\n",
       "      <td>Normal</td>\n",
       "      <td>10.0</td>\n",
       "      <td>Dachshund</td>\n",
       "      <td>Tricolor</td>\n",
       "      <td>1.396884e+09</td>\n",
       "      <td>1.080864e+09</td>\n",
       "      <td>Transfer</td>\n",
       "      <td>Partner</td>\n",
       "      <td>10.0</td>\n",
       "      <td>1</td>\n",
       "      <td>0</td>\n",
       "      <td>0</td>\n",
       "    </tr>\n",
       "    <tr>\n",
       "      <th>1</th>\n",
       "      <td>A134067</td>\n",
       "      <td>Bandit</td>\n",
       "      <td>1.384593e+09</td>\n",
       "      <td>12034 Research Blvd in Austin (TX)</td>\n",
       "      <td>Public Assist</td>\n",
       "      <td>Injured</td>\n",
       "      <td>16.0</td>\n",
       "      <td>Shetland Sheepdog</td>\n",
       "      <td>Brown/White</td>\n",
       "      <td>1.384603e+09</td>\n",
       "      <td>8.769600e+08</td>\n",
       "      <td>Return to Owner</td>\n",
       "      <td>NaN</td>\n",
       "      <td>16.0</td>\n",
       "      <td>1</td>\n",
       "      <td>0</td>\n",
       "      <td>0</td>\n",
       "    </tr>\n",
       "    <tr>\n",
       "      <th>2</th>\n",
       "      <td>A141142</td>\n",
       "      <td>Bettie</td>\n",
       "      <td>1.384613e+09</td>\n",
       "      <td>Austin (TX)</td>\n",
       "      <td>Stray</td>\n",
       "      <td>Aged</td>\n",
       "      <td>15.0</td>\n",
       "      <td>Labrador Retriever/Pit Bull</td>\n",
       "      <td>Black/White</td>\n",
       "      <td>1.384688e+09</td>\n",
       "      <td>8.966592e+08</td>\n",
       "      <td>Return to Owner</td>\n",
       "      <td>NaN</td>\n",
       "      <td>15.0</td>\n",
       "      <td>0</td>\n",
       "      <td>0</td>\n",
       "      <td>0</td>\n",
       "    </tr>\n",
       "  </tbody>\n",
       "</table>\n",
       "</div>"
      ],
      "text/plain": [
       "        id    name       date_in                            location  \\\n",
       "0  A047759    Oreo  1.396454e+09                         Austin (TX)   \n",
       "1  A134067  Bandit  1.384593e+09  12034 Research Blvd in Austin (TX)   \n",
       "2  A141142  Bettie  1.384613e+09                         Austin (TX)   \n",
       "\n",
       "       intake_type condition  age_in                        breed  \\\n",
       "0  Owner Surrender    Normal    10.0                    Dachshund   \n",
       "1    Public Assist   Injured    16.0            Shetland Sheepdog   \n",
       "2            Stray      Aged    15.0  Labrador Retriever/Pit Bull   \n",
       "\n",
       "         color      date_out           dob          outcome outcome_sub  \\\n",
       "0     Tricolor  1.396884e+09  1.080864e+09         Transfer     Partner   \n",
       "1  Brown/White  1.384603e+09  8.769600e+08  Return to Owner         NaN   \n",
       "2  Black/White  1.384688e+09  8.966592e+08  Return to Owner         NaN   \n",
       "\n",
       "   age_out  sex  intact_in  intact_out  \n",
       "0     10.0    1          0           0  \n",
       "1     16.0    1          0           0  \n",
       "2     15.0    0          0           0  "
      ]
     },
     "execution_count": 90,
     "metadata": {},
     "output_type": "execute_result"
    }
   ],
   "source": [
    "austin.head(3)"
   ]
  },
  {
   "cell_type": "code",
   "execution_count": 91,
   "metadata": {},
   "outputs": [
    {
     "name": "stdout",
     "output_type": "stream",
     "text": [
      "<class 'pandas.core.frame.DataFrame'>\n",
      "RangeIndex: 110457 entries, 0 to 110456\n",
      "Data columns (total 17 columns):\n",
      " #   Column       Non-Null Count   Dtype  \n",
      "---  ------       --------------   -----  \n",
      " 0   id           110457 non-null  object \n",
      " 1   name         97586 non-null   object \n",
      " 2   date_in      110457 non-null  float64\n",
      " 3   location     110457 non-null  object \n",
      " 4   intake_type  110457 non-null  object \n",
      " 5   condition    110457 non-null  object \n",
      " 6   age_in       110457 non-null  float64\n",
      " 7   breed        110457 non-null  object \n",
      " 8   color        110457 non-null  object \n",
      " 9   date_out     110457 non-null  float64\n",
      " 10  dob          110457 non-null  float64\n",
      " 11  outcome      110457 non-null  object \n",
      " 12  outcome_sub  28998 non-null   object \n",
      " 13  age_out      110457 non-null  float64\n",
      " 14  sex          110457 non-null  int64  \n",
      " 15  intact_in    110457 non-null  int64  \n",
      " 16  intact_out   110457 non-null  int64  \n",
      "dtypes: float64(5), int64(3), object(9)\n",
      "memory usage: 14.3+ MB\n"
     ]
    }
   ],
   "source": [
    "austin.info()"
   ]
  },
  {
   "cell_type": "code",
   "execution_count": 92,
   "metadata": {},
   "outputs": [],
   "source": [
    "austin.to_csv('./datasets/cleaned_data/austin.csv', index=False)"
   ]
  },
  {
   "cell_type": "markdown",
   "metadata": {},
   "source": [
    "## Dallas data"
   ]
  },
  {
   "cell_type": "code",
   "execution_count": 93,
   "metadata": {},
   "outputs": [
    {
     "data": {
      "text/html": [
       "<div>\n",
       "<style scoped>\n",
       "    .dataframe tbody tr th:only-of-type {\n",
       "        vertical-align: middle;\n",
       "    }\n",
       "\n",
       "    .dataframe tbody tr th {\n",
       "        vertical-align: top;\n",
       "    }\n",
       "\n",
       "    .dataframe thead th {\n",
       "        text-align: right;\n",
       "    }\n",
       "</style>\n",
       "<table border=\"1\" class=\"dataframe\">\n",
       "  <thead>\n",
       "    <tr style=\"text-align: right;\">\n",
       "      <th></th>\n",
       "      <th>Animal Id</th>\n",
       "      <th>Animal Type</th>\n",
       "      <th>Animal Breed</th>\n",
       "      <th>Kennel Number</th>\n",
       "      <th>Kennel Status</th>\n",
       "      <th>Tag Type</th>\n",
       "      <th>Activity Number</th>\n",
       "      <th>Activity Sequence</th>\n",
       "      <th>Source Id</th>\n",
       "      <th>Census Tract</th>\n",
       "      <th>...</th>\n",
       "      <th>Outcome Time</th>\n",
       "      <th>Receipt Number</th>\n",
       "      <th>Impound Number</th>\n",
       "      <th>Service Request Number</th>\n",
       "      <th>Outcome Condition</th>\n",
       "      <th>Chip Status</th>\n",
       "      <th>Animal Origin</th>\n",
       "      <th>Additional Information</th>\n",
       "      <th>Month</th>\n",
       "      <th>Year</th>\n",
       "    </tr>\n",
       "  </thead>\n",
       "  <tbody>\n",
       "    <tr>\n",
       "      <th>1</th>\n",
       "      <td>A1046046</td>\n",
       "      <td>DOG</td>\n",
       "      <td>PIT BULL</td>\n",
       "      <td>AD 085</td>\n",
       "      <td>UNAVAILABLE</td>\n",
       "      <td>NaN</td>\n",
       "      <td>A19-203263</td>\n",
       "      <td>1</td>\n",
       "      <td>P0740141</td>\n",
       "      <td>12900</td>\n",
       "      <td>...</td>\n",
       "      <td>14:56:00</td>\n",
       "      <td>R19-561166</td>\n",
       "      <td>K19-489088</td>\n",
       "      <td>NaN</td>\n",
       "      <td>APP WNL</td>\n",
       "      <td>SCAN CHIP</td>\n",
       "      <td>FIELD</td>\n",
       "      <td>ADOPTION</td>\n",
       "      <td>NOV.2019</td>\n",
       "      <td>FY2020</td>\n",
       "    </tr>\n",
       "    <tr>\n",
       "      <th>3</th>\n",
       "      <td>A1061310</td>\n",
       "      <td>DOG</td>\n",
       "      <td>LABRADOR RETR</td>\n",
       "      <td>LFD 163</td>\n",
       "      <td>UNAVAILABLE</td>\n",
       "      <td>NaN</td>\n",
       "      <td>A19-206245</td>\n",
       "      <td>1</td>\n",
       "      <td>P9991730</td>\n",
       "      <td>4800</td>\n",
       "      <td>...</td>\n",
       "      <td>13:33:00</td>\n",
       "      <td>R19-561090</td>\n",
       "      <td>K19-491175</td>\n",
       "      <td>NaN</td>\n",
       "      <td>APP WNL</td>\n",
       "      <td>SCAN CHIP</td>\n",
       "      <td>FIELD</td>\n",
       "      <td>NaN</td>\n",
       "      <td>DEC.2019</td>\n",
       "      <td>FY2020</td>\n",
       "    </tr>\n",
       "  </tbody>\n",
       "</table>\n",
       "<p>2 rows × 34 columns</p>\n",
       "</div>"
      ],
      "text/plain": [
       "  Animal Id Animal Type   Animal Breed Kennel Number Kennel Status  Tag Type  \\\n",
       "1  A1046046         DOG       PIT BULL        AD 085   UNAVAILABLE       NaN   \n",
       "3  A1061310         DOG  LABRADOR RETR       LFD 163   UNAVAILABLE       NaN   \n",
       "\n",
       "  Activity Number  Activity Sequence Source Id Census Tract  ... Outcome Time  \\\n",
       "1      A19-203263                  1  P0740141        12900  ...     14:56:00   \n",
       "3      A19-206245                  1  P9991730         4800  ...     13:33:00   \n",
       "\n",
       "  Receipt Number Impound Number  Service Request Number Outcome Condition  \\\n",
       "1     R19-561166     K19-489088                     NaN           APP WNL   \n",
       "3     R19-561090     K19-491175                     NaN           APP WNL   \n",
       "\n",
       "  Chip Status Animal Origin Additional Information     Month    Year  \n",
       "1   SCAN CHIP         FIELD               ADOPTION  NOV.2019  FY2020  \n",
       "3   SCAN CHIP         FIELD                    NaN  DEC.2019  FY2020  \n",
       "\n",
       "[2 rows x 34 columns]"
      ]
     },
     "execution_count": 93,
     "metadata": {},
     "output_type": "execute_result"
    }
   ],
   "source": [
    "dallas_shelter.head(2)"
   ]
  },
  {
   "cell_type": "code",
   "execution_count": 94,
   "metadata": {},
   "outputs": [
    {
     "data": {
      "text/plain": [
       "Index(['id', 'name', 'date_in', 'location', 'intake_type', 'condition',\n",
       "       'age_in', 'breed', 'color', 'date_out', 'dob', 'outcome', 'outcome_sub',\n",
       "       'age_out', 'sex', 'intact_in', 'intact_out'],\n",
       "      dtype='object')"
      ]
     },
     "execution_count": 94,
     "metadata": {},
     "output_type": "execute_result"
    }
   ],
   "source": [
    "austin.columns"
   ]
  },
  {
   "cell_type": "code",
   "execution_count": 95,
   "metadata": {},
   "outputs": [
    {
     "data": {
      "text/plain": [
       "Index(['Animal Id', 'Animal Type', 'Animal Breed', 'Kennel Number',\n",
       "       'Kennel Status', 'Tag Type', 'Activity Number', 'Activity Sequence',\n",
       "       'Source Id', 'Census Tract', 'Council District', 'Intake Type',\n",
       "       'Intake Subtype', 'Intake Total', 'Reason', 'Staff Id', 'Intake Date',\n",
       "       'Intake Time', 'Due Out', 'Intake Condition', 'Hold Request',\n",
       "       'Outcome Type', 'Outcome Subtype', 'Outcome Date', 'Outcome Time',\n",
       "       'Receipt Number', 'Impound Number', 'Service Request Number',\n",
       "       'Outcome Condition', 'Chip Status', 'Animal Origin',\n",
       "       'Additional Information', 'Month', 'Year'],\n",
       "      dtype='object')"
      ]
     },
     "execution_count": 95,
     "metadata": {},
     "output_type": "execute_result"
    }
   ],
   "source": [
    "dallas_shelter.columns"
   ]
  },
  {
   "cell_type": "code",
   "execution_count": 96,
   "metadata": {},
   "outputs": [],
   "source": [
    "dallas_shelter = dallas_shelter[['Animal Id', 'Animal Breed', 'Intake Type', 'Intake Subtype', 'Intake Date', 'Intake Condition',\n",
    "                                 'Outcome Type', 'Outcome Subtype', 'Outcome Date']].copy(deep=True)"
   ]
  },
  {
   "cell_type": "code",
   "execution_count": 97,
   "metadata": {},
   "outputs": [],
   "source": [
    "dallas_shelter.rename(columns={\n",
    "    'Animal Id': 'id',\n",
    "    'Animal Breed': 'breed',\n",
    "    'Intake Type': 'intake_type',\n",
    "    'Intake Subtype': 'intake_subtype',\n",
    "    'Intake Date': 'date_in',\n",
    "    'Intake Condition': 'condition',\n",
    "    'Outcome Type': 'outcome',\n",
    "    'Outcome Subtype': 'outcome_sub',\n",
    "    'Outcome Date': 'date_out',\n",
    "    \n",
    "}, inplace=True)"
   ]
  },
  {
   "cell_type": "code",
   "execution_count": 98,
   "metadata": {},
   "outputs": [
    {
     "data": {
      "text/html": [
       "<div>\n",
       "<style scoped>\n",
       "    .dataframe tbody tr th:only-of-type {\n",
       "        vertical-align: middle;\n",
       "    }\n",
       "\n",
       "    .dataframe tbody tr th {\n",
       "        vertical-align: top;\n",
       "    }\n",
       "\n",
       "    .dataframe thead th {\n",
       "        text-align: right;\n",
       "    }\n",
       "</style>\n",
       "<table border=\"1\" class=\"dataframe\">\n",
       "  <thead>\n",
       "    <tr style=\"text-align: right;\">\n",
       "      <th></th>\n",
       "      <th>id</th>\n",
       "      <th>breed</th>\n",
       "      <th>intake_type</th>\n",
       "      <th>intake_subtype</th>\n",
       "      <th>date_in</th>\n",
       "      <th>condition</th>\n",
       "      <th>outcome</th>\n",
       "      <th>outcome_sub</th>\n",
       "      <th>date_out</th>\n",
       "    </tr>\n",
       "  </thead>\n",
       "  <tbody>\n",
       "    <tr>\n",
       "      <th>1</th>\n",
       "      <td>A1046046</td>\n",
       "      <td>PIT BULL</td>\n",
       "      <td>STRAY</td>\n",
       "      <td>CONFINED</td>\n",
       "      <td>11/28/19</td>\n",
       "      <td>APP WNL</td>\n",
       "      <td>ADOPTION</td>\n",
       "      <td>WALK IN</td>\n",
       "      <td>12/19/19</td>\n",
       "    </tr>\n",
       "    <tr>\n",
       "      <th>3</th>\n",
       "      <td>A1061310</td>\n",
       "      <td>LABRADOR RETR</td>\n",
       "      <td>STRAY</td>\n",
       "      <td>AT LARGE</td>\n",
       "      <td>12/18/19</td>\n",
       "      <td>APP WNL</td>\n",
       "      <td>RETURNED TO OWNER</td>\n",
       "      <td>WALK IN</td>\n",
       "      <td>12/18/19</td>\n",
       "    </tr>\n",
       "    <tr>\n",
       "      <th>5</th>\n",
       "      <td>A1091007</td>\n",
       "      <td>CHIHUAHUA SH</td>\n",
       "      <td>STRAY</td>\n",
       "      <td>AT LARGE</td>\n",
       "      <td>12/15/19</td>\n",
       "      <td>APP SICK</td>\n",
       "      <td>RETURNED TO OWNER</td>\n",
       "      <td>WALK IN</td>\n",
       "      <td>12/19/19</td>\n",
       "    </tr>\n",
       "    <tr>\n",
       "      <th>6</th>\n",
       "      <td>A1092433</td>\n",
       "      <td>GERM SHEPHERD</td>\n",
       "      <td>FOSTER</td>\n",
       "      <td>RETURN</td>\n",
       "      <td>1/12/20</td>\n",
       "      <td>APP WNL</td>\n",
       "      <td>TRANSFER</td>\n",
       "      <td>TRANSPORT</td>\n",
       "      <td>1/12/20</td>\n",
       "    </tr>\n",
       "    <tr>\n",
       "      <th>7</th>\n",
       "      <td>A1095357</td>\n",
       "      <td>PARSON RUSS TER</td>\n",
       "      <td>OWNER SURRENDER</td>\n",
       "      <td>GENERAL</td>\n",
       "      <td>2/6/20</td>\n",
       "      <td>APP WNL</td>\n",
       "      <td>TRANSFER</td>\n",
       "      <td>UNDERAGE</td>\n",
       "      <td>2/7/20</td>\n",
       "    </tr>\n",
       "  </tbody>\n",
       "</table>\n",
       "</div>"
      ],
      "text/plain": [
       "         id            breed      intake_type intake_subtype   date_in  \\\n",
       "1  A1046046         PIT BULL            STRAY       CONFINED  11/28/19   \n",
       "3  A1061310    LABRADOR RETR            STRAY       AT LARGE  12/18/19   \n",
       "5  A1091007     CHIHUAHUA SH            STRAY       AT LARGE  12/15/19   \n",
       "6  A1092433    GERM SHEPHERD           FOSTER         RETURN   1/12/20   \n",
       "7  A1095357  PARSON RUSS TER  OWNER SURRENDER        GENERAL    2/6/20   \n",
       "\n",
       "  condition            outcome outcome_sub  date_out  \n",
       "1   APP WNL           ADOPTION     WALK IN  12/19/19  \n",
       "3   APP WNL  RETURNED TO OWNER     WALK IN  12/18/19  \n",
       "5  APP SICK  RETURNED TO OWNER     WALK IN  12/19/19  \n",
       "6   APP WNL           TRANSFER   TRANSPORT   1/12/20  \n",
       "7   APP WNL           TRANSFER    UNDERAGE    2/7/20  "
      ]
     },
     "execution_count": 98,
     "metadata": {},
     "output_type": "execute_result"
    }
   ],
   "source": [
    "dallas_shelter.head()"
   ]
  },
  {
   "cell_type": "code",
   "execution_count": 99,
   "metadata": {},
   "outputs": [],
   "source": [
    "dallas_shelter.dropna(inplace=True)"
   ]
  },
  {
   "cell_type": "code",
   "execution_count": 100,
   "metadata": {},
   "outputs": [
    {
     "data": {
      "text/plain": [
       "5/3/20      25\n",
       "10/1/20     25\n",
       "5/7/20      24\n",
       "5/1/20      24\n",
       "10/6/19     24\n",
       "8/21/20     24\n",
       "10/3/20     23\n",
       "8/11/20     23\n",
       "6/22/20     23\n",
       "12/25/19    22\n",
       "10/1/19     22\n",
       "4/26/20     21\n",
       "10/4/20     20\n",
       "7/19/20     18\n",
       "4/12/20     18\n",
       "9/10/20     17\n",
       "10/5/20     14\n",
       "10/6/20     12\n",
       "11/28/19    11\n",
       "10/7/20      8\n",
       "Name: date_out, dtype: int64"
      ]
     },
     "execution_count": 100,
     "metadata": {},
     "output_type": "execute_result"
    }
   ],
   "source": [
    "dallas_shelter['date_out'].value_counts()[-20:]"
   ]
  },
  {
   "cell_type": "code",
   "execution_count": 101,
   "metadata": {},
   "outputs": [],
   "source": [
    "dallas_shelter['date_out'] = dallas_shelter['date_out'].map(lambda x: datetime.strptime(x, '%m/%d/%y'))\n",
    "dallas_shelter['date_in'] = dallas_shelter['date_in'].map(lambda x: datetime.strptime(x, '%m/%d/%y'))"
   ]
  },
  {
   "cell_type": "code",
   "execution_count": 102,
   "metadata": {},
   "outputs": [],
   "source": [
    "dallas_shelter['date_out'] = dallas_shelter['date_out'].map(lambda x: x.timestamp())\n",
    "dallas_shelter['date_in'] = dallas_shelter['date_in'].map(lambda x: x.timestamp())"
   ]
  },
  {
   "cell_type": "code",
   "execution_count": 103,
   "metadata": {},
   "outputs": [
    {
     "data": {
      "text/html": [
       "<div>\n",
       "<style scoped>\n",
       "    .dataframe tbody tr th:only-of-type {\n",
       "        vertical-align: middle;\n",
       "    }\n",
       "\n",
       "    .dataframe tbody tr th {\n",
       "        vertical-align: top;\n",
       "    }\n",
       "\n",
       "    .dataframe thead th {\n",
       "        text-align: right;\n",
       "    }\n",
       "</style>\n",
       "<table border=\"1\" class=\"dataframe\">\n",
       "  <thead>\n",
       "    <tr style=\"text-align: right;\">\n",
       "      <th></th>\n",
       "      <th>id</th>\n",
       "      <th>breed</th>\n",
       "      <th>intake_type</th>\n",
       "      <th>intake_subtype</th>\n",
       "      <th>date_in</th>\n",
       "      <th>condition</th>\n",
       "      <th>outcome</th>\n",
       "      <th>outcome_sub</th>\n",
       "      <th>date_out</th>\n",
       "    </tr>\n",
       "  </thead>\n",
       "  <tbody>\n",
       "    <tr>\n",
       "      <th>1</th>\n",
       "      <td>A1046046</td>\n",
       "      <td>PIT BULL</td>\n",
       "      <td>STRAY</td>\n",
       "      <td>CONFINED</td>\n",
       "      <td>1.574899e+09</td>\n",
       "      <td>APP WNL</td>\n",
       "      <td>ADOPTION</td>\n",
       "      <td>WALK IN</td>\n",
       "      <td>1.576714e+09</td>\n",
       "    </tr>\n",
       "    <tr>\n",
       "      <th>3</th>\n",
       "      <td>A1061310</td>\n",
       "      <td>LABRADOR RETR</td>\n",
       "      <td>STRAY</td>\n",
       "      <td>AT LARGE</td>\n",
       "      <td>1.576627e+09</td>\n",
       "      <td>APP WNL</td>\n",
       "      <td>RETURNED TO OWNER</td>\n",
       "      <td>WALK IN</td>\n",
       "      <td>1.576627e+09</td>\n",
       "    </tr>\n",
       "    <tr>\n",
       "      <th>5</th>\n",
       "      <td>A1091007</td>\n",
       "      <td>CHIHUAHUA SH</td>\n",
       "      <td>STRAY</td>\n",
       "      <td>AT LARGE</td>\n",
       "      <td>1.576368e+09</td>\n",
       "      <td>APP SICK</td>\n",
       "      <td>RETURNED TO OWNER</td>\n",
       "      <td>WALK IN</td>\n",
       "      <td>1.576714e+09</td>\n",
       "    </tr>\n",
       "    <tr>\n",
       "      <th>6</th>\n",
       "      <td>A1092433</td>\n",
       "      <td>GERM SHEPHERD</td>\n",
       "      <td>FOSTER</td>\n",
       "      <td>RETURN</td>\n",
       "      <td>1.578787e+09</td>\n",
       "      <td>APP WNL</td>\n",
       "      <td>TRANSFER</td>\n",
       "      <td>TRANSPORT</td>\n",
       "      <td>1.578787e+09</td>\n",
       "    </tr>\n",
       "    <tr>\n",
       "      <th>7</th>\n",
       "      <td>A1095357</td>\n",
       "      <td>PARSON RUSS TER</td>\n",
       "      <td>OWNER SURRENDER</td>\n",
       "      <td>GENERAL</td>\n",
       "      <td>1.580947e+09</td>\n",
       "      <td>APP WNL</td>\n",
       "      <td>TRANSFER</td>\n",
       "      <td>UNDERAGE</td>\n",
       "      <td>1.581034e+09</td>\n",
       "    </tr>\n",
       "  </tbody>\n",
       "</table>\n",
       "</div>"
      ],
      "text/plain": [
       "         id            breed      intake_type intake_subtype       date_in  \\\n",
       "1  A1046046         PIT BULL            STRAY       CONFINED  1.574899e+09   \n",
       "3  A1061310    LABRADOR RETR            STRAY       AT LARGE  1.576627e+09   \n",
       "5  A1091007     CHIHUAHUA SH            STRAY       AT LARGE  1.576368e+09   \n",
       "6  A1092433    GERM SHEPHERD           FOSTER         RETURN  1.578787e+09   \n",
       "7  A1095357  PARSON RUSS TER  OWNER SURRENDER        GENERAL  1.580947e+09   \n",
       "\n",
       "  condition            outcome outcome_sub      date_out  \n",
       "1   APP WNL           ADOPTION     WALK IN  1.576714e+09  \n",
       "3   APP WNL  RETURNED TO OWNER     WALK IN  1.576627e+09  \n",
       "5  APP SICK  RETURNED TO OWNER     WALK IN  1.576714e+09  \n",
       "6   APP WNL           TRANSFER   TRANSPORT  1.578787e+09  \n",
       "7   APP WNL           TRANSFER    UNDERAGE  1.581034e+09  "
      ]
     },
     "execution_count": 103,
     "metadata": {},
     "output_type": "execute_result"
    }
   ],
   "source": [
    "dallas_shelter.head()"
   ]
  },
  {
   "cell_type": "code",
   "execution_count": 104,
   "metadata": {},
   "outputs": [],
   "source": [
    "dallas_shelter.to_csv('./datasets/cleaned_data/dallas.csv')"
   ]
  },
  {
   "cell_type": "markdown",
   "metadata": {},
   "source": [
    "# Merge Austin & Dallas Datasets"
   ]
  },
  {
   "cell_type": "code",
   "execution_count": 264,
   "metadata": {},
   "outputs": [
    {
     "data": {
      "text/html": [
       "<div>\n",
       "<style scoped>\n",
       "    .dataframe tbody tr th:only-of-type {\n",
       "        vertical-align: middle;\n",
       "    }\n",
       "\n",
       "    .dataframe tbody tr th {\n",
       "        vertical-align: top;\n",
       "    }\n",
       "\n",
       "    .dataframe thead th {\n",
       "        text-align: right;\n",
       "    }\n",
       "</style>\n",
       "<table border=\"1\" class=\"dataframe\">\n",
       "  <thead>\n",
       "    <tr style=\"text-align: right;\">\n",
       "      <th></th>\n",
       "      <th>id</th>\n",
       "      <th>breed</th>\n",
       "      <th>color</th>\n",
       "      <th>dob</th>\n",
       "      <th>sex</th>\n",
       "      <th>date_in</th>\n",
       "      <th>age_in</th>\n",
       "      <th>intact_in</th>\n",
       "      <th>location</th>\n",
       "      <th>intake_type</th>\n",
       "      <th>intake_subtype</th>\n",
       "      <th>condition</th>\n",
       "      <th>date_out</th>\n",
       "      <th>age_out</th>\n",
       "      <th>intact_out</th>\n",
       "      <th>outcome</th>\n",
       "      <th>outcome_sub</th>\n",
       "    </tr>\n",
       "  </thead>\n",
       "  <tbody>\n",
       "    <tr>\n",
       "      <th>0</th>\n",
       "      <td>A047759</td>\n",
       "      <td>Dachshund</td>\n",
       "      <td>Tricolor</td>\n",
       "      <td>1.080864e+09</td>\n",
       "      <td>1</td>\n",
       "      <td>1.396454e+09</td>\n",
       "      <td>10.0</td>\n",
       "      <td>0</td>\n",
       "      <td>Austin (TX)</td>\n",
       "      <td>Owner Surrender</td>\n",
       "      <td>NaN</td>\n",
       "      <td>Normal</td>\n",
       "      <td>1.396884e+09</td>\n",
       "      <td>10.0</td>\n",
       "      <td>0</td>\n",
       "      <td>Transfer</td>\n",
       "      <td>Partner</td>\n",
       "    </tr>\n",
       "    <tr>\n",
       "      <th>1</th>\n",
       "      <td>A134067</td>\n",
       "      <td>Shetland Sheepdog</td>\n",
       "      <td>Brown/White</td>\n",
       "      <td>8.769600e+08</td>\n",
       "      <td>1</td>\n",
       "      <td>1.384593e+09</td>\n",
       "      <td>16.0</td>\n",
       "      <td>0</td>\n",
       "      <td>12034 Research Blvd in Austin (TX)</td>\n",
       "      <td>Public Assist</td>\n",
       "      <td>NaN</td>\n",
       "      <td>Injured</td>\n",
       "      <td>1.384603e+09</td>\n",
       "      <td>16.0</td>\n",
       "      <td>0</td>\n",
       "      <td>Return to Owner</td>\n",
       "      <td>NaN</td>\n",
       "    </tr>\n",
       "    <tr>\n",
       "      <th>2</th>\n",
       "      <td>A141142</td>\n",
       "      <td>Labrador Retriever/Pit Bull</td>\n",
       "      <td>Black/White</td>\n",
       "      <td>8.966592e+08</td>\n",
       "      <td>0</td>\n",
       "      <td>1.384613e+09</td>\n",
       "      <td>15.0</td>\n",
       "      <td>0</td>\n",
       "      <td>Austin (TX)</td>\n",
       "      <td>Stray</td>\n",
       "      <td>NaN</td>\n",
       "      <td>Aged</td>\n",
       "      <td>1.384688e+09</td>\n",
       "      <td>15.0</td>\n",
       "      <td>0</td>\n",
       "      <td>Return to Owner</td>\n",
       "      <td>NaN</td>\n",
       "    </tr>\n",
       "    <tr>\n",
       "      <th>3</th>\n",
       "      <td>A163459</td>\n",
       "      <td>Miniature Schnauzer Mix</td>\n",
       "      <td>Black/Gray</td>\n",
       "      <td>9.402912e+08</td>\n",
       "      <td>0</td>\n",
       "      <td>1.415978e+09</td>\n",
       "      <td>15.0</td>\n",
       "      <td>1</td>\n",
       "      <td>Ih 35 And 41St St in Austin (TX)</td>\n",
       "      <td>Stray</td>\n",
       "      <td>NaN</td>\n",
       "      <td>Normal</td>\n",
       "      <td>1.415993e+09</td>\n",
       "      <td>15.0</td>\n",
       "      <td>1</td>\n",
       "      <td>Return to Owner</td>\n",
       "      <td>NaN</td>\n",
       "    </tr>\n",
       "    <tr>\n",
       "      <th>4</th>\n",
       "      <td>A165752</td>\n",
       "      <td>Lhasa Apso Mix</td>\n",
       "      <td>Brown/White</td>\n",
       "      <td>9.349344e+08</td>\n",
       "      <td>1</td>\n",
       "      <td>1.410780e+09</td>\n",
       "      <td>15.0</td>\n",
       "      <td>0</td>\n",
       "      <td>Gatlin Gun Rd And Brodie in Austin (TX)</td>\n",
       "      <td>Stray</td>\n",
       "      <td>NaN</td>\n",
       "      <td>Normal</td>\n",
       "      <td>1.410799e+09</td>\n",
       "      <td>15.0</td>\n",
       "      <td>0</td>\n",
       "      <td>Return to Owner</td>\n",
       "      <td>NaN</td>\n",
       "    </tr>\n",
       "  </tbody>\n",
       "</table>\n",
       "</div>"
      ],
      "text/plain": [
       "        id                        breed        color           dob  sex  \\\n",
       "0  A047759                    Dachshund     Tricolor  1.080864e+09    1   \n",
       "1  A134067            Shetland Sheepdog  Brown/White  8.769600e+08    1   \n",
       "2  A141142  Labrador Retriever/Pit Bull  Black/White  8.966592e+08    0   \n",
       "3  A163459      Miniature Schnauzer Mix   Black/Gray  9.402912e+08    0   \n",
       "4  A165752               Lhasa Apso Mix  Brown/White  9.349344e+08    1   \n",
       "\n",
       "        date_in  age_in  intact_in                                 location  \\\n",
       "0  1.396454e+09    10.0          0                              Austin (TX)   \n",
       "1  1.384593e+09    16.0          0       12034 Research Blvd in Austin (TX)   \n",
       "2  1.384613e+09    15.0          0                              Austin (TX)   \n",
       "3  1.415978e+09    15.0          1         Ih 35 And 41St St in Austin (TX)   \n",
       "4  1.410780e+09    15.0          0  Gatlin Gun Rd And Brodie in Austin (TX)   \n",
       "\n",
       "       intake_type intake_subtype condition      date_out  age_out  \\\n",
       "0  Owner Surrender            NaN    Normal  1.396884e+09     10.0   \n",
       "1    Public Assist            NaN   Injured  1.384603e+09     16.0   \n",
       "2            Stray            NaN      Aged  1.384688e+09     15.0   \n",
       "3            Stray            NaN    Normal  1.415993e+09     15.0   \n",
       "4            Stray            NaN    Normal  1.410799e+09     15.0   \n",
       "\n",
       "   intact_out          outcome outcome_sub  \n",
       "0           0         Transfer     Partner  \n",
       "1           0  Return to Owner         NaN  \n",
       "2           0  Return to Owner         NaN  \n",
       "3           1  Return to Owner         NaN  \n",
       "4           0  Return to Owner         NaN  "
      ]
     },
     "execution_count": 264,
     "metadata": {},
     "output_type": "execute_result"
    }
   ],
   "source": [
    "austin.head()"
   ]
  },
  {
   "cell_type": "code",
   "execution_count": 265,
   "metadata": {},
   "outputs": [
    {
     "data": {
      "text/html": [
       "<div>\n",
       "<style scoped>\n",
       "    .dataframe tbody tr th:only-of-type {\n",
       "        vertical-align: middle;\n",
       "    }\n",
       "\n",
       "    .dataframe tbody tr th {\n",
       "        vertical-align: top;\n",
       "    }\n",
       "\n",
       "    .dataframe thead th {\n",
       "        text-align: right;\n",
       "    }\n",
       "</style>\n",
       "<table border=\"1\" class=\"dataframe\">\n",
       "  <thead>\n",
       "    <tr style=\"text-align: right;\">\n",
       "      <th></th>\n",
       "      <th>id</th>\n",
       "      <th>breed</th>\n",
       "      <th>color</th>\n",
       "      <th>dob</th>\n",
       "      <th>sex</th>\n",
       "      <th>date_in</th>\n",
       "      <th>age_in</th>\n",
       "      <th>intact_in</th>\n",
       "      <th>location</th>\n",
       "      <th>intake_type</th>\n",
       "      <th>intake_subtype</th>\n",
       "      <th>condition</th>\n",
       "      <th>date_out</th>\n",
       "      <th>age_out</th>\n",
       "      <th>intact_out</th>\n",
       "      <th>outcome</th>\n",
       "      <th>outcome_sub</th>\n",
       "    </tr>\n",
       "  </thead>\n",
       "  <tbody>\n",
       "    <tr>\n",
       "      <th>1</th>\n",
       "      <td>A1046046</td>\n",
       "      <td>PIT BULL</td>\n",
       "      <td>NaN</td>\n",
       "      <td>NaN</td>\n",
       "      <td>NaN</td>\n",
       "      <td>1.574899e+09</td>\n",
       "      <td>NaN</td>\n",
       "      <td>NaN</td>\n",
       "      <td>NaN</td>\n",
       "      <td>STRAY</td>\n",
       "      <td>CONFINED</td>\n",
       "      <td>APP WNL</td>\n",
       "      <td>NaN</td>\n",
       "      <td>NaN</td>\n",
       "      <td>NaN</td>\n",
       "      <td>ADOPTION</td>\n",
       "      <td>WALK IN</td>\n",
       "    </tr>\n",
       "    <tr>\n",
       "      <th>3</th>\n",
       "      <td>A1061310</td>\n",
       "      <td>LABRADOR RETR</td>\n",
       "      <td>NaN</td>\n",
       "      <td>NaN</td>\n",
       "      <td>NaN</td>\n",
       "      <td>1.576627e+09</td>\n",
       "      <td>NaN</td>\n",
       "      <td>NaN</td>\n",
       "      <td>NaN</td>\n",
       "      <td>STRAY</td>\n",
       "      <td>AT LARGE</td>\n",
       "      <td>APP WNL</td>\n",
       "      <td>NaN</td>\n",
       "      <td>NaN</td>\n",
       "      <td>NaN</td>\n",
       "      <td>RETURNED TO OWNER</td>\n",
       "      <td>WALK IN</td>\n",
       "    </tr>\n",
       "    <tr>\n",
       "      <th>5</th>\n",
       "      <td>A1091007</td>\n",
       "      <td>CHIHUAHUA SH</td>\n",
       "      <td>NaN</td>\n",
       "      <td>NaN</td>\n",
       "      <td>NaN</td>\n",
       "      <td>1.576368e+09</td>\n",
       "      <td>NaN</td>\n",
       "      <td>NaN</td>\n",
       "      <td>NaN</td>\n",
       "      <td>STRAY</td>\n",
       "      <td>AT LARGE</td>\n",
       "      <td>APP SICK</td>\n",
       "      <td>NaN</td>\n",
       "      <td>NaN</td>\n",
       "      <td>NaN</td>\n",
       "      <td>RETURNED TO OWNER</td>\n",
       "      <td>WALK IN</td>\n",
       "    </tr>\n",
       "    <tr>\n",
       "      <th>6</th>\n",
       "      <td>A1092433</td>\n",
       "      <td>GERM SHEPHERD</td>\n",
       "      <td>NaN</td>\n",
       "      <td>NaN</td>\n",
       "      <td>NaN</td>\n",
       "      <td>1.578787e+09</td>\n",
       "      <td>NaN</td>\n",
       "      <td>NaN</td>\n",
       "      <td>NaN</td>\n",
       "      <td>FOSTER</td>\n",
       "      <td>RETURN</td>\n",
       "      <td>APP WNL</td>\n",
       "      <td>NaN</td>\n",
       "      <td>NaN</td>\n",
       "      <td>NaN</td>\n",
       "      <td>TRANSFER</td>\n",
       "      <td>TRANSPORT</td>\n",
       "    </tr>\n",
       "    <tr>\n",
       "      <th>7</th>\n",
       "      <td>A1095357</td>\n",
       "      <td>PARSON RUSS TER</td>\n",
       "      <td>NaN</td>\n",
       "      <td>NaN</td>\n",
       "      <td>NaN</td>\n",
       "      <td>1.580947e+09</td>\n",
       "      <td>NaN</td>\n",
       "      <td>NaN</td>\n",
       "      <td>NaN</td>\n",
       "      <td>OWNER SURRENDER</td>\n",
       "      <td>GENERAL</td>\n",
       "      <td>APP WNL</td>\n",
       "      <td>NaN</td>\n",
       "      <td>NaN</td>\n",
       "      <td>NaN</td>\n",
       "      <td>TRANSFER</td>\n",
       "      <td>UNDERAGE</td>\n",
       "    </tr>\n",
       "  </tbody>\n",
       "</table>\n",
       "</div>"
      ],
      "text/plain": [
       "         id            breed color  dob  sex       date_in age_in intact_in  \\\n",
       "1  A1046046         PIT BULL   NaN  NaN  NaN  1.574899e+09    NaN       NaN   \n",
       "3  A1061310    LABRADOR RETR   NaN  NaN  NaN  1.576627e+09    NaN       NaN   \n",
       "5  A1091007     CHIHUAHUA SH   NaN  NaN  NaN  1.576368e+09    NaN       NaN   \n",
       "6  A1092433    GERM SHEPHERD   NaN  NaN  NaN  1.578787e+09    NaN       NaN   \n",
       "7  A1095357  PARSON RUSS TER   NaN  NaN  NaN  1.580947e+09    NaN       NaN   \n",
       "\n",
       "  location      intake_type intake_subtype condition date_out age_out  \\\n",
       "1      NaN            STRAY       CONFINED   APP WNL      NaN     NaN   \n",
       "3      NaN            STRAY       AT LARGE   APP WNL      NaN     NaN   \n",
       "5      NaN            STRAY       AT LARGE  APP SICK      NaN     NaN   \n",
       "6      NaN           FOSTER         RETURN   APP WNL      NaN     NaN   \n",
       "7      NaN  OWNER SURRENDER        GENERAL   APP WNL      NaN     NaN   \n",
       "\n",
       "  intact_out            outcome outcome_sub  \n",
       "1        NaN           ADOPTION     WALK IN  \n",
       "3        NaN  RETURNED TO OWNER     WALK IN  \n",
       "5        NaN  RETURNED TO OWNER     WALK IN  \n",
       "6        NaN           TRANSFER   TRANSPORT  \n",
       "7        NaN           TRANSFER    UNDERAGE  "
      ]
     },
     "execution_count": 265,
     "metadata": {},
     "output_type": "execute_result"
    }
   ],
   "source": [
    "dallas_shelter.head()"
   ]
  },
  {
   "cell_type": "code",
   "execution_count": 266,
   "metadata": {},
   "outputs": [
    {
     "data": {
      "text/plain": [
       "Index(['id', 'breed', 'color', 'dob', 'sex', 'date_in', 'age_in', 'intact_in',\n",
       "       'location', 'intake_type', 'intake_subtype', 'condition', 'date_out',\n",
       "       'age_out', 'intact_out', 'outcome', 'outcome_sub'],\n",
       "      dtype='object')"
      ]
     },
     "execution_count": 266,
     "metadata": {},
     "output_type": "execute_result"
    }
   ],
   "source": [
    "austin.columns"
   ]
  },
  {
   "cell_type": "code",
   "execution_count": 267,
   "metadata": {},
   "outputs": [
    {
     "data": {
      "text/plain": [
       "Index(['id', 'breed', 'color', 'dob', 'sex', 'date_in', 'age_in', 'intact_in',\n",
       "       'location', 'intake_type', 'intake_subtype', 'condition', 'date_out',\n",
       "       'age_out', 'intact_out', 'outcome', 'outcome_sub'],\n",
       "      dtype='object')"
      ]
     },
     "execution_count": 267,
     "metadata": {},
     "output_type": "execute_result"
    }
   ],
   "source": [
    "dallas_shelter.columns"
   ]
  },
  {
   "cell_type": "markdown",
   "metadata": {},
   "source": [
    "##### merged columns should be:\n",
    "<br>\n",
    "id, breed, color, dob, sex, date_in, age_in, intact_in, location, intake_type, intake_subtype, condition, date_out, age_out, intact_out, outcome, outcome_sub"
   ]
  },
  {
   "cell_type": "markdown",
   "metadata": {},
   "source": [
    "## Add to/reorder austin columns"
   ]
  },
  {
   "cell_type": "markdown",
   "metadata": {},
   "source": [
    "### Add columns"
   ]
  },
  {
   "cell_type": "markdown",
   "metadata": {},
   "source": [
    "columns to be added to austin: intake_subtype"
   ]
  },
  {
   "cell_type": "code",
   "execution_count": 268,
   "metadata": {},
   "outputs": [],
   "source": [
    "austin['intake_subtype'] = np.full_like(austin['id'], np.nan)"
   ]
  },
  {
   "cell_type": "code",
   "execution_count": 269,
   "metadata": {},
   "outputs": [
    {
     "data": {
      "text/html": [
       "<div>\n",
       "<style scoped>\n",
       "    .dataframe tbody tr th:only-of-type {\n",
       "        vertical-align: middle;\n",
       "    }\n",
       "\n",
       "    .dataframe tbody tr th {\n",
       "        vertical-align: top;\n",
       "    }\n",
       "\n",
       "    .dataframe thead th {\n",
       "        text-align: right;\n",
       "    }\n",
       "</style>\n",
       "<table border=\"1\" class=\"dataframe\">\n",
       "  <thead>\n",
       "    <tr style=\"text-align: right;\">\n",
       "      <th></th>\n",
       "      <th>id</th>\n",
       "      <th>breed</th>\n",
       "      <th>color</th>\n",
       "      <th>dob</th>\n",
       "      <th>sex</th>\n",
       "      <th>date_in</th>\n",
       "      <th>age_in</th>\n",
       "      <th>intact_in</th>\n",
       "      <th>location</th>\n",
       "      <th>intake_type</th>\n",
       "      <th>intake_subtype</th>\n",
       "      <th>condition</th>\n",
       "      <th>date_out</th>\n",
       "      <th>age_out</th>\n",
       "      <th>intact_out</th>\n",
       "      <th>outcome</th>\n",
       "      <th>outcome_sub</th>\n",
       "    </tr>\n",
       "  </thead>\n",
       "  <tbody>\n",
       "    <tr>\n",
       "      <th>0</th>\n",
       "      <td>A047759</td>\n",
       "      <td>Dachshund</td>\n",
       "      <td>Tricolor</td>\n",
       "      <td>1.080864e+09</td>\n",
       "      <td>1</td>\n",
       "      <td>1.396454e+09</td>\n",
       "      <td>10.0</td>\n",
       "      <td>0</td>\n",
       "      <td>Austin (TX)</td>\n",
       "      <td>Owner Surrender</td>\n",
       "      <td>NaN</td>\n",
       "      <td>Normal</td>\n",
       "      <td>1.396884e+09</td>\n",
       "      <td>10.0</td>\n",
       "      <td>0</td>\n",
       "      <td>Transfer</td>\n",
       "      <td>Partner</td>\n",
       "    </tr>\n",
       "    <tr>\n",
       "      <th>1</th>\n",
       "      <td>A134067</td>\n",
       "      <td>Shetland Sheepdog</td>\n",
       "      <td>Brown/White</td>\n",
       "      <td>8.769600e+08</td>\n",
       "      <td>1</td>\n",
       "      <td>1.384593e+09</td>\n",
       "      <td>16.0</td>\n",
       "      <td>0</td>\n",
       "      <td>12034 Research Blvd in Austin (TX)</td>\n",
       "      <td>Public Assist</td>\n",
       "      <td>NaN</td>\n",
       "      <td>Injured</td>\n",
       "      <td>1.384603e+09</td>\n",
       "      <td>16.0</td>\n",
       "      <td>0</td>\n",
       "      <td>Return to Owner</td>\n",
       "      <td>NaN</td>\n",
       "    </tr>\n",
       "    <tr>\n",
       "      <th>2</th>\n",
       "      <td>A141142</td>\n",
       "      <td>Labrador Retriever/Pit Bull</td>\n",
       "      <td>Black/White</td>\n",
       "      <td>8.966592e+08</td>\n",
       "      <td>0</td>\n",
       "      <td>1.384613e+09</td>\n",
       "      <td>15.0</td>\n",
       "      <td>0</td>\n",
       "      <td>Austin (TX)</td>\n",
       "      <td>Stray</td>\n",
       "      <td>NaN</td>\n",
       "      <td>Aged</td>\n",
       "      <td>1.384688e+09</td>\n",
       "      <td>15.0</td>\n",
       "      <td>0</td>\n",
       "      <td>Return to Owner</td>\n",
       "      <td>NaN</td>\n",
       "    </tr>\n",
       "    <tr>\n",
       "      <th>3</th>\n",
       "      <td>A163459</td>\n",
       "      <td>Miniature Schnauzer Mix</td>\n",
       "      <td>Black/Gray</td>\n",
       "      <td>9.402912e+08</td>\n",
       "      <td>0</td>\n",
       "      <td>1.415978e+09</td>\n",
       "      <td>15.0</td>\n",
       "      <td>1</td>\n",
       "      <td>Ih 35 And 41St St in Austin (TX)</td>\n",
       "      <td>Stray</td>\n",
       "      <td>NaN</td>\n",
       "      <td>Normal</td>\n",
       "      <td>1.415993e+09</td>\n",
       "      <td>15.0</td>\n",
       "      <td>1</td>\n",
       "      <td>Return to Owner</td>\n",
       "      <td>NaN</td>\n",
       "    </tr>\n",
       "    <tr>\n",
       "      <th>4</th>\n",
       "      <td>A165752</td>\n",
       "      <td>Lhasa Apso Mix</td>\n",
       "      <td>Brown/White</td>\n",
       "      <td>9.349344e+08</td>\n",
       "      <td>1</td>\n",
       "      <td>1.410780e+09</td>\n",
       "      <td>15.0</td>\n",
       "      <td>0</td>\n",
       "      <td>Gatlin Gun Rd And Brodie in Austin (TX)</td>\n",
       "      <td>Stray</td>\n",
       "      <td>NaN</td>\n",
       "      <td>Normal</td>\n",
       "      <td>1.410799e+09</td>\n",
       "      <td>15.0</td>\n",
       "      <td>0</td>\n",
       "      <td>Return to Owner</td>\n",
       "      <td>NaN</td>\n",
       "    </tr>\n",
       "  </tbody>\n",
       "</table>\n",
       "</div>"
      ],
      "text/plain": [
       "        id                        breed        color           dob  sex  \\\n",
       "0  A047759                    Dachshund     Tricolor  1.080864e+09    1   \n",
       "1  A134067            Shetland Sheepdog  Brown/White  8.769600e+08    1   \n",
       "2  A141142  Labrador Retriever/Pit Bull  Black/White  8.966592e+08    0   \n",
       "3  A163459      Miniature Schnauzer Mix   Black/Gray  9.402912e+08    0   \n",
       "4  A165752               Lhasa Apso Mix  Brown/White  9.349344e+08    1   \n",
       "\n",
       "        date_in  age_in  intact_in                                 location  \\\n",
       "0  1.396454e+09    10.0          0                              Austin (TX)   \n",
       "1  1.384593e+09    16.0          0       12034 Research Blvd in Austin (TX)   \n",
       "2  1.384613e+09    15.0          0                              Austin (TX)   \n",
       "3  1.415978e+09    15.0          1         Ih 35 And 41St St in Austin (TX)   \n",
       "4  1.410780e+09    15.0          0  Gatlin Gun Rd And Brodie in Austin (TX)   \n",
       "\n",
       "       intake_type intake_subtype condition      date_out  age_out  \\\n",
       "0  Owner Surrender            NaN    Normal  1.396884e+09     10.0   \n",
       "1    Public Assist            NaN   Injured  1.384603e+09     16.0   \n",
       "2            Stray            NaN      Aged  1.384688e+09     15.0   \n",
       "3            Stray            NaN    Normal  1.415993e+09     15.0   \n",
       "4            Stray            NaN    Normal  1.410799e+09     15.0   \n",
       "\n",
       "   intact_out          outcome outcome_sub  \n",
       "0           0         Transfer     Partner  \n",
       "1           0  Return to Owner         NaN  \n",
       "2           0  Return to Owner         NaN  \n",
       "3           1  Return to Owner         NaN  \n",
       "4           0  Return to Owner         NaN  "
      ]
     },
     "execution_count": 269,
     "metadata": {},
     "output_type": "execute_result"
    }
   ],
   "source": [
    "austin.head()"
   ]
  },
  {
   "cell_type": "markdown",
   "metadata": {},
   "source": [
    "### Reorder columns"
   ]
  },
  {
   "cell_type": "code",
   "execution_count": 270,
   "metadata": {},
   "outputs": [
    {
     "data": {
      "text/html": [
       "<div>\n",
       "<style scoped>\n",
       "    .dataframe tbody tr th:only-of-type {\n",
       "        vertical-align: middle;\n",
       "    }\n",
       "\n",
       "    .dataframe tbody tr th {\n",
       "        vertical-align: top;\n",
       "    }\n",
       "\n",
       "    .dataframe thead th {\n",
       "        text-align: right;\n",
       "    }\n",
       "</style>\n",
       "<table border=\"1\" class=\"dataframe\">\n",
       "  <thead>\n",
       "    <tr style=\"text-align: right;\">\n",
       "      <th></th>\n",
       "      <th>id</th>\n",
       "      <th>breed</th>\n",
       "      <th>color</th>\n",
       "      <th>dob</th>\n",
       "      <th>sex</th>\n",
       "      <th>date_in</th>\n",
       "      <th>age_in</th>\n",
       "      <th>intact_in</th>\n",
       "      <th>location</th>\n",
       "      <th>intake_type</th>\n",
       "      <th>intake_subtype</th>\n",
       "      <th>condition</th>\n",
       "      <th>date_out</th>\n",
       "      <th>age_out</th>\n",
       "      <th>intact_out</th>\n",
       "      <th>outcome</th>\n",
       "      <th>outcome_sub</th>\n",
       "    </tr>\n",
       "  </thead>\n",
       "  <tbody>\n",
       "    <tr>\n",
       "      <th>0</th>\n",
       "      <td>A047759</td>\n",
       "      <td>Dachshund</td>\n",
       "      <td>Tricolor</td>\n",
       "      <td>1.080864e+09</td>\n",
       "      <td>1</td>\n",
       "      <td>1.396454e+09</td>\n",
       "      <td>10.00</td>\n",
       "      <td>0</td>\n",
       "      <td>Austin (TX)</td>\n",
       "      <td>Owner Surrender</td>\n",
       "      <td>NaN</td>\n",
       "      <td>Normal</td>\n",
       "      <td>1.396884e+09</td>\n",
       "      <td>10.00</td>\n",
       "      <td>0</td>\n",
       "      <td>Transfer</td>\n",
       "      <td>Partner</td>\n",
       "    </tr>\n",
       "    <tr>\n",
       "      <th>1</th>\n",
       "      <td>A134067</td>\n",
       "      <td>Shetland Sheepdog</td>\n",
       "      <td>Brown/White</td>\n",
       "      <td>8.769600e+08</td>\n",
       "      <td>1</td>\n",
       "      <td>1.384593e+09</td>\n",
       "      <td>16.00</td>\n",
       "      <td>0</td>\n",
       "      <td>12034 Research Blvd in Austin (TX)</td>\n",
       "      <td>Public Assist</td>\n",
       "      <td>NaN</td>\n",
       "      <td>Injured</td>\n",
       "      <td>1.384603e+09</td>\n",
       "      <td>16.00</td>\n",
       "      <td>0</td>\n",
       "      <td>Return to Owner</td>\n",
       "      <td>NaN</td>\n",
       "    </tr>\n",
       "    <tr>\n",
       "      <th>2</th>\n",
       "      <td>A141142</td>\n",
       "      <td>Labrador Retriever/Pit Bull</td>\n",
       "      <td>Black/White</td>\n",
       "      <td>8.966592e+08</td>\n",
       "      <td>0</td>\n",
       "      <td>1.384613e+09</td>\n",
       "      <td>15.00</td>\n",
       "      <td>0</td>\n",
       "      <td>Austin (TX)</td>\n",
       "      <td>Stray</td>\n",
       "      <td>NaN</td>\n",
       "      <td>Aged</td>\n",
       "      <td>1.384688e+09</td>\n",
       "      <td>15.00</td>\n",
       "      <td>0</td>\n",
       "      <td>Return to Owner</td>\n",
       "      <td>NaN</td>\n",
       "    </tr>\n",
       "    <tr>\n",
       "      <th>3</th>\n",
       "      <td>A163459</td>\n",
       "      <td>Miniature Schnauzer Mix</td>\n",
       "      <td>Black/Gray</td>\n",
       "      <td>9.402912e+08</td>\n",
       "      <td>0</td>\n",
       "      <td>1.415978e+09</td>\n",
       "      <td>15.00</td>\n",
       "      <td>1</td>\n",
       "      <td>Ih 35 And 41St St in Austin (TX)</td>\n",
       "      <td>Stray</td>\n",
       "      <td>NaN</td>\n",
       "      <td>Normal</td>\n",
       "      <td>1.415993e+09</td>\n",
       "      <td>15.00</td>\n",
       "      <td>1</td>\n",
       "      <td>Return to Owner</td>\n",
       "      <td>NaN</td>\n",
       "    </tr>\n",
       "    <tr>\n",
       "      <th>4</th>\n",
       "      <td>A165752</td>\n",
       "      <td>Lhasa Apso Mix</td>\n",
       "      <td>Brown/White</td>\n",
       "      <td>9.349344e+08</td>\n",
       "      <td>1</td>\n",
       "      <td>1.410780e+09</td>\n",
       "      <td>15.00</td>\n",
       "      <td>0</td>\n",
       "      <td>Gatlin Gun Rd And Brodie in Austin (TX)</td>\n",
       "      <td>Stray</td>\n",
       "      <td>NaN</td>\n",
       "      <td>Normal</td>\n",
       "      <td>1.410799e+09</td>\n",
       "      <td>15.00</td>\n",
       "      <td>0</td>\n",
       "      <td>Return to Owner</td>\n",
       "      <td>NaN</td>\n",
       "    </tr>\n",
       "    <tr>\n",
       "      <th>...</th>\n",
       "      <td>...</td>\n",
       "      <td>...</td>\n",
       "      <td>...</td>\n",
       "      <td>...</td>\n",
       "      <td>...</td>\n",
       "      <td>...</td>\n",
       "      <td>...</td>\n",
       "      <td>...</td>\n",
       "      <td>...</td>\n",
       "      <td>...</td>\n",
       "      <td>...</td>\n",
       "      <td>...</td>\n",
       "      <td>...</td>\n",
       "      <td>...</td>\n",
       "      <td>...</td>\n",
       "      <td>...</td>\n",
       "      <td>...</td>\n",
       "    </tr>\n",
       "    <tr>\n",
       "      <th>110452</th>\n",
       "      <td>A850544</td>\n",
       "      <td>Basenji Mix</td>\n",
       "      <td>Tricolor</td>\n",
       "      <td>1.624666e+09</td>\n",
       "      <td>1</td>\n",
       "      <td>1.644230e+09</td>\n",
       "      <td>0.58</td>\n",
       "      <td>0</td>\n",
       "      <td>Austin (TX)</td>\n",
       "      <td>Owner Surrender</td>\n",
       "      <td>NaN</td>\n",
       "      <td>Normal</td>\n",
       "      <td>1.644335e+09</td>\n",
       "      <td>0.58</td>\n",
       "      <td>0</td>\n",
       "      <td>Adoption</td>\n",
       "      <td>NaN</td>\n",
       "    </tr>\n",
       "    <tr>\n",
       "      <th>110453</th>\n",
       "      <td>A850561</td>\n",
       "      <td>German Shepherd Mix</td>\n",
       "      <td>Black/Brown</td>\n",
       "      <td>1.579997e+09</td>\n",
       "      <td>1</td>\n",
       "      <td>1.643218e+09</td>\n",
       "      <td>2.00</td>\n",
       "      <td>0</td>\n",
       "      <td>Austin (TX)</td>\n",
       "      <td>Public Assist</td>\n",
       "      <td>NaN</td>\n",
       "      <td>Normal</td>\n",
       "      <td>1.643307e+09</td>\n",
       "      <td>2.00</td>\n",
       "      <td>0</td>\n",
       "      <td>Adoption</td>\n",
       "      <td>NaN</td>\n",
       "    </tr>\n",
       "    <tr>\n",
       "      <th>110454</th>\n",
       "      <td>A850561</td>\n",
       "      <td>German Shepherd Mix</td>\n",
       "      <td>Black/Brown</td>\n",
       "      <td>1.579997e+09</td>\n",
       "      <td>1</td>\n",
       "      <td>1.643218e+09</td>\n",
       "      <td>2.00</td>\n",
       "      <td>0</td>\n",
       "      <td>Austin (TX)</td>\n",
       "      <td>Public Assist</td>\n",
       "      <td>NaN</td>\n",
       "      <td>Normal</td>\n",
       "      <td>1.644078e+09</td>\n",
       "      <td>2.00</td>\n",
       "      <td>0</td>\n",
       "      <td>Adoption</td>\n",
       "      <td>NaN</td>\n",
       "    </tr>\n",
       "    <tr>\n",
       "      <th>110455</th>\n",
       "      <td>A850561</td>\n",
       "      <td>German Shepherd Mix</td>\n",
       "      <td>Black/Brown</td>\n",
       "      <td>1.579997e+09</td>\n",
       "      <td>1</td>\n",
       "      <td>1.643650e+09</td>\n",
       "      <td>2.00</td>\n",
       "      <td>0</td>\n",
       "      <td>Austin (TX)</td>\n",
       "      <td>Owner Surrender</td>\n",
       "      <td>NaN</td>\n",
       "      <td>Normal</td>\n",
       "      <td>1.643307e+09</td>\n",
       "      <td>2.00</td>\n",
       "      <td>0</td>\n",
       "      <td>Adoption</td>\n",
       "      <td>NaN</td>\n",
       "    </tr>\n",
       "    <tr>\n",
       "      <th>110456</th>\n",
       "      <td>A850561</td>\n",
       "      <td>German Shepherd Mix</td>\n",
       "      <td>Black/Brown</td>\n",
       "      <td>1.579997e+09</td>\n",
       "      <td>1</td>\n",
       "      <td>1.643650e+09</td>\n",
       "      <td>2.00</td>\n",
       "      <td>0</td>\n",
       "      <td>Austin (TX)</td>\n",
       "      <td>Owner Surrender</td>\n",
       "      <td>NaN</td>\n",
       "      <td>Normal</td>\n",
       "      <td>1.644078e+09</td>\n",
       "      <td>2.00</td>\n",
       "      <td>0</td>\n",
       "      <td>Adoption</td>\n",
       "      <td>NaN</td>\n",
       "    </tr>\n",
       "  </tbody>\n",
       "</table>\n",
       "<p>110457 rows × 17 columns</p>\n",
       "</div>"
      ],
      "text/plain": [
       "             id                        breed        color           dob  sex  \\\n",
       "0       A047759                    Dachshund     Tricolor  1.080864e+09    1   \n",
       "1       A134067            Shetland Sheepdog  Brown/White  8.769600e+08    1   \n",
       "2       A141142  Labrador Retriever/Pit Bull  Black/White  8.966592e+08    0   \n",
       "3       A163459      Miniature Schnauzer Mix   Black/Gray  9.402912e+08    0   \n",
       "4       A165752               Lhasa Apso Mix  Brown/White  9.349344e+08    1   \n",
       "...         ...                          ...          ...           ...  ...   \n",
       "110452  A850544                  Basenji Mix     Tricolor  1.624666e+09    1   \n",
       "110453  A850561          German Shepherd Mix  Black/Brown  1.579997e+09    1   \n",
       "110454  A850561          German Shepherd Mix  Black/Brown  1.579997e+09    1   \n",
       "110455  A850561          German Shepherd Mix  Black/Brown  1.579997e+09    1   \n",
       "110456  A850561          German Shepherd Mix  Black/Brown  1.579997e+09    1   \n",
       "\n",
       "             date_in  age_in  intact_in  \\\n",
       "0       1.396454e+09   10.00          0   \n",
       "1       1.384593e+09   16.00          0   \n",
       "2       1.384613e+09   15.00          0   \n",
       "3       1.415978e+09   15.00          1   \n",
       "4       1.410780e+09   15.00          0   \n",
       "...              ...     ...        ...   \n",
       "110452  1.644230e+09    0.58          0   \n",
       "110453  1.643218e+09    2.00          0   \n",
       "110454  1.643218e+09    2.00          0   \n",
       "110455  1.643650e+09    2.00          0   \n",
       "110456  1.643650e+09    2.00          0   \n",
       "\n",
       "                                       location      intake_type  \\\n",
       "0                                   Austin (TX)  Owner Surrender   \n",
       "1            12034 Research Blvd in Austin (TX)    Public Assist   \n",
       "2                                   Austin (TX)            Stray   \n",
       "3              Ih 35 And 41St St in Austin (TX)            Stray   \n",
       "4       Gatlin Gun Rd And Brodie in Austin (TX)            Stray   \n",
       "...                                         ...              ...   \n",
       "110452                              Austin (TX)  Owner Surrender   \n",
       "110453                              Austin (TX)    Public Assist   \n",
       "110454                              Austin (TX)    Public Assist   \n",
       "110455                              Austin (TX)  Owner Surrender   \n",
       "110456                              Austin (TX)  Owner Surrender   \n",
       "\n",
       "       intake_subtype condition      date_out  age_out  intact_out  \\\n",
       "0                 NaN    Normal  1.396884e+09    10.00           0   \n",
       "1                 NaN   Injured  1.384603e+09    16.00           0   \n",
       "2                 NaN      Aged  1.384688e+09    15.00           0   \n",
       "3                 NaN    Normal  1.415993e+09    15.00           1   \n",
       "4                 NaN    Normal  1.410799e+09    15.00           0   \n",
       "...               ...       ...           ...      ...         ...   \n",
       "110452            NaN    Normal  1.644335e+09     0.58           0   \n",
       "110453            NaN    Normal  1.643307e+09     2.00           0   \n",
       "110454            NaN    Normal  1.644078e+09     2.00           0   \n",
       "110455            NaN    Normal  1.643307e+09     2.00           0   \n",
       "110456            NaN    Normal  1.644078e+09     2.00           0   \n",
       "\n",
       "                outcome outcome_sub  \n",
       "0              Transfer     Partner  \n",
       "1       Return to Owner         NaN  \n",
       "2       Return to Owner         NaN  \n",
       "3       Return to Owner         NaN  \n",
       "4       Return to Owner         NaN  \n",
       "...                 ...         ...  \n",
       "110452         Adoption         NaN  \n",
       "110453         Adoption         NaN  \n",
       "110454         Adoption         NaN  \n",
       "110455         Adoption         NaN  \n",
       "110456         Adoption         NaN  \n",
       "\n",
       "[110457 rows x 17 columns]"
      ]
     },
     "execution_count": 270,
     "metadata": {},
     "output_type": "execute_result"
    }
   ],
   "source": [
    "austin[['id', 'breed', 'color', 'dob', 'sex', 'date_in', 'age_in', 'intact_in', 'location', 'intake_type', 'intake_subtype', 'condition', 'date_out', 'age_out', 'intact_out', 'outcome', 'outcome_sub']]"
   ]
  },
  {
   "cell_type": "code",
   "execution_count": 271,
   "metadata": {},
   "outputs": [],
   "source": [
    "austin = austin[['id', 'breed', 'color', 'dob', 'sex', 'date_in', 'age_in', 'intact_in', 'location', 'intake_type', 'intake_subtype', 'condition', 'date_out', 'age_out', 'intact_out', 'outcome', 'outcome_sub']]"
   ]
  },
  {
   "cell_type": "code",
   "execution_count": 272,
   "metadata": {},
   "outputs": [
    {
     "data": {
      "text/html": [
       "<div>\n",
       "<style scoped>\n",
       "    .dataframe tbody tr th:only-of-type {\n",
       "        vertical-align: middle;\n",
       "    }\n",
       "\n",
       "    .dataframe tbody tr th {\n",
       "        vertical-align: top;\n",
       "    }\n",
       "\n",
       "    .dataframe thead th {\n",
       "        text-align: right;\n",
       "    }\n",
       "</style>\n",
       "<table border=\"1\" class=\"dataframe\">\n",
       "  <thead>\n",
       "    <tr style=\"text-align: right;\">\n",
       "      <th></th>\n",
       "      <th>id</th>\n",
       "      <th>breed</th>\n",
       "      <th>color</th>\n",
       "      <th>dob</th>\n",
       "      <th>sex</th>\n",
       "      <th>date_in</th>\n",
       "      <th>age_in</th>\n",
       "      <th>intact_in</th>\n",
       "      <th>location</th>\n",
       "      <th>intake_type</th>\n",
       "      <th>intake_subtype</th>\n",
       "      <th>condition</th>\n",
       "      <th>date_out</th>\n",
       "      <th>age_out</th>\n",
       "      <th>intact_out</th>\n",
       "      <th>outcome</th>\n",
       "      <th>outcome_sub</th>\n",
       "    </tr>\n",
       "  </thead>\n",
       "  <tbody>\n",
       "    <tr>\n",
       "      <th>0</th>\n",
       "      <td>A047759</td>\n",
       "      <td>Dachshund</td>\n",
       "      <td>Tricolor</td>\n",
       "      <td>1.080864e+09</td>\n",
       "      <td>1</td>\n",
       "      <td>1.396454e+09</td>\n",
       "      <td>10.0</td>\n",
       "      <td>0</td>\n",
       "      <td>Austin (TX)</td>\n",
       "      <td>Owner Surrender</td>\n",
       "      <td>NaN</td>\n",
       "      <td>Normal</td>\n",
       "      <td>1.396884e+09</td>\n",
       "      <td>10.0</td>\n",
       "      <td>0</td>\n",
       "      <td>Transfer</td>\n",
       "      <td>Partner</td>\n",
       "    </tr>\n",
       "    <tr>\n",
       "      <th>1</th>\n",
       "      <td>A134067</td>\n",
       "      <td>Shetland Sheepdog</td>\n",
       "      <td>Brown/White</td>\n",
       "      <td>8.769600e+08</td>\n",
       "      <td>1</td>\n",
       "      <td>1.384593e+09</td>\n",
       "      <td>16.0</td>\n",
       "      <td>0</td>\n",
       "      <td>12034 Research Blvd in Austin (TX)</td>\n",
       "      <td>Public Assist</td>\n",
       "      <td>NaN</td>\n",
       "      <td>Injured</td>\n",
       "      <td>1.384603e+09</td>\n",
       "      <td>16.0</td>\n",
       "      <td>0</td>\n",
       "      <td>Return to Owner</td>\n",
       "      <td>NaN</td>\n",
       "    </tr>\n",
       "    <tr>\n",
       "      <th>2</th>\n",
       "      <td>A141142</td>\n",
       "      <td>Labrador Retriever/Pit Bull</td>\n",
       "      <td>Black/White</td>\n",
       "      <td>8.966592e+08</td>\n",
       "      <td>0</td>\n",
       "      <td>1.384613e+09</td>\n",
       "      <td>15.0</td>\n",
       "      <td>0</td>\n",
       "      <td>Austin (TX)</td>\n",
       "      <td>Stray</td>\n",
       "      <td>NaN</td>\n",
       "      <td>Aged</td>\n",
       "      <td>1.384688e+09</td>\n",
       "      <td>15.0</td>\n",
       "      <td>0</td>\n",
       "      <td>Return to Owner</td>\n",
       "      <td>NaN</td>\n",
       "    </tr>\n",
       "    <tr>\n",
       "      <th>3</th>\n",
       "      <td>A163459</td>\n",
       "      <td>Miniature Schnauzer Mix</td>\n",
       "      <td>Black/Gray</td>\n",
       "      <td>9.402912e+08</td>\n",
       "      <td>0</td>\n",
       "      <td>1.415978e+09</td>\n",
       "      <td>15.0</td>\n",
       "      <td>1</td>\n",
       "      <td>Ih 35 And 41St St in Austin (TX)</td>\n",
       "      <td>Stray</td>\n",
       "      <td>NaN</td>\n",
       "      <td>Normal</td>\n",
       "      <td>1.415993e+09</td>\n",
       "      <td>15.0</td>\n",
       "      <td>1</td>\n",
       "      <td>Return to Owner</td>\n",
       "      <td>NaN</td>\n",
       "    </tr>\n",
       "    <tr>\n",
       "      <th>4</th>\n",
       "      <td>A165752</td>\n",
       "      <td>Lhasa Apso Mix</td>\n",
       "      <td>Brown/White</td>\n",
       "      <td>9.349344e+08</td>\n",
       "      <td>1</td>\n",
       "      <td>1.410780e+09</td>\n",
       "      <td>15.0</td>\n",
       "      <td>0</td>\n",
       "      <td>Gatlin Gun Rd And Brodie in Austin (TX)</td>\n",
       "      <td>Stray</td>\n",
       "      <td>NaN</td>\n",
       "      <td>Normal</td>\n",
       "      <td>1.410799e+09</td>\n",
       "      <td>15.0</td>\n",
       "      <td>0</td>\n",
       "      <td>Return to Owner</td>\n",
       "      <td>NaN</td>\n",
       "    </tr>\n",
       "  </tbody>\n",
       "</table>\n",
       "</div>"
      ],
      "text/plain": [
       "        id                        breed        color           dob  sex  \\\n",
       "0  A047759                    Dachshund     Tricolor  1.080864e+09    1   \n",
       "1  A134067            Shetland Sheepdog  Brown/White  8.769600e+08    1   \n",
       "2  A141142  Labrador Retriever/Pit Bull  Black/White  8.966592e+08    0   \n",
       "3  A163459      Miniature Schnauzer Mix   Black/Gray  9.402912e+08    0   \n",
       "4  A165752               Lhasa Apso Mix  Brown/White  9.349344e+08    1   \n",
       "\n",
       "        date_in  age_in  intact_in                                 location  \\\n",
       "0  1.396454e+09    10.0          0                              Austin (TX)   \n",
       "1  1.384593e+09    16.0          0       12034 Research Blvd in Austin (TX)   \n",
       "2  1.384613e+09    15.0          0                              Austin (TX)   \n",
       "3  1.415978e+09    15.0          1         Ih 35 And 41St St in Austin (TX)   \n",
       "4  1.410780e+09    15.0          0  Gatlin Gun Rd And Brodie in Austin (TX)   \n",
       "\n",
       "       intake_type intake_subtype condition      date_out  age_out  \\\n",
       "0  Owner Surrender            NaN    Normal  1.396884e+09     10.0   \n",
       "1    Public Assist            NaN   Injured  1.384603e+09     16.0   \n",
       "2            Stray            NaN      Aged  1.384688e+09     15.0   \n",
       "3            Stray            NaN    Normal  1.415993e+09     15.0   \n",
       "4            Stray            NaN    Normal  1.410799e+09     15.0   \n",
       "\n",
       "   intact_out          outcome outcome_sub  \n",
       "0           0         Transfer     Partner  \n",
       "1           0  Return to Owner         NaN  \n",
       "2           0  Return to Owner         NaN  \n",
       "3           1  Return to Owner         NaN  \n",
       "4           0  Return to Owner         NaN  "
      ]
     },
     "execution_count": 272,
     "metadata": {},
     "output_type": "execute_result"
    }
   ],
   "source": [
    "austin.head()"
   ]
  },
  {
   "cell_type": "markdown",
   "metadata": {},
   "source": [
    "## Add to/reorder Dallas columns"
   ]
  },
  {
   "cell_type": "markdown",
   "metadata": {},
   "source": [
    "### Add columns"
   ]
  },
  {
   "cell_type": "markdown",
   "metadata": {},
   "source": [
    "##### merged columns should be:\n",
    "<br>\n",
    "id, breed, color, dob, sex, date_in, age_in, intact_in, location, intake_type, intake_subtype, condition, date_out, age_out, intact_out, outcome, outcome_sub"
   ]
  },
  {
   "cell_type": "code",
   "execution_count": 273,
   "metadata": {},
   "outputs": [
    {
     "data": {
      "text/plain": [
       "Index(['id', 'breed', 'color', 'dob', 'sex', 'date_in', 'age_in', 'intact_in',\n",
       "       'location', 'intake_type', 'intake_subtype', 'condition', 'date_out',\n",
       "       'age_out', 'intact_out', 'outcome', 'outcome_sub'],\n",
       "      dtype='object')"
      ]
     },
     "execution_count": 273,
     "metadata": {},
     "output_type": "execute_result"
    }
   ],
   "source": [
    "dallas_shelter.columns"
   ]
  },
  {
   "cell_type": "markdown",
   "metadata": {},
   "source": [
    "columns to add: color, dob, sex, age_in, intact_in, location, age_out, intact_out, date_out"
   ]
  },
  {
   "cell_type": "code",
   "execution_count": 274,
   "metadata": {},
   "outputs": [],
   "source": [
    "columns_to_add = 'color', 'dob', 'sex', 'age_in', 'intact_in', 'location', 'age_out', 'intact_out', 'date_out'\n",
    "\n",
    "for col in columns_to_add:\n",
    "    dallas_shelter[col] = np.full_like(dallas_shelter['id'], np.nan)"
   ]
  },
  {
   "cell_type": "code",
   "execution_count": 275,
   "metadata": {},
   "outputs": [
    {
     "data": {
      "text/html": [
       "<div>\n",
       "<style scoped>\n",
       "    .dataframe tbody tr th:only-of-type {\n",
       "        vertical-align: middle;\n",
       "    }\n",
       "\n",
       "    .dataframe tbody tr th {\n",
       "        vertical-align: top;\n",
       "    }\n",
       "\n",
       "    .dataframe thead th {\n",
       "        text-align: right;\n",
       "    }\n",
       "</style>\n",
       "<table border=\"1\" class=\"dataframe\">\n",
       "  <thead>\n",
       "    <tr style=\"text-align: right;\">\n",
       "      <th></th>\n",
       "      <th>id</th>\n",
       "      <th>breed</th>\n",
       "      <th>color</th>\n",
       "      <th>dob</th>\n",
       "      <th>sex</th>\n",
       "      <th>date_in</th>\n",
       "      <th>age_in</th>\n",
       "      <th>intact_in</th>\n",
       "      <th>location</th>\n",
       "      <th>intake_type</th>\n",
       "      <th>intake_subtype</th>\n",
       "      <th>condition</th>\n",
       "      <th>date_out</th>\n",
       "      <th>age_out</th>\n",
       "      <th>intact_out</th>\n",
       "      <th>outcome</th>\n",
       "      <th>outcome_sub</th>\n",
       "    </tr>\n",
       "  </thead>\n",
       "  <tbody>\n",
       "    <tr>\n",
       "      <th>1</th>\n",
       "      <td>A1046046</td>\n",
       "      <td>PIT BULL</td>\n",
       "      <td>NaN</td>\n",
       "      <td>NaN</td>\n",
       "      <td>NaN</td>\n",
       "      <td>1.574899e+09</td>\n",
       "      <td>NaN</td>\n",
       "      <td>NaN</td>\n",
       "      <td>NaN</td>\n",
       "      <td>STRAY</td>\n",
       "      <td>CONFINED</td>\n",
       "      <td>APP WNL</td>\n",
       "      <td>NaN</td>\n",
       "      <td>NaN</td>\n",
       "      <td>NaN</td>\n",
       "      <td>ADOPTION</td>\n",
       "      <td>WALK IN</td>\n",
       "    </tr>\n",
       "    <tr>\n",
       "      <th>3</th>\n",
       "      <td>A1061310</td>\n",
       "      <td>LABRADOR RETR</td>\n",
       "      <td>NaN</td>\n",
       "      <td>NaN</td>\n",
       "      <td>NaN</td>\n",
       "      <td>1.576627e+09</td>\n",
       "      <td>NaN</td>\n",
       "      <td>NaN</td>\n",
       "      <td>NaN</td>\n",
       "      <td>STRAY</td>\n",
       "      <td>AT LARGE</td>\n",
       "      <td>APP WNL</td>\n",
       "      <td>NaN</td>\n",
       "      <td>NaN</td>\n",
       "      <td>NaN</td>\n",
       "      <td>RETURNED TO OWNER</td>\n",
       "      <td>WALK IN</td>\n",
       "    </tr>\n",
       "    <tr>\n",
       "      <th>5</th>\n",
       "      <td>A1091007</td>\n",
       "      <td>CHIHUAHUA SH</td>\n",
       "      <td>NaN</td>\n",
       "      <td>NaN</td>\n",
       "      <td>NaN</td>\n",
       "      <td>1.576368e+09</td>\n",
       "      <td>NaN</td>\n",
       "      <td>NaN</td>\n",
       "      <td>NaN</td>\n",
       "      <td>STRAY</td>\n",
       "      <td>AT LARGE</td>\n",
       "      <td>APP SICK</td>\n",
       "      <td>NaN</td>\n",
       "      <td>NaN</td>\n",
       "      <td>NaN</td>\n",
       "      <td>RETURNED TO OWNER</td>\n",
       "      <td>WALK IN</td>\n",
       "    </tr>\n",
       "    <tr>\n",
       "      <th>6</th>\n",
       "      <td>A1092433</td>\n",
       "      <td>GERM SHEPHERD</td>\n",
       "      <td>NaN</td>\n",
       "      <td>NaN</td>\n",
       "      <td>NaN</td>\n",
       "      <td>1.578787e+09</td>\n",
       "      <td>NaN</td>\n",
       "      <td>NaN</td>\n",
       "      <td>NaN</td>\n",
       "      <td>FOSTER</td>\n",
       "      <td>RETURN</td>\n",
       "      <td>APP WNL</td>\n",
       "      <td>NaN</td>\n",
       "      <td>NaN</td>\n",
       "      <td>NaN</td>\n",
       "      <td>TRANSFER</td>\n",
       "      <td>TRANSPORT</td>\n",
       "    </tr>\n",
       "    <tr>\n",
       "      <th>7</th>\n",
       "      <td>A1095357</td>\n",
       "      <td>PARSON RUSS TER</td>\n",
       "      <td>NaN</td>\n",
       "      <td>NaN</td>\n",
       "      <td>NaN</td>\n",
       "      <td>1.580947e+09</td>\n",
       "      <td>NaN</td>\n",
       "      <td>NaN</td>\n",
       "      <td>NaN</td>\n",
       "      <td>OWNER SURRENDER</td>\n",
       "      <td>GENERAL</td>\n",
       "      <td>APP WNL</td>\n",
       "      <td>NaN</td>\n",
       "      <td>NaN</td>\n",
       "      <td>NaN</td>\n",
       "      <td>TRANSFER</td>\n",
       "      <td>UNDERAGE</td>\n",
       "    </tr>\n",
       "  </tbody>\n",
       "</table>\n",
       "</div>"
      ],
      "text/plain": [
       "         id            breed color  dob  sex       date_in age_in intact_in  \\\n",
       "1  A1046046         PIT BULL   NaN  NaN  NaN  1.574899e+09    NaN       NaN   \n",
       "3  A1061310    LABRADOR RETR   NaN  NaN  NaN  1.576627e+09    NaN       NaN   \n",
       "5  A1091007     CHIHUAHUA SH   NaN  NaN  NaN  1.576368e+09    NaN       NaN   \n",
       "6  A1092433    GERM SHEPHERD   NaN  NaN  NaN  1.578787e+09    NaN       NaN   \n",
       "7  A1095357  PARSON RUSS TER   NaN  NaN  NaN  1.580947e+09    NaN       NaN   \n",
       "\n",
       "  location      intake_type intake_subtype condition date_out age_out  \\\n",
       "1      NaN            STRAY       CONFINED   APP WNL      NaN     NaN   \n",
       "3      NaN            STRAY       AT LARGE   APP WNL      NaN     NaN   \n",
       "5      NaN            STRAY       AT LARGE  APP SICK      NaN     NaN   \n",
       "6      NaN           FOSTER         RETURN   APP WNL      NaN     NaN   \n",
       "7      NaN  OWNER SURRENDER        GENERAL   APP WNL      NaN     NaN   \n",
       "\n",
       "  intact_out            outcome outcome_sub  \n",
       "1        NaN           ADOPTION     WALK IN  \n",
       "3        NaN  RETURNED TO OWNER     WALK IN  \n",
       "5        NaN  RETURNED TO OWNER     WALK IN  \n",
       "6        NaN           TRANSFER   TRANSPORT  \n",
       "7        NaN           TRANSFER    UNDERAGE  "
      ]
     },
     "execution_count": 275,
     "metadata": {},
     "output_type": "execute_result"
    }
   ],
   "source": [
    "dallas_shelter.head()"
   ]
  },
  {
   "cell_type": "markdown",
   "metadata": {},
   "source": [
    "### Reorder columns"
   ]
  },
  {
   "cell_type": "code",
   "execution_count": 276,
   "metadata": {},
   "outputs": [
    {
     "data": {
      "text/html": [
       "<div>\n",
       "<style scoped>\n",
       "    .dataframe tbody tr th:only-of-type {\n",
       "        vertical-align: middle;\n",
       "    }\n",
       "\n",
       "    .dataframe tbody tr th {\n",
       "        vertical-align: top;\n",
       "    }\n",
       "\n",
       "    .dataframe thead th {\n",
       "        text-align: right;\n",
       "    }\n",
       "</style>\n",
       "<table border=\"1\" class=\"dataframe\">\n",
       "  <thead>\n",
       "    <tr style=\"text-align: right;\">\n",
       "      <th></th>\n",
       "      <th>id</th>\n",
       "      <th>breed</th>\n",
       "      <th>color</th>\n",
       "      <th>dob</th>\n",
       "      <th>sex</th>\n",
       "      <th>date_in</th>\n",
       "      <th>age_in</th>\n",
       "      <th>intact_in</th>\n",
       "      <th>location</th>\n",
       "      <th>intake_type</th>\n",
       "      <th>intake_subtype</th>\n",
       "      <th>condition</th>\n",
       "      <th>date_out</th>\n",
       "      <th>age_out</th>\n",
       "      <th>intact_out</th>\n",
       "      <th>outcome</th>\n",
       "      <th>outcome_sub</th>\n",
       "    </tr>\n",
       "  </thead>\n",
       "  <tbody>\n",
       "    <tr>\n",
       "      <th>1</th>\n",
       "      <td>A1046046</td>\n",
       "      <td>PIT BULL</td>\n",
       "      <td>NaN</td>\n",
       "      <td>NaN</td>\n",
       "      <td>NaN</td>\n",
       "      <td>1.574899e+09</td>\n",
       "      <td>NaN</td>\n",
       "      <td>NaN</td>\n",
       "      <td>NaN</td>\n",
       "      <td>STRAY</td>\n",
       "      <td>CONFINED</td>\n",
       "      <td>APP WNL</td>\n",
       "      <td>NaN</td>\n",
       "      <td>NaN</td>\n",
       "      <td>NaN</td>\n",
       "      <td>ADOPTION</td>\n",
       "      <td>WALK IN</td>\n",
       "    </tr>\n",
       "    <tr>\n",
       "      <th>3</th>\n",
       "      <td>A1061310</td>\n",
       "      <td>LABRADOR RETR</td>\n",
       "      <td>NaN</td>\n",
       "      <td>NaN</td>\n",
       "      <td>NaN</td>\n",
       "      <td>1.576627e+09</td>\n",
       "      <td>NaN</td>\n",
       "      <td>NaN</td>\n",
       "      <td>NaN</td>\n",
       "      <td>STRAY</td>\n",
       "      <td>AT LARGE</td>\n",
       "      <td>APP WNL</td>\n",
       "      <td>NaN</td>\n",
       "      <td>NaN</td>\n",
       "      <td>NaN</td>\n",
       "      <td>RETURNED TO OWNER</td>\n",
       "      <td>WALK IN</td>\n",
       "    </tr>\n",
       "    <tr>\n",
       "      <th>5</th>\n",
       "      <td>A1091007</td>\n",
       "      <td>CHIHUAHUA SH</td>\n",
       "      <td>NaN</td>\n",
       "      <td>NaN</td>\n",
       "      <td>NaN</td>\n",
       "      <td>1.576368e+09</td>\n",
       "      <td>NaN</td>\n",
       "      <td>NaN</td>\n",
       "      <td>NaN</td>\n",
       "      <td>STRAY</td>\n",
       "      <td>AT LARGE</td>\n",
       "      <td>APP SICK</td>\n",
       "      <td>NaN</td>\n",
       "      <td>NaN</td>\n",
       "      <td>NaN</td>\n",
       "      <td>RETURNED TO OWNER</td>\n",
       "      <td>WALK IN</td>\n",
       "    </tr>\n",
       "    <tr>\n",
       "      <th>6</th>\n",
       "      <td>A1092433</td>\n",
       "      <td>GERM SHEPHERD</td>\n",
       "      <td>NaN</td>\n",
       "      <td>NaN</td>\n",
       "      <td>NaN</td>\n",
       "      <td>1.578787e+09</td>\n",
       "      <td>NaN</td>\n",
       "      <td>NaN</td>\n",
       "      <td>NaN</td>\n",
       "      <td>FOSTER</td>\n",
       "      <td>RETURN</td>\n",
       "      <td>APP WNL</td>\n",
       "      <td>NaN</td>\n",
       "      <td>NaN</td>\n",
       "      <td>NaN</td>\n",
       "      <td>TRANSFER</td>\n",
       "      <td>TRANSPORT</td>\n",
       "    </tr>\n",
       "    <tr>\n",
       "      <th>7</th>\n",
       "      <td>A1095357</td>\n",
       "      <td>PARSON RUSS TER</td>\n",
       "      <td>NaN</td>\n",
       "      <td>NaN</td>\n",
       "      <td>NaN</td>\n",
       "      <td>1.580947e+09</td>\n",
       "      <td>NaN</td>\n",
       "      <td>NaN</td>\n",
       "      <td>NaN</td>\n",
       "      <td>OWNER SURRENDER</td>\n",
       "      <td>GENERAL</td>\n",
       "      <td>APP WNL</td>\n",
       "      <td>NaN</td>\n",
       "      <td>NaN</td>\n",
       "      <td>NaN</td>\n",
       "      <td>TRANSFER</td>\n",
       "      <td>UNDERAGE</td>\n",
       "    </tr>\n",
       "    <tr>\n",
       "      <th>...</th>\n",
       "      <td>...</td>\n",
       "      <td>...</td>\n",
       "      <td>...</td>\n",
       "      <td>...</td>\n",
       "      <td>...</td>\n",
       "      <td>...</td>\n",
       "      <td>...</td>\n",
       "      <td>...</td>\n",
       "      <td>...</td>\n",
       "      <td>...</td>\n",
       "      <td>...</td>\n",
       "      <td>...</td>\n",
       "      <td>...</td>\n",
       "      <td>...</td>\n",
       "      <td>...</td>\n",
       "      <td>...</td>\n",
       "      <td>...</td>\n",
       "    </tr>\n",
       "    <tr>\n",
       "      <th>31913</th>\n",
       "      <td>A1091105</td>\n",
       "      <td>CHIHUAHUA SH</td>\n",
       "      <td>NaN</td>\n",
       "      <td>NaN</td>\n",
       "      <td>NaN</td>\n",
       "      <td>1.576541e+09</td>\n",
       "      <td>NaN</td>\n",
       "      <td>NaN</td>\n",
       "      <td>NaN</td>\n",
       "      <td>STRAY</td>\n",
       "      <td>AT LARGE</td>\n",
       "      <td>UNKNOWN</td>\n",
       "      <td>NaN</td>\n",
       "      <td>NaN</td>\n",
       "      <td>NaN</td>\n",
       "      <td>RETURNED TO OWNER</td>\n",
       "      <td>FIELD</td>\n",
       "    </tr>\n",
       "    <tr>\n",
       "      <th>31914</th>\n",
       "      <td>A1091106</td>\n",
       "      <td>CHIHUAHUA LH</td>\n",
       "      <td>NaN</td>\n",
       "      <td>NaN</td>\n",
       "      <td>NaN</td>\n",
       "      <td>1.576541e+09</td>\n",
       "      <td>NaN</td>\n",
       "      <td>NaN</td>\n",
       "      <td>NaN</td>\n",
       "      <td>STRAY</td>\n",
       "      <td>AT LARGE</td>\n",
       "      <td>APP WNL</td>\n",
       "      <td>NaN</td>\n",
       "      <td>NaN</td>\n",
       "      <td>NaN</td>\n",
       "      <td>RETURNED TO OWNER</td>\n",
       "      <td>FIELD</td>\n",
       "    </tr>\n",
       "    <tr>\n",
       "      <th>31915</th>\n",
       "      <td>A1091115</td>\n",
       "      <td>FRENCH BULLDOG</td>\n",
       "      <td>NaN</td>\n",
       "      <td>NaN</td>\n",
       "      <td>NaN</td>\n",
       "      <td>1.576541e+09</td>\n",
       "      <td>NaN</td>\n",
       "      <td>NaN</td>\n",
       "      <td>NaN</td>\n",
       "      <td>STRAY</td>\n",
       "      <td>AT LARGE</td>\n",
       "      <td>UNKNOWN</td>\n",
       "      <td>NaN</td>\n",
       "      <td>NaN</td>\n",
       "      <td>NaN</td>\n",
       "      <td>RETURNED TO OWNER</td>\n",
       "      <td>FIELD</td>\n",
       "    </tr>\n",
       "    <tr>\n",
       "      <th>31916</th>\n",
       "      <td>A1091120</td>\n",
       "      <td>BULLDOG</td>\n",
       "      <td>NaN</td>\n",
       "      <td>NaN</td>\n",
       "      <td>NaN</td>\n",
       "      <td>1.576541e+09</td>\n",
       "      <td>NaN</td>\n",
       "      <td>NaN</td>\n",
       "      <td>NaN</td>\n",
       "      <td>STRAY</td>\n",
       "      <td>AT LARGE</td>\n",
       "      <td>APP WNL</td>\n",
       "      <td>NaN</td>\n",
       "      <td>NaN</td>\n",
       "      <td>NaN</td>\n",
       "      <td>RETURNED TO OWNER</td>\n",
       "      <td>FIELD</td>\n",
       "    </tr>\n",
       "    <tr>\n",
       "      <th>31917</th>\n",
       "      <td>A1091121</td>\n",
       "      <td>PIT BULL</td>\n",
       "      <td>NaN</td>\n",
       "      <td>NaN</td>\n",
       "      <td>NaN</td>\n",
       "      <td>1.576541e+09</td>\n",
       "      <td>NaN</td>\n",
       "      <td>NaN</td>\n",
       "      <td>NaN</td>\n",
       "      <td>STRAY</td>\n",
       "      <td>AT LARGE</td>\n",
       "      <td>APP WNL</td>\n",
       "      <td>NaN</td>\n",
       "      <td>NaN</td>\n",
       "      <td>NaN</td>\n",
       "      <td>RETURNED TO OWNER</td>\n",
       "      <td>FIELD</td>\n",
       "    </tr>\n",
       "  </tbody>\n",
       "</table>\n",
       "<p>22161 rows × 17 columns</p>\n",
       "</div>"
      ],
      "text/plain": [
       "             id            breed color  dob  sex       date_in age_in  \\\n",
       "1      A1046046         PIT BULL   NaN  NaN  NaN  1.574899e+09    NaN   \n",
       "3      A1061310    LABRADOR RETR   NaN  NaN  NaN  1.576627e+09    NaN   \n",
       "5      A1091007     CHIHUAHUA SH   NaN  NaN  NaN  1.576368e+09    NaN   \n",
       "6      A1092433    GERM SHEPHERD   NaN  NaN  NaN  1.578787e+09    NaN   \n",
       "7      A1095357  PARSON RUSS TER   NaN  NaN  NaN  1.580947e+09    NaN   \n",
       "...         ...              ...   ...  ...  ...           ...    ...   \n",
       "31913  A1091105     CHIHUAHUA SH   NaN  NaN  NaN  1.576541e+09    NaN   \n",
       "31914  A1091106     CHIHUAHUA LH   NaN  NaN  NaN  1.576541e+09    NaN   \n",
       "31915  A1091115   FRENCH BULLDOG   NaN  NaN  NaN  1.576541e+09    NaN   \n",
       "31916  A1091120          BULLDOG   NaN  NaN  NaN  1.576541e+09    NaN   \n",
       "31917  A1091121         PIT BULL   NaN  NaN  NaN  1.576541e+09    NaN   \n",
       "\n",
       "      intact_in location      intake_type intake_subtype condition date_out  \\\n",
       "1           NaN      NaN            STRAY       CONFINED   APP WNL      NaN   \n",
       "3           NaN      NaN            STRAY       AT LARGE   APP WNL      NaN   \n",
       "5           NaN      NaN            STRAY       AT LARGE  APP SICK      NaN   \n",
       "6           NaN      NaN           FOSTER         RETURN   APP WNL      NaN   \n",
       "7           NaN      NaN  OWNER SURRENDER        GENERAL   APP WNL      NaN   \n",
       "...         ...      ...              ...            ...       ...      ...   \n",
       "31913       NaN      NaN            STRAY       AT LARGE   UNKNOWN      NaN   \n",
       "31914       NaN      NaN            STRAY       AT LARGE   APP WNL      NaN   \n",
       "31915       NaN      NaN            STRAY       AT LARGE   UNKNOWN      NaN   \n",
       "31916       NaN      NaN            STRAY       AT LARGE   APP WNL      NaN   \n",
       "31917       NaN      NaN            STRAY       AT LARGE   APP WNL      NaN   \n",
       "\n",
       "      age_out intact_out            outcome outcome_sub  \n",
       "1         NaN        NaN           ADOPTION     WALK IN  \n",
       "3         NaN        NaN  RETURNED TO OWNER     WALK IN  \n",
       "5         NaN        NaN  RETURNED TO OWNER     WALK IN  \n",
       "6         NaN        NaN           TRANSFER   TRANSPORT  \n",
       "7         NaN        NaN           TRANSFER    UNDERAGE  \n",
       "...       ...        ...                ...         ...  \n",
       "31913     NaN        NaN  RETURNED TO OWNER       FIELD  \n",
       "31914     NaN        NaN  RETURNED TO OWNER       FIELD  \n",
       "31915     NaN        NaN  RETURNED TO OWNER       FIELD  \n",
       "31916     NaN        NaN  RETURNED TO OWNER       FIELD  \n",
       "31917     NaN        NaN  RETURNED TO OWNER       FIELD  \n",
       "\n",
       "[22161 rows x 17 columns]"
      ]
     },
     "execution_count": 276,
     "metadata": {},
     "output_type": "execute_result"
    }
   ],
   "source": [
    "dallas_shelter[['id', 'breed', 'color', 'dob', 'sex', 'date_in', 'age_in', 'intact_in', 'location', 'intake_type', 'intake_subtype', 'condition', 'date_out', 'age_out', 'intact_out', 'outcome', 'outcome_sub']]"
   ]
  },
  {
   "cell_type": "code",
   "execution_count": 277,
   "metadata": {},
   "outputs": [],
   "source": [
    "dallas_shelter = dallas_shelter[['id', 'breed', 'color', 'dob', 'sex', 'date_in', 'age_in', 'intact_in', 'location', 'intake_type', 'intake_subtype', 'condition', 'date_out', 'age_out', 'intact_out', 'outcome', 'outcome_sub']]"
   ]
  },
  {
   "cell_type": "code",
   "execution_count": 278,
   "metadata": {},
   "outputs": [
    {
     "data": {
      "text/html": [
       "<div>\n",
       "<style scoped>\n",
       "    .dataframe tbody tr th:only-of-type {\n",
       "        vertical-align: middle;\n",
       "    }\n",
       "\n",
       "    .dataframe tbody tr th {\n",
       "        vertical-align: top;\n",
       "    }\n",
       "\n",
       "    .dataframe thead th {\n",
       "        text-align: right;\n",
       "    }\n",
       "</style>\n",
       "<table border=\"1\" class=\"dataframe\">\n",
       "  <thead>\n",
       "    <tr style=\"text-align: right;\">\n",
       "      <th></th>\n",
       "      <th>id</th>\n",
       "      <th>breed</th>\n",
       "      <th>color</th>\n",
       "      <th>dob</th>\n",
       "      <th>sex</th>\n",
       "      <th>date_in</th>\n",
       "      <th>age_in</th>\n",
       "      <th>intact_in</th>\n",
       "      <th>location</th>\n",
       "      <th>intake_type</th>\n",
       "      <th>intake_subtype</th>\n",
       "      <th>condition</th>\n",
       "      <th>date_out</th>\n",
       "      <th>age_out</th>\n",
       "      <th>intact_out</th>\n",
       "      <th>outcome</th>\n",
       "      <th>outcome_sub</th>\n",
       "    </tr>\n",
       "  </thead>\n",
       "  <tbody>\n",
       "    <tr>\n",
       "      <th>1</th>\n",
       "      <td>A1046046</td>\n",
       "      <td>PIT BULL</td>\n",
       "      <td>NaN</td>\n",
       "      <td>NaN</td>\n",
       "      <td>NaN</td>\n",
       "      <td>1.574899e+09</td>\n",
       "      <td>NaN</td>\n",
       "      <td>NaN</td>\n",
       "      <td>NaN</td>\n",
       "      <td>STRAY</td>\n",
       "      <td>CONFINED</td>\n",
       "      <td>APP WNL</td>\n",
       "      <td>NaN</td>\n",
       "      <td>NaN</td>\n",
       "      <td>NaN</td>\n",
       "      <td>ADOPTION</td>\n",
       "      <td>WALK IN</td>\n",
       "    </tr>\n",
       "    <tr>\n",
       "      <th>3</th>\n",
       "      <td>A1061310</td>\n",
       "      <td>LABRADOR RETR</td>\n",
       "      <td>NaN</td>\n",
       "      <td>NaN</td>\n",
       "      <td>NaN</td>\n",
       "      <td>1.576627e+09</td>\n",
       "      <td>NaN</td>\n",
       "      <td>NaN</td>\n",
       "      <td>NaN</td>\n",
       "      <td>STRAY</td>\n",
       "      <td>AT LARGE</td>\n",
       "      <td>APP WNL</td>\n",
       "      <td>NaN</td>\n",
       "      <td>NaN</td>\n",
       "      <td>NaN</td>\n",
       "      <td>RETURNED TO OWNER</td>\n",
       "      <td>WALK IN</td>\n",
       "    </tr>\n",
       "    <tr>\n",
       "      <th>5</th>\n",
       "      <td>A1091007</td>\n",
       "      <td>CHIHUAHUA SH</td>\n",
       "      <td>NaN</td>\n",
       "      <td>NaN</td>\n",
       "      <td>NaN</td>\n",
       "      <td>1.576368e+09</td>\n",
       "      <td>NaN</td>\n",
       "      <td>NaN</td>\n",
       "      <td>NaN</td>\n",
       "      <td>STRAY</td>\n",
       "      <td>AT LARGE</td>\n",
       "      <td>APP SICK</td>\n",
       "      <td>NaN</td>\n",
       "      <td>NaN</td>\n",
       "      <td>NaN</td>\n",
       "      <td>RETURNED TO OWNER</td>\n",
       "      <td>WALK IN</td>\n",
       "    </tr>\n",
       "    <tr>\n",
       "      <th>6</th>\n",
       "      <td>A1092433</td>\n",
       "      <td>GERM SHEPHERD</td>\n",
       "      <td>NaN</td>\n",
       "      <td>NaN</td>\n",
       "      <td>NaN</td>\n",
       "      <td>1.578787e+09</td>\n",
       "      <td>NaN</td>\n",
       "      <td>NaN</td>\n",
       "      <td>NaN</td>\n",
       "      <td>FOSTER</td>\n",
       "      <td>RETURN</td>\n",
       "      <td>APP WNL</td>\n",
       "      <td>NaN</td>\n",
       "      <td>NaN</td>\n",
       "      <td>NaN</td>\n",
       "      <td>TRANSFER</td>\n",
       "      <td>TRANSPORT</td>\n",
       "    </tr>\n",
       "    <tr>\n",
       "      <th>7</th>\n",
       "      <td>A1095357</td>\n",
       "      <td>PARSON RUSS TER</td>\n",
       "      <td>NaN</td>\n",
       "      <td>NaN</td>\n",
       "      <td>NaN</td>\n",
       "      <td>1.580947e+09</td>\n",
       "      <td>NaN</td>\n",
       "      <td>NaN</td>\n",
       "      <td>NaN</td>\n",
       "      <td>OWNER SURRENDER</td>\n",
       "      <td>GENERAL</td>\n",
       "      <td>APP WNL</td>\n",
       "      <td>NaN</td>\n",
       "      <td>NaN</td>\n",
       "      <td>NaN</td>\n",
       "      <td>TRANSFER</td>\n",
       "      <td>UNDERAGE</td>\n",
       "    </tr>\n",
       "  </tbody>\n",
       "</table>\n",
       "</div>"
      ],
      "text/plain": [
       "         id            breed color  dob  sex       date_in age_in intact_in  \\\n",
       "1  A1046046         PIT BULL   NaN  NaN  NaN  1.574899e+09    NaN       NaN   \n",
       "3  A1061310    LABRADOR RETR   NaN  NaN  NaN  1.576627e+09    NaN       NaN   \n",
       "5  A1091007     CHIHUAHUA SH   NaN  NaN  NaN  1.576368e+09    NaN       NaN   \n",
       "6  A1092433    GERM SHEPHERD   NaN  NaN  NaN  1.578787e+09    NaN       NaN   \n",
       "7  A1095357  PARSON RUSS TER   NaN  NaN  NaN  1.580947e+09    NaN       NaN   \n",
       "\n",
       "  location      intake_type intake_subtype condition date_out age_out  \\\n",
       "1      NaN            STRAY       CONFINED   APP WNL      NaN     NaN   \n",
       "3      NaN            STRAY       AT LARGE   APP WNL      NaN     NaN   \n",
       "5      NaN            STRAY       AT LARGE  APP SICK      NaN     NaN   \n",
       "6      NaN           FOSTER         RETURN   APP WNL      NaN     NaN   \n",
       "7      NaN  OWNER SURRENDER        GENERAL   APP WNL      NaN     NaN   \n",
       "\n",
       "  intact_out            outcome outcome_sub  \n",
       "1        NaN           ADOPTION     WALK IN  \n",
       "3        NaN  RETURNED TO OWNER     WALK IN  \n",
       "5        NaN  RETURNED TO OWNER     WALK IN  \n",
       "6        NaN           TRANSFER   TRANSPORT  \n",
       "7        NaN           TRANSFER    UNDERAGE  "
      ]
     },
     "execution_count": 278,
     "metadata": {},
     "output_type": "execute_result"
    }
   ],
   "source": [
    "dallas_shelter.head()"
   ]
  },
  {
   "cell_type": "markdown",
   "metadata": {},
   "source": [
    "## Check consistency of columns"
   ]
  },
  {
   "cell_type": "code",
   "execution_count": 279,
   "metadata": {},
   "outputs": [
    {
     "data": {
      "text/plain": [
       "(110457, 17)"
      ]
     },
     "execution_count": 279,
     "metadata": {},
     "output_type": "execute_result"
    }
   ],
   "source": [
    "austin.shape"
   ]
  },
  {
   "cell_type": "code",
   "execution_count": 280,
   "metadata": {},
   "outputs": [
    {
     "data": {
      "text/plain": [
       "(22161, 17)"
      ]
     },
     "execution_count": 280,
     "metadata": {},
     "output_type": "execute_result"
    }
   ],
   "source": [
    "dallas_shelter.shape"
   ]
  },
  {
   "cell_type": "code",
   "execution_count": 281,
   "metadata": {},
   "outputs": [
    {
     "data": {
      "text/plain": [
       "Index(['id', 'breed', 'color', 'dob', 'sex', 'date_in', 'age_in', 'intact_in',\n",
       "       'location', 'intake_type', 'intake_subtype', 'condition', 'date_out',\n",
       "       'age_out', 'intact_out', 'outcome', 'outcome_sub'],\n",
       "      dtype='object')"
      ]
     },
     "execution_count": 281,
     "metadata": {},
     "output_type": "execute_result"
    }
   ],
   "source": [
    "austin.columns"
   ]
  },
  {
   "cell_type": "code",
   "execution_count": 282,
   "metadata": {},
   "outputs": [
    {
     "data": {
      "text/plain": [
       "Index(['id', 'breed', 'color', 'dob', 'sex', 'date_in', 'age_in', 'intact_in',\n",
       "       'location', 'intake_type', 'intake_subtype', 'condition', 'date_out',\n",
       "       'age_out', 'intact_out', 'outcome', 'outcome_sub'],\n",
       "      dtype='object')"
      ]
     },
     "execution_count": 282,
     "metadata": {},
     "output_type": "execute_result"
    }
   ],
   "source": [
    "dallas_shelter.columns"
   ]
  },
  {
   "cell_type": "markdown",
   "metadata": {},
   "source": [
    "## Merge dataframes"
   ]
  },
  {
   "cell_type": "code",
   "execution_count": 283,
   "metadata": {},
   "outputs": [
    {
     "data": {
      "text/plain": [
       "(132618, 17)"
      ]
     },
     "execution_count": 283,
     "metadata": {},
     "output_type": "execute_result"
    }
   ],
   "source": [
    "pd.concat([austin, dallas_shelter], axis=0).shape"
   ]
  },
  {
   "cell_type": "code",
   "execution_count": 284,
   "metadata": {},
   "outputs": [],
   "source": [
    "texas_shelters = pd.concat([austin, dallas_shelter], axis=0)"
   ]
  },
  {
   "cell_type": "markdown",
   "metadata": {},
   "source": [
    "## Saved merged data"
   ]
  },
  {
   "cell_type": "code",
   "execution_count": 285,
   "metadata": {},
   "outputs": [
    {
     "data": {
      "text/html": [
       "<div>\n",
       "<style scoped>\n",
       "    .dataframe tbody tr th:only-of-type {\n",
       "        vertical-align: middle;\n",
       "    }\n",
       "\n",
       "    .dataframe tbody tr th {\n",
       "        vertical-align: top;\n",
       "    }\n",
       "\n",
       "    .dataframe thead th {\n",
       "        text-align: right;\n",
       "    }\n",
       "</style>\n",
       "<table border=\"1\" class=\"dataframe\">\n",
       "  <thead>\n",
       "    <tr style=\"text-align: right;\">\n",
       "      <th></th>\n",
       "      <th>id</th>\n",
       "      <th>breed</th>\n",
       "      <th>color</th>\n",
       "      <th>dob</th>\n",
       "      <th>sex</th>\n",
       "      <th>date_in</th>\n",
       "      <th>age_in</th>\n",
       "      <th>intact_in</th>\n",
       "      <th>location</th>\n",
       "      <th>intake_type</th>\n",
       "      <th>intake_subtype</th>\n",
       "      <th>condition</th>\n",
       "      <th>date_out</th>\n",
       "      <th>age_out</th>\n",
       "      <th>intact_out</th>\n",
       "      <th>outcome</th>\n",
       "      <th>outcome_sub</th>\n",
       "    </tr>\n",
       "  </thead>\n",
       "  <tbody>\n",
       "    <tr>\n",
       "      <th>0</th>\n",
       "      <td>A047759</td>\n",
       "      <td>Dachshund</td>\n",
       "      <td>Tricolor</td>\n",
       "      <td>1080864000.0</td>\n",
       "      <td>1</td>\n",
       "      <td>1.396454e+09</td>\n",
       "      <td>10.0</td>\n",
       "      <td>0</td>\n",
       "      <td>Austin (TX)</td>\n",
       "      <td>Owner Surrender</td>\n",
       "      <td>NaN</td>\n",
       "      <td>Normal</td>\n",
       "      <td>1396883520.0</td>\n",
       "      <td>10.0</td>\n",
       "      <td>0</td>\n",
       "      <td>Transfer</td>\n",
       "      <td>Partner</td>\n",
       "    </tr>\n",
       "    <tr>\n",
       "      <th>1</th>\n",
       "      <td>A134067</td>\n",
       "      <td>Shetland Sheepdog</td>\n",
       "      <td>Brown/White</td>\n",
       "      <td>876960000.0</td>\n",
       "      <td>1</td>\n",
       "      <td>1.384593e+09</td>\n",
       "      <td>16.0</td>\n",
       "      <td>0</td>\n",
       "      <td>12034 Research Blvd in Austin (TX)</td>\n",
       "      <td>Public Assist</td>\n",
       "      <td>NaN</td>\n",
       "      <td>Injured</td>\n",
       "      <td>1384602840.0</td>\n",
       "      <td>16.0</td>\n",
       "      <td>0</td>\n",
       "      <td>Return to Owner</td>\n",
       "      <td>NaN</td>\n",
       "    </tr>\n",
       "    <tr>\n",
       "      <th>2</th>\n",
       "      <td>A141142</td>\n",
       "      <td>Labrador Retriever/Pit Bull</td>\n",
       "      <td>Black/White</td>\n",
       "      <td>896659200.0</td>\n",
       "      <td>0</td>\n",
       "      <td>1.384613e+09</td>\n",
       "      <td>15.0</td>\n",
       "      <td>0</td>\n",
       "      <td>Austin (TX)</td>\n",
       "      <td>Stray</td>\n",
       "      <td>NaN</td>\n",
       "      <td>Aged</td>\n",
       "      <td>1384688400.0</td>\n",
       "      <td>15.0</td>\n",
       "      <td>0</td>\n",
       "      <td>Return to Owner</td>\n",
       "      <td>NaN</td>\n",
       "    </tr>\n",
       "    <tr>\n",
       "      <th>3</th>\n",
       "      <td>A163459</td>\n",
       "      <td>Miniature Schnauzer Mix</td>\n",
       "      <td>Black/Gray</td>\n",
       "      <td>940291200.0</td>\n",
       "      <td>0</td>\n",
       "      <td>1.415978e+09</td>\n",
       "      <td>15.0</td>\n",
       "      <td>1</td>\n",
       "      <td>Ih 35 And 41St St in Austin (TX)</td>\n",
       "      <td>Stray</td>\n",
       "      <td>NaN</td>\n",
       "      <td>Normal</td>\n",
       "      <td>1415993280.0</td>\n",
       "      <td>15.0</td>\n",
       "      <td>1</td>\n",
       "      <td>Return to Owner</td>\n",
       "      <td>NaN</td>\n",
       "    </tr>\n",
       "    <tr>\n",
       "      <th>4</th>\n",
       "      <td>A165752</td>\n",
       "      <td>Lhasa Apso Mix</td>\n",
       "      <td>Brown/White</td>\n",
       "      <td>934934400.0</td>\n",
       "      <td>1</td>\n",
       "      <td>1.410780e+09</td>\n",
       "      <td>15.0</td>\n",
       "      <td>0</td>\n",
       "      <td>Gatlin Gun Rd And Brodie in Austin (TX)</td>\n",
       "      <td>Stray</td>\n",
       "      <td>NaN</td>\n",
       "      <td>Normal</td>\n",
       "      <td>1410798900.0</td>\n",
       "      <td>15.0</td>\n",
       "      <td>0</td>\n",
       "      <td>Return to Owner</td>\n",
       "      <td>NaN</td>\n",
       "    </tr>\n",
       "  </tbody>\n",
       "</table>\n",
       "</div>"
      ],
      "text/plain": [
       "        id                        breed        color           dob sex  \\\n",
       "0  A047759                    Dachshund     Tricolor  1080864000.0   1   \n",
       "1  A134067            Shetland Sheepdog  Brown/White   876960000.0   1   \n",
       "2  A141142  Labrador Retriever/Pit Bull  Black/White   896659200.0   0   \n",
       "3  A163459      Miniature Schnauzer Mix   Black/Gray   940291200.0   0   \n",
       "4  A165752               Lhasa Apso Mix  Brown/White   934934400.0   1   \n",
       "\n",
       "        date_in age_in intact_in                                 location  \\\n",
       "0  1.396454e+09   10.0         0                              Austin (TX)   \n",
       "1  1.384593e+09   16.0         0       12034 Research Blvd in Austin (TX)   \n",
       "2  1.384613e+09   15.0         0                              Austin (TX)   \n",
       "3  1.415978e+09   15.0         1         Ih 35 And 41St St in Austin (TX)   \n",
       "4  1.410780e+09   15.0         0  Gatlin Gun Rd And Brodie in Austin (TX)   \n",
       "\n",
       "       intake_type intake_subtype condition      date_out age_out intact_out  \\\n",
       "0  Owner Surrender            NaN    Normal  1396883520.0    10.0          0   \n",
       "1    Public Assist            NaN   Injured  1384602840.0    16.0          0   \n",
       "2            Stray            NaN      Aged  1384688400.0    15.0          0   \n",
       "3            Stray            NaN    Normal  1415993280.0    15.0          1   \n",
       "4            Stray            NaN    Normal  1410798900.0    15.0          0   \n",
       "\n",
       "           outcome outcome_sub  \n",
       "0         Transfer     Partner  \n",
       "1  Return to Owner         NaN  \n",
       "2  Return to Owner         NaN  \n",
       "3  Return to Owner         NaN  \n",
       "4  Return to Owner         NaN  "
      ]
     },
     "execution_count": 285,
     "metadata": {},
     "output_type": "execute_result"
    }
   ],
   "source": [
    "texas_shelters.head()"
   ]
  },
  {
   "cell_type": "code",
   "execution_count": 286,
   "metadata": {},
   "outputs": [],
   "source": [
    "texas_shelters.to_csv('/Users/annarutledge/Documents/general_assembly/project4/datasets/cleaned_data/texas_shelters.csv')"
   ]
  },
  {
   "cell_type": "markdown",
   "metadata": {},
   "source": [
    "## Reset texas_shelters index"
   ]
  },
  {
   "cell_type": "code",
   "execution_count": 287,
   "metadata": {},
   "outputs": [
    {
     "data": {
      "text/plain": [
       "22161"
      ]
     },
     "execution_count": 287,
     "metadata": {},
     "output_type": "execute_result"
    }
   ],
   "source": [
    "texas_shelters.index.duplicated().sum()"
   ]
  },
  {
   "cell_type": "code",
   "execution_count": 288,
   "metadata": {},
   "outputs": [
    {
     "data": {
      "text/plain": [
       "0"
      ]
     },
     "execution_count": 288,
     "metadata": {},
     "output_type": "execute_result"
    }
   ],
   "source": [
    "texas_shelters.reset_index().drop(columns='index').index.duplicated().sum()"
   ]
  },
  {
   "cell_type": "code",
   "execution_count": 289,
   "metadata": {},
   "outputs": [],
   "source": [
    "texas_shelters = texas_shelters.reset_index().drop(columns='index')"
   ]
  },
  {
   "cell_type": "code",
   "execution_count": 290,
   "metadata": {},
   "outputs": [
    {
     "data": {
      "text/html": [
       "<div>\n",
       "<style scoped>\n",
       "    .dataframe tbody tr th:only-of-type {\n",
       "        vertical-align: middle;\n",
       "    }\n",
       "\n",
       "    .dataframe tbody tr th {\n",
       "        vertical-align: top;\n",
       "    }\n",
       "\n",
       "    .dataframe thead th {\n",
       "        text-align: right;\n",
       "    }\n",
       "</style>\n",
       "<table border=\"1\" class=\"dataframe\">\n",
       "  <thead>\n",
       "    <tr style=\"text-align: right;\">\n",
       "      <th></th>\n",
       "      <th>id</th>\n",
       "      <th>breed</th>\n",
       "      <th>color</th>\n",
       "      <th>dob</th>\n",
       "      <th>sex</th>\n",
       "      <th>date_in</th>\n",
       "      <th>age_in</th>\n",
       "      <th>intact_in</th>\n",
       "      <th>location</th>\n",
       "      <th>intake_type</th>\n",
       "      <th>intake_subtype</th>\n",
       "      <th>condition</th>\n",
       "      <th>date_out</th>\n",
       "      <th>age_out</th>\n",
       "      <th>intact_out</th>\n",
       "      <th>outcome</th>\n",
       "      <th>outcome_sub</th>\n",
       "    </tr>\n",
       "  </thead>\n",
       "  <tbody>\n",
       "    <tr>\n",
       "      <th>0</th>\n",
       "      <td>A047759</td>\n",
       "      <td>Dachshund</td>\n",
       "      <td>Tricolor</td>\n",
       "      <td>1080864000.0</td>\n",
       "      <td>1</td>\n",
       "      <td>1.396454e+09</td>\n",
       "      <td>10.0</td>\n",
       "      <td>0</td>\n",
       "      <td>Austin (TX)</td>\n",
       "      <td>Owner Surrender</td>\n",
       "      <td>NaN</td>\n",
       "      <td>Normal</td>\n",
       "      <td>1396883520.0</td>\n",
       "      <td>10.0</td>\n",
       "      <td>0</td>\n",
       "      <td>Transfer</td>\n",
       "      <td>Partner</td>\n",
       "    </tr>\n",
       "    <tr>\n",
       "      <th>1</th>\n",
       "      <td>A134067</td>\n",
       "      <td>Shetland Sheepdog</td>\n",
       "      <td>Brown/White</td>\n",
       "      <td>876960000.0</td>\n",
       "      <td>1</td>\n",
       "      <td>1.384593e+09</td>\n",
       "      <td>16.0</td>\n",
       "      <td>0</td>\n",
       "      <td>12034 Research Blvd in Austin (TX)</td>\n",
       "      <td>Public Assist</td>\n",
       "      <td>NaN</td>\n",
       "      <td>Injured</td>\n",
       "      <td>1384602840.0</td>\n",
       "      <td>16.0</td>\n",
       "      <td>0</td>\n",
       "      <td>Return to Owner</td>\n",
       "      <td>NaN</td>\n",
       "    </tr>\n",
       "    <tr>\n",
       "      <th>2</th>\n",
       "      <td>A141142</td>\n",
       "      <td>Labrador Retriever/Pit Bull</td>\n",
       "      <td>Black/White</td>\n",
       "      <td>896659200.0</td>\n",
       "      <td>0</td>\n",
       "      <td>1.384613e+09</td>\n",
       "      <td>15.0</td>\n",
       "      <td>0</td>\n",
       "      <td>Austin (TX)</td>\n",
       "      <td>Stray</td>\n",
       "      <td>NaN</td>\n",
       "      <td>Aged</td>\n",
       "      <td>1384688400.0</td>\n",
       "      <td>15.0</td>\n",
       "      <td>0</td>\n",
       "      <td>Return to Owner</td>\n",
       "      <td>NaN</td>\n",
       "    </tr>\n",
       "    <tr>\n",
       "      <th>3</th>\n",
       "      <td>A163459</td>\n",
       "      <td>Miniature Schnauzer Mix</td>\n",
       "      <td>Black/Gray</td>\n",
       "      <td>940291200.0</td>\n",
       "      <td>0</td>\n",
       "      <td>1.415978e+09</td>\n",
       "      <td>15.0</td>\n",
       "      <td>1</td>\n",
       "      <td>Ih 35 And 41St St in Austin (TX)</td>\n",
       "      <td>Stray</td>\n",
       "      <td>NaN</td>\n",
       "      <td>Normal</td>\n",
       "      <td>1415993280.0</td>\n",
       "      <td>15.0</td>\n",
       "      <td>1</td>\n",
       "      <td>Return to Owner</td>\n",
       "      <td>NaN</td>\n",
       "    </tr>\n",
       "    <tr>\n",
       "      <th>4</th>\n",
       "      <td>A165752</td>\n",
       "      <td>Lhasa Apso Mix</td>\n",
       "      <td>Brown/White</td>\n",
       "      <td>934934400.0</td>\n",
       "      <td>1</td>\n",
       "      <td>1.410780e+09</td>\n",
       "      <td>15.0</td>\n",
       "      <td>0</td>\n",
       "      <td>Gatlin Gun Rd And Brodie in Austin (TX)</td>\n",
       "      <td>Stray</td>\n",
       "      <td>NaN</td>\n",
       "      <td>Normal</td>\n",
       "      <td>1410798900.0</td>\n",
       "      <td>15.0</td>\n",
       "      <td>0</td>\n",
       "      <td>Return to Owner</td>\n",
       "      <td>NaN</td>\n",
       "    </tr>\n",
       "  </tbody>\n",
       "</table>\n",
       "</div>"
      ],
      "text/plain": [
       "        id                        breed        color           dob sex  \\\n",
       "0  A047759                    Dachshund     Tricolor  1080864000.0   1   \n",
       "1  A134067            Shetland Sheepdog  Brown/White   876960000.0   1   \n",
       "2  A141142  Labrador Retriever/Pit Bull  Black/White   896659200.0   0   \n",
       "3  A163459      Miniature Schnauzer Mix   Black/Gray   940291200.0   0   \n",
       "4  A165752               Lhasa Apso Mix  Brown/White   934934400.0   1   \n",
       "\n",
       "        date_in age_in intact_in                                 location  \\\n",
       "0  1.396454e+09   10.0         0                              Austin (TX)   \n",
       "1  1.384593e+09   16.0         0       12034 Research Blvd in Austin (TX)   \n",
       "2  1.384613e+09   15.0         0                              Austin (TX)   \n",
       "3  1.415978e+09   15.0         1         Ih 35 And 41St St in Austin (TX)   \n",
       "4  1.410780e+09   15.0         0  Gatlin Gun Rd And Brodie in Austin (TX)   \n",
       "\n",
       "       intake_type intake_subtype condition      date_out age_out intact_out  \\\n",
       "0  Owner Surrender            NaN    Normal  1396883520.0    10.0          0   \n",
       "1    Public Assist            NaN   Injured  1384602840.0    16.0          0   \n",
       "2            Stray            NaN      Aged  1384688400.0    15.0          0   \n",
       "3            Stray            NaN    Normal  1415993280.0    15.0          1   \n",
       "4            Stray            NaN    Normal  1410798900.0    15.0          0   \n",
       "\n",
       "           outcome outcome_sub  \n",
       "0         Transfer     Partner  \n",
       "1  Return to Owner         NaN  \n",
       "2  Return to Owner         NaN  \n",
       "3  Return to Owner         NaN  \n",
       "4  Return to Owner         NaN  "
      ]
     },
     "execution_count": 290,
     "metadata": {},
     "output_type": "execute_result"
    }
   ],
   "source": [
    "texas_shelters.head()"
   ]
  },
  {
   "cell_type": "code",
   "execution_count": 291,
   "metadata": {},
   "outputs": [
    {
     "data": {
      "text/plain": [
       "0"
      ]
     },
     "execution_count": 291,
     "metadata": {},
     "output_type": "execute_result"
    }
   ],
   "source": [
    "texas_shelters.index.duplicated().sum()"
   ]
  },
  {
   "cell_type": "markdown",
   "metadata": {},
   "source": [
    "## Examine/homogenize columns"
   ]
  },
  {
   "cell_type": "code",
   "execution_count": 292,
   "metadata": {},
   "outputs": [
    {
     "data": {
      "text/plain": [
       "Index(['id', 'breed', 'color', 'dob', 'sex', 'date_in', 'age_in', 'intact_in',\n",
       "       'location', 'intake_type', 'intake_subtype', 'condition', 'date_out',\n",
       "       'age_out', 'intact_out', 'outcome', 'outcome_sub'],\n",
       "      dtype='object')"
      ]
     },
     "execution_count": 292,
     "metadata": {},
     "output_type": "execute_result"
    }
   ],
   "source": [
    "texas_shelters.columns"
   ]
  },
  {
   "cell_type": "markdown",
   "metadata": {},
   "source": [
    "### Breed"
   ]
  },
  {
   "cell_type": "code",
   "execution_count": 293,
   "metadata": {},
   "outputs": [
    {
     "data": {
      "text/plain": [
       "2588"
      ]
     },
     "execution_count": 293,
     "metadata": {},
     "output_type": "execute_result"
    }
   ],
   "source": [
    "# breed column will be uodated based in breeds dataset\n",
    "\n",
    "len(texas_shelters['breed'].unique())"
   ]
  },
  {
   "cell_type": "markdown",
   "metadata": {},
   "source": [
    "### Sex"
   ]
  },
  {
   "cell_type": "code",
   "execution_count": 294,
   "metadata": {},
   "outputs": [
    {
     "data": {
      "text/plain": [
       "1    61446\n",
       "0    49011\n",
       "Name: sex, dtype: int64"
      ]
     },
     "execution_count": 294,
     "metadata": {},
     "output_type": "execute_result"
    }
   ],
   "source": [
    "texas_shelters['sex'].value_counts()"
   ]
  },
  {
   "cell_type": "markdown",
   "metadata": {},
   "source": [
    "### Date_in"
   ]
  },
  {
   "cell_type": "code",
   "execution_count": 295,
   "metadata": {},
   "outputs": [
    {
     "data": {
      "text/plain": [
       "0         1.396454e+09\n",
       "1         1.384593e+09\n",
       "2         1.384613e+09\n",
       "3         1.415978e+09\n",
       "4         1.410780e+09\n",
       "              ...     \n",
       "132613    1.576541e+09\n",
       "132614    1.576541e+09\n",
       "132615    1.576541e+09\n",
       "132616    1.576541e+09\n",
       "132617    1.576541e+09\n",
       "Name: date_in, Length: 132618, dtype: float64"
      ]
     },
     "execution_count": 295,
     "metadata": {},
     "output_type": "execute_result"
    }
   ],
   "source": [
    "texas_shelters['date_in']"
   ]
  },
  {
   "cell_type": "code",
   "execution_count": 296,
   "metadata": {},
   "outputs": [
    {
     "data": {
      "text/plain": [
       "dtype('float64')"
      ]
     },
     "execution_count": 296,
     "metadata": {},
     "output_type": "execute_result"
    }
   ],
   "source": [
    "texas_shelters['date_in'].dtype"
   ]
  },
  {
   "cell_type": "markdown",
   "metadata": {},
   "source": [
    "### Age_in"
   ]
  },
  {
   "cell_type": "code",
   "execution_count": 297,
   "metadata": {},
   "outputs": [
    {
     "data": {
      "text/plain": [
       "array([10.0, 16.0, 15.0, 18.0, 14.0, 17.0, 13.0, 12.0, 11.0, 9.0, 8.0,\n",
       "       7.0, 6.0, 3.0, 19.0, 23.0, 5.0, 4.0, 2.0, 1.0, 0.92, 0.83, 0.75,\n",
       "       0.58, 0.42, 0.5, 0.33, 0.67, 0.17, 0.25, 0.08, 0.01, 0.02, 0.0,\n",
       "       0.06, 0.04, 0.1, 20.0, 24.0, nan], dtype=object)"
      ]
     },
     "execution_count": 297,
     "metadata": {},
     "output_type": "execute_result"
    }
   ],
   "source": [
    "texas_shelters['age_in'].unique()"
   ]
  },
  {
   "cell_type": "markdown",
   "metadata": {},
   "source": [
    "### Intact_in"
   ]
  },
  {
   "cell_type": "code",
   "execution_count": 298,
   "metadata": {},
   "outputs": [
    {
     "data": {
      "text/plain": [
       "array([0, 1, nan], dtype=object)"
      ]
     },
     "execution_count": 298,
     "metadata": {},
     "output_type": "execute_result"
    }
   ],
   "source": [
    "texas_shelters['intact_in'].unique()"
   ]
  },
  {
   "cell_type": "markdown",
   "metadata": {},
   "source": [
    "### Intake_type"
   ]
  },
  {
   "cell_type": "code",
   "execution_count": 299,
   "metadata": {},
   "outputs": [
    {
     "data": {
      "text/plain": [
       "array(['Owner Surrender', 'Public Assist', 'Stray', 'Euthanasia Request',\n",
       "       'Abandoned', 'Wildlife', 'STRAY', 'FOSTER', 'OWNER SURRENDER',\n",
       "       'CONFISCATED', 'TREATMENT', 'TRANSFER', 'KEEPSAFE', 'DISPOS REQ'],\n",
       "      dtype=object)"
      ]
     },
     "execution_count": 299,
     "metadata": {},
     "output_type": "execute_result"
    }
   ],
   "source": [
    "texas_shelters['intake_type'].unique()"
   ]
  },
  {
   "cell_type": "code",
   "execution_count": 300,
   "metadata": {},
   "outputs": [
    {
     "data": {
      "text/plain": [
       "0             surrender\n",
       "1         public_assist\n",
       "2                 stray\n",
       "3                 stray\n",
       "4                 stray\n",
       "              ...      \n",
       "132613            stray\n",
       "132614            stray\n",
       "132615            stray\n",
       "132616            stray\n",
       "132617            stray\n",
       "Name: intake_type, Length: 132618, dtype: object"
      ]
     },
     "execution_count": 300,
     "metadata": {},
     "output_type": "execute_result"
    }
   ],
   "source": [
    "texas_shelters['intake_type'].map(\n",
    "    {\n",
    "        'Owner Surrender':'surrender', 'OWNER SURRENDER':'surrender',\n",
    "        'Public Assist':'public_assist', \n",
    "        'Stray':'stray', 'STRAY':'stray',\n",
    "        'Euthanasia Request':'euth_request',\n",
    "        'Abandoned':'abandoned',\n",
    "        'wildlife':'wildlife',\n",
    "        'FOSTER':'foster',\n",
    "        'CONFISCATED':'confiscated',\n",
    "        'TREATMENT':'treatment',\n",
    "        'TRANSFER':'transfer',\n",
    "        'KEEPSAFE':'keep_safe',\n",
    "        'DISPOS REQ':'disposal'\n",
    "        }\n",
    "    )"
   ]
  },
  {
   "cell_type": "code",
   "execution_count": 301,
   "metadata": {},
   "outputs": [],
   "source": [
    "texas_shelters['intake_type'] = texas_shelters['intake_type'].map(\n",
    "    {\n",
    "        'Owner Surrender':'surrender', 'OWNER SURRENDER':'surrender',\n",
    "        'Public Assist':'public_assist', \n",
    "        'Stray':'stray', 'STRAY':'stray',\n",
    "        'Euthanasia Request':'euth_request',\n",
    "        'Abandoned':'abandoned',\n",
    "        'wildlife':'wildlife',\n",
    "        'FOSTER':'foster',\n",
    "        'CONFISCATED':'confiscated',\n",
    "        'TREATMENT':'treatment',\n",
    "        'TRANSFER':'transfer',\n",
    "        'KEEPSAFE':'keep_safe',\n",
    "        'DISPOS REQ':'disposal'\n",
    "        }\n",
    "    )"
   ]
  },
  {
   "cell_type": "code",
   "execution_count": 302,
   "metadata": {},
   "outputs": [
    {
     "data": {
      "text/plain": [
       "0             surrender\n",
       "1         public_assist\n",
       "2                 stray\n",
       "3                 stray\n",
       "4                 stray\n",
       "              ...      \n",
       "132613            stray\n",
       "132614            stray\n",
       "132615            stray\n",
       "132616            stray\n",
       "132617            stray\n",
       "Name: intake_type, Length: 132618, dtype: object"
      ]
     },
     "execution_count": 302,
     "metadata": {},
     "output_type": "execute_result"
    }
   ],
   "source": [
    "texas_shelters['intake_type']"
   ]
  },
  {
   "cell_type": "markdown",
   "metadata": {},
   "source": [
    "### Intake_subtype"
   ]
  },
  {
   "cell_type": "code",
   "execution_count": 303,
   "metadata": {},
   "outputs": [
    {
     "data": {
      "text/plain": [
       "array([nan, 'CONFINED', 'AT LARGE', 'RETURN', 'GENERAL', 'APPOINT', 'WEB',\n",
       "       'QUARANTINE', 'SURGERY', 'HEART WORM', 'EUTHANASIA REQUESTED',\n",
       "       'RETURN30', 'KEEP SAFE', 'OTC', 'TREATMENT',\n",
       "       'KEEP SAFE DEAD ON ARRIVAL', 'DEAD ON ARRIVAL', 'OTHER',\n",
       "       'QUARANTINE DEAD ON ARRIVAL', 'DIED', 'FIELD', 'CRUELTY',\n",
       "       'DANGEROUS', 'SAC', 'SX POST OP', 'OWN HOSPIT', 'ALUMNI',\n",
       "       'SPCA TEXAS', 'TRAP PROGRAM', 'AGG OPPS', 'OWN DECEAS', 'FOLLOWUP',\n",
       "       'ILLNESS', 'EVICTION', 'INJURED', 'SPAY/NEUT', 'OWN ARREST',\n",
       "       'FOR ADOPT', 'STRAY', 'ARC', 'VEHICLETOW', 'DISASTER',\n",
       "       'SAC DEAD ON ARRIVAL'], dtype=object)"
      ]
     },
     "execution_count": 303,
     "metadata": {},
     "output_type": "execute_result"
    }
   ],
   "source": [
    "texas_shelters['intake_subtype'].unique()"
   ]
  },
  {
   "cell_type": "code",
   "execution_count": 304,
   "metadata": {},
   "outputs": [
    {
     "data": {
      "text/plain": [
       "0              NaN\n",
       "1              NaN\n",
       "2              NaN\n",
       "3              NaN\n",
       "4              NaN\n",
       "            ...   \n",
       "132613    AT LARGE\n",
       "132614    AT LARGE\n",
       "132615    AT LARGE\n",
       "132616    AT LARGE\n",
       "132617    AT LARGE\n",
       "Name: intake_subtype, Length: 132618, dtype: object"
      ]
     },
     "execution_count": 304,
     "metadata": {},
     "output_type": "execute_result"
    }
   ],
   "source": [
    "texas_shelters['intake_subtype']"
   ]
  },
  {
   "cell_type": "code",
   "execution_count": 305,
   "metadata": {},
   "outputs": [
    {
     "data": {
      "text/plain": [
       "'at_large'"
      ]
     },
     "execution_count": 305,
     "metadata": {},
     "output_type": "execute_result"
    }
   ],
   "source": [
    "texas_shelters['intake_subtype'][132613].lower().replace(' ', '_')"
   ]
  },
  {
   "cell_type": "code",
   "execution_count": 306,
   "metadata": {},
   "outputs": [
    {
     "data": {
      "text/plain": [
       "'nan'"
      ]
     },
     "execution_count": 306,
     "metadata": {},
     "output_type": "execute_result"
    }
   ],
   "source": [
    "str(texas_shelters['intake_subtype'][0])"
   ]
  },
  {
   "cell_type": "code",
   "execution_count": 307,
   "metadata": {},
   "outputs": [
    {
     "name": "stderr",
     "output_type": "stream",
     "text": [
      "/var/folders/4l/vc1t1v4j7qd0h8x2x8dt42rw0000gn/T/ipykernel_8335/4121769332.py:3: SettingWithCopyWarning: \n",
      "A value is trying to be set on a copy of a slice from a DataFrame\n",
      "\n",
      "See the caveats in the documentation: https://pandas.pydata.org/pandas-docs/stable/user_guide/indexing.html#returning-a-view-versus-a-copy\n",
      "  texas_shelters['intake_subtype'][i] = texas_shelters['intake_subtype'][i].lower().replace(' ', '_')\n"
     ]
    }
   ],
   "source": [
    "for i in range(len(texas_shelters['intake_subtype'])):\n",
    "    if str(texas_shelters['intake_subtype'][i]) != 'nan':\n",
    "        texas_shelters['intake_subtype'][i] = texas_shelters['intake_subtype'][i].lower().replace(' ', '_')"
   ]
  },
  {
   "cell_type": "code",
   "execution_count": 308,
   "metadata": {},
   "outputs": [
    {
     "data": {
      "text/plain": [
       "array([nan, 'confined', 'at_large', 'return', 'general', 'appoint', 'web',\n",
       "       'quarantine', 'surgery', 'heart_worm', 'euthanasia_requested',\n",
       "       'return30', 'keep_safe', 'otc', 'treatment',\n",
       "       'keep_safe_dead_on_arrival', 'dead_on_arrival', 'other',\n",
       "       'quarantine_dead_on_arrival', 'died', 'field', 'cruelty',\n",
       "       'dangerous', 'sac', 'sx_post_op', 'own_hospit', 'alumni',\n",
       "       'spca_texas', 'trap_program', 'agg_opps', 'own_deceas', 'followup',\n",
       "       'illness', 'eviction', 'injured', 'spay/neut', 'own_arrest',\n",
       "       'for_adopt', 'stray', 'arc', 'vehicletow', 'disaster',\n",
       "       'sac_dead_on_arrival'], dtype=object)"
      ]
     },
     "execution_count": 308,
     "metadata": {},
     "output_type": "execute_result"
    }
   ],
   "source": [
    "texas_shelters['intake_subtype'].unique()"
   ]
  },
  {
   "cell_type": "markdown",
   "metadata": {},
   "source": [
    "### Condition"
   ]
  },
  {
   "cell_type": "code",
   "execution_count": 309,
   "metadata": {},
   "outputs": [
    {
     "data": {
      "text/plain": [
       "array(['Normal', 'Injured', 'Aged', 'Sick', 'Medical', 'Other',\n",
       "       'Pregnant', 'Nursing', 'Feral', 'Behavior', 'Neonatal',\n",
       "       'Med Urgent', 'Med Attn', 'APP WNL', 'APP SICK', 'NORMAL',\n",
       "       'UNKNOWN', 'APP INJ', 'TREATABLE REHABILITABLE NON-CONTAGIOUS',\n",
       "       'UNDERAGE', 'CRITICAL', 'DEAD', 'DECEASED', 'FATAL',\n",
       "       'UNHEALTHY UNTREATABLE NON-CONTAGIOUS',\n",
       "       'TREATABLE MANAGEABLE NON-CONTAGIOUS',\n",
       "       'TREATABLE MANAGEABLE CONTAGIOUS', 'HEALTHY',\n",
       "       'TREATABLE REHABILITABLE CONTAGIOUS'], dtype=object)"
      ]
     },
     "execution_count": 309,
     "metadata": {},
     "output_type": "execute_result"
    }
   ],
   "source": [
    "texas_shelters['condition'].unique()"
   ]
  },
  {
   "cell_type": "code",
   "execution_count": 310,
   "metadata": {},
   "outputs": [
    {
     "data": {
      "text/plain": [
       "0              wnl\n",
       "1         med_attn\n",
       "2             aged\n",
       "3              wnl\n",
       "4              wnl\n",
       "            ...   \n",
       "132613       other\n",
       "132614         wnl\n",
       "132615       other\n",
       "132616         wnl\n",
       "132617         wnl\n",
       "Name: condition, Length: 132618, dtype: object"
      ]
     },
     "execution_count": 310,
     "metadata": {},
     "output_type": "execute_result"
    }
   ],
   "source": [
    "texas_shelters['condition'].map(\n",
    "    {\n",
    "        'Normal':'wnl', 'APP WNL':'wnl', 'NORMAL':'wnl', 'HEALTHY':'wnl',\n",
    "        'Injured':'med_attn', 'Sick':'med_attn', 'Medical':'med_attn', 'Med Urgent':'med_attn', 'Med Attn':'med_attn', 'APP SICK':'med_attn', 'APP INJ':'med_attn',\n",
    "        'TREATABLE REHABILITABLE NON-CONTAGIOUS':'med_attn', 'CRITICAL':'med_attn', 'TREATABLE MANAGEABLE NON-CONTAGIOUS':'med_attn', \n",
    "        'TREATABLE MANAGEABLE CONTAGIOUS':'med_attn', 'TREATABLE REHABILITABLE CONTAGIOUS':'med_attn',\n",
    "        'Aged':'aged',\n",
    "        'Pregnant':'preg_nursing', 'Nursing':'preg_nursing',\n",
    "        'Neonatal':'underage', 'UNDERAGE':'underage',\n",
    "        'Feral':'behavioral', 'Behavior':'behavioral',\n",
    "        'DEAD':'doa_fatal', 'DECEASED':'doa_fatal', 'FATAL':'doa_fatal', 'UNHEALTHY UNTREATABLE NON-CONTAGIOUS':'doa_fatal', \n",
    "        'Other':'other', 'UNKNOWN':'other'\n",
    "    }\n",
    ")"
   ]
  },
  {
   "cell_type": "code",
   "execution_count": 311,
   "metadata": {},
   "outputs": [],
   "source": [
    "texas_shelters['condition'] = texas_shelters['condition'].map(\n",
    "    {\n",
    "        'Normal':'wnl', 'APP WNL':'wnl', 'NORMAL':'wnl', 'HEALTHY':'wnl',\n",
    "        'Injured':'med_attn', 'Sick':'med_attn', 'Medical':'med_attn', 'Med Urgent':'med_attn', 'Med Attn':'med_attn', 'APP SICK':'med_attn', 'APP INJ':'med_attn',\n",
    "        'TREATABLE REHABILITABLE NON-CONTAGIOUS':'med_attn', 'CRITICAL':'med_attn', 'TREATABLE MANAGEABLE NON-CONTAGIOUS':'med_attn', \n",
    "        'TREATABLE MANAGEABLE CONTAGIOUS':'med_attn', 'TREATABLE REHABILITABLE CONTAGIOUS':'med_attn',\n",
    "        'Aged':'aged',\n",
    "        'Pregnant':'preg_nursing', 'Nursing':'preg_nursing',\n",
    "        'Neonatal':'underage', 'UNDERAGE':'underage',\n",
    "        'Feral':'behavioral', 'Behavior':'behavioral',\n",
    "        'DEAD':'doa_fatal', 'DECEASED':'doa_fatal', 'FATAL':'doa_fatal', 'UNHEALTHY UNTREATABLE NON-CONTAGIOUS':'doa_fatal', \n",
    "        'Other':'other', 'UNKNOWN':'other'\n",
    "    }\n",
    ")"
   ]
  },
  {
   "cell_type": "code",
   "execution_count": 312,
   "metadata": {},
   "outputs": [
    {
     "data": {
      "text/plain": [
       "array(['wnl', 'med_attn', 'aged', 'other', 'preg_nursing', 'behavioral',\n",
       "       'underage', 'doa_fatal'], dtype=object)"
      ]
     },
     "execution_count": 312,
     "metadata": {},
     "output_type": "execute_result"
    }
   ],
   "source": [
    "texas_shelters['condition'].unique()"
   ]
  },
  {
   "cell_type": "markdown",
   "metadata": {},
   "source": [
    "### Date_out"
   ]
  },
  {
   "cell_type": "code",
   "execution_count": 313,
   "metadata": {},
   "outputs": [
    {
     "data": {
      "text/plain": [
       "0         1396883520.0\n",
       "1         1384602840.0\n",
       "2         1384688400.0\n",
       "3         1415993280.0\n",
       "4         1410798900.0\n",
       "              ...     \n",
       "132613             NaN\n",
       "132614             NaN\n",
       "132615             NaN\n",
       "132616             NaN\n",
       "132617             NaN\n",
       "Name: date_out, Length: 132618, dtype: object"
      ]
     },
     "execution_count": 313,
     "metadata": {},
     "output_type": "execute_result"
    }
   ],
   "source": [
    "texas_shelters['date_out']"
   ]
  },
  {
   "cell_type": "markdown",
   "metadata": {},
   "source": [
    "### Intact_out"
   ]
  },
  {
   "cell_type": "code",
   "execution_count": 314,
   "metadata": {},
   "outputs": [
    {
     "data": {
      "text/plain": [
       "array([0, 1, nan], dtype=object)"
      ]
     },
     "execution_count": 314,
     "metadata": {},
     "output_type": "execute_result"
    }
   ],
   "source": [
    "texas_shelters['intact_out'].unique()"
   ]
  },
  {
   "cell_type": "markdown",
   "metadata": {},
   "source": [
    "### Outcome"
   ]
  },
  {
   "cell_type": "code",
   "execution_count": 315,
   "metadata": {},
   "outputs": [
    {
     "data": {
      "text/plain": [
       "array(['Transfer', 'Return to Owner', 'Adoption', 'Euthanasia', 'Died',\n",
       "       'Rto-Adopt', 'Missing', 'Disposal', 'ADOPTION',\n",
       "       'RETURNED TO OWNER', 'TRANSFER', 'EUTHANIZED', 'FOUND EXP',\n",
       "       'LOST EXP', 'FOSTER', 'DIED', 'TREATMENT', 'DEAD ON ARRIVAL',\n",
       "       'MISSING', 'DISPOSAL', 'OTHER'], dtype=object)"
      ]
     },
     "execution_count": 315,
     "metadata": {},
     "output_type": "execute_result"
    }
   ],
   "source": [
    "texas_shelters['outcome'].unique()"
   ]
  },
  {
   "cell_type": "code",
   "execution_count": 316,
   "metadata": {},
   "outputs": [
    {
     "data": {
      "text/plain": [
       "(132618, 17)"
      ]
     },
     "execution_count": 316,
     "metadata": {},
     "output_type": "execute_result"
    }
   ],
   "source": [
    "texas_shelters.shape"
   ]
  },
  {
   "cell_type": "code",
   "execution_count": 317,
   "metadata": {},
   "outputs": [
    {
     "data": {
      "text/plain": [
       "0             transfer\n",
       "1         owner_return\n",
       "2         owner_return\n",
       "3         owner_return\n",
       "4         owner_return\n",
       "              ...     \n",
       "132613    owner_return\n",
       "132614    owner_return\n",
       "132615    owner_return\n",
       "132616    owner_return\n",
       "132617    owner_return\n",
       "Name: outcome, Length: 132618, dtype: object"
      ]
     },
     "execution_count": 317,
     "metadata": {},
     "output_type": "execute_result"
    }
   ],
   "source": [
    "texas_shelters['outcome'].map(\n",
    "    {\n",
    "        'Transfer':'transfer', 'TRANSFER':'transfer',\n",
    "        'Return to Owner':'owner_return', 'Rto-Adopt':'owner_return', 'RETURNED TO OWNER':'owner_return',\n",
    "        'Adoption':'adopted', 'ADOPTION':'adopted',\n",
    "        'FOSTER':'fostered',\n",
    "        'Euthanasia':'deceased', 'Died':'deceased', 'Disposal':'deceased', 'EUTHANIZED':'deceased', 'DIED':'deceased', \n",
    "        'DEAD ON ARRIVAL':'deceased', 'DISPOSAL':'deceased', 'FOUND EXP':'deceased', 'LOST EXP':'deceased',\n",
    "        'Missing':'missing', 'MISSING':'missing',\n",
    "        'TREATMENT':'treatment',\n",
    "        'OTHER':'other'\n",
    "    }\n",
    ")"
   ]
  },
  {
   "cell_type": "code",
   "execution_count": 318,
   "metadata": {},
   "outputs": [],
   "source": [
    "texas_shelters['outcome'] = texas_shelters['outcome'].map(\n",
    "    {\n",
    "        'Transfer':'transfer', 'TRANSFER':'transfer',\n",
    "        'Return to Owner':'owner_return', 'Rto-Adopt':'owner_return', 'RETURNED TO OWNER':'owner_return',\n",
    "        'Adoption':'adopted', 'ADOPTION':'adopted',\n",
    "        'FOSTER':'fostered',\n",
    "        'Euthanasia':'deceased', 'Died':'deceased', 'Disposal':'deceased', 'EUTHANIZED':'deceased', 'DIED':'deceased', \n",
    "        'DEAD ON ARRIVAL':'deceased', 'DISPOSAL':'deceased', 'FOUND EXP':'deceased', 'LOST EXP':'deceased',\n",
    "        'Missing':'missing', 'MISSING':'missing',\n",
    "        'TREATMENT':'treatment',\n",
    "        'OTHER':'other'\n",
    "    }\n",
    ")"
   ]
  },
  {
   "cell_type": "code",
   "execution_count": 319,
   "metadata": {},
   "outputs": [
    {
     "data": {
      "text/plain": [
       "array(['transfer', 'owner_return', 'adopted', 'deceased', 'missing',\n",
       "       'fostered', 'treatment', 'other'], dtype=object)"
      ]
     },
     "execution_count": 319,
     "metadata": {},
     "output_type": "execute_result"
    }
   ],
   "source": [
    "texas_shelters['outcome'].unique()"
   ]
  },
  {
   "cell_type": "markdown",
   "metadata": {},
   "source": [
    "### Outcome_sub"
   ]
  },
  {
   "cell_type": "code",
   "execution_count": 320,
   "metadata": {},
   "outputs": [
    {
     "data": {
      "text/plain": [
       "array(['Partner', nan, 'Foster', 'Suffering', 'Medical', 'Behavior',\n",
       "       'In Kennel', 'Aggressive', 'At Vet', 'Rabies Risk', 'Field',\n",
       "       'Offsite', 'Out State', 'Possible Theft', 'Court/Investigation',\n",
       "       'In Foster', 'Enroute', 'In Surgery', 'Barn', 'Customer S', 'Prc',\n",
       "       'Emer', 'Emergency', 'In State', 'WALK IN', 'TRANSPORT',\n",
       "       'UNDERAGE', 'BEHAVIOR', 'FIELD', 'OTHER', 'MEDICAL-CONTAGIOUS',\n",
       "       'MEDICAL-NONCONTAGIOUS', 'SURGERY', 'IN KENNEL', 'COMPLETED',\n",
       "       'BITE', 'WESTMORELD', 'EAC', 'PROMOTION', 'GENERAL', 'HUMANE',\n",
       "       'SHORT TERM', 'OFFSITE', 'TELEADOPT', 'TREATMENT', 'TRANS-INV',\n",
       "       'NTCOMPLETE', 'ADOPETS', 'DISPOSAL', 'TO ADOPT', 'HOLD',\n",
       "       'BY FOSTER', 'IN FOSTER', 'MICROCHIP', 'EVENT', 'INV', 'STOLEN',\n",
       "       'MEDICAL', 'ESCAPED', 'SBI', 'APPOINT', 'AT VETERINARIAN', 'DOA',\n",
       "       'DD/AGG', 'ENROUTE', 'ARC', 'REFERRAL', 'IN SURGERY', 'AT HOME',\n",
       "       'DISASTER', 'SPACE', 'TAG NUMBER', 'SPCA TEXAS', 'DAS OUTREACH',\n",
       "       'STAFF', 'RETURN'], dtype=object)"
      ]
     },
     "execution_count": 320,
     "metadata": {},
     "output_type": "execute_result"
    }
   ],
   "source": [
    "texas_shelters['outcome_sub'].unique()"
   ]
  },
  {
   "cell_type": "code",
   "execution_count": 321,
   "metadata": {},
   "outputs": [
    {
     "name": "stderr",
     "output_type": "stream",
     "text": [
      "/var/folders/4l/vc1t1v4j7qd0h8x2x8dt42rw0000gn/T/ipykernel_8335/2523050174.py:3: SettingWithCopyWarning: \n",
      "A value is trying to be set on a copy of a slice from a DataFrame\n",
      "\n",
      "See the caveats in the documentation: https://pandas.pydata.org/pandas-docs/stable/user_guide/indexing.html#returning-a-view-versus-a-copy\n",
      "  texas_shelters['outcome_sub'][i] = texas_shelters['outcome_sub'][i].lower().replace(' ', '_')\n"
     ]
    }
   ],
   "source": [
    "for i in range(len(texas_shelters['outcome_sub'])):\n",
    "    if str(texas_shelters['outcome_sub'][i]) != 'nan':\n",
    "        texas_shelters['outcome_sub'][i] = texas_shelters['outcome_sub'][i].lower().replace(' ', '_')"
   ]
  },
  {
   "cell_type": "code",
   "execution_count": 322,
   "metadata": {},
   "outputs": [
    {
     "data": {
      "text/plain": [
       "array(['partner', nan, 'foster', 'suffering', 'medical', 'behavior',\n",
       "       'in_kennel', 'aggressive', 'at_vet', 'rabies_risk', 'field',\n",
       "       'offsite', 'out_state', 'possible_theft', 'court/investigation',\n",
       "       'in_foster', 'enroute', 'in_surgery', 'barn', 'customer_s', 'prc',\n",
       "       'emer', 'emergency', 'in_state', 'walk_in', 'transport',\n",
       "       'underage', 'other', 'medical-contagious', 'medical-noncontagious',\n",
       "       'surgery', 'completed', 'bite', 'westmoreld', 'eac', 'promotion',\n",
       "       'general', 'humane', 'short_term', 'teleadopt', 'treatment',\n",
       "       'trans-inv', 'ntcomplete', 'adopets', 'disposal', 'to_adopt',\n",
       "       'hold', 'by_foster', 'microchip', 'event', 'inv', 'stolen',\n",
       "       'escaped', 'sbi', 'appoint', 'at_veterinarian', 'doa', 'dd/agg',\n",
       "       'arc', 'referral', 'at_home', 'disaster', 'space', 'tag_number',\n",
       "       'spca_texas', 'das_outreach', 'staff', 'return'], dtype=object)"
      ]
     },
     "execution_count": 322,
     "metadata": {},
     "output_type": "execute_result"
    }
   ],
   "source": [
    "texas_shelters['outcome_sub'].unique()"
   ]
  },
  {
   "cell_type": "code",
   "execution_count": 323,
   "metadata": {},
   "outputs": [
    {
     "data": {
      "text/plain": [
       "outcome_sub    81459\n",
       "dtype: int64"
      ]
     },
     "execution_count": 323,
     "metadata": {},
     "output_type": "execute_result"
    }
   ],
   "source": [
    "texas_shelters[['outcome_sub']].isna().sum()"
   ]
  },
  {
   "cell_type": "code",
   "execution_count": 324,
   "metadata": {},
   "outputs": [
    {
     "data": {
      "text/plain": [
       "(132618, 17)"
      ]
     },
     "execution_count": 324,
     "metadata": {},
     "output_type": "execute_result"
    }
   ],
   "source": [
    "texas_shelters.shape"
   ]
  },
  {
   "cell_type": "markdown",
   "metadata": {},
   "source": [
    "### Add age column"
   ]
  },
  {
   "cell_type": "code",
   "execution_count": 325,
   "metadata": {},
   "outputs": [],
   "source": [
    "age_cats = {\n",
    "    0: 'Baby',\n",
    "    1: 'Young',\n",
    "    2: 'Adult', 3: 'Adult', 4: 'Adult', 5: 'Adult', 6: 'Adult', 7: 'Adult', 8: 'Adult',\n",
    "    9: 'Senior', 10: 'Senior', 11: 'Senior', 12: 'Senior', 13: 'Senior', 14: 'Senior', 15: 'Senior', 16: 'Senior', \n",
    "    17: 'Senior', 18: 'Senior', 19: 'Senior', 20: 'Senior', 21: 'Senior', 22: 'Senior', 23: 'Senior', 24: 'Senior', \n",
    "    25: 'Senior', 26: 'Senior', 27: 'Senior', 28: 'Senior', 29: 'Senior', 30: 'Senior',\n",
    "    np.nan: 'Adult' \n",
    "}"
   ]
  },
  {
   "cell_type": "code",
   "execution_count": 326,
   "metadata": {},
   "outputs": [],
   "source": [
    "texas_shelters['age'] = texas_shelters['age_out'].map(age_cats)"
   ]
  },
  {
   "cell_type": "code",
   "execution_count": 327,
   "metadata": {},
   "outputs": [
    {
     "data": {
      "text/html": [
       "<div>\n",
       "<style scoped>\n",
       "    .dataframe tbody tr th:only-of-type {\n",
       "        vertical-align: middle;\n",
       "    }\n",
       "\n",
       "    .dataframe tbody tr th {\n",
       "        vertical-align: top;\n",
       "    }\n",
       "\n",
       "    .dataframe thead th {\n",
       "        text-align: right;\n",
       "    }\n",
       "</style>\n",
       "<table border=\"1\" class=\"dataframe\">\n",
       "  <thead>\n",
       "    <tr style=\"text-align: right;\">\n",
       "      <th></th>\n",
       "      <th>id</th>\n",
       "      <th>breed</th>\n",
       "      <th>color</th>\n",
       "      <th>dob</th>\n",
       "      <th>sex</th>\n",
       "      <th>date_in</th>\n",
       "      <th>age_in</th>\n",
       "      <th>intact_in</th>\n",
       "      <th>location</th>\n",
       "      <th>intake_type</th>\n",
       "      <th>intake_subtype</th>\n",
       "      <th>condition</th>\n",
       "      <th>date_out</th>\n",
       "      <th>age_out</th>\n",
       "      <th>intact_out</th>\n",
       "      <th>outcome</th>\n",
       "      <th>outcome_sub</th>\n",
       "      <th>age</th>\n",
       "    </tr>\n",
       "  </thead>\n",
       "  <tbody>\n",
       "    <tr>\n",
       "      <th>0</th>\n",
       "      <td>A047759</td>\n",
       "      <td>Dachshund</td>\n",
       "      <td>Tricolor</td>\n",
       "      <td>1080864000.0</td>\n",
       "      <td>1</td>\n",
       "      <td>1.396454e+09</td>\n",
       "      <td>10.0</td>\n",
       "      <td>0</td>\n",
       "      <td>Austin (TX)</td>\n",
       "      <td>surrender</td>\n",
       "      <td>NaN</td>\n",
       "      <td>wnl</td>\n",
       "      <td>1396883520.0</td>\n",
       "      <td>10.0</td>\n",
       "      <td>0</td>\n",
       "      <td>transfer</td>\n",
       "      <td>partner</td>\n",
       "      <td>Senior</td>\n",
       "    </tr>\n",
       "    <tr>\n",
       "      <th>1</th>\n",
       "      <td>A134067</td>\n",
       "      <td>Shetland Sheepdog</td>\n",
       "      <td>Brown/White</td>\n",
       "      <td>876960000.0</td>\n",
       "      <td>1</td>\n",
       "      <td>1.384593e+09</td>\n",
       "      <td>16.0</td>\n",
       "      <td>0</td>\n",
       "      <td>12034 Research Blvd in Austin (TX)</td>\n",
       "      <td>public_assist</td>\n",
       "      <td>NaN</td>\n",
       "      <td>med_attn</td>\n",
       "      <td>1384602840.0</td>\n",
       "      <td>16.0</td>\n",
       "      <td>0</td>\n",
       "      <td>owner_return</td>\n",
       "      <td>NaN</td>\n",
       "      <td>Senior</td>\n",
       "    </tr>\n",
       "    <tr>\n",
       "      <th>2</th>\n",
       "      <td>A141142</td>\n",
       "      <td>Labrador Retriever/Pit Bull</td>\n",
       "      <td>Black/White</td>\n",
       "      <td>896659200.0</td>\n",
       "      <td>0</td>\n",
       "      <td>1.384613e+09</td>\n",
       "      <td>15.0</td>\n",
       "      <td>0</td>\n",
       "      <td>Austin (TX)</td>\n",
       "      <td>stray</td>\n",
       "      <td>NaN</td>\n",
       "      <td>aged</td>\n",
       "      <td>1384688400.0</td>\n",
       "      <td>15.0</td>\n",
       "      <td>0</td>\n",
       "      <td>owner_return</td>\n",
       "      <td>NaN</td>\n",
       "      <td>Senior</td>\n",
       "    </tr>\n",
       "    <tr>\n",
       "      <th>3</th>\n",
       "      <td>A163459</td>\n",
       "      <td>Miniature Schnauzer Mix</td>\n",
       "      <td>Black/Gray</td>\n",
       "      <td>940291200.0</td>\n",
       "      <td>0</td>\n",
       "      <td>1.415978e+09</td>\n",
       "      <td>15.0</td>\n",
       "      <td>1</td>\n",
       "      <td>Ih 35 And 41St St in Austin (TX)</td>\n",
       "      <td>stray</td>\n",
       "      <td>NaN</td>\n",
       "      <td>wnl</td>\n",
       "      <td>1415993280.0</td>\n",
       "      <td>15.0</td>\n",
       "      <td>1</td>\n",
       "      <td>owner_return</td>\n",
       "      <td>NaN</td>\n",
       "      <td>Senior</td>\n",
       "    </tr>\n",
       "    <tr>\n",
       "      <th>4</th>\n",
       "      <td>A165752</td>\n",
       "      <td>Lhasa Apso Mix</td>\n",
       "      <td>Brown/White</td>\n",
       "      <td>934934400.0</td>\n",
       "      <td>1</td>\n",
       "      <td>1.410780e+09</td>\n",
       "      <td>15.0</td>\n",
       "      <td>0</td>\n",
       "      <td>Gatlin Gun Rd And Brodie in Austin (TX)</td>\n",
       "      <td>stray</td>\n",
       "      <td>NaN</td>\n",
       "      <td>wnl</td>\n",
       "      <td>1410798900.0</td>\n",
       "      <td>15.0</td>\n",
       "      <td>0</td>\n",
       "      <td>owner_return</td>\n",
       "      <td>NaN</td>\n",
       "      <td>Senior</td>\n",
       "    </tr>\n",
       "  </tbody>\n",
       "</table>\n",
       "</div>"
      ],
      "text/plain": [
       "        id                        breed        color           dob sex  \\\n",
       "0  A047759                    Dachshund     Tricolor  1080864000.0   1   \n",
       "1  A134067            Shetland Sheepdog  Brown/White   876960000.0   1   \n",
       "2  A141142  Labrador Retriever/Pit Bull  Black/White   896659200.0   0   \n",
       "3  A163459      Miniature Schnauzer Mix   Black/Gray   940291200.0   0   \n",
       "4  A165752               Lhasa Apso Mix  Brown/White   934934400.0   1   \n",
       "\n",
       "        date_in age_in intact_in                                 location  \\\n",
       "0  1.396454e+09   10.0         0                              Austin (TX)   \n",
       "1  1.384593e+09   16.0         0       12034 Research Blvd in Austin (TX)   \n",
       "2  1.384613e+09   15.0         0                              Austin (TX)   \n",
       "3  1.415978e+09   15.0         1         Ih 35 And 41St St in Austin (TX)   \n",
       "4  1.410780e+09   15.0         0  Gatlin Gun Rd And Brodie in Austin (TX)   \n",
       "\n",
       "     intake_type intake_subtype condition      date_out age_out intact_out  \\\n",
       "0      surrender            NaN       wnl  1396883520.0    10.0          0   \n",
       "1  public_assist            NaN  med_attn  1384602840.0    16.0          0   \n",
       "2          stray            NaN      aged  1384688400.0    15.0          0   \n",
       "3          stray            NaN       wnl  1415993280.0    15.0          1   \n",
       "4          stray            NaN       wnl  1410798900.0    15.0          0   \n",
       "\n",
       "        outcome outcome_sub     age  \n",
       "0      transfer     partner  Senior  \n",
       "1  owner_return         NaN  Senior  \n",
       "2  owner_return         NaN  Senior  \n",
       "3  owner_return         NaN  Senior  \n",
       "4  owner_return         NaN  Senior  "
      ]
     },
     "execution_count": 327,
     "metadata": {},
     "output_type": "execute_result"
    }
   ],
   "source": [
    "texas_shelters.head()"
   ]
  },
  {
   "cell_type": "markdown",
   "metadata": {},
   "source": [
    "### Round age_out and age_in"
   ]
  },
  {
   "cell_type": "code",
   "execution_count": 328,
   "metadata": {},
   "outputs": [
    {
     "name": "stderr",
     "output_type": "stream",
     "text": [
      "/var/folders/4l/vc1t1v4j7qd0h8x2x8dt42rw0000gn/T/ipykernel_8335/274354489.py:3: SettingWithCopyWarning: \n",
      "A value is trying to be set on a copy of a slice from a DataFrame\n",
      "\n",
      "See the caveats in the documentation: https://pandas.pydata.org/pandas-docs/stable/user_guide/indexing.html#returning-a-view-versus-a-copy\n",
      "  texas_shelters['age_in'][i] = np.round(texas_shelters['age_in'][i], 0)\n"
     ]
    }
   ],
   "source": [
    "for i in range(len(texas_shelters['age_in'])):\n",
    "    if str(texas_shelters['age_in'][i]) != 'nan':\n",
    "        texas_shelters['age_in'][i] = np.round(texas_shelters['age_in'][i], 0)"
   ]
  },
  {
   "cell_type": "code",
   "execution_count": 330,
   "metadata": {},
   "outputs": [
    {
     "data": {
      "text/plain": [
       "array([10.0, 16.0, 15.0, 18.0, 14.0, 17.0, 13.0, 12.0, 11.0, 9.0, 8.0,\n",
       "       7.0, 6.0, 3.0, 19.0, 23.0, 5.0, 4.0, 2.0, 1.0, 0.0, 20.0, 24.0,\n",
       "       nan], dtype=object)"
      ]
     },
     "execution_count": 330,
     "metadata": {},
     "output_type": "execute_result"
    }
   ],
   "source": [
    "texas_shelters['age_in'].unique()"
   ]
  },
  {
   "cell_type": "code",
   "execution_count": 332,
   "metadata": {},
   "outputs": [
    {
     "name": "stderr",
     "output_type": "stream",
     "text": [
      "/var/folders/4l/vc1t1v4j7qd0h8x2x8dt42rw0000gn/T/ipykernel_8335/486842220.py:3: SettingWithCopyWarning: \n",
      "A value is trying to be set on a copy of a slice from a DataFrame\n",
      "\n",
      "See the caveats in the documentation: https://pandas.pydata.org/pandas-docs/stable/user_guide/indexing.html#returning-a-view-versus-a-copy\n",
      "  texas_shelters['age_out'][i] = np.round(texas_shelters['age_out'][i], 0)\n"
     ]
    }
   ],
   "source": [
    "for i in range(len(texas_shelters['age_out'])):\n",
    "    if str(texas_shelters['age_out'][i]) != 'nan':\n",
    "        texas_shelters['age_out'][i] = np.round(texas_shelters['age_out'][i], 0)"
   ]
  },
  {
   "cell_type": "code",
   "execution_count": 333,
   "metadata": {},
   "outputs": [
    {
     "data": {
      "text/plain": [
       "array([10.0, 16.0, 15.0, 18.0, 14.0, 17.0, 13.0, 12.0, 11.0, 9.0, 8.0,\n",
       "       7.0, 6.0, 3.0, 19.0, 23.0, 5.0, 4.0, 2.0, 1.0, 0.0, 20.0, 24.0,\n",
       "       nan], dtype=object)"
      ]
     },
     "execution_count": 333,
     "metadata": {},
     "output_type": "execute_result"
    }
   ],
   "source": [
    "texas_shelters['age_out'].unique()"
   ]
  },
  {
   "cell_type": "markdown",
   "metadata": {},
   "source": [
    "### Save changes to csv"
   ]
  },
  {
   "cell_type": "code",
   "execution_count": 334,
   "metadata": {},
   "outputs": [
    {
     "data": {
      "text/html": [
       "<div>\n",
       "<style scoped>\n",
       "    .dataframe tbody tr th:only-of-type {\n",
       "        vertical-align: middle;\n",
       "    }\n",
       "\n",
       "    .dataframe tbody tr th {\n",
       "        vertical-align: top;\n",
       "    }\n",
       "\n",
       "    .dataframe thead th {\n",
       "        text-align: right;\n",
       "    }\n",
       "</style>\n",
       "<table border=\"1\" class=\"dataframe\">\n",
       "  <thead>\n",
       "    <tr style=\"text-align: right;\">\n",
       "      <th></th>\n",
       "      <th>id</th>\n",
       "      <th>breed</th>\n",
       "      <th>color</th>\n",
       "      <th>dob</th>\n",
       "      <th>sex</th>\n",
       "      <th>date_in</th>\n",
       "      <th>age_in</th>\n",
       "      <th>intact_in</th>\n",
       "      <th>location</th>\n",
       "      <th>intake_type</th>\n",
       "      <th>intake_subtype</th>\n",
       "      <th>condition</th>\n",
       "      <th>date_out</th>\n",
       "      <th>age_out</th>\n",
       "      <th>intact_out</th>\n",
       "      <th>outcome</th>\n",
       "      <th>outcome_sub</th>\n",
       "      <th>age</th>\n",
       "    </tr>\n",
       "  </thead>\n",
       "  <tbody>\n",
       "    <tr>\n",
       "      <th>0</th>\n",
       "      <td>A047759</td>\n",
       "      <td>Dachshund</td>\n",
       "      <td>Tricolor</td>\n",
       "      <td>1080864000.0</td>\n",
       "      <td>1</td>\n",
       "      <td>1.396454e+09</td>\n",
       "      <td>10.0</td>\n",
       "      <td>0</td>\n",
       "      <td>Austin (TX)</td>\n",
       "      <td>surrender</td>\n",
       "      <td>NaN</td>\n",
       "      <td>wnl</td>\n",
       "      <td>1396883520.0</td>\n",
       "      <td>10.0</td>\n",
       "      <td>0</td>\n",
       "      <td>transfer</td>\n",
       "      <td>partner</td>\n",
       "      <td>Senior</td>\n",
       "    </tr>\n",
       "    <tr>\n",
       "      <th>1</th>\n",
       "      <td>A134067</td>\n",
       "      <td>Shetland Sheepdog</td>\n",
       "      <td>Brown/White</td>\n",
       "      <td>876960000.0</td>\n",
       "      <td>1</td>\n",
       "      <td>1.384593e+09</td>\n",
       "      <td>16.0</td>\n",
       "      <td>0</td>\n",
       "      <td>12034 Research Blvd in Austin (TX)</td>\n",
       "      <td>public_assist</td>\n",
       "      <td>NaN</td>\n",
       "      <td>med_attn</td>\n",
       "      <td>1384602840.0</td>\n",
       "      <td>16.0</td>\n",
       "      <td>0</td>\n",
       "      <td>owner_return</td>\n",
       "      <td>NaN</td>\n",
       "      <td>Senior</td>\n",
       "    </tr>\n",
       "    <tr>\n",
       "      <th>2</th>\n",
       "      <td>A141142</td>\n",
       "      <td>Labrador Retriever/Pit Bull</td>\n",
       "      <td>Black/White</td>\n",
       "      <td>896659200.0</td>\n",
       "      <td>0</td>\n",
       "      <td>1.384613e+09</td>\n",
       "      <td>15.0</td>\n",
       "      <td>0</td>\n",
       "      <td>Austin (TX)</td>\n",
       "      <td>stray</td>\n",
       "      <td>NaN</td>\n",
       "      <td>aged</td>\n",
       "      <td>1384688400.0</td>\n",
       "      <td>15.0</td>\n",
       "      <td>0</td>\n",
       "      <td>owner_return</td>\n",
       "      <td>NaN</td>\n",
       "      <td>Senior</td>\n",
       "    </tr>\n",
       "    <tr>\n",
       "      <th>3</th>\n",
       "      <td>A163459</td>\n",
       "      <td>Miniature Schnauzer Mix</td>\n",
       "      <td>Black/Gray</td>\n",
       "      <td>940291200.0</td>\n",
       "      <td>0</td>\n",
       "      <td>1.415978e+09</td>\n",
       "      <td>15.0</td>\n",
       "      <td>1</td>\n",
       "      <td>Ih 35 And 41St St in Austin (TX)</td>\n",
       "      <td>stray</td>\n",
       "      <td>NaN</td>\n",
       "      <td>wnl</td>\n",
       "      <td>1415993280.0</td>\n",
       "      <td>15.0</td>\n",
       "      <td>1</td>\n",
       "      <td>owner_return</td>\n",
       "      <td>NaN</td>\n",
       "      <td>Senior</td>\n",
       "    </tr>\n",
       "    <tr>\n",
       "      <th>4</th>\n",
       "      <td>A165752</td>\n",
       "      <td>Lhasa Apso Mix</td>\n",
       "      <td>Brown/White</td>\n",
       "      <td>934934400.0</td>\n",
       "      <td>1</td>\n",
       "      <td>1.410780e+09</td>\n",
       "      <td>15.0</td>\n",
       "      <td>0</td>\n",
       "      <td>Gatlin Gun Rd And Brodie in Austin (TX)</td>\n",
       "      <td>stray</td>\n",
       "      <td>NaN</td>\n",
       "      <td>wnl</td>\n",
       "      <td>1410798900.0</td>\n",
       "      <td>15.0</td>\n",
       "      <td>0</td>\n",
       "      <td>owner_return</td>\n",
       "      <td>NaN</td>\n",
       "      <td>Senior</td>\n",
       "    </tr>\n",
       "  </tbody>\n",
       "</table>\n",
       "</div>"
      ],
      "text/plain": [
       "        id                        breed        color           dob sex  \\\n",
       "0  A047759                    Dachshund     Tricolor  1080864000.0   1   \n",
       "1  A134067            Shetland Sheepdog  Brown/White   876960000.0   1   \n",
       "2  A141142  Labrador Retriever/Pit Bull  Black/White   896659200.0   0   \n",
       "3  A163459      Miniature Schnauzer Mix   Black/Gray   940291200.0   0   \n",
       "4  A165752               Lhasa Apso Mix  Brown/White   934934400.0   1   \n",
       "\n",
       "        date_in age_in intact_in                                 location  \\\n",
       "0  1.396454e+09   10.0         0                              Austin (TX)   \n",
       "1  1.384593e+09   16.0         0       12034 Research Blvd in Austin (TX)   \n",
       "2  1.384613e+09   15.0         0                              Austin (TX)   \n",
       "3  1.415978e+09   15.0         1         Ih 35 And 41St St in Austin (TX)   \n",
       "4  1.410780e+09   15.0         0  Gatlin Gun Rd And Brodie in Austin (TX)   \n",
       "\n",
       "     intake_type intake_subtype condition      date_out age_out intact_out  \\\n",
       "0      surrender            NaN       wnl  1396883520.0    10.0          0   \n",
       "1  public_assist            NaN  med_attn  1384602840.0    16.0          0   \n",
       "2          stray            NaN      aged  1384688400.0    15.0          0   \n",
       "3          stray            NaN       wnl  1415993280.0    15.0          1   \n",
       "4          stray            NaN       wnl  1410798900.0    15.0          0   \n",
       "\n",
       "        outcome outcome_sub     age  \n",
       "0      transfer     partner  Senior  \n",
       "1  owner_return         NaN  Senior  \n",
       "2  owner_return         NaN  Senior  \n",
       "3  owner_return         NaN  Senior  \n",
       "4  owner_return         NaN  Senior  "
      ]
     },
     "execution_count": 334,
     "metadata": {},
     "output_type": "execute_result"
    }
   ],
   "source": [
    "texas_shelters.head()"
   ]
  },
  {
   "cell_type": "code",
   "execution_count": 336,
   "metadata": {},
   "outputs": [],
   "source": [
    "texas_shelters.to_csv('/Users/annarutledge/Documents/general_assembly/project4/datasets/cleaned_data/texas_shelters_update.csv')"
   ]
  },
  {
   "cell_type": "code",
   "execution_count": null,
   "metadata": {},
   "outputs": [],
   "source": []
  }
 ],
 "metadata": {
  "interpreter": {
   "hash": "c90bd41498bd2909e03bc4813e3fc894d3d64fd4c32b3cf57272642761dbfb5b"
  },
  "kernelspec": {
   "display_name": "Python 3.9.7 ('base')",
   "language": "python",
   "name": "python3"
  },
  "language_info": {
   "codemirror_mode": {
    "name": "ipython",
    "version": 3
   },
   "file_extension": ".py",
   "mimetype": "text/x-python",
   "name": "python",
   "nbconvert_exporter": "python",
   "pygments_lexer": "ipython3",
   "version": "3.9.7"
  },
  "orig_nbformat": 4
 },
 "nbformat": 4,
 "nbformat_minor": 2
}
